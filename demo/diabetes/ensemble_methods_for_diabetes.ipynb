{
 "cells": [
  {
   "cell_type": "markdown",
   "id": "7f3d50fd-5c38-4279-81e3-8a50713fd046",
   "metadata": {},
   "source": [
    "# Classification case study - Ensemble methods"
   ]
  },
  {
   "cell_type": "markdown",
   "id": "865c9fe1-eefa-424d-811b-d7ecfa8fb281",
   "metadata": {},
   "source": [
    "# import libraries"
   ]
  },
  {
   "cell_type": "code",
   "execution_count": 1,
   "id": "13d375ef-c20d-44e3-ac9c-6b95dc5aad6e",
   "metadata": {},
   "outputs": [],
   "source": [
    "# IMPORTING REQUIRED PACKAGES\n",
    "import pandas as pd\n",
    "import numpy as np\n",
    "import seaborn as sns\n",
    "import matplotlib.pyplot as plt\n",
    "%matplotlib inline\n",
    "sns.set(style = \"white\")"
   ]
  },
  {
   "cell_type": "markdown",
   "id": "7a41d609-f915-47c6-8565-d75d36e3fd18",
   "metadata": {},
   "source": [
    "# Load data from final train csv"
   ]
  },
  {
   "cell_type": "code",
   "execution_count": 2,
   "id": "b5051e1f-6e64-41a7-b1c2-7ef73df5df02",
   "metadata": {},
   "outputs": [],
   "source": [
    "train = pd.read_csv(\"final_train.csv\")"
   ]
  },
  {
   "cell_type": "code",
   "execution_count": 3,
   "id": "ec10158b-00a1-450f-bc3e-f0b5b0943e58",
   "metadata": {},
   "outputs": [],
   "source": [
    "X = train.drop(columns = [\"Outcome\"])\n",
    "y = train.Outcome"
   ]
  },
  {
   "cell_type": "code",
   "execution_count": 4,
   "id": "79ee1fc5-e316-4159-bdfc-1a2a65da8f53",
   "metadata": {},
   "outputs": [
    {
     "data": {
      "text/plain": [
       "Index(['Pregnancies', 'Glucose', 'BloodPressure', 'SkinThickness', 'Insulin',\n",
       "       'BMI', 'DiabetesPedigreeFunction', 'Age', 'InsulinLog'],\n",
       "      dtype='object')"
      ]
     },
     "execution_count": 4,
     "metadata": {},
     "output_type": "execute_result"
    }
   ],
   "source": [
    "X.columns"
   ]
  },
  {
   "cell_type": "markdown",
   "id": "4684570c-789c-4ae2-ae3d-73499b54a706",
   "metadata": {},
   "source": [
    "# Split data into train and test"
   ]
  },
  {
   "cell_type": "code",
   "execution_count": 5,
   "id": "5c109fca-3aa2-40aa-aacc-2df073957030",
   "metadata": {},
   "outputs": [],
   "source": [
    "from sklearn.model_selection import train_test_split\n",
    "from sklearn.metrics import confusion_matrix, classification_report, accuracy_score\n",
    "X_train, X_test, y_train, y_test  = train_test_split(X, y, test_size = 0.2, random_state = 0)"
   ]
  },
  {
   "cell_type": "markdown",
   "id": "f25ee848-14ee-4704-8184-875307c8c442",
   "metadata": {},
   "source": [
    "# Bagging - Random state classifier"
   ]
  },
  {
   "cell_type": "code",
   "execution_count": 6,
   "id": "b034c20a-9ddd-4146-b6f2-b74bec7635a4",
   "metadata": {},
   "outputs": [],
   "source": [
    "from sklearn.tree import export_text\n",
    "from sklearn.ensemble import RandomForestClassifier"
   ]
  },
  {
   "cell_type": "code",
   "execution_count": 7,
   "id": "efb374a9-efe2-48f4-809a-f3c91c57aba2",
   "metadata": {},
   "outputs": [
    {
     "data": {
      "text/plain": [
       "RandomForestClassifier(max_depth=5, n_estimators=5, random_state=1)"
      ]
     },
     "execution_count": 7,
     "metadata": {},
     "output_type": "execute_result"
    }
   ],
   "source": [
    "model = RandomForestClassifier(n_estimators = 5, max_depth = 5, random_state = 1)\n",
    "model.fit(X_train, y_train)"
   ]
  },
  {
   "cell_type": "code",
   "execution_count": 8,
   "id": "c80136bf-6f26-4e90-860f-b6bf87abfe53",
   "metadata": {},
   "outputs": [
    {
     "data": {
      "text/plain": [
       "0.8387622149837134"
      ]
     },
     "execution_count": 8,
     "metadata": {},
     "output_type": "execute_result"
    }
   ],
   "source": [
    "model.score(X_train, y_train)"
   ]
  },
  {
   "cell_type": "code",
   "execution_count": 9,
   "id": "c5d39b97-826c-4a9b-b164-3c8ab23e76fc",
   "metadata": {},
   "outputs": [],
   "source": [
    "y_pred = model.predict(X_test)"
   ]
  },
  {
   "cell_type": "code",
   "execution_count": 10,
   "id": "1047ed43-a036-425a-8779-9d6e0fe7c6c4",
   "metadata": {},
   "outputs": [
    {
     "data": {
      "text/plain": [
       "0.7922077922077922"
      ]
     },
     "execution_count": 10,
     "metadata": {},
     "output_type": "execute_result"
    }
   ],
   "source": [
    "accuracy_score(y_test, y_pred)"
   ]
  },
  {
   "cell_type": "markdown",
   "id": "43a29c77-94b2-47ac-b423-917cea3b5b1a",
   "metadata": {},
   "source": [
    "# internal decision trees"
   ]
  },
  {
   "cell_type": "code",
   "execution_count": 11,
   "id": "1158046f-7ef7-4d92-8ea0-f46ae2f1af33",
   "metadata": {},
   "outputs": [
    {
     "name": "stdout",
     "output_type": "stream",
     "text": [
      "Tree  : 1\n",
      "|--- Glucose <= 123.50\n",
      "|   |--- BMI <= 45.40\n",
      "|   |   |--- Pregnancies <= 6.50\n",
      "|   |   |   |--- Age <= 30.50\n",
      "|   |   |   |   |--- SkinThickness <= 29.50\n",
      "|   |   |   |   |   |--- class: 0.0\n",
      "|   |   |   |   |--- SkinThickness >  29.50\n",
      "|   |   |   |   |   |--- class: 0.0\n",
      "|   |   |   |--- Age >  30.50\n",
      "|   |   |   |   |--- InsulinLog <= 5.14\n",
      "|   |   |   |   |   |--- class: 0.0\n",
      "|   |   |   |   |--- InsulinLog >  5.14\n",
      "|   |   |   |   |   |--- class: 0.0\n",
      "|   |   |--- Pregnancies >  6.50\n",
      "|   |   |   |--- BMI <= 26.65\n",
      "|   |   |   |   |--- class: 0.0\n",
      "|   |   |   |--- BMI >  26.65\n",
      "|   |   |   |   |--- Glucose <= 103.00\n",
      "|   |   |   |   |   |--- class: 0.0\n",
      "|   |   |   |   |--- Glucose >  103.00\n",
      "|   |   |   |   |   |--- class: 1.0\n",
      "|   |--- BMI >  45.40\n",
      "|   |   |--- BloodPressure <= 87.00\n",
      "|   |   |   |--- BloodPressure <= 79.00\n",
      "|   |   |   |   |--- class: 0.0\n",
      "|   |   |   |--- BloodPressure >  79.00\n",
      "|   |   |   |   |--- class: 1.0\n",
      "|   |   |--- BloodPressure >  87.00\n",
      "|   |   |   |--- class: 0.0\n",
      "|--- Glucose >  123.50\n",
      "|   |--- Age <= 23.50\n",
      "|   |   |--- Pregnancies <= 3.50\n",
      "|   |   |   |--- DiabetesPedigreeFunction <= 1.08\n",
      "|   |   |   |   |--- BloodPressure <= 88.00\n",
      "|   |   |   |   |   |--- class: 0.0\n",
      "|   |   |   |   |--- BloodPressure >  88.00\n",
      "|   |   |   |   |   |--- class: 1.0\n",
      "|   |   |   |--- DiabetesPedigreeFunction >  1.08\n",
      "|   |   |   |   |--- class: 1.0\n",
      "|   |   |--- Pregnancies >  3.50\n",
      "|   |   |   |--- InsulinLog <= 4.54\n",
      "|   |   |   |   |--- class: 1.0\n",
      "|   |   |   |--- InsulinLog >  4.54\n",
      "|   |   |   |   |--- class: 0.0\n",
      "|   |--- Age >  23.50\n",
      "|   |   |--- InsulinLog <= 4.72\n",
      "|   |   |   |--- DiabetesPedigreeFunction <= 0.22\n",
      "|   |   |   |   |--- DiabetesPedigreeFunction <= 0.14\n",
      "|   |   |   |   |   |--- class: 1.0\n",
      "|   |   |   |   |--- DiabetesPedigreeFunction >  0.14\n",
      "|   |   |   |   |   |--- class: 0.0\n",
      "|   |   |   |--- DiabetesPedigreeFunction >  0.22\n",
      "|   |   |   |   |--- Age <= 55.50\n",
      "|   |   |   |   |   |--- class: 1.0\n",
      "|   |   |   |   |--- Age >  55.50\n",
      "|   |   |   |   |   |--- class: 0.0\n",
      "|   |   |--- InsulinLog >  4.72\n",
      "|   |   |   |--- BloodPressure <= 61.00\n",
      "|   |   |   |   |--- Insulin <= 153.50\n",
      "|   |   |   |   |   |--- class: 0.0\n",
      "|   |   |   |   |--- Insulin >  153.50\n",
      "|   |   |   |   |   |--- class: 1.0\n",
      "|   |   |   |--- BloodPressure >  61.00\n",
      "|   |   |   |   |--- Age <= 38.50\n",
      "|   |   |   |   |   |--- class: 1.0\n",
      "|   |   |   |   |--- Age >  38.50\n",
      "|   |   |   |   |   |--- class: 1.0\n",
      "\n",
      "Tree  : 2\n",
      "|--- Insulin <= 112.00\n",
      "|   |--- Age <= 29.50\n",
      "|   |   |--- BMI <= 41.70\n",
      "|   |   |   |--- Glucose <= 153.00\n",
      "|   |   |   |   |--- BMI <= 35.90\n",
      "|   |   |   |   |   |--- class: 0.0\n",
      "|   |   |   |   |--- BMI >  35.90\n",
      "|   |   |   |   |   |--- class: 0.0\n",
      "|   |   |   |--- Glucose >  153.00\n",
      "|   |   |   |   |--- class: 1.0\n",
      "|   |   |--- BMI >  41.70\n",
      "|   |   |   |--- InsulinLog <= 3.65\n",
      "|   |   |   |   |--- SkinThickness <= 25.00\n",
      "|   |   |   |   |   |--- class: 0.0\n",
      "|   |   |   |   |--- SkinThickness >  25.00\n",
      "|   |   |   |   |   |--- class: 1.0\n",
      "|   |   |   |--- InsulinLog >  3.65\n",
      "|   |   |   |   |--- class: 0.0\n",
      "|   |--- Age >  29.50\n",
      "|   |   |--- InsulinLog <= 3.59\n",
      "|   |   |   |--- Glucose <= 122.50\n",
      "|   |   |   |   |--- BloodPressure <= 99.00\n",
      "|   |   |   |   |   |--- class: 0.0\n",
      "|   |   |   |   |--- BloodPressure >  99.00\n",
      "|   |   |   |   |   |--- class: 1.0\n",
      "|   |   |   |--- Glucose >  122.50\n",
      "|   |   |   |   |--- Pregnancies <= 9.50\n",
      "|   |   |   |   |   |--- class: 1.0\n",
      "|   |   |   |   |--- Pregnancies >  9.50\n",
      "|   |   |   |   |   |--- class: 0.0\n",
      "|   |   |--- InsulinLog >  3.59\n",
      "|   |   |   |--- Pregnancies <= 13.50\n",
      "|   |   |   |   |--- BloodPressure <= 83.00\n",
      "|   |   |   |   |   |--- class: 0.0\n",
      "|   |   |   |   |--- BloodPressure >  83.00\n",
      "|   |   |   |   |   |--- class: 0.0\n",
      "|   |   |   |--- Pregnancies >  13.50\n",
      "|   |   |   |   |--- class: 1.0\n",
      "|--- Insulin >  112.00\n",
      "|   |--- Age <= 28.50\n",
      "|   |   |--- Glucose <= 168.00\n",
      "|   |   |   |--- BloodPressure <= 65.50\n",
      "|   |   |   |   |--- BMI <= 31.40\n",
      "|   |   |   |   |   |--- class: 0.0\n",
      "|   |   |   |   |--- BMI >  31.40\n",
      "|   |   |   |   |   |--- class: 1.0\n",
      "|   |   |   |--- BloodPressure >  65.50\n",
      "|   |   |   |   |--- Glucose <= 138.00\n",
      "|   |   |   |   |   |--- class: 0.0\n",
      "|   |   |   |   |--- Glucose >  138.00\n",
      "|   |   |   |   |   |--- class: 0.0\n",
      "|   |   |--- Glucose >  168.00\n",
      "|   |   |   |--- class: 1.0\n",
      "|   |--- Age >  28.50\n",
      "|   |   |--- Glucose <= 108.50\n",
      "|   |   |   |--- Glucose <= 96.50\n",
      "|   |   |   |   |--- class: 1.0\n",
      "|   |   |   |--- Glucose >  96.50\n",
      "|   |   |   |   |--- BloodPressure <= 77.00\n",
      "|   |   |   |   |   |--- class: 0.0\n",
      "|   |   |   |   |--- BloodPressure >  77.00\n",
      "|   |   |   |   |   |--- class: 1.0\n",
      "|   |   |--- Glucose >  108.50\n",
      "|   |   |   |--- Insulin <= 136.00\n",
      "|   |   |   |   |--- class: 1.0\n",
      "|   |   |   |--- Insulin >  136.00\n",
      "|   |   |   |   |--- Insulin <= 142.00\n",
      "|   |   |   |   |   |--- class: 0.0\n",
      "|   |   |   |   |--- Insulin >  142.00\n",
      "|   |   |   |   |   |--- class: 1.0\n",
      "\n",
      "Tree  : 3\n",
      "|--- Glucose <= 143.50\n",
      "|   |--- BMI <= 27.35\n",
      "|   |   |--- Pregnancies <= 1.50\n",
      "|   |   |   |--- class: 0.0\n",
      "|   |   |--- Pregnancies >  1.50\n",
      "|   |   |   |--- DiabetesPedigreeFunction <= 0.26\n",
      "|   |   |   |   |--- class: 0.0\n",
      "|   |   |   |--- DiabetesPedigreeFunction >  0.26\n",
      "|   |   |   |   |--- BMI <= 26.35\n",
      "|   |   |   |   |   |--- class: 0.0\n",
      "|   |   |   |   |--- BMI >  26.35\n",
      "|   |   |   |   |   |--- class: 1.0\n",
      "|   |--- BMI >  27.35\n",
      "|   |   |--- DiabetesPedigreeFunction <= 0.73\n",
      "|   |   |   |--- InsulinLog <= 4.81\n",
      "|   |   |   |   |--- Age <= 29.50\n",
      "|   |   |   |   |   |--- class: 0.0\n",
      "|   |   |   |   |--- Age >  29.50\n",
      "|   |   |   |   |   |--- class: 0.0\n",
      "|   |   |   |--- InsulinLog >  4.81\n",
      "|   |   |   |   |--- Age <= 28.50\n",
      "|   |   |   |   |   |--- class: 0.0\n",
      "|   |   |   |   |--- Age >  28.50\n",
      "|   |   |   |   |   |--- class: 1.0\n",
      "|   |   |--- DiabetesPedigreeFunction >  0.73\n",
      "|   |   |   |--- BMI <= 37.85\n",
      "|   |   |   |   |--- Glucose <= 78.50\n",
      "|   |   |   |   |   |--- class: 0.0\n",
      "|   |   |   |   |--- Glucose >  78.50\n",
      "|   |   |   |   |   |--- class: 1.0\n",
      "|   |   |   |--- BMI >  37.85\n",
      "|   |   |   |   |--- Age <= 32.50\n",
      "|   |   |   |   |   |--- class: 0.0\n",
      "|   |   |   |   |--- Age >  32.50\n",
      "|   |   |   |   |   |--- class: 1.0\n",
      "|--- Glucose >  143.50\n",
      "|   |--- Glucose <= 166.50\n",
      "|   |   |--- SkinThickness <= 45.00\n",
      "|   |   |   |--- InsulinLog <= 6.30\n",
      "|   |   |   |   |--- DiabetesPedigreeFunction <= 0.31\n",
      "|   |   |   |   |   |--- class: 0.0\n",
      "|   |   |   |   |--- DiabetesPedigreeFunction >  0.31\n",
      "|   |   |   |   |   |--- class: 1.0\n",
      "|   |   |   |--- InsulinLog >  6.30\n",
      "|   |   |   |   |--- class: 0.0\n",
      "|   |   |--- SkinThickness >  45.00\n",
      "|   |   |   |--- SkinThickness <= 51.00\n",
      "|   |   |   |   |--- class: 1.0\n",
      "|   |   |   |--- SkinThickness >  51.00\n",
      "|   |   |   |   |--- class: 0.0\n",
      "|   |--- Glucose >  166.50\n",
      "|   |   |--- Insulin <= 132.50\n",
      "|   |   |   |--- BloodPressure <= 107.00\n",
      "|   |   |   |   |--- SkinThickness <= 17.00\n",
      "|   |   |   |   |   |--- class: 0.0\n",
      "|   |   |   |   |--- SkinThickness >  17.00\n",
      "|   |   |   |   |   |--- class: 1.0\n",
      "|   |   |   |--- BloodPressure >  107.00\n",
      "|   |   |   |   |--- class: 0.0\n",
      "|   |   |--- Insulin >  132.50\n",
      "|   |   |   |--- Insulin <= 627.00\n",
      "|   |   |   |   |--- DiabetesPedigreeFunction <= 1.12\n",
      "|   |   |   |   |   |--- class: 1.0\n",
      "|   |   |   |   |--- DiabetesPedigreeFunction >  1.12\n",
      "|   |   |   |   |   |--- class: 1.0\n",
      "|   |   |   |--- Insulin >  627.00\n",
      "|   |   |   |   |--- Glucose <= 193.00\n",
      "|   |   |   |   |   |--- class: 1.0\n",
      "|   |   |   |   |--- Glucose >  193.00\n",
      "|   |   |   |   |   |--- class: 0.0\n",
      "\n",
      "Tree  : 4\n",
      "|--- BMI <= 26.45\n",
      "|   |--- Age <= 58.50\n",
      "|   |   |--- SkinThickness <= 32.50\n",
      "|   |   |   |--- InsulinLog <= 4.88\n",
      "|   |   |   |   |--- class: 0.0\n",
      "|   |   |   |--- InsulinLog >  4.88\n",
      "|   |   |   |   |--- Insulin <= 146.00\n",
      "|   |   |   |   |   |--- class: 1.0\n",
      "|   |   |   |   |--- Insulin >  146.00\n",
      "|   |   |   |   |   |--- class: 0.0\n",
      "|   |   |--- SkinThickness >  32.50\n",
      "|   |   |   |--- BloodPressure <= 65.00\n",
      "|   |   |   |   |--- class: 0.0\n",
      "|   |   |   |--- BloodPressure >  65.00\n",
      "|   |   |   |   |--- DiabetesPedigreeFunction <= 0.16\n",
      "|   |   |   |   |   |--- class: 0.0\n",
      "|   |   |   |   |--- DiabetesPedigreeFunction >  0.16\n",
      "|   |   |   |   |   |--- class: 1.0\n",
      "|   |--- Age >  58.50\n",
      "|   |   |--- BMI <= 24.40\n",
      "|   |   |   |--- class: 1.0\n",
      "|   |   |--- BMI >  24.40\n",
      "|   |   |   |--- class: 0.0\n",
      "|--- BMI >  26.45\n",
      "|   |--- Glucose <= 144.50\n",
      "|   |   |--- Glucose <= 99.50\n",
      "|   |   |   |--- Insulin <= 143.00\n",
      "|   |   |   |   |--- Age <= 49.00\n",
      "|   |   |   |   |   |--- class: 0.0\n",
      "|   |   |   |   |--- Age >  49.00\n",
      "|   |   |   |   |   |--- class: 1.0\n",
      "|   |   |   |--- Insulin >  143.00\n",
      "|   |   |   |   |--- BloodPressure <= 60.00\n",
      "|   |   |   |   |   |--- class: 0.0\n",
      "|   |   |   |   |--- BloodPressure >  60.00\n",
      "|   |   |   |   |   |--- class: 1.0\n",
      "|   |   |--- Glucose >  99.50\n",
      "|   |   |   |--- DiabetesPedigreeFunction <= 0.91\n",
      "|   |   |   |   |--- BloodPressure <= 65.50\n",
      "|   |   |   |   |   |--- class: 1.0\n",
      "|   |   |   |   |--- BloodPressure >  65.50\n",
      "|   |   |   |   |   |--- class: 0.0\n",
      "|   |   |   |--- DiabetesPedigreeFunction >  0.91\n",
      "|   |   |   |   |--- Age <= 53.50\n",
      "|   |   |   |   |   |--- class: 1.0\n",
      "|   |   |   |   |--- Age >  53.50\n",
      "|   |   |   |   |   |--- class: 0.0\n",
      "|   |--- Glucose >  144.50\n",
      "|   |   |--- BloodPressure <= 93.50\n",
      "|   |   |   |--- Glucose <= 166.50\n",
      "|   |   |   |   |--- BMI <= 30.10\n",
      "|   |   |   |   |   |--- class: 0.0\n",
      "|   |   |   |   |--- BMI >  30.10\n",
      "|   |   |   |   |   |--- class: 1.0\n",
      "|   |   |   |--- Glucose >  166.50\n",
      "|   |   |   |   |--- BMI <= 45.50\n",
      "|   |   |   |   |   |--- class: 1.0\n",
      "|   |   |   |   |--- BMI >  45.50\n",
      "|   |   |   |   |   |--- class: 0.0\n",
      "|   |   |--- BloodPressure >  93.50\n",
      "|   |   |   |--- Pregnancies <= 8.00\n",
      "|   |   |   |   |--- SkinThickness <= 28.00\n",
      "|   |   |   |   |   |--- class: 1.0\n",
      "|   |   |   |   |--- SkinThickness >  28.00\n",
      "|   |   |   |   |   |--- class: 0.0\n",
      "|   |   |   |--- Pregnancies >  8.00\n",
      "|   |   |   |   |--- class: 1.0\n",
      "\n",
      "Tree  : 5\n",
      "|--- Glucose <= 123.50\n",
      "|   |--- Glucose <= 117.50\n",
      "|   |   |--- BloodPressure <= 34.00\n",
      "|   |   |   |--- SkinThickness <= 30.50\n",
      "|   |   |   |   |--- class: 0.0\n",
      "|   |   |   |--- SkinThickness >  30.50\n",
      "|   |   |   |   |--- class: 1.0\n",
      "|   |   |--- BloodPressure >  34.00\n",
      "|   |   |   |--- DiabetesPedigreeFunction <= 0.67\n",
      "|   |   |   |   |--- BMI <= 29.65\n",
      "|   |   |   |   |   |--- class: 0.0\n",
      "|   |   |   |   |--- BMI >  29.65\n",
      "|   |   |   |   |   |--- class: 0.0\n",
      "|   |   |   |--- DiabetesPedigreeFunction >  0.67\n",
      "|   |   |   |   |--- Pregnancies <= 8.50\n",
      "|   |   |   |   |   |--- class: 0.0\n",
      "|   |   |   |   |--- Pregnancies >  8.50\n",
      "|   |   |   |   |   |--- class: 1.0\n",
      "|   |--- Glucose >  117.50\n",
      "|   |   |--- DiabetesPedigreeFunction <= 0.24\n",
      "|   |   |   |--- Pregnancies <= 3.00\n",
      "|   |   |   |   |--- DiabetesPedigreeFunction <= 0.21\n",
      "|   |   |   |   |   |--- class: 1.0\n",
      "|   |   |   |   |--- DiabetesPedigreeFunction >  0.21\n",
      "|   |   |   |   |   |--- class: 0.0\n",
      "|   |   |   |--- Pregnancies >  3.00\n",
      "|   |   |   |   |--- class: 1.0\n",
      "|   |   |--- DiabetesPedigreeFunction >  0.24\n",
      "|   |   |   |--- BloodPressure <= 82.00\n",
      "|   |   |   |   |--- Age <= 28.50\n",
      "|   |   |   |   |   |--- class: 0.0\n",
      "|   |   |   |   |--- Age >  28.50\n",
      "|   |   |   |   |   |--- class: 0.0\n",
      "|   |   |   |--- BloodPressure >  82.00\n",
      "|   |   |   |   |--- BloodPressure <= 87.00\n",
      "|   |   |   |   |   |--- class: 1.0\n",
      "|   |   |   |   |--- BloodPressure >  87.00\n",
      "|   |   |   |   |   |--- class: 0.0\n",
      "|--- Glucose >  123.50\n",
      "|   |--- Glucose <= 166.50\n",
      "|   |   |--- BMI <= 30.25\n",
      "|   |   |   |--- InsulinLog <= 5.84\n",
      "|   |   |   |   |--- Insulin <= 30.00\n",
      "|   |   |   |   |   |--- class: 1.0\n",
      "|   |   |   |   |--- Insulin >  30.00\n",
      "|   |   |   |   |   |--- class: 0.0\n",
      "|   |   |   |--- InsulinLog >  5.84\n",
      "|   |   |   |   |--- class: 1.0\n",
      "|   |   |--- BMI >  30.25\n",
      "|   |   |   |--- Insulin <= 192.00\n",
      "|   |   |   |   |--- BloodPressure <= 77.00\n",
      "|   |   |   |   |   |--- class: 1.0\n",
      "|   |   |   |   |--- BloodPressure >  77.00\n",
      "|   |   |   |   |   |--- class: 1.0\n",
      "|   |   |   |--- Insulin >  192.00\n",
      "|   |   |   |   |--- Age <= 42.50\n",
      "|   |   |   |   |   |--- class: 0.0\n",
      "|   |   |   |   |--- Age >  42.50\n",
      "|   |   |   |   |   |--- class: 1.0\n",
      "|   |--- Glucose >  166.50\n",
      "|   |   |--- Age <= 66.50\n",
      "|   |   |   |--- BMI <= 35.30\n",
      "|   |   |   |   |--- DiabetesPedigreeFunction <= 0.31\n",
      "|   |   |   |   |   |--- class: 1.0\n",
      "|   |   |   |   |--- DiabetesPedigreeFunction >  0.31\n",
      "|   |   |   |   |   |--- class: 1.0\n",
      "|   |   |   |--- BMI >  35.30\n",
      "|   |   |   |   |--- class: 1.0\n",
      "|   |   |--- Age >  66.50\n",
      "|   |   |   |--- class: 0.0\n",
      "\n"
     ]
    }
   ],
   "source": [
    "for count,tree in enumerate(model.estimators_):\n",
    "    # PRINT TREE FOR EACH CLASSIFIER\n",
    "    tree_rules = export_text(tree, feature_names = list(X_train.columns))\n",
    "    print(\"Tree  :\", count + 1)\n",
    "    print(tree_rules)"
   ]
  },
  {
   "cell_type": "code",
   "execution_count": 12,
   "id": "5bb9d703-6989-4349-8c42-e7cb537c6154",
   "metadata": {},
   "outputs": [
    {
     "data": {
      "text/plain": [
       "array([[92, 15],\n",
       "       [17, 30]], dtype=int64)"
      ]
     },
     "execution_count": 12,
     "metadata": {},
     "output_type": "execute_result"
    }
   ],
   "source": [
    "confusion_matrix(y_test, y_pred)"
   ]
  },
  {
   "cell_type": "code",
   "execution_count": 13,
   "id": "a2890fb2-8b2c-4646-b11a-ed0a41d9c9da",
   "metadata": {},
   "outputs": [
    {
     "name": "stdout",
     "output_type": "stream",
     "text": [
      "              precision    recall  f1-score   support\n",
      "\n",
      "           0       0.84      0.86      0.85       107\n",
      "           1       0.67      0.64      0.65        47\n",
      "\n",
      "    accuracy                           0.79       154\n",
      "   macro avg       0.76      0.75      0.75       154\n",
      "weighted avg       0.79      0.79      0.79       154\n",
      "\n"
     ]
    }
   ],
   "source": [
    "print(classification_report(y_test, y_pred))"
   ]
  },
  {
   "cell_type": "markdown",
   "id": "70c37354-afeb-41c7-aeb5-5b0aa7909635",
   "metadata": {},
   "source": [
    "# Boosting - GradientBoostingClassifier"
   ]
  },
  {
   "cell_type": "code",
   "execution_count": 14,
   "id": "8f4919b5-c753-4bdb-896f-b90bb3505084",
   "metadata": {},
   "outputs": [],
   "source": [
    "from sklearn.ensemble import GradientBoostingClassifier"
   ]
  },
  {
   "cell_type": "code",
   "execution_count": 15,
   "id": "3b2212c8-ab17-458f-a5e2-e5816ab963a8",
   "metadata": {},
   "outputs": [
    {
     "data": {
      "text/plain": [
       "GradientBoostingClassifier(max_depth=8, n_estimators=10)"
      ]
     },
     "execution_count": 15,
     "metadata": {},
     "output_type": "execute_result"
    }
   ],
   "source": [
    "model = GradientBoostingClassifier(n_estimators = 10, max_depth = 8)\n",
    "model.fit(X_train, y_train)"
   ]
  },
  {
   "cell_type": "code",
   "execution_count": 16,
   "id": "2ddb0ebf-e9a2-44fc-859c-2833193a41ed",
   "metadata": {},
   "outputs": [
    {
     "data": {
      "text/plain": [
       "0.9853420195439739"
      ]
     },
     "execution_count": 16,
     "metadata": {},
     "output_type": "execute_result"
    }
   ],
   "source": [
    "model.score(X_train, y_train)"
   ]
  },
  {
   "cell_type": "code",
   "execution_count": 17,
   "id": "9db6f678-01b8-4bdc-bdee-11963483c7c7",
   "metadata": {},
   "outputs": [],
   "source": [
    "y_pred = model.predict(X_test)"
   ]
  },
  {
   "cell_type": "code",
   "execution_count": 18,
   "id": "d83a6195-116f-4bb1-afb4-9bd30e051ff0",
   "metadata": {},
   "outputs": [
    {
     "data": {
      "text/plain": [
       "0.7727272727272727"
      ]
     },
     "execution_count": 18,
     "metadata": {},
     "output_type": "execute_result"
    }
   ],
   "source": [
    "accuracy_score(y_test, y_pred)"
   ]
  },
  {
   "cell_type": "code",
   "execution_count": 19,
   "id": "df3a4b9b-d341-47b9-8d6f-11863ffd8739",
   "metadata": {},
   "outputs": [
    {
     "data": {
      "text/plain": [
       "array([[90, 17],\n",
       "       [18, 29]], dtype=int64)"
      ]
     },
     "execution_count": 19,
     "metadata": {},
     "output_type": "execute_result"
    }
   ],
   "source": [
    "confusion_matrix(y_test, y_pred)"
   ]
  },
  {
   "cell_type": "code",
   "execution_count": 20,
   "id": "27ff6715-44d8-4007-8b6a-2b7cd1cf2063",
   "metadata": {},
   "outputs": [
    {
     "name": "stdout",
     "output_type": "stream",
     "text": [
      "              precision    recall  f1-score   support\n",
      "\n",
      "           0       0.83      0.84      0.84       107\n",
      "           1       0.63      0.62      0.62        47\n",
      "\n",
      "    accuracy                           0.77       154\n",
      "   macro avg       0.73      0.73      0.73       154\n",
      "weighted avg       0.77      0.77      0.77       154\n",
      "\n"
     ]
    }
   ],
   "source": [
    "print(classification_report(y_test, y_pred))"
   ]
  },
  {
   "cell_type": "markdown",
   "id": "bb75f88d-5fc9-4683-bb4d-2efe0e18cd45",
   "metadata": {},
   "source": [
    "# Displaying errors"
   ]
  },
  {
   "cell_type": "code",
   "execution_count": 21,
   "id": "766bee54-36f7-4ad2-b0cf-fd68875a3244",
   "metadata": {},
   "outputs": [],
   "source": [
    "errors = {}\n",
    "tree_counts = [1, 2, 3, 4, 5, 8, 10]\n",
    "for count in tree_counts:\n",
    "    model = GradientBoostingClassifier(n_estimators = count)\n",
    "    model.fit(X_train, y_train)\n",
    "    y_pred = model.predict(X_test)\n",
    "    score = accuracy_score(y_test, y_pred)\n",
    "    errors[count] = 1 - score   # ERRORS"
   ]
  },
  {
   "cell_type": "code",
   "execution_count": 22,
   "id": "736978fb-3bdb-4e2d-8fa2-d537823cd12f",
   "metadata": {},
   "outputs": [
    {
     "data": {
      "text/plain": [
       "{1: 0.30519480519480524,\n",
       " 2: 0.30519480519480524,\n",
       " 3: 0.30519480519480524,\n",
       " 4: 0.24675324675324672,\n",
       " 5: 0.2272727272727273,\n",
       " 8: 0.2272727272727273,\n",
       " 10: 0.22077922077922074}"
      ]
     },
     "execution_count": 22,
     "metadata": {},
     "output_type": "execute_result"
    }
   ],
   "source": [
    "errors"
   ]
  },
  {
   "cell_type": "markdown",
   "id": "763d61f6-6113-4558-b28c-a3e2b7bffb32",
   "metadata": {},
   "source": [
    "# DRAW GRAPH TO SHOW ERROR RATE BASED ON NUMBER OF TREES"
   ]
  },
  {
   "cell_type": "code",
   "execution_count": 23,
   "id": "147237ff-67ae-4802-a60a-fb95dc3071d5",
   "metadata": {},
   "outputs": [
    {
     "data": {
      "image/png": "[encoded data removed]",
      "text/plain": [
       "<Figure size 1080x360 with 1 Axes>"
      ]
     },
     "metadata": {},
     "output_type": "display_data"
    }
   ],
   "source": [
    "plt.plot(list(errors.keys()), list(errors.values()))\n",
    "plt.xlabel(\"No. of trees\")\n",
    "plt.ylabel(\"Error rate\")\n",
    "plt.gcf().set_size_inches(15, 5)"
   ]
  },
  {
   "cell_type": "markdown",
   "id": "13fa00b8-395a-4173-b006-728fdd9c309f",
   "metadata": {},
   "source": [
    "# Stacking - StackingClassifier"
   ]
  },
  {
   "cell_type": "code",
   "execution_count": 24,
   "id": "f3bbd231-2f31-4522-853c-64870bf76519",
   "metadata": {},
   "outputs": [],
   "source": [
    "from sklearn.ensemble import StackingClassifier\n",
    "from sklearn.tree import DecisionTreeClassifier\n",
    "from sklearn.linear_model import LogisticRegression\n",
    "from sklearn.neighbors import KNeighborsClassifier\n",
    "from sklearn.naive_bayes import GaussianNB\n",
    "from sklearn.svm import SVC"
   ]
  },
  {
   "cell_type": "code",
   "execution_count": 25,
   "id": "45838ec1-c758-44bd-82fc-bf0ce092d33a",
   "metadata": {},
   "outputs": [],
   "source": [
    "estimators = [\n",
    "    ('lr',  LogisticRegression()),\n",
    "    ('knn', KNeighborsClassifier(n_neighbors=5)),\n",
    "    ('svc', SVC()),\n",
    "]"
   ]
  },
  {
   "cell_type": "code",
   "execution_count": 26,
   "id": "e7b05140-8017-4989-aa10-d623ecd19a58",
   "metadata": {},
   "outputs": [],
   "source": [
    "clf = StackingClassifier(estimators = estimators, final_estimator = DecisionTreeClassifier())"
   ]
  },
  {
   "cell_type": "code",
   "execution_count": 27,
   "id": "94156530-1ce6-4ea4-8802-1d0611e55e1e",
   "metadata": {},
   "outputs": [],
   "source": [
    "from sklearn.model_selection import train_test_split\n",
    "X_train, X_test, y_train, y_test = train_test_split(X, y,random_state=1)"
   ]
  },
  {
   "cell_type": "code",
   "execution_count": 28,
   "id": "db483925-4ce4-4ac9-bc73-31c2648ebe17",
   "metadata": {},
   "outputs": [],
   "source": [
    "from sklearn.preprocessing import StandardScaler\n",
    "ss = StandardScaler()\n",
    "X_train_scaled = ss.fit_transform(X_train)"
   ]
  },
  {
   "cell_type": "code",
   "execution_count": 29,
   "id": "b9fd7623-eeaa-4687-87b0-3761978cfb74",
   "metadata": {},
   "outputs": [],
   "source": [
    "X_test_scaled = ss.transform(X_test)"
   ]
  },
  {
   "cell_type": "code",
   "execution_count": 30,
   "id": "bb4fa6d7-7dcd-4b53-84b5-35f593e083cc",
   "metadata": {},
   "outputs": [
    {
     "data": {
      "text/plain": [
       "StackingClassifier(estimators=[('lr', LogisticRegression()),\n",
       "                               ('knn', KNeighborsClassifier()),\n",
       "                               ('svc', SVC())],\n",
       "                   final_estimator=DecisionTreeClassifier())"
      ]
     },
     "execution_count": 30,
     "metadata": {},
     "output_type": "execute_result"
    }
   ],
   "source": [
    "clf.fit(X_train_scaled, y_train)"
   ]
  },
  {
   "cell_type": "code",
   "execution_count": 31,
   "id": "c7553b74-f5fc-4bc9-81db-6df82847b57f",
   "metadata": {},
   "outputs": [
    {
     "data": {
      "text/plain": [
       "0.7065972222222222"
      ]
     },
     "execution_count": 31,
     "metadata": {},
     "output_type": "execute_result"
    }
   ],
   "source": [
    "clf.score(X_train_scaled, y_train)"
   ]
  },
  {
   "cell_type": "code",
   "execution_count": 32,
   "id": "84d3f786-0a92-4b47-8404-c77130e1a749",
   "metadata": {},
   "outputs": [
    {
     "data": {
      "text/plain": [
       "0.6458333333333334"
      ]
     },
     "execution_count": 32,
     "metadata": {},
     "output_type": "execute_result"
    }
   ],
   "source": [
    "clf.score(X_test_scaled, y_test)"
   ]
  },
  {
   "cell_type": "code",
   "execution_count": 33,
   "id": "9f46fc61-9403-4519-b06c-67b92a56ce5f",
   "metadata": {},
   "outputs": [],
   "source": [
    "from sklearn.ensemble import StackingClassifier\n",
    "from sklearn.tree import DecisionTreeClassifier\n",
    "from sklearn.linear_model import LogisticRegression\n",
    "from sklearn.neighbors import KNeighborsClassifier\n",
    "from sklearn.naive_bayes import GaussianNB\n",
    "from sklearn.svm import SVC"
   ]
  },
  {
   "cell_type": "code",
   "execution_count": 34,
   "id": "0c554b19-3390-4472-9af1-bc8676505da1",
   "metadata": {},
   "outputs": [],
   "source": [
    "estimators = [\n",
    "    ('nb',  GaussianNB()),\n",
    "    ('knn', KNeighborsClassifier(n_neighbors=5)),\n",
    "    ('svc', SVC()),\n",
    "]"
   ]
  },
  {
   "cell_type": "code",
   "execution_count": 35,
   "id": "60283fb0-1705-4e9a-8561-460a483f2a51",
   "metadata": {},
   "outputs": [],
   "source": [
    "clf = StackingClassifier(estimators = estimators, final_estimator = LogisticRegression())"
   ]
  },
  {
   "cell_type": "code",
   "execution_count": 36,
   "id": "11c7d8c8-a3a5-4367-8316-107a65019f3d",
   "metadata": {},
   "outputs": [],
   "source": [
    "from sklearn.model_selection import train_test_split\n",
    "X_train, X_test, y_train, y_test = train_test_split(X, y,random_state=0)"
   ]
  },
  {
   "cell_type": "code",
   "execution_count": 37,
   "id": "baabd006-0e7e-44c1-b81f-73273c32a7e8",
   "metadata": {},
   "outputs": [],
   "source": [
    "from sklearn.preprocessing import StandardScaler\n",
    "ss = StandardScaler()\n",
    "X_train_scaled = ss.fit_transform(X_train)"
   ]
  },
  {
   "cell_type": "code",
   "execution_count": 38,
   "id": "2e6dad2e-99d7-4dc1-b587-8fbe5d9658eb",
   "metadata": {},
   "outputs": [
    {
     "data": {
      "text/plain": [
       "StackingClassifier(estimators=[('nb', GaussianNB()),\n",
       "                               ('knn', KNeighborsClassifier()),\n",
       "                               ('svc', SVC())],\n",
       "                   final_estimator=LogisticRegression())"
      ]
     },
     "execution_count": 38,
     "metadata": {},
     "output_type": "execute_result"
    }
   ],
   "source": [
    "clf.fit(X_train_scaled, y_train)"
   ]
  },
  {
   "cell_type": "code",
   "execution_count": 39,
   "id": "21efb7cb-7e28-4234-8cf5-72a9ca7827de",
   "metadata": {},
   "outputs": [
    {
     "data": {
      "text/plain": [
       "0.8142361111111112"
      ]
     },
     "execution_count": 39,
     "metadata": {},
     "output_type": "execute_result"
    }
   ],
   "source": [
    "clf.score(X_train_scaled, y_train)"
   ]
  },
  {
   "cell_type": "code",
   "execution_count": 40,
   "id": "5199eea5-0eca-4d17-8b57-b9ba86c348c1",
   "metadata": {},
   "outputs": [
    {
     "data": {
      "text/plain": [
       "0.5885416666666666"
      ]
     },
     "execution_count": 40,
     "metadata": {},
     "output_type": "execute_result"
    }
   ],
   "source": [
    "clf.score(X_test_scaled,y_test) "
   ]
  },
  {
   "cell_type": "code",
   "execution_count": 41,
   "id": "891c2c98-5670-4035-a40d-0b8770e9bb49",
   "metadata": {},
   "outputs": [
    {
     "data": {
      "text/plain": [
       "['C:\\\\Users\\\\nagal\\\\demo\\\\diabetes']"
      ]
     },
     "execution_count": 41,
     "metadata": {},
     "output_type": "execute_result"
    }
   ],
   "source": [
    "!!cd"
   ]
  },
  {
   "cell_type": "code",
   "execution_count": null,
   "id": "ed77a3fe-4b82-4922-845e-01d18e36f1b6",
   "metadata": {},
   "outputs": [],
   "source": []
  }
 ],
 "metadata": {
  "kernelspec": {
   "display_name": "Python 3 (ipykernel)",
   "language": "python",
   "name": "python3"
  },
  "language_info": {
   "codemirror_mode": {
    "name": "ipython",
    "version": 3
   },
   "file_extension": ".py",
   "mimetype": "text/x-python",
   "name": "python",
   "nbconvert_exporter": "python",
   "pygments_lexer": "ipython3",
   "version": "3.9.12"
  }
 },
 "nbformat": 4,
 "nbformat_minor": 5
}
