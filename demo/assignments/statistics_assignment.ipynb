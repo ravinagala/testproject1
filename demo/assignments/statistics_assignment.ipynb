{
 "cells": [
  {
   "cell_type": "markdown",
   "id": "61083b9f-1fcf-4094-8f67-232225623e7e",
   "metadata": {},
   "source": [
    "# Assignments related to statistics"
   ]
  },
  {
   "cell_type": "code",
   "execution_count": 1,
   "id": "f075f200-b3c8-4414-9ee7-d4e416fdbe0c",
   "metadata": {},
   "outputs": [],
   "source": [
    "import statistics as s \n",
    "import scipy.stats as ss\n",
    "import numpy as np\n",
    "import pandas as pd"
   ]
  },
  {
   "cell_type": "code",
   "execution_count": 2,
   "id": "857a731e-405a-4d67-a31c-e4dc93cd10da",
   "metadata": {},
   "outputs": [],
   "source": [
    "heights = [180,160,179,185,160,145,176,175,180,199]"
   ]
  },
  {
   "cell_type": "code",
   "execution_count": 3,
   "id": "3a8d670d-f81e-424b-a7d8-23071dd4f010",
   "metadata": {},
   "outputs": [],
   "source": [
    "weights = [90,80,76,88,77,88,96,56,59,67]"
   ]
  },
  {
   "cell_type": "markdown",
   "id": "3ae36021-1c29-463f-abf1-63f5f446c867",
   "metadata": {},
   "source": [
    "# Find out mean and median of heights and weights"
   ]
  },
  {
   "cell_type": "code",
   "execution_count": 4,
   "id": "3c683f94-10bb-43f2-8ddc-a69d9a6ff01f",
   "metadata": {},
   "outputs": [
    {
     "data": {
      "text/plain": [
       "(173.9, 77.7)"
      ]
     },
     "execution_count": 4,
     "metadata": {},
     "output_type": "execute_result"
    }
   ],
   "source": [
    "s.mean(heights), s.mean(weights)"
   ]
  },
  {
   "cell_type": "code",
   "execution_count": 5,
   "id": "7f04bbd1-5220-49b1-9688-79118ee11e1e",
   "metadata": {},
   "outputs": [
    {
     "data": {
      "text/plain": [
       "(177.5, 78.5)"
      ]
     },
     "execution_count": 5,
     "metadata": {},
     "output_type": "execute_result"
    }
   ],
   "source": [
    "s.median(heights), s.median(weights)"
   ]
  },
  {
   "cell_type": "markdown",
   "id": "cbddd961-e97d-4a8d-95b6-6cede21b267b",
   "metadata": {},
   "source": [
    "# Find out mode of weights"
   ]
  },
  {
   "cell_type": "code",
   "execution_count": 6,
   "id": "c6b907b7-62a0-47aa-80c6-a22b24fdcace",
   "metadata": {},
   "outputs": [
    {
     "data": {
      "text/plain": [
       "88"
      ]
     },
     "execution_count": 6,
     "metadata": {},
     "output_type": "execute_result"
    }
   ],
   "source": [
    "s.mode(weights)"
   ]
  },
  {
   "cell_type": "markdown",
   "id": "989d4553-921b-4300-b46d-ad35dadc7e0c",
   "metadata": {},
   "source": [
    "# Find out range for heights and weights"
   ]
  },
  {
   "cell_type": "code",
   "execution_count": 7,
   "id": "a1f30a54-c30b-4647-af04-89b736c86544",
   "metadata": {},
   "outputs": [
    {
     "data": {
      "text/plain": [
       "54"
      ]
     },
     "execution_count": 7,
     "metadata": {},
     "output_type": "execute_result"
    }
   ],
   "source": [
    "max(heights) - min(heights)"
   ]
  },
  {
   "cell_type": "code",
   "execution_count": 8,
   "id": "a6492a68-22c4-4b68-8bc0-68f4eb9f2aaa",
   "metadata": {},
   "outputs": [
    {
     "name": "stdout",
     "output_type": "stream",
     "text": [
      "Range of weights = 40\n"
     ]
    }
   ],
   "source": [
    "print(f\"Range of weights = {max(weights) - min(weights)}\")"
   ]
  },
  {
   "cell_type": "markdown",
   "id": "e473e306-846a-4e63-a28d-06e24b104949",
   "metadata": {},
   "source": [
    "# Find out variance and standard deviation of heights and weights"
   ]
  },
  {
   "cell_type": "code",
   "execution_count": 9,
   "id": "fa3ca430-4b84-40e2-874b-e49240daf25f",
   "metadata": {},
   "outputs": [
    {
     "name": "stdout",
     "output_type": "stream",
     "text": [
      "Variance of heights = 231.21, Standard deviation of heights = 15.21\n"
     ]
    }
   ],
   "source": [
    "print(f\"Variance of heights = {s.variance(heights):5.2f}, Standard deviation of heights = {s.stdev(heights):5.2f}\")"
   ]
  },
  {
   "cell_type": "code",
   "execution_count": 10,
   "id": "9ea70af6-bd76-4160-b42a-3277c545e394",
   "metadata": {},
   "outputs": [
    {
     "name": "stdout",
     "output_type": "stream",
     "text": [
      "Variance of weights = 182.46, Standard deviation of weights = 13.51\n"
     ]
    }
   ],
   "source": [
    "print(f\"Variance of weights = {s.variance(weights):5.2f}, Standard deviation of weights = {s.stdev(weights):5.2f}\")"
   ]
  },
  {
   "cell_type": "markdown",
   "id": "75203288-31f6-4d8b-b178-8e79c51add78",
   "metadata": {},
   "source": [
    "# Display IQR of heights"
   ]
  },
  {
   "cell_type": "code",
   "execution_count": 11,
   "id": "457e9190-91c5-4d80-a0a0-1bf06be2aaf5",
   "metadata": {},
   "outputs": [
    {
     "data": {
      "text/plain": [
       "16.25"
      ]
     },
     "execution_count": 11,
     "metadata": {},
     "output_type": "execute_result"
    }
   ],
   "source": [
    "ss.iqr(heights)"
   ]
  },
  {
   "cell_type": "markdown",
   "id": "b3125a87-f66b-491b-8f41-56843376e2c9",
   "metadata": {},
   "source": [
    "# Display outliers in heights.Add a few new values in heights"
   ]
  },
  {
   "cell_type": "code",
   "execution_count": 12,
   "id": "769a817e-9d2a-42a4-b9ad-30f1931aee0f",
   "metadata": {},
   "outputs": [],
   "source": [
    "heights_upd = [180,160,179,185,160,145,176,175,180,199,125,215]\n",
    "q1 = np.quantile(heights_upd,0.25)\n",
    "q3 = np.quantile(heights_upd,0.75)\n",
    "iqr = q3 - q1"
   ]
  },
  {
   "cell_type": "code",
   "execution_count": 13,
   "id": "9f222c24-61b1-4d3c-83bd-8687ee2d5c6c",
   "metadata": {},
   "outputs": [
    {
     "data": {
      "text/plain": [
       "21.25"
      ]
     },
     "execution_count": 13,
     "metadata": {},
     "output_type": "execute_result"
    }
   ],
   "source": [
    "iqr"
   ]
  },
  {
   "cell_type": "markdown",
   "id": "88cc7911-7797-4d2d-9cee-9dd2955e682a",
   "metadata": {},
   "source": [
    "# Display outliers in heights.Consider adding a few new values, if necessary"
   ]
  },
  {
   "cell_type": "code",
   "execution_count": 14,
   "id": "698d9a0a-2255-4132-9908-4d7a0832b879",
   "metadata": {},
   "outputs": [
    {
     "name": "stdout",
     "output_type": "stream",
     "text": [
      "Number of Outliers = 2, Outliers = [125, 215]\n"
     ]
    }
   ],
   "source": [
    "heights_upd = [180,160,179,185,160,145,176,175,180,199,125,215]\n",
    "q1 = np.quantile(heights_upd,0.25)\n",
    "q3 = np.quantile(heights_upd,0.75)\n",
    "iqr = q3 - q1\n",
    "outliers = []\n",
    "\n",
    "for n in heights_upd:\n",
    "    if n < (q1-(1.5*iqr)) or n > (q3+(1.5*iqr)):\n",
    "        outliers.append(n)\n",
    "print(f\"Number of Outliers = {len(outliers)}, Outliers = {outliers}\")   "
   ]
  },
  {
   "cell_type": "markdown",
   "id": "955799a6-a08c-4f63-87e2-0d25c3e416b0",
   "metadata": {},
   "source": [
    "# Display skewness of heights"
   ]
  },
  {
   "cell_type": "code",
   "execution_count": 15,
   "id": "00af0f55-2486-489e-8120-f029e1fbc1ee",
   "metadata": {},
   "outputs": [
    {
     "data": {
      "text/plain": [
       "-0.370716544807603"
      ]
     },
     "execution_count": 15,
     "metadata": {},
     "output_type": "execute_result"
    }
   ],
   "source": [
    "ss.skew(weights)"
   ]
  },
  {
   "cell_type": "markdown",
   "id": "20dfedb2-6061-4925-b23d-73fa392fcb72",
   "metadata": {},
   "source": [
    "# Check whether there is any kurtosis in heights"
   ]
  },
  {
   "cell_type": "code",
   "execution_count": 16,
   "id": "474f8a43-b0f3-47e8-9eb7-8c25a6cfdc11",
   "metadata": {},
   "outputs": [
    {
     "data": {
      "text/plain": [
       "-0.25691423931847623"
      ]
     },
     "execution_count": 16,
     "metadata": {},
     "output_type": "execute_result"
    }
   ],
   "source": [
    "ss.kurtosis(heights)"
   ]
  },
  {
   "cell_type": "code",
   "execution_count": 17,
   "id": "e6677256-d961-475d-b2dd-3aa8fcfa9e57",
   "metadata": {},
   "outputs": [
    {
     "data": {
      "text/plain": [
       "-1.0911677144309107"
      ]
     },
     "execution_count": 17,
     "metadata": {},
     "output_type": "execute_result"
    }
   ],
   "source": [
    "ss.kurtosis(weights)"
   ]
  },
  {
   "cell_type": "markdown",
   "id": "870aed75-b08a-44ff-97e9-b474c10215a4",
   "metadata": {},
   "source": [
    "# Display coefficient and p-value of weights and heights"
   ]
  },
  {
   "cell_type": "code",
   "execution_count": 18,
   "id": "2a3acc64-dce6-46b3-834a-c1a4717522e8",
   "metadata": {},
   "outputs": [
    {
     "data": {
      "text/plain": [
       "(-0.2744349737525768, 0.4428803231273694)"
      ]
     },
     "execution_count": 18,
     "metadata": {},
     "output_type": "execute_result"
    }
   ],
   "source": [
    "ss.pearsonr(heights,weights)"
   ]
  },
  {
   "cell_type": "markdown",
   "id": "7df2057b-bda9-4d24-96f6-511ce1a774f4",
   "metadata": {},
   "source": [
    "### Find slope and intercept for weight(y) and height(x)"
   ]
  },
  {
   "cell_type": "code",
   "execution_count": 19,
   "id": "faa759ae-bc70-4699-801c-fd77fa8fb73f",
   "metadata": {},
   "outputs": [
    {
     "name": "stdout",
     "output_type": "stream",
     "text": [
      "LinregressResult(slope=-0.24378874525445718, intercept=120.0948627997501, rvalue=-0.2744349737525768, pvalue=0.4428803231273696, stderr=0.3020134001954503, intercept_stderr=52.700516228180504)\n"
     ]
    }
   ],
   "source": [
    "height_reg = ss.linregress(heights,weights)\n",
    "print(height_reg)"
   ]
  },
  {
   "cell_type": "markdown",
   "id": "1bde71d8-11bb-45c5-9439-576e7ae808aa",
   "metadata": {},
   "source": [
    "# Display estimated weights for the following heights 180,190,200"
   ]
  },
  {
   "cell_type": "code",
   "execution_count": 20,
   "id": "36212c17-7b1a-4ac6-884f-74d48ff8ef21",
   "metadata": {},
   "outputs": [
    {
     "name": "stdout",
     "output_type": "stream",
     "text": [
      "[180, 190, 200] [76.21288865394781, 73.77500120140324, 71.33711374885867]\n"
     ]
    }
   ],
   "source": [
    "heights_list = [180,190,200]\n",
    "weights_list = []\n",
    "\n",
    "for n in heights_list:\n",
    "    weight = height_reg.intercept + height_reg.slope * n\n",
    "    weights_list.append(weight)\n",
    "    \n",
    "print(heights_list,weights_list)    "
   ]
  },
  {
   "cell_type": "markdown",
   "id": "a2153830-c039-4be4-8ea6-783f01b36da7",
   "metadata": {},
   "source": [
    "# Exercise related to house data"
   ]
  },
  {
   "cell_type": "code",
   "execution_count": 21,
   "id": "328d5cb9-aedd-41b6-9c3a-d8d216a06cb9",
   "metadata": {},
   "outputs": [],
   "source": [
    "sizes = [1000,2000,1500,1100,1670,1550,3000,2400,3400,1200]\n",
    "ages =  [5,6,2,10,11,7,5,6,8,1]\n",
    "prices = [15.5,25.5,22,10.5,30,35,45,25,43,22]"
   ]
  },
  {
   "cell_type": "markdown",
   "id": "51b5b68d-7a2b-4a6c-a4e3-60d452ab4d0d",
   "metadata": {},
   "source": [
    "# Calculate skewness in house prices"
   ]
  },
  {
   "cell_type": "code",
   "execution_count": 22,
   "id": "dd7d52cc-d2b5-4545-a38c-dc47edcf054d",
   "metadata": {},
   "outputs": [
    {
     "data": {
      "text/plain": [
       "0.2577054368611705"
      ]
     },
     "execution_count": 22,
     "metadata": {},
     "output_type": "execute_result"
    }
   ],
   "source": [
    "ss.skew(prices)"
   ]
  },
  {
   "cell_type": "markdown",
   "id": "0611dc9c-7a00-4add-8e4f-e6111902dfa8",
   "metadata": {},
   "source": [
    "# Calculate variance in house sizes"
   ]
  },
  {
   "cell_type": "code",
   "execution_count": 23,
   "id": "3822e226-ef0f-472d-acef-2be105cd269c",
   "metadata": {},
   "outputs": [
    {
     "data": {
      "text/plain": [
       "665795.5555555555"
      ]
     },
     "execution_count": 23,
     "metadata": {},
     "output_type": "execute_result"
    }
   ],
   "source": [
    "s.variance(sizes)"
   ]
  },
  {
   "cell_type": "markdown",
   "id": "c7636987-5d65-4b19-83a8-69af4f57a703",
   "metadata": {},
   "source": [
    "# Display correlation and p-value between size and price"
   ]
  },
  {
   "cell_type": "code",
   "execution_count": 24,
   "id": "c51ee5ef-95d0-40c5-8c6f-dec55a54ba8d",
   "metadata": {},
   "outputs": [
    {
     "data": {
      "text/plain": [
       "(0.8361850461836101, 0.0025725398031045715)"
      ]
     },
     "execution_count": 24,
     "metadata": {},
     "output_type": "execute_result"
    }
   ],
   "source": [
    "ss.pearsonr(sizes,prices)"
   ]
  },
  {
   "cell_type": "markdown",
   "id": "7eb2c36e-c1cd-41ec-be01-385748282f3a",
   "metadata": {},
   "source": [
    "# Display mode for ages"
   ]
  },
  {
   "cell_type": "code",
   "execution_count": 25,
   "id": "d62ba519-1def-403f-a9ab-9844aa23f0c7",
   "metadata": {},
   "outputs": [
    {
     "data": {
      "text/plain": [
       "ModeResult(mode=array([5]), count=array([2]))"
      ]
     },
     "execution_count": 25,
     "metadata": {},
     "output_type": "execute_result"
    }
   ],
   "source": [
    "ss.mode(ages)"
   ]
  },
  {
   "cell_type": "markdown",
   "id": "39a2fd10-f8a7-429e-b264-d69c4fb150cf",
   "metadata": {},
   "source": [
    "# Calculate slope and intercept for size and price so that we can calculate price for given size"
   ]
  },
  {
   "cell_type": "code",
   "execution_count": 26,
   "id": "35c850b1-18fe-4187-82ff-98542114acf5",
   "metadata": {},
   "outputs": [
    {
     "data": {
      "text/plain": [
       "LinregressResult(slope=0.011393721128941818, intercept=5.9070168353315005, rvalue=0.83618504618361, pvalue=0.002572539803104576, stderr=0.002642123965417807, intercept_stderr=5.376667089848954)"
      ]
     },
     "execution_count": 26,
     "metadata": {},
     "output_type": "execute_result"
    }
   ],
   "source": [
    "size_reg = ss.linregress(sizes,prices)\n",
    "size_reg"
   ]
  },
  {
   "cell_type": "code",
   "execution_count": 27,
   "id": "61f6a483-9862-4788-a03c-0db436b2a60f",
   "metadata": {},
   "outputs": [
    {
     "name": "stdout",
     "output_type": "stream",
     "text": [
      "[1500, 1550, 1600, 1850] [22.997598528744227, 23.56728458519132, 24.13697064163841, 26.985400923873865]\n"
     ]
    }
   ],
   "source": [
    "sizes_list = [1500,1550,1600,1850]\n",
    "prices_list = []\n",
    "\n",
    "for n in sizes_list:\n",
    "    price = size_reg.slope * n + size_reg.intercept\n",
    "    prices_list.append(price)\n",
    "\n",
    "print(sizes_list,prices_list)    "
   ]
  },
  {
   "cell_type": "markdown",
   "id": "afcd97d3-2d5f-4975-a381-5d1d3b95412a",
   "metadata": {},
   "source": [
    "### Based on age and size of the house find price. Use multi-variable regression to calculate price."
   ]
  },
  {
   "cell_type": "code",
   "execution_count": 28,
   "id": "c8ca3f53-1c87-4136-92b6-3503cbad6aa8",
   "metadata": {},
   "outputs": [
    {
     "data": {
      "text/plain": [
       "LinregressResult(slope=0.011393721128941818, intercept=5.9070168353315005, rvalue=0.83618504618361, pvalue=0.002572539803104576, stderr=0.002642123965417807, intercept_stderr=5.376667089848954)"
      ]
     },
     "execution_count": 28,
     "metadata": {},
     "output_type": "execute_result"
    }
   ],
   "source": [
    "size_reg = ss.linregress(sizes,prices)\n",
    "size_reg"
   ]
  },
  {
   "cell_type": "code",
   "execution_count": 29,
   "id": "cdaf423e-04ec-4ba8-97fb-80e8fc9310f6",
   "metadata": {},
   "outputs": [
    {
     "data": {
      "text/plain": [
       "LinregressResult(slope=0.3053993250843644, intercept=25.48706411698538, rvalue=0.08633046178089812, pvalue=0.8125533057129929, stderr=1.246047411291669, intercept_stderr=8.460285714425103)"
      ]
     },
     "execution_count": 29,
     "metadata": {},
     "output_type": "execute_result"
    }
   ],
   "source": [
    "age_reg = ss.linregress(ages,prices)\n",
    "age_reg"
   ]
  },
  {
   "cell_type": "code",
   "execution_count": 30,
   "id": "3be4b2a3-b7fc-4580-a413-2ca63fd22833",
   "metadata": {},
   "outputs": [],
   "source": [
    "size_avg = s.mean(sizes)\n",
    "age_avg = s.mean(ages)\n",
    "price_avg = s.mean(prices)"
   ]
  },
  {
   "cell_type": "code",
   "execution_count": 31,
   "id": "e6339231-f8d3-4c8f-9e8f-e842c57ab5e1",
   "metadata": {},
   "outputs": [
    {
     "data": {
      "text/plain": [
       "4.044080952316878"
      ]
     },
     "execution_count": 31,
     "metadata": {},
     "output_type": "execute_result"
    }
   ],
   "source": [
    "# Calculate intercept for multiple variables\n",
    "intercept = price_avg - size_reg.slope * size_avg - age_reg.slope * age_avg\n",
    "intercept"
   ]
  },
  {
   "cell_type": "code",
   "execution_count": 32,
   "id": "255e3743-161d-4a3e-af28-776e9ace363f",
   "metadata": {},
   "outputs": [
    {
     "name": "stdout",
     "output_type": "stream",
     "text": [
      "    1000         5     16.96     15.50        1.46\n",
      "    2000         6     28.66     25.50        3.16\n",
      "    1500         2     21.75     22.00       -0.25\n",
      "    1100        10     19.63     10.50        9.13\n",
      "    1670        11     26.43     30.00       -3.57\n",
      "    1550         7     23.84     35.00      -11.16\n",
      "    3000         5     39.75     45.00       -5.25\n",
      "    2400         6     33.22     25.00        8.22\n",
      "    3400         8     45.23     43.00        2.23\n",
      "    1200         1     18.02     22.00       -3.98\n"
     ]
    }
   ],
   "source": [
    "# Calculate price based on both size and age\n",
    "for (size, age, price) in zip(sizes, ages, prices):\n",
    "    p_price = intercept + size * size_reg.slope + age * age_reg.slope\n",
    "    # Find out the difference between predicted price and actual price\n",
    "    diff_price = p_price - price\n",
    "    print(f\"{size:8}  {age:8}  {p_price:8.2f}  {price:8.2f}    {diff_price:8.2f}\")"
   ]
  },
  {
   "cell_type": "markdown",
   "id": "836237e3-2ea7-44c9-8c01-78170abed70d",
   "metadata": {},
   "source": [
    "# Draw plots to visualize data"
   ]
  },
  {
   "cell_type": "code",
   "execution_count": 33,
   "id": "3f4fae34-523c-446f-af58-c9ccd075bf3e",
   "metadata": {},
   "outputs": [
    {
     "data": {
      "text/html": [
       "<div>\n",
       "<style scoped>\n",
       "    .dataframe tbody tr th:only-of-type {\n",
       "        vertical-align: middle;\n",
       "    }\n",
       "\n",
       "    .dataframe tbody tr th {\n",
       "        vertical-align: top;\n",
       "    }\n",
       "\n",
       "    .dataframe thead th {\n",
       "        text-align: right;\n",
       "    }\n",
       "</style>\n",
       "<table border=\"1\" class=\"dataframe\">\n",
       "  <thead>\n",
       "    <tr style=\"text-align: right;\">\n",
       "      <th></th>\n",
       "      <th>weight</th>\n",
       "      <th>height</th>\n",
       "    </tr>\n",
       "  </thead>\n",
       "  <tbody>\n",
       "    <tr>\n",
       "      <th>0</th>\n",
       "      <td>90</td>\n",
       "      <td>180</td>\n",
       "    </tr>\n",
       "    <tr>\n",
       "      <th>1</th>\n",
       "      <td>80</td>\n",
       "      <td>160</td>\n",
       "    </tr>\n",
       "    <tr>\n",
       "      <th>2</th>\n",
       "      <td>76</td>\n",
       "      <td>179</td>\n",
       "    </tr>\n",
       "    <tr>\n",
       "      <th>3</th>\n",
       "      <td>88</td>\n",
       "      <td>185</td>\n",
       "    </tr>\n",
       "    <tr>\n",
       "      <th>4</th>\n",
       "      <td>77</td>\n",
       "      <td>160</td>\n",
       "    </tr>\n",
       "    <tr>\n",
       "      <th>5</th>\n",
       "      <td>88</td>\n",
       "      <td>145</td>\n",
       "    </tr>\n",
       "    <tr>\n",
       "      <th>6</th>\n",
       "      <td>96</td>\n",
       "      <td>176</td>\n",
       "    </tr>\n",
       "    <tr>\n",
       "      <th>7</th>\n",
       "      <td>56</td>\n",
       "      <td>175</td>\n",
       "    </tr>\n",
       "    <tr>\n",
       "      <th>8</th>\n",
       "      <td>59</td>\n",
       "      <td>180</td>\n",
       "    </tr>\n",
       "    <tr>\n",
       "      <th>9</th>\n",
       "      <td>67</td>\n",
       "      <td>199</td>\n",
       "    </tr>\n",
       "  </tbody>\n",
       "</table>\n",
       "</div>"
      ],
      "text/plain": [
       "   weight  height\n",
       "0      90     180\n",
       "1      80     160\n",
       "2      76     179\n",
       "3      88     185\n",
       "4      77     160\n",
       "5      88     145\n",
       "6      96     176\n",
       "7      56     175\n",
       "8      59     180\n",
       "9      67     199"
      ]
     },
     "execution_count": 33,
     "metadata": {},
     "output_type": "execute_result"
    }
   ],
   "source": [
    "df = pd.DataFrame({\"weight\" : weights, \"height\"  : heights})\n",
    "df"
   ]
  },
  {
   "cell_type": "markdown",
   "id": "02c9fa91-8fac-413f-9946-fff39836eed8",
   "metadata": {},
   "source": [
    "# Draw a histogram for weights"
   ]
  },
  {
   "cell_type": "code",
   "execution_count": 34,
   "id": "a1015366-8ff1-47fc-bfa1-a6d295ad6c05",
   "metadata": {},
   "outputs": [
    {
     "data": {
      "text/plain": [
       "<AxesSubplot:ylabel='Frequency'>"
      ]
     },
     "execution_count": 34,
     "metadata": {},
     "output_type": "execute_result"
    },
    {
     "data": {
      "image/png": "[encoded data removed]",
      "text/plain": [
       "<Figure size 432x288 with 1 Axes>"
      ]
     },
     "metadata": {
      "needs_background": "light"
     },
     "output_type": "display_data"
    }
   ],
   "source": [
    "df[\"weight\"].plot.hist()"
   ]
  },
  {
   "cell_type": "markdown",
   "id": "ac8b3178-d5aa-4985-96eb-3974f349edce",
   "metadata": {},
   "source": [
    "# Display a scatter plot for weights and heights"
   ]
  },
  {
   "cell_type": "code",
   "execution_count": 35,
   "id": "68acd693-88fc-41f8-8b87-174274787ecb",
   "metadata": {},
   "outputs": [
    {
     "data": {
      "text/plain": [
       "<AxesSubplot:ylabel='Frequency'>"
      ]
     },
     "execution_count": 35,
     "metadata": {},
     "output_type": "execute_result"
    },
    {
     "data": {
      "image/png": "[encoded data removed]",
      "text/plain": [
       "<Figure size 432x288 with 1 Axes>"
      ]
     },
     "metadata": {
      "needs_background": "light"
     },
     "output_type": "display_data"
    }
   ],
   "source": [
    "df[\"height\"].plot.hist()"
   ]
  },
  {
   "cell_type": "markdown",
   "id": "c030fb06-f2b0-4acb-acf5-780a2c4c4175",
   "metadata": {},
   "source": [
    "# Display a scatter plot for weights and heights"
   ]
  },
  {
   "cell_type": "code",
   "execution_count": 36,
   "id": "64f6a7ea-f722-46ba-bd06-ca610cfee0c0",
   "metadata": {},
   "outputs": [
    {
     "data": {
      "text/plain": [
       "<AxesSubplot:xlabel='height', ylabel='weight'>"
      ]
     },
     "execution_count": 36,
     "metadata": {},
     "output_type": "execute_result"
    },
    {
     "data": {
      "image/png": "[encoded data removed]",
      "text/plain": [
       "<Figure size 432x288 with 1 Axes>"
      ]
     },
     "metadata": {
      "needs_background": "light"
     },
     "output_type": "display_data"
    }
   ],
   "source": [
    "df.plot.scatter(x = \"height\", y = \"weight\")"
   ]
  },
  {
   "cell_type": "markdown",
   "id": "099bb4a8-889a-4329-86b8-e3a2c2afb211",
   "metadata": {},
   "source": [
    "# Display box plot for heights with meanline"
   ]
  },
  {
   "cell_type": "code",
   "execution_count": 39,
   "id": "64fb47bb-f01e-4953-a228-b92a7ab3f335",
   "metadata": {},
   "outputs": [
    {
     "data": {
      "text/plain": [
       "<AxesSubplot:>"
      ]
     },
     "execution_count": 39,
     "metadata": {},
     "output_type": "execute_result"
    },
    {
     "data": {
      "image/png": "[encoded data removed]",
      "text/plain": [
       "<Figure size 432x288 with 1 Axes>"
      ]
     },
     "metadata": {
      "needs_background": "light"
     },
     "output_type": "display_data"
    }
   ],
   "source": [
    "df[\"height\"].plot.box(showmeans = True, meanline = True)"
   ]
  },
  {
   "cell_type": "code",
   "execution_count": null,
   "id": "6eea63ab-d571-4ee6-bebf-60cbd377fef8",
   "metadata": {},
   "outputs": [],
   "source": []
  }
 ],
 "metadata": {
  "kernelspec": {
   "display_name": "Python 3 (ipykernel)",
   "language": "python",
   "name": "python3"
  },
  "language_info": {
   "codemirror_mode": {
    "name": "ipython",
    "version": 3
   },
   "file_extension": ".py",
   "mimetype": "text/x-python",
   "name": "python",
   "nbconvert_exporter": "python",
   "pygments_lexer": "ipython3",
   "version": "3.9.12"
  }
 },
 "nbformat": 4,
 "nbformat_minor": 5
}
