{
 "cells": [
  {
   "cell_type": "markdown",
   "id": "391ea960-fe7a-4520-b85e-4cf8ea2d534a",
   "metadata": {},
   "source": [
    "# Assignments related to numpy"
   ]
  },
  {
   "cell_type": "code",
   "execution_count": 1,
   "id": "5ae6f7ca-86ce-4a26-8a1a-29f2c7c6b19e",
   "metadata": {},
   "outputs": [],
   "source": [
    "import numpy as np\n",
    "import matplotlib.pyplot as plt"
   ]
  },
  {
   "cell_type": "markdown",
   "id": "83c3471b-15de-49aa-89ef-80bab8af8a34",
   "metadata": {},
   "source": [
    "# Creating Array"
   ]
  },
  {
   "cell_type": "code",
   "execution_count": 2,
   "id": "f4c909d1-2f3d-47f7-b9f7-2260c9657043",
   "metadata": {},
   "outputs": [],
   "source": [
    "a = np.arange(10, 0, -1)"
   ]
  },
  {
   "cell_type": "code",
   "execution_count": 3,
   "id": "7f5a3356-6bdc-4e3d-b93e-c5fdaeacc6f4",
   "metadata": {},
   "outputs": [
    {
     "data": {
      "text/plain": [
       "array([10,  9,  8,  7,  6,  5,  4,  3,  2,  1])"
      ]
     },
     "execution_count": 3,
     "metadata": {},
     "output_type": "execute_result"
    }
   ],
   "source": [
    "a"
   ]
  },
  {
   "cell_type": "markdown",
   "id": "a56c801d-8a4f-4269-942d-98ea478e7b5e",
   "metadata": {},
   "source": [
    "# Create a array 3 X 3 Matrix"
   ]
  },
  {
   "cell_type": "code",
   "execution_count": 4,
   "id": "4a4347e5-5296-483c-9f4e-bc2bfd2ab73d",
   "metadata": {},
   "outputs": [
    {
     "data": {
      "text/plain": [
       "array([[10, 10, 10],\n",
       "       [10, 10, 10],\n",
       "       [10, 10, 10]])"
      ]
     },
     "execution_count": 4,
     "metadata": {},
     "output_type": "execute_result"
    }
   ],
   "source": [
    "a = np.full((3,3),(10))\n",
    "a"
   ]
  },
  {
   "cell_type": "markdown",
   "id": "09fce3a3-f93f-44e5-9203-0494b6d1f4c3",
   "metadata": {},
   "source": [
    "# Create an array of 20 random elements from 50 to 100"
   ]
  },
  {
   "cell_type": "code",
   "execution_count": 5,
   "id": "a86cd939-1a9b-4434-b0c6-deb7061c73d1",
   "metadata": {},
   "outputs": [
    {
     "data": {
      "text/plain": [
       "array([90, 64, 53, 75, 71, 89, 93, 65, 86, 97, 66, 65, 70, 87, 75, 85, 84,\n",
       "       79, 83, 55])"
      ]
     },
     "execution_count": 5,
     "metadata": {},
     "output_type": "execute_result"
    }
   ],
   "source": [
    "a = np.random.randint(50,100,20)\n",
    "a"
   ]
  },
  {
   "cell_type": "markdown",
   "id": "78f36582-7500-4526-b101-6b31c6793e15",
   "metadata": {},
   "source": [
    "# Create an array of 10 elements from 1 to 25 with uniform space"
   ]
  },
  {
   "cell_type": "code",
   "execution_count": 6,
   "id": "6708bd0a-5259-4f2b-808f-99217d0ca1ab",
   "metadata": {},
   "outputs": [],
   "source": [
    "a, step = np.linspace(1, 25, 10, retstep = True)"
   ]
  },
  {
   "cell_type": "code",
   "execution_count": 7,
   "id": "b5b6492d-04aa-42c3-b731-e9b2e030782b",
   "metadata": {},
   "outputs": [
    {
     "data": {
      "text/plain": [
       "(array([ 1.        ,  3.66666667,  6.33333333,  9.        , 11.66666667,\n",
       "        14.33333333, 17.        , 19.66666667, 22.33333333, 25.        ]),\n",
       " 2.6666666666666665)"
      ]
     },
     "execution_count": 7,
     "metadata": {},
     "output_type": "execute_result"
    }
   ],
   "source": [
    "a, step"
   ]
  },
  {
   "cell_type": "markdown",
   "id": "db4288ca-80dd-4f9f-be54-3f00a86efb1b",
   "metadata": {},
   "source": [
    "# Indexing and Slicing"
   ]
  },
  {
   "cell_type": "code",
   "execution_count": 8,
   "id": "8da52f79-93b5-4430-b1ad-005d69098399",
   "metadata": {},
   "outputs": [
    {
     "data": {
      "text/plain": [
       "array([[83, 35, 52, 72, 31],\n",
       "       [18, 38, 42, 28, 69],\n",
       "       [98, 97, 83, 71, 65],\n",
       "       [27, 22, 44,  2, 50],\n",
       "       [35, 59, 97, 12, 94]])"
      ]
     },
     "execution_count": 8,
     "metadata": {},
     "output_type": "execute_result"
    }
   ],
   "source": [
    "ar = np.random.randint(1, 100,(5,5))\n",
    "ar"
   ]
  },
  {
   "cell_type": "markdown",
   "id": "fd612235-07a4-4e56-8b32-2db7ffc6feca",
   "metadata": {},
   "source": [
    "# Display last two rows of 5 X 5 matrix"
   ]
  },
  {
   "cell_type": "code",
   "execution_count": 9,
   "id": "164ef4be-a021-4cac-8e8f-87215578265a",
   "metadata": {},
   "outputs": [
    {
     "data": {
      "text/plain": [
       "array([[27, 22, 44,  2, 50],\n",
       "       [35, 59, 97, 12, 94]])"
      ]
     },
     "execution_count": 9,
     "metadata": {},
     "output_type": "execute_result"
    }
   ],
   "source": [
    "ar[-2::,:]"
   ]
  },
  {
   "cell_type": "markdown",
   "id": "eb18d067-5aa4-4760-8459-ccaf717ba887",
   "metadata": {},
   "source": [
    "# Display last two columns of 3rd to 5th row"
   ]
  },
  {
   "cell_type": "code",
   "execution_count": 10,
   "id": "8f319270-95c3-4411-947a-c50b88764f40",
   "metadata": {},
   "outputs": [
    {
     "data": {
      "text/plain": [
       "array([[71, 65],\n",
       "       [ 2, 50],\n",
       "       [12, 94]])"
      ]
     },
     "execution_count": 10,
     "metadata": {},
     "output_type": "execute_result"
    }
   ],
   "source": [
    "ar[2:5:,-2::]"
   ]
  },
  {
   "cell_type": "markdown",
   "id": "fc392092-c059-40a3-b263-25c023cc790d",
   "metadata": {},
   "source": [
    "# Display last column of alternate rows"
   ]
  },
  {
   "cell_type": "code",
   "execution_count": 11,
   "id": "623d5785-b3ec-4a29-870b-37559efb808b",
   "metadata": {},
   "outputs": [
    {
     "data": {
      "text/plain": [
       "(array([[31],\n",
       "        [65],\n",
       "        [94]]),)"
      ]
     },
     "execution_count": 11,
     "metadata": {},
     "output_type": "execute_result"
    }
   ],
   "source": [
    "ar[::2,-1::], # This will give you matrix"
   ]
  },
  {
   "cell_type": "code",
   "execution_count": 12,
   "id": "ee3c3414-9f63-4644-802c-631363e0c2a6",
   "metadata": {},
   "outputs": [
    {
     "data": {
      "text/plain": [
       "array([31, 65, 94])"
      ]
     },
     "execution_count": 12,
     "metadata": {},
     "output_type": "execute_result"
    }
   ],
   "source": [
    "ar[::2,-1]   # This will give you a vector"
   ]
  },
  {
   "cell_type": "markdown",
   "id": "a060839c-1a8b-4a7f-87eb-936dacfc9dd1",
   "metadata": {},
   "source": [
    "# Display 0,3,4and columns 1,3 of 5 X 5 array"
   ]
  },
  {
   "cell_type": "code",
   "execution_count": 13,
   "id": "1baff879-26dc-4f08-b577-ebf0526b1094",
   "metadata": {},
   "outputs": [],
   "source": [
    "ridx = [0,3,4]\n",
    "cidx = [1,3]"
   ]
  },
  {
   "cell_type": "code",
   "execution_count": 14,
   "id": "9219f29a-20df-492f-90d3-d1485fa8e252",
   "metadata": {},
   "outputs": [
    {
     "data": {
      "text/plain": [
       "([0, 3, 4], [1, 3])"
      ]
     },
     "execution_count": 14,
     "metadata": {},
     "output_type": "execute_result"
    }
   ],
   "source": [
    "ridx,cidx"
   ]
  },
  {
   "cell_type": "code",
   "execution_count": 15,
   "id": "2ba7ad87-312c-4ae5-b951-dbe9ce84ce89",
   "metadata": {},
   "outputs": [
    {
     "data": {
      "text/plain": [
       "array([[35, 72],\n",
       "       [22,  2],\n",
       "       [59, 12]])"
      ]
     },
     "execution_count": 15,
     "metadata": {},
     "output_type": "execute_result"
    }
   ],
   "source": [
    "ar[ridx,1::2]"
   ]
  },
  {
   "cell_type": "markdown",
   "id": "83b789a7-745e-413d-8a59-1c9cb217989e",
   "metadata": {},
   "source": [
    "# Display all elements where number is even"
   ]
  },
  {
   "cell_type": "code",
   "execution_count": 16,
   "id": "0e0eb8c9-c096-40b7-a44d-99a58252da84",
   "metadata": {},
   "outputs": [
    {
     "name": "stdout",
     "output_type": "stream",
     "text": [
      "[52 72 18 38 42 28 98 22 44  2 50 12 94]\n"
     ]
    }
   ],
   "source": [
    "print(ar[ar % 2 == 0])"
   ]
  },
  {
   "cell_type": "markdown",
   "id": "65eba636-d79a-4591-816e-93032a2e87ed",
   "metadata": {},
   "source": [
    "# Array operations"
   ]
  },
  {
   "cell_type": "code",
   "execution_count": 17,
   "id": "7003a09b-17c8-4ef8-9a82-d5be8934630b",
   "metadata": {},
   "outputs": [
    {
     "data": {
      "text/plain": [
       "array([[83, 35, 53, 73, 31],\n",
       "       [19, 39, 43, 29, 69],\n",
       "       [99, 97, 83, 71, 65],\n",
       "       [27, 23, 45,  3, 51],\n",
       "       [35, 59, 97, 13, 95]])"
      ]
     },
     "execution_count": 17,
     "metadata": {},
     "output_type": "execute_result"
    }
   ],
   "source": [
    "even_idx = ar % 2 == 0\n",
    "ar[even_idx] = ar[even_idx] + 1\n",
    "ar"
   ]
  },
  {
   "cell_type": "markdown",
   "id": "e1c3334b-06a6-4f6b-b888-d24f79f9bd1f",
   "metadata": {},
   "source": [
    "# Store square of all elements in the array"
   ]
  },
  {
   "cell_type": "code",
   "execution_count": 18,
   "id": "8a504e6d-e3d4-47ef-86b4-42c40f86ca0d",
   "metadata": {},
   "outputs": [
    {
     "name": "stdout",
     "output_type": "stream",
     "text": [
      "[13 23 19 21  4 11 22  2 21  8]\n",
      "[169 529 361 441  16 121 484   4 441  64]\n"
     ]
    }
   ],
   "source": [
    "a = np.random.randint(1, 30, 10)\n",
    "print(a)\n",
    "a_squares = a * a\n",
    "print(a_squares)"
   ]
  },
  {
   "cell_type": "markdown",
   "id": "17d31d70-db7e-44b6-a0f7-d3a3e9a2f0d1",
   "metadata": {},
   "source": [
    "# Methods of ndarray"
   ]
  },
  {
   "cell_type": "code",
   "execution_count": 19,
   "id": "91c085e2-5682-4655-be11-b21037656e49",
   "metadata": {},
   "outputs": [
    {
     "data": {
      "text/plain": [
       "array([ 13,  36,  55,  76,  80,  91, 113, 115, 136, 144], dtype=int32)"
      ]
     },
     "execution_count": 19,
     "metadata": {},
     "output_type": "execute_result"
    }
   ],
   "source": [
    "a.cumsum()"
   ]
  },
  {
   "cell_type": "markdown",
   "id": "b35b8166-0911-4e5b-948d-fd49ae266c35",
   "metadata": {},
   "source": [
    "# Display where in a sorted array of 10 elements number 20 fits in"
   ]
  },
  {
   "cell_type": "code",
   "execution_count": 20,
   "id": "22cf70ce-d7ae-47c1-8f00-a7aa0016cda1",
   "metadata": {},
   "outputs": [
    {
     "data": {
      "text/plain": [
       "6"
      ]
     },
     "execution_count": 20,
     "metadata": {},
     "output_type": "execute_result"
    }
   ],
   "source": [
    "a.sort()   # Sorts in place\n",
    "a.searchsorted(20)"
   ]
  },
  {
   "cell_type": "markdown",
   "id": "d7f10525-ac4c-4df0-bda5-96a07dd22f4c",
   "metadata": {},
   "source": [
    "### Display index for maximum and minimum value in an array of 10 elements"
   ]
  },
  {
   "cell_type": "code",
   "execution_count": 21,
   "id": "039efc8c-e983-40ff-b17a-6c22b35182b9",
   "metadata": {},
   "outputs": [
    {
     "name": "stdout",
     "output_type": "stream",
     "text": [
      "[9 9 1 3 8 7 4 4 8 8]\n"
     ]
    }
   ],
   "source": [
    "b = np.random.randint(1, 10, 10)\n",
    "print(b)"
   ]
  },
  {
   "cell_type": "code",
   "execution_count": 28,
   "id": "ff6e697e-ed14-49bd-9fbd-d625d9f58ec6",
   "metadata": {},
   "outputs": [
    {
     "data": {
      "text/plain": [
       "(array([0, 1], dtype=int64),)"
      ]
     },
     "execution_count": 28,
     "metadata": {},
     "output_type": "execute_result"
    }
   ],
   "source": [
    "np.where(b ==b.max())"
   ]
  },
  {
   "cell_type": "code",
   "execution_count": 29,
   "id": "98cf752f-33d0-4d9b-9447-4109a5e7a2cf",
   "metadata": {},
   "outputs": [
    {
     "data": {
      "text/plain": [
       "(array([2], dtype=int64),)"
      ]
     },
     "execution_count": 29,
     "metadata": {},
     "output_type": "execute_result"
    }
   ],
   "source": [
    "np.where(b == b.min())"
   ]
  },
  {
   "cell_type": "code",
   "execution_count": 32,
   "id": "d2a385a8-577a-431d-bc45-c25ac2739f92",
   "metadata": {},
   "outputs": [
    {
     "data": {
      "text/plain": [
       "0"
      ]
     },
     "execution_count": 32,
     "metadata": {},
     "output_type": "execute_result"
    }
   ],
   "source": [
    "b.tolist().index(b.max())"
   ]
  },
  {
   "cell_type": "code",
   "execution_count": 33,
   "id": "37148135-6bca-4c69-a445-b9230082160d",
   "metadata": {},
   "outputs": [
    {
     "data": {
      "text/plain": [
       "2"
      ]
     },
     "execution_count": 33,
     "metadata": {},
     "output_type": "execute_result"
    }
   ],
   "source": [
    "b.tolist().index(b.min())"
   ]
  },
  {
   "cell_type": "markdown",
   "id": "c8297b3c-1b96-4be9-a815-d460db238a46",
   "metadata": {},
   "source": [
    "## Display highest value in each row of 5 x 5 matrix"
   ]
  },
  {
   "cell_type": "code",
   "execution_count": 34,
   "id": "72551100-4cf4-430f-93f7-89f43cd4dd02",
   "metadata": {},
   "outputs": [
    {
     "name": "stdout",
     "output_type": "stream",
     "text": [
      "[[35 31  8  4 48]\n",
      " [36 44  5 33 11]\n",
      " [ 6  8 24 42 35]\n",
      " [30 15 26  6 40]\n",
      " [38 15 25 10 19]]\n",
      "Max number in each row : [48 44 42 40 38]\n"
     ]
    }
   ],
   "source": [
    "a = np.random.randint(1, 50, (5,5))\n",
    "print(a)\n",
    "max_avg = a.max(axis = 1)\n",
    "print(f\"Max number in each row :\", max_avg)"
   ]
  },
  {
   "cell_type": "markdown",
   "id": "f5ea83d7-b994-41ec-9cda-aad9b302d65e",
   "metadata": {},
   "source": [
    "## Display average in each row"
   ]
  },
  {
   "cell_type": "code",
   "execution_count": 35,
   "id": "957ace33-20de-472d-92c2-1ff150cfc1af",
   "metadata": {},
   "outputs": [
    {
     "name": "stdout",
     "output_type": "stream",
     "text": [
      "Mean number in each row  : [25.2 25.8 23.  23.4 21.4]\n"
     ]
    }
   ],
   "source": [
    "mean_of_row = a.mean(axis = 1)\n",
    "print(f\"Mean number in each row  :\", mean_of_row)"
   ]
  },
  {
   "cell_type": "markdown",
   "id": "03dac982-7d54-46d9-80d5-40f349caeea7",
   "metadata": {},
   "source": [
    "## Display all non-zero elements in each row"
   ]
  },
  {
   "cell_type": "code",
   "execution_count": 36,
   "id": "78b3e7f7-24e4-4450-b961-91948cae77ed",
   "metadata": {},
   "outputs": [
    {
     "name": "stdout",
     "output_type": "stream",
     "text": [
      "[[0 3 2 0 0]\n",
      " [3 3 4 1 2]\n",
      " [3 1 3 2 4]\n",
      " [3 2 0 0 1]\n",
      " [2 4 1 2 1]]\n"
     ]
    }
   ],
   "source": [
    "a = np.random.randint(0,5,(5,5))\n",
    "print(a)"
   ]
  },
  {
   "cell_type": "code",
   "execution_count": 37,
   "id": "b28e932f-4d4d-44ef-94af-7bc3c3412d49",
   "metadata": {},
   "outputs": [
    {
     "data": {
      "text/plain": [
       "array([3, 2, 3, 3, 4, 1, 2, 3, 1, 3, 2, 4, 3, 2, 1, 2, 4, 1, 2, 1])"
      ]
     },
     "execution_count": 37,
     "metadata": {},
     "output_type": "execute_result"
    }
   ],
   "source": [
    "a[a != 0]"
   ]
  },
  {
   "cell_type": "markdown",
   "id": "147549bf-35bd-4279-8ac1-86f67603d458",
   "metadata": {},
   "source": [
    "# Sort each row of a 5 x 5 matrix"
   ]
  },
  {
   "cell_type": "code",
   "execution_count": 38,
   "id": "69a08bbe-7e39-45a5-8b41-f8618a53f323",
   "metadata": {},
   "outputs": [],
   "source": [
    "a.sort(axis = 1)"
   ]
  },
  {
   "cell_type": "code",
   "execution_count": 39,
   "id": "5beae4d3-1ba5-4927-8748-fe0650f8cca8",
   "metadata": {},
   "outputs": [
    {
     "data": {
      "text/plain": [
       "array([[0, 0, 0, 2, 3],\n",
       "       [1, 2, 3, 3, 4],\n",
       "       [1, 2, 3, 3, 4],\n",
       "       [0, 0, 1, 2, 3],\n",
       "       [1, 1, 2, 2, 4]])"
      ]
     },
     "execution_count": 39,
     "metadata": {},
     "output_type": "execute_result"
    }
   ],
   "source": [
    "a"
   ]
  },
  {
   "cell_type": "code",
   "execution_count": null,
   "id": "c0852e02-1e80-4254-8776-65f22a105a48",
   "metadata": {},
   "outputs": [],
   "source": []
  }
 ],
 "metadata": {
  "kernelspec": {
   "display_name": "Python 3 (ipykernel)",
   "language": "python",
   "name": "python3"
  },
  "language_info": {
   "codemirror_mode": {
    "name": "ipython",
    "version": 3
   },
   "file_extension": ".py",
   "mimetype": "text/x-python",
   "name": "python",
   "nbconvert_exporter": "python",
   "pygments_lexer": "ipython3",
   "version": "3.9.12"
  }
 },
 "nbformat": 4,
 "nbformat_minor": 5
}
