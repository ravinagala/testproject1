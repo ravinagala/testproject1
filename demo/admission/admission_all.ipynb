{
 "cells": [
  {
   "cell_type": "markdown",
   "id": "3dff4fbd-9c4a-407c-a270-3e5f8235461c",
   "metadata": {},
   "source": [
    "# LOAD LIBRARIES"
   ]
  },
  {
   "cell_type": "code",
   "execution_count": 30,
   "id": "16bc81f6-c6b3-44d2-b388-0c19c9a01df6",
   "metadata": {},
   "outputs": [],
   "source": [
    "import numpy as np\n",
    "import pandas as pd\n",
    "import seaborn as sns\n",
    "import matplotlib.pyplot as plt"
   ]
  },
  {
   "cell_type": "markdown",
   "id": "4d2bb628-c514-44b7-8b23-eddf8dcd4675",
   "metadata": {},
   "source": [
    "### LOAD DATA FROM ADMISSION.CSV"
   ]
  },
  {
   "cell_type": "code",
   "execution_count": 31,
   "id": "3533e05a-a646-40b1-ada0-895ac9ab43b4",
   "metadata": {},
   "outputs": [],
   "source": [
    "df = pd.read_csv(\"admission.csv\")"
   ]
  },
  {
   "cell_type": "code",
   "execution_count": 32,
   "id": "c3f5c989-441f-4155-91f4-1d697a58bde3",
   "metadata": {},
   "outputs": [
    {
     "data": {
      "text/plain": [
       "Index(['Sno', 'Gre', 'Toefl', 'Rating', 'Sop', 'Lor', 'Cgpa', 'Research',\n",
       "       'Chance'],\n",
       "      dtype='object')"
      ]
     },
     "execution_count": 32,
     "metadata": {},
     "output_type": "execute_result"
    }
   ],
   "source": [
    "df.columns"
   ]
  },
  {
   "cell_type": "markdown",
   "id": "05bd98ff-8bad-487c-8b77-ad7974418daf",
   "metadata": {},
   "source": [
    "### BUILD MACHINE LEARNING MODEL FOR ALL COLUMNS LEAVING CHANCE AND SNO(AS SNO IS IRRELEVANT TO THE SITUATION)"
   ]
  },
  {
   "cell_type": "code",
   "execution_count": 33,
   "id": "e890e584-19ee-4f7e-a84e-ed152db1e474",
   "metadata": {},
   "outputs": [],
   "source": [
    "from sklearn.model_selection import train_test_split\n",
    "from sklearn.linear_model import LinearRegression"
   ]
  },
  {
   "cell_type": "code",
   "execution_count": 34,
   "id": "dadf7b44-b3bc-4309-9725-eb312f89c72c",
   "metadata": {},
   "outputs": [],
   "source": [
    "X = df.drop(columns = [\"Chance\", \"Sno\"])\n",
    "y = df[\"Chance\"]  * 100"
   ]
  },
  {
   "cell_type": "code",
   "execution_count": 35,
   "id": "857ff0bd-db2a-4a4a-ab8b-c7ca1cb30ac4",
   "metadata": {},
   "outputs": [],
   "source": [
    "# SPLIT THE DATA INTO TRAIN AND TEST\n",
    "X_train, X_test, y_train, y_test = train_test_split(X, y, test_size = 0.2, random_state = 0)"
   ]
  },
  {
   "cell_type": "code",
   "execution_count": 36,
   "id": "e1ae7a14-f283-44d3-bcca-e77dacaea0b7",
   "metadata": {},
   "outputs": [
    {
     "data": {
      "text/plain": [
       "((400, 7), (100, 7), (400,), (100,))"
      ]
     },
     "execution_count": 36,
     "metadata": {},
     "output_type": "execute_result"
    }
   ],
   "source": [
    "X_train.shape, X_test.shape, y_train.shape, y_test.shape"
   ]
  },
  {
   "cell_type": "code",
   "execution_count": 37,
   "id": "e61316d1-0950-4d12-9bd3-9be1d3939e3f",
   "metadata": {},
   "outputs": [
    {
     "data": {
      "text/plain": [
       "LinearRegression()"
      ]
     },
     "execution_count": 37,
     "metadata": {},
     "output_type": "execute_result"
    }
   ],
   "source": [
    "# FIT MODEL OR TRAIN MODEL OR BUILD MODEL\n",
    "lr_model = LinearRegression()\n",
    "lr_model.fit(X_train, y_train)"
   ]
  },
  {
   "cell_type": "code",
   "execution_count": 38,
   "id": "0fe9158a-ad58-41ef-b25b-e17251a2bef8",
   "metadata": {},
   "outputs": [
    {
     "name": "stdout",
     "output_type": "stream",
     "text": [
      "Gre             =     0.2141\n",
      "Toefl           =     0.2770\n",
      "Rating          =     0.5557\n",
      "Sop             =     0.0510\n",
      "Lor             =     2.0413\n",
      "Cgpa            =    11.5054\n",
      "Research        =     2.4126\n"
     ]
    }
   ],
   "source": [
    "for c,s in zip(X_train.columns, lr_model.coef_):\n",
    "    print(f\"{c:15} = {s:10.4f}\")"
   ]
  },
  {
   "cell_type": "code",
   "execution_count": 39,
   "id": "c907e4ae-462a-4039-b6ee-218213b31871",
   "metadata": {},
   "outputs": [
    {
     "data": {
      "text/plain": [
       "-134.41673411950725"
      ]
     },
     "execution_count": 39,
     "metadata": {},
     "output_type": "execute_result"
    }
   ],
   "source": [
    "lr_model.intercept_"
   ]
  },
  {
   "cell_type": "markdown",
   "id": "297afeee-2fe0-4192-b366-005d96b639fd",
   "metadata": {},
   "source": [
    "### EVALUATE WITH TRAIN DATA"
   ]
  },
  {
   "cell_type": "code",
   "execution_count": 40,
   "id": "cead812d-499a-4d12-aee6-f32d3db2c349",
   "metadata": {},
   "outputs": [
    {
     "data": {
      "text/plain": [
       "0.8320945273130533"
      ]
     },
     "execution_count": 40,
     "metadata": {},
     "output_type": "execute_result"
    }
   ],
   "source": [
    "lr_model.score(X_train, y_train)   # R2 SCORE"
   ]
  },
  {
   "cell_type": "code",
   "execution_count": 41,
   "id": "d9bb8730-0dd7-4179-a9a8-2c9ef37a67e0",
   "metadata": {},
   "outputs": [],
   "source": [
    "from sklearn.metrics import mean_squared_error"
   ]
  },
  {
   "cell_type": "code",
   "execution_count": 42,
   "id": "b34192aa-f3f7-40d9-b096-8c17deeaef4b",
   "metadata": {},
   "outputs": [],
   "source": [
    "y_pred = lr_model.predict(X_train)"
   ]
  },
  {
   "cell_type": "code",
   "execution_count": 43,
   "id": "d010046b-eb1b-49b0-93a8-475a196bfee8",
   "metadata": {},
   "outputs": [
    {
     "name": "stdout",
     "output_type": "stream",
     "text": [
      "MSE : 34.200829439440035\n",
      "RMSE : 5.848147522031232\n"
     ]
    }
   ],
   "source": [
    "mse = mean_squared_error(y_train, y_pred)\n",
    "print(\"MSE :\", mse)\n",
    "print(\"RMSE :\", np.sqrt(mse))"
   ]
  },
  {
   "cell_type": "code",
   "execution_count": 44,
   "id": "65e412f4-b840-499f-8d55-9497de50017e",
   "metadata": {},
   "outputs": [],
   "source": [
    "result = pd.DataFrame( {\"Actual\" : y_train, \"Prdeicted\" : y_pred})"
   ]
  },
  {
   "cell_type": "code",
   "execution_count": 45,
   "id": "336a5c2e-a148-4453-9337-d60ae1a76c1e",
   "metadata": {},
   "outputs": [
    {
     "data": {
      "text/html": [
       "<div>\n",
       "<style scoped>\n",
       "    .dataframe tbody tr th:only-of-type {\n",
       "        vertical-align: middle;\n",
       "    }\n",
       "\n",
       "    .dataframe tbody tr th {\n",
       "        vertical-align: top;\n",
       "    }\n",
       "\n",
       "    .dataframe thead th {\n",
       "        text-align: right;\n",
       "    }\n",
       "</style>\n",
       "<table border=\"1\" class=\"dataframe\">\n",
       "  <thead>\n",
       "    <tr style=\"text-align: right;\">\n",
       "      <th></th>\n",
       "      <th>Actual</th>\n",
       "      <th>Prdeicted</th>\n",
       "    </tr>\n",
       "  </thead>\n",
       "  <tbody>\n",
       "    <tr>\n",
       "      <th>107</th>\n",
       "      <td>91.0</td>\n",
       "      <td>93.217626</td>\n",
       "    </tr>\n",
       "    <tr>\n",
       "      <th>336</th>\n",
       "      <td>72.0</td>\n",
       "      <td>72.424599</td>\n",
       "    </tr>\n",
       "    <tr>\n",
       "      <th>71</th>\n",
       "      <td>96.0</td>\n",
       "      <td>96.508678</td>\n",
       "    </tr>\n",
       "    <tr>\n",
       "      <th>474</th>\n",
       "      <td>67.0</td>\n",
       "      <td>61.987576</td>\n",
       "    </tr>\n",
       "    <tr>\n",
       "      <th>6</th>\n",
       "      <td>75.0</td>\n",
       "      <td>71.262233</td>\n",
       "    </tr>\n",
       "    <tr>\n",
       "      <th>...</th>\n",
       "      <td>...</td>\n",
       "      <td>...</td>\n",
       "    </tr>\n",
       "    <tr>\n",
       "      <th>323</th>\n",
       "      <td>62.0</td>\n",
       "      <td>59.585293</td>\n",
       "    </tr>\n",
       "    <tr>\n",
       "      <th>192</th>\n",
       "      <td>86.0</td>\n",
       "      <td>82.563495</td>\n",
       "    </tr>\n",
       "    <tr>\n",
       "      <th>117</th>\n",
       "      <td>45.0</td>\n",
       "      <td>49.754748</td>\n",
       "    </tr>\n",
       "    <tr>\n",
       "      <th>47</th>\n",
       "      <td>89.0</td>\n",
       "      <td>93.920628</td>\n",
       "    </tr>\n",
       "    <tr>\n",
       "      <th>172</th>\n",
       "      <td>86.0</td>\n",
       "      <td>85.101496</td>\n",
       "    </tr>\n",
       "  </tbody>\n",
       "</table>\n",
       "<p>400 rows × 2 columns</p>\n",
       "</div>"
      ],
      "text/plain": [
       "     Actual  Prdeicted\n",
       "107    91.0  93.217626\n",
       "336    72.0  72.424599\n",
       "71     96.0  96.508678\n",
       "474    67.0  61.987576\n",
       "6      75.0  71.262233\n",
       "..      ...        ...\n",
       "323    62.0  59.585293\n",
       "192    86.0  82.563495\n",
       "117    45.0  49.754748\n",
       "47     89.0  93.920628\n",
       "172    86.0  85.101496\n",
       "\n",
       "[400 rows x 2 columns]"
      ]
     },
     "execution_count": 45,
     "metadata": {},
     "output_type": "execute_result"
    }
   ],
   "source": [
    "result"
   ]
  },
  {
   "cell_type": "code",
   "execution_count": 46,
   "id": "ef7a41d9-4c16-4eab-a4d7-2fa1f0377707",
   "metadata": {},
   "outputs": [
    {
     "data": {
      "text/html": [
       "<div>\n",
       "<style scoped>\n",
       "    .dataframe tbody tr th:only-of-type {\n",
       "        vertical-align: middle;\n",
       "    }\n",
       "\n",
       "    .dataframe tbody tr th {\n",
       "        vertical-align: top;\n",
       "    }\n",
       "\n",
       "    .dataframe thead th {\n",
       "        text-align: right;\n",
       "    }\n",
       "</style>\n",
       "<table border=\"1\" class=\"dataframe\">\n",
       "  <thead>\n",
       "    <tr style=\"text-align: right;\">\n",
       "      <th></th>\n",
       "      <th>Actual</th>\n",
       "      <th>Prdeicted</th>\n",
       "    </tr>\n",
       "  </thead>\n",
       "  <tbody>\n",
       "    <tr>\n",
       "      <th>107</th>\n",
       "      <td>91.0</td>\n",
       "      <td>93.217626</td>\n",
       "    </tr>\n",
       "    <tr>\n",
       "      <th>336</th>\n",
       "      <td>72.0</td>\n",
       "      <td>72.424599</td>\n",
       "    </tr>\n",
       "    <tr>\n",
       "      <th>71</th>\n",
       "      <td>96.0</td>\n",
       "      <td>96.508678</td>\n",
       "    </tr>\n",
       "    <tr>\n",
       "      <th>474</th>\n",
       "      <td>67.0</td>\n",
       "      <td>61.987576</td>\n",
       "    </tr>\n",
       "    <tr>\n",
       "      <th>6</th>\n",
       "      <td>75.0</td>\n",
       "      <td>71.262233</td>\n",
       "    </tr>\n",
       "  </tbody>\n",
       "</table>\n",
       "</div>"
      ],
      "text/plain": [
       "     Actual  Prdeicted\n",
       "107    91.0  93.217626\n",
       "336    72.0  72.424599\n",
       "71     96.0  96.508678\n",
       "474    67.0  61.987576\n",
       "6      75.0  71.262233"
      ]
     },
     "execution_count": 46,
     "metadata": {},
     "output_type": "execute_result"
    }
   ],
   "source": [
    "result.head()"
   ]
  },
  {
   "cell_type": "markdown",
   "id": "cd7e0842-b1ea-4fc8-8dbf-4b1a899108f7",
   "metadata": {},
   "source": [
    "### EVALUATE WITH TEST DATA"
   ]
  },
  {
   "cell_type": "code",
   "execution_count": 47,
   "id": "ec2d18c0-779a-4a5f-9192-cdadc4bb78b5",
   "metadata": {},
   "outputs": [],
   "source": [
    "# EVALUATE MODEL WITH TEST DATA\n",
    "y_pred = lr_model.predict(X_test)"
   ]
  },
  {
   "cell_type": "code",
   "execution_count": 48,
   "id": "5d0793f4-7ecf-45ec-8d1f-6480a4f3c8d4",
   "metadata": {},
   "outputs": [
    {
     "data": {
      "text/plain": [
       "0.7664048993199386"
      ]
     },
     "execution_count": 48,
     "metadata": {},
     "output_type": "execute_result"
    }
   ],
   "source": [
    "lr_model.score(X_test, y_test)"
   ]
  },
  {
   "cell_type": "code",
   "execution_count": 49,
   "id": "157f6e09-27f2-4a0c-8655-8d44d5d034dd",
   "metadata": {},
   "outputs": [],
   "source": [
    "test_res = pd.DataFrame({\"Actual\" : y_test, \"Predicted\" : y_pred})"
   ]
  },
  {
   "cell_type": "code",
   "execution_count": 50,
   "id": "17652eee-4be4-4fd9-873a-285fa8d27277",
   "metadata": {},
   "outputs": [
    {
     "data": {
      "text/html": [
       "<div>\n",
       "<style scoped>\n",
       "    .dataframe tbody tr th:only-of-type {\n",
       "        vertical-align: middle;\n",
       "    }\n",
       "\n",
       "    .dataframe tbody tr th {\n",
       "        vertical-align: top;\n",
       "    }\n",
       "\n",
       "    .dataframe thead th {\n",
       "        text-align: right;\n",
       "    }\n",
       "</style>\n",
       "<table border=\"1\" class=\"dataframe\">\n",
       "  <thead>\n",
       "    <tr style=\"text-align: right;\">\n",
       "      <th></th>\n",
       "      <th>Actual</th>\n",
       "      <th>Predicted</th>\n",
       "    </tr>\n",
       "  </thead>\n",
       "  <tbody>\n",
       "    <tr>\n",
       "      <th>90</th>\n",
       "      <td>64.0</td>\n",
       "      <td>66.062520</td>\n",
       "    </tr>\n",
       "    <tr>\n",
       "      <th>254</th>\n",
       "      <td>85.0</td>\n",
       "      <td>83.467888</td>\n",
       "    </tr>\n",
       "    <tr>\n",
       "      <th>283</th>\n",
       "      <td>80.0</td>\n",
       "      <td>77.803235</td>\n",
       "    </tr>\n",
       "    <tr>\n",
       "      <th>445</th>\n",
       "      <td>91.0</td>\n",
       "      <td>88.054515</td>\n",
       "    </tr>\n",
       "    <tr>\n",
       "      <th>461</th>\n",
       "      <td>68.0</td>\n",
       "      <td>60.126564</td>\n",
       "    </tr>\n",
       "  </tbody>\n",
       "</table>\n",
       "</div>"
      ],
      "text/plain": [
       "     Actual  Predicted\n",
       "90     64.0  66.062520\n",
       "254    85.0  83.467888\n",
       "283    80.0  77.803235\n",
       "445    91.0  88.054515\n",
       "461    68.0  60.126564"
      ]
     },
     "execution_count": 50,
     "metadata": {},
     "output_type": "execute_result"
    }
   ],
   "source": [
    "test_res.head()"
   ]
  },
  {
   "cell_type": "code",
   "execution_count": 51,
   "id": "8d588328-3e77-4bb2-af0a-b469b79e2aef",
   "metadata": {},
   "outputs": [
    {
     "name": "stdout",
     "output_type": "stream",
     "text": [
      "MSE : 40.79680034602103\n",
      "RMSE : 6.387237301527244\n"
     ]
    }
   ],
   "source": [
    "mse = mean_squared_error(y_test, y_pred)\n",
    "print(\"MSE :\", mse)\n",
    "print(\"RMSE :\", np.sqrt(mse))"
   ]
  },
  {
   "cell_type": "code",
   "execution_count": null,
   "id": "f28b491e-745b-4aa8-8a77-665fcba97cc3",
   "metadata": {},
   "outputs": [],
   "source": []
  }
 ],
 "metadata": {
  "kernelspec": {
   "display_name": "Python 3 (ipykernel)",
   "language": "python",
   "name": "python3"
  },
  "language_info": {
   "codemirror_mode": {
    "name": "ipython",
    "version": 3
   },
   "file_extension": ".py",
   "mimetype": "text/x-python",
   "name": "python",
   "nbconvert_exporter": "python",
   "pygments_lexer": "ipython3",
   "version": "3.9.12"
  }
 },
 "nbformat": 4,
 "nbformat_minor": 5
}
