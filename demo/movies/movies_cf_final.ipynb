{
 "cells": [
  {
   "cell_type": "code",
   "execution_count": 1,
   "id": "0f9b5ec2-c9ed-4750-835b-4cc4549e1f79",
   "metadata": {},
   "outputs": [
    {
     "data": {
      "text/plain": [
       "['C:\\\\Users\\\\nagal\\\\demo\\\\movies']"
      ]
     },
     "execution_count": 1,
     "metadata": {},
     "output_type": "execute_result"
    }
   ],
   "source": [
    "!! cd"
   ]
  },
  {
   "cell_type": "markdown",
   "id": "815aba9b-8121-404b-b301-30837af0b8ff",
   "metadata": {},
   "source": [
    "# Recommending movies using Collaborative Filtering"
   ]
  },
  {
   "cell_type": "markdown",
   "id": "539dca1a-552e-4c3d-b6be-7412688c293b",
   "metadata": {},
   "source": [
    "### import libraries"
   ]
  },
  {
   "cell_type": "code",
   "execution_count": 2,
   "id": "3209eb33-3fc5-46f7-8849-8cc5ed875d3a",
   "metadata": {},
   "outputs": [],
   "source": [
    "import pandas as pd\n",
    "import numpy as np\n",
    "from scipy.spatial.distance import hamming"
   ]
  },
  {
   "cell_type": "code",
   "execution_count": 4,
   "id": "14630e70-ee85-4878-80eb-ba167551bce3",
   "metadata": {},
   "outputs": [],
   "source": [
    "import warnings\n",
    "warnings.simplefilter(action = \"ignore\", category = Warning)"
   ]
  },
  {
   "cell_type": "code",
   "execution_count": 5,
   "id": "3cd0ec1f-4548-45f8-8ba0-18e9eca2e216",
   "metadata": {},
   "outputs": [],
   "source": [
    "df_ratings = pd.read_csv(\"recent_ratings.csv\")\n",
    "df_movies = pd.read_csv(\"recent_movies.csv\")"
   ]
  },
  {
   "cell_type": "code",
   "execution_count": 6,
   "id": "ca14216a-ef96-4667-9871-a19201e3615c",
   "metadata": {},
   "outputs": [
    {
     "data": {
      "text/plain": [
       "((552, 4), (188, 4))"
      ]
     },
     "execution_count": 6,
     "metadata": {},
     "output_type": "execute_result"
    }
   ],
   "source": [
    "df_ratings.shape, df_movies.shape"
   ]
  },
  {
   "cell_type": "code",
   "execution_count": 8,
   "id": "7903d332-0ee7-461a-899f-b9863679c766",
   "metadata": {},
   "outputs": [
    {
     "data": {
      "text/plain": [
       "0       18\n",
       "1       18\n",
       "2       18\n",
       "3       18\n",
       "4       18\n",
       "      ... \n",
       "547    610\n",
       "548    610\n",
       "549    610\n",
       "550    610\n",
       "551    610\n",
       "Name: userId, Length: 552, dtype: int64"
      ]
     },
     "execution_count": 8,
     "metadata": {},
     "output_type": "execute_result"
    }
   ],
   "source": [
    "df_ratings.userId"
   ]
  },
  {
   "cell_type": "code",
   "execution_count": 14,
   "id": "94394a27-6114-48b8-a045-00730420742d",
   "metadata": {},
   "outputs": [
    {
     "data": {
      "text/plain": [
       "63"
      ]
     },
     "execution_count": 14,
     "metadata": {},
     "output_type": "execute_result"
    }
   ],
   "source": [
    "df_ratings.userId.unique().size # NUMBER OF UNIQUE USERS"
   ]
  },
  {
   "cell_type": "code",
   "execution_count": 15,
   "id": "1261eb58-0ed0-4966-9cf4-2e06fe39ce48",
   "metadata": {},
   "outputs": [
    {
     "data": {
      "text/plain": [
       "188"
      ]
     },
     "execution_count": 15,
     "metadata": {},
     "output_type": "execute_result"
    }
   ],
   "source": [
    "df_movies.movieId.unique().size # NUMBER OF UNIQUE MOVIES"
   ]
  },
  {
   "cell_type": "code",
   "execution_count": 16,
   "id": "b3628436-8d55-4979-9eeb-52e208903660",
   "metadata": {},
   "outputs": [
    {
     "data": {
      "text/html": [
       "<div>\n",
       "<style scoped>\n",
       "    .dataframe tbody tr th:only-of-type {\n",
       "        vertical-align: middle;\n",
       "    }\n",
       "\n",
       "    .dataframe tbody tr th {\n",
       "        vertical-align: top;\n",
       "    }\n",
       "\n",
       "    .dataframe thead th {\n",
       "        text-align: right;\n",
       "    }\n",
       "</style>\n",
       "<table border=\"1\" class=\"dataframe\">\n",
       "  <thead>\n",
       "    <tr style=\"text-align: right;\">\n",
       "      <th></th>\n",
       "      <th>userId</th>\n",
       "      <th>movieId</th>\n",
       "      <th>rating</th>\n",
       "      <th>timestamp</th>\n",
       "    </tr>\n",
       "  </thead>\n",
       "  <tbody>\n",
       "    <tr>\n",
       "      <th>109</th>\n",
       "      <td>111</td>\n",
       "      <td>176329</td>\n",
       "      <td>4.0</td>\n",
       "      <td>1517440844</td>\n",
       "    </tr>\n",
       "    <tr>\n",
       "      <th>192</th>\n",
       "      <td>212</td>\n",
       "      <td>122906</td>\n",
       "      <td>3.0</td>\n",
       "      <td>1527795017</td>\n",
       "    </tr>\n",
       "    <tr>\n",
       "      <th>320</th>\n",
       "      <td>339</td>\n",
       "      <td>174055</td>\n",
       "      <td>5.0</td>\n",
       "      <td>1507760155</td>\n",
       "    </tr>\n",
       "    <tr>\n",
       "      <th>68</th>\n",
       "      <td>89</td>\n",
       "      <td>179211</td>\n",
       "      <td>2.5</td>\n",
       "      <td>1520408792</td>\n",
       "    </tr>\n",
       "    <tr>\n",
       "      <th>373</th>\n",
       "      <td>414</td>\n",
       "      <td>173209</td>\n",
       "      <td>4.0</td>\n",
       "      <td>1511535879</td>\n",
       "    </tr>\n",
       "    <tr>\n",
       "      <th>169</th>\n",
       "      <td>184</td>\n",
       "      <td>180497</td>\n",
       "      <td>4.5</td>\n",
       "      <td>1537109959</td>\n",
       "    </tr>\n",
       "    <tr>\n",
       "      <th>279</th>\n",
       "      <td>305</td>\n",
       "      <td>180031</td>\n",
       "      <td>3.0</td>\n",
       "      <td>1521100564</td>\n",
       "    </tr>\n",
       "    <tr>\n",
       "      <th>495</th>\n",
       "      <td>596</td>\n",
       "      <td>122898</td>\n",
       "      <td>3.5</td>\n",
       "      <td>1535711652</td>\n",
       "    </tr>\n",
       "    <tr>\n",
       "      <th>281</th>\n",
       "      <td>305</td>\n",
       "      <td>187593</td>\n",
       "      <td>5.0</td>\n",
       "      <td>1532877841</td>\n",
       "    </tr>\n",
       "    <tr>\n",
       "      <th>377</th>\n",
       "      <td>414</td>\n",
       "      <td>176371</td>\n",
       "      <td>5.0</td>\n",
       "      <td>1511535779</td>\n",
       "    </tr>\n",
       "  </tbody>\n",
       "</table>\n",
       "</div>"
      ],
      "text/plain": [
       "     userId  movieId  rating   timestamp\n",
       "109     111   176329     4.0  1517440844\n",
       "192     212   122906     3.0  1527795017\n",
       "320     339   174055     5.0  1507760155\n",
       "68       89   179211     2.5  1520408792\n",
       "373     414   173209     4.0  1511535879\n",
       "169     184   180497     4.5  1537109959\n",
       "279     305   180031     3.0  1521100564\n",
       "495     596   122898     3.5  1535711652\n",
       "281     305   187593     5.0  1532877841\n",
       "377     414   176371     5.0  1511535779"
      ]
     },
     "execution_count": 16,
     "metadata": {},
     "output_type": "execute_result"
    }
   ],
   "source": [
    "df_ratings.sample(10)"
   ]
  },
  {
   "cell_type": "code",
   "execution_count": 17,
   "id": "5302a1da-74bb-4af5-8936-3e1e57756a51",
   "metadata": {},
   "outputs": [
    {
     "data": {
      "text/html": [
       "<div>\n",
       "<style scoped>\n",
       "    .dataframe tbody tr th:only-of-type {\n",
       "        vertical-align: middle;\n",
       "    }\n",
       "\n",
       "    .dataframe tbody tr th {\n",
       "        vertical-align: top;\n",
       "    }\n",
       "\n",
       "    .dataframe thead th {\n",
       "        text-align: right;\n",
       "    }\n",
       "</style>\n",
       "<table border=\"1\" class=\"dataframe\">\n",
       "  <thead>\n",
       "    <tr style=\"text-align: right;\">\n",
       "      <th></th>\n",
       "      <th>movieId</th>\n",
       "      <th>title</th>\n",
       "      <th>genres</th>\n",
       "      <th>year</th>\n",
       "    </tr>\n",
       "  </thead>\n",
       "  <tbody>\n",
       "    <tr>\n",
       "      <th>171</th>\n",
       "      <td>188675</td>\n",
       "      <td>Dogman (2018)</td>\n",
       "      <td>Crime|Drama</td>\n",
       "      <td>2018</td>\n",
       "    </tr>\n",
       "    <tr>\n",
       "      <th>71</th>\n",
       "      <td>174727</td>\n",
       "      <td>Good Time (2017)</td>\n",
       "      <td>Crime|Drama</td>\n",
       "      <td>2017</td>\n",
       "    </tr>\n",
       "    <tr>\n",
       "      <th>21</th>\n",
       "      <td>168366</td>\n",
       "      <td>Beauty and the Beast (2017)</td>\n",
       "      <td>Fantasy|Romance</td>\n",
       "      <td>2017</td>\n",
       "    </tr>\n",
       "    <tr>\n",
       "      <th>33</th>\n",
       "      <td>169992</td>\n",
       "      <td>Free Fire (2017)</td>\n",
       "      <td>Action|Crime|Drama</td>\n",
       "      <td>2017</td>\n",
       "    </tr>\n",
       "    <tr>\n",
       "      <th>116</th>\n",
       "      <td>179815</td>\n",
       "      <td>Roman J. Israel, Esq. (2017)</td>\n",
       "      <td>Drama|Thriller</td>\n",
       "      <td>2017</td>\n",
       "    </tr>\n",
       "    <tr>\n",
       "      <th>161</th>\n",
       "      <td>185473</td>\n",
       "      <td>Blockers (2018)</td>\n",
       "      <td>Comedy</td>\n",
       "      <td>2018</td>\n",
       "    </tr>\n",
       "    <tr>\n",
       "      <th>103</th>\n",
       "      <td>178111</td>\n",
       "      <td>Fireworks, Should We See It from the Side or t...</td>\n",
       "      <td>Animation</td>\n",
       "      <td>2017</td>\n",
       "    </tr>\n",
       "    <tr>\n",
       "      <th>100</th>\n",
       "      <td>177765</td>\n",
       "      <td>Coco (2017)</td>\n",
       "      <td>Adventure|Animation|Children</td>\n",
       "      <td>2017</td>\n",
       "    </tr>\n",
       "    <tr>\n",
       "      <th>8</th>\n",
       "      <td>166534</td>\n",
       "      <td>Split (2017)</td>\n",
       "      <td>Drama|Horror|Thriller</td>\n",
       "      <td>2017</td>\n",
       "    </tr>\n",
       "    <tr>\n",
       "      <th>54</th>\n",
       "      <td>172461</td>\n",
       "      <td>Get Me Roger Stone (2017)</td>\n",
       "      <td>Documentary</td>\n",
       "      <td>2017</td>\n",
       "    </tr>\n",
       "  </tbody>\n",
       "</table>\n",
       "</div>"
      ],
      "text/plain": [
       "     movieId                                              title  \\\n",
       "171   188675                                      Dogman (2018)   \n",
       "71    174727                                   Good Time (2017)   \n",
       "21    168366                        Beauty and the Beast (2017)   \n",
       "33    169992                                   Free Fire (2017)   \n",
       "116   179815                       Roman J. Israel, Esq. (2017)   \n",
       "161   185473                                    Blockers (2018)   \n",
       "103   178111  Fireworks, Should We See It from the Side or t...   \n",
       "100   177765                                        Coco (2017)   \n",
       "8     166534                                       Split (2017)   \n",
       "54    172461                          Get Me Roger Stone (2017)   \n",
       "\n",
       "                           genres  year  \n",
       "171                   Crime|Drama  2018  \n",
       "71                    Crime|Drama  2017  \n",
       "21                Fantasy|Romance  2017  \n",
       "33             Action|Crime|Drama  2017  \n",
       "116                Drama|Thriller  2017  \n",
       "161                        Comedy  2018  \n",
       "103                     Animation  2017  \n",
       "100  Adventure|Animation|Children  2017  \n",
       "8           Drama|Horror|Thriller  2017  \n",
       "54                    Documentary  2017  "
      ]
     },
     "execution_count": 17,
     "metadata": {},
     "output_type": "execute_result"
    }
   ],
   "source": [
    "df_movies.sample(10)"
   ]
  },
  {
   "cell_type": "code",
   "execution_count": 18,
   "id": "020444ef-fa01-4018-a324-fb14fc952391",
   "metadata": {},
   "outputs": [],
   "source": [
    "# REMOVE TIMESTAMP COLUMN\n",
    "df_ratings.drop(columns = \"timestamp\", inplace = True)"
   ]
  },
  {
   "cell_type": "code",
   "execution_count": 19,
   "id": "29377da1-eacb-45f8-b897-a24fa624f0fb",
   "metadata": {},
   "outputs": [
    {
     "data": {
      "text/html": [
       "<div>\n",
       "<style scoped>\n",
       "    .dataframe tbody tr th:only-of-type {\n",
       "        vertical-align: middle;\n",
       "    }\n",
       "\n",
       "    .dataframe tbody tr th {\n",
       "        vertical-align: top;\n",
       "    }\n",
       "\n",
       "    .dataframe thead th {\n",
       "        text-align: right;\n",
       "    }\n",
       "</style>\n",
       "<table border=\"1\" class=\"dataframe\">\n",
       "  <thead>\n",
       "    <tr style=\"text-align: right;\">\n",
       "      <th></th>\n",
       "      <th>userId</th>\n",
       "      <th>movieId</th>\n",
       "      <th>rating</th>\n",
       "    </tr>\n",
       "  </thead>\n",
       "  <tbody>\n",
       "    <tr>\n",
       "      <th>31</th>\n",
       "      <td>50</td>\n",
       "      <td>176371</td>\n",
       "      <td>3.0</td>\n",
       "    </tr>\n",
       "    <tr>\n",
       "      <th>188</th>\n",
       "      <td>210</td>\n",
       "      <td>177765</td>\n",
       "      <td>5.0</td>\n",
       "    </tr>\n",
       "    <tr>\n",
       "      <th>334</th>\n",
       "      <td>380</td>\n",
       "      <td>122926</td>\n",
       "      <td>5.0</td>\n",
       "    </tr>\n",
       "    <tr>\n",
       "      <th>286</th>\n",
       "      <td>306</td>\n",
       "      <td>175199</td>\n",
       "      <td>4.0</td>\n",
       "    </tr>\n",
       "    <tr>\n",
       "      <th>527</th>\n",
       "      <td>599</td>\n",
       "      <td>173291</td>\n",
       "      <td>3.0</td>\n",
       "    </tr>\n",
       "    <tr>\n",
       "      <th>373</th>\n",
       "      <td>414</td>\n",
       "      <td>173209</td>\n",
       "      <td>4.0</td>\n",
       "    </tr>\n",
       "    <tr>\n",
       "      <th>13</th>\n",
       "      <td>25</td>\n",
       "      <td>177593</td>\n",
       "      <td>5.0</td>\n",
       "    </tr>\n",
       "    <tr>\n",
       "      <th>137</th>\n",
       "      <td>153</td>\n",
       "      <td>175303</td>\n",
       "      <td>0.5</td>\n",
       "    </tr>\n",
       "    <tr>\n",
       "      <th>471</th>\n",
       "      <td>567</td>\n",
       "      <td>179491</td>\n",
       "      <td>1.0</td>\n",
       "    </tr>\n",
       "    <tr>\n",
       "      <th>86</th>\n",
       "      <td>111</td>\n",
       "      <td>167634</td>\n",
       "      <td>4.5</td>\n",
       "    </tr>\n",
       "  </tbody>\n",
       "</table>\n",
       "</div>"
      ],
      "text/plain": [
       "     userId  movieId  rating\n",
       "31       50   176371     3.0\n",
       "188     210   177765     5.0\n",
       "334     380   122926     5.0\n",
       "286     306   175199     4.0\n",
       "527     599   173291     3.0\n",
       "373     414   173209     4.0\n",
       "13       25   177593     5.0\n",
       "137     153   175303     0.5\n",
       "471     567   179491     1.0\n",
       "86      111   167634     4.5"
      ]
     },
     "execution_count": 19,
     "metadata": {},
     "output_type": "execute_result"
    }
   ],
   "source": [
    "df_ratings.sample(10)"
   ]
  },
  {
   "cell_type": "code",
   "execution_count": 24,
   "id": "a6eba442-adf9-4a31-ae30-ad23fdb2da22",
   "metadata": {},
   "outputs": [],
   "source": [
    "# Get rating for each user and movie - userid is row label and movieid is column label\n",
    "ratings = df_ratings.pivot(index = \"userId\", columns = \"movieId\", values = \"rating\")"
   ]
  },
  {
   "cell_type": "code",
   "execution_count": 25,
   "id": "c6b02dc4-bcfb-4a76-97e5-b5f0700d7902",
   "metadata": {},
   "outputs": [
    {
     "data": {
      "text/html": [
       "<div>\n",
       "<style scoped>\n",
       "    .dataframe tbody tr th:only-of-type {\n",
       "        vertical-align: middle;\n",
       "    }\n",
       "\n",
       "    .dataframe tbody tr th {\n",
       "        vertical-align: top;\n",
       "    }\n",
       "\n",
       "    .dataframe thead th {\n",
       "        text-align: right;\n",
       "    }\n",
       "</style>\n",
       "<table border=\"1\" class=\"dataframe\">\n",
       "  <thead>\n",
       "    <tr style=\"text-align: right;\">\n",
       "      <th>movieId</th>\n",
       "      <th>122896</th>\n",
       "      <th>122898</th>\n",
       "      <th>122906</th>\n",
       "      <th>122912</th>\n",
       "      <th>122916</th>\n",
       "      <th>122918</th>\n",
       "      <th>122926</th>\n",
       "      <th>143355</th>\n",
       "      <th>166534</th>\n",
       "      <th>167064</th>\n",
       "      <th>...</th>\n",
       "      <th>189381</th>\n",
       "      <th>189713</th>\n",
       "      <th>190183</th>\n",
       "      <th>190209</th>\n",
       "      <th>190215</th>\n",
       "      <th>191005</th>\n",
       "      <th>193581</th>\n",
       "      <th>193583</th>\n",
       "      <th>193585</th>\n",
       "      <th>193587</th>\n",
       "    </tr>\n",
       "    <tr>\n",
       "      <th>userId</th>\n",
       "      <th></th>\n",
       "      <th></th>\n",
       "      <th></th>\n",
       "      <th></th>\n",
       "      <th></th>\n",
       "      <th></th>\n",
       "      <th></th>\n",
       "      <th></th>\n",
       "      <th></th>\n",
       "      <th></th>\n",
       "      <th></th>\n",
       "      <th></th>\n",
       "      <th></th>\n",
       "      <th></th>\n",
       "      <th></th>\n",
       "      <th></th>\n",
       "      <th></th>\n",
       "      <th></th>\n",
       "      <th></th>\n",
       "      <th></th>\n",
       "      <th></th>\n",
       "    </tr>\n",
       "  </thead>\n",
       "  <tbody>\n",
       "    <tr>\n",
       "      <th>98</th>\n",
       "      <td>NaN</td>\n",
       "      <td>NaN</td>\n",
       "      <td>NaN</td>\n",
       "      <td>5.0</td>\n",
       "      <td>5.0</td>\n",
       "      <td>4.0</td>\n",
       "      <td>5.0</td>\n",
       "      <td>NaN</td>\n",
       "      <td>NaN</td>\n",
       "      <td>NaN</td>\n",
       "      <td>...</td>\n",
       "      <td>NaN</td>\n",
       "      <td>NaN</td>\n",
       "      <td>NaN</td>\n",
       "      <td>NaN</td>\n",
       "      <td>NaN</td>\n",
       "      <td>NaN</td>\n",
       "      <td>NaN</td>\n",
       "      <td>NaN</td>\n",
       "      <td>NaN</td>\n",
       "      <td>NaN</td>\n",
       "    </tr>\n",
       "    <tr>\n",
       "      <th>548</th>\n",
       "      <td>NaN</td>\n",
       "      <td>NaN</td>\n",
       "      <td>NaN</td>\n",
       "      <td>NaN</td>\n",
       "      <td>NaN</td>\n",
       "      <td>NaN</td>\n",
       "      <td>NaN</td>\n",
       "      <td>NaN</td>\n",
       "      <td>NaN</td>\n",
       "      <td>NaN</td>\n",
       "      <td>...</td>\n",
       "      <td>NaN</td>\n",
       "      <td>NaN</td>\n",
       "      <td>NaN</td>\n",
       "      <td>NaN</td>\n",
       "      <td>NaN</td>\n",
       "      <td>NaN</td>\n",
       "      <td>NaN</td>\n",
       "      <td>NaN</td>\n",
       "      <td>NaN</td>\n",
       "      <td>NaN</td>\n",
       "    </tr>\n",
       "    <tr>\n",
       "      <th>414</th>\n",
       "      <td>NaN</td>\n",
       "      <td>NaN</td>\n",
       "      <td>4.0</td>\n",
       "      <td>NaN</td>\n",
       "      <td>4.0</td>\n",
       "      <td>4.0</td>\n",
       "      <td>4.5</td>\n",
       "      <td>4.5</td>\n",
       "      <td>NaN</td>\n",
       "      <td>NaN</td>\n",
       "      <td>...</td>\n",
       "      <td>NaN</td>\n",
       "      <td>NaN</td>\n",
       "      <td>NaN</td>\n",
       "      <td>NaN</td>\n",
       "      <td>NaN</td>\n",
       "      <td>NaN</td>\n",
       "      <td>NaN</td>\n",
       "      <td>NaN</td>\n",
       "      <td>NaN</td>\n",
       "      <td>NaN</td>\n",
       "    </tr>\n",
       "    <tr>\n",
       "      <th>601</th>\n",
       "      <td>NaN</td>\n",
       "      <td>NaN</td>\n",
       "      <td>NaN</td>\n",
       "      <td>NaN</td>\n",
       "      <td>3.5</td>\n",
       "      <td>4.0</td>\n",
       "      <td>NaN</td>\n",
       "      <td>NaN</td>\n",
       "      <td>NaN</td>\n",
       "      <td>NaN</td>\n",
       "      <td>...</td>\n",
       "      <td>NaN</td>\n",
       "      <td>NaN</td>\n",
       "      <td>NaN</td>\n",
       "      <td>NaN</td>\n",
       "      <td>NaN</td>\n",
       "      <td>NaN</td>\n",
       "      <td>NaN</td>\n",
       "      <td>NaN</td>\n",
       "      <td>NaN</td>\n",
       "      <td>NaN</td>\n",
       "    </tr>\n",
       "    <tr>\n",
       "      <th>338</th>\n",
       "      <td>NaN</td>\n",
       "      <td>NaN</td>\n",
       "      <td>NaN</td>\n",
       "      <td>1.5</td>\n",
       "      <td>1.0</td>\n",
       "      <td>NaN</td>\n",
       "      <td>NaN</td>\n",
       "      <td>NaN</td>\n",
       "      <td>NaN</td>\n",
       "      <td>NaN</td>\n",
       "      <td>...</td>\n",
       "      <td>NaN</td>\n",
       "      <td>NaN</td>\n",
       "      <td>NaN</td>\n",
       "      <td>4.0</td>\n",
       "      <td>1.5</td>\n",
       "      <td>NaN</td>\n",
       "      <td>NaN</td>\n",
       "      <td>NaN</td>\n",
       "      <td>NaN</td>\n",
       "      <td>NaN</td>\n",
       "    </tr>\n",
       "  </tbody>\n",
       "</table>\n",
       "<p>5 rows × 188 columns</p>\n",
       "</div>"
      ],
      "text/plain": [
       "movieId  122896  122898  122906  122912  122916  122918  122926  143355  \\\n",
       "userId                                                                    \n",
       "98          NaN     NaN     NaN     5.0     5.0     4.0     5.0     NaN   \n",
       "548         NaN     NaN     NaN     NaN     NaN     NaN     NaN     NaN   \n",
       "414         NaN     NaN     4.0     NaN     4.0     4.0     4.5     4.5   \n",
       "601         NaN     NaN     NaN     NaN     3.5     4.0     NaN     NaN   \n",
       "338         NaN     NaN     NaN     1.5     1.0     NaN     NaN     NaN   \n",
       "\n",
       "movieId  166534  167064  ...  189381  189713  190183  190209  190215  191005  \\\n",
       "userId                   ...                                                   \n",
       "98          NaN     NaN  ...     NaN     NaN     NaN     NaN     NaN     NaN   \n",
       "548         NaN     NaN  ...     NaN     NaN     NaN     NaN     NaN     NaN   \n",
       "414         NaN     NaN  ...     NaN     NaN     NaN     NaN     NaN     NaN   \n",
       "601         NaN     NaN  ...     NaN     NaN     NaN     NaN     NaN     NaN   \n",
       "338         NaN     NaN  ...     NaN     NaN     NaN     4.0     1.5     NaN   \n",
       "\n",
       "movieId  193581  193583  193585  193587  \n",
       "userId                                   \n",
       "98          NaN     NaN     NaN     NaN  \n",
       "548         NaN     NaN     NaN     NaN  \n",
       "414         NaN     NaN     NaN     NaN  \n",
       "601         NaN     NaN     NaN     NaN  \n",
       "338         NaN     NaN     NaN     NaN  \n",
       "\n",
       "[5 rows x 188 columns]"
      ]
     },
     "execution_count": 25,
     "metadata": {},
     "output_type": "execute_result"
    }
   ],
   "source": [
    "ratings.sample(5)"
   ]
  },
  {
   "cell_type": "code",
   "execution_count": 26,
   "id": "9b3ff7a1-ea0a-4dae-b072-12ca79e19c7d",
   "metadata": {},
   "outputs": [
    {
     "data": {
      "text/plain": [
       "movieId\n",
       "122896    NaN\n",
       "122898    NaN\n",
       "122906    NaN\n",
       "122912    2.0\n",
       "122916    NaN\n",
       "         ... \n",
       "191005    NaN\n",
       "193581    NaN\n",
       "193583    NaN\n",
       "193585    NaN\n",
       "193587    NaN\n",
       "Name: 233, Length: 188, dtype: float64"
      ]
     },
     "execution_count": 26,
     "metadata": {},
     "output_type": "execute_result"
    }
   ],
   "source": [
    "ratings.loc[233]"
   ]
  },
  {
   "cell_type": "code",
   "execution_count": 28,
   "id": "410104e4-37dd-4e14-af38-0388347e617a",
   "metadata": {},
   "outputs": [
    {
     "data": {
      "text/plain": [
       "movieId\n",
       "122912    2.0\n",
       "168266    3.5\n",
       "174055    2.5\n",
       "177593    5.0\n",
       "178061    3.0\n",
       "180031    3.5\n",
       "183011    1.5\n",
       "183897    3.5\n",
       "187593    2.5\n",
       "Name: 233, dtype: float64"
      ]
     },
     "execution_count": 28,
     "metadata": {},
     "output_type": "execute_result"
    }
   ],
   "source": [
    "ratings.loc[233, ratings.loc[233,:].notna()]"
   ]
  },
  {
   "cell_type": "markdown",
   "id": "9753a67a-a675-4655-93c8-e9cc27e616ff",
   "metadata": {},
   "source": [
    "# Hamming Distance"
   ]
  },
  {
   "cell_type": "markdown",
   "id": "34e96ac5-5a0f-4b5d-8a99-052d6028ae80",
   "metadata": {},
   "source": [
    "### Measures how different two sequences are. It is %disagreement. A value of 1 indicates sequences are very different, 0 indicates they are very similar"
   ]
  },
  {
   "cell_type": "code",
   "execution_count": 55,
   "id": "d29cc99b-5b22-469b-b186-607088bef365",
   "metadata": {},
   "outputs": [
    {
     "name": "stdout",
     "output_type": "stream",
     "text": [
      "0.5\n",
      "0.5\n"
     ]
    }
   ],
   "source": [
    "l1 = (1,2,4,np.nan)\n",
    "l2 = (1,2,np.nan,3)\n",
    "l3 = (1,np.nan, 4,5)\n",
    "print(hamming(l1,l2))\n",
    "print(hamming(l1,l3))"
   ]
  },
  {
   "cell_type": "code",
   "execution_count": 56,
   "id": "da27c97b-e4b0-45e2-ae40-9ee5b0c70a96",
   "metadata": {},
   "outputs": [],
   "source": [
    "# Find out hamming distance between ratings of two users\n",
    "def hamming_distance(user1,user2):\n",
    "    # Ratings of a user \n",
    "    try:\n",
    "        user1_ratings = ratings.loc[user1,:]\n",
    "        user2_ratings = ratings.loc[user2,:]\n",
    "        distance = hamming(user1_ratings, user2_ratings)\n",
    "    except:\n",
    "        distance = np.NaN\n",
    "\n",
    "    return distance    "
   ]
  },
  {
   "cell_type": "code",
   "execution_count": 57,
   "id": "db2479ce-f589-4489-a013-91cf97b78b51",
   "metadata": {},
   "outputs": [],
   "source": [
    "# Get neighbours of the given user \n",
    "def get_nearest_users(active_user, k = 10):\n",
    "    all_users = pd.DataFrame(ratings.index) # UserIds \n",
    "    other_users = all_users[all_users.userId != active_user]\n",
    "    \n",
    "    other_users['distance'] = other_users['userId'].apply(lambda x: hamming_distance(active_user,x))\n",
    "    \n",
    "    # find out hamming distance and return users with low hamming distance from active user \n",
    "    return  other_users.sort_values(['distance'], ascending = True).userId[:k]"
   ]
  },
  {
   "cell_type": "code",
   "execution_count": 58,
   "id": "131724cc-80e1-4033-85ce-1f93f97adfba",
   "metadata": {},
   "outputs": [],
   "source": [
    "def get_recommended_movies(ratings, movies, user, top=5):\n",
    "    # Find out nearest neighbours based on hamming distance \n",
    "    nn_users = get_nearest_users(user,10)\n",
    "    print(nn_users)\n",
    "    # Get ratings of nearest neighbours(users)\n",
    "    nn_ratings = ratings[ratings.index.isin(nn_users)]\n",
    "    \n",
    "    # Average ratings given by nearest neighbours for all movies\n",
    "    avg_ratings = nn_ratings.apply(np.nanmean).dropna()\n",
    "    print(avg_ratings[:20])\n",
    "    \n",
    "    # Find out movies that user had already watched\n",
    "    movies_watched = ratings.transpose()[user].dropna().index\n",
    "    \n",
    "    # remove movies that user already watched\n",
    "    avg_ratings = avg_ratings[~ avg_ratings.index.isin(movies_watched)]\n",
    "    \n",
    "    # Findout top n movies based on avg ratings given by nearest neighbours \n",
    "    top_movies_ids = avg_ratings.sort_values(ascending=False).index[:top]\n",
    "   \n",
    "    # Return recommended movies \n",
    "    return movies[movies.movieId.isin(top_movies_ids)].title"
   ]
  },
  {
   "cell_type": "code",
   "execution_count": 59,
   "id": "0f14fcc9-f335-4c65-ad62-f263d291eb7f",
   "metadata": {},
   "outputs": [
    {
     "name": "stdout",
     "output_type": "stream",
     "text": [
      "18    210\n",
      "15    184\n",
      "39    414\n",
      "28    305\n",
      "58    586\n",
      "5      62\n",
      "62    610\n",
      "19    212\n",
      "13    125\n",
      "11    111\n",
      "Name: userId, dtype: int64\n",
      "movieId\n",
      "122896    3.875000\n",
      "122898    3.000000\n",
      "122906    4.100000\n",
      "122912    4.500000\n",
      "122916    4.357143\n",
      "122918    4.166667\n",
      "122926    4.285714\n",
      "143355    3.600000\n",
      "166534    3.000000\n",
      "167634    4.500000\n",
      "167746    3.750000\n",
      "168218    4.500000\n",
      "168248    4.500000\n",
      "168250    4.000000\n",
      "168252    4.500000\n",
      "168254    3.000000\n",
      "168266    3.750000\n",
      "168326    4.500000\n",
      "168366    4.000000\n",
      "168418    4.750000\n",
      "dtype: float64\n"
     ]
    },
    {
     "data": {
      "text/plain": [
       "22                                 The Boss Baby (2017)\n",
       "56                               Tickling Giants (2017)\n",
       "97     Three Billboards Outside Ebbing, Missouri (2017)\n",
       "105                                 Paddington 2 (2017)\n",
       "145                                 Isle of Dogs (2018)\n",
       "Name: title, dtype: object"
      ]
     },
     "execution_count": 59,
     "metadata": {},
     "output_type": "execute_result"
    }
   ],
   "source": [
    "get_recommended_movies(ratings,df_movies,249,5)"
   ]
  },
  {
   "cell_type": "code",
   "execution_count": 60,
   "id": "8ae9aede-954d-4e29-a077-f7d56a469660",
   "metadata": {},
   "outputs": [
    {
     "name": "stdout",
     "output_type": "stream",
     "text": [
      "14    153\n",
      "0      18\n",
      "33    339\n",
      "34    362\n",
      "35    363\n",
      "36    380\n",
      "37    400\n",
      "38    401\n",
      "39    414\n",
      "40    417\n",
      "Name: userId, dtype: int64\n",
      "movieId\n",
      "122898    3.000000\n",
      "122906    3.750000\n",
      "122912    5.000000\n",
      "122916    4.500000\n",
      "122918    4.500000\n",
      "122926    4.333333\n",
      "143355    3.750000\n",
      "167746    5.000000\n",
      "168248    5.000000\n",
      "168250    3.500000\n",
      "168252    4.200000\n",
      "168254    4.000000\n",
      "168326    5.000000\n",
      "168492    4.500000\n",
      "168612    4.000000\n",
      "169982    3.000000\n",
      "169984    2.000000\n",
      "169992    3.500000\n",
      "170939    3.500000\n",
      "171023    4.000000\n",
      "dtype: float64\n"
     ]
    },
    {
     "data": {
      "text/plain": [
       "3     Avengers: Infinity War - Part I (2018)\n",
       "12              The Lego Batman Movie (2017)\n",
       "15             John Wick: Chapter Two (2017)\n",
       "20                       The Big Sick (2017)\n",
       "23               Call Me by Your Name (2017)\n",
       "Name: title, dtype: object"
      ]
     },
     "execution_count": 60,
     "metadata": {},
     "output_type": "execute_result"
    }
   ],
   "source": [
    "get_recommended_movies(ratings, df_movies, 433,5)"
   ]
  },
  {
   "cell_type": "code",
   "execution_count": 62,
   "id": "6c79e0a8-e665-41d0-8d76-ed57408dced7",
   "metadata": {},
   "outputs": [
    {
     "name": "stdout",
     "output_type": "stream",
     "text": [
      "39    414\n",
      "19    212\n",
      "35    363\n",
      "61    601\n",
      "30    318\n",
      "26    279\n",
      "21    248\n",
      "17    209\n",
      "15    184\n",
      "54    551\n",
      "Name: userId, dtype: int64\n",
      "movieId\n",
      "122896    3.750000\n",
      "122898    2.000000\n",
      "122906    3.750000\n",
      "122912    4.500000\n",
      "122916    4.000000\n",
      "122918    4.214286\n",
      "122926    4.166667\n",
      "143355    3.625000\n",
      "168218    4.500000\n",
      "168248    4.000000\n",
      "168250    3.666667\n",
      "168252    3.900000\n",
      "168254    3.000000\n",
      "168326    4.500000\n",
      "168366    4.000000\n",
      "168492    4.000000\n",
      "168612    3.750000\n",
      "169992    3.500000\n",
      "170697    4.166667\n",
      "170813    2.000000\n",
      "dtype: float64\n"
     ]
    },
    {
     "data": {
      "text/plain": [
       "51                                    Baby Driver (2017)\n",
       "56                                Tickling Giants (2017)\n",
       "73                                    Logan Lucky (2017)\n",
       "101              The Night Is Short, Walk on Girl (2017)\n",
       "105                                  Paddington 2 (2017)\n",
       "109                                Blue Planet II (2017)\n",
       "118                      Star Wars: The Last Jedi (2017)\n",
       "125                           The Disaster Artist (2017)\n",
       "132    Too Funny to Fail: The Life and Death of The D...\n",
       "145                                  Isle of Dogs (2018)\n",
       "Name: title, dtype: object"
      ]
     },
     "execution_count": 62,
     "metadata": {},
     "output_type": "execute_result"
    }
   ],
   "source": [
    "get_recommended_movies(ratings,df_movies,18,10)"
   ]
  },
  {
   "cell_type": "code",
   "execution_count": 65,
   "id": "377143ee-497e-4d19-96fd-a0ef7b481284",
   "metadata": {},
   "outputs": [
    {
     "name": "stdout",
     "output_type": "stream",
     "text": [
      "20    233\n",
      "0      18\n",
      "34    362\n",
      "35    363\n",
      "36    380\n",
      "37    400\n",
      "38    401\n",
      "39    414\n",
      "40    417\n",
      "41    433\n",
      "Name: userId, dtype: int64\n",
      "movieId\n",
      "122898    3.000000\n",
      "122906    3.750000\n",
      "122912    3.500000\n",
      "122916    4.500000\n",
      "122918    4.500000\n",
      "122926    4.333333\n",
      "143355    3.750000\n",
      "167746    5.000000\n",
      "168248    5.000000\n",
      "168250    3.500000\n",
      "168252    4.200000\n",
      "168254    4.000000\n",
      "168266    3.500000\n",
      "168326    5.000000\n",
      "168612    4.000000\n",
      "169982    3.000000\n",
      "169984    2.000000\n",
      "169992    3.500000\n",
      "170939    3.500000\n",
      "171023    4.000000\n",
      "dtype: float64\n"
     ]
    },
    {
     "data": {
      "text/plain": [
       "12                        The Lego Batman Movie (2017)\n",
       "15                       John Wick: Chapter Two (2017)\n",
       "20                                 The Big Sick (2017)\n",
       "57               War for the Planet of the Apes (2017)\n",
       "97    Three Billboards Outside Ebbing, Missouri (2017)\n",
       "Name: title, dtype: object"
      ]
     },
     "execution_count": 65,
     "metadata": {},
     "output_type": "execute_result"
    }
   ],
   "source": [
    "get_recommended_movies(ratings,df_movies,50,5)"
   ]
  },
  {
   "cell_type": "code",
   "execution_count": null,
   "id": "a54f632f-2a4e-4fa1-91ee-e32b0f95308b",
   "metadata": {},
   "outputs": [],
   "source": []
  }
 ],
 "metadata": {
  "kernelspec": {
   "display_name": "Python 3 (ipykernel)",
   "language": "python",
   "name": "python3"
  },
  "language_info": {
   "codemirror_mode": {
    "name": "ipython",
    "version": 3
   },
   "file_extension": ".py",
   "mimetype": "text/x-python",
   "name": "python",
   "nbconvert_exporter": "python",
   "pygments_lexer": "ipython3",
   "version": "3.9.12"
  }
 },
 "nbformat": 4,
 "nbformat_minor": 5
}
