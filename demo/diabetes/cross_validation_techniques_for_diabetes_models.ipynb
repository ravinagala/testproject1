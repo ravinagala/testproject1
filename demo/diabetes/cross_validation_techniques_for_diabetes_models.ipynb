{
 "cells": [
  {
   "cell_type": "markdown",
   "id": "b423157a-e826-411c-9c3e-2d6b2cb6400f",
   "metadata": {},
   "source": [
    "# import libraries"
   ]
  },
  {
   "cell_type": "code",
   "execution_count": 1,
   "id": "8b4d0d9d-4437-4e9f-9b5b-ba5f030c5a97",
   "metadata": {},
   "outputs": [],
   "source": [
    "# IMPORT REQUIRED PACKAGES\n",
    "import pandas as pd\n",
    "import numpy as np\n",
    "import seaborn as sns\n",
    "import matplotlib.pyplot as plt\n",
    "%matplotlib inline\n",
    "sns.set(style = \"white\")"
   ]
  },
  {
   "cell_type": "markdown",
   "id": "322178e5-8c8f-4c78-ad7f-182fd574b5e8",
   "metadata": {},
   "source": [
    "# Classification algorithms"
   ]
  },
  {
   "cell_type": "code",
   "execution_count": 2,
   "id": "0d582d2a-81e7-4d6b-ba93-dc346a0af56e",
   "metadata": {},
   "outputs": [],
   "source": [
    "from sklearn.linear_model import LogisticRegression\n",
    "from sklearn.tree import DecisionTreeClassifier\n",
    "from sklearn.neighbors import KNeighborsClassifier\n",
    "from sklearn.naive_bayes import GaussianNB\n",
    "from sklearn.svm import LinearSVC, SVC"
   ]
  },
  {
   "cell_type": "code",
   "execution_count": 3,
   "id": "e9838967-d8bd-42c8-90b3-6b75619d2a68",
   "metadata": {},
   "outputs": [],
   "source": [
    "train = pd.read_csv(\"final_train.csv\")"
   ]
  },
  {
   "cell_type": "code",
   "execution_count": 4,
   "id": "9cdbfa99-c315-4315-ac34-31dc293a36ee",
   "metadata": {},
   "outputs": [],
   "source": [
    "y = train.Outcome\n",
    "X = train.drop(\"Outcome\", axis = 1)"
   ]
  },
  {
   "cell_type": "markdown",
   "id": "43517e04-fbdd-4787-a0a9-1821ccd08af5",
   "metadata": {},
   "source": [
    "# Check cross validation scores with different algorithms"
   ]
  },
  {
   "cell_type": "code",
   "execution_count": 5,
   "id": "7a5d5da8-c960-4241-b791-83bc21db289a",
   "metadata": {},
   "outputs": [],
   "source": [
    "from sklearn.model_selection import cross_val_score"
   ]
  },
  {
   "cell_type": "code",
   "execution_count": 6,
   "id": "c68dc03c-398d-4b12-91fd-9cb895a98100",
   "metadata": {},
   "outputs": [],
   "source": [
    "all_scores = {}"
   ]
  },
  {
   "cell_type": "code",
   "execution_count": 7,
   "id": "3efafd11-eccf-4725-b95f-488e60f8647d",
   "metadata": {},
   "outputs": [],
   "source": [
    "from sklearn.preprocessing import StandardScaler\n",
    "ss = StandardScaler()\n",
    "X_scaled = ss.fit_transform(X)"
   ]
  },
  {
   "cell_type": "code",
   "execution_count": 24,
   "id": "ce151a3b-7838-4208-a209-9b8c83b062c5",
   "metadata": {},
   "outputs": [],
   "source": [
    "names = [\"LR\", \"DT\", \"KNN\", \"NB\", \"SVC\"]\n",
    "clfs = [LogisticRegression(max_iter = 400), KNeighborsClassifier(), GaussianNB(), DecisionTreeClassifier(max_depth = 5), LinearSVC(max_iter = 3000)]"
   ]
  },
  {
   "cell_type": "code",
   "execution_count": 25,
   "id": "2f05e158-4358-4be2-946e-8545ca522f5c",
   "metadata": {},
   "outputs": [
    {
     "name": "stdout",
     "output_type": "stream",
     "text": [
      "[0.72727273 0.76623377 0.79220779 0.7012987  0.76623377 0.77922078\n",
      " 0.79220779 0.79220779 0.72368421 0.82894737]\n",
      "LR = 76.70\n",
      "[0.68831169 0.76623377 0.71428571 0.68831169 0.71428571 0.7012987\n",
      " 0.75324675 0.76623377 0.67105263 0.77631579]\n",
      "DT = 72.40\n",
      "[0.74025974 0.72727273 0.75324675 0.68831169 0.71428571 0.77922078\n",
      " 0.72727273 0.81818182 0.72368421 0.77631579]\n",
      "KNN = 74.48\n",
      "[0.66233766 0.74025974 0.72727273 0.64935065 0.71428571 0.74025974\n",
      " 0.75324675 0.76623377 0.72368421 0.77631579]\n",
      "NB = 72.53\n",
      "[0.72727273 0.76623377 0.76623377 0.71428571 0.76623377 0.76623377\n",
      " 0.79220779 0.79220779 0.72368421 0.84210526]\n",
      "SVC = 76.57\n"
     ]
    }
   ],
   "source": [
    "for clf, name in zip(clfs, names):\n",
    "    scores = cross_val_score(clf, X_scaled, y, cv = 10)\n",
    "    print(scores)\n",
    "    print(f\"{name} = {scores.mean()*100:0.2f}\")\n",
    "    all_scores[name] = (scores.mean() * 100)"
   ]
  },
  {
   "cell_type": "code",
   "execution_count": 41,
   "id": "b20b0ac6-cf73-46b4-a501-3f1b86f63b59",
   "metadata": {},
   "outputs": [
    {
     "data": {
      "image/png": "[encoded data removed]",
      "text/plain": [
       "<Figure size 432x288 with 1 Axes>"
      ]
     },
     "metadata": {},
     "output_type": "display_data"
    }
   ],
   "source": [
    "plt = sns.barplot(x = list(all_scores.keys()), y = list(all_scores.values()))"
   ]
  },
  {
   "cell_type": "markdown",
   "id": "8e695e95-7f74-4532-b150-6dd53c1dd95c",
   "metadata": {},
   "source": [
    "# Logistic Regression with built-in cross validation"
   ]
  },
  {
   "cell_type": "code",
   "execution_count": 43,
   "id": "5fb5dc2a-2dd8-4ef5-98f9-0fc6bab58b1e",
   "metadata": {},
   "outputs": [],
   "source": [
    "from sklearn.model_selection import train_test_split\n",
    "from sklearn.metrics import confusion_matrix, accuracy_score, classification_report"
   ]
  },
  {
   "cell_type": "code",
   "execution_count": 44,
   "id": "5a03fbfe-82e3-4484-95a6-5c22622d2497",
   "metadata": {},
   "outputs": [],
   "source": [
    "X_train, X_test, y_train, y_test = train_test_split(X_scaled, y)"
   ]
  },
  {
   "cell_type": "code",
   "execution_count": 45,
   "id": "6a00fa1d-9221-488e-9061-7bff2bffabaf",
   "metadata": {},
   "outputs": [
    {
     "data": {
      "text/plain": [
       "((576, 9), (192, 9), (576,), (192,))"
      ]
     },
     "execution_count": 45,
     "metadata": {},
     "output_type": "execute_result"
    }
   ],
   "source": [
    "X_train.shape, X_test.shape, y_train.shape, y_test.shape"
   ]
  },
  {
   "cell_type": "code",
   "execution_count": 46,
   "id": "02a04b16-9d09-4f06-a3af-30913ca8e792",
   "metadata": {},
   "outputs": [],
   "source": [
    "from sklearn.linear_model import LogisticRegressionCV\n",
    "clf = LogisticRegressionCV(cv = 5).fit(X_train, y_train)"
   ]
  },
  {
   "cell_type": "code",
   "execution_count": 48,
   "id": "0c3a798e-2dea-4394-8e34-68d9c3736cf1",
   "metadata": {},
   "outputs": [
    {
     "name": "stdout",
     "output_type": "stream",
     "text": [
      "Accuracy score  : 0.7690972222222222\n"
     ]
    }
   ],
   "source": [
    "score = clf.score(X_train, y_train)\n",
    "print(f\"Accuracy score  :\", score)"
   ]
  },
  {
   "cell_type": "code",
   "execution_count": 49,
   "id": "643e78c5-e787-4407-8f02-d8a6eef76a74",
   "metadata": {},
   "outputs": [],
   "source": [
    "from sklearn.linear_model import LogisticRegressionCV\n",
    "clf = LogisticRegressionCV(cv = 10, max_iter = 500).fit(X_train, y_train)"
   ]
  },
  {
   "cell_type": "code",
   "execution_count": 50,
   "id": "ee689ce1-1cac-4a74-8be4-72496fdff162",
   "metadata": {},
   "outputs": [
    {
     "name": "stdout",
     "output_type": "stream",
     "text": [
      "Accuracy score  : 0.7690972222222222\n"
     ]
    }
   ],
   "source": [
    "score = clf.score(X_train, y_train)\n",
    "print(f\"Accuracy score  :\", score)"
   ]
  },
  {
   "cell_type": "markdown",
   "id": "64414e0e-e29d-48de-acde-108053fddb36",
   "metadata": {},
   "source": [
    "# Testing with test data"
   ]
  },
  {
   "cell_type": "code",
   "execution_count": 51,
   "id": "befa5ed6-89ab-47e4-aab1-bf4e9ebcd0e9",
   "metadata": {},
   "outputs": [],
   "source": [
    "y_pred = clf.predict(X_test)"
   ]
  },
  {
   "cell_type": "code",
   "execution_count": 53,
   "id": "ebb6e357-1058-4e89-b5bc-06fab2c35191",
   "metadata": {},
   "outputs": [
    {
     "data": {
      "text/plain": [
       "0.765625"
      ]
     },
     "execution_count": 53,
     "metadata": {},
     "output_type": "execute_result"
    }
   ],
   "source": [
    "accuracy_score(y_test, y_pred)"
   ]
  },
  {
   "cell_type": "code",
   "execution_count": 54,
   "id": "b35ee277-1364-493d-b1a9-f1b01b689bbf",
   "metadata": {},
   "outputs": [
    {
     "data": {
      "text/plain": [
       "array([[122,  11],\n",
       "       [ 34,  25]], dtype=int64)"
      ]
     },
     "execution_count": 54,
     "metadata": {},
     "output_type": "execute_result"
    }
   ],
   "source": [
    "confusion_matrix(y_test, y_pred)"
   ]
  },
  {
   "cell_type": "code",
   "execution_count": 55,
   "id": "113a60e9-db07-4a97-ae7f-3424d393dcb3",
   "metadata": {},
   "outputs": [
    {
     "name": "stdout",
     "output_type": "stream",
     "text": [
      "              precision    recall  f1-score   support\n",
      "\n",
      "           0       0.78      0.92      0.84       133\n",
      "           1       0.69      0.42      0.53        59\n",
      "\n",
      "    accuracy                           0.77       192\n",
      "   macro avg       0.74      0.67      0.69       192\n",
      "weighted avg       0.76      0.77      0.75       192\n",
      "\n"
     ]
    }
   ],
   "source": [
    "print(classification_report(y_test, y_pred))"
   ]
  },
  {
   "cell_type": "code",
   "execution_count": null,
   "id": "af260e6e-6121-4b15-befe-d6612229b660",
   "metadata": {},
   "outputs": [],
   "source": []
  }
 ],
 "metadata": {
  "kernelspec": {
   "display_name": "Python 3 (ipykernel)",
   "language": "python",
   "name": "python3"
  },
  "language_info": {
   "codemirror_mode": {
    "name": "ipython",
    "version": 3
   },
   "file_extension": ".py",
   "mimetype": "text/x-python",
   "name": "python",
   "nbconvert_exporter": "python",
   "pygments_lexer": "ipython3",
   "version": "3.9.12"
  }
 },
 "nbformat": 4,
 "nbformat_minor": 5
}
