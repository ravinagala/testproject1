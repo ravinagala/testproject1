{
 "cells": [
  {
   "cell_type": "code",
   "execution_count": 2,
   "id": "01c9a550-b122-42c7-ab91-2f90b44a18af",
   "metadata": {},
   "outputs": [],
   "source": [
    "from sklearn.datasets import make_blobs\n",
    "from sklearn.cluster import KMeans\n",
    "import matplotlib.pyplot as plt\n",
    "import numpy as np"
   ]
  },
  {
   "cell_type": "code",
   "execution_count": 3,
   "id": "629f306b-cb25-4e77-b231-96be95fcee90",
   "metadata": {},
   "outputs": [],
   "source": [
    "# GENERATE SYNTHETIC TWO - DIMENSIONAL DATA\n",
    "X, y = make_blobs(n_samples = 100, random_state = 10)"
   ]
  },
  {
   "cell_type": "code",
   "execution_count": 4,
   "id": "68bb3098-a776-40d0-b4bf-0f03e60025fb",
   "metadata": {},
   "outputs": [
    {
     "data": {
      "text/plain": [
       "(100, 2)"
      ]
     },
     "execution_count": 4,
     "metadata": {},
     "output_type": "execute_result"
    }
   ],
   "source": [
    "X.shape"
   ]
  },
  {
   "cell_type": "code",
   "execution_count": 5,
   "id": "e2ea66ac-bf56-405d-9967-76e16f4e4e3f",
   "metadata": {},
   "outputs": [
    {
     "data": {
      "text/plain": [
       "array([[ -2.32496308,  -6.6999964 ],\n",
       "       [  0.51856831,  -4.90086804],\n",
       "       [  2.44301805,   3.84652646],\n",
       "       [  5.82662285,  -9.92259335],\n",
       "       [  2.03300209,   5.28990817],\n",
       "       [  3.37979515,   4.18880872],\n",
       "       [  6.04774884, -10.30504657],\n",
       "       [ -0.42084194,  -4.24889336],\n",
       "       [  3.78067293,   5.22062163],\n",
       "       [  5.69248303,  -7.19999368]])"
      ]
     },
     "execution_count": 5,
     "metadata": {},
     "output_type": "execute_result"
    }
   ],
   "source": [
    "X[:10]"
   ]
  },
  {
   "cell_type": "code",
   "execution_count": 6,
   "id": "6e23fa39-9ebd-4b5f-8d1d-910fd347e4b5",
   "metadata": {},
   "outputs": [
    {
     "data": {
      "text/plain": [
       "(100,)"
      ]
     },
     "execution_count": 6,
     "metadata": {},
     "output_type": "execute_result"
    }
   ],
   "source": [
    "y.shape"
   ]
  },
  {
   "cell_type": "code",
   "execution_count": 7,
   "id": "f16d2754-4ac6-4fff-b36b-14dc71f252bf",
   "metadata": {},
   "outputs": [
    {
     "data": {
      "text/plain": [
       "array([2, 2, 1, 0, 1, 1, 0, 2, 1, 0, 0, 1, 1, 2, 2, 1, 0, 1, 0, 1, 0, 2,\n",
       "       1, 2, 0, 1, 1, 1, 1, 0, 2, 1, 1, 0, 2, 2, 2, 1, 1, 1, 2, 0, 2, 2,\n",
       "       1, 0, 0, 0, 2, 0, 1, 2, 0, 0, 2, 0, 1, 2, 0, 0, 1, 1, 2, 2, 2, 0,\n",
       "       0, 2, 2, 2, 1, 0, 1, 1, 2, 1, 1, 2, 0, 0, 0, 1, 0, 1, 2, 1, 2, 0,\n",
       "       2, 2, 0, 0, 0, 2, 2, 2, 1, 0, 0, 0])"
      ]
     },
     "execution_count": 7,
     "metadata": {},
     "output_type": "execute_result"
    }
   ],
   "source": [
    "y"
   ]
  },
  {
   "cell_type": "code",
   "execution_count": 8,
   "id": "745c1ffd-6a90-4a35-a9c8-7e27564573ed",
   "metadata": {},
   "outputs": [
    {
     "data": {
      "text/plain": [
       "<matplotlib.collections.PathCollection at 0x1cf7ff45ca0>"
      ]
     },
     "execution_count": 8,
     "metadata": {},
     "output_type": "execute_result"
    },
    {
     "data": {
      "image/png": "[encoded data removed]",
      "text/plain": [
       "<Figure size 432x288 with 1 Axes>"
      ]
     },
     "metadata": {
      "needs_background": "light"
     },
     "output_type": "display_data"
    }
   ],
   "source": [
    "plt.scatter(X[:, 0], X[:, 1])"
   ]
  },
  {
   "cell_type": "code",
   "execution_count": 9,
   "id": "3af317a6-b0d3-4d66-87fc-4f7ce6ae93b8",
   "metadata": {},
   "outputs": [
    {
     "data": {
      "text/plain": [
       "Text(0, 0.5, 'Feature2')"
      ]
     },
     "execution_count": 9,
     "metadata": {},
     "output_type": "execute_result"
    },
    {
     "data": {
      "image/png": "[encoded data removed]",
      "text/plain": [
       "<Figure size 432x288 with 1 Axes>"
      ]
     },
     "metadata": {
      "needs_background": "light"
     },
     "output_type": "display_data"
    }
   ],
   "source": [
    "plt.scatter(X[:, 0], X[:, 1])\n",
    "plt.xlabel(\"Feature1\", fontsize = 14)\n",
    "plt.ylabel(\"Feature2\", fontsize = 14)"
   ]
  },
  {
   "cell_type": "code",
   "execution_count": 10,
   "id": "c81ab13e-2385-4918-adaf-ebacc9758adb",
   "metadata": {},
   "outputs": [
    {
     "data": {
      "text/plain": [
       "KMeans(max_iter=10, n_clusters=3)"
      ]
     },
     "execution_count": 10,
     "metadata": {},
     "output_type": "execute_result"
    }
   ],
   "source": [
    "kmeans = KMeans(n_clusters = 3, max_iter = 10)\n",
    "kmeans.fit(X)             "
   ]
  },
  {
   "cell_type": "code",
   "execution_count": 11,
   "id": "5e37f140-0b54-4d6a-813d-6e7dffda0c24",
   "metadata": {},
   "outputs": [
    {
     "data": {
      "text/plain": [
       "array([1, 1, 0, 2, 0, 0, 2, 1, 0, 2, 2, 0, 0, 1, 1, 0, 2, 0, 2, 0, 2, 1,\n",
       "       0, 1, 2, 0, 0, 0, 0, 2, 1, 0, 0, 2, 1, 1, 1, 0, 0, 0, 1, 2, 1, 1,\n",
       "       0, 2, 2, 2, 1, 2, 0, 1, 2, 2, 1, 2, 0, 1, 2, 2, 0, 0, 1, 1, 1, 2,\n",
       "       2, 1, 1, 1, 0, 2, 0, 0, 1, 0, 0, 1, 2, 2, 2, 0, 2, 0, 1, 0, 1, 2,\n",
       "       1, 1, 2, 2, 2, 1, 1, 1, 0, 2, 2, 2])"
      ]
     },
     "execution_count": 11,
     "metadata": {},
     "output_type": "execute_result"
    }
   ],
   "source": [
    "labels = kmeans.labels_\n",
    "labels"
   ]
  },
  {
   "cell_type": "code",
   "execution_count": 12,
   "id": "85183500-f89f-4225-9275-3fd712ba86e9",
   "metadata": {},
   "outputs": [
    {
     "data": {
      "text/plain": [
       "array([[ 2.84050716,  4.85840422],\n",
       "       [ 0.08921213, -5.46441742],\n",
       "       [ 5.6183469 , -9.54288499]])"
      ]
     },
     "execution_count": 12,
     "metadata": {},
     "output_type": "execute_result"
    }
   ],
   "source": [
    "# CENTROIDS\n",
    "centers = kmeans.cluster_centers_\n",
    "centers"
   ]
  },
  {
   "cell_type": "code",
   "execution_count": 13,
   "id": "7439185f-ea6f-43f2-b369-1812422eac73",
   "metadata": {},
   "outputs": [
    {
     "data": {
      "image/png": "[encoded data removed]",
      "text/plain": [
       "<Figure size 432x288 with 1 Axes>"
      ]
     },
     "metadata": {
      "needs_background": "light"
     },
     "output_type": "display_data"
    }
   ],
   "source": [
    "plt.scatter(X[:, 0], X[:, 1], c = labels.astype(float))\n",
    "plt.xlabel(\"Feature1\")\n",
    "plt.ylabel(\"Feature2\")\n",
    "# DRAW CENTERS\n",
    "plt.scatter(centers[:, 0], centers[:, 1], color = \"red\", marker = \"s\")\n",
    "plt.show()"
   ]
  },
  {
   "cell_type": "code",
   "execution_count": 14,
   "id": "884c9c40-c028-4cf7-854a-32174304caac",
   "metadata": {},
   "outputs": [
    {
     "name": "stdout",
     "output_type": "stream",
     "text": [
      "[[12.66012274  2.7119914   8.43671672]\n",
      " [10.03168954  0.70847346  6.89609041]\n",
      " [ 1.08714957  9.60385746 13.76077949]\n",
      " [15.07961458  7.26589392  0.43307887]\n",
      " [ 0.91556546 10.92857897 15.25996233]\n",
      " [ 0.8597614  10.19866225 13.91296253]\n",
      " [15.4989238   7.67696883  0.87480072]\n",
      " [ 9.67363774  1.31820101  8.03107398]\n",
      " [ 1.00752823 11.30473097 14.8774384 ]\n",
      " [12.39107446  5.86590741  2.34406396]]\n"
     ]
    }
   ],
   "source": [
    "print(kmeans.transform(X[:10]))  # SHOW DISTANCE BETWEEN CENTROIDS AND POINTS"
   ]
  },
  {
   "cell_type": "code",
   "execution_count": 15,
   "id": "797f2687-7f31-446a-aa11-5f012917c46d",
   "metadata": {},
   "outputs": [
    {
     "name": "stdout",
     "output_type": "stream",
     "text": [
      "[1 1 0 2 0 0 2 1 0 2]\n"
     ]
    }
   ],
   "source": [
    "print(labels[:10])"
   ]
  },
  {
   "cell_type": "code",
   "execution_count": 16,
   "id": "72201ceb-8144-4075-8231-40ba7b416d6e",
   "metadata": {},
   "outputs": [
    {
     "name": "stdout",
     "output_type": "stream",
     "text": [
      "[[12.66012274  2.7119914   8.43671672]\n",
      " [10.03168954  0.70847346  6.89609041]\n",
      " [ 1.08714957  9.60385746 13.76077949]\n",
      " [15.07961458  7.26589392  0.43307887]\n",
      " [ 0.91556546 10.92857897 15.25996233]\n",
      " [ 0.8597614  10.19866225 13.91296253]\n",
      " [15.4989238   7.67696883  0.87480072]\n",
      " [ 9.67363774  1.31820101  8.03107398]\n",
      " [ 1.00752823 11.30473097 14.8774384 ]\n",
      " [12.39107446  5.86590741  2.34406396]]\n",
      "[1 1 0 2 0 0 2 1 0 2]\n"
     ]
    }
   ],
   "source": [
    "print(kmeans.transform(X[:10]))  # SHOW DISTANCE BETWEEN CENTROIDS AND POINTS\n",
    "print(labels[:10])"
   ]
  },
  {
   "cell_type": "code",
   "execution_count": 17,
   "id": "8d425f88-d114-4708-8009-72f7feea41d6",
   "metadata": {},
   "outputs": [
    {
     "data": {
      "text/plain": [
       "186.3658862010144"
      ]
     },
     "execution_count": 17,
     "metadata": {},
     "output_type": "execute_result"
    }
   ],
   "source": [
    "kmeans.inertia_      # THE AVERAGE DISTANCE BETWEEN CENTROIDS AND DATAPOINTS"
   ]
  },
  {
   "cell_type": "code",
   "execution_count": 18,
   "id": "490a901d-09a6-4172-851d-e5e46f8fd818",
   "metadata": {},
   "outputs": [
    {
     "data": {
      "text/plain": [
       "2"
      ]
     },
     "execution_count": 18,
     "metadata": {},
     "output_type": "execute_result"
    }
   ],
   "source": [
    "kmeans.n_iter_"
   ]
  },
  {
   "cell_type": "code",
   "execution_count": 19,
   "id": "8922b5f2-186f-456e-8282-27d86cba3b8f",
   "metadata": {},
   "outputs": [
    {
     "data": {
      "text/plain": [
       "-186.36588620101446"
      ]
     },
     "execution_count": 19,
     "metadata": {},
     "output_type": "execute_result"
    }
   ],
   "source": [
    "kmeans.score(X)"
   ]
  },
  {
   "cell_type": "markdown",
   "id": "4f3ed674-976a-46cd-82d1-e578a397bcbf",
   "metadata": {},
   "source": [
    "### WHAT IS THE BEST RANGE FOR CLUSTERS"
   ]
  },
  {
   "cell_type": "code",
   "execution_count": 20,
   "id": "934ec3b7-e648-41d1-ba2c-29bb83236cc0",
   "metadata": {},
   "outputs": [],
   "source": [
    "cost = []\n",
    "for k in range(2, 10):\n",
    "    kmeans = KMeans(n_clusters = k)\n",
    "    kmeans.fit(X)\n",
    "    cost.append(kmeans.inertia_)"
   ]
  },
  {
   "cell_type": "code",
   "execution_count": 21,
   "id": "eea6665d-3243-4bd3-9781-65503f3b0a80",
   "metadata": {},
   "outputs": [
    {
     "data": {
      "text/plain": [
       "Text(0, 0.5, 'Inertia Cost')"
      ]
     },
     "execution_count": 21,
     "metadata": {},
     "output_type": "execute_result"
    },
    {
     "data": {
      "image/png": "[encoded data removed]",
      "text/plain": [
       "<Figure size 432x288 with 1 Axes>"
      ]
     },
     "metadata": {
      "needs_background": "light"
     },
     "output_type": "display_data"
    }
   ],
   "source": [
    "plt.plot(range(2, 10), cost)\n",
    "plt.xlabel(\"K\")\n",
    "plt.ylabel(\"Inertia Cost\")"
   ]
  },
  {
   "cell_type": "code",
   "execution_count": null,
   "id": "07024860-3b51-4c6e-87fe-e9f9f0e216d5",
   "metadata": {},
   "outputs": [],
   "source": []
  }
 ],
 "metadata": {
  "kernelspec": {
   "display_name": "Python 3 (ipykernel)",
   "language": "python",
   "name": "python3"
  },
  "language_info": {
   "codemirror_mode": {
    "name": "ipython",
    "version": 3
   },
   "file_extension": ".py",
   "mimetype": "text/x-python",
   "name": "python",
   "nbconvert_exporter": "python",
   "pygments_lexer": "ipython3",
   "version": "3.9.12"
  }
 },
 "nbformat": 4,
 "nbformat_minor": 5
}
