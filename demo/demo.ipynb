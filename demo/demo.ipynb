{
 "cells": [
  {
   "cell_type": "code",
   "execution_count": 1,
   "id": "d1c67f4c-dc39-4ba4-b708-eb9650243ca1",
   "metadata": {
    "tags": []
   },
   "outputs": [
    {
     "name": "stdout",
     "output_type": "stream",
     "text": [
      "Hello Notebook\n"
     ]
    }
   ],
   "source": [
    "print(\"Hello Notebook\")"
   ]
  },
  {
   "cell_type": "code",
   "execution_count": 2,
   "id": "32e5fb8e-0060-46a4-befa-2bc7ce092ee0",
   "metadata": {},
   "outputs": [
    {
     "name": "stdout",
     "output_type": "stream",
     "text": [
      "1\n",
      "2\n",
      "3\n",
      "4\n",
      "5\n",
      "6\n",
      "7\n",
      "8\n",
      "9\n",
      "10\n"
     ]
    }
   ],
   "source": [
    "for i in range(1, 11):\n",
    "    print(i)"
   ]
  },
  {
   "cell_type": "code",
   "execution_count": 1,
   "id": "e4d1d995-c434-457a-a708-268d5179f5db",
   "metadata": {},
   "outputs": [
    {
     "data": {
      "text/plain": [
       "10"
      ]
     },
     "execution_count": 1,
     "metadata": {},
     "output_type": "execute_result"
    }
   ],
   "source": [
    "5 + 5"
   ]
  },
  {
   "cell_type": "code",
   "execution_count": 2,
   "id": "aa53a870-e267-4f1b-bcdf-e558b3f81c12",
   "metadata": {},
   "outputs": [
    {
     "name": "stdout",
     "output_type": "stream",
     "text": [
      "Ravi\n"
     ]
    }
   ],
   "source": [
    "print(\"Ravi\")"
   ]
  },
  {
   "cell_type": "code",
   "execution_count": 3,
   "id": "ce4d5cb5-d092-45f7-a0db-62c91bde14e9",
   "metadata": {},
   "outputs": [
    {
     "name": "stdout",
     "output_type": "stream",
     "text": [
      "12\n"
     ]
    }
   ],
   "source": [
    "x = 6\n",
    "y = 2\n",
    "print(x * y)"
   ]
  },
  {
   "cell_type": "code",
   "execution_count": 4,
   "id": "21615eed-bf56-4ca9-8fac-539d93cb7559",
   "metadata": {},
   "outputs": [
    {
     "name": "stdout",
     "output_type": "stream",
     "text": [
      "10 9 8 7 6 5 4 3 2 1 "
     ]
    }
   ],
   "source": [
    "n = 10\n",
    "while n >= 1:\n",
    "    print(n, end=\" \")\n",
    "    n -= 1"
   ]
  },
  {
   "cell_type": "code",
   "execution_count": 3,
   "id": "e76cf1d6-b8eb-4069-b40f-fc25054a21ec",
   "metadata": {},
   "outputs": [
    {
     "name": "stdout",
     "output_type": "stream",
     "text": [
      "1\n",
      "2\n",
      "3\n",
      "4\n",
      "5\n",
      "6\n",
      "7\n",
      "8\n",
      "9\n",
      "10\n"
     ]
    }
   ],
   "source": [
    "for i in range(1, 11):\n",
    "    print(i)\n",
    "    "
   ]
  },
  {
   "cell_type": "code",
   "execution_count": 6,
   "id": "f2b8c90d-4d6d-4635-b9e3-629eaf5bf92a",
   "metadata": {
    "tags": []
   },
   "outputs": [
    {
     "name": "stdout",
     "output_type": "stream",
     "text": [
      "10 9 8 7 6 5 4 3 2 1 "
     ]
    }
   ],
   "source": [
    "n = 10\n",
    "while n >= 1:\n",
    "    print(n, end=\" \")\n",
    "    n -= 1"
   ]
  },
  {
   "cell_type": "code",
   "execution_count": 7,
   "id": "e721b0fb-180d-40cd-abdc-9a9848f3905e",
   "metadata": {},
   "outputs": [
    {
     "name": "stdout",
     "output_type": "stream",
     "text": [
      "Hello Anaconda\n"
     ]
    }
   ],
   "source": [
    "print(\"Hello Anaconda\")\n",
    "\n"
   ]
  },
  {
   "cell_type": "code",
   "execution_count": null,
   "id": "c57a03e9-163f-4bd1-8915-865cf52f2116",
   "metadata": {},
   "outputs": [
    {
     "name": "stdout",
     "output_type": "stream",
     "text": [
      "Hello notebook\n"
     ]
    }
   ],
   "source": [
    "print(\"Hello notebook\")\n",
    "\n"
   ]
  },
  {
   "cell_type": "code",
   "execution_count": 14,
   "id": "d29252e6-3567-40df-adb3-2687dad3d3e2",
   "metadata": {
    "tags": []
   },
   "outputs": [
    {
     "name": "stdout",
     "output_type": "stream",
     "text": [
      "2022-07-21\n"
     ]
    }
   ],
   "source": [
    "from datetime import date\n",
    "cd = date.today()\n",
    "print(cd)\n"
   ]
  },
  {
   "cell_type": "code",
   "execution_count": 16,
   "id": "c1455ed6-806c-4a0c-b247-1f56cce3c5f1",
   "metadata": {},
   "outputs": [
    {
     "name": "stdout",
     "output_type": "stream",
     "text": [
      "2022-07-21 11:18:04.215482\n"
     ]
    }
   ],
   "source": [
    "from datetime import datetime\n",
    "cd = datetime.now()\n",
    "print(cd)"
   ]
  },
  {
   "cell_type": "code",
   "execution_count": 18,
   "id": "3690bcab-2ab4-4e08-960d-bc4027c3098e",
   "metadata": {},
   "outputs": [
    {
     "name": "stdout",
     "output_type": "stream",
     "text": [
      "2022-07-21\n"
     ]
    }
   ],
   "source": [
    "from datetime import *\n",
    "cd = date.today()\n",
    "print(cd)"
   ]
  },
  {
   "cell_type": "code",
   "execution_count": 19,
   "id": "d7de81f9-d975-4fdf-a9f7-c4061c54a78b",
   "metadata": {},
   "outputs": [
    {
     "name": "stdout",
     "output_type": "stream",
     "text": [
      "2022-07-18\n"
     ]
    }
   ],
   "source": [
    "sd = date(2022, 7, 18)\n",
    "print(sd)"
   ]
  },
  {
   "cell_type": "code",
   "execution_count": 20,
   "id": "57fb24d4-cfa0-46b0-b5d2-55825d5e44b8",
   "metadata": {},
   "outputs": [
    {
     "data": {
      "text/plain": [
       "datetime.timedelta(days=3)"
      ]
     },
     "execution_count": 20,
     "metadata": {},
     "output_type": "execute_result"
    }
   ],
   "source": [
    "cd - sd"
   ]
  },
  {
   "cell_type": "code",
   "execution_count": 23,
   "id": "7e7a92b0-b894-4061-87cf-76bc2d0d9c2c",
   "metadata": {},
   "outputs": [
    {
     "data": {
      "text/plain": [
       "4"
      ]
     },
     "execution_count": 23,
     "metadata": {},
     "output_type": "execute_result"
    }
   ],
   "source": [
    "cd.isoweekday()"
   ]
  },
  {
   "cell_type": "code",
   "execution_count": 22,
   "id": "47139269-9d5b-4a79-b00e-f4fe7b07f8bd",
   "metadata": {
    "tags": []
   },
   "outputs": [
    {
     "data": {
      "text/plain": [
       "\u001b[1;31mSignature:\u001b[0m \u001b[0mdatetime\u001b[0m\u001b[1;33m.\u001b[0m\u001b[0mnow\u001b[0m\u001b[1;33m(\u001b[0m\u001b[0mtz\u001b[0m\u001b[1;33m=\u001b[0m\u001b[1;32mNone\u001b[0m\u001b[1;33m)\u001b[0m\u001b[1;33m\u001b[0m\u001b[1;33m\u001b[0m\u001b[0m\n",
       "\u001b[1;31mDocstring:\u001b[0m\n",
       "Returns new datetime object representing current time local to tz.\n",
       "\n",
       "  tz\n",
       "    Timezone object.\n",
       "\n",
       "If no tz is specified, uses local timezone.\n",
       "\u001b[1;31mType:\u001b[0m      builtin_function_or_method\n"
      ]
     },
     "metadata": {},
     "output_type": "display_data"
    }
   ],
   "source": [
    "datetime.now?"
   ]
  },
  {
   "cell_type": "code",
   "execution_count": null,
   "id": "f8012d42-f867-4666-87d2-140f86b5ce8f",
   "metadata": {},
   "outputs": [],
   "source": [
    "datetime.now?"
   ]
  },
  {
   "cell_type": "code",
   "execution_count": 23,
   "id": "3ad90af9-c34f-49cf-8577-6398beb8677e",
   "metadata": {},
   "outputs": [
    {
     "data": {
      "text/plain": [
       "4"
      ]
     },
     "execution_count": 23,
     "metadata": {},
     "output_type": "execute_result"
    }
   ],
   "source": [
    "cd.isoweekday()"
   ]
  },
  {
   "cell_type": "code",
   "execution_count": null,
   "id": "1621d829-cbaa-4135-8820-8946d3ab6c98",
   "metadata": {},
   "outputs": [],
   "source": [
    "cd.time()"
   ]
  },
  {
   "cell_type": "markdown",
   "id": "569762e9-9fdf-4eb0-9219-67e5e298c38a",
   "metadata": {},
   "source": [
    "# MARKDOWN CELLS"
   ]
  },
  {
   "cell_type": "markdown",
   "id": "d0866203-bfc0-4fa7-8efd-faae05854a30",
   "metadata": {
    "tags": []
   },
   "source": [
    "<h1> MarkDemo </h1>"
   ]
  },
  {
   "cell_type": "markdown",
   "id": "663de0ce-d435-4605-afdd-45894795f48c",
   "metadata": {},
   "source": [
    "<h2> MarkDemo2 </h2>"
   ]
  },
  {
   "cell_type": "markdown",
   "id": "4743bdb4-4734-4f3e-8f35-5459fda851bb",
   "metadata": {},
   "source": [
    "### Heading 3"
   ]
  },
  {
   "cell_type": "markdown",
   "id": "a8b12ee8-56f7-414a-bbe9-ef2250c06194",
   "metadata": {},
   "source": [
    "#### Heading 4"
   ]
  },
  {
   "cell_type": "markdown",
   "id": "466583c2-850c-48fb-b697-a73e0bd51504",
   "metadata": {},
   "source": [
    "<h5> Heading 5 </h5>"
   ]
  },
  {
   "cell_type": "markdown",
   "id": "cb8d28e1-229e-487f-8e9b-e4327e4b11ec",
   "metadata": {},
   "source": [
    "###### Mark Demo3"
   ]
  },
  {
   "cell_type": "markdown",
   "id": "f11bbffe-be5f-4d66-ba58-9f95aeaf3152",
   "metadata": {},
   "source": [
    "__ string __"
   ]
  },
  {
   "cell_type": "markdown",
   "id": "2b8b37b5-b2b2-4c8a-9c21-137d7c1fcaa3",
   "metadata": {},
   "source": [
    "__string__"
   ]
  },
  {
   "cell_type": "markdown",
   "id": "42526d95-57e8-425b-977b-005241448eb8",
   "metadata": {},
   "source": [
    "_ravi_"
   ]
  },
  {
   "cell_type": "markdown",
   "id": "861aebac-e289-4b1a-96f0-18eeff9d2b4e",
   "metadata": {},
   "source": [
    "**ravi**"
   ]
  },
  {
   "cell_type": "markdown",
   "id": "dbf43b7e-0eeb-4cd8-89f0-4242b7d35e18",
   "metadata": {},
   "source": [
    "*jupyter notebook*"
   ]
  },
  {
   "cell_type": "markdown",
   "id": "518f6203-b230-4e4c-87fa-04f1232fee1e",
   "metadata": {},
   "source": [
    "'ravi is using jupyter notebook'"
   ]
  },
  {
   "cell_type": "markdown",
   "id": "604cc079-33f7-4a4f-9e8b-22034f555c9d",
   "metadata": {},
   "source": [
    "'ravi  is using markdown'"
   ]
  },
  {
   "cell_type": "markdown",
   "id": "08a9590b-b1ff-42c6-8d2d-fc5d699e34c6",
   "metadata": {},
   "source": [
    "-  numpy"
   ]
  },
  {
   "cell_type": "markdown",
   "id": "c32cd38c-da33-484a-8c05-a9177796a0c2",
   "metadata": {},
   "source": [
    "- ravi"
   ]
  },
  {
   "cell_type": "markdown",
   "id": "44a1a02d-e86a-47ef-ba3b-c10d048b10a9",
   "metadata": {},
   "source": [
    " _ pandas"
   ]
  },
  {
   "cell_type": "markdown",
   "id": "2bd8dab5-ad17-47ee-8863-2670b0fb0a83",
   "metadata": {},
   "source": [
    " -pandas"
   ]
  },
  {
   "cell_type": "markdown",
   "id": "6d638555-f1f6-4e6c-8b4a-bd4fbf9b3522",
   "metadata": {},
   "source": [
    " -ravi"
   ]
  },
  {
   "cell_type": "markdown",
   "id": "f39a6ec7-8486-4a1a-ad04-940efc4ee629",
   "metadata": {},
   "source": [
    " - rocky"
   ]
  },
  {
   "cell_type": "markdown",
   "id": "157c60e7-ff0d-45f3-9382-e606955d305f",
   "metadata": {},
   "source": [
    " - ravi"
   ]
  },
  {
   "cell_type": "markdown",
   "id": "39acaf90-3ea5-4c49-82fb-89b301468811",
   "metadata": {},
   "source": [
    " -ravi"
   ]
  },
  {
   "cell_type": "markdown",
   "id": "b29b455a-f50a-44bc-b47d-fafeaa438c54",
   "metadata": {},
   "source": [
    "* ravi"
   ]
  },
  {
   "cell_type": "markdown",
   "id": "56710bc1-74c8-4545-a119-450b7f4bd4d0",
   "metadata": {},
   "source": [
    "* ravi\n",
    "    * c language\n",
    "    * javase\n",
    "    * python\n",
    "    "
   ]
  },
  {
   "cell_type": "markdown",
   "id": "ec60b11e-be02-4f63-ad8d-97d5bcd83d4b",
   "metadata": {},
   "source": [
    "<h1> H <sub>2 <sub> 0 </h1>"
   ]
  },
  {
   "cell_type": "markdown",
   "id": "c2701440-eb73-4649-a472-b9f341796256",
   "metadata": {},
   "source": [
    "***"
   ]
  },
  {
   "cell_type": "markdown",
   "id": "c58d7b91-698c-46b2-abf1-4b3d40bbc369",
   "metadata": {},
   "source": [
    "1.numpy\n",
    "1.pandas\n",
    "1.scikit learn"
   ]
  },
  {
   "cell_type": "markdown",
   "id": "eb31c368-0118-48be-bfad-a0f1d22172bc",
   "metadata": {},
   "source": [
    "1.ds\n",
    "    1.ai\n",
    "    1.ml"
   ]
  },
  {
   "cell_type": "markdown",
   "id": "ad59c402-9503-4afb-be5b-a99abcbd1d8d",
   "metadata": {},
   "source": [
    "1.numpy 1. pandas 1. seaborn"
   ]
  },
  {
   "cell_type": "markdown",
   "id": "f44405c3-2840-4a2b-85c7-dc4b42fdd09b",
   "metadata": {},
   "source": [
    "<a Srikanth Technologies # \"http://www.srikanthtechnologies.com\" </a>"
   ]
  },
  {
   "cell_type": "markdown",
   "id": "bfc8fa0a-7940-4d35-b4c5-5e58f0fb5379",
   "metadata": {},
   "source": [
    "<a href=\"http://www.srikanthtechnologies.com></a>"
   ]
  },
  {
   "cell_type": "markdown",
   "id": "b7017c15-7790-47bb-8e62-79da83561ebd",
   "metadata": {},
   "source": [
    "<a href=\"#http://www.srikanthtechnologies.com\"></a>"
   ]
  },
  {
   "cell_type": "markdown",
   "id": "a4c8d88a-3694-4b5b-b41a-0c4c5495dfe6",
   "metadata": {},
   "source": [
    "\"<h3>Topics </h3>\\n\",\n",
    "    \"<ul>\\n\",\n",
    "    \"    <li>Numpy</li>\\n\",\n",
    "    \"    <li>Pandas </li>\\n\",\n",
    "    \"</ul>\""
   ]
  },
  {
   "cell_type": "markdown",
   "id": "bb00c49b-c110-4b8b-a8ab-55d47397626f",
   "metadata": {},
   "source": [
    "\"source\": [\n",
    "    \"- Numpy\\n\",\n",
    "    \"* Pandas\\n\",\n",
    "    \"- Plots\\n\",\n",
    "    \"    * Matplotlib\\n\",\n",
    "    \"    * Seaborn\"\n",
    "   ]"
   ]
  },
  {
   "cell_type": "markdown",
   "id": "4ebc1fa3-e18c-4dea-a956-fa6a850229bd",
   "metadata": {},
   "source": [
    "1. Classification\\n\",\n",
    "    \"1. Regression\\n\",\n",
    "    \"1. Clustering\""
   ]
  },
  {
   "cell_type": "markdown",
   "id": "8aa6a953-571f-418c-9303-57ad5cef0333",
   "metadata": {},
   "source": [
    "<div class=\\\"alert alert-block alert-info\\\">\\n\",\n",
    "    \"This is all about Machine Learning.\\n\",\n",
    "    \"</div>\""
   ]
  },
  {
   "cell_type": "markdown",
   "id": "42eca308-ffbb-40f7-9142-b071b466dc9c",
   "metadata": {},
   "source": [
    "<div class=\"alert alert-block alert-info\">\n",
    "    \"This is my domain\"\n",
    "    </div>"
   ]
  },
  {
   "cell_type": "markdown",
   "id": "1731fbd6-d8f9-40c7-9a2d-3dc385641dd8",
   "metadata": {},
   "source": [
    "<div class=\"alert alert-block alert-warning\">\n",
    "    \"ARTIFICIAL INTELLIGENCE\"\n",
    "    </div>"
   ]
  },
  {
   "cell_type": "markdown",
   "id": "f71907bd-cefd-4b50-a24d-30c3b879e319",
   "metadata": {},
   "source": [
    "<div class=\"alert alert-block alert-success\">\n",
    "    \"MACHINE LEARNING\"\n",
    "    </div>"
   ]
  },
  {
   "cell_type": "markdown",
   "id": "f4cf512f-dfc0-40c8-8fb6-a9adb5d05aa4",
   "metadata": {},
   "source": [
    "<div class=\"alert alert-block alert-danger\">\n",
    "    \"ARTIFICIAL INTELLIGENCE IS MORE POWERFUL THAN NUKES\"\n",
    "    </div>"
   ]
  },
  {
   "cell_type": "markdown",
   "id": "b5bcb6c2-2fa4-4f2b-be34-029a00999157",
   "metadata": {},
   "source": [
    "from IPython.display import image\n",
    "<img src=\"http://www.srikanthtechnologies.com/logo.jpg>"
   ]
  },
  {
   "cell_type": "markdown",
   "id": "3672fca1-f703-4687-ab1b-3659988823b0",
   "metadata": {},
   "source": [
    "from IPython.display"
   ]
  },
  {
   "cell_type": "markdown",
   "id": "db5679ef-5eeb-4e46-9dad-f21220919061",
   "metadata": {},
   "source": [
    "Image class from IPython.display"
   ]
  },
  {
   "cell_type": "markdown",
   "id": "60ad5f8d-d1d1-425c-ae24-0d462fc60d14",
   "metadata": {},
   "source": [
    "Image class from IPython.display\n",
    "<img src=\"http://www.srikanthtechnologies.com\"/logo.jpg\">"
   ]
  },
  {
   "cell_type": "markdown",
   "id": "8b86ac93-4fec-4ef5-879f-a910ba1af239",
   "metadata": {},
   "source": [
    "!cd"
   ]
  },
  {
   "cell_type": "markdown",
   "id": "54ffe5d5-88b8-444c-8d3f-87cb40955a1a",
   "metadata": {},
   "source": [
    "# SHELL COMMANDS"
   ]
  },
  {
   "cell_type": "code",
   "execution_count": 14,
   "id": "bc6ca0fd-0507-4c22-86dc-68526379eeb7",
   "metadata": {},
   "outputs": [
    {
     "name": "stdout",
     "output_type": "stream",
     "text": [
      "C:\\Users\\nagal\\demo\n"
     ]
    }
   ],
   "source": [
    "!cd"
   ]
  },
  {
   "cell_type": "code",
   "execution_count": 15,
   "id": "28f26870-5eca-45b5-9661-83a81f298ac4",
   "metadata": {},
   "outputs": [
    {
     "name": "stdout",
     "output_type": "stream",
     "text": [
      " Volume in drive C is OS\n",
      " Volume Serial Number is AC9A-190C\n",
      "\n",
      " Directory of C:\\Users\\nagal\\demo\n",
      "\n",
      "22-07-2022  18:28    <DIR>          .\n",
      "20-07-2022  14:07    <DIR>          ..\n",
      "20-07-2022  14:07    <DIR>          .ipynb_checkpoints\n",
      "22-07-2022  18:28            16,086 demo.ipynb\n",
      "               1 File(s)         16,086 bytes\n",
      "               3 Dir(s)  75,539,476,480 bytes free\n"
     ]
    }
   ],
   "source": [
    "!dir"
   ]
  },
  {
   "cell_type": "code",
   "execution_count": 18,
   "id": "4000dd48-0a48-4a82-a133-8514e66a2c4d",
   "metadata": {},
   "outputs": [
    {
     "name": "stdout",
     "output_type": "stream",
     "text": [
      "numpy\n",
      "pandas\n",
      "seaborn\n",
      "scikitlearn\n",
      "matplotlib\n"
     ]
    }
   ],
   "source": [
    "!type libraries.txt"
   ]
  },
  {
   "cell_type": "code",
   "execution_count": 19,
   "id": "e1eb1800-deae-42b7-9214-f80656973f58",
   "metadata": {},
   "outputs": [
    {
     "data": {
      "text/plain": [
       "['numpy', 'pandas', 'seaborn', 'scikitlearn', 'matplotlib']"
      ]
     },
     "execution_count": 19,
     "metadata": {},
     "output_type": "execute_result"
    }
   ],
   "source": [
    "libs = !type libraries.txt\n",
    "libs"
   ]
  },
  {
   "cell_type": "code",
   "execution_count": 24,
   "id": "e7c1ec67-2e9e-4d7f-855e-ef3acd64608a",
   "metadata": {},
   "outputs": [
    {
     "data": {
      "text/plain": [
       "'from IPython.display import Image'"
      ]
     },
     "execution_count": 24,
     "metadata": {},
     "output_type": "execute_result"
    }
   ],
   "source": [
    "\"from IPython.display import Image\""
   ]
  },
  {
   "cell_type": "markdown",
   "id": "12b22f3f-36a7-4ad6-bff0-57bfd1641b12",
   "metadata": {},
   "source": [
    "\"from IPython.display import Image\"\n",
    "<img src=\\\"http://www.srikanthtechnologies.com/banner.jpg\\\" />"
   ]
  },
  {
   "cell_type": "markdown",
   "id": "bb44708b-2517-494f-91ed-d3658df7a4e5",
   "metadata": {},
   "source": [
    "from IPython.display import Image\n",
    "image(url=\"http://www.srikanthtechnologies.com/Mybanner.jpg\")"
   ]
  },
  {
   "cell_type": "code",
   "execution_count": 7,
   "id": "0a20c446-8f89-4939-b33f-c84692fe7178",
   "metadata": {},
   "outputs": [
    {
     "name": "stdout",
     "output_type": "stream",
     "text": [
      "libraries.txt\n",
      "- 10\n",
      "\n",
      "upload.bat\n",
      "- 10\n"
     ]
    },
    {
     "name": "stderr",
     "output_type": "stream",
     "text": [
      "The system cannot find the file specified.\n"
     ]
    },
    {
     "name": "stdout",
     "output_type": "stream",
     "text": [
      "\n"
     ]
    },
    {
     "name": "stderr",
     "output_type": "stream",
     "text": [
      "The system cannot find the file specified.\n"
     ]
    }
   ],
   "source": [
    "files = ['libraries.txt','upload.bat']\n",
    "for f in files:\n",
    "    print(f)\n",
    "    print(\"-\", + 10)\n",
    "    !type(f)\n",
    "    print()"
   ]
  },
  {
   "cell_type": "markdown",
   "id": "40e813e6-01b6-4c79-8128-86555ba17131",
   "metadata": {},
   "source": [
    "# MAGIC COMMANDS"
   ]
  },
  {
   "cell_type": "markdown",
   "id": "cffc80b3-837a-4101-983c-217456d383f3",
   "metadata": {},
   "source": [
    "## LINE MAGIC FUNCTIONS"
   ]
  },
  {
   "cell_type": "code",
   "execution_count": 9,
   "id": "46a25319-7bfb-4306-9d4c-da2f652e3e8e",
   "metadata": {},
   "outputs": [
    {
     "data": {
      "text/plain": [
       "'C:\\\\Users\\\\nagal\\\\demo'"
      ]
     },
     "execution_count": 9,
     "metadata": {},
     "output_type": "execute_result"
    }
   ],
   "source": [
    "%pwd"
   ]
  },
  {
   "cell_type": "code",
   "execution_count": 10,
   "id": "137e94f6-14b3-40d9-92ad-544d92befa89",
   "metadata": {},
   "outputs": [
    {
     "name": "stdout",
     "output_type": "stream",
     "text": [
      "C:\\Users\\nagal\n"
     ]
    }
   ],
   "source": [
    "%cd"
   ]
  },
  {
   "cell_type": "code",
   "execution_count": 11,
   "id": "a1d4f361-0560-401e-9fb0-59abada8502a",
   "metadata": {},
   "outputs": [
    {
     "data": {
      "text/plain": [
       "[' Volume in drive C is OS',\n",
       " ' Volume Serial Number is AC9A-190C',\n",
       " '',\n",
       " ' Directory of C:\\\\Users\\\\nagal',\n",
       " '',\n",
       " '20-07-2022  14:07    <DIR>          .',\n",
       " '02-04-2022  20:12    <DIR>          ..',\n",
       " '02-07-2022  12:50             6,895 -1.14-windows.xml',\n",
       " '14-05-2022  16:19    <DIR>          .cache',\n",
       " '14-05-2022  16:18    <DIR>          .eclipse',\n",
       " '29-06-2022  13:53    <DIR>          .idea',\n",
       " '20-07-2022  13:42    <DIR>          .ipynb_checkpoints',\n",
       " '20-07-2022  13:33    <DIR>          .ipython',\n",
       " '20-07-2022  13:40    <DIR>          .jupyter',\n",
       " '18-07-2022  14:13    <DIR>          .p2',\n",
       " '14-07-2022  12:00    <DIR>          .vscode',\n",
       " '20-07-2022  13:16    <DIR>          anaconda3',\n",
       " '20-05-2022  22:44                 0 cd',\n",
       " '02-04-2022  20:07    <DIR>          Contacts',\n",
       " '23-07-2022  12:10    <DIR>          demo',\n",
       " '23-05-2022  21:56                 0 dir',\n",
       " '21-05-2022  00:04    <DIR>          Documents',\n",
       " '20-07-2022  15:30    <DIR>          Downloads',\n",
       " '21-05-2022  15:56    <DIR>          eclipse',\n",
       " '02-04-2022  20:07    <DIR>          Favorites',\n",
       " '20-07-2022  13:27                 0 jupyter',\n",
       " '02-04-2022  20:07    <DIR>          Links',\n",
       " '03-04-2022  16:47    <DIR>          Music',\n",
       " '19-07-2022  17:30    <DIR>          OneDrive',\n",
       " '07-06-2022  12:19    <DIR>          PyCharm Community Edition 2022.1.2',\n",
       " '09-07-2022  12:54    <DIR>          PycharmProjects',\n",
       " '02-04-2022  20:07    <DIR>          Saved Games',\n",
       " '02-04-2022  20:12    <DIR>          Searches',\n",
       " '20-07-2022  13:39             3,291 Untitled.ipynb',\n",
       " '20-07-2022  14:07             1,365 Untitled1.ipynb',\n",
       " '08-04-2022  11:16    <DIR>          Videos',\n",
       " '               6 File(s)         11,551 bytes',\n",
       " '              25 Dir(s)  75,413,237,760 bytes free']"
      ]
     },
     "execution_count": 11,
     "metadata": {},
     "output_type": "execute_result"
    }
   ],
   "source": [
    "%system dir"
   ]
  },
  {
   "cell_type": "code",
   "execution_count": 12,
   "id": "40e367b2-fd4b-4967-8b14-933fa6b7057c",
   "metadata": {},
   "outputs": [
    {
     "data": {
      "application/json": {
       "cell": {
        "!": "OSMagics",
        "HTML": "Other",
        "SVG": "Other",
        "bash": "Other",
        "capture": "ExecutionMagics",
        "cmd": "Other",
        "debug": "ExecutionMagics",
        "file": "Other",
        "html": "DisplayMagics",
        "javascript": "DisplayMagics",
        "js": "DisplayMagics",
        "latex": "DisplayMagics",
        "markdown": "DisplayMagics",
        "perl": "Other",
        "prun": "ExecutionMagics",
        "pypy": "Other",
        "python": "Other",
        "python2": "Other",
        "python3": "Other",
        "ruby": "Other",
        "script": "ScriptMagics",
        "sh": "Other",
        "svg": "DisplayMagics",
        "sx": "OSMagics",
        "system": "OSMagics",
        "time": "ExecutionMagics",
        "timeit": "ExecutionMagics",
        "writefile": "OSMagics"
       },
       "line": {
        "alias": "OSMagics",
        "alias_magic": "BasicMagics",
        "autoawait": "AsyncMagics",
        "autocall": "AutoMagics",
        "automagic": "AutoMagics",
        "autosave": "KernelMagics",
        "bookmark": "OSMagics",
        "cd": "OSMagics",
        "clear": "KernelMagics",
        "cls": "KernelMagics",
        "colors": "BasicMagics",
        "conda": "PackagingMagics",
        "config": "ConfigMagics",
        "connect_info": "KernelMagics",
        "copy": "Other",
        "ddir": "Other",
        "debug": "ExecutionMagics",
        "dhist": "OSMagics",
        "dirs": "OSMagics",
        "doctest_mode": "BasicMagics",
        "echo": "Other",
        "ed": "Other",
        "edit": "KernelMagics",
        "env": "OSMagics",
        "gui": "BasicMagics",
        "hist": "Other",
        "history": "HistoryMagics",
        "killbgscripts": "ScriptMagics",
        "ldir": "Other",
        "less": "KernelMagics",
        "load": "CodeMagics",
        "load_ext": "ExtensionMagics",
        "loadpy": "CodeMagics",
        "logoff": "LoggingMagics",
        "logon": "LoggingMagics",
        "logstart": "LoggingMagics",
        "logstate": "LoggingMagics",
        "logstop": "LoggingMagics",
        "ls": "Other",
        "lsmagic": "BasicMagics",
        "macro": "ExecutionMagics",
        "magic": "BasicMagics",
        "matplotlib": "PylabMagics",
        "mkdir": "Other",
        "more": "KernelMagics",
        "notebook": "BasicMagics",
        "page": "BasicMagics",
        "pastebin": "CodeMagics",
        "pdb": "ExecutionMagics",
        "pdef": "NamespaceMagics",
        "pdoc": "NamespaceMagics",
        "pfile": "NamespaceMagics",
        "pinfo": "NamespaceMagics",
        "pinfo2": "NamespaceMagics",
        "pip": "PackagingMagics",
        "popd": "OSMagics",
        "pprint": "BasicMagics",
        "precision": "BasicMagics",
        "prun": "ExecutionMagics",
        "psearch": "NamespaceMagics",
        "psource": "NamespaceMagics",
        "pushd": "OSMagics",
        "pwd": "OSMagics",
        "pycat": "OSMagics",
        "pylab": "PylabMagics",
        "qtconsole": "KernelMagics",
        "quickref": "BasicMagics",
        "recall": "HistoryMagics",
        "rehashx": "OSMagics",
        "reload_ext": "ExtensionMagics",
        "ren": "Other",
        "rep": "Other",
        "rerun": "HistoryMagics",
        "reset": "NamespaceMagics",
        "reset_selective": "NamespaceMagics",
        "rmdir": "Other",
        "run": "ExecutionMagics",
        "save": "CodeMagics",
        "sc": "OSMagics",
        "set_env": "OSMagics",
        "store": "StoreMagics",
        "sx": "OSMagics",
        "system": "OSMagics",
        "tb": "ExecutionMagics",
        "time": "ExecutionMagics",
        "timeit": "ExecutionMagics",
        "unalias": "OSMagics",
        "unload_ext": "ExtensionMagics",
        "who": "NamespaceMagics",
        "who_ls": "NamespaceMagics",
        "whos": "NamespaceMagics",
        "xdel": "NamespaceMagics",
        "xmode": "BasicMagics"
       }
      },
      "text/plain": [
       "Available line magics:\n",
       "%alias  %alias_magic  %autoawait  %autocall  %automagic  %autosave  %bookmark  %cd  %clear  %cls  %colors  %conda  %config  %connect_info  %copy  %ddir  %debug  %dhist  %dirs  %doctest_mode  %echo  %ed  %edit  %env  %gui  %hist  %history  %killbgscripts  %ldir  %less  %load  %load_ext  %loadpy  %logoff  %logon  %logstart  %logstate  %logstop  %ls  %lsmagic  %macro  %magic  %matplotlib  %mkdir  %more  %notebook  %page  %pastebin  %pdb  %pdef  %pdoc  %pfile  %pinfo  %pinfo2  %pip  %popd  %pprint  %precision  %prun  %psearch  %psource  %pushd  %pwd  %pycat  %pylab  %qtconsole  %quickref  %recall  %rehashx  %reload_ext  %ren  %rep  %rerun  %reset  %reset_selective  %rmdir  %run  %save  %sc  %set_env  %store  %sx  %system  %tb  %time  %timeit  %unalias  %unload_ext  %who  %who_ls  %whos  %xdel  %xmode\n",
       "\n",
       "Available cell magics:\n",
       "%%!  %%HTML  %%SVG  %%bash  %%capture  %%cmd  %%debug  %%file  %%html  %%javascript  %%js  %%latex  %%markdown  %%perl  %%prun  %%pypy  %%python  %%python2  %%python3  %%ruby  %%script  %%sh  %%svg  %%sx  %%system  %%time  %%timeit  %%writefile\n",
       "\n",
       "Automagic is ON, % prefix IS NOT needed for line magics."
      ]
     },
     "execution_count": 12,
     "metadata": {},
     "output_type": "execute_result"
    }
   ],
   "source": [
    "%lsmagic"
   ]
  },
  {
   "cell_type": "code",
   "execution_count": 14,
   "id": "2de3ec30-1875-4237-938f-17588a414264",
   "metadata": {},
   "outputs": [
    {
     "name": "stdout",
     "output_type": "stream",
     "text": [
      "1 2 3 4 5 6 7 8 9 "
     ]
    }
   ],
   "source": [
    "%timeit -n 10\n",
    "for i in range(1, 10):\n",
    "    print(i, end=\" \")"
   ]
  },
  {
   "cell_type": "code",
   "execution_count": 15,
   "id": "222c3581-84ff-4646-87d5-aee729e006e6",
   "metadata": {},
   "outputs": [
    {
     "data": {
      "text/plain": [
       "{'ALLUSERSPROFILE': 'C:\\\\ProgramData',\n",
       " 'APPDATA': 'C:\\\\Users\\\\nagal\\\\AppData\\\\Roaming',\n",
       " 'COMMONPROGRAMFILES': 'C:\\\\Program Files\\\\Common Files',\n",
       " 'COMMONPROGRAMFILES(X86)': 'C:\\\\Program Files (x86)\\\\Common Files',\n",
       " 'COMMONPROGRAMW6432': 'C:\\\\Program Files\\\\Common Files',\n",
       " 'COMPUTERNAME': 'NAGALARAVI',\n",
       " 'COMSPEC': 'C:\\\\Windows\\\\system32\\\\cmd.exe',\n",
       " 'CONDA_DEFAULT_ENV': 'base',\n",
       " 'CONDA_EXE': 'C:\\\\Users\\\\nagal\\\\anaconda3\\\\Scripts\\\\conda.exe',\n",
       " 'CONDA_PREFIX': 'C:\\\\Users\\\\nagal\\\\anaconda3',\n",
       " 'CONDA_PROMPT_MODIFIER': '(base) ',\n",
       " 'CONDA_PYTHON_EXE': 'C:\\\\Users\\\\nagal\\\\anaconda3\\\\python.exe',\n",
       " 'CONDA_SHLVL': '1',\n",
       " 'DRIVERDATA': 'C:\\\\Windows\\\\System32\\\\Drivers\\\\DriverData',\n",
       " 'HOMEDRIVE': 'C:',\n",
       " 'HOMEPATH': '\\\\Users\\\\nagal',\n",
       " 'LOCALAPPDATA': 'C:\\\\Users\\\\nagal\\\\AppData\\\\Local',\n",
       " 'LOGONSERVER': '\\\\\\\\NAGALARAVI',\n",
       " 'NUMBER_OF_PROCESSORS': '4',\n",
       " 'ONEDRIVE': 'C:\\\\Users\\\\nagal\\\\OneDrive',\n",
       " 'ONEDRIVECONSUMER': 'C:\\\\Users\\\\nagal\\\\OneDrive',\n",
       " 'OS': 'Windows_NT',\n",
       " 'PATH': 'C:\\\\Users\\\\nagal\\\\anaconda3;C:\\\\Users\\\\nagal\\\\anaconda3\\\\Library\\\\mingw-w64\\\\bin;C:\\\\Users\\\\nagal\\\\anaconda3\\\\Library\\\\usr\\\\bin;C:\\\\Users\\\\nagal\\\\anaconda3\\\\Library\\\\bin;C:\\\\Users\\\\nagal\\\\anaconda3\\\\Scripts;C:\\\\Users\\\\nagal\\\\anaconda3\\\\bin;C:\\\\Users\\\\nagal\\\\anaconda3\\\\condabin;C:\\\\Program Files\\\\Common Files\\\\Oracle\\\\Java\\\\javapath;C:\\\\Program Files (x86)\\\\Common Files\\\\Oracle\\\\Java\\\\javapath;C:\\\\Windows\\\\system32;C:\\\\Windows;C:\\\\Windows\\\\System32\\\\Wbem;C:\\\\Windows\\\\System32\\\\WindowsPowerShell\\\\v1.0;C:\\\\Windows\\\\System32\\\\OpenSSH;C:\\\\Program Files\\\\dotnet;C:\\\\jdk18\\\\bin;C:\\\\Python310\\\\Scripts;C:\\\\Python310;C:\\\\Users\\\\nagal\\\\AppData\\\\Local\\\\Programs\\\\Python\\\\Launcher;C:\\\\Users\\\\nagal\\\\AppData\\\\Local\\\\Microsoft\\\\WindowsApps;.;C:\\\\Program Files\\\\JetBrains\\\\PyCharm Community Edition 2022.1.3\\\\bin;.;C:\\\\Users\\\\nagal\\\\AppData\\\\Local\\\\Programs\\\\Microsoft VS Code\\\\bin',\n",
       " 'PATHEXT': '.COM;.EXE;.BAT;.CMD;.VBS;.VBE;.JS;.JSE;.WSF;.WSH;.MSC',\n",
       " 'PROCESSOR_ARCHITECTURE': 'AMD64',\n",
       " 'PROCESSOR_IDENTIFIER': 'Intel64 Family 6 Model 140 Stepping 1, GenuineIntel',\n",
       " 'PROCESSOR_LEVEL': '6',\n",
       " 'PROCESSOR_REVISION': '8c01',\n",
       " 'PROGRAMDATA': 'C:\\\\ProgramData',\n",
       " 'PROGRAMFILES': 'C:\\\\Program Files',\n",
       " 'PROGRAMFILES(X86)': 'C:\\\\Program Files (x86)',\n",
       " 'PROGRAMW6432': 'C:\\\\Program Files',\n",
       " 'PROMPT': '(base) $P$G',\n",
       " 'PSMODULEPATH': 'C:\\\\Program Files\\\\WindowsPowerShell\\\\Modules;C:\\\\Windows\\\\system32\\\\WindowsPowerShell\\\\v1.0\\\\Modules',\n",
       " 'PUBLIC': 'C:\\\\Users\\\\Public',\n",
       " 'PYCHARM COMMUNITY EDITION': 'C:\\\\Program Files\\\\JetBrains\\\\PyCharm Community Edition 2022.1.3\\\\bin;',\n",
       " 'SESSIONNAME': 'Console',\n",
       " 'SYSTEMDRIVE': 'C:',\n",
       " 'SYSTEMROOT': 'C:\\\\Windows',\n",
       " 'TEMP': 'C:\\\\Users\\\\nagal\\\\AppData\\\\Local\\\\Temp',\n",
       " 'TMP': 'C:\\\\Users\\\\nagal\\\\AppData\\\\Local\\\\Temp',\n",
       " 'USERDOMAIN': 'NAGALARAVI',\n",
       " 'USERDOMAIN_ROAMINGPROFILE': 'NAGALARAVI',\n",
       " 'USERNAME': 'nagal',\n",
       " 'USERPROFILE': 'C:\\\\Users\\\\nagal',\n",
       " 'WINDIR': 'C:\\\\Windows',\n",
       " 'ZES_ENABLE_SYSMAN': '1',\n",
       " 'PYDEVD_USE_FRAME_EVAL': 'NO',\n",
       " 'JPY_INTERRUPT_EVENT': '3948',\n",
       " 'IPY_INTERRUPT_EVENT': '3948',\n",
       " 'JPY_PARENT_PID': '3856',\n",
       " 'TERM': 'xterm-color',\n",
       " 'CLICOLOR': '1',\n",
       " 'PAGER': 'cat',\n",
       " 'GIT_PAGER': 'cat',\n",
       " 'MPLBACKEND': 'module://matplotlib_inline.backend_inline'}"
      ]
     },
     "execution_count": 15,
     "metadata": {},
     "output_type": "execute_result"
    }
   ],
   "source": [
    "%env"
   ]
  },
  {
   "cell_type": "markdown",
   "id": "909ad50d-aaea-4a2f-92e5-8fff753d6b0e",
   "metadata": {},
   "source": [
    "# CELL MAGIC FUNCTIONS"
   ]
  },
  {
   "cell_type": "code",
   "execution_count": 25,
   "id": "442ba2e1-6197-4226-a632-fb1b77a354e7",
   "metadata": {},
   "outputs": [
    {
     "name": "stdout",
     "output_type": "stream",
     "text": [
      "Overwriting names.txt\n"
     ]
    }
   ],
   "source": [
    "%%writefile names.txt\n",
    "larry\n",
    "elon\n",
    "bill"
   ]
  },
  {
   "cell_type": "code",
   "execution_count": 27,
   "id": "b8c16d98-9308-4a33-a14f-c7104ceef7b3",
   "metadata": {},
   "outputs": [
    {
     "data": {
      "application/javascript": [
       "alert(\"hello\")\n"
      ],
      "text/plain": [
       "<IPython.core.display.Javascript object>"
      ]
     },
     "metadata": {},
     "output_type": "display_data"
    }
   ],
   "source": [
    "%%js\n",
    "alert(\"hello\")"
   ]
  },
  {
   "cell_type": "code",
   "execution_count": 31,
   "id": "bffc81c0-f861-448a-bd14-ca166b31f0a7",
   "metadata": {},
   "outputs": [],
   "source": [
    "%%capture output\n",
    "print('Testing')"
   ]
  },
  {
   "cell_type": "code",
   "execution_count": 32,
   "id": "b20eea48-e349-49ea-8f4f-2c8ef31396c4",
   "metadata": {},
   "outputs": [
    {
     "data": {
      "text/plain": [
       "'Testing\\n'"
      ]
     },
     "execution_count": 32,
     "metadata": {},
     "output_type": "execute_result"
    }
   ],
   "source": [
    "output.stdout"
   ]
  },
  {
   "cell_type": "code",
   "execution_count": 33,
   "id": "a09c4b0e-f40f-4633-b09b-ad70ca6503bf",
   "metadata": {},
   "outputs": [],
   "source": [
    "%%capture output\n",
    "print('names.txt')"
   ]
  },
  {
   "cell_type": "code",
   "execution_count": 34,
   "id": "9999b4b7-5828-483a-99e9-37b66a6860ba",
   "metadata": {},
   "outputs": [
    {
     "data": {
      "text/plain": [
       "'names.txt\\n'"
      ]
     },
     "execution_count": 34,
     "metadata": {},
     "output_type": "execute_result"
    }
   ],
   "source": [
    "output.stdout"
   ]
  },
  {
   "cell_type": "code",
   "execution_count": 35,
   "id": "32f3a7c4-bbf7-4241-b40e-797cfb892b5d",
   "metadata": {},
   "outputs": [],
   "source": [
    "%%capture output\n",
    "for i in range(1, 11):\n",
    "    print(i)"
   ]
  },
  {
   "cell_type": "code",
   "execution_count": 36,
   "id": "e0cd3d0e-2277-4e2d-afc2-1e721d6c35aa",
   "metadata": {},
   "outputs": [
    {
     "data": {
      "text/plain": [
       "'1\\n2\\n3\\n4\\n5\\n6\\n7\\n8\\n9\\n10\\n'"
      ]
     },
     "execution_count": 36,
     "metadata": {},
     "output_type": "execute_result"
    }
   ],
   "source": [
    "output.stdout"
   ]
  },
  {
   "cell_type": "markdown",
   "id": "5e012699-084f-4d72-bc34-7305341ef509",
   "metadata": {},
   "source": [
    "# LIST APPEND VS LIST COMPREHENSION"
   ]
  },
  {
   "cell_type": "code",
   "execution_count": 38,
   "id": "f7ba2ac0-9070-403d-8329-d54b9e63d1a0",
   "metadata": {},
   "outputs": [
    {
     "name": "stdout",
     "output_type": "stream",
     "text": [
      "112 µs ± 6.75 µs per loop (mean ± std. dev. of 10 runs, 10 loops each)\n"
     ]
    }
   ],
   "source": [
    "%%timeit -n 10 -r 10\n",
    "lst = []\n",
    "for n in range(1, 1000):\n",
    "    lst.append(n*n)"
   ]
  },
  {
   "cell_type": "code",
   "execution_count": 56,
   "id": "86fb8dd9-b145-416d-8881-effcb060e998",
   "metadata": {},
   "outputs": [
    {
     "name": "stdout",
     "output_type": "stream",
     "text": [
      "78.8 µs ± 6.71 µs per loop (mean ± std. dev. of 10 runs, 10 loops each)\n"
     ]
    }
   ],
   "source": [
    "%%timeit -n 10 -r 10\n",
    "lst = [n*n for n in range(1, 1000)]"
   ]
  },
  {
   "cell_type": "markdown",
   "id": "54e35f7e-c278-4a00-aabc-46e9a04c6a3b",
   "metadata": {},
   "source": [
    "%%timeit -n 1 -r 1\n",
    "lst = []\n",
    "for n in range(1, 10):\n",
    "    lst.append(n*n)"
   ]
  },
  {
   "cell_type": "code",
   "execution_count": 42,
   "id": "5006d2d5-7674-460c-8e86-9814aa868da7",
   "metadata": {},
   "outputs": [
    {
     "name": "stdout",
     "output_type": "stream",
     "text": [
      "3.4 µs ± 0 ns per loop (mean ± std. dev. of 1 run, 1 loop each)\n"
     ]
    }
   ],
   "source": [
    "%%timeit -n 1 -r 1\n",
    "lst = [n*n for n in range(1, 10)]"
   ]
  },
  {
   "cell_type": "code",
   "execution_count": 57,
   "id": "fac99916-c5f0-457c-b719-1ee48145a88c",
   "metadata": {},
   "outputs": [
    {
     "data": {
      "text/html": [
       "<img src=\"http://www.srikanthtechnologies.com/logo.jpg\"/>"
      ],
      "text/plain": [
       "<IPython.core.display.Image object>"
      ]
     },
     "execution_count": 57,
     "metadata": {},
     "output_type": "execute_result"
    }
   ],
   "source": [
    "from IPython.display import Image\n",
    "\n",
    "Image(url=\"http://www.srikanthtechnologies.com/logo.jpg\")"
   ]
  }
 ],
 "metadata": {
  "kernelspec": {
   "display_name": "Python 3 (ipykernel)",
   "language": "python",
   "name": "python3"
  },
  "language_info": {
   "codemirror_mode": {
    "name": "ipython",
    "version": 3
   },
   "file_extension": ".py",
   "mimetype": "text/x-python",
   "name": "python",
   "nbconvert_exporter": "python",
   "pygments_lexer": "ipython3",
   "version": "3.9.12"
  }
 },
 "nbformat": 4,
 "nbformat_minor": 5
}
