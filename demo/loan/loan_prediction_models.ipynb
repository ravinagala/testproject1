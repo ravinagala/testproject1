{
 "cells": [
  {
   "cell_type": "markdown",
   "id": "b65dfe6e-fc8d-4d81-8f6b-5b742608882f",
   "metadata": {},
   "source": [
    "# CLASSIFICATION CASE STUDY"
   ]
  },
  {
   "cell_type": "markdown",
   "id": "0b2d44d4-eb19-4d20-b6dc-fca56028d7c7",
   "metadata": {},
   "source": [
    "### IMPORT LIBRARIES"
   ]
  },
  {
   "cell_type": "code",
   "execution_count": 1,
   "id": "40fe0501-88b7-41da-b8da-e9ee364b8196",
   "metadata": {},
   "outputs": [],
   "source": [
    "# IMPORT REQUIRED PACKAGES\n",
    "import pandas as pd\n",
    "import numpy as np\n",
    "import seaborn as sns\n",
    "import matplotlib.pyplot as plt\n",
    "sns.set(style = \"white\")"
   ]
  },
  {
   "cell_type": "markdown",
   "id": "d99e1bbc-9505-4779-aae1-e69ab6abab1f",
   "metadata": {},
   "source": [
    "# LOAD DATA FROM FINAL TRAIN CSV"
   ]
  },
  {
   "cell_type": "code",
   "execution_count": 2,
   "id": "683aff4e-2135-44d8-bd8e-96709bb8f821",
   "metadata": {},
   "outputs": [],
   "source": [
    "train = pd.read_csv(\"final_train.csv\")"
   ]
  },
  {
   "cell_type": "code",
   "execution_count": 3,
   "id": "fe6b25dc-a3c5-410a-a8e1-8a9decea6e06",
   "metadata": {},
   "outputs": [
    {
     "name": "stdout",
     "output_type": "stream",
     "text": [
      "<class 'pandas.core.frame.DataFrame'>\n",
      "RangeIndex: 564 entries, 0 to 563\n",
      "Data columns (total 11 columns):\n",
      " #   Column          Non-Null Count  Dtype  \n",
      "---  ------          --------------  -----  \n",
      " 0   Gender          564 non-null    object \n",
      " 1   Married         564 non-null    object \n",
      " 2   Dependents      564 non-null    int64  \n",
      " 3   Education       564 non-null    object \n",
      " 4   SelfEmployed    564 non-null    object \n",
      " 5   LoanAmountTerm  564 non-null    float64\n",
      " 6   CreditHistory   564 non-null    float64\n",
      " 7   PropertyArea    564 non-null    object \n",
      " 8   LoanStatus      564 non-null    int64  \n",
      " 9   LoanAmountLog   564 non-null    float64\n",
      " 10  IncomeLog       564 non-null    float64\n",
      "dtypes: float64(4), int64(2), object(5)\n",
      "memory usage: 48.6+ KB\n"
     ]
    }
   ],
   "source": [
    "train.info()"
   ]
  },
  {
   "cell_type": "code",
   "execution_count": 4,
   "id": "4a967e88-3f29-4df4-a084-9861eded7d8b",
   "metadata": {},
   "outputs": [],
   "source": [
    "X = train.drop(columns = [\"LoanStatus\"])\n",
    "y = train.LoanStatus"
   ]
  },
  {
   "cell_type": "code",
   "execution_count": 5,
   "id": "ef9d5ea1-dc63-4b2b-93b5-af7b2a8502cd",
   "metadata": {},
   "outputs": [],
   "source": [
    "X = pd.get_dummies(X)  # ONE HOT ENCODING"
   ]
  },
  {
   "cell_type": "code",
   "execution_count": 6,
   "id": "7f71a755-17a2-4f7a-adfa-9d6ef44678da",
   "metadata": {},
   "outputs": [
    {
     "data": {
      "text/plain": [
       "Index(['Dependents', 'LoanAmountTerm', 'CreditHistory', 'LoanAmountLog',\n",
       "       'IncomeLog', 'Gender_Female', 'Gender_Male', 'Married_No',\n",
       "       'Married_Yes', 'Education_Graduate', 'Education_Not Graduate',\n",
       "       'SelfEmployed_No', 'SelfEmployed_Yes', 'PropertyArea_Rural',\n",
       "       'PropertyArea_Semiurban', 'PropertyArea_Urban'],\n",
       "      dtype='object')"
      ]
     },
     "execution_count": 6,
     "metadata": {},
     "output_type": "execute_result"
    }
   ],
   "source": [
    "X.columns"
   ]
  },
  {
   "cell_type": "code",
   "execution_count": 7,
   "id": "fe1f7cfb-0e60-42cd-aa1c-6416ddfd5dc1",
   "metadata": {},
   "outputs": [
    {
     "data": {
      "text/html": [
       "<div>\n",
       "<style scoped>\n",
       "    .dataframe tbody tr th:only-of-type {\n",
       "        vertical-align: middle;\n",
       "    }\n",
       "\n",
       "    .dataframe tbody tr th {\n",
       "        vertical-align: top;\n",
       "    }\n",
       "\n",
       "    .dataframe thead th {\n",
       "        text-align: right;\n",
       "    }\n",
       "</style>\n",
       "<table border=\"1\" class=\"dataframe\">\n",
       "  <thead>\n",
       "    <tr style=\"text-align: right;\">\n",
       "      <th></th>\n",
       "      <th>Dependents</th>\n",
       "      <th>LoanAmountTerm</th>\n",
       "      <th>CreditHistory</th>\n",
       "      <th>LoanAmountLog</th>\n",
       "      <th>IncomeLog</th>\n",
       "      <th>Gender_Female</th>\n",
       "      <th>Gender_Male</th>\n",
       "      <th>Married_No</th>\n",
       "      <th>Married_Yes</th>\n",
       "      <th>Education_Graduate</th>\n",
       "      <th>Education_Not Graduate</th>\n",
       "      <th>SelfEmployed_No</th>\n",
       "      <th>SelfEmployed_Yes</th>\n",
       "      <th>PropertyArea_Rural</th>\n",
       "      <th>PropertyArea_Semiurban</th>\n",
       "      <th>PropertyArea_Urban</th>\n",
       "    </tr>\n",
       "  </thead>\n",
       "  <tbody>\n",
       "    <tr>\n",
       "      <th>558</th>\n",
       "      <td>0</td>\n",
       "      <td>360.0</td>\n",
       "      <td>1.0</td>\n",
       "      <td>4.682131</td>\n",
       "      <td>8.552946</td>\n",
       "      <td>0</td>\n",
       "      <td>1</td>\n",
       "      <td>0</td>\n",
       "      <td>1</td>\n",
       "      <td>1</td>\n",
       "      <td>0</td>\n",
       "      <td>1</td>\n",
       "      <td>0</td>\n",
       "      <td>1</td>\n",
       "      <td>0</td>\n",
       "      <td>0</td>\n",
       "    </tr>\n",
       "    <tr>\n",
       "      <th>246</th>\n",
       "      <td>3</td>\n",
       "      <td>360.0</td>\n",
       "      <td>0.0</td>\n",
       "      <td>5.075174</td>\n",
       "      <td>8.723231</td>\n",
       "      <td>0</td>\n",
       "      <td>1</td>\n",
       "      <td>0</td>\n",
       "      <td>1</td>\n",
       "      <td>1</td>\n",
       "      <td>0</td>\n",
       "      <td>1</td>\n",
       "      <td>0</td>\n",
       "      <td>0</td>\n",
       "      <td>0</td>\n",
       "      <td>1</td>\n",
       "    </tr>\n",
       "    <tr>\n",
       "      <th>314</th>\n",
       "      <td>0</td>\n",
       "      <td>360.0</td>\n",
       "      <td>1.0</td>\n",
       "      <td>3.828641</td>\n",
       "      <td>7.774015</td>\n",
       "      <td>1</td>\n",
       "      <td>0</td>\n",
       "      <td>1</td>\n",
       "      <td>0</td>\n",
       "      <td>1</td>\n",
       "      <td>0</td>\n",
       "      <td>1</td>\n",
       "      <td>0</td>\n",
       "      <td>1</td>\n",
       "      <td>0</td>\n",
       "      <td>0</td>\n",
       "    </tr>\n",
       "    <tr>\n",
       "      <th>162</th>\n",
       "      <td>0</td>\n",
       "      <td>360.0</td>\n",
       "      <td>1.0</td>\n",
       "      <td>4.753590</td>\n",
       "      <td>8.605387</td>\n",
       "      <td>0</td>\n",
       "      <td>1</td>\n",
       "      <td>0</td>\n",
       "      <td>1</td>\n",
       "      <td>1</td>\n",
       "      <td>0</td>\n",
       "      <td>1</td>\n",
       "      <td>0</td>\n",
       "      <td>1</td>\n",
       "      <td>0</td>\n",
       "      <td>0</td>\n",
       "    </tr>\n",
       "    <tr>\n",
       "      <th>471</th>\n",
       "      <td>0</td>\n",
       "      <td>360.0</td>\n",
       "      <td>1.0</td>\n",
       "      <td>5.739793</td>\n",
       "      <td>9.157045</td>\n",
       "      <td>0</td>\n",
       "      <td>1</td>\n",
       "      <td>1</td>\n",
       "      <td>0</td>\n",
       "      <td>1</td>\n",
       "      <td>0</td>\n",
       "      <td>1</td>\n",
       "      <td>0</td>\n",
       "      <td>1</td>\n",
       "      <td>0</td>\n",
       "      <td>0</td>\n",
       "    </tr>\n",
       "  </tbody>\n",
       "</table>\n",
       "</div>"
      ],
      "text/plain": [
       "     Dependents  LoanAmountTerm  CreditHistory  LoanAmountLog  IncomeLog  \\\n",
       "558           0           360.0            1.0       4.682131   8.552946   \n",
       "246           3           360.0            0.0       5.075174   8.723231   \n",
       "314           0           360.0            1.0       3.828641   7.774015   \n",
       "162           0           360.0            1.0       4.753590   8.605387   \n",
       "471           0           360.0            1.0       5.739793   9.157045   \n",
       "\n",
       "     Gender_Female  Gender_Male  Married_No  Married_Yes  Education_Graduate  \\\n",
       "558              0            1           0            1                   1   \n",
       "246              0            1           0            1                   1   \n",
       "314              1            0           1            0                   1   \n",
       "162              0            1           0            1                   1   \n",
       "471              0            1           1            0                   1   \n",
       "\n",
       "     Education_Not Graduate  SelfEmployed_No  SelfEmployed_Yes  \\\n",
       "558                       0                1                 0   \n",
       "246                       0                1                 0   \n",
       "314                       0                1                 0   \n",
       "162                       0                1                 0   \n",
       "471                       0                1                 0   \n",
       "\n",
       "     PropertyArea_Rural  PropertyArea_Semiurban  PropertyArea_Urban  \n",
       "558                   1                       0                   0  \n",
       "246                   0                       0                   1  \n",
       "314                   1                       0                   0  \n",
       "162                   1                       0                   0  \n",
       "471                   1                       0                   0  "
      ]
     },
     "execution_count": 7,
     "metadata": {},
     "output_type": "execute_result"
    }
   ],
   "source": [
    "X.sample(5)"
   ]
  },
  {
   "cell_type": "code",
   "execution_count": 8,
   "id": "115a6bdb-8d4e-4bb3-a617-a8d26ef78032",
   "metadata": {},
   "outputs": [
    {
     "name": "stdout",
     "output_type": "stream",
     "text": [
      "<class 'pandas.core.frame.DataFrame'>\n",
      "RangeIndex: 564 entries, 0 to 563\n",
      "Data columns (total 16 columns):\n",
      " #   Column                  Non-Null Count  Dtype  \n",
      "---  ------                  --------------  -----  \n",
      " 0   Dependents              564 non-null    int64  \n",
      " 1   LoanAmountTerm          564 non-null    float64\n",
      " 2   CreditHistory           564 non-null    float64\n",
      " 3   LoanAmountLog           564 non-null    float64\n",
      " 4   IncomeLog               564 non-null    float64\n",
      " 5   Gender_Female           564 non-null    uint8  \n",
      " 6   Gender_Male             564 non-null    uint8  \n",
      " 7   Married_No              564 non-null    uint8  \n",
      " 8   Married_Yes             564 non-null    uint8  \n",
      " 9   Education_Graduate      564 non-null    uint8  \n",
      " 10  Education_Not Graduate  564 non-null    uint8  \n",
      " 11  SelfEmployed_No         564 non-null    uint8  \n",
      " 12  SelfEmployed_Yes        564 non-null    uint8  \n",
      " 13  PropertyArea_Rural      564 non-null    uint8  \n",
      " 14  PropertyArea_Semiurban  564 non-null    uint8  \n",
      " 15  PropertyArea_Urban      564 non-null    uint8  \n",
      "dtypes: float64(4), int64(1), uint8(11)\n",
      "memory usage: 28.2 KB\n"
     ]
    }
   ],
   "source": [
    "X.info()"
   ]
  },
  {
   "cell_type": "code",
   "execution_count": 9,
   "id": "63b7d100-ff98-4ac1-888d-064a3514d066",
   "metadata": {},
   "outputs": [
    {
     "data": {
      "text/plain": [
       "(564, 16)"
      ]
     },
     "execution_count": 9,
     "metadata": {},
     "output_type": "execute_result"
    }
   ],
   "source": [
    "X.shape"
   ]
  },
  {
   "cell_type": "markdown",
   "id": "92653124-4ae2-46da-8e8d-079fefafb5fa",
   "metadata": {},
   "source": [
    "# SPLIT DATA INTO TRAIN AND TEST"
   ]
  },
  {
   "cell_type": "code",
   "execution_count": 10,
   "id": "50133c94-c549-4b2a-9a4f-b9118ff43dbf",
   "metadata": {},
   "outputs": [],
   "source": [
    "from sklearn.model_selection import train_test_split\n",
    "X_train, X_test, y_train, y_test = train_test_split(X, y, test_size = 0.2, random_state = 0)"
   ]
  },
  {
   "cell_type": "code",
   "execution_count": 11,
   "id": "cbf80f80-8453-435a-94f1-135dbab37d64",
   "metadata": {},
   "outputs": [],
   "source": [
    "from sklearn.metrics import confusion_matrix, classification_report, accuracy_score"
   ]
  },
  {
   "cell_type": "code",
   "execution_count": 12,
   "id": "5a11bedd-9b18-4159-af4d-06d86706e3c7",
   "metadata": {},
   "outputs": [],
   "source": [
    "def print_scores(y_true, y_pred):\n",
    "    cm = confusion_matrix(y_true, y_pred)\n",
    "    tn = cm[0, 0]\n",
    "    tp = cm[1, 1]\n",
    "    fp = cm[0, 1]\n",
    "    fn = cm[1, 0]\n",
    "    print(f\"Overall Accuracy                           :{(tp + tn) / (tp + tn + fp + fn):.2f}\")\n",
    "    print(f\"Precision of Positive cases                :{tp / (tp + fp):.2f}\")\n",
    "    print(f\"Precision of Negative cases                :{tn / (tn + fn):.2f}\")\n",
    "    print(f\"Positive Recall or TPR or Sensitivity      :{tp / (tp + fn):.2f}\")\n",
    "    print(f\"Negative Recall or FPR or Specificity      :{tn / (tn + fp):.2f}\")"
   ]
  },
  {
   "cell_type": "markdown",
   "id": "c1e2b88c-05c5-44c4-b51b-f16318015cf9",
   "metadata": {},
   "source": [
    "# LOGISTIC REGRESSION"
   ]
  },
  {
   "cell_type": "code",
   "execution_count": 13,
   "id": "00e6a7a0-afe3-40eb-bfaf-ee268ece612d",
   "metadata": {},
   "outputs": [],
   "source": [
    "# IMPORTING PACKAGES LOGISTIC REGRESSION AND EVALUATION\n",
    "from sklearn.linear_model import LogisticRegression"
   ]
  },
  {
   "cell_type": "code",
   "execution_count": 14,
   "id": "aa5cd842-6657-4fb1-9f8d-c09a452107a8",
   "metadata": {},
   "outputs": [
    {
     "data": {
      "text/plain": [
       "StandardScaler()"
      ]
     },
     "execution_count": 14,
     "metadata": {},
     "output_type": "execute_result"
    }
   ],
   "source": [
    "from sklearn.preprocessing import StandardScaler\n",
    "ss = StandardScaler()\n",
    "ss.fit(X_train)"
   ]
  },
  {
   "cell_type": "code",
   "execution_count": 15,
   "id": "4a3628f6-98ce-4716-8c7a-cfd54aedbaf7",
   "metadata": {},
   "outputs": [],
   "source": [
    "X_train_scaled = ss.transform(X_train)\n",
    "X_test_scaled  = ss.transform(X_test)"
   ]
  },
  {
   "cell_type": "code",
   "execution_count": 16,
   "id": "a8526e12-4718-4559-a944-e4fb7bde66a7",
   "metadata": {},
   "outputs": [
    {
     "data": {
      "text/plain": [
       "LogisticRegression()"
      ]
     },
     "execution_count": 16,
     "metadata": {},
     "output_type": "execute_result"
    }
   ],
   "source": [
    "# LOGISTIC REGRESSION - TRAIN MODEL\n",
    "model = LogisticRegression()\n",
    "model.fit(X_train_scaled, y_train)"
   ]
  },
  {
   "cell_type": "code",
   "execution_count": 17,
   "id": "cc60c58f-4efb-49b2-bd60-cb4df73ee10a",
   "metadata": {},
   "outputs": [
    {
     "data": {
      "text/plain": [
       "0.8248337028824834"
      ]
     },
     "execution_count": 17,
     "metadata": {},
     "output_type": "execute_result"
    }
   ],
   "source": [
    "# CHECK MODEL'S PERFORMANCE WITH TRAIN DATA\n",
    "model.score(X_train_scaled, y_train)"
   ]
  },
  {
   "cell_type": "code",
   "execution_count": 18,
   "id": "4d59bd1f-2527-4077-a414-e65b7a2655fc",
   "metadata": {},
   "outputs": [],
   "source": [
    "y_pred = model.predict(X_test_scaled)"
   ]
  },
  {
   "cell_type": "code",
   "execution_count": 19,
   "id": "46db66ea-083e-4905-9962-3a9470c753c3",
   "metadata": {},
   "outputs": [
    {
     "data": {
      "text/plain": [
       "0.7787610619469026"
      ]
     },
     "execution_count": 19,
     "metadata": {},
     "output_type": "execute_result"
    }
   ],
   "source": [
    "accuracy_score(y_test, y_pred)"
   ]
  },
  {
   "cell_type": "code",
   "execution_count": 20,
   "id": "2a2bf392-f497-4dfa-9d89-68beb553a43e",
   "metadata": {},
   "outputs": [
    {
     "data": {
      "text/plain": [
       "array([[13, 22],\n",
       "       [ 3, 75]], dtype=int64)"
      ]
     },
     "execution_count": 20,
     "metadata": {},
     "output_type": "execute_result"
    }
   ],
   "source": [
    "confusion_matrix(y_test, y_pred)"
   ]
  },
  {
   "cell_type": "code",
   "execution_count": 21,
   "id": "5ba4bcd6-24e4-4b8c-a321-329318b230d0",
   "metadata": {},
   "outputs": [
    {
     "name": "stdout",
     "output_type": "stream",
     "text": [
      "Overall Accuracy                           :0.78\n",
      "Precision of Positive cases                :0.77\n",
      "Precision of Negative cases                :0.81\n",
      "Positive Recall or TPR or Sensitivity      :0.96\n",
      "Negative Recall or FPR or Specificity      :0.37\n"
     ]
    }
   ],
   "source": [
    "print_scores(y_test, y_pred)"
   ]
  },
  {
   "cell_type": "markdown",
   "id": "858eeb5d-0b94-4a3e-8f1a-1e390defe63a",
   "metadata": {},
   "source": [
    "### DISPLAY CLASSIFICATION REPORT"
   ]
  },
  {
   "cell_type": "code",
   "execution_count": 22,
   "id": "55266877-81a6-45c3-b948-db661075d71e",
   "metadata": {},
   "outputs": [
    {
     "data": {
      "text/plain": [
       "'              precision    recall  f1-score   support\\n\\n           0       0.81      0.37      0.51        35\\n           1       0.77      0.96      0.86        78\\n\\n    accuracy                           0.78       113\\n   macro avg       0.79      0.67      0.68       113\\nweighted avg       0.79      0.78      0.75       113\\n'"
      ]
     },
     "execution_count": 22,
     "metadata": {},
     "output_type": "execute_result"
    }
   ],
   "source": [
    "classification_report(y_test, y_pred)"
   ]
  },
  {
   "cell_type": "code",
   "execution_count": 23,
   "id": "c602e12a-0df8-46df-a7ce-35c119d2bf64",
   "metadata": {},
   "outputs": [
    {
     "name": "stdout",
     "output_type": "stream",
     "text": [
      "              precision    recall  f1-score   support\n",
      "\n",
      "           0       0.81      0.37      0.51        35\n",
      "           1       0.77      0.96      0.86        78\n",
      "\n",
      "    accuracy                           0.78       113\n",
      "   macro avg       0.79      0.67      0.68       113\n",
      "weighted avg       0.79      0.78      0.75       113\n",
      "\n"
     ]
    }
   ],
   "source": [
    "print(classification_report(y_test, y_pred))"
   ]
  },
  {
   "cell_type": "code",
   "execution_count": 24,
   "id": "e95e03a2-e0af-4002-aaf8-0f48fb643fcf",
   "metadata": {},
   "outputs": [
    {
     "data": {
      "text/plain": [
       "array([[ 0.12504115, -0.06339225,  1.52887566, -0.07144193,  0.01978037,\n",
       "        -0.04273509,  0.04273509, -0.08791328,  0.08791328,  0.04988399,\n",
       "        -0.04988399, -0.01659069,  0.01659069, -0.14173176,  0.21747696,\n",
       "        -0.08953919]])"
      ]
     },
     "execution_count": 24,
     "metadata": {},
     "output_type": "execute_result"
    }
   ],
   "source": [
    "model.coef_"
   ]
  },
  {
   "cell_type": "code",
   "execution_count": 25,
   "id": "2fc3c233-a48b-4831-b639-7d4795c0070b",
   "metadata": {},
   "outputs": [
    {
     "data": {
      "text/plain": [
       "array([0.76037075])"
      ]
     },
     "execution_count": 25,
     "metadata": {},
     "output_type": "execute_result"
    }
   ],
   "source": [
    "model.intercept_"
   ]
  },
  {
   "cell_type": "code",
   "execution_count": 26,
   "id": "82f1691a-25c9-479e-b964-9bf6c6751950",
   "metadata": {},
   "outputs": [],
   "source": [
    "y_pred_prob = model.predict_proba(X_test_scaled)"
   ]
  },
  {
   "cell_type": "code",
   "execution_count": 27,
   "id": "bdb7b169-2216-46fc-bac3-c0756ab05049",
   "metadata": {},
   "outputs": [
    {
     "data": {
      "text/plain": [
       "(array([[0.18926033, 0.81073967],\n",
       "        [0.93918012, 0.06081988],\n",
       "        [0.16626366, 0.83373634],\n",
       "        [0.19272632, 0.80727368],\n",
       "        [0.35005484, 0.64994516]]),\n",
       " array([1, 0, 1, 1, 1], dtype=int64))"
      ]
     },
     "execution_count": 27,
     "metadata": {},
     "output_type": "execute_result"
    }
   ],
   "source": [
    "y_pred_prob[5:10], y_pred[5:10]"
   ]
  },
  {
   "cell_type": "code",
   "execution_count": 28,
   "id": "4e7a140f-7a49-4f01-959f-ecc020aa3f1b",
   "metadata": {},
   "outputs": [
    {
     "data": {
      "text/plain": [
       "array([[0.18926033, 0.81073967],\n",
       "       [0.93918012, 0.06081988],\n",
       "       [0.16626366, 0.83373634],\n",
       "       [0.19272632, 0.80727368],\n",
       "       [0.35005484, 0.64994516]])"
      ]
     },
     "execution_count": 28,
     "metadata": {},
     "output_type": "execute_result"
    }
   ],
   "source": [
    "y_pred_prob[5:10]"
   ]
  },
  {
   "cell_type": "code",
   "execution_count": 29,
   "id": "212bf99c-ab5d-45dd-9271-53c2abf97934",
   "metadata": {},
   "outputs": [
    {
     "data": {
      "text/plain": [
       "(array([[0.24778533, 0.75221467],\n",
       "        [0.10699829, 0.89300171],\n",
       "        [0.12604105, 0.87395895],\n",
       "        [0.12853865, 0.87146135],\n",
       "        [0.23119301, 0.76880699]]),\n",
       " array([1, 0, 1, 1, 1], dtype=int64))"
      ]
     },
     "execution_count": 29,
     "metadata": {},
     "output_type": "execute_result"
    }
   ],
   "source": [
    "y_pred_prob[0:5], y_pred[5:10]"
   ]
  },
  {
   "cell_type": "markdown",
   "id": "3712963e-6ece-49c3-99b0-471215095555",
   "metadata": {},
   "source": [
    "### DECISION TREE"
   ]
  },
  {
   "cell_type": "code",
   "execution_count": 30,
   "id": "16b7b2a1-faf4-46e2-9789-6b1607b33152",
   "metadata": {},
   "outputs": [],
   "source": [
    "from sklearn.tree import DecisionTreeClassifier"
   ]
  },
  {
   "cell_type": "code",
   "execution_count": 31,
   "id": "290807c0-9a63-42a0-ac1c-2a6b7eb04a47",
   "metadata": {},
   "outputs": [
    {
     "data": {
      "text/plain": [
       "DecisionTreeClassifier(max_depth=3)"
      ]
     },
     "execution_count": 31,
     "metadata": {},
     "output_type": "execute_result"
    }
   ],
   "source": [
    "model = DecisionTreeClassifier(max_depth = 3)\n",
    "model.fit(X_train,y_train)"
   ]
  },
  {
   "cell_type": "code",
   "execution_count": 32,
   "id": "08b49424-716e-4b89-a9db-ea5ace7d6507",
   "metadata": {},
   "outputs": [
    {
     "data": {
      "text/plain": [
       "0.8403547671840355"
      ]
     },
     "execution_count": 32,
     "metadata": {},
     "output_type": "execute_result"
    }
   ],
   "source": [
    "model.score(X_train, y_train)"
   ]
  },
  {
   "cell_type": "code",
   "execution_count": 33,
   "id": "2868951c-4ee6-4d2a-8d03-15d7e550dfe8",
   "metadata": {},
   "outputs": [],
   "source": [
    "y_train_pred = model.predict(X_train)"
   ]
  },
  {
   "cell_type": "code",
   "execution_count": 34,
   "id": "7e28a0a5-47d1-4da5-bad9-fe946d659172",
   "metadata": {},
   "outputs": [
    {
     "name": "stdout",
     "output_type": "stream",
     "text": [
      "Overall Accuracy                           :0.84\n",
      "Precision of Positive cases                :0.82\n",
      "Precision of Negative cases                :0.91\n",
      "Positive Recall or TPR or Sensitivity      :0.97\n",
      "Negative Recall or FPR or Specificity      :0.56\n"
     ]
    }
   ],
   "source": [
    "print_scores(y_train, y_train_pred)"
   ]
  },
  {
   "cell_type": "code",
   "execution_count": 35,
   "id": "988efe10-c421-4474-9b02-916a1949f0a3",
   "metadata": {},
   "outputs": [],
   "source": [
    "y_pred = model.predict(X_test)"
   ]
  },
  {
   "cell_type": "code",
   "execution_count": 36,
   "id": "91857c96-a145-4b8d-8a92-af7a7aee7ccd",
   "metadata": {},
   "outputs": [
    {
     "name": "stdout",
     "output_type": "stream",
     "text": [
      "Overall Accuracy                           :0.78\n",
      "Precision of Positive cases                :0.78\n",
      "Precision of Negative cases                :0.75\n",
      "Positive Recall or TPR or Sensitivity      :0.94\n",
      "Negative Recall or FPR or Specificity      :0.43\n"
     ]
    }
   ],
   "source": [
    "print_scores(y_test, y_pred)"
   ]
  },
  {
   "cell_type": "code",
   "execution_count": 37,
   "id": "37b79b84-01e8-4846-a3bf-bf1ab2bc83a6",
   "metadata": {},
   "outputs": [
    {
     "data": {
      "text/plain": [
       "array([[15, 20],\n",
       "       [ 5, 73]], dtype=int64)"
      ]
     },
     "execution_count": 37,
     "metadata": {},
     "output_type": "execute_result"
    }
   ],
   "source": [
    "confusion_matrix(y_test, y_pred)"
   ]
  },
  {
   "cell_type": "code",
   "execution_count": 38,
   "id": "c1cf74ec-b428-447d-8ada-b1c955b8de36",
   "metadata": {},
   "outputs": [
    {
     "name": "stdout",
     "output_type": "stream",
     "text": [
      "              precision    recall  f1-score   support\n",
      "\n",
      "           0       0.75      0.43      0.55        35\n",
      "           1       0.78      0.94      0.85        78\n",
      "\n",
      "    accuracy                           0.78       113\n",
      "   macro avg       0.77      0.68      0.70       113\n",
      "weighted avg       0.77      0.78      0.76       113\n",
      "\n"
     ]
    }
   ],
   "source": [
    "print(classification_report(y_test, y_pred))"
   ]
  },
  {
   "cell_type": "markdown",
   "id": "b6a44f5f-35cd-42e1-9d60-392c4a751b49",
   "metadata": {},
   "source": [
    "### DECISION TREE BY CLASSIFIER"
   ]
  },
  {
   "cell_type": "code",
   "execution_count": 39,
   "id": "bd1353fe-3ab1-4101-b208-b68848cb61b1",
   "metadata": {},
   "outputs": [
    {
     "name": "stdout",
     "output_type": "stream",
     "text": [
      "|--- CreditHistory <= 0.50\n",
      "|   |--- LoanAmountLog <= 6.30\n",
      "|   |   |--- LoanAmountLog <= 4.86\n",
      "|   |   |   |--- class: 0\n",
      "|   |   |--- LoanAmountLog >  4.86\n",
      "|   |   |   |--- class: 0\n",
      "|   |--- LoanAmountLog >  6.30\n",
      "|   |   |--- class: 1\n",
      "|--- CreditHistory >  0.50\n",
      "|   |--- IncomeLog <= 9.90\n",
      "|   |   |--- IncomeLog <= 7.78\n",
      "|   |   |   |--- class: 0\n",
      "|   |   |--- IncomeLog >  7.78\n",
      "|   |   |   |--- class: 1\n",
      "|   |--- IncomeLog >  9.90\n",
      "|   |   |--- Dependents <= 2.00\n",
      "|   |   |   |--- class: 0\n",
      "|   |   |--- Dependents >  2.00\n",
      "|   |   |   |--- class: 1\n",
      "\n"
     ]
    }
   ],
   "source": [
    "# PRINT TREE GENERATED BY DECISIONTREECLASSIFIER\n",
    "from sklearn.tree import export_text\n",
    "tree_rules = export_text(model, feature_names = list(X_train))\n",
    "print(tree_rules)"
   ]
  },
  {
   "cell_type": "markdown",
   "id": "713a7184-c416-4b0b-baf8-ae568e31f4b5",
   "metadata": {},
   "source": [
    "### KNN"
   ]
  },
  {
   "cell_type": "code",
   "execution_count": 40,
   "id": "ab1c24b5-2502-4bd5-ae5c-970d6a26a10f",
   "metadata": {},
   "outputs": [],
   "source": [
    "from sklearn.neighbors import KNeighborsClassifier"
   ]
  },
  {
   "cell_type": "code",
   "execution_count": 41,
   "id": "35afe93c-3cae-400d-b448-16b6b378b42a",
   "metadata": {},
   "outputs": [
    {
     "data": {
      "text/plain": [
       "KNeighborsClassifier()"
      ]
     },
     "execution_count": 41,
     "metadata": {},
     "output_type": "execute_result"
    }
   ],
   "source": [
    "model = KNeighborsClassifier(n_neighbors = 5)\n",
    "model.fit(X_train_scaled, y_train)"
   ]
  },
  {
   "cell_type": "code",
   "execution_count": 42,
   "id": "97d03d63-4adb-4768-a8c5-06c5fef12903",
   "metadata": {},
   "outputs": [],
   "source": [
    "y_train_pred = model.predict(X_train_scaled)"
   ]
  },
  {
   "cell_type": "code",
   "execution_count": 43,
   "id": "f6d39828-4a22-4afd-9800-8669bacf95e1",
   "metadata": {},
   "outputs": [
    {
     "name": "stdout",
     "output_type": "stream",
     "text": [
      "Overall Accuracy                           :0.82\n",
      "Precision of Positive cases                :0.80\n",
      "Precision of Negative cases                :0.89\n",
      "Positive Recall or TPR or Sensitivity      :0.97\n",
      "Negative Recall or FPR or Specificity      :0.49\n"
     ]
    }
   ],
   "source": [
    "print_scores(y_train, y_train_pred)"
   ]
  },
  {
   "cell_type": "code",
   "execution_count": 44,
   "id": "b704ca03-56b2-4dd5-a394-3708f81fc630",
   "metadata": {},
   "outputs": [],
   "source": [
    "y_pred = model.predict(X_test_scaled)"
   ]
  },
  {
   "cell_type": "code",
   "execution_count": 45,
   "id": "2386d8fb-4d8e-4374-9fe9-bdb3725696f0",
   "metadata": {},
   "outputs": [
    {
     "name": "stdout",
     "output_type": "stream",
     "text": [
      "Overall Accuracy                           :0.75\n",
      "Precision of Positive cases                :0.76\n",
      "Precision of Negative cases                :0.71\n",
      "Positive Recall or TPR or Sensitivity      :0.94\n",
      "Negative Recall or FPR or Specificity      :0.34\n"
     ]
    }
   ],
   "source": [
    "print_scores(y_test, y_pred)"
   ]
  },
  {
   "cell_type": "markdown",
   "id": "57ef3732-58bf-482e-80f5-bb7e19c6dda9",
   "metadata": {},
   "source": [
    "### NAIVE BAYES"
   ]
  },
  {
   "cell_type": "code",
   "execution_count": 46,
   "id": "6c8125e2-6a41-45bd-842f-7baeac84705d",
   "metadata": {},
   "outputs": [],
   "source": [
    "from sklearn.naive_bayes import GaussianNB"
   ]
  },
  {
   "cell_type": "code",
   "execution_count": 47,
   "id": "ec1e7f14-2f88-4e28-a6b0-339bdf71f439",
   "metadata": {},
   "outputs": [
    {
     "data": {
      "text/plain": [
       "GaussianNB()"
      ]
     },
     "execution_count": 47,
     "metadata": {},
     "output_type": "execute_result"
    }
   ],
   "source": [
    "model = GaussianNB()\n",
    "model.fit(X_train, y_train)"
   ]
  },
  {
   "cell_type": "code",
   "execution_count": 48,
   "id": "d26c39f1-9023-4281-91f8-569515890961",
   "metadata": {},
   "outputs": [],
   "source": [
    "y_train_pred = model.predict(X_train)"
   ]
  },
  {
   "cell_type": "code",
   "execution_count": 49,
   "id": "8456c2a4-2dae-4154-804f-df2965b67a91",
   "metadata": {},
   "outputs": [
    {
     "name": "stdout",
     "output_type": "stream",
     "text": [
      "Overall Accuracy                           :0.82\n",
      "Precision of Positive cases                :0.80\n",
      "Precision of Negative cases                :0.89\n",
      "Positive Recall or TPR or Sensitivity      :0.97\n",
      "Negative Recall or FPR or Specificity      :0.49\n"
     ]
    }
   ],
   "source": [
    "print_scores(y_train, y_train_pred)"
   ]
  },
  {
   "cell_type": "code",
   "execution_count": 50,
   "id": "2dfd0a29-3f5f-45cb-bdd7-acbc0c67ec60",
   "metadata": {},
   "outputs": [],
   "source": [
    "y_pred = model.predict(X_test)"
   ]
  },
  {
   "cell_type": "code",
   "execution_count": 51,
   "id": "75ce112e-c8a2-40d9-8dd2-0c89d397f5c1",
   "metadata": {},
   "outputs": [
    {
     "name": "stdout",
     "output_type": "stream",
     "text": [
      "Overall Accuracy                           :0.79\n",
      "Precision of Positive cases                :0.79\n",
      "Precision of Negative cases                :0.79\n",
      "Positive Recall or TPR or Sensitivity      :0.95\n",
      "Negative Recall or FPR or Specificity      :0.43\n"
     ]
    }
   ],
   "source": [
    "print_scores(y_test, y_pred)"
   ]
  },
  {
   "cell_type": "markdown",
   "id": "126d00b0-dc61-4bde-8732-253cf4638d01",
   "metadata": {},
   "source": [
    "### SUPPORT VECTOR MACHINES"
   ]
  },
  {
   "cell_type": "code",
   "execution_count": 53,
   "id": "43d7a514-f15f-4517-869c-d26aae751300",
   "metadata": {},
   "outputs": [],
   "source": [
    "from sklearn.svm import SVC"
   ]
  },
  {
   "cell_type": "code",
   "execution_count": 54,
   "id": "a63d0375-a1f1-4a85-8451-ab46f286fa9b",
   "metadata": {},
   "outputs": [
    {
     "data": {
      "text/plain": [
       "SVC()"
      ]
     },
     "execution_count": 54,
     "metadata": {},
     "output_type": "execute_result"
    }
   ],
   "source": [
    "model = SVC()\n",
    "model.fit(X_train_scaled, y_train)"
   ]
  },
  {
   "cell_type": "code",
   "execution_count": 55,
   "id": "c73ee2fd-dd32-4b8a-a527-de80f2d00c8f",
   "metadata": {},
   "outputs": [],
   "source": [
    "y_train_pred = model.predict(X_train_scaled)"
   ]
  },
  {
   "cell_type": "code",
   "execution_count": 57,
   "id": "6a0c6c97-633a-4132-b9ad-fd4d89ad82bb",
   "metadata": {},
   "outputs": [
    {
     "name": "stdout",
     "output_type": "stream",
     "text": [
      "Overall Accuracy                           :0.83\n",
      "Precision of Positive cases                :0.81\n",
      "Precision of Negative cases                :0.96\n",
      "Positive Recall or TPR or Sensitivity      :0.99\n",
      "Negative Recall or FPR or Specificity      :0.50\n"
     ]
    }
   ],
   "source": [
    "print_scores(y_train, y_train_pred)"
   ]
  },
  {
   "cell_type": "code",
   "execution_count": 58,
   "id": "811e9c85-47f2-4d08-a749-564a5d4babb4",
   "metadata": {},
   "outputs": [],
   "source": [
    "y_pred = model.predict(X_test_scaled)"
   ]
  },
  {
   "cell_type": "code",
   "execution_count": 59,
   "id": "07e49165-0d54-4cb2-88a8-38600a4cc2ae",
   "metadata": {},
   "outputs": [
    {
     "name": "stdout",
     "output_type": "stream",
     "text": [
      "Overall Accuracy                           :0.78\n",
      "Precision of Positive cases                :0.77\n",
      "Precision of Negative cases                :0.81\n",
      "Positive Recall or TPR or Sensitivity      :0.96\n",
      "Negative Recall or FPR or Specificity      :0.37\n"
     ]
    }
   ],
   "source": [
    "print_scores(y_test, y_pred)"
   ]
  },
  {
   "cell_type": "code",
   "execution_count": null,
   "id": "5aa127c4-47a4-429f-a506-7b73eba69b50",
   "metadata": {},
   "outputs": [],
   "source": []
  }
 ],
 "metadata": {
  "kernelspec": {
   "display_name": "Python 3 (ipykernel)",
   "language": "python",
   "name": "python3"
  },
  "language_info": {
   "codemirror_mode": {
    "name": "ipython",
    "version": 3
   },
   "file_extension": ".py",
   "mimetype": "text/x-python",
   "name": "python",
   "nbconvert_exporter": "python",
   "pygments_lexer": "ipython3",
   "version": "3.9.12"
  }
 },
 "nbformat": 4,
 "nbformat_minor": 5
}
