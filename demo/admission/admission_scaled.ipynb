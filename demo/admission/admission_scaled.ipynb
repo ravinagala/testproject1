{
 "cells": [
  {
   "cell_type": "markdown",
   "id": "8240eb2d-d9bd-4ead-8446-de59b0c63c1c",
   "metadata": {},
   "source": [
    "### USING SCALING - NORMALIZATION AND STANDARDIZATION"
   ]
  },
  {
   "cell_type": "markdown",
   "id": "f9ad12b3-8c90-41c1-9c2c-ddc9a2346a35",
   "metadata": {},
   "source": [
    "### LOAD LIBRARIES"
   ]
  },
  {
   "cell_type": "code",
   "execution_count": 137,
   "id": "f27a8f10-74f4-4630-9be9-dfac5f34602b",
   "metadata": {},
   "outputs": [],
   "source": [
    "import numpy as np\n",
    "import pandas as pd\n",
    "import seaborn as sns\n",
    "import matplotlib.pyplot as plt"
   ]
  },
  {
   "cell_type": "markdown",
   "id": "82a9e157-25fc-4201-81d4-4c010a449f64",
   "metadata": {},
   "source": [
    "### LOAD DATA FROM ADMISSION.CSV"
   ]
  },
  {
   "cell_type": "code",
   "execution_count": 138,
   "id": "56f26036-719c-4eb6-80c9-8e79400cf017",
   "metadata": {},
   "outputs": [],
   "source": [
    "df = pd.read_csv(\"admission.csv\")"
   ]
  },
  {
   "cell_type": "markdown",
   "id": "18039257-d9de-411d-b4d6-a9660661390a",
   "metadata": {},
   "source": [
    "### BUILD MACHINE LEARNING MODEL"
   ]
  },
  {
   "cell_type": "code",
   "execution_count": 139,
   "id": "1e2177aa-2415-41b2-9cb3-776d28db15ce",
   "metadata": {},
   "outputs": [],
   "source": [
    "from sklearn.model_selection import train_test_split\n",
    "from sklearn.linear_model import LinearRegression"
   ]
  },
  {
   "cell_type": "code",
   "execution_count": 140,
   "id": "5fc64736-9f33-4799-b177-1f44c5e29ebb",
   "metadata": {},
   "outputs": [
    {
     "data": {
      "text/html": [
       "<div>\n",
       "<style scoped>\n",
       "    .dataframe tbody tr th:only-of-type {\n",
       "        vertical-align: middle;\n",
       "    }\n",
       "\n",
       "    .dataframe tbody tr th {\n",
       "        vertical-align: top;\n",
       "    }\n",
       "\n",
       "    .dataframe thead th {\n",
       "        text-align: right;\n",
       "    }\n",
       "</style>\n",
       "<table border=\"1\" class=\"dataframe\">\n",
       "  <thead>\n",
       "    <tr style=\"text-align: right;\">\n",
       "      <th></th>\n",
       "      <th>Sno</th>\n",
       "      <th>Gre</th>\n",
       "      <th>Toefl</th>\n",
       "      <th>Rating</th>\n",
       "      <th>Sop</th>\n",
       "      <th>Lor</th>\n",
       "      <th>Cgpa</th>\n",
       "      <th>Research</th>\n",
       "      <th>Chance</th>\n",
       "    </tr>\n",
       "  </thead>\n",
       "  <tbody>\n",
       "    <tr>\n",
       "      <th>count</th>\n",
       "      <td>500.000000</td>\n",
       "      <td>500.000000</td>\n",
       "      <td>500.000000</td>\n",
       "      <td>500.000000</td>\n",
       "      <td>500.000000</td>\n",
       "      <td>500.00000</td>\n",
       "      <td>500.000000</td>\n",
       "      <td>500.000000</td>\n",
       "      <td>500.00000</td>\n",
       "    </tr>\n",
       "    <tr>\n",
       "      <th>mean</th>\n",
       "      <td>250.500000</td>\n",
       "      <td>316.472000</td>\n",
       "      <td>107.192000</td>\n",
       "      <td>3.114000</td>\n",
       "      <td>3.374000</td>\n",
       "      <td>3.48400</td>\n",
       "      <td>8.576440</td>\n",
       "      <td>0.560000</td>\n",
       "      <td>0.72174</td>\n",
       "    </tr>\n",
       "    <tr>\n",
       "      <th>std</th>\n",
       "      <td>144.481833</td>\n",
       "      <td>11.295148</td>\n",
       "      <td>6.081868</td>\n",
       "      <td>1.143512</td>\n",
       "      <td>0.991004</td>\n",
       "      <td>0.92545</td>\n",
       "      <td>0.604813</td>\n",
       "      <td>0.496884</td>\n",
       "      <td>0.14114</td>\n",
       "    </tr>\n",
       "    <tr>\n",
       "      <th>min</th>\n",
       "      <td>1.000000</td>\n",
       "      <td>290.000000</td>\n",
       "      <td>92.000000</td>\n",
       "      <td>1.000000</td>\n",
       "      <td>1.000000</td>\n",
       "      <td>1.00000</td>\n",
       "      <td>6.800000</td>\n",
       "      <td>0.000000</td>\n",
       "      <td>0.34000</td>\n",
       "    </tr>\n",
       "    <tr>\n",
       "      <th>25%</th>\n",
       "      <td>125.750000</td>\n",
       "      <td>308.000000</td>\n",
       "      <td>103.000000</td>\n",
       "      <td>2.000000</td>\n",
       "      <td>2.500000</td>\n",
       "      <td>3.00000</td>\n",
       "      <td>8.127500</td>\n",
       "      <td>0.000000</td>\n",
       "      <td>0.63000</td>\n",
       "    </tr>\n",
       "    <tr>\n",
       "      <th>50%</th>\n",
       "      <td>250.500000</td>\n",
       "      <td>317.000000</td>\n",
       "      <td>107.000000</td>\n",
       "      <td>3.000000</td>\n",
       "      <td>3.500000</td>\n",
       "      <td>3.50000</td>\n",
       "      <td>8.560000</td>\n",
       "      <td>1.000000</td>\n",
       "      <td>0.72000</td>\n",
       "    </tr>\n",
       "    <tr>\n",
       "      <th>75%</th>\n",
       "      <td>375.250000</td>\n",
       "      <td>325.000000</td>\n",
       "      <td>112.000000</td>\n",
       "      <td>4.000000</td>\n",
       "      <td>4.000000</td>\n",
       "      <td>4.00000</td>\n",
       "      <td>9.040000</td>\n",
       "      <td>1.000000</td>\n",
       "      <td>0.82000</td>\n",
       "    </tr>\n",
       "    <tr>\n",
       "      <th>max</th>\n",
       "      <td>500.000000</td>\n",
       "      <td>340.000000</td>\n",
       "      <td>120.000000</td>\n",
       "      <td>5.000000</td>\n",
       "      <td>5.000000</td>\n",
       "      <td>5.00000</td>\n",
       "      <td>9.920000</td>\n",
       "      <td>1.000000</td>\n",
       "      <td>0.97000</td>\n",
       "    </tr>\n",
       "  </tbody>\n",
       "</table>\n",
       "</div>"
      ],
      "text/plain": [
       "              Sno         Gre       Toefl      Rating         Sop        Lor  \\\n",
       "count  500.000000  500.000000  500.000000  500.000000  500.000000  500.00000   \n",
       "mean   250.500000  316.472000  107.192000    3.114000    3.374000    3.48400   \n",
       "std    144.481833   11.295148    6.081868    1.143512    0.991004    0.92545   \n",
       "min      1.000000  290.000000   92.000000    1.000000    1.000000    1.00000   \n",
       "25%    125.750000  308.000000  103.000000    2.000000    2.500000    3.00000   \n",
       "50%    250.500000  317.000000  107.000000    3.000000    3.500000    3.50000   \n",
       "75%    375.250000  325.000000  112.000000    4.000000    4.000000    4.00000   \n",
       "max    500.000000  340.000000  120.000000    5.000000    5.000000    5.00000   \n",
       "\n",
       "             Cgpa    Research     Chance  \n",
       "count  500.000000  500.000000  500.00000  \n",
       "mean     8.576440    0.560000    0.72174  \n",
       "std      0.604813    0.496884    0.14114  \n",
       "min      6.800000    0.000000    0.34000  \n",
       "25%      8.127500    0.000000    0.63000  \n",
       "50%      8.560000    1.000000    0.72000  \n",
       "75%      9.040000    1.000000    0.82000  \n",
       "max      9.920000    1.000000    0.97000  "
      ]
     },
     "execution_count": 140,
     "metadata": {},
     "output_type": "execute_result"
    }
   ],
   "source": [
    "df.describe()"
   ]
  },
  {
   "cell_type": "markdown",
   "id": "03ac53af-9800-41af-ae71-893ab355e2fe",
   "metadata": {},
   "source": [
    "### MODEL WITH NORMALIZATION"
   ]
  },
  {
   "cell_type": "code",
   "execution_count": 141,
   "id": "e902fccb-8126-4b89-afa9-51fff328747f",
   "metadata": {},
   "outputs": [],
   "source": [
    "X = df[[\"Gre\", \"Toefl\", \"Cgpa\"]]\n",
    "y = df[\"Chance\"]  * 100"
   ]
  },
  {
   "cell_type": "code",
   "execution_count": 142,
   "id": "73cb49f6-6996-41b9-ac61-c9f448089b85",
   "metadata": {},
   "outputs": [],
   "source": [
    "# SPLIT DATA INTO TRAIN AND TEST\n",
    "X_train, X_test, y_train, y_test = train_test_split(X, y, test_size = 0.2, random_state = 0)"
   ]
  },
  {
   "cell_type": "code",
   "execution_count": 143,
   "id": "4e93763f-7afe-42e3-b435-fd70b802a07a",
   "metadata": {},
   "outputs": [
    {
     "data": {
      "text/plain": [
       "((400, 3), (100, 3), (400,), (100,))"
      ]
     },
     "execution_count": 143,
     "metadata": {},
     "output_type": "execute_result"
    }
   ],
   "source": [
    "X_train.shape, X_test.shape, y_train.shape, y_test.shape"
   ]
  },
  {
   "cell_type": "code",
   "execution_count": 144,
   "id": "d338fcb7-cb97-448b-99f7-cfa9005adf4b",
   "metadata": {},
   "outputs": [
    {
     "name": "stderr",
     "output_type": "stream",
     "text": [
      "C:\\Users\\nagal\\anaconda3\\lib\\site-packages\\sklearn\\linear_model\\_base.py:141: FutureWarning: 'normalize' was deprecated in version 1.0 and will be removed in 1.2.\n",
      "If you wish to scale the data, use Pipeline with a StandardScaler in a preprocessing stage. To reproduce the previous behavior:\n",
      "\n",
      "from sklearn.pipeline import make_pipeline\n",
      "\n",
      "model = make_pipeline(StandardScaler(with_mean=False), LinearRegression())\n",
      "\n",
      "If you wish to pass a sample_weight parameter, you need to pass it as a fit parameter to each step of the pipeline as follows:\n",
      "\n",
      "kwargs = {s[0] + '__sample_weight': sample_weight for s in model.steps}\n",
      "model.fit(X, y, **kwargs)\n",
      "\n",
      "\n",
      "  warnings.warn(\n"
     ]
    },
    {
     "data": {
      "text/plain": [
       "LinearRegression(normalize=True)"
      ]
     },
     "execution_count": 144,
     "metadata": {},
     "output_type": "execute_result"
    }
   ],
   "source": [
    "# FIT MODEL OR TRAIN MODEL\n",
    "model = LinearRegression(normalize = True) # MIN-MAX SCALE\n",
    "model.fit(X_train, y_train)"
   ]
  },
  {
   "cell_type": "code",
   "execution_count": 145,
   "id": "74f4cdf1-63b8-4882-80fa-4d2d43d75cdb",
   "metadata": {},
   "outputs": [
    {
     "data": {
      "text/plain": [
       "(array([ 0.2530053 ,  0.31789215, 14.25427517]), -164.24396080709764)"
      ]
     },
     "execution_count": 145,
     "metadata": {},
     "output_type": "execute_result"
    }
   ],
   "source": [
    "model.coef_, model.intercept_"
   ]
  },
  {
   "cell_type": "code",
   "execution_count": 146,
   "id": "91f21995-79f7-4236-b203-bd2ce947104f",
   "metadata": {},
   "outputs": [
    {
     "data": {
      "text/plain": [
       "0.8122343451664387"
      ]
     },
     "execution_count": 146,
     "metadata": {},
     "output_type": "execute_result"
    }
   ],
   "source": [
    "model.score(X_train, y_train)"
   ]
  },
  {
   "cell_type": "code",
   "execution_count": 147,
   "id": "61a49b80-ceaf-40d3-aa92-1840716e6259",
   "metadata": {},
   "outputs": [],
   "source": [
    "y_pred = model.predict(X_test)"
   ]
  },
  {
   "cell_type": "code",
   "execution_count": 148,
   "id": "533d3869-605a-49b3-aaf1-c667c595672f",
   "metadata": {},
   "outputs": [],
   "source": [
    "from sklearn.metrics import mean_squared_error, r2_score"
   ]
  },
  {
   "cell_type": "code",
   "execution_count": 149,
   "id": "523f765f-e2c0-474e-b062-819284967b39",
   "metadata": {},
   "outputs": [
    {
     "name": "stdout",
     "output_type": "stream",
     "text": [
      "Mean Squared Error :  41.341\n"
     ]
    }
   ],
   "source": [
    "mse = mean_squared_error(y_pred, y_test)\n",
    "print(f\"Mean Squared Error : {mse : 0.3f}\")"
   ]
  },
  {
   "cell_type": "code",
   "execution_count": 150,
   "id": "058f6328-67bb-4c75-bb39-3e4d50d1cb2b",
   "metadata": {},
   "outputs": [
    {
     "name": "stdout",
     "output_type": "stream",
     "text": [
      "Root Mean Squared Error :  6.430\n"
     ]
    }
   ],
   "source": [
    "rmse = np.sqrt(mse)\n",
    "print(f\"Root Mean Squared Error : {rmse : 0.3f}\")"
   ]
  },
  {
   "cell_type": "code",
   "execution_count": 151,
   "id": "7cc6f935-9d7c-470d-bd74-343185342af6",
   "metadata": {},
   "outputs": [
    {
     "name": "stdout",
     "output_type": "stream",
     "text": [
      "R2Score :  0.719\n"
     ]
    }
   ],
   "source": [
    "r2score = r2_score(y_pred, y_test)\n",
    "print(f\"R2Score : {r2score : 0.3f}\")"
   ]
  },
  {
   "cell_type": "markdown",
   "id": "cc57d100-4c5d-4f51-b1f3-f252bd30a018",
   "metadata": {},
   "source": [
    "### STANDARDIZATION OF DATASET"
   ]
  },
  {
   "cell_type": "code",
   "execution_count": 152,
   "id": "a38063be-61b6-4ccc-a644-29159e7dd983",
   "metadata": {},
   "outputs": [],
   "source": [
    "X = df[[\"Gre\", \"Toefl\", \"Cgpa\"]]\n",
    "y = df[\"Chance\"] * 100"
   ]
  },
  {
   "cell_type": "code",
   "execution_count": 153,
   "id": "c060bad8-e581-4d9a-a200-bc54885936cd",
   "metadata": {},
   "outputs": [],
   "source": [
    "from sklearn.preprocessing import StandardScaler, MinMaxScaler"
   ]
  },
  {
   "cell_type": "code",
   "execution_count": 154,
   "id": "81b6575b-793d-40ca-a793-d226fce0b085",
   "metadata": {},
   "outputs": [],
   "source": [
    "ss = StandardScaler()"
   ]
  },
  {
   "cell_type": "code",
   "execution_count": 155,
   "id": "0cb8e931-42d0-4891-a4be-b0bacc6de419",
   "metadata": {},
   "outputs": [],
   "source": [
    "# SPLIT DATA INTO TRAIN AND TEST\n",
    "X_train, X_test, y_train, y_test = train_test_split(X, y, test_size = 0.2, random_state = 0)"
   ]
  },
  {
   "cell_type": "code",
   "execution_count": 156,
   "id": "b38c6049-e1b7-4eeb-9b51-6ec4304550a0",
   "metadata": {},
   "outputs": [
    {
     "data": {
      "text/plain": [
       "((400, 3), (100, 3), (400,), (100,))"
      ]
     },
     "execution_count": 156,
     "metadata": {},
     "output_type": "execute_result"
    }
   ],
   "source": [
    "X_train.shape, X_test.shape, y_train.shape, y_test.shape"
   ]
  },
  {
   "cell_type": "code",
   "execution_count": 157,
   "id": "742788fd-b809-43c7-af07-2c30c2fd2d7f",
   "metadata": {},
   "outputs": [],
   "source": [
    "# SCALE TRAIN DATASET\n",
    "X_train_scaled = ss.fit_transform(X_train)"
   ]
  },
  {
   "cell_type": "code",
   "execution_count": 158,
   "id": "0ac73428-4e25-466f-83fa-dce19f735aa5",
   "metadata": {},
   "outputs": [
    {
     "data": {
      "text/plain": [
       "(400, 3)"
      ]
     },
     "execution_count": 158,
     "metadata": {},
     "output_type": "execute_result"
    }
   ],
   "source": [
    "X_train_scaled.shape"
   ]
  },
  {
   "cell_type": "code",
   "execution_count": 159,
   "id": "1ec7117e-e7bb-4931-9bb0-9d50070e34bd",
   "metadata": {},
   "outputs": [
    {
     "data": {
      "text/plain": [
       "107    338\n",
       "336    319\n",
       "71     336\n",
       "474    308\n",
       "6      321\n",
       "412    314\n",
       "113    320\n",
       "236    325\n",
       "299    305\n",
       "155    312\n",
       "Name: Gre, dtype: int64"
      ]
     },
     "execution_count": 159,
     "metadata": {},
     "output_type": "execute_result"
    }
   ],
   "source": [
    "X_train.iloc[:10, 0] "
   ]
  },
  {
   "cell_type": "code",
   "execution_count": 160,
   "id": "6b85ef7a-63e1-447d-b965-da6b6d0bbf22",
   "metadata": {},
   "outputs": [
    {
     "data": {
      "text/plain": [
       "array([ 1.87138145,  0.19003625,  1.69439775, -0.78337412,  0.36701996,\n",
       "       -0.25242301,  0.27852811,  0.72098737, -1.04884968, -0.42940671])"
      ]
     },
     "execution_count": 160,
     "metadata": {},
     "output_type": "execute_result"
    }
   ],
   "source": [
    "X_train_scaled[:10, 0]"
   ]
  },
  {
   "cell_type": "code",
   "execution_count": 161,
   "id": "de300021-54fc-4df6-8259-f193f3b177d5",
   "metadata": {},
   "outputs": [
    {
     "data": {
      "text/plain": [
       "107    117\n",
       "336    110\n",
       "71     112\n",
       "474    105\n",
       "6      109\n",
       "412    102\n",
       "113    110\n",
       "236    112\n",
       "299    112\n",
       "155    109\n",
       "272     95\n",
       "Name: Toefl, dtype: int64"
      ]
     },
     "execution_count": 161,
     "metadata": {},
     "output_type": "execute_result"
    }
   ],
   "source": [
    "X_train.iloc[:11, 1]"
   ]
  },
  {
   "cell_type": "code",
   "execution_count": 162,
   "id": "8efac788-effc-43e5-a060-a5aebe0201dc",
   "metadata": {},
   "outputs": [
    {
     "data": {
      "text/plain": [
       "array([ 1.56490551,  0.43325896,  0.75658655, -0.37506   ,  0.27159517,\n",
       "       -0.86005137,  0.43325896,  0.75658655,  0.75658655,  0.27159517,\n",
       "       -1.99169792])"
      ]
     },
     "execution_count": 162,
     "metadata": {},
     "output_type": "execute_result"
    }
   ],
   "source": [
    "X_train_scaled[:11, 1]"
   ]
  },
  {
   "cell_type": "code",
   "execution_count": 163,
   "id": "3a96029c-de4c-4f39-bf73-8a77665b47fc",
   "metadata": {},
   "outputs": [
    {
     "name": "stdout",
     "output_type": "stream",
     "text": [
      "-0.000000, 1.0\n"
     ]
    }
   ],
   "source": [
    "print(f\"{X_train_scaled[:, 0].mean():f}, {X_train_scaled[:, 0].std()}\")    # SCALED DATA HAS MEAN 0 AND STD 1"
   ]
  },
  {
   "cell_type": "code",
   "execution_count": 164,
   "id": "75357f42-18d0-492c-8535-affbf9dbe107",
   "metadata": {},
   "outputs": [
    {
     "name": "stdout",
     "output_type": "stream",
     "text": [
      "0.000000, 1.0\n"
     ]
    }
   ],
   "source": [
    "print(f\"{X_train_scaled[:, 1].mean():f}, {X_train_scaled[:, 1].std()}\") "
   ]
  },
  {
   "cell_type": "code",
   "execution_count": 165,
   "id": "dd698ab4-9d7f-4971-a336-c4f8ed0f486c",
   "metadata": {},
   "outputs": [
    {
     "name": "stdout",
     "output_type": "stream",
     "text": [
      "0.400926, 0.6294516290063882\n"
     ]
    }
   ],
   "source": [
    "print(f\"{X_train_scaled[:10, 1].mean():f}, {X_train_scaled[:10, 1].std()}\")"
   ]
  },
  {
   "cell_type": "code",
   "execution_count": 166,
   "id": "0824b427-c778-4867-a407-07c9cf94c01b",
   "metadata": {},
   "outputs": [
    {
     "name": "stdout",
     "output_type": "stream",
     "text": [
      "0.183415, 0.9128537157274579\n"
     ]
    }
   ],
   "source": [
    "print(f\"{X_train_scaled[:11, 1].mean():f}, {X_train_scaled[:11, 1].std()}\")"
   ]
  },
  {
   "cell_type": "code",
   "execution_count": 167,
   "id": "a954042c-6925-409b-bffb-306ab5dcd245",
   "metadata": {},
   "outputs": [
    {
     "data": {
      "text/plain": [
       "LinearRegression()"
      ]
     },
     "execution_count": 167,
     "metadata": {},
     "output_type": "execute_result"
    }
   ],
   "source": [
    "# FIT MODEL OR TRAIN MODEL\n",
    "model = LinearRegression()\n",
    "model.fit(X_train, y_train)"
   ]
  },
  {
   "cell_type": "code",
   "execution_count": 168,
   "id": "ed755c2e-572a-45b4-9c31-5f1612862ebc",
   "metadata": {},
   "outputs": [
    {
     "data": {
      "text/plain": [
       "0.8122343451664387"
      ]
     },
     "execution_count": 168,
     "metadata": {},
     "output_type": "execute_result"
    }
   ],
   "source": [
    "model.score(X_train, y_train)"
   ]
  },
  {
   "cell_type": "code",
   "execution_count": 169,
   "id": "02f4e2ba-2af1-4fa1-8953-114b4fda3502",
   "metadata": {},
   "outputs": [
    {
     "data": {
      "text/plain": [
       "(array([316.8525 , 107.32   ,   8.60215]),\n",
       " array([127.70074375,  38.2626    ,   0.37071688]))"
      ]
     },
     "execution_count": 169,
     "metadata": {},
     "output_type": "execute_result"
    }
   ],
   "source": [
    "ss.mean_, ss.var_"
   ]
  },
  {
   "cell_type": "code",
   "execution_count": 170,
   "id": "439f9b07-33b4-4bd1-b0d6-6a60b6ab0def",
   "metadata": {},
   "outputs": [
    {
     "data": {
      "text/plain": [
       "array([ 0.2530053 ,  0.31789215, 14.25427517])"
      ]
     },
     "execution_count": 170,
     "metadata": {},
     "output_type": "execute_result"
    }
   ],
   "source": [
    "model.coef_"
   ]
  },
  {
   "cell_type": "code",
   "execution_count": 171,
   "id": "dc1dba60-3cbd-4c90-a2c3-e1172be7ca08",
   "metadata": {},
   "outputs": [
    {
     "data": {
      "text/plain": [
       "array([ 0.2530053 ,  0.31789215, 14.25427517])"
      ]
     },
     "execution_count": 171,
     "metadata": {},
     "output_type": "execute_result"
    }
   ],
   "source": [
    "model.coef_"
   ]
  },
  {
   "cell_type": "code",
   "execution_count": 187,
   "id": "e2cac6dd-c74b-43ba-bbc6-11026fa9d42e",
   "metadata": {},
   "outputs": [],
   "source": [
    "# SCALE TESTDATA WITH SAME SCALE AS TRAIN DATA\n",
    "X_test_scaled = ss.transform(X_test)"
   ]
  },
  {
   "cell_type": "code",
   "execution_count": 188,
   "id": "f9d963bf-8469-4072-b76b-b8d5eb40fc09",
   "metadata": {},
   "outputs": [
    {
     "name": "stderr",
     "output_type": "stream",
     "text": [
      "C:\\Users\\nagal\\anaconda3\\lib\\site-packages\\sklearn\\base.py:450: UserWarning: X does not have valid feature names, but LinearRegression was fitted with feature names\n",
      "  warnings.warn(\n"
     ]
    }
   ],
   "source": [
    "y_pred = model.predict(X_test_scaled)"
   ]
  },
  {
   "cell_type": "code",
   "execution_count": 189,
   "id": "98845aaa-ce25-4b63-846e-69d88caec194",
   "metadata": {},
   "outputs": [
    {
     "name": "stdout",
     "output_type": "stream",
     "text": [
      "R2 Score: -322.47\n"
     ]
    }
   ],
   "source": [
    "score = r2_score(y_test,y_pred)\n",
    "print(f\"R2 Score: {score:0.2f}\")"
   ]
  },
  {
   "cell_type": "code",
   "execution_count": 190,
   "id": "f820b948-8947-46fd-8ad7-37fd2967c691",
   "metadata": {},
   "outputs": [
    {
     "name": "stdout",
     "output_type": "stream",
     "text": [
      "Mean Squared Error : 56493.15\n"
     ]
    }
   ],
   "source": [
    "mse = mean_squared_error(y_test,y_pred)\n",
    "print(f\"Mean Squared Error : {mse:0.2f}\")"
   ]
  },
  {
   "cell_type": "markdown",
   "id": "c8a54132-f755-4bf4-87c4-6174f33ea9ab",
   "metadata": {},
   "source": [
    "### SCALED VS NON SCALED DATA"
   ]
  },
  {
   "cell_type": "code",
   "execution_count": 191,
   "id": "779c2484-a6b0-464f-bd60-0264d4b5c5db",
   "metadata": {},
   "outputs": [],
   "source": [
    "scaled_df = pd.DataFrame(X_train_scaled)"
   ]
  },
  {
   "cell_type": "code",
   "execution_count": 192,
   "id": "f67134c7-9edf-4dcf-abc6-ee974cf98bbe",
   "metadata": {},
   "outputs": [
    {
     "data": {
      "text/html": [
       "<div>\n",
       "<style scoped>\n",
       "    .dataframe tbody tr th:only-of-type {\n",
       "        vertical-align: middle;\n",
       "    }\n",
       "\n",
       "    .dataframe tbody tr th {\n",
       "        vertical-align: top;\n",
       "    }\n",
       "\n",
       "    .dataframe thead th {\n",
       "        text-align: right;\n",
       "    }\n",
       "</style>\n",
       "<table border=\"1\" class=\"dataframe\">\n",
       "  <thead>\n",
       "    <tr style=\"text-align: right;\">\n",
       "      <th></th>\n",
       "      <th>0</th>\n",
       "      <th>1</th>\n",
       "      <th>2</th>\n",
       "    </tr>\n",
       "  </thead>\n",
       "  <tbody>\n",
       "    <tr>\n",
       "      <th>0</th>\n",
       "      <td>1.871381</td>\n",
       "      <td>1.564906</td>\n",
       "      <td>1.408932</td>\n",
       "    </tr>\n",
       "    <tr>\n",
       "      <th>1</th>\n",
       "      <td>0.190036</td>\n",
       "      <td>0.433259</td>\n",
       "      <td>0.308525</td>\n",
       "    </tr>\n",
       "    <tr>\n",
       "      <th>2</th>\n",
       "      <td>1.694398</td>\n",
       "      <td>0.756587</td>\n",
       "      <td>1.901652</td>\n",
       "    </tr>\n",
       "    <tr>\n",
       "      <th>3</th>\n",
       "      <td>-0.783374</td>\n",
       "      <td>-0.375060</td>\n",
       "      <td>-1.071091</td>\n",
       "    </tr>\n",
       "    <tr>\n",
       "      <th>4</th>\n",
       "      <td>0.367020</td>\n",
       "      <td>0.271595</td>\n",
       "      <td>-0.660491</td>\n",
       "    </tr>\n",
       "    <tr>\n",
       "      <th>...</th>\n",
       "      <td>...</td>\n",
       "      <td>...</td>\n",
       "      <td>...</td>\n",
       "    </tr>\n",
       "    <tr>\n",
       "      <th>395</th>\n",
       "      <td>-1.048850</td>\n",
       "      <td>-0.860051</td>\n",
       "      <td>-0.693339</td>\n",
       "    </tr>\n",
       "    <tr>\n",
       "      <th>396</th>\n",
       "      <td>0.455512</td>\n",
       "      <td>1.079914</td>\n",
       "      <td>0.554885</td>\n",
       "    </tr>\n",
       "    <tr>\n",
       "      <th>397</th>\n",
       "      <td>-2.376227</td>\n",
       "      <td>-0.536724</td>\n",
       "      <td>-1.875867</td>\n",
       "    </tr>\n",
       "    <tr>\n",
       "      <th>398</th>\n",
       "      <td>1.959873</td>\n",
       "      <td>1.888233</td>\n",
       "      <td>1.803108</td>\n",
       "    </tr>\n",
       "    <tr>\n",
       "      <th>399</th>\n",
       "      <td>0.455512</td>\n",
       "      <td>0.433259</td>\n",
       "      <td>0.866941</td>\n",
       "    </tr>\n",
       "  </tbody>\n",
       "</table>\n",
       "<p>400 rows × 3 columns</p>\n",
       "</div>"
      ],
      "text/plain": [
       "            0         1         2\n",
       "0    1.871381  1.564906  1.408932\n",
       "1    0.190036  0.433259  0.308525\n",
       "2    1.694398  0.756587  1.901652\n",
       "3   -0.783374 -0.375060 -1.071091\n",
       "4    0.367020  0.271595 -0.660491\n",
       "..        ...       ...       ...\n",
       "395 -1.048850 -0.860051 -0.693339\n",
       "396  0.455512  1.079914  0.554885\n",
       "397 -2.376227 -0.536724 -1.875867\n",
       "398  1.959873  1.888233  1.803108\n",
       "399  0.455512  0.433259  0.866941\n",
       "\n",
       "[400 rows x 3 columns]"
      ]
     },
     "execution_count": 192,
     "metadata": {},
     "output_type": "execute_result"
    }
   ],
   "source": [
    "scaled_df"
   ]
  },
  {
   "cell_type": "code",
   "execution_count": 194,
   "id": "11b769e9-0a45-4404-8c4f-e6572471440f",
   "metadata": {},
   "outputs": [
    {
     "data": {
      "text/html": [
       "<div>\n",
       "<style scoped>\n",
       "    .dataframe tbody tr th:only-of-type {\n",
       "        vertical-align: middle;\n",
       "    }\n",
       "\n",
       "    .dataframe tbody tr th {\n",
       "        vertical-align: top;\n",
       "    }\n",
       "\n",
       "    .dataframe thead th {\n",
       "        text-align: right;\n",
       "    }\n",
       "</style>\n",
       "<table border=\"1\" class=\"dataframe\">\n",
       "  <thead>\n",
       "    <tr style=\"text-align: right;\">\n",
       "      <th></th>\n",
       "      <th>0</th>\n",
       "      <th>1</th>\n",
       "      <th>2</th>\n",
       "    </tr>\n",
       "  </thead>\n",
       "  <tbody>\n",
       "    <tr>\n",
       "      <th>0</th>\n",
       "      <td>1.871381</td>\n",
       "      <td>1.564906</td>\n",
       "      <td>1.408932</td>\n",
       "    </tr>\n",
       "    <tr>\n",
       "      <th>1</th>\n",
       "      <td>0.190036</td>\n",
       "      <td>0.433259</td>\n",
       "      <td>0.308525</td>\n",
       "    </tr>\n",
       "    <tr>\n",
       "      <th>2</th>\n",
       "      <td>1.694398</td>\n",
       "      <td>0.756587</td>\n",
       "      <td>1.901652</td>\n",
       "    </tr>\n",
       "    <tr>\n",
       "      <th>3</th>\n",
       "      <td>-0.783374</td>\n",
       "      <td>-0.375060</td>\n",
       "      <td>-1.071091</td>\n",
       "    </tr>\n",
       "    <tr>\n",
       "      <th>4</th>\n",
       "      <td>0.367020</td>\n",
       "      <td>0.271595</td>\n",
       "      <td>-0.660491</td>\n",
       "    </tr>\n",
       "    <tr>\n",
       "      <th>5</th>\n",
       "      <td>-0.252423</td>\n",
       "      <td>-0.860051</td>\n",
       "      <td>-1.186059</td>\n",
       "    </tr>\n",
       "    <tr>\n",
       "      <th>6</th>\n",
       "      <td>0.278528</td>\n",
       "      <td>0.433259</td>\n",
       "      <td>-0.069227</td>\n",
       "    </tr>\n",
       "    <tr>\n",
       "      <th>7</th>\n",
       "      <td>0.720987</td>\n",
       "      <td>0.756587</td>\n",
       "      <td>0.932637</td>\n",
       "    </tr>\n",
       "    <tr>\n",
       "      <th>8</th>\n",
       "      <td>-1.048850</td>\n",
       "      <td>0.756587</td>\n",
       "      <td>0.078589</td>\n",
       "    </tr>\n",
       "    <tr>\n",
       "      <th>9</th>\n",
       "      <td>-0.429407</td>\n",
       "      <td>0.271595</td>\n",
       "      <td>0.144285</td>\n",
       "    </tr>\n",
       "  </tbody>\n",
       "</table>\n",
       "</div>"
      ],
      "text/plain": [
       "          0         1         2\n",
       "0  1.871381  1.564906  1.408932\n",
       "1  0.190036  0.433259  0.308525\n",
       "2  1.694398  0.756587  1.901652\n",
       "3 -0.783374 -0.375060 -1.071091\n",
       "4  0.367020  0.271595 -0.660491\n",
       "5 -0.252423 -0.860051 -1.186059\n",
       "6  0.278528  0.433259 -0.069227\n",
       "7  0.720987  0.756587  0.932637\n",
       "8 -1.048850  0.756587  0.078589\n",
       "9 -0.429407  0.271595  0.144285"
      ]
     },
     "execution_count": 194,
     "metadata": {},
     "output_type": "execute_result"
    }
   ],
   "source": [
    "scaled_df.head(10)"
   ]
  },
  {
   "cell_type": "code",
   "execution_count": 196,
   "id": "2382b67b-4829-4421-846b-62d7dfd40834",
   "metadata": {},
   "outputs": [
    {
     "data": {
      "text/html": [
       "<div>\n",
       "<style scoped>\n",
       "    .dataframe tbody tr th:only-of-type {\n",
       "        vertical-align: middle;\n",
       "    }\n",
       "\n",
       "    .dataframe tbody tr th {\n",
       "        vertical-align: top;\n",
       "    }\n",
       "\n",
       "    .dataframe thead th {\n",
       "        text-align: right;\n",
       "    }\n",
       "</style>\n",
       "<table border=\"1\" class=\"dataframe\">\n",
       "  <thead>\n",
       "    <tr style=\"text-align: right;\">\n",
       "      <th></th>\n",
       "      <th>Gre</th>\n",
       "      <th>Toefl</th>\n",
       "      <th>Cgpa</th>\n",
       "    </tr>\n",
       "  </thead>\n",
       "  <tbody>\n",
       "    <tr>\n",
       "      <th>107</th>\n",
       "      <td>338</td>\n",
       "      <td>117</td>\n",
       "      <td>9.46</td>\n",
       "    </tr>\n",
       "    <tr>\n",
       "      <th>336</th>\n",
       "      <td>319</td>\n",
       "      <td>110</td>\n",
       "      <td>8.79</td>\n",
       "    </tr>\n",
       "    <tr>\n",
       "      <th>71</th>\n",
       "      <td>336</td>\n",
       "      <td>112</td>\n",
       "      <td>9.76</td>\n",
       "    </tr>\n",
       "    <tr>\n",
       "      <th>474</th>\n",
       "      <td>308</td>\n",
       "      <td>105</td>\n",
       "      <td>7.95</td>\n",
       "    </tr>\n",
       "    <tr>\n",
       "      <th>6</th>\n",
       "      <td>321</td>\n",
       "      <td>109</td>\n",
       "      <td>8.20</td>\n",
       "    </tr>\n",
       "    <tr>\n",
       "      <th>412</th>\n",
       "      <td>314</td>\n",
       "      <td>102</td>\n",
       "      <td>7.88</td>\n",
       "    </tr>\n",
       "    <tr>\n",
       "      <th>113</th>\n",
       "      <td>320</td>\n",
       "      <td>110</td>\n",
       "      <td>8.56</td>\n",
       "    </tr>\n",
       "    <tr>\n",
       "      <th>236</th>\n",
       "      <td>325</td>\n",
       "      <td>112</td>\n",
       "      <td>9.17</td>\n",
       "    </tr>\n",
       "    <tr>\n",
       "      <th>299</th>\n",
       "      <td>305</td>\n",
       "      <td>112</td>\n",
       "      <td>8.65</td>\n",
       "    </tr>\n",
       "    <tr>\n",
       "      <th>155</th>\n",
       "      <td>312</td>\n",
       "      <td>109</td>\n",
       "      <td>8.69</td>\n",
       "    </tr>\n",
       "  </tbody>\n",
       "</table>\n",
       "</div>"
      ],
      "text/plain": [
       "     Gre  Toefl  Cgpa\n",
       "107  338    117  9.46\n",
       "336  319    110  8.79\n",
       "71   336    112  9.76\n",
       "474  308    105  7.95\n",
       "6    321    109  8.20\n",
       "412  314    102  7.88\n",
       "113  320    110  8.56\n",
       "236  325    112  9.17\n",
       "299  305    112  8.65\n",
       "155  312    109  8.69"
      ]
     },
     "execution_count": 196,
     "metadata": {},
     "output_type": "execute_result"
    }
   ],
   "source": [
    "X_train.head(10)"
   ]
  },
  {
   "cell_type": "markdown",
   "id": "6c9abe44-eaf2-4b75-a5bb-353edee4de38",
   "metadata": {},
   "source": [
    "### SCALE INPUT FEATURES"
   ]
  },
  {
   "cell_type": "code",
   "execution_count": 197,
   "id": "f24bfd7c-efb5-4740-a7d9-2f6f6b4c3d39",
   "metadata": {},
   "outputs": [
    {
     "name": "stderr",
     "output_type": "stream",
     "text": [
      "C:\\Users\\nagal\\anaconda3\\lib\\site-packages\\sklearn\\base.py:450: UserWarning: X does not have valid feature names, but StandardScaler was fitted with feature names\n",
      "  warnings.warn(\n",
      "C:\\Users\\nagal\\anaconda3\\lib\\site-packages\\sklearn\\base.py:450: UserWarning: X does not have valid feature names, but LinearRegression was fitted with feature names\n",
      "  warnings.warn(\n"
     ]
    }
   ],
   "source": [
    "# Scale input features using StandardScaler used to transform train data \n",
    "chances = model.predict(ss.transform([[320,110,8.5],[310,115,9.2]]))"
   ]
  },
  {
   "cell_type": "code",
   "execution_count": 198,
   "id": "599bb627-d906-4d6a-87d4-2346686a878d",
   "metadata": {},
   "outputs": [
    {
     "data": {
      "text/plain": [
       "array([-166.42721774, -150.00629785])"
      ]
     },
     "execution_count": 198,
     "metadata": {},
     "output_type": "execute_result"
    }
   ],
   "source": [
    "chances"
   ]
  },
  {
   "cell_type": "code",
   "execution_count": 199,
   "id": "8fd283d7-fdb3-4a07-b37f-067971bbb32c",
   "metadata": {},
   "outputs": [
    {
     "name": "stderr",
     "output_type": "stream",
     "text": [
      "C:\\Users\\nagal\\anaconda3\\lib\\site-packages\\sklearn\\base.py:450: UserWarning: X does not have valid feature names, but LinearRegression was fitted with feature names\n",
      "  warnings.warn(\n"
     ]
    }
   ],
   "source": [
    "chances = model.predict([[320, 110, 8.5]])"
   ]
  },
  {
   "cell_type": "code",
   "execution_count": 200,
   "id": "8445c383-c05f-4fc0-9317-648de8d9f23c",
   "metadata": {},
   "outputs": [
    {
     "data": {
      "text/plain": [
       "array([72.84721094])"
      ]
     },
     "execution_count": 200,
     "metadata": {},
     "output_type": "execute_result"
    }
   ],
   "source": [
    "chances"
   ]
  },
  {
   "cell_type": "code",
   "execution_count": 201,
   "id": "a5da3497-3f85-47b0-822c-a9fd5beb4349",
   "metadata": {},
   "outputs": [
    {
     "data": {
      "text/plain": [
       "array([72.84721094])"
      ]
     },
     "execution_count": 201,
     "metadata": {},
     "output_type": "execute_result"
    }
   ],
   "source": [
    "chances"
   ]
  },
  {
   "cell_type": "code",
   "execution_count": 203,
   "id": "24addde9-c7a0-4979-abc1-8e74962c3be2",
   "metadata": {},
   "outputs": [
    {
     "name": "stderr",
     "output_type": "stream",
     "text": [
      "C:\\Users\\nagal\\anaconda3\\lib\\site-packages\\sklearn\\base.py:450: UserWarning: X does not have valid feature names, but LinearRegression was fitted with feature names\n",
      "  warnings.warn(\n"
     ]
    }
   ],
   "source": [
    "chances = model.predict([[300, 110, 9.0], [320, 90, 9.5]])"
   ]
  },
  {
   "cell_type": "code",
   "execution_count": 204,
   "id": "3b5a6c1d-0a69-4f6c-ab3b-f3565e04d0c2",
   "metadata": {},
   "outputs": [
    {
     "data": {
      "text/plain": [
       "array([74.91424251, 80.74364311])"
      ]
     },
     "execution_count": 204,
     "metadata": {},
     "output_type": "execute_result"
    }
   ],
   "source": [
    "chances"
   ]
  },
  {
   "cell_type": "code",
   "execution_count": null,
   "id": "2e1c360f-56c7-4e27-b33a-ce82cf5e9d9e",
   "metadata": {},
   "outputs": [],
   "source": []
  }
 ],
 "metadata": {
  "kernelspec": {
   "display_name": "Python 3 (ipykernel)",
   "language": "python",
   "name": "python3"
  },
  "language_info": {
   "codemirror_mode": {
    "name": "ipython",
    "version": 3
   },
   "file_extension": ".py",
   "mimetype": "text/x-python",
   "name": "python",
   "nbconvert_exporter": "python",
   "pygments_lexer": "ipython3",
   "version": "3.9.12"
  }
 },
 "nbformat": 4,
 "nbformat_minor": 5
}
