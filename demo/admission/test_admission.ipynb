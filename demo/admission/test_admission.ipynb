{
 "cells": [
  {
   "cell_type": "markdown",
   "id": "9b7ffc9d-d977-4762-a99b-88bb41200bf1",
   "metadata": {},
   "source": [
    "### TEST MODEL ON USER INPUT"
   ]
  },
  {
   "cell_type": "code",
   "execution_count": 1,
   "id": "21a11b1f-6345-4f9a-a237-eb254be4b3d9",
   "metadata": {},
   "outputs": [],
   "source": [
    "import pandas as pd"
   ]
  },
  {
   "cell_type": "code",
   "execution_count": 2,
   "id": "df7dc692-458e-485b-a904-1feda959a082",
   "metadata": {},
   "outputs": [],
   "source": [
    "# UNPICKLE MODEL AND USE IT FOR PREDICTING CHANCES\n",
    "model = pd.read_pickle(\"lr_model.pickle\")"
   ]
  },
  {
   "cell_type": "code",
   "execution_count": 3,
   "id": "376f15d1-9601-49a4-925b-68be8de63312",
   "metadata": {},
   "outputs": [
    {
     "data": {
      "text/plain": [
       "array([ 0.2530053 ,  0.31789215, 14.25427517])"
      ]
     },
     "execution_count": 3,
     "metadata": {},
     "output_type": "execute_result"
    }
   ],
   "source": [
    "model.coef_"
   ]
  },
  {
   "cell_type": "code",
   "execution_count": 4,
   "id": "3577ad86-0d0c-4201-852c-4c39971c3613",
   "metadata": {},
   "outputs": [
    {
     "name": "stdout",
     "output_type": "stream",
     "text": [
      "Probability of getting admission is : 73.65%\n",
      "Probability of getting admission is : 92.49%\n"
     ]
    },
    {
     "name": "stderr",
     "output_type": "stream",
     "text": [
      "C:\\Users\\nagal\\anaconda3\\lib\\site-packages\\sklearn\\base.py:450: UserWarning: X does not have valid feature names, but LinearRegression was fitted with feature names\n",
      "  warnings.warn(\n"
     ]
    }
   ],
   "source": [
    "data = [[295, 110, 9], [335, 115, 9.5]]\n",
    "result = model.predict(data)\n",
    "for r in result:\n",
    "    print(f\"Probability of getting admission is : {r :.2f}%\")"
   ]
  },
  {
   "cell_type": "code",
   "execution_count": 5,
   "id": "61938ab5-be3e-4050-b3b5-2a18a39e5ce7",
   "metadata": {},
   "outputs": [
    {
     "name": "stdout",
     "output_type": "stream",
     "text": [
      "Probability of getting admission is : 81.24% \n",
      "Probability of getting admission is : 80.62% \n"
     ]
    },
    {
     "name": "stderr",
     "output_type": "stream",
     "text": [
      "C:\\Users\\nagal\\anaconda3\\lib\\site-packages\\sklearn\\base.py:450: UserWarning: X does not have valid feature names, but LinearRegression was fitted with feature names\n",
      "  warnings.warn(\n"
     ]
    }
   ],
   "source": [
    "data = [[325,110,9],[305,115,9.2]]\n",
    "result = model.predict(data)\n",
    "for r in result:\n",
    "    print(f\"Probability of getting admission is : {r:.2f}% \") "
   ]
  },
  {
   "cell_type": "code",
   "execution_count": 6,
   "id": "7aae5edb-93ef-4169-b4a9-9dc16e052087",
   "metadata": {},
   "outputs": [
    {
     "name": "stdin",
     "output_type": "stream",
     "text": [
      "Enter Gre :  300\n",
      "Enter Toefl :  115\n",
      "Enter Cgpa : 7.5\n"
     ]
    },
    {
     "name": "stdout",
     "output_type": "stream",
     "text": [
      "55.12229049949039\n"
     ]
    },
    {
     "name": "stderr",
     "output_type": "stream",
     "text": [
      "C:\\Users\\nagal\\anaconda3\\lib\\site-packages\\sklearn\\base.py:450: UserWarning: X does not have valid feature names, but LinearRegression was fitted with feature names\n",
      "  warnings.warn(\n"
     ]
    }
   ],
   "source": [
    "# TAKE INPUT FROM USER AND DISPLAY HIS CHANCES\n",
    "gre = int(input(\"Enter Gre : \"))\n",
    "tof = int(input(\"Enter Toefl : \"))\n",
    "cgpa = float(input(\"Enter Cgpa :\"))\n",
    "chance = model.predict([[gre, tof, cgpa]])\n",
    "print(chance[0])"
   ]
  },
  {
   "cell_type": "code",
   "execution_count": 8,
   "id": "efbb6292-6c6f-4066-8d52-997b227c40aa",
   "metadata": {},
   "outputs": [
    {
     "name": "stdin",
     "output_type": "stream",
     "text": [
      "Enter Gre :  295\n",
      "Enter Toefl :  115\n",
      "Enter Cgpa :  7\n"
     ]
    },
    {
     "name": "stdout",
     "output_type": "stream",
     "text": [
      "[46.73012641]\n"
     ]
    },
    {
     "name": "stderr",
     "output_type": "stream",
     "text": [
      "C:\\Users\\nagal\\anaconda3\\lib\\site-packages\\sklearn\\base.py:450: UserWarning: X does not have valid feature names, but LinearRegression was fitted with feature names\n",
      "  warnings.warn(\n"
     ]
    }
   ],
   "source": [
    "gre = int(input(\"Enter Gre : \"))\n",
    "tof = int(input(\"Enter Toefl : \"))\n",
    "cgpa = float(input(\"Enter Cgpa : \"))\n",
    "chance = model.predict([[gre, tof, cgpa]])\n",
    "print(chance)"
   ]
  },
  {
   "cell_type": "code",
   "execution_count": 9,
   "id": "7ae0d8c7-2d74-4b4f-9273-eaf79b3349c4",
   "metadata": {},
   "outputs": [
    {
     "name": "stdin",
     "output_type": "stream",
     "text": [
      "Enter Gre :  320\n",
      "Enter Toefl :  120\n",
      "Enter Cgpa :  9.8\n"
     ]
    },
    {
     "name": "stdout",
     "output_type": "stream",
     "text": [
      "[94.55669017]\n"
     ]
    },
    {
     "name": "stderr",
     "output_type": "stream",
     "text": [
      "C:\\Users\\nagal\\anaconda3\\lib\\site-packages\\sklearn\\base.py:450: UserWarning: X does not have valid feature names, but LinearRegression was fitted with feature names\n",
      "  warnings.warn(\n"
     ]
    }
   ],
   "source": [
    "gre = int(input(\"Enter Gre : \"))\n",
    "tof = int(input(\"Enter Toefl : \"))\n",
    "cgpa = float(input(\"Enter Cgpa : \"))\n",
    "chance = model.predict([[gre, tof, cgpa]])\n",
    "print(chance)"
   ]
  },
  {
   "cell_type": "code",
   "execution_count": null,
   "id": "171d3fe8-bd59-46d0-87e3-bb78dc5d588c",
   "metadata": {},
   "outputs": [],
   "source": []
  }
 ],
 "metadata": {
  "kernelspec": {
   "display_name": "Python 3 (ipykernel)",
   "language": "python",
   "name": "python3"
  },
  "language_info": {
   "codemirror_mode": {
    "name": "ipython",
    "version": 3
   },
   "file_extension": ".py",
   "mimetype": "text/x-python",
   "name": "python",
   "nbconvert_exporter": "python",
   "pygments_lexer": "ipython3",
   "version": "3.9.12"
  }
 },
 "nbformat": 4,
 "nbformat_minor": 5
}
