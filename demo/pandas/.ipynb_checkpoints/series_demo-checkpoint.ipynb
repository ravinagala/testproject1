{
 "cells": [
  {
   "cell_type": "code",
   "execution_count": 2,
   "id": "905011a0-a9c8-4e9a-9ecd-90cae4e7943e",
   "metadata": {},
   "outputs": [],
   "source": [
    "import pandas as pd\n",
    "import numpy as np"
   ]
  },
  {
   "cell_type": "code",
   "execution_count": 3,
   "id": "b71c257c-7a0e-4246-b56b-b53ec2fd9764",
   "metadata": {},
   "outputs": [],
   "source": [
    "s = pd.Series([10, 20, 30, 40, 50])"
   ]
  },
  {
   "cell_type": "code",
   "execution_count": 4,
   "id": "cff42a8a-77d8-4a33-b2d2-3a234d2bc84b",
   "metadata": {},
   "outputs": [
    {
     "data": {
      "text/plain": [
       "pandas.core.series.Series"
      ]
     },
     "execution_count": 4,
     "metadata": {},
     "output_type": "execute_result"
    }
   ],
   "source": [
    "type(s)"
   ]
  },
  {
   "cell_type": "code",
   "execution_count": 5,
   "id": "2b566d9f-75c5-4a13-bab7-a226bf12539c",
   "metadata": {},
   "outputs": [
    {
     "data": {
      "text/plain": [
       "0    10\n",
       "1    20\n",
       "2    30\n",
       "3    40\n",
       "4    50\n",
       "dtype: int64"
      ]
     },
     "execution_count": 5,
     "metadata": {},
     "output_type": "execute_result"
    }
   ],
   "source": [
    "s"
   ]
  },
  {
   "cell_type": "code",
   "execution_count": 6,
   "id": "517d4788-6d67-49d0-a241-2673d0c49dc4",
   "metadata": {},
   "outputs": [
    {
     "data": {
      "text/plain": [
       "10"
      ]
     },
     "execution_count": 6,
     "metadata": {},
     "output_type": "execute_result"
    }
   ],
   "source": [
    "s[0]"
   ]
  },
  {
   "cell_type": "code",
   "execution_count": 7,
   "id": "ae416b37-11c6-423a-87f6-cd6168d2c045",
   "metadata": {},
   "outputs": [
    {
     "data": {
      "text/plain": [
       "20"
      ]
     },
     "execution_count": 7,
     "metadata": {},
     "output_type": "execute_result"
    }
   ],
   "source": [
    "s[1]"
   ]
  },
  {
   "cell_type": "code",
   "execution_count": 8,
   "id": "6a898531-94f8-46a1-a35a-ffb3b1c381c5",
   "metadata": {},
   "outputs": [
    {
     "ename": "SyntaxError",
     "evalue": "invalid syntax (3807216856.py, line 1)",
     "output_type": "error",
     "traceback": [
      "\u001b[1;36m  Input \u001b[1;32mIn [8]\u001b[1;36m\u001b[0m\n\u001b[1;33m    pd.__ version__\u001b[0m\n\u001b[1;37m          ^\u001b[0m\n\u001b[1;31mSyntaxError\u001b[0m\u001b[1;31m:\u001b[0m invalid syntax\n"
     ]
    }
   ],
   "source": [
    "pd.__ version__"
   ]
  },
  {
   "cell_type": "code",
   "execution_count": 11,
   "id": "13b30f99-9675-4c94-9131-fda18f543231",
   "metadata": {},
   "outputs": [
    {
     "data": {
      "text/plain": [
       "mon    10\n",
       "tue    20\n",
       "wed    30\n",
       "mon    40\n",
       "fri    50\n",
       "dtype: int64"
      ]
     },
     "execution_count": 11,
     "metadata": {},
     "output_type": "execute_result"
    }
   ],
   "source": [
    "sales = pd.Series([10, 20, 30, 40, 50], index = [\"mon\", \"tue\", \"wed\", \"mon\", \"fri\"]) # CUSTOM INDEX\n",
    "sales"
   ]
  },
  {
   "cell_type": "code",
   "execution_count": 12,
   "id": "456592eb-4853-46e7-8253-f9282163faaf",
   "metadata": {},
   "outputs": [
    {
     "data": {
      "text/plain": [
       "mon    10\n",
       "mon    40\n",
       "dtype: int64"
      ]
     },
     "execution_count": 12,
     "metadata": {},
     "output_type": "execute_result"
    }
   ],
   "source": [
    "sales[\"mon\"]"
   ]
  },
  {
   "cell_type": "code",
   "execution_count": 13,
   "id": "d8b746a0-45f5-45d6-a169-52a77cb1c384",
   "metadata": {},
   "outputs": [
    {
     "data": {
      "text/plain": [
       "10"
      ]
     },
     "execution_count": 13,
     "metadata": {},
     "output_type": "execute_result"
    }
   ],
   "source": [
    "sales[0]"
   ]
  },
  {
   "cell_type": "code",
   "execution_count": 14,
   "id": "b3a22cae-070d-4e96-bc91-95dccbee34d0",
   "metadata": {},
   "outputs": [],
   "source": [
    "marks = pd.Series([60, 80, 56, 89, 66], index = [101, 102, 103, 104, 105])"
   ]
  },
  {
   "cell_type": "code",
   "execution_count": 15,
   "id": "c54a4fc2-38ab-4c09-bab4-1cf5f28bb592",
   "metadata": {},
   "outputs": [
    {
     "data": {
      "text/plain": [
       "101    60\n",
       "102    80\n",
       "103    56\n",
       "104    89\n",
       "105    66\n",
       "dtype: int64"
      ]
     },
     "execution_count": 15,
     "metadata": {},
     "output_type": "execute_result"
    }
   ],
   "source": [
    "marks"
   ]
  },
  {
   "cell_type": "code",
   "execution_count": 16,
   "id": "c1506099-1d50-4282-8cd3-2f0227b8bb62",
   "metadata": {},
   "outputs": [
    {
     "data": {
      "text/plain": [
       "60"
      ]
     },
     "execution_count": 16,
     "metadata": {},
     "output_type": "execute_result"
    }
   ],
   "source": [
    "marks[101]"
   ]
  },
  {
   "cell_type": "code",
   "execution_count": 17,
   "id": "b01b7fad-338b-43c4-9775-5d3c45a274b1",
   "metadata": {},
   "outputs": [
    {
     "ename": "KeyError",
     "evalue": "1",
     "output_type": "error",
     "traceback": [
      "\u001b[1;31m---------------------------------------------------------------------------\u001b[0m",
      "\u001b[1;31mKeyError\u001b[0m                                  Traceback (most recent call last)",
      "File \u001b[1;32m~\\anaconda3\\lib\\site-packages\\pandas\\core\\indexes\\base.py:3621\u001b[0m, in \u001b[0;36mIndex.get_loc\u001b[1;34m(self, key, method, tolerance)\u001b[0m\n\u001b[0;32m   3620\u001b[0m \u001b[38;5;28;01mtry\u001b[39;00m:\n\u001b[1;32m-> 3621\u001b[0m     \u001b[38;5;28;01mreturn\u001b[39;00m \u001b[38;5;28;43mself\u001b[39;49m\u001b[38;5;241;43m.\u001b[39;49m\u001b[43m_engine\u001b[49m\u001b[38;5;241;43m.\u001b[39;49m\u001b[43mget_loc\u001b[49m\u001b[43m(\u001b[49m\u001b[43mcasted_key\u001b[49m\u001b[43m)\u001b[49m\n\u001b[0;32m   3622\u001b[0m \u001b[38;5;28;01mexcept\u001b[39;00m \u001b[38;5;167;01mKeyError\u001b[39;00m \u001b[38;5;28;01mas\u001b[39;00m err:\n",
      "File \u001b[1;32m~\\anaconda3\\lib\\site-packages\\pandas\\_libs\\index.pyx:136\u001b[0m, in \u001b[0;36mpandas._libs.index.IndexEngine.get_loc\u001b[1;34m()\u001b[0m\n",
      "File \u001b[1;32m~\\anaconda3\\lib\\site-packages\\pandas\\_libs\\index.pyx:163\u001b[0m, in \u001b[0;36mpandas._libs.index.IndexEngine.get_loc\u001b[1;34m()\u001b[0m\n",
      "File \u001b[1;32mpandas\\_libs\\hashtable_class_helper.pxi:2131\u001b[0m, in \u001b[0;36mpandas._libs.hashtable.Int64HashTable.get_item\u001b[1;34m()\u001b[0m\n",
      "File \u001b[1;32mpandas\\_libs\\hashtable_class_helper.pxi:2140\u001b[0m, in \u001b[0;36mpandas._libs.hashtable.Int64HashTable.get_item\u001b[1;34m()\u001b[0m\n",
      "\u001b[1;31mKeyError\u001b[0m: 1",
      "\nThe above exception was the direct cause of the following exception:\n",
      "\u001b[1;31mKeyError\u001b[0m                                  Traceback (most recent call last)",
      "Input \u001b[1;32mIn [17]\u001b[0m, in \u001b[0;36m<cell line: 1>\u001b[1;34m()\u001b[0m\n\u001b[1;32m----> 1\u001b[0m \u001b[43mmarks\u001b[49m\u001b[43m[\u001b[49m\u001b[38;5;241;43m1\u001b[39;49m\u001b[43m]\u001b[49m\n",
      "File \u001b[1;32m~\\anaconda3\\lib\\site-packages\\pandas\\core\\series.py:958\u001b[0m, in \u001b[0;36mSeries.__getitem__\u001b[1;34m(self, key)\u001b[0m\n\u001b[0;32m    955\u001b[0m     \u001b[38;5;28;01mreturn\u001b[39;00m \u001b[38;5;28mself\u001b[39m\u001b[38;5;241m.\u001b[39m_values[key]\n\u001b[0;32m    957\u001b[0m \u001b[38;5;28;01melif\u001b[39;00m key_is_scalar:\n\u001b[1;32m--> 958\u001b[0m     \u001b[38;5;28;01mreturn\u001b[39;00m \u001b[38;5;28;43mself\u001b[39;49m\u001b[38;5;241;43m.\u001b[39;49m\u001b[43m_get_value\u001b[49m\u001b[43m(\u001b[49m\u001b[43mkey\u001b[49m\u001b[43m)\u001b[49m\n\u001b[0;32m    960\u001b[0m \u001b[38;5;28;01mif\u001b[39;00m is_hashable(key):\n\u001b[0;32m    961\u001b[0m     \u001b[38;5;66;03m# Otherwise index.get_value will raise InvalidIndexError\u001b[39;00m\n\u001b[0;32m    962\u001b[0m     \u001b[38;5;28;01mtry\u001b[39;00m:\n\u001b[0;32m    963\u001b[0m         \u001b[38;5;66;03m# For labels that don't resolve as scalars like tuples and frozensets\u001b[39;00m\n",
      "File \u001b[1;32m~\\anaconda3\\lib\\site-packages\\pandas\\core\\series.py:1069\u001b[0m, in \u001b[0;36mSeries._get_value\u001b[1;34m(self, label, takeable)\u001b[0m\n\u001b[0;32m   1066\u001b[0m     \u001b[38;5;28;01mreturn\u001b[39;00m \u001b[38;5;28mself\u001b[39m\u001b[38;5;241m.\u001b[39m_values[label]\n\u001b[0;32m   1068\u001b[0m \u001b[38;5;66;03m# Similar to Index.get_value, but we do not fall back to positional\u001b[39;00m\n\u001b[1;32m-> 1069\u001b[0m loc \u001b[38;5;241m=\u001b[39m \u001b[38;5;28;43mself\u001b[39;49m\u001b[38;5;241;43m.\u001b[39;49m\u001b[43mindex\u001b[49m\u001b[38;5;241;43m.\u001b[39;49m\u001b[43mget_loc\u001b[49m\u001b[43m(\u001b[49m\u001b[43mlabel\u001b[49m\u001b[43m)\u001b[49m\n\u001b[0;32m   1070\u001b[0m \u001b[38;5;28;01mreturn\u001b[39;00m \u001b[38;5;28mself\u001b[39m\u001b[38;5;241m.\u001b[39mindex\u001b[38;5;241m.\u001b[39m_get_values_for_loc(\u001b[38;5;28mself\u001b[39m, loc, label)\n",
      "File \u001b[1;32m~\\anaconda3\\lib\\site-packages\\pandas\\core\\indexes\\base.py:3623\u001b[0m, in \u001b[0;36mIndex.get_loc\u001b[1;34m(self, key, method, tolerance)\u001b[0m\n\u001b[0;32m   3621\u001b[0m     \u001b[38;5;28;01mreturn\u001b[39;00m \u001b[38;5;28mself\u001b[39m\u001b[38;5;241m.\u001b[39m_engine\u001b[38;5;241m.\u001b[39mget_loc(casted_key)\n\u001b[0;32m   3622\u001b[0m \u001b[38;5;28;01mexcept\u001b[39;00m \u001b[38;5;167;01mKeyError\u001b[39;00m \u001b[38;5;28;01mas\u001b[39;00m err:\n\u001b[1;32m-> 3623\u001b[0m     \u001b[38;5;28;01mraise\u001b[39;00m \u001b[38;5;167;01mKeyError\u001b[39;00m(key) \u001b[38;5;28;01mfrom\u001b[39;00m \u001b[38;5;21;01merr\u001b[39;00m\n\u001b[0;32m   3624\u001b[0m \u001b[38;5;28;01mexcept\u001b[39;00m \u001b[38;5;167;01mTypeError\u001b[39;00m:\n\u001b[0;32m   3625\u001b[0m     \u001b[38;5;66;03m# If we have a listlike key, _check_indexing_error will raise\u001b[39;00m\n\u001b[0;32m   3626\u001b[0m     \u001b[38;5;66;03m#  InvalidIndexError. Otherwise we fall through and re-raise\u001b[39;00m\n\u001b[0;32m   3627\u001b[0m     \u001b[38;5;66;03m#  the TypeError.\u001b[39;00m\n\u001b[0;32m   3628\u001b[0m     \u001b[38;5;28mself\u001b[39m\u001b[38;5;241m.\u001b[39m_check_indexing_error(key)\n",
      "\u001b[1;31mKeyError\u001b[0m: 1"
     ]
    }
   ],
   "source": [
    "marks[1] # A DEFAULT VALUE CANNOT BE THERE INTEGERS"
   ]
  },
  {
   "cell_type": "code",
   "execution_count": 18,
   "id": "7f98ca1a-d9e3-49ae-85a8-150f1c6e1a39",
   "metadata": {},
   "outputs": [
    {
     "data": {
      "text/plain": [
       "11    44\n",
       "12    80\n",
       "13    77\n",
       "14    42\n",
       "15    31\n",
       "16    45\n",
       "17    59\n",
       "18    89\n",
       "19    42\n",
       "20    22\n",
       "dtype: int32"
      ]
     },
     "execution_count": 18,
     "metadata": {},
     "output_type": "execute_result"
    }
   ],
   "source": [
    "nums = pd.Series(np.random.randint(1, 100, 10), index = np.arange(11, 21))\n",
    "nums"
   ]
  },
  {
   "cell_type": "markdown",
   "id": "54bdcd8b-fb1f-4788-9053-0b4159fdeaa0",
   "metadata": {},
   "source": [
    "# IMPORTANT ATTRIBUTES OF SERIES"
   ]
  },
  {
   "cell_type": "code",
   "execution_count": 21,
   "id": "12bd91d3-dd77-41ba-827f-a47c8032268c",
   "metadata": {},
   "outputs": [
    {
     "data": {
      "text/plain": [
       "False"
      ]
     },
     "execution_count": 21,
     "metadata": {},
     "output_type": "execute_result"
    }
   ],
   "source": [
    "nums.is_unique"
   ]
  },
  {
   "cell_type": "code",
   "execution_count": 22,
   "id": "7a3b136a-40b5-4ae3-84eb-fcfcfb3401f1",
   "metadata": {},
   "outputs": [
    {
     "data": {
      "text/plain": [
       "[Int64Index([11, 12, 13, 14, 15, 16, 17, 18, 19, 20], dtype='int64')]"
      ]
     },
     "execution_count": 22,
     "metadata": {},
     "output_type": "execute_result"
    }
   ],
   "source": [
    "nums.axes  # ROW LABEL"
   ]
  },
  {
   "cell_type": "code",
   "execution_count": 23,
   "id": "aba961ab-737b-487a-afd7-98b63f35042f",
   "metadata": {},
   "outputs": [
    {
     "name": "stdout",
     "output_type": "stream",
     "text": [
      "Int64Index([11, 12, 13, 14, 15, 16, 17, 18, 19, 20], dtype='int64')\n",
      "<class 'pandas.core.indexes.numeric.Int64Index'>\n"
     ]
    }
   ],
   "source": [
    "print(nums.index)\n",
    "print(type(nums.index))"
   ]
  },
  {
   "cell_type": "code",
   "execution_count": 24,
   "id": "ac155a97-8e10-4324-9d64-d618de172256",
   "metadata": {},
   "outputs": [
    {
     "name": "stdout",
     "output_type": "stream",
     "text": [
      "[44 80 77 42 31 45 59 89 42 22] <class 'numpy.ndarray'>\n"
     ]
    }
   ],
   "source": [
    "# PRINTS VALUES \n",
    "print(nums.values, type(nums.values))"
   ]
  },
  {
   "cell_type": "markdown",
   "id": "6576106c-76ca-471d-9a31-c34bf9787032",
   "metadata": {},
   "source": [
    "# loc and iloc properties"
   ]
  },
  {
   "cell_type": "code",
   "execution_count": 26,
   "id": "894ebfb0-44d7-461a-b4fc-76463c733c30",
   "metadata": {},
   "outputs": [
    {
     "data": {
      "text/plain": [
       "(44, 44)"
      ]
     },
     "execution_count": 26,
     "metadata": {},
     "output_type": "execute_result"
    }
   ],
   "source": [
    "nums[11], nums.loc[11] # BY INDEX"
   ]
  },
  {
   "cell_type": "code",
   "execution_count": 27,
   "id": "4527c1f1-8a47-4b98-b784-ab3478e85201",
   "metadata": {},
   "outputs": [
    {
     "data": {
      "text/plain": [
       "44"
      ]
     },
     "execution_count": 27,
     "metadata": {},
     "output_type": "execute_result"
    }
   ],
   "source": [
    "nums.iloc[0] # BY POSITION"
   ]
  },
  {
   "cell_type": "code",
   "execution_count": 28,
   "id": "c028bbdd-90bc-498b-8a4f-3d473d00a0e7",
   "metadata": {},
   "outputs": [
    {
     "data": {
      "text/plain": [
       "11    44\n",
       "12    80\n",
       "13    77\n",
       "14    42\n",
       "15    31\n",
       "dtype: int32"
      ]
     },
     "execution_count": 28,
     "metadata": {},
     "output_type": "execute_result"
    }
   ],
   "source": [
    "# FOR LOC END RANGE IS INCLUSIVE\n",
    "nums.loc[11:15]"
   ]
  },
  {
   "cell_type": "code",
   "execution_count": 29,
   "id": "96cb072c-683d-40f6-b768-b273dca53320",
   "metadata": {},
   "outputs": [
    {
     "data": {
      "text/plain": [
       "11    44\n",
       "12    80\n",
       "13    77\n",
       "14    42\n",
       "15    31\n",
       "dtype: int32"
      ]
     },
     "execution_count": 29,
     "metadata": {},
     "output_type": "execute_result"
    }
   ],
   "source": [
    "nums.iloc[0:5]  # FOR ILOC END RANGE IS EXCLUSIVE"
   ]
  },
  {
   "cell_type": "markdown",
   "id": "c9c51f1c-17c1-4e35-af35-af5f1a6f69ce",
   "metadata": {},
   "source": [
    "# FANCY INDEXING(BOOLEAN INDEXING)"
   ]
  },
  {
   "cell_type": "code",
   "execution_count": 30,
   "id": "435de212-81fe-4299-993e-c0685fc9e5e0",
   "metadata": {},
   "outputs": [
    {
     "data": {
      "text/plain": [
       "11    False\n",
       "12     True\n",
       "13     True\n",
       "14    False\n",
       "15    False\n",
       "16    False\n",
       "17     True\n",
       "18     True\n",
       "19    False\n",
       "20    False\n",
       "dtype: bool"
      ]
     },
     "execution_count": 30,
     "metadata": {},
     "output_type": "execute_result"
    }
   ],
   "source": [
    "nums > 50"
   ]
  },
  {
   "cell_type": "code",
   "execution_count": 31,
   "id": "6650d181-1b78-4350-aee8-05d93635ce3b",
   "metadata": {},
   "outputs": [
    {
     "data": {
      "text/plain": [
       "12    80\n",
       "13    77\n",
       "17    59\n",
       "18    89\n",
       "dtype: int32"
      ]
     },
     "execution_count": 31,
     "metadata": {},
     "output_type": "execute_result"
    }
   ],
   "source": [
    "nums[nums > 50]"
   ]
  },
  {
   "cell_type": "code",
   "execution_count": 32,
   "id": "322b4b48-f93d-4ae9-921d-c51afc3571bd",
   "metadata": {},
   "outputs": [
    {
     "data": {
      "text/plain": [
       "11    44\n",
       "15    31\n",
       "20    22\n",
       "dtype: int32"
      ]
     },
     "execution_count": 32,
     "metadata": {},
     "output_type": "execute_result"
    }
   ],
   "source": [
    "nums.loc[[11, 15, 20]]"
   ]
  },
  {
   "cell_type": "code",
   "execution_count": 33,
   "id": "6d0d31e5-f813-422f-95b9-5337cc9540ae",
   "metadata": {},
   "outputs": [
    {
     "data": {
      "text/plain": [
       "11    44\n",
       "15    31\n",
       "17    59\n",
       "dtype: int32"
      ]
     },
     "execution_count": 33,
     "metadata": {},
     "output_type": "execute_result"
    }
   ],
   "source": [
    "nums.iloc[[0, 4, 6]]"
   ]
  },
  {
   "cell_type": "markdown",
   "id": "78a2a468-5825-49ab-a305-fb77310ff109",
   "metadata": {},
   "source": [
    "# METHODS OF SERIES"
   ]
  },
  {
   "cell_type": "code",
   "execution_count": 34,
   "id": "87008dc6-9e1d-470a-a0f2-d55a07fa8f12",
   "metadata": {},
   "outputs": [
    {
     "data": {
      "text/plain": [
       "count    10.000000\n",
       "mean     53.100000\n",
       "std      22.283277\n",
       "min      22.000000\n",
       "25%      42.000000\n",
       "50%      44.500000\n",
       "75%      72.500000\n",
       "max      89.000000\n",
       "dtype: float64"
      ]
     },
     "execution_count": 34,
     "metadata": {},
     "output_type": "execute_result"
    }
   ],
   "source": [
    "nums.describe()"
   ]
  },
  {
   "cell_type": "code",
   "execution_count": 35,
   "id": "7fd06adb-8def-4957-bd23-b108bed350d7",
   "metadata": {},
   "outputs": [
    {
     "name": "stdout",
     "output_type": "stream",
     "text": [
      "<class 'pandas.core.series.Series'>\n"
     ]
    }
   ],
   "source": [
    "summary = nums.describe()\n",
    "print(type(summary))"
   ]
  },
  {
   "cell_type": "code",
   "execution_count": 37,
   "id": "7b4f10d8-03b8-4087-b733-3c897444748e",
   "metadata": {},
   "outputs": [
    {
     "data": {
      "text/plain": [
       "(53.1, 44.5)"
      ]
     },
     "execution_count": 37,
     "metadata": {},
     "output_type": "execute_result"
    }
   ],
   "source": [
    "summary[\"mean\"], summary[\"50%\"]"
   ]
  },
  {
   "cell_type": "code",
   "execution_count": 40,
   "id": "02b5b47b-4e69-4131-85eb-e7bae14d77ad",
   "metadata": {},
   "outputs": [
    {
     "data": {
      "text/plain": [
       "30.5"
      ]
     },
     "execution_count": 40,
     "metadata": {},
     "output_type": "execute_result"
    }
   ],
   "source": [
    "summary[\"75%\"] - summary[\"25%\"] # IQR"
   ]
  },
  {
   "cell_type": "code",
   "execution_count": 41,
   "id": "a8acb4fd-8f87-4796-8aa5-4202d7a79f5d",
   "metadata": {},
   "outputs": [
    {
     "data": {
      "text/plain": [
       "True"
      ]
     },
     "execution_count": 41,
     "metadata": {},
     "output_type": "execute_result"
    }
   ],
   "source": [
    "nums.index.is_unique"
   ]
  },
  {
   "cell_type": "code",
   "execution_count": 43,
   "id": "99932212-3466-41bb-8d55-71e15b0b1739",
   "metadata": {},
   "outputs": [
    {
     "data": {
      "text/plain": [
       "<AxesSubplot:>"
      ]
     },
     "execution_count": 43,
     "metadata": {},
     "output_type": "execute_result"
    },
    {
     "data": {
      "image/png": "[encoded data removed]",
      "text/plain": [
       "<Figure size 432x288 with 1 Axes>"
      ]
     },
     "metadata": {
      "needs_background": "light"
     },
     "output_type": "display_data"
    }
   ],
   "source": [
    "nums.hist(bins = 4)"
   ]
  },
  {
   "cell_type": "code",
   "execution_count": 44,
   "id": "031012b9-62a2-44f3-9ef2-f7061a263c79",
   "metadata": {},
   "outputs": [
    {
     "data": {
      "text/plain": [
       "<AxesSubplot:ylabel='Density'>"
      ]
     },
     "execution_count": 44,
     "metadata": {},
     "output_type": "execute_result"
    },
    {
     "data": {
      "image/png": "[encoded data removed]",
      "text/plain": [
       "<Figure size 432x288 with 1 Axes>"
      ]
     },
     "metadata": {
      "needs_background": "light"
     },
     "output_type": "display_data"
    }
   ],
   "source": [
    "nums.plot(kind = \"kde\")"
   ]
  },
  {
   "cell_type": "markdown",
   "id": "aa8cc526-3436-439a-925f-da80a3fce6aa",
   "metadata": {},
   "source": [
    "### ITERATION"
   ]
  },
  {
   "cell_type": "code",
   "execution_count": 45,
   "id": "87c922fc-fd72-4dd5-ad39-685e91cb82aa",
   "metadata": {},
   "outputs": [
    {
     "name": "stdout",
     "output_type": "stream",
     "text": [
      "11 - 44 \n",
      "12 - 80 \n",
      "13 - 77 \n",
      "14 - 42 \n",
      "15 - 31 \n",
      "16 - 45 \n",
      "17 - 59 \n",
      "18 - 89 \n",
      "19 - 42 \n",
      "20 - 22 \n"
     ]
    }
   ],
   "source": [
    "for i, n in nums.items(): # UNPACKING OF INDEXES AND VALUES\n",
    "    print(f\"{i} - {n} \")"
   ]
  },
  {
   "cell_type": "code",
   "execution_count": 46,
   "id": "77762d56-865a-42a1-9080-593cb32f27d2",
   "metadata": {},
   "outputs": [
    {
     "name": "stdout",
     "output_type": "stream",
     "text": [
      "44\n",
      "80\n",
      "77\n",
      "42\n",
      "31\n",
      "45\n",
      "59\n",
      "89\n",
      "42\n",
      "22\n"
     ]
    }
   ],
   "source": [
    "for n in nums: # ITERATE VALUES\n",
    "    print(n)"
   ]
  },
  {
   "cell_type": "markdown",
   "id": "ac7b0619-fefd-451c-912a-a3c5b4971f03",
   "metadata": {},
   "source": [
    "# RANKING"
   ]
  },
  {
   "cell_type": "code",
   "execution_count": 48,
   "id": "edcfca3d-073b-41ef-aece-201990b11b18",
   "metadata": {},
   "outputs": [
    {
     "data": {
      "text/plain": [
       "0    1.5\n",
       "1    3.0\n",
       "2    5.0\n",
       "3    1.5\n",
       "4    6.0\n",
       "5    4.0\n",
       "Name: Python, dtype: float64"
      ]
     },
     "execution_count": 48,
     "metadata": {},
     "output_type": "execute_result"
    }
   ],
   "source": [
    "marks = pd.Series([ 60, 70, 80, 60, 85, 75], name = \"Python\")\n",
    "marks.rank()"
   ]
  },
  {
   "cell_type": "code",
   "execution_count": 49,
   "id": "7acab3cf-57f6-4d84-87f4-3457127ccbb9",
   "metadata": {},
   "outputs": [
    {
     "data": {
      "text/plain": [
       "0    5.5\n",
       "1    4.0\n",
       "2    2.0\n",
       "3    5.5\n",
       "4    1.0\n",
       "5    3.0\n",
       "Name: Python, dtype: float64"
      ]
     },
     "execution_count": 49,
     "metadata": {},
     "output_type": "execute_result"
    }
   ],
   "source": [
    "marks.rank(ascending = False)"
   ]
  },
  {
   "cell_type": "code",
   "execution_count": 50,
   "id": "cfc31680-5cfc-48e2-ac0a-28feb53af10a",
   "metadata": {},
   "outputs": [
    {
     "data": {
      "text/plain": [
       "0    1.0\n",
       "1    3.0\n",
       "2    5.0\n",
       "3    1.0\n",
       "4    6.0\n",
       "5    4.0\n",
       "Name: Python, dtype: float64"
      ]
     },
     "execution_count": 50,
     "metadata": {},
     "output_type": "execute_result"
    }
   ],
   "source": [
    "marks.rank(method = \"min\")"
   ]
  },
  {
   "cell_type": "code",
   "execution_count": 51,
   "id": "5c626710-50d5-4e55-9d74-612e831b6515",
   "metadata": {},
   "outputs": [
    {
     "data": {
      "text/plain": [
       "0    1.0\n",
       "1    2.0\n",
       "2    4.0\n",
       "3    1.0\n",
       "4    5.0\n",
       "5    3.0\n",
       "Name: Python, dtype: float64"
      ]
     },
     "execution_count": 51,
     "metadata": {},
     "output_type": "execute_result"
    }
   ],
   "source": [
    "marks.rank(method = \"dense\")"
   ]
  },
  {
   "cell_type": "code",
   "execution_count": 52,
   "id": "4452b663-ee29-44e5-aa24-4c16f917cf4c",
   "metadata": {},
   "outputs": [
    {
     "data": {
      "text/plain": [
       "0    5.0\n",
       "1    4.0\n",
       "2    2.0\n",
       "3    5.0\n",
       "4    1.0\n",
       "5    3.0\n",
       "Name: Python, dtype: float64"
      ]
     },
     "execution_count": 52,
     "metadata": {},
     "output_type": "execute_result"
    }
   ],
   "source": [
    "marks.rank(method = \"dense\", ascending = False)"
   ]
  },
  {
   "cell_type": "code",
   "execution_count": 53,
   "id": "ea8b6983-5dfd-4c0f-8938-a0a1efaaf676",
   "metadata": {},
   "outputs": [
    {
     "data": {
      "text/plain": [
       "0    1.0\n",
       "1    3.0\n",
       "2    5.0\n",
       "3    2.0\n",
       "4    6.0\n",
       "5    4.0\n",
       "Name: Python, dtype: float64"
      ]
     },
     "execution_count": 53,
     "metadata": {},
     "output_type": "execute_result"
    }
   ],
   "source": [
    "marks.rank(method = \"first\")"
   ]
  },
  {
   "cell_type": "markdown",
   "id": "93e624e2-8ff4-453b-b5f1-9cca87518a2a",
   "metadata": {},
   "source": [
    "### SELECTING ROWS"
   ]
  },
  {
   "cell_type": "code",
   "execution_count": 54,
   "id": "b167290a-de55-4ab6-b5a5-5cfbb6cc4d30",
   "metadata": {},
   "outputs": [
    {
     "data": {
      "text/plain": [
       "0    60\n",
       "1    70\n",
       "2    80\n",
       "3    60\n",
       "4    85\n",
       "Name: Python, dtype: int64"
      ]
     },
     "execution_count": 54,
     "metadata": {},
     "output_type": "execute_result"
    }
   ],
   "source": [
    "marks.head()  # FIRST 5"
   ]
  },
  {
   "cell_type": "code",
   "execution_count": 55,
   "id": "701697e6-af06-4683-985a-4a1dd1e34577",
   "metadata": {},
   "outputs": [
    {
     "data": {
      "text/plain": [
       "1    70\n",
       "2    80\n",
       "3    60\n",
       "4    85\n",
       "5    75\n",
       "Name: Python, dtype: int64"
      ]
     },
     "execution_count": 55,
     "metadata": {},
     "output_type": "execute_result"
    }
   ],
   "source": [
    "marks.tail() # LAST 5"
   ]
  },
  {
   "cell_type": "code",
   "execution_count": 56,
   "id": "06d8bcc8-0677-4261-80c4-9963cfe7a7da",
   "metadata": {},
   "outputs": [
    {
     "data": {
      "text/plain": [
       "3    60\n",
       "4    85\n",
       "5    75\n",
       "Name: Python, dtype: int64"
      ]
     },
     "execution_count": 56,
     "metadata": {},
     "output_type": "execute_result"
    }
   ],
   "source": [
    "marks.tail(3)"
   ]
  },
  {
   "cell_type": "code",
   "execution_count": 59,
   "id": "ed150888-f2ec-46d8-aef2-6cc92bb1e5d9",
   "metadata": {},
   "outputs": [
    {
     "data": {
      "text/plain": [
       "4    85\n",
       "0    60\n",
       "1    70\n",
       "Name: Python, dtype: int64"
      ]
     },
     "execution_count": 59,
     "metadata": {},
     "output_type": "execute_result"
    }
   ],
   "source": [
    "marks.sample(3)"
   ]
  },
  {
   "cell_type": "code",
   "execution_count": 61,
   "id": "177aebe8-0ad9-4c4b-9466-9166e41f043c",
   "metadata": {},
   "outputs": [
    {
     "data": {
      "text/plain": [
       "1    70\n",
       "2    80\n",
       "5    75\n",
       "Name: Python, dtype: int64"
      ]
     },
     "execution_count": 61,
     "metadata": {},
     "output_type": "execute_result"
    }
   ],
   "source": [
    "marks.sample(frac = 0.5)  # 50% OF DATA"
   ]
  },
  {
   "cell_type": "code",
   "execution_count": 62,
   "id": "6683d458-3007-4b02-aff3-468eff38c251",
   "metadata": {},
   "outputs": [],
   "source": [
    "sales = pd.Series([100, 120, 150, 100, 80, 200], index = [1, 2, 3, 4, 5, 6])"
   ]
  },
  {
   "cell_type": "code",
   "execution_count": 63,
   "id": "73e55a20-7d95-4560-bfe3-b28de30592fe",
   "metadata": {},
   "outputs": [
    {
     "data": {
      "text/plain": [
       "1    100\n",
       "2    120\n",
       "3    150\n",
       "4    100\n",
       "5     80\n",
       "6    200\n",
       "dtype: int64"
      ]
     },
     "execution_count": 63,
     "metadata": {},
     "output_type": "execute_result"
    }
   ],
   "source": [
    "sales"
   ]
  },
  {
   "cell_type": "code",
   "execution_count": 67,
   "id": "d873c0cb-bd0c-440b-abc1-294d72923a56",
   "metadata": {},
   "outputs": [
    {
     "data": {
      "text/plain": [
       "0    NaN\n",
       "1    1.0\n",
       "2    0.5\n",
       "3   -0.5\n",
       "4    1.0\n",
       "dtype: float64"
      ]
     },
     "execution_count": 67,
     "metadata": {},
     "output_type": "execute_result"
    }
   ],
   "source": [
    "pd.Series([10, 20, 30, 15, 30]).pct_change()"
   ]
  },
  {
   "cell_type": "code",
   "execution_count": 68,
   "id": "913b0f0c-b4c0-454e-be00-c3247d404fca",
   "metadata": {},
   "outputs": [
    {
     "data": {
      "text/plain": [
       "5     80\n",
       "1    100\n",
       "4    100\n",
       "2    120\n",
       "3    150\n",
       "6    200\n",
       "dtype: int64"
      ]
     },
     "execution_count": 68,
     "metadata": {},
     "output_type": "execute_result"
    }
   ],
   "source": [
    "sales.sort_values()"
   ]
  },
  {
   "cell_type": "code",
   "execution_count": 69,
   "id": "cbea87c9-d1ba-48b5-aac3-7de3b360cfbc",
   "metadata": {},
   "outputs": [
    {
     "data": {
      "text/plain": [
       "1    100\n",
       "2    120\n",
       "3    150\n",
       "4    100\n",
       "5     80\n",
       "6    200\n",
       "dtype: int64"
      ]
     },
     "execution_count": 69,
     "metadata": {},
     "output_type": "execute_result"
    }
   ],
   "source": [
    "sales"
   ]
  },
  {
   "cell_type": "code",
   "execution_count": 70,
   "id": "baf8a452-2510-42a9-9fa9-dd466d5f4e51",
   "metadata": {},
   "outputs": [
    {
     "data": {
      "text/plain": [
       "6    200\n",
       "3    150\n",
       "2    120\n",
       "1    100\n",
       "4    100\n",
       "5     80\n",
       "dtype: int64"
      ]
     },
     "execution_count": 70,
     "metadata": {},
     "output_type": "execute_result"
    }
   ],
   "source": [
    "sales.sort_values(ascending = False)"
   ]
  },
  {
   "cell_type": "code",
   "execution_count": 71,
   "id": "4e35fb28-e4ad-4d96-a428-a42c3e3eddd9",
   "metadata": {},
   "outputs": [
    {
     "data": {
      "text/plain": [
       "1    100\n",
       "2    120\n",
       "3    150\n",
       "4    100\n",
       "5     80\n",
       "6    200\n",
       "dtype: int64"
      ]
     },
     "execution_count": 71,
     "metadata": {},
     "output_type": "execute_result"
    }
   ],
   "source": [
    "sales"
   ]
  },
  {
   "cell_type": "code",
   "execution_count": 72,
   "id": "27ac896c-6415-408f-a917-4aea4784dd5a",
   "metadata": {},
   "outputs": [
    {
     "data": {
      "text/plain": [
       "100.0"
      ]
     },
     "execution_count": 72,
     "metadata": {},
     "output_type": "execute_result"
    }
   ],
   "source": [
    "sales.quantile(.25)"
   ]
  },
  {
   "cell_type": "code",
   "execution_count": 73,
   "id": "f6eb91b3-82a8-4a0f-86fb-df917fa4f57b",
   "metadata": {},
   "outputs": [
    {
     "data": {
      "text/plain": [
       "0.25    100.0\n",
       "0.50    110.0\n",
       "0.75    142.5\n",
       "dtype: float64"
      ]
     },
     "execution_count": 73,
     "metadata": {},
     "output_type": "execute_result"
    }
   ],
   "source": [
    "sales.quantile([.25, .5, .75])"
   ]
  },
  {
   "cell_type": "markdown",
   "id": "b9467f8c-c794-44a9-9d52-cd09e6b0742a",
   "metadata": {},
   "source": [
    "### DISPLAY MONTHS WHERE VALUE IS LESS THAN PREVIOUS MONTH"
   ]
  },
  {
   "cell_type": "code",
   "execution_count": 74,
   "id": "07dea18e-ee12-4d31-9222-ffb5e77cde9b",
   "metadata": {},
   "outputs": [
    {
     "data": {
      "text/plain": [
       "1    100\n",
       "2    120\n",
       "3    150\n",
       "4    100\n",
       "5     80\n",
       "6    200\n",
       "dtype: int64"
      ]
     },
     "execution_count": 74,
     "metadata": {},
     "output_type": "execute_result"
    }
   ],
   "source": [
    "sales = pd.Series([100, 120, 150, 100, 80, 200], index = [1, 2, 3, 4, 5, 6])\n",
    "sales"
   ]
  },
  {
   "cell_type": "code",
   "execution_count": 75,
   "id": "65e4bd85-4091-4282-bc1c-a0680757ef48",
   "metadata": {},
   "outputs": [
    {
     "data": {
      "text/plain": [
       "1         NaN\n",
       "2    0.200000\n",
       "3    0.250000\n",
       "4   -0.333333\n",
       "5   -0.200000\n",
       "6    1.500000\n",
       "dtype: float64"
      ]
     },
     "execution_count": 75,
     "metadata": {},
     "output_type": "execute_result"
    }
   ],
   "source": [
    "sales.pct_change()"
   ]
  },
  {
   "cell_type": "code",
   "execution_count": 89,
   "id": "5bf98828-2850-4df8-b3bf-bb86e5caf23e",
   "metadata": {},
   "outputs": [
    {
     "data": {
      "text/plain": [
       "array([100, 120, 150, 100,  80, 200], dtype=int64)"
      ]
     },
     "execution_count": 89,
     "metadata": {},
     "output_type": "execute_result"
    }
   ],
   "source": [
    "sales.values"
   ]
  },
  {
   "cell_type": "code",
   "execution_count": 94,
   "id": "9a54530f-4de1-4238-9f47-b3a48832c4cb",
   "metadata": {},
   "outputs": [
    {
     "ename": "SyntaxError",
     "evalue": "invalid syntax (42530301.py, line 1)",
     "output_type": "error",
     "traceback": [
      "\u001b[1;36m  Input \u001b[1;32mIn [94]\u001b[1;36m\u001b[0m\n\u001b[1;33m    ifsales[1] is more than sales[2]:\u001b[0m\n\u001b[1;37m                       ^\u001b[0m\n\u001b[1;31mSyntaxError\u001b[0m\u001b[1;31m:\u001b[0m invalid syntax\n"
     ]
    }
   ],
   "source": [
    "ifsales[1] is more than sales[2]:\n",
    "    if sales.pct_change is more:\n",
    "        print(indexes)"
   ]
  },
  {
   "cell_type": "code",
   "execution_count": null,
   "id": "f710a5cf-4290-4a41-8bc3-1468e3baa503",
   "metadata": {},
   "outputs": [],
   "source": []
  }
 ],
 "metadata": {
  "kernelspec": {
   "display_name": "Python 3 (ipykernel)",
   "language": "python",
   "name": "python3"
  },
  "language_info": {
   "codemirror_mode": {
    "name": "ipython",
    "version": 3
   },
   "file_extension": ".py",
   "mimetype": "text/x-python",
   "name": "python",
   "nbconvert_exporter": "python",
   "pygments_lexer": "ipython3",
   "version": "3.9.12"
  }
 },
 "nbformat": 4,
 "nbformat_minor": 5
}
