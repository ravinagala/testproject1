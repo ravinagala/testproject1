{
 "cells": [
  {
   "cell_type": "code",
   "execution_count": 1,
   "id": "a2106fe7-d685-4f09-be02-6b8b176c0235",
   "metadata": {},
   "outputs": [],
   "source": [
    "import numpy as np\n",
    "import pandas as pd"
   ]
  },
  {
   "cell_type": "code",
   "execution_count": 4,
   "id": "bc802b8d-8005-4958-aadb-4926c603dd9d",
   "metadata": {},
   "outputs": [
    {
     "data": {
      "text/plain": [
       "'1.4.2'"
      ]
     },
     "execution_count": 4,
     "metadata": {},
     "output_type": "execute_result"
    }
   ],
   "source": [
    "pd.__version__"
   ]
  },
  {
   "cell_type": "code",
   "execution_count": 5,
   "id": "f946af7d-4b28-4c0d-aa5a-6dfb96e9cb7d",
   "metadata": {},
   "outputs": [
    {
     "data": {
      "text/plain": [
       "pandas.core.series.Series"
      ]
     },
     "execution_count": 5,
     "metadata": {},
     "output_type": "execute_result"
    }
   ],
   "source": [
    "s = pd.Series([10, 20, 30, 40, 50])\n",
    "type(s)"
   ]
  },
  {
   "cell_type": "code",
   "execution_count": 6,
   "id": "21e58cd9-d30a-488e-86ac-f2abcc6595d0",
   "metadata": {},
   "outputs": [
    {
     "data": {
      "text/plain": [
       "0    10\n",
       "1    20\n",
       "2    30\n",
       "3    40\n",
       "4    50\n",
       "dtype: int64"
      ]
     },
     "execution_count": 6,
     "metadata": {},
     "output_type": "execute_result"
    }
   ],
   "source": [
    "s"
   ]
  },
  {
   "cell_type": "code",
   "execution_count": 7,
   "id": "442ebea8-384f-47a0-a288-83218bdf37f2",
   "metadata": {},
   "outputs": [
    {
     "data": {
      "text/plain": [
       "10"
      ]
     },
     "execution_count": 7,
     "metadata": {},
     "output_type": "execute_result"
    }
   ],
   "source": [
    "s[0]"
   ]
  },
  {
   "cell_type": "markdown",
   "id": "b832b33c-e098-42e8-9ef3-863f6f9e774a",
   "metadata": {},
   "source": [
    "### Properties of series"
   ]
  },
  {
   "cell_type": "code",
   "execution_count": 11,
   "id": "b4fe4100-54d6-40f2-845b-fd96096a7154",
   "metadata": {},
   "outputs": [],
   "source": [
    "sales = pd.Series([10, 20, 30, 40, 50], index = [\"mon\",\"tue\",\"wed\",\"mon\",\"fri\"])"
   ]
  },
  {
   "cell_type": "code",
   "execution_count": 12,
   "id": "20c46d4e-56cc-4818-8e82-107d460e2370",
   "metadata": {},
   "outputs": [
    {
     "data": {
      "text/plain": [
       "mon    10\n",
       "tue    20\n",
       "wed    30\n",
       "mon    40\n",
       "fri    50\n",
       "dtype: int64"
      ]
     },
     "execution_count": 12,
     "metadata": {},
     "output_type": "execute_result"
    }
   ],
   "source": [
    "sales"
   ]
  },
  {
   "cell_type": "code",
   "execution_count": 13,
   "id": "68566a39-84d3-4e6c-a2cc-21779c532d15",
   "metadata": {},
   "outputs": [
    {
     "data": {
      "text/plain": [
       "pandas.core.series.Series"
      ]
     },
     "execution_count": 13,
     "metadata": {},
     "output_type": "execute_result"
    }
   ],
   "source": [
    "type(sales)"
   ]
  },
  {
   "cell_type": "code",
   "execution_count": 14,
   "id": "419ef88b-e776-47aa-9b68-212df4fc973d",
   "metadata": {},
   "outputs": [
    {
     "data": {
      "text/plain": [
       "mon    10\n",
       "mon    40\n",
       "dtype: int64"
      ]
     },
     "execution_count": 14,
     "metadata": {},
     "output_type": "execute_result"
    }
   ],
   "source": [
    "sales[\"mon\"]"
   ]
  },
  {
   "cell_type": "code",
   "execution_count": 15,
   "id": "dabb2290-41d7-4483-813c-65f20755cada",
   "metadata": {},
   "outputs": [
    {
     "data": {
      "text/plain": [
       "10"
      ]
     },
     "execution_count": 15,
     "metadata": {},
     "output_type": "execute_result"
    }
   ],
   "source": [
    "sales[0]"
   ]
  },
  {
   "cell_type": "code",
   "execution_count": 16,
   "id": "c5b9e018-fcb4-4bf3-b07c-38bb2f300e9b",
   "metadata": {},
   "outputs": [],
   "source": [
    "marks = pd.Series([60, 80, 56, 89, 66], index = [101, 102, 103, 104, 105])"
   ]
  },
  {
   "cell_type": "code",
   "execution_count": 17,
   "id": "4810c036-b5ca-4b09-bd75-ad8d0f46422c",
   "metadata": {},
   "outputs": [
    {
     "data": {
      "text/plain": [
       "101    60\n",
       "102    80\n",
       "103    56\n",
       "104    89\n",
       "105    66\n",
       "dtype: int64"
      ]
     },
     "execution_count": 17,
     "metadata": {},
     "output_type": "execute_result"
    }
   ],
   "source": [
    "marks"
   ]
  },
  {
   "cell_type": "code",
   "execution_count": 18,
   "id": "80ee0b6c-665f-46e4-a856-1f208d2fe664",
   "metadata": {},
   "outputs": [
    {
     "data": {
      "text/plain": [
       "pandas.core.series.Series"
      ]
     },
     "execution_count": 18,
     "metadata": {},
     "output_type": "execute_result"
    }
   ],
   "source": [
    "type(marks)"
   ]
  },
  {
   "cell_type": "code",
   "execution_count": 21,
   "id": "f4de9030-bd94-422e-b001-9ec354e5f5a7",
   "metadata": {},
   "outputs": [
    {
     "data": {
      "text/plain": [
       "60"
      ]
     },
     "execution_count": 21,
     "metadata": {},
     "output_type": "execute_result"
    }
   ],
   "source": [
    "marks[101]"
   ]
  },
  {
   "cell_type": "code",
   "execution_count": 22,
   "id": "73b427d3-57d4-44a4-b3fc-2250d5388573",
   "metadata": {},
   "outputs": [],
   "source": [
    "nums = pd.Series(np.random.randint(1, 100, 10), index = np.arange(11, 21))"
   ]
  },
  {
   "cell_type": "code",
   "execution_count": 23,
   "id": "346e20fe-c555-42c3-b4b4-0e9bc79e3a3b",
   "metadata": {},
   "outputs": [
    {
     "data": {
      "text/plain": [
       "11    26\n",
       "12    96\n",
       "13    59\n",
       "14    28\n",
       "15    49\n",
       "16    76\n",
       "17     8\n",
       "18    32\n",
       "19    23\n",
       "20     2\n",
       "dtype: int32"
      ]
     },
     "execution_count": 23,
     "metadata": {},
     "output_type": "execute_result"
    }
   ],
   "source": [
    "nums"
   ]
  },
  {
   "cell_type": "markdown",
   "id": "fb40be62-4b24-4054-a659-799822778ac6",
   "metadata": {},
   "source": [
    "### Properties of series"
   ]
  },
  {
   "cell_type": "code",
   "execution_count": 24,
   "id": "f2176514-cd4b-47ff-aa87-c2c8f44dbde5",
   "metadata": {},
   "outputs": [
    {
     "data": {
      "text/plain": [
       "True"
      ]
     },
     "execution_count": 24,
     "metadata": {},
     "output_type": "execute_result"
    }
   ],
   "source": [
    "nums.is_unique"
   ]
  },
  {
   "cell_type": "code",
   "execution_count": 25,
   "id": "985ed64d-7ee3-475b-9dd1-c726f0847799",
   "metadata": {},
   "outputs": [
    {
     "data": {
      "text/plain": [
       "[Int64Index([11, 12, 13, 14, 15, 16, 17, 18, 19, 20], dtype='int64')]"
      ]
     },
     "execution_count": 25,
     "metadata": {},
     "output_type": "execute_result"
    }
   ],
   "source": [
    "nums.axes   # Row labels"
   ]
  },
  {
   "cell_type": "code",
   "execution_count": 26,
   "id": "dd6a87c2-c14a-4507-8cae-f37988c9c3b6",
   "metadata": {},
   "outputs": [
    {
     "data": {
      "text/plain": [
       "Int64Index([11, 12, 13, 14, 15, 16, 17, 18, 19, 20], dtype='int64')"
      ]
     },
     "execution_count": 26,
     "metadata": {},
     "output_type": "execute_result"
    }
   ],
   "source": [
    "nums.index"
   ]
  },
  {
   "cell_type": "code",
   "execution_count": 27,
   "id": "a29c4ca1-60ff-4c58-a3da-5cdfef8545d5",
   "metadata": {},
   "outputs": [
    {
     "data": {
      "text/plain": [
       "numpy.ndarray"
      ]
     },
     "execution_count": 27,
     "metadata": {},
     "output_type": "execute_result"
    }
   ],
   "source": [
    "type(nums.values)"
   ]
  },
  {
   "cell_type": "markdown",
   "id": "e47cd3e9-f7f1-4122-8260-3cb285963bc4",
   "metadata": {},
   "source": [
    "### loc and iloc properties"
   ]
  },
  {
   "cell_type": "code",
   "execution_count": 28,
   "id": "8e754277-bd32-4d64-aca1-c398921a0488",
   "metadata": {},
   "outputs": [
    {
     "data": {
      "text/plain": [
       "26"
      ]
     },
     "execution_count": 28,
     "metadata": {},
     "output_type": "execute_result"
    }
   ],
   "source": [
    "nums[11]"
   ]
  },
  {
   "cell_type": "code",
   "execution_count": 30,
   "id": "4161f3c3-eec9-4cb9-9b97-b97d29cfcb18",
   "metadata": {},
   "outputs": [
    {
     "data": {
      "text/plain": [
       "26"
      ]
     },
     "execution_count": 30,
     "metadata": {},
     "output_type": "execute_result"
    }
   ],
   "source": [
    "nums.loc[11]   # row label index"
   ]
  },
  {
   "cell_type": "code",
   "execution_count": 31,
   "id": "5aff1c8f-ff5f-434b-a091-84ee9ef829e0",
   "metadata": {},
   "outputs": [
    {
     "data": {
      "text/plain": [
       "26"
      ]
     },
     "execution_count": 31,
     "metadata": {},
     "output_type": "execute_result"
    }
   ],
   "source": [
    "nums.iloc[0]    # position"
   ]
  },
  {
   "cell_type": "code",
   "execution_count": 34,
   "id": "517d247d-214a-4c51-9bee-b9dbd7ba9823",
   "metadata": {},
   "outputs": [
    {
     "data": {
      "text/plain": [
       "11    26\n",
       "12    96\n",
       "13    59\n",
       "14    28\n",
       "15    49\n",
       "dtype: int32"
      ]
     },
     "execution_count": 34,
     "metadata": {},
     "output_type": "execute_result"
    }
   ],
   "source": [
    "# for loc end range is inclusive\n",
    "nums.loc[11:15]"
   ]
  },
  {
   "cell_type": "code",
   "execution_count": 35,
   "id": "609af80d-09b1-4cde-9a9c-363e3d21b7ed",
   "metadata": {},
   "outputs": [
    {
     "data": {
      "text/plain": [
       "11    26\n",
       "12    96\n",
       "13    59\n",
       "14    28\n",
       "15    49\n",
       "dtype: int32"
      ]
     },
     "execution_count": 35,
     "metadata": {},
     "output_type": "execute_result"
    }
   ],
   "source": [
    "# for iloc end range is exclusive\n",
    "nums.iloc[0:5]"
   ]
  },
  {
   "cell_type": "markdown",
   "id": "cce351fb-2506-4464-9df5-3d19e825c1a2",
   "metadata": {},
   "source": [
    "### Fancy indexing"
   ]
  },
  {
   "cell_type": "code",
   "execution_count": 38,
   "id": "529efdef-78ce-4963-9b1b-0c2fc849d9e6",
   "metadata": {},
   "outputs": [
    {
     "data": {
      "text/plain": [
       "11    False\n",
       "12     True\n",
       "13     True\n",
       "14    False\n",
       "15     True\n",
       "16     True\n",
       "17    False\n",
       "18     True\n",
       "19    False\n",
       "20    False\n",
       "dtype: bool"
      ]
     },
     "execution_count": 38,
     "metadata": {},
     "output_type": "execute_result"
    }
   ],
   "source": [
    "nums > 30"
   ]
  },
  {
   "cell_type": "code",
   "execution_count": 39,
   "id": "37a562fb-e6e4-4763-82bf-ca0cbf091c73",
   "metadata": {},
   "outputs": [
    {
     "data": {
      "text/plain": [
       "12    96\n",
       "13    59\n",
       "15    49\n",
       "16    76\n",
       "18    32\n",
       "dtype: int32"
      ]
     },
     "execution_count": 39,
     "metadata": {},
     "output_type": "execute_result"
    }
   ],
   "source": [
    "nums[nums > 30]"
   ]
  },
  {
   "cell_type": "code",
   "execution_count": 41,
   "id": "dfeef09c-d573-49f4-9786-37b0e31f8748",
   "metadata": {},
   "outputs": [
    {
     "data": {
      "text/plain": [
       "11    26\n",
       "15    49\n",
       "16    76\n",
       "dtype: int32"
      ]
     },
     "execution_count": 41,
     "metadata": {},
     "output_type": "execute_result"
    }
   ],
   "source": [
    "nums.loc[[11, 15, 16]]   # Array of row labels"
   ]
  },
  {
   "cell_type": "code",
   "execution_count": 42,
   "id": "b432c36c-3452-4636-9454-7966ee06ad30",
   "metadata": {},
   "outputs": [
    {
     "data": {
      "text/plain": [
       "11    26\n",
       "15    49\n",
       "17     8\n",
       "dtype: int32"
      ]
     },
     "execution_count": 42,
     "metadata": {},
     "output_type": "execute_result"
    }
   ],
   "source": [
    "nums.iloc[[0,4,6]]    # Array of positions"
   ]
  },
  {
   "cell_type": "markdown",
   "id": "ac40c3f2-f161-4ba0-aaf1-d13f4e591dc3",
   "metadata": {},
   "source": [
    "# Methods of series"
   ]
  },
  {
   "cell_type": "code",
   "execution_count": 43,
   "id": "dbf53412-babc-4036-8e9e-267feef9573d",
   "metadata": {},
   "outputs": [
    {
     "data": {
      "text/plain": [
       "count    10.000000\n",
       "mean     39.900000\n",
       "std      29.879201\n",
       "min       2.000000\n",
       "25%      23.750000\n",
       "50%      30.000000\n",
       "75%      56.500000\n",
       "max      96.000000\n",
       "dtype: float64"
      ]
     },
     "execution_count": 43,
     "metadata": {},
     "output_type": "execute_result"
    }
   ],
   "source": [
    "nums.describe()"
   ]
  },
  {
   "cell_type": "code",
   "execution_count": 44,
   "id": "55b9ee2c-820c-4dac-a42f-7a9d069f09c4",
   "metadata": {},
   "outputs": [
    {
     "name": "stdout",
     "output_type": "stream",
     "text": [
      "<class 'pandas.core.series.Series'>\n"
     ]
    }
   ],
   "source": [
    "summary = nums.describe()\n",
    "print(type(summary))"
   ]
  },
  {
   "cell_type": "code",
   "execution_count": 46,
   "id": "62cfb5cd-ad52-49ba-b076-b30b49d6383c",
   "metadata": {},
   "outputs": [
    {
     "data": {
      "text/plain": [
       "(39.9, 30.0)"
      ]
     },
     "execution_count": 46,
     "metadata": {},
     "output_type": "execute_result"
    }
   ],
   "source": [
    "summary[\"mean\"], summary[\"50%\"]"
   ]
  },
  {
   "cell_type": "code",
   "execution_count": 47,
   "id": "764734c1-b193-4871-9df0-54566e4dd4a2",
   "metadata": {},
   "outputs": [
    {
     "data": {
      "text/plain": [
       "32.75"
      ]
     },
     "execution_count": 47,
     "metadata": {},
     "output_type": "execute_result"
    }
   ],
   "source": [
    "summary[\"75%\"] - summary[\"25%\"]"
   ]
  },
  {
   "cell_type": "code",
   "execution_count": 49,
   "id": "6e9787b0-9cb8-4f32-adff-dc69ab2c0be0",
   "metadata": {},
   "outputs": [
    {
     "data": {
      "text/plain": [
       "39.9"
      ]
     },
     "execution_count": 49,
     "metadata": {},
     "output_type": "execute_result"
    }
   ],
   "source": [
    "nums.mean()"
   ]
  },
  {
   "cell_type": "code",
   "execution_count": 51,
   "id": "02592bd2-9d78-4988-9987-9372d0abb6d2",
   "metadata": {},
   "outputs": [
    {
     "data": {
      "text/plain": [
       "True"
      ]
     },
     "execution_count": 51,
     "metadata": {},
     "output_type": "execute_result"
    }
   ],
   "source": [
    "nums.index.is_unique"
   ]
  },
  {
   "cell_type": "code",
   "execution_count": 53,
   "id": "dc47a509-d03b-470b-8dc6-2913488dff13",
   "metadata": {},
   "outputs": [
    {
     "data": {
      "text/plain": [
       "<AxesSubplot:>"
      ]
     },
     "execution_count": 53,
     "metadata": {},
     "output_type": "execute_result"
    },
    {
     "data": {
      "image/png": "[encoded data removed]",
      "text/plain": [
       "<Figure size 432x288 with 1 Axes>"
      ]
     },
     "metadata": {
      "needs_background": "light"
     },
     "output_type": "display_data"
    }
   ],
   "source": [
    "nums.hist(bins = 8)"
   ]
  },
  {
   "cell_type": "code",
   "execution_count": 54,
   "id": "354214ef-bc5d-472d-8ab1-1dbd7827b8cf",
   "metadata": {},
   "outputs": [
    {
     "data": {
      "text/plain": [
       "<AxesSubplot:ylabel='Density'>"
      ]
     },
     "execution_count": 54,
     "metadata": {},
     "output_type": "execute_result"
    },
    {
     "data": {
      "image/png": "[encoded data removed]",
      "text/plain": [
       "<Figure size 432x288 with 1 Axes>"
      ]
     },
     "metadata": {
      "needs_background": "light"
     },
     "output_type": "display_data"
    }
   ],
   "source": [
    "nums.plot(kind = \"kde\")"
   ]
  },
  {
   "cell_type": "markdown",
   "id": "5114a2e3-40a7-4d73-869a-f4a9aef3cf9e",
   "metadata": {},
   "source": [
    "### Iteration"
   ]
  },
  {
   "cell_type": "code",
   "execution_count": 57,
   "id": "0598f598-41e2-41db-ae9d-3d6bc3d2d26d",
   "metadata": {},
   "outputs": [
    {
     "name": "stdout",
     "output_type": "stream",
     "text": [
      "11 - 26\n",
      "12 - 96\n",
      "13 - 59\n",
      "14 - 28\n",
      "15 - 49\n",
      "16 - 76\n",
      "17 - 8\n",
      "18 - 32\n",
      "19 - 23\n",
      "20 - 2\n"
     ]
    }
   ],
   "source": [
    "for i, n in nums.items():    # Unpack index and values\n",
    "    print(f\"{i} - {n}\")"
   ]
  },
  {
   "cell_type": "code",
   "execution_count": 58,
   "id": "dd279f8b-eac8-4658-83d8-4663cf0ac35f",
   "metadata": {},
   "outputs": [
    {
     "name": "stdout",
     "output_type": "stream",
     "text": [
      "26\n",
      "96\n",
      "59\n",
      "28\n",
      "49\n",
      "76\n",
      "8\n",
      "32\n",
      "23\n",
      "2\n"
     ]
    }
   ],
   "source": [
    "for n in nums:    # iterate values\n",
    "    print(n)"
   ]
  },
  {
   "cell_type": "markdown",
   "id": "987beb5e-83cb-4989-89d1-dfe64312f101",
   "metadata": {},
   "source": [
    "### Ranking"
   ]
  },
  {
   "cell_type": "code",
   "execution_count": 61,
   "id": "1c4c61ad-5c3d-4ef1-a4e9-8309bcfd61dc",
   "metadata": {},
   "outputs": [
    {
     "data": {
      "text/plain": [
       "0    60\n",
       "1    70\n",
       "2    80\n",
       "3    60\n",
       "4    85\n",
       "5    75\n",
       "Name: python, dtype: int64"
      ]
     },
     "execution_count": 61,
     "metadata": {},
     "output_type": "execute_result"
    }
   ],
   "source": [
    "marks = pd.Series([60, 70, 80, 60, 85, 75], name = \"python\")\n",
    "marks"
   ]
  },
  {
   "cell_type": "code",
   "execution_count": 62,
   "id": "690a4082-918a-424d-9db4-860d339980eb",
   "metadata": {},
   "outputs": [
    {
     "data": {
      "text/plain": [
       "0    1.5\n",
       "1    3.0\n",
       "2    5.0\n",
       "3    1.5\n",
       "4    6.0\n",
       "5    4.0\n",
       "Name: python, dtype: float64"
      ]
     },
     "execution_count": 62,
     "metadata": {},
     "output_type": "execute_result"
    }
   ],
   "source": [
    "marks.rank()    # Ranks the values"
   ]
  },
  {
   "cell_type": "code",
   "execution_count": 65,
   "id": "b9074648-7968-4565-b2ee-179e01619c1b",
   "metadata": {},
   "outputs": [
    {
     "data": {
      "text/plain": [
       "0    5.5\n",
       "1    4.0\n",
       "2    2.0\n",
       "3    5.5\n",
       "4    1.0\n",
       "5    3.0\n",
       "Name: python, dtype: float64"
      ]
     },
     "execution_count": 65,
     "metadata": {},
     "output_type": "execute_result"
    }
   ],
   "source": [
    "marks.rank(ascending = False)"
   ]
  },
  {
   "cell_type": "code",
   "execution_count": 66,
   "id": "03d30b9b-a330-4677-a040-501c21480d2a",
   "metadata": {},
   "outputs": [
    {
     "data": {
      "text/plain": [
       "0    1.0\n",
       "1    3.0\n",
       "2    5.0\n",
       "3    1.0\n",
       "4    6.0\n",
       "5    4.0\n",
       "Name: python, dtype: float64"
      ]
     },
     "execution_count": 66,
     "metadata": {},
     "output_type": "execute_result"
    }
   ],
   "source": [
    "marks.rank(method = \"min\")"
   ]
  },
  {
   "cell_type": "code",
   "execution_count": 67,
   "id": "aa14ce33-1806-42e1-9fb0-7259b2fd56b7",
   "metadata": {},
   "outputs": [
    {
     "data": {
      "text/plain": [
       "0    2.0\n",
       "1    3.0\n",
       "2    5.0\n",
       "3    2.0\n",
       "4    6.0\n",
       "5    4.0\n",
       "Name: python, dtype: float64"
      ]
     },
     "execution_count": 67,
     "metadata": {},
     "output_type": "execute_result"
    }
   ],
   "source": [
    "marks.rank(method = \"max\")"
   ]
  },
  {
   "cell_type": "code",
   "execution_count": 68,
   "id": "bfc375be-4cad-42de-afe2-3007ebeb97e4",
   "metadata": {},
   "outputs": [
    {
     "data": {
      "text/plain": [
       "0    1.0\n",
       "1    2.0\n",
       "2    4.0\n",
       "3    1.0\n",
       "4    5.0\n",
       "5    3.0\n",
       "Name: python, dtype: float64"
      ]
     },
     "execution_count": 68,
     "metadata": {},
     "output_type": "execute_result"
    }
   ],
   "source": [
    "marks.rank(method = \"dense\")"
   ]
  },
  {
   "cell_type": "code",
   "execution_count": 69,
   "id": "e7e1f428-52ce-489e-a548-caa12b655df3",
   "metadata": {},
   "outputs": [
    {
     "data": {
      "text/plain": [
       "0    1.0\n",
       "1    3.0\n",
       "2    5.0\n",
       "3    2.0\n",
       "4    6.0\n",
       "5    4.0\n",
       "Name: python, dtype: float64"
      ]
     },
     "execution_count": 69,
     "metadata": {},
     "output_type": "execute_result"
    }
   ],
   "source": [
    "marks.rank(method = \"first\")"
   ]
  },
  {
   "cell_type": "code",
   "execution_count": 70,
   "id": "c2aec05a-5de5-4abd-bf8f-1f590cfd73c5",
   "metadata": {},
   "outputs": [
    {
     "data": {
      "text/plain": [
       "0    5.0\n",
       "1    4.0\n",
       "2    2.0\n",
       "3    6.0\n",
       "4    1.0\n",
       "5    3.0\n",
       "Name: python, dtype: float64"
      ]
     },
     "execution_count": 70,
     "metadata": {},
     "output_type": "execute_result"
    }
   ],
   "source": [
    "marks.rank(method = \"first\", ascending = False)"
   ]
  },
  {
   "cell_type": "markdown",
   "id": "42e26334-a30f-4e83-ac6e-236559596c69",
   "metadata": {},
   "source": [
    "### Selecting rows"
   ]
  },
  {
   "cell_type": "code",
   "execution_count": 72,
   "id": "d5118b44-95b4-4648-ad30-c41a24502252",
   "metadata": {},
   "outputs": [
    {
     "data": {
      "text/plain": [
       "0    60\n",
       "1    70\n",
       "2    80\n",
       "3    60\n",
       "4    85\n",
       "Name: python, dtype: int64"
      ]
     },
     "execution_count": 72,
     "metadata": {},
     "output_type": "execute_result"
    }
   ],
   "source": [
    "marks.head()   # First 5"
   ]
  },
  {
   "cell_type": "code",
   "execution_count": 73,
   "id": "e447e6b6-54f4-42ad-85d9-d02e9a901a5a",
   "metadata": {},
   "outputs": [
    {
     "data": {
      "text/plain": [
       "1    70\n",
       "2    80\n",
       "3    60\n",
       "4    85\n",
       "5    75\n",
       "Name: python, dtype: int64"
      ]
     },
     "execution_count": 73,
     "metadata": {},
     "output_type": "execute_result"
    }
   ],
   "source": [
    "marks.tail()    # Last 5"
   ]
  },
  {
   "cell_type": "code",
   "execution_count": 74,
   "id": "04f3410c-f29b-4429-8a88-cf530885cf5b",
   "metadata": {},
   "outputs": [
    {
     "data": {
      "text/plain": [
       "4    85\n",
       "1    70\n",
       "2    80\n",
       "0    60\n",
       "3    60\n",
       "Name: python, dtype: int64"
      ]
     },
     "execution_count": 74,
     "metadata": {},
     "output_type": "execute_result"
    }
   ],
   "source": [
    "marks.sample(5)"
   ]
  },
  {
   "cell_type": "code",
   "execution_count": 75,
   "id": "53f51887-cf18-4975-b56b-e840adc29e2f",
   "metadata": {},
   "outputs": [
    {
     "data": {
      "text/plain": [
       "1    100\n",
       "2    120\n",
       "3    150\n",
       "4    100\n",
       "5     80\n",
       "6    200\n",
       "dtype: int64"
      ]
     },
     "execution_count": 75,
     "metadata": {},
     "output_type": "execute_result"
    }
   ],
   "source": [
    "sales = pd.Series([100, 120, 150, 100, 80, 200], index = [1,2,3,4,5,6])\n",
    "sales"
   ]
  },
  {
   "cell_type": "code",
   "execution_count": 76,
   "id": "90a99ffd-1235-46fb-888b-ef2fac8bc74e",
   "metadata": {},
   "outputs": [
    {
     "data": {
      "text/plain": [
       "2    80\n",
       "1    70\n",
       "3    60\n",
       "Name: python, dtype: int64"
      ]
     },
     "execution_count": 76,
     "metadata": {},
     "output_type": "execute_result"
    }
   ],
   "source": [
    "marks.sample(frac = 0.5)"
   ]
  },
  {
   "cell_type": "code",
   "execution_count": 78,
   "id": "ffe04805-4e11-4b61-96df-bfb038a874b4",
   "metadata": {},
   "outputs": [
    {
     "data": {
      "text/plain": [
       "0    NaN\n",
       "1    1.0\n",
       "2    0.5\n",
       "3   -0.5\n",
       "4    1.0\n",
       "dtype: float64"
      ]
     },
     "execution_count": 78,
     "metadata": {},
     "output_type": "execute_result"
    }
   ],
   "source": [
    "pd.Series([10, 20, 30, 15, 30]).pct_change()"
   ]
  },
  {
   "cell_type": "code",
   "execution_count": 80,
   "id": "1644b1f9-44aa-4310-8afa-d849d24c0cd9",
   "metadata": {},
   "outputs": [
    {
     "data": {
      "text/plain": [
       "6    200\n",
       "3    150\n",
       "2    120\n",
       "1    100\n",
       "4    100\n",
       "5     80\n",
       "dtype: int64"
      ]
     },
     "execution_count": 80,
     "metadata": {},
     "output_type": "execute_result"
    }
   ],
   "source": [
    "sales.sort_values(ascending = False)"
   ]
  },
  {
   "cell_type": "code",
   "execution_count": 87,
   "id": "9bb683bf-0dfd-4d5e-bd59-9e78a127cdff",
   "metadata": {},
   "outputs": [
    {
     "data": {
      "text/plain": [
       "142.5"
      ]
     },
     "execution_count": 87,
     "metadata": {},
     "output_type": "execute_result"
    }
   ],
   "source": [
    "sales.quantile(q = 0.75)"
   ]
  },
  {
   "cell_type": "code",
   "execution_count": null,
   "id": "f0ffe014-2ad9-4512-a387-d15f72a7ff69",
   "metadata": {},
   "outputs": [],
   "source": []
  }
 ],
 "metadata": {
  "kernelspec": {
   "display_name": "Python 3 (ipykernel)",
   "language": "python",
   "name": "python3"
  },
  "language_info": {
   "codemirror_mode": {
    "name": "ipython",
    "version": 3
   },
   "file_extension": ".py",
   "mimetype": "text/x-python",
   "name": "python",
   "nbconvert_exporter": "python",
   "pygments_lexer": "ipython3",
   "version": "3.9.12"
  }
 },
 "nbformat": 4,
 "nbformat_minor": 5
}
