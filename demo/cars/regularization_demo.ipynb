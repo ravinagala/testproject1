{
 "cells": [
  {
   "cell_type": "markdown",
   "id": "843951c5-f8c2-40bd-9704-e93bbcc29871",
   "metadata": {},
   "source": [
    "### REGULARIZATION"
   ]
  },
  {
   "cell_type": "markdown",
   "id": "a957dd11-51f2-4ee1-98e2-f67ee06e8523",
   "metadata": {},
   "source": [
    "### . A MODEL WITH LOW ACCURACY IF IT IS OVERFITTING\n",
    "### . OVERFITTING OCCURS WHEN MODEL TRY TO CAPTURES THE TRAIN DATA \n",
    "### . WHEN MODEL IS MORE FLEXIBLE IT IS OVERFITTING"
   ]
  },
  {
   "cell_type": "markdown",
   "id": "2f4d4ad0-8e62-49c3-b874-a448dd66d6db",
   "metadata": {},
   "source": [
    "### . REGULARIZATION STRENGTH IS PROVIDED BY PARAMETER ALPHA"
   ]
  },
  {
   "cell_type": "markdown",
   "id": "005dd4a4-c699-4320-88f6-c0460fe4db9f",
   "metadata": {},
   "source": [
    "### . LASSO AND RIDGE ARE TWO OPTIONS"
   ]
  },
  {
   "cell_type": "code",
   "execution_count": 1,
   "id": "66b724f5-2834-4ebe-9e1e-5c6ff8365f3f",
   "metadata": {},
   "outputs": [],
   "source": [
    "# import pandas library\n",
    "import pandas as pd\n",
    "import numpy as np\n",
    "import matplotlib.pyplot as plt\n",
    "import seaborn as sns\n",
    "from sklearn.metrics import r2_score"
   ]
  },
  {
   "cell_type": "code",
   "execution_count": 2,
   "id": "8f373c08-683b-4b7f-ba93-30063b324c0a",
   "metadata": {},
   "outputs": [],
   "source": [
    "X_train = pd.DataFrame({'sqft':[1000,2000,3500,2455,1800,1550]})\n",
    "y_train = pd.Series([40,65,100,80,50,55])\n",
    "X_test = pd.DataFrame({'sqft':[2500,1000,3800,2200] })\n",
    "y_test = pd.Series([65,50,80,60])"
   ]
  },
  {
   "cell_type": "code",
   "execution_count": 3,
   "id": "5d67a94e-0249-496e-a95f-8ef3e6670251",
   "metadata": {},
   "outputs": [
    {
     "data": {
      "text/plain": [
       "<matplotlib.legend.Legend at 0x16973921460>"
      ]
     },
     "execution_count": 3,
     "metadata": {},
     "output_type": "execute_result"
    },
    {
     "data": {
      "image/png": "[encoded data removed]",
      "text/plain": [
       "<Figure size 432x288 with 1 Axes>"
      ]
     },
     "metadata": {
      "needs_background": "light"
     },
     "output_type": "display_data"
    }
   ],
   "source": [
    "plt.scatter(X_train.sqft, y_train, label='Train')\n",
    "plt.scatter(X_test.sqft, y_test, label = 'Test')\n",
    "plt.legend()"
   ]
  },
  {
   "cell_type": "markdown",
   "id": "f3661890-1381-45d5-affc-b054c7b813aa",
   "metadata": {},
   "source": [
    "### LINEAR REGRESSION"
   ]
  },
  {
   "cell_type": "code",
   "execution_count": 4,
   "id": "b3260133-4452-4687-aa67-342094b70e05",
   "metadata": {},
   "outputs": [],
   "source": [
    "from sklearn.linear_model import LinearRegression\n",
    "from sklearn.metrics import mean_squared_error"
   ]
  },
  {
   "cell_type": "code",
   "execution_count": 5,
   "id": "344c057a-040e-4280-a07d-83ebca56228a",
   "metadata": {},
   "outputs": [
    {
     "data": {
      "text/plain": [
       "LinearRegression()"
      ]
     },
     "execution_count": 5,
     "metadata": {},
     "output_type": "execute_result"
    }
   ],
   "source": [
    "lr_model = LinearRegression()\n",
    "lr_model.fit(X_train,y_train)"
   ]
  },
  {
   "cell_type": "code",
   "execution_count": 6,
   "id": "6fa386cf-141d-43cb-b3ff-ffb87bb78222",
   "metadata": {},
   "outputs": [
    {
     "data": {
      "text/plain": [
       "array([0.02492521])"
      ]
     },
     "execution_count": 6,
     "metadata": {},
     "output_type": "execute_result"
    }
   ],
   "source": [
    "lr_model.coef_"
   ]
  },
  {
   "cell_type": "code",
   "execution_count": 7,
   "id": "875a9fbf-0f5d-4bb2-b3bf-f4f8c7e53134",
   "metadata": {},
   "outputs": [],
   "source": [
    "y_pred = lr_model.predict(X_train)"
   ]
  },
  {
   "cell_type": "code",
   "execution_count": 8,
   "id": "47bc6312-321d-4404-b28b-b10e0204f2cc",
   "metadata": {},
   "outputs": [
    {
     "name": "stdout",
     "output_type": "stream",
     "text": [
      "MSE      :  18.540402526677713\n",
      "RMSE     :  4.305856770339408\n",
      "R2 Score :  0.9536489936833057\n"
     ]
    }
   ],
   "source": [
    "mse = mean_squared_error(y_train,y_pred)\n",
    "print(\"MSE      : \", mse)\n",
    "print(\"RMSE     : \", np.sqrt(mse))\n",
    "print(\"R2 Score : \", r2_score(y_train, y_pred))"
   ]
  },
  {
   "cell_type": "code",
   "execution_count": 9,
   "id": "0ff00195-62bd-445f-9579-e3e82a731de1",
   "metadata": {},
   "outputs": [
    {
     "data": {
      "text/plain": [
       "[<matplotlib.lines.Line2D at 0x16973beb700>]"
      ]
     },
     "execution_count": 9,
     "metadata": {},
     "output_type": "execute_result"
    },
    {
     "data": {
      "image/png": "[encoded data removed]",
      "text/plain": [
       "<Figure size 432x288 with 1 Axes>"
      ]
     },
     "metadata": {
      "needs_background": "light"
     },
     "output_type": "display_data"
    }
   ],
   "source": [
    "plt.scatter(X_train.sqft,y_train)\n",
    "plt.plot(X_train.sqft,y_pred,'r-')"
   ]
  },
  {
   "cell_type": "code",
   "execution_count": 10,
   "id": "56783088-1fcf-48c0-9ba4-5d9f44a5b203",
   "metadata": {},
   "outputs": [],
   "source": [
    "y_pred = lr_model.predict(X_test)"
   ]
  },
  {
   "cell_type": "code",
   "execution_count": 11,
   "id": "977f062f-3e61-445e-b257-0fba44861339",
   "metadata": {},
   "outputs": [
    {
     "name": "stdout",
     "output_type": "stream",
     "text": [
      "MSE      :  286.119131689681\n",
      "RMSE     :  16.915056360818934\n",
      "R2 Score :  -1.4415499237519445\n"
     ]
    }
   ],
   "source": [
    "mse = mean_squared_error(y_test,y_pred)\n",
    "print(\"MSE      : \", mse)\n",
    "print(\"RMSE     : \", np.sqrt(mse))\n",
    "print(\"R2 Score : \", r2_score(y_test, y_pred))"
   ]
  },
  {
   "cell_type": "code",
   "execution_count": 12,
   "id": "c038dbfe-6e33-480f-8d4b-524c41d1e6d1",
   "metadata": {},
   "outputs": [
    {
     "data": {
      "text/plain": [
       "[<matplotlib.lines.Line2D at 0x16974052ca0>]"
      ]
     },
     "execution_count": 12,
     "metadata": {},
     "output_type": "execute_result"
    },
    {
     "data": {
      "image/png": "[encoded data removed]",
      "text/plain": [
       "<Figure size 432x288 with 1 Axes>"
      ]
     },
     "metadata": {
      "needs_background": "light"
     },
     "output_type": "display_data"
    }
   ],
   "source": [
    "plt.scatter(X_test.sqft,y_test)\n",
    "plt.plot(X_test.sqft,y_pred,'r-')"
   ]
  },
  {
   "cell_type": "markdown",
   "id": "750143d8-8d71-4f6c-8c58-97e2ce5b29e0",
   "metadata": {},
   "source": [
    "### RIDGE REGRESSION (L2)"
   ]
  },
  {
   "cell_type": "code",
   "execution_count": 13,
   "id": "ed20a12e-352a-41dc-8d05-c044f9cae2c7",
   "metadata": {},
   "outputs": [],
   "source": [
    "from sklearn.linear_model import Ridge"
   ]
  },
  {
   "cell_type": "code",
   "execution_count": 14,
   "id": "578add1f-2293-4be2-a795-34e489d8ca30",
   "metadata": {},
   "outputs": [
    {
     "name": "stderr",
     "output_type": "stream",
     "text": [
      "C:\\Users\\nagal\\anaconda3\\lib\\site-packages\\sklearn\\linear_model\\_base.py:141: FutureWarning: 'normalize' was deprecated in version 1.0 and will be removed in 1.2.\n",
      "If you wish to scale the data, use Pipeline with a StandardScaler in a preprocessing stage. To reproduce the previous behavior:\n",
      "\n",
      "from sklearn.pipeline import make_pipeline\n",
      "\n",
      "model = make_pipeline(StandardScaler(with_mean=False), Ridge())\n",
      "\n",
      "If you wish to pass a sample_weight parameter, you need to pass it as a fit parameter to each step of the pipeline as follows:\n",
      "\n",
      "kwargs = {s[0] + '__sample_weight': sample_weight for s in model.steps}\n",
      "model.fit(X, y, **kwargs)\n",
      "\n",
      "Set parameter alpha to: original_alpha * n_samples. \n",
      "  warnings.warn(\n"
     ]
    },
    {
     "data": {
      "text/plain": [
       "Ridge(alpha=0.4, normalize=True)"
      ]
     },
     "execution_count": 14,
     "metadata": {},
     "output_type": "execute_result"
    }
   ],
   "source": [
    "ridge = Ridge(normalize=True, alpha=0.4)\n",
    "ridge.fit(X_train,y_train)"
   ]
  },
  {
   "cell_type": "code",
   "execution_count": 15,
   "id": "9b7bdddc-da83-4807-a760-0a6787e39c52",
   "metadata": {},
   "outputs": [
    {
     "data": {
      "text/plain": [
       "array([0.01780372])"
      ]
     },
     "execution_count": 15,
     "metadata": {},
     "output_type": "execute_result"
    }
   ],
   "source": [
    "ridge.coef_"
   ]
  },
  {
   "cell_type": "code",
   "execution_count": 16,
   "id": "2788fcfa-f395-4f83-84c1-bf5bd3077a00",
   "metadata": {},
   "outputs": [],
   "source": [
    "y_pred = ridge.predict(X_train)"
   ]
  },
  {
   "cell_type": "code",
   "execution_count": 17,
   "id": "7848ea9c-a9a3-4dc3-bedc-8af17685600e",
   "metadata": {},
   "outputs": [
    {
     "name": "stdout",
     "output_type": "stream",
     "text": [
      "MSE      :  49.67996150409173\n",
      "RMSE     :  7.048401343857465\n",
      "R2 Score :  0.8758000962397707\n"
     ]
    }
   ],
   "source": [
    "mse = mean_squared_error(y_train,y_pred)\n",
    "print(\"MSE      : \", mse)\n",
    "print(\"RMSE     : \", np.sqrt(mse))\n",
    "print(\"R2 Score : \", r2_score(y_train, y_pred))"
   ]
  },
  {
   "cell_type": "code",
   "execution_count": 18,
   "id": "f4fbdb6e-f7a9-4e1d-bf4b-5b22c756603a",
   "metadata": {},
   "outputs": [
    {
     "data": {
      "text/plain": [
       "[<matplotlib.lines.Line2D at 0x169740d6bb0>]"
      ]
     },
     "execution_count": 18,
     "metadata": {},
     "output_type": "execute_result"
    },
    {
     "data": {
      "image/png": "[encoded data removed]",
      "text/plain": [
       "<Figure size 432x288 with 1 Axes>"
      ]
     },
     "metadata": {
      "needs_background": "light"
     },
     "output_type": "display_data"
    }
   ],
   "source": [
    "plt.scatter(X_train.sqft,y_train)\n",
    "plt.plot(X_train.sqft,y_pred)"
   ]
  },
  {
   "cell_type": "code",
   "execution_count": 19,
   "id": "95671f63-8574-490b-8997-c369160fd806",
   "metadata": {},
   "outputs": [],
   "source": [
    "y_pred = ridge.predict(X_test)"
   ]
  },
  {
   "cell_type": "code",
   "execution_count": 20,
   "id": "5759ac1c-aac0-49d2-9c16-b7507601eb54",
   "metadata": {},
   "outputs": [
    {
     "data": {
      "text/plain": [
       "[<matplotlib.lines.Line2D at 0x16974146580>]"
      ]
     },
     "execution_count": 20,
     "metadata": {},
     "output_type": "execute_result"
    },
    {
     "data": {
      "image/png": "[encoded data removed]",
      "text/plain": [
       "<Figure size 432x288 with 1 Axes>"
      ]
     },
     "metadata": {
      "needs_background": "light"
     },
     "output_type": "display_data"
    }
   ],
   "source": [
    "plt.scatter(X_test.sqft,y_test)\n",
    "plt.plot(X_test.sqft,y_pred)"
   ]
  },
  {
   "cell_type": "code",
   "execution_count": 21,
   "id": "c022b6bf-f8b6-48af-8096-1b989ca8eb20",
   "metadata": {},
   "outputs": [
    {
     "name": "stdout",
     "output_type": "stream",
     "text": [
      "MSE      :  99.2170215888039\n",
      "RMSE     :  9.960774146059327\n",
      "R2 Score :  0.15334808244220666\n"
     ]
    }
   ],
   "source": [
    "mse = mean_squared_error(y_test,y_pred)\n",
    "print(\"MSE      : \", mse)\n",
    "print(\"RMSE     : \", np.sqrt(mse))\n",
    "print(\"R2 Score : \", r2_score(y_test, y_pred))"
   ]
  },
  {
   "cell_type": "markdown",
   "id": "4a7287bb-8bc6-4bf2-81d9-f20177002604",
   "metadata": {},
   "source": [
    "### LASSOCV"
   ]
  },
  {
   "cell_type": "code",
   "execution_count": 23,
   "id": "bcaccce9-d2e4-42a4-8b45-0e4ccd2edce3",
   "metadata": {},
   "outputs": [],
   "source": [
    "from sklearn.linear_model import LassoCV"
   ]
  },
  {
   "cell_type": "code",
   "execution_count": 24,
   "id": "447f26a3-6114-4adc-8972-8a6a7df33b0e",
   "metadata": {},
   "outputs": [
    {
     "name": "stderr",
     "output_type": "stream",
     "text": [
      "C:\\Users\\nagal\\anaconda3\\lib\\site-packages\\sklearn\\linear_model\\_base.py:141: FutureWarning: 'normalize' was deprecated in version 1.0 and will be removed in 1.2.\n",
      "If you wish to scale the data, use Pipeline with a StandardScaler in a preprocessing stage. To reproduce the previous behavior:\n",
      "\n",
      "from sklearn.pipeline import make_pipeline\n",
      "\n",
      "model = make_pipeline(StandardScaler(with_mean=False), Lasso())\n",
      "\n",
      "If you wish to pass a sample_weight parameter, you need to pass it as a fit parameter to each step of the pipeline as follows:\n",
      "\n",
      "kwargs = {s[0] + '__sample_weight': sample_weight for s in model.steps}\n",
      "model.fit(X, y, **kwargs)\n",
      "\n",
      "Set parameter alpha to: original_alpha * np.sqrt(n_samples). \n",
      "  warnings.warn(\n"
     ]
    },
    {
     "data": {
      "text/plain": [
       "LassoCV(alphas=[0.5, 1, 2, 4, 6], cv=3, normalize=True)"
      ]
     },
     "execution_count": 24,
     "metadata": {},
     "output_type": "execute_result"
    }
   ],
   "source": [
    "lasso = LassoCV(normalize = True, cv = 3, alphas = [.5,1, 2,4,6])\n",
    "lasso.fit(X_train,y_train)"
   ]
  },
  {
   "cell_type": "code",
   "execution_count": 25,
   "id": "fa35a6f4-0fdd-4aaf-8f1f-37df8005cf7f",
   "metadata": {},
   "outputs": [
    {
     "data": {
      "text/plain": [
       "array([0.02336221])"
      ]
     },
     "execution_count": 25,
     "metadata": {},
     "output_type": "execute_result"
    }
   ],
   "source": [
    "lasso.coef_"
   ]
  },
  {
   "cell_type": "code",
   "execution_count": 26,
   "id": "f7f392db-062b-442c-af9d-93e44f418a8c",
   "metadata": {},
   "outputs": [
    {
     "data": {
      "text/plain": [
       "0.5"
      ]
     },
     "execution_count": 26,
     "metadata": {},
     "output_type": "execute_result"
    }
   ],
   "source": [
    "lasso.alpha_"
   ]
  },
  {
   "cell_type": "code",
   "execution_count": 27,
   "id": "6367e3b5-e269-4ac6-a099-ee14866cbc31",
   "metadata": {},
   "outputs": [],
   "source": [
    "y_pred = lasso.predict(X_train)"
   ]
  },
  {
   "cell_type": "code",
   "execution_count": 28,
   "id": "c37c1921-c8d4-400d-b614-913036c4f284",
   "metadata": {},
   "outputs": [
    {
     "name": "stdout",
     "output_type": "stream",
     "text": [
      "MSE      :  20.040402526677717\n",
      "RMSE     :  4.476650815808367\n",
      "R2 Score :  0.9498989936833057\n"
     ]
    }
   ],
   "source": [
    "mse = mean_squared_error(y_train,y_pred)\n",
    "print(\"MSE      : \", mse)\n",
    "print(\"RMSE     : \", np.sqrt(mse))\n",
    "print(\"R2 Score : \", r2_score(y_train, y_pred))"
   ]
  },
  {
   "cell_type": "code",
   "execution_count": 29,
   "id": "d6bb7041-25ec-4aac-8c1f-7b87db338fac",
   "metadata": {},
   "outputs": [
    {
     "data": {
      "text/plain": [
       "[<matplotlib.lines.Line2D at 0x169751d5af0>]"
      ]
     },
     "execution_count": 29,
     "metadata": {},
     "output_type": "execute_result"
    },
    {
     "data": {
      "image/png": "[encoded data removed]",
      "text/plain": [
       "<Figure size 432x288 with 1 Axes>"
      ]
     },
     "metadata": {
      "needs_background": "light"
     },
     "output_type": "display_data"
    }
   ],
   "source": [
    "plt.scatter(X_train.sqft,y_train)\n",
    "plt.plot(X_train.sqft,y_pred)"
   ]
  },
  {
   "cell_type": "code",
   "execution_count": 30,
   "id": "e58ef79a-b1ba-406f-be8b-60b62e1e2282",
   "metadata": {},
   "outputs": [],
   "source": [
    "y_pred = lasso.predict(X_test)"
   ]
  },
  {
   "cell_type": "code",
   "execution_count": 31,
   "id": "bc77c102-64ea-4cad-900f-543aff32d186",
   "metadata": {},
   "outputs": [
    {
     "data": {
      "text/plain": [
       "[<matplotlib.lines.Line2D at 0x16975c62100>]"
      ]
     },
     "execution_count": 31,
     "metadata": {},
     "output_type": "execute_result"
    },
    {
     "data": {
      "image/png": "[encoded data removed]",
      "text/plain": [
       "<Figure size 432x288 with 1 Axes>"
      ]
     },
     "metadata": {
      "needs_background": "light"
     },
     "output_type": "display_data"
    }
   ],
   "source": [
    "plt.scatter(X_test.sqft,y_test)\n",
    "plt.plot(X_test.sqft,y_pred)"
   ]
  },
  {
   "cell_type": "code",
   "execution_count": 32,
   "id": "47b24d35-6b02-44ac-b46d-0e82adc409a7",
   "metadata": {},
   "outputs": [
    {
     "name": "stdout",
     "output_type": "stream",
     "text": [
      "MSE      :  235.56807070118174\n",
      "RMSE     :  15.348226956270283\n",
      "R2 Score :  -1.0101808699834174\n"
     ]
    }
   ],
   "source": [
    "mse = mean_squared_error(y_test,y_pred)\n",
    "print(\"MSE      : \", mse)\n",
    "print(\"RMSE     : \", np.sqrt(mse))\n",
    "print(\"R2 Score : \", r2_score(y_test, y_pred))"
   ]
  },
  {
   "cell_type": "code",
   "execution_count": 33,
   "id": "250b7566-9573-4fad-8dcb-a2ff8b7d59c7",
   "metadata": {},
   "outputs": [
    {
     "name": "stdout",
     "output_type": "stream",
     "text": [
      "MSE      :  235.56807070118174\n",
      "RMSE     :  15.348226956270283\n",
      "R2 Score :  -1.0101808699834174\n"
     ]
    }
   ],
   "source": [
    "mse = mean_squared_error(y_test,y_pred)\n",
    "print(\"MSE      : \", mse)\n",
    "print(\"RMSE     : \", np.sqrt(mse))\n",
    "print(\"R2 Score : \", r2_score(y_test, y_pred))"
   ]
  },
  {
   "cell_type": "code",
   "execution_count": null,
   "id": "e3df8530-ef08-41e1-a4e7-acafacb77690",
   "metadata": {},
   "outputs": [],
   "source": []
  }
 ],
 "metadata": {
  "kernelspec": {
   "display_name": "Python 3 (ipykernel)",
   "language": "python",
   "name": "python3"
  },
  "language_info": {
   "codemirror_mode": {
    "name": "ipython",
    "version": 3
   },
   "file_extension": ".py",
   "mimetype": "text/x-python",
   "name": "python",
   "nbconvert_exporter": "python",
   "pygments_lexer": "ipython3",
   "version": "3.9.12"
  }
 },
 "nbformat": 4,
 "nbformat_minor": 5
}
