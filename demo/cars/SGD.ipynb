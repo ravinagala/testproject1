{
 "cells": [
  {
   "cell_type": "code",
   "execution_count": 1,
   "id": "becebbd0-3bc2-45b9-ae41-8af402060944",
   "metadata": {},
   "outputs": [],
   "source": [
    "# import pandas library\n",
    "import pandas as pd\n",
    "import numpy as np\n",
    "import matplotlib.pyplot as plt\n",
    "import seaborn as sns\n",
    "from sklearn.metrics import mean_squared_error, r2_score, mean_absolute_error"
   ]
  },
  {
   "cell_type": "code",
   "execution_count": 2,
   "id": "f847f76a-2f6c-445e-be7f-c971b89ea4e9",
   "metadata": {},
   "outputs": [],
   "source": [
    "cars = pd.read_csv(\"final_cars.csv\")"
   ]
  },
  {
   "cell_type": "code",
   "execution_count": 3,
   "id": "5deaa743-45a7-452e-a8ca-041d679897dd",
   "metadata": {},
   "outputs": [],
   "source": [
    "# CREATE X and y\n",
    "y = cars[\"price\"]\n",
    "X = cars.drop(columns = [\"price\"])"
   ]
  },
  {
   "cell_type": "code",
   "execution_count": 4,
   "id": "d337ea53-d048-4083-abec-1b355cd86ce3",
   "metadata": {},
   "outputs": [],
   "source": [
    "X = pd.get_dummies(X)"
   ]
  },
  {
   "cell_type": "code",
   "execution_count": 5,
   "id": "6c67770b-ba2e-4001-9a47-5b09a77e9af9",
   "metadata": {},
   "outputs": [
    {
     "data": {
      "text/plain": [
       "Index(['curb-weight', 'engine-size', 'highway-mpg', 'make_alfa-romero',\n",
       "       'make_audi', 'make_bmw', 'make_chevrolet', 'make_dodge', 'make_honda',\n",
       "       'make_isuzu', 'make_jaguar', 'make_mazda', 'make_mercedes-benz',\n",
       "       'make_mercury', 'make_mitsubishi', 'make_nissan', 'make_peugot',\n",
       "       'make_plymouth', 'make_porsche', 'make_renault', 'make_saab',\n",
       "       'make_subaru', 'make_toyota', 'make_volkswagen', 'make_volvo',\n",
       "       'fuel-type_diesel', 'fuel-type_gas', 'num-of-doors_four',\n",
       "       'num-of-doors_two', 'body-style_convertible', 'body-style_hardtop',\n",
       "       'body-style_hatchback', 'body-style_sedan', 'body-style_wagon',\n",
       "       'drive-wheels_4wd', 'drive-wheels_fwd', 'drive-wheels_rwd'],\n",
       "      dtype='object')"
      ]
     },
     "execution_count": 5,
     "metadata": {},
     "output_type": "execute_result"
    }
   ],
   "source": [
    "X.columns"
   ]
  },
  {
   "cell_type": "code",
   "execution_count": 6,
   "id": "8923a402-70ae-4fcf-928d-bcef9e93ce52",
   "metadata": {},
   "outputs": [
    {
     "data": {
      "text/plain": [
       "(201, 37)"
      ]
     },
     "execution_count": 6,
     "metadata": {},
     "output_type": "execute_result"
    }
   ],
   "source": [
    "X.shape"
   ]
  },
  {
   "cell_type": "code",
   "execution_count": 7,
   "id": "8aab1638-75e7-4057-8baa-4eac0478477e",
   "metadata": {},
   "outputs": [],
   "source": [
    "from sklearn.model_selection import train_test_split"
   ]
  },
  {
   "cell_type": "code",
   "execution_count": 8,
   "id": "7fdfa697-81a8-4467-acc9-fe42b5385d63",
   "metadata": {},
   "outputs": [],
   "source": [
    "X_train, X_test, y_train, y_test = train_test_split(X, y, test_size = 0.2, random_state = 99)"
   ]
  },
  {
   "cell_type": "markdown",
   "id": "63588a4c-6e06-49ee-ad1b-efab4985ac98",
   "metadata": {},
   "source": [
    "### SGDREGRESSOR"
   ]
  },
  {
   "cell_type": "code",
   "execution_count": 9,
   "id": "47538fcb-7244-48f1-a0dd-a99a184c1c36",
   "metadata": {},
   "outputs": [],
   "source": [
    "from sklearn.linear_model import SGDRegressor"
   ]
  },
  {
   "cell_type": "code",
   "execution_count": 10,
   "id": "94f4b76e-8785-4968-ba74-e8954d74e86f",
   "metadata": {},
   "outputs": [],
   "source": [
    "X_train, X_test, y_train, y_test = train_test_split(X, y, test_size = 0.2, random_state = 99)"
   ]
  },
  {
   "cell_type": "code",
   "execution_count": 11,
   "id": "89dbdf41-e128-4339-83a1-d7dc5ef030e8",
   "metadata": {},
   "outputs": [],
   "source": [
    "from sklearn.preprocessing import StandardScaler\n",
    "scaler = StandardScaler()"
   ]
  },
  {
   "cell_type": "code",
   "execution_count": 12,
   "id": "a4097e0b-2506-4b44-aa07-ebde9d69ff23",
   "metadata": {},
   "outputs": [],
   "source": [
    "## use same scale for X_train and X_test\n",
    "scaler.fit(X_train)\n",
    "X_train = scaler.transform(X_train)\n",
    "X_test = scaler.transform(X_test)"
   ]
  },
  {
   "cell_type": "code",
   "execution_count": 13,
   "id": "7379070e-e7ee-4dc1-9582-17f41da1e5de",
   "metadata": {},
   "outputs": [
    {
     "name": "stdout",
     "output_type": "stream",
     "text": [
      "Train score : 0.926940\n"
     ]
    }
   ],
   "source": [
    "model = SGDRegressor(random_state=42)\n",
    "model.fit(X_train, y_train)\n",
    "print(f'Train score : {model.score(X_train,y_train):f}')"
   ]
  },
  {
   "cell_type": "code",
   "execution_count": 14,
   "id": "8a1d042d-6cc3-4c85-8fd4-1e05d243dc49",
   "metadata": {},
   "outputs": [
    {
     "data": {
      "text/plain": [
       "41"
      ]
     },
     "execution_count": 14,
     "metadata": {},
     "output_type": "execute_result"
    }
   ],
   "source": [
    "model.n_iter_"
   ]
  },
  {
   "cell_type": "code",
   "execution_count": 15,
   "id": "c94b2abb-96b1-43d6-b5f7-a10b990c17fc",
   "metadata": {},
   "outputs": [
    {
     "name": "stdout",
     "output_type": "stream",
     "text": [
      "Test Score  : 0.93\n"
     ]
    }
   ],
   "source": [
    "y_pred = model.predict(X_test)\n",
    "r2score = r2_score(y_test,y_pred)\n",
    "print(f'Test Score  : {r2score:0.2f}')"
   ]
  },
  {
   "cell_type": "code",
   "execution_count": 16,
   "id": "9bc99d57-29b0-43eb-9f91-b49b4386ac27",
   "metadata": {},
   "outputs": [
    {
     "name": "stdout",
     "output_type": "stream",
     "text": [
      "MSE  :  6141811.660040286\n",
      "RMSE :  2478.267874956274\n"
     ]
    }
   ],
   "source": [
    "mse = mean_squared_error(y_test,y_pred)\n",
    "print(\"MSE  : \",mse)\n",
    "print(\"RMSE : \", np.sqrt(mse))"
   ]
  },
  {
   "cell_type": "code",
   "execution_count": null,
   "id": "2bcb7543-6624-4ff4-b96e-843dfcb4706e",
   "metadata": {},
   "outputs": [],
   "source": []
  }
 ],
 "metadata": {
  "kernelspec": {
   "display_name": "Python 3 (ipykernel)",
   "language": "python",
   "name": "python3"
  },
  "language_info": {
   "codemirror_mode": {
    "name": "ipython",
    "version": 3
   },
   "file_extension": ".py",
   "mimetype": "text/x-python",
   "name": "python",
   "nbconvert_exporter": "python",
   "pygments_lexer": "ipython3",
   "version": "3.9.12"
  }
 },
 "nbformat": 4,
 "nbformat_minor": 5
}
