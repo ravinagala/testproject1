{
 "cells": [
  {
   "cell_type": "markdown",
   "id": "52a27829-2bf7-4647-be68-478cef2ad081",
   "metadata": {},
   "source": [
    "### CLASSIFICATION CASE STUDY - ENSEMBLE MODELS"
   ]
  },
  {
   "cell_type": "markdown",
   "id": "4d3f1495-a9a3-4edb-a4b9-1b9c0276804d",
   "metadata": {},
   "source": [
    "### IMPORT LIBRARIES"
   ]
  },
  {
   "cell_type": "code",
   "execution_count": 1,
   "id": "0f666bce-47ee-4b0f-bb60-791df07dc0a5",
   "metadata": {},
   "outputs": [],
   "source": [
    "# IMPORTING REQUIRED PACKAGES\n",
    "import pandas as pd\n",
    "import numpy as np\n",
    "import seaborn as sns\n",
    "import matplotlib.pyplot as plt\n",
    "sns.set(style = \"white\")"
   ]
  },
  {
   "cell_type": "markdown",
   "id": "992b437f-c41f-45c3-8308-336a68769bf5",
   "metadata": {},
   "source": [
    "### LOAD DATA FROM FINAL CSV"
   ]
  },
  {
   "cell_type": "code",
   "execution_count": 2,
   "id": "79c66f73-02e4-4dc1-8873-885cac81a8ea",
   "metadata": {},
   "outputs": [],
   "source": [
    "train = pd.read_csv(\"final_train.csv\")"
   ]
  },
  {
   "cell_type": "code",
   "execution_count": 3,
   "id": "6c45a5a2-6c30-4d82-b77f-bd886a277947",
   "metadata": {},
   "outputs": [],
   "source": [
    "X = train.drop(columns = [\"LoanStatus\"])\n",
    "y = train.LoanStatus"
   ]
  },
  {
   "cell_type": "code",
   "execution_count": 4,
   "id": "952014cd-fbe7-441f-bd6c-a5e59266c424",
   "metadata": {},
   "outputs": [],
   "source": [
    "X = pd.get_dummies(X)"
   ]
  },
  {
   "cell_type": "code",
   "execution_count": 5,
   "id": "5a470459-76c4-44a4-b7f5-ffc1a30bca3a",
   "metadata": {},
   "outputs": [
    {
     "data": {
      "text/html": [
       "<div>\n",
       "<style scoped>\n",
       "    .dataframe tbody tr th:only-of-type {\n",
       "        vertical-align: middle;\n",
       "    }\n",
       "\n",
       "    .dataframe tbody tr th {\n",
       "        vertical-align: top;\n",
       "    }\n",
       "\n",
       "    .dataframe thead th {\n",
       "        text-align: right;\n",
       "    }\n",
       "</style>\n",
       "<table border=\"1\" class=\"dataframe\">\n",
       "  <thead>\n",
       "    <tr style=\"text-align: right;\">\n",
       "      <th></th>\n",
       "      <th>Dependents</th>\n",
       "      <th>LoanAmountTerm</th>\n",
       "      <th>CreditHistory</th>\n",
       "      <th>LoanAmountLog</th>\n",
       "      <th>IncomeLog</th>\n",
       "      <th>Gender_Female</th>\n",
       "      <th>Gender_Male</th>\n",
       "      <th>Married_No</th>\n",
       "      <th>Married_Yes</th>\n",
       "      <th>Education_Graduate</th>\n",
       "      <th>Education_Not Graduate</th>\n",
       "      <th>SelfEmployed_No</th>\n",
       "      <th>SelfEmployed_Yes</th>\n",
       "      <th>PropertyArea_Rural</th>\n",
       "      <th>PropertyArea_Semiurban</th>\n",
       "      <th>PropertyArea_Urban</th>\n",
       "    </tr>\n",
       "  </thead>\n",
       "  <tbody>\n",
       "    <tr>\n",
       "      <th>0</th>\n",
       "      <td>0</td>\n",
       "      <td>360.0</td>\n",
       "      <td>1.0</td>\n",
       "      <td>4.844187</td>\n",
       "      <td>8.674026</td>\n",
       "      <td>0</td>\n",
       "      <td>1</td>\n",
       "      <td>1</td>\n",
       "      <td>0</td>\n",
       "      <td>1</td>\n",
       "      <td>0</td>\n",
       "      <td>1</td>\n",
       "      <td>0</td>\n",
       "      <td>0</td>\n",
       "      <td>0</td>\n",
       "      <td>1</td>\n",
       "    </tr>\n",
       "    <tr>\n",
       "      <th>1</th>\n",
       "      <td>1</td>\n",
       "      <td>360.0</td>\n",
       "      <td>1.0</td>\n",
       "      <td>4.852030</td>\n",
       "      <td>8.714568</td>\n",
       "      <td>0</td>\n",
       "      <td>1</td>\n",
       "      <td>0</td>\n",
       "      <td>1</td>\n",
       "      <td>1</td>\n",
       "      <td>0</td>\n",
       "      <td>1</td>\n",
       "      <td>0</td>\n",
       "      <td>1</td>\n",
       "      <td>0</td>\n",
       "      <td>0</td>\n",
       "    </tr>\n",
       "    <tr>\n",
       "      <th>2</th>\n",
       "      <td>0</td>\n",
       "      <td>360.0</td>\n",
       "      <td>1.0</td>\n",
       "      <td>4.189655</td>\n",
       "      <td>8.006368</td>\n",
       "      <td>0</td>\n",
       "      <td>1</td>\n",
       "      <td>0</td>\n",
       "      <td>1</td>\n",
       "      <td>1</td>\n",
       "      <td>0</td>\n",
       "      <td>0</td>\n",
       "      <td>1</td>\n",
       "      <td>0</td>\n",
       "      <td>0</td>\n",
       "      <td>1</td>\n",
       "    </tr>\n",
       "    <tr>\n",
       "      <th>3</th>\n",
       "      <td>0</td>\n",
       "      <td>360.0</td>\n",
       "      <td>1.0</td>\n",
       "      <td>4.787492</td>\n",
       "      <td>8.505323</td>\n",
       "      <td>0</td>\n",
       "      <td>1</td>\n",
       "      <td>0</td>\n",
       "      <td>1</td>\n",
       "      <td>0</td>\n",
       "      <td>1</td>\n",
       "      <td>1</td>\n",
       "      <td>0</td>\n",
       "      <td>0</td>\n",
       "      <td>0</td>\n",
       "      <td>1</td>\n",
       "    </tr>\n",
       "    <tr>\n",
       "      <th>4</th>\n",
       "      <td>0</td>\n",
       "      <td>360.0</td>\n",
       "      <td>1.0</td>\n",
       "      <td>4.948760</td>\n",
       "      <td>8.699515</td>\n",
       "      <td>0</td>\n",
       "      <td>1</td>\n",
       "      <td>1</td>\n",
       "      <td>0</td>\n",
       "      <td>1</td>\n",
       "      <td>0</td>\n",
       "      <td>1</td>\n",
       "      <td>0</td>\n",
       "      <td>0</td>\n",
       "      <td>0</td>\n",
       "      <td>1</td>\n",
       "    </tr>\n",
       "    <tr>\n",
       "      <th>...</th>\n",
       "      <td>...</td>\n",
       "      <td>...</td>\n",
       "      <td>...</td>\n",
       "      <td>...</td>\n",
       "      <td>...</td>\n",
       "      <td>...</td>\n",
       "      <td>...</td>\n",
       "      <td>...</td>\n",
       "      <td>...</td>\n",
       "      <td>...</td>\n",
       "      <td>...</td>\n",
       "      <td>...</td>\n",
       "      <td>...</td>\n",
       "      <td>...</td>\n",
       "      <td>...</td>\n",
       "      <td>...</td>\n",
       "    </tr>\n",
       "    <tr>\n",
       "      <th>559</th>\n",
       "      <td>0</td>\n",
       "      <td>360.0</td>\n",
       "      <td>1.0</td>\n",
       "      <td>4.262680</td>\n",
       "      <td>7.972466</td>\n",
       "      <td>1</td>\n",
       "      <td>0</td>\n",
       "      <td>1</td>\n",
       "      <td>0</td>\n",
       "      <td>1</td>\n",
       "      <td>0</td>\n",
       "      <td>1</td>\n",
       "      <td>0</td>\n",
       "      <td>1</td>\n",
       "      <td>0</td>\n",
       "      <td>0</td>\n",
       "    </tr>\n",
       "    <tr>\n",
       "      <th>560</th>\n",
       "      <td>3</td>\n",
       "      <td>180.0</td>\n",
       "      <td>1.0</td>\n",
       "      <td>3.688879</td>\n",
       "      <td>8.320205</td>\n",
       "      <td>0</td>\n",
       "      <td>1</td>\n",
       "      <td>0</td>\n",
       "      <td>1</td>\n",
       "      <td>1</td>\n",
       "      <td>0</td>\n",
       "      <td>1</td>\n",
       "      <td>0</td>\n",
       "      <td>1</td>\n",
       "      <td>0</td>\n",
       "      <td>0</td>\n",
       "    </tr>\n",
       "    <tr>\n",
       "      <th>561</th>\n",
       "      <td>1</td>\n",
       "      <td>360.0</td>\n",
       "      <td>1.0</td>\n",
       "      <td>5.533389</td>\n",
       "      <td>9.025456</td>\n",
       "      <td>0</td>\n",
       "      <td>1</td>\n",
       "      <td>0</td>\n",
       "      <td>1</td>\n",
       "      <td>1</td>\n",
       "      <td>0</td>\n",
       "      <td>1</td>\n",
       "      <td>0</td>\n",
       "      <td>0</td>\n",
       "      <td>0</td>\n",
       "      <td>1</td>\n",
       "    </tr>\n",
       "    <tr>\n",
       "      <th>562</th>\n",
       "      <td>2</td>\n",
       "      <td>360.0</td>\n",
       "      <td>1.0</td>\n",
       "      <td>5.231109</td>\n",
       "      <td>8.933664</td>\n",
       "      <td>0</td>\n",
       "      <td>1</td>\n",
       "      <td>0</td>\n",
       "      <td>1</td>\n",
       "      <td>1</td>\n",
       "      <td>0</td>\n",
       "      <td>1</td>\n",
       "      <td>0</td>\n",
       "      <td>0</td>\n",
       "      <td>0</td>\n",
       "      <td>1</td>\n",
       "    </tr>\n",
       "    <tr>\n",
       "      <th>563</th>\n",
       "      <td>0</td>\n",
       "      <td>360.0</td>\n",
       "      <td>0.0</td>\n",
       "      <td>4.890349</td>\n",
       "      <td>8.430109</td>\n",
       "      <td>1</td>\n",
       "      <td>0</td>\n",
       "      <td>1</td>\n",
       "      <td>0</td>\n",
       "      <td>1</td>\n",
       "      <td>0</td>\n",
       "      <td>0</td>\n",
       "      <td>1</td>\n",
       "      <td>0</td>\n",
       "      <td>1</td>\n",
       "      <td>0</td>\n",
       "    </tr>\n",
       "  </tbody>\n",
       "</table>\n",
       "<p>564 rows × 16 columns</p>\n",
       "</div>"
      ],
      "text/plain": [
       "     Dependents  LoanAmountTerm  CreditHistory  LoanAmountLog  IncomeLog  \\\n",
       "0             0           360.0            1.0       4.844187   8.674026   \n",
       "1             1           360.0            1.0       4.852030   8.714568   \n",
       "2             0           360.0            1.0       4.189655   8.006368   \n",
       "3             0           360.0            1.0       4.787492   8.505323   \n",
       "4             0           360.0            1.0       4.948760   8.699515   \n",
       "..          ...             ...            ...            ...        ...   \n",
       "559           0           360.0            1.0       4.262680   7.972466   \n",
       "560           3           180.0            1.0       3.688879   8.320205   \n",
       "561           1           360.0            1.0       5.533389   9.025456   \n",
       "562           2           360.0            1.0       5.231109   8.933664   \n",
       "563           0           360.0            0.0       4.890349   8.430109   \n",
       "\n",
       "     Gender_Female  Gender_Male  Married_No  Married_Yes  Education_Graduate  \\\n",
       "0                0            1           1            0                   1   \n",
       "1                0            1           0            1                   1   \n",
       "2                0            1           0            1                   1   \n",
       "3                0            1           0            1                   0   \n",
       "4                0            1           1            0                   1   \n",
       "..             ...          ...         ...          ...                 ...   \n",
       "559              1            0           1            0                   1   \n",
       "560              0            1           0            1                   1   \n",
       "561              0            1           0            1                   1   \n",
       "562              0            1           0            1                   1   \n",
       "563              1            0           1            0                   1   \n",
       "\n",
       "     Education_Not Graduate  SelfEmployed_No  SelfEmployed_Yes  \\\n",
       "0                         0                1                 0   \n",
       "1                         0                1                 0   \n",
       "2                         0                0                 1   \n",
       "3                         1                1                 0   \n",
       "4                         0                1                 0   \n",
       "..                      ...              ...               ...   \n",
       "559                       0                1                 0   \n",
       "560                       0                1                 0   \n",
       "561                       0                1                 0   \n",
       "562                       0                1                 0   \n",
       "563                       0                0                 1   \n",
       "\n",
       "     PropertyArea_Rural  PropertyArea_Semiurban  PropertyArea_Urban  \n",
       "0                     0                       0                   1  \n",
       "1                     1                       0                   0  \n",
       "2                     0                       0                   1  \n",
       "3                     0                       0                   1  \n",
       "4                     0                       0                   1  \n",
       "..                  ...                     ...                 ...  \n",
       "559                   1                       0                   0  \n",
       "560                   1                       0                   0  \n",
       "561                   0                       0                   1  \n",
       "562                   0                       0                   1  \n",
       "563                   0                       1                   0  \n",
       "\n",
       "[564 rows x 16 columns]"
      ]
     },
     "execution_count": 5,
     "metadata": {},
     "output_type": "execute_result"
    }
   ],
   "source": [
    "X"
   ]
  },
  {
   "cell_type": "code",
   "execution_count": 6,
   "id": "e88cad99-6678-4d00-82d4-b3afc1a31329",
   "metadata": {},
   "outputs": [
    {
     "data": {
      "text/plain": [
       "Index(['Dependents', 'LoanAmountTerm', 'CreditHistory', 'LoanAmountLog',\n",
       "       'IncomeLog', 'Gender_Female', 'Gender_Male', 'Married_No',\n",
       "       'Married_Yes', 'Education_Graduate', 'Education_Not Graduate',\n",
       "       'SelfEmployed_No', 'SelfEmployed_Yes', 'PropertyArea_Rural',\n",
       "       'PropertyArea_Semiurban', 'PropertyArea_Urban'],\n",
       "      dtype='object')"
      ]
     },
     "execution_count": 6,
     "metadata": {},
     "output_type": "execute_result"
    }
   ],
   "source": [
    "X.columns"
   ]
  },
  {
   "cell_type": "markdown",
   "id": "74269b0a-58b2-4f41-9030-58bcddeca96a",
   "metadata": {},
   "source": [
    "### SPLIT DATA INTO TRAIN AND TEST"
   ]
  },
  {
   "cell_type": "code",
   "execution_count": 7,
   "id": "d3f6c125-4bee-4e8d-a67b-8e9ff42d641a",
   "metadata": {},
   "outputs": [],
   "source": [
    "from sklearn.model_selection import train_test_split\n",
    "from sklearn.metrics import accuracy_score, classification_report, confusion_matrix\n",
    "X_train, X_test, y_train, y_test = train_test_split(X, y, test_size = 0.2, random_state = 0)"
   ]
  },
  {
   "cell_type": "markdown",
   "id": "815d2b28-1919-46ea-90ac-d70ca8c9d346",
   "metadata": {},
   "source": [
    "### BAGGING - RANDOM FOREST CLASSIFIER"
   ]
  },
  {
   "cell_type": "code",
   "execution_count": 8,
   "id": "36397709-b852-4a51-a94f-d35877af9ba2",
   "metadata": {},
   "outputs": [],
   "source": [
    "from sklearn.tree import export_text\n",
    "from sklearn.ensemble import RandomForestClassifier"
   ]
  },
  {
   "cell_type": "code",
   "execution_count": 9,
   "id": "a50ecd37-ae16-4ffe-a2cf-8d2b41b8894b",
   "metadata": {},
   "outputs": [
    {
     "data": {
      "text/plain": [
       "RandomForestClassifier(max_depth=3, n_estimators=3, random_state=10)"
      ]
     },
     "execution_count": 9,
     "metadata": {},
     "output_type": "execute_result"
    }
   ],
   "source": [
    "model = RandomForestClassifier(n_estimators = 3, max_depth = 3, random_state = 10)\n",
    "model.fit(X_train, y_train)"
   ]
  },
  {
   "cell_type": "code",
   "execution_count": 10,
   "id": "4312fcc8-f57d-4ea0-84f2-5af65ae3eb23",
   "metadata": {},
   "outputs": [
    {
     "data": {
      "text/plain": [
       "0.8226164079822617"
      ]
     },
     "execution_count": 10,
     "metadata": {},
     "output_type": "execute_result"
    }
   ],
   "source": [
    "model.score(X_train, y_train)"
   ]
  },
  {
   "cell_type": "code",
   "execution_count": 11,
   "id": "5659904d-ce4c-41d2-929b-5b7f64cc5ad5",
   "metadata": {},
   "outputs": [],
   "source": [
    "y_pred = model.predict(X_test)"
   ]
  },
  {
   "cell_type": "code",
   "execution_count": 12,
   "id": "b795f842-1db9-406d-ade9-1523042b49ea",
   "metadata": {},
   "outputs": [
    {
     "data": {
      "text/plain": [
       "0.7876106194690266"
      ]
     },
     "execution_count": 12,
     "metadata": {},
     "output_type": "execute_result"
    }
   ],
   "source": [
    "accuracy_score(y_test, y_pred)"
   ]
  },
  {
   "cell_type": "code",
   "execution_count": 13,
   "id": "2a0563bf-69bb-4fdf-965d-11da1459a12d",
   "metadata": {},
   "outputs": [
    {
     "name": "stdout",
     "output_type": "stream",
     "text": [
      "Tree   : 1\n",
      "|--- Education_Graduate <= 0.50\n",
      "|   |--- LoanAmountLog <= 4.89\n",
      "|   |   |--- IncomeLog <= 8.88\n",
      "|   |   |   |--- class: 1.0\n",
      "|   |   |--- IncomeLog >  8.88\n",
      "|   |   |   |--- class: 0.0\n",
      "|   |--- LoanAmountLog >  4.89\n",
      "|   |   |--- IncomeLog <= 9.07\n",
      "|   |   |   |--- class: 0.0\n",
      "|   |   |--- IncomeLog >  9.07\n",
      "|   |   |   |--- class: 1.0\n",
      "|--- Education_Graduate >  0.50\n",
      "|   |--- Married_Yes <= 0.50\n",
      "|   |   |--- CreditHistory <= 0.50\n",
      "|   |   |   |--- class: 0.0\n",
      "|   |   |--- CreditHistory >  0.50\n",
      "|   |   |   |--- class: 1.0\n",
      "|   |--- Married_Yes >  0.50\n",
      "|   |   |--- PropertyArea_Semiurban <= 0.50\n",
      "|   |   |   |--- class: 1.0\n",
      "|   |   |--- PropertyArea_Semiurban >  0.50\n",
      "|   |   |   |--- class: 1.0\n",
      "\n",
      "Tree   : 2\n",
      "|--- CreditHistory <= 0.50\n",
      "|   |--- LoanAmountTerm <= 240.00\n",
      "|   |   |--- Dependents <= 2.50\n",
      "|   |   |   |--- class: 0.0\n",
      "|   |   |--- Dependents >  2.50\n",
      "|   |   |   |--- class: 1.0\n",
      "|   |--- LoanAmountTerm >  240.00\n",
      "|   |   |--- Married_Yes <= 0.50\n",
      "|   |   |   |--- class: 0.0\n",
      "|   |   |--- Married_Yes >  0.50\n",
      "|   |   |   |--- class: 0.0\n",
      "|--- CreditHistory >  0.50\n",
      "|   |--- PropertyArea_Rural <= 0.50\n",
      "|   |   |--- LoanAmountLog <= 2.71\n",
      "|   |   |   |--- class: 0.0\n",
      "|   |   |--- LoanAmountLog >  2.71\n",
      "|   |   |   |--- class: 1.0\n",
      "|   |--- PropertyArea_Rural >  0.50\n",
      "|   |   |--- Education_Not Graduate <= 0.50\n",
      "|   |   |   |--- class: 1.0\n",
      "|   |   |--- Education_Not Graduate >  0.50\n",
      "|   |   |   |--- class: 1.0\n",
      "\n",
      "Tree   : 3\n",
      "|--- Education_Graduate <= 0.50\n",
      "|   |--- CreditHistory <= 0.50\n",
      "|   |   |--- Dependents <= 0.50\n",
      "|   |   |   |--- class: 0.0\n",
      "|   |   |--- Dependents >  0.50\n",
      "|   |   |   |--- class: 0.0\n",
      "|   |--- CreditHistory >  0.50\n",
      "|   |   |--- LoanAmountTerm <= 108.00\n",
      "|   |   |   |--- class: 0.0\n",
      "|   |   |--- LoanAmountTerm >  108.00\n",
      "|   |   |   |--- class: 1.0\n",
      "|--- Education_Graduate >  0.50\n",
      "|   |--- PropertyArea_Rural <= 0.50\n",
      "|   |   |--- CreditHistory <= 0.50\n",
      "|   |   |   |--- class: 0.0\n",
      "|   |   |--- CreditHistory >  0.50\n",
      "|   |   |   |--- class: 1.0\n",
      "|   |--- PropertyArea_Rural >  0.50\n",
      "|   |   |--- SelfEmployed_Yes <= 0.50\n",
      "|   |   |   |--- class: 1.0\n",
      "|   |   |--- SelfEmployed_Yes >  0.50\n",
      "|   |   |   |--- class: 1.0\n",
      "\n"
     ]
    }
   ],
   "source": [
    "# PRINT INTERNAL DECISION TREES\n",
    "for count, tree in enumerate(model.estimators_):\n",
    "    # PRINT TREE FOR EACH CLASSIFIER\n",
    "    tree_rules = export_text(tree, feature_names = list(X_train.columns))\n",
    "    print(\"Tree   :\", count + 1)\n",
    "    print(tree_rules)"
   ]
  },
  {
   "cell_type": "markdown",
   "id": "b0d429bb-391b-4b97-a6c8-890a5697dc6c",
   "metadata": {},
   "source": [
    "# BOOSTING - GRADIENTBOOSTINGCLASSIFIER"
   ]
  },
  {
   "cell_type": "code",
   "execution_count": 14,
   "id": "822ec308-74c1-4c19-83cc-a12b3efe5ad1",
   "metadata": {},
   "outputs": [],
   "source": [
    "from sklearn.ensemble import GradientBoostingClassifier"
   ]
  },
  {
   "cell_type": "code",
   "execution_count": 15,
   "id": "b951f6e5-73e0-4a4d-85d3-df25cb1f6ec3",
   "metadata": {},
   "outputs": [
    {
     "data": {
      "text/plain": [
       "GradientBoostingClassifier(max_depth=10, n_estimators=15)"
      ]
     },
     "execution_count": 15,
     "metadata": {},
     "output_type": "execute_result"
    }
   ],
   "source": [
    "model = GradientBoostingClassifier(n_estimators = 15, max_depth = 10)\n",
    "model.fit(X_train, y_train)"
   ]
  },
  {
   "cell_type": "code",
   "execution_count": 16,
   "id": "268cc5f8-e806-4ef7-bdd5-98eef92e44db",
   "metadata": {},
   "outputs": [
    {
     "data": {
      "text/plain": [
       "0.9356984478935698"
      ]
     },
     "execution_count": 16,
     "metadata": {},
     "output_type": "execute_result"
    }
   ],
   "source": [
    "model.score(X_train, y_train)"
   ]
  },
  {
   "cell_type": "code",
   "execution_count": 17,
   "id": "234fe7dd-bc87-45e3-b85f-3fa9039b9f51",
   "metadata": {},
   "outputs": [],
   "source": [
    "y_pred = model.predict(X_test)"
   ]
  },
  {
   "cell_type": "code",
   "execution_count": 18,
   "id": "a0c19713-be0e-43c6-8d8d-92ea543f164d",
   "metadata": {},
   "outputs": [
    {
     "data": {
      "text/plain": [
       "0.7699115044247787"
      ]
     },
     "execution_count": 18,
     "metadata": {},
     "output_type": "execute_result"
    }
   ],
   "source": [
    "accuracy_score(y_test, y_pred)"
   ]
  },
  {
   "cell_type": "code",
   "execution_count": 19,
   "id": "87e39143-0745-4988-a360-96c72bd939b5",
   "metadata": {},
   "outputs": [
    {
     "data": {
      "text/plain": [
       "array([[14, 21],\n",
       "       [ 5, 73]], dtype=int64)"
      ]
     },
     "execution_count": 19,
     "metadata": {},
     "output_type": "execute_result"
    }
   ],
   "source": [
    "confusion_matrix(y_test, y_pred)"
   ]
  },
  {
   "cell_type": "code",
   "execution_count": 20,
   "id": "da1a0480-3ec8-46b0-aee6-c0476c4c4ed9",
   "metadata": {},
   "outputs": [
    {
     "name": "stdout",
     "output_type": "stream",
     "text": [
      "              precision    recall  f1-score   support\n",
      "\n",
      "           0       0.74      0.40      0.52        35\n",
      "           1       0.78      0.94      0.85        78\n",
      "\n",
      "    accuracy                           0.77       113\n",
      "   macro avg       0.76      0.67      0.68       113\n",
      "weighted avg       0.76      0.77      0.75       113\n",
      "\n"
     ]
    }
   ],
   "source": [
    "print(classification_report(y_test, y_pred))"
   ]
  },
  {
   "cell_type": "code",
   "execution_count": 21,
   "id": "1603f844-81c1-40ab-9cfa-7f91e9845fe3",
   "metadata": {},
   "outputs": [],
   "source": [
    "errors = {}\n",
    "tree_counts = [3, 4, 5, 8, 10, 15, 20, 25]\n",
    "for count in tree_counts:\n",
    "    model = GradientBoostingClassifier(n_estimators = count)\n",
    "    model.fit(X_train, y_train)\n",
    "    y_pred = model.predict(X_test)\n",
    "    score = accuracy_score(y_test, y_pred)\n",
    "    errors[count] = 1 - score  # ERRORS"
   ]
  },
  {
   "cell_type": "code",
   "execution_count": 22,
   "id": "ebd08faf-d5ba-4a63-ba08-ac3878ddd018",
   "metadata": {},
   "outputs": [
    {
     "data": {
      "text/plain": [
       "{3: 0.2566371681415929,\n",
       " 4: 0.22123893805309736,\n",
       " 5: 0.22123893805309736,\n",
       " 8: 0.22123893805309736,\n",
       " 10: 0.22123893805309736,\n",
       " 15: 0.23008849557522126,\n",
       " 20: 0.23008849557522126,\n",
       " 25: 0.22123893805309736}"
      ]
     },
     "execution_count": 22,
     "metadata": {},
     "output_type": "execute_result"
    }
   ],
   "source": [
    "errors"
   ]
  },
  {
   "cell_type": "code",
   "execution_count": 23,
   "id": "276d57c5-9228-4ea0-8346-581acc63acc5",
   "metadata": {},
   "outputs": [
    {
     "data": {
      "text/plain": [
       "Text(0, 0.5, 'Error')"
      ]
     },
     "execution_count": 23,
     "metadata": {},
     "output_type": "execute_result"
    },
    {
     "data": {
      "image/png": "[encoded data removed]",
      "text/plain": [
       "<Figure size 432x288 with 1 Axes>"
      ]
     },
     "metadata": {},
     "output_type": "display_data"
    }
   ],
   "source": [
    "# DRAW GRAPH TO SHOW ERROR RATE AND NUMBER OF TREES\n",
    "plt.plot(list(errors.keys()), list(errors.values()))\n",
    "plt.xlabel(\"No. of Trees\")\n",
    "plt.ylabel(\"Error\")"
   ]
  },
  {
   "cell_type": "markdown",
   "id": "e6ee8a54-dd9f-4ad9-b601-f6fca5bd73b9",
   "metadata": {},
   "source": [
    "### STACKING - STACKINGCLASSIFIER"
   ]
  },
  {
   "cell_type": "code",
   "execution_count": 24,
   "id": "7eb34714-a8fa-4b21-aede-81782d7f4d6c",
   "metadata": {},
   "outputs": [],
   "source": [
    "from sklearn.ensemble import StackingClassifier\n",
    "from sklearn.tree import DecisionTreeClassifier\n",
    "from sklearn.neighbors import KNeighborsClassifier\n",
    "from sklearn.linear_model import LogisticRegression\n",
    "from sklearn.naive_bayes import GaussianNB\n",
    "from sklearn.svm import SVC"
   ]
  },
  {
   "cell_type": "code",
   "execution_count": 25,
   "id": "7ecab6a8-fc19-48d0-a6d1-b29a23a8c536",
   "metadata": {},
   "outputs": [],
   "source": [
    "estimators = [\n",
    "    ('lr',  LogisticRegression()),\n",
    "    ('knn', KNeighborsClassifier(n_neighbors=5)),\n",
    "    ('svc', SVC()),\n",
    "]"
   ]
  },
  {
   "cell_type": "code",
   "execution_count": 26,
   "id": "94f0f2ff-7143-4dcd-bb56-36a984f0a7c9",
   "metadata": {},
   "outputs": [],
   "source": [
    "clf = StackingClassifier(estimators=estimators, final_estimator=DecisionTreeClassifier())"
   ]
  },
  {
   "cell_type": "code",
   "execution_count": 27,
   "id": "89ccc567-b4f5-48f4-b082-1d7a08ff5eff",
   "metadata": {},
   "outputs": [],
   "source": [
    "from sklearn.model_selection import train_test_split\n",
    "X_train, X_test, y_train, y_test = train_test_split(X, y,random_state=1)"
   ]
  },
  {
   "cell_type": "code",
   "execution_count": 28,
   "id": "91458c6a-2e0a-4ac5-90d9-e941c688b995",
   "metadata": {},
   "outputs": [],
   "source": [
    "from sklearn.preprocessing import StandardScaler\n",
    "ss = StandardScaler()\n",
    "X_train_scaled = ss.fit_transform(X_train)"
   ]
  },
  {
   "cell_type": "code",
   "execution_count": 29,
   "id": "c9f9eec3-fbda-430f-b2f8-5a157a3dd5fe",
   "metadata": {},
   "outputs": [],
   "source": [
    "X_test_scaled = ss.transform(X_test)"
   ]
  },
  {
   "cell_type": "code",
   "execution_count": 30,
   "id": "ae3316bc-e9e3-4e88-ac8d-d8b7499d0a35",
   "metadata": {},
   "outputs": [
    {
     "data": {
      "text/plain": [
       "StackingClassifier(estimators=[('lr', LogisticRegression()),\n",
       "                               ('knn', KNeighborsClassifier()),\n",
       "                               ('svc', SVC())],\n",
       "                   final_estimator=DecisionTreeClassifier())"
      ]
     },
     "execution_count": 30,
     "metadata": {},
     "output_type": "execute_result"
    }
   ],
   "source": [
    "clf.fit(X_train_scaled, y_train)"
   ]
  },
  {
   "cell_type": "code",
   "execution_count": 31,
   "id": "d467e77f-7c9a-4216-aa9a-f06902022fbf",
   "metadata": {},
   "outputs": [
    {
     "data": {
      "text/plain": [
       "0.7163120567375887"
      ]
     },
     "execution_count": 31,
     "metadata": {},
     "output_type": "execute_result"
    }
   ],
   "source": [
    "clf.score(X_test_scaled, y_test)"
   ]
  },
  {
   "cell_type": "code",
   "execution_count": 32,
   "id": "adcf343b-f7e9-4b97-a9ae-c35b97dcf3be",
   "metadata": {},
   "outputs": [],
   "source": [
    "from sklearn.ensemble import StackingClassifier\n",
    "from sklearn.linear_model import LogisticRegression\n",
    "from sklearn.tree import DecisionTreeClassifier\n",
    "from sklearn.neighbors import KNeighborsClassifier\n",
    "from sklearn.naive_bayes import GaussianNB\n",
    "from sklearn.svm import SVC"
   ]
  },
  {
   "cell_type": "code",
   "execution_count": 33,
   "id": "11f2df93-7784-4f35-8034-e6a61eefff0a",
   "metadata": {},
   "outputs": [],
   "source": [
    "estimators = [\n",
    "    ('lr',  LogisticRegression()),\n",
    "    ('knn', KNeighborsClassifier(n_neighbors=4)),\n",
    "    ('svc', SVC()),\n",
    "]"
   ]
  },
  {
   "cell_type": "code",
   "execution_count": 34,
   "id": "ced9118a-0174-407f-af29-d5e702a6823e",
   "metadata": {},
   "outputs": [],
   "source": [
    "clf = StackingClassifier(estimators=estimators, final_estimator=DecisionTreeClassifier())"
   ]
  },
  {
   "cell_type": "code",
   "execution_count": 35,
   "id": "e19a3647-742b-4b35-af32-df8779e0f5c9",
   "metadata": {},
   "outputs": [],
   "source": [
    "from sklearn.model_selection import train_test_split\n",
    "X_train, X_test, y_train, y_test = train_test_split(X, y,random_state=1)"
   ]
  },
  {
   "cell_type": "code",
   "execution_count": 36,
   "id": "8427dc04-efdd-422f-addb-84855582db93",
   "metadata": {},
   "outputs": [],
   "source": [
    "from sklearn.preprocessing import StandardScaler\n",
    "ss = StandardScaler()\n",
    "X_train_scaled = ss.fit_transform(X_train)"
   ]
  },
  {
   "cell_type": "code",
   "execution_count": 37,
   "id": "d4793184-ca69-4a59-a59a-ccdd291948bf",
   "metadata": {},
   "outputs": [],
   "source": [
    "X_test_scaled = ss.transform(X_test)"
   ]
  },
  {
   "cell_type": "code",
   "execution_count": 38,
   "id": "5d30dfaa-81e3-4c8a-aa88-5c2718a0c9fc",
   "metadata": {},
   "outputs": [
    {
     "data": {
      "text/plain": [
       "StackingClassifier(estimators=[('lr', LogisticRegression()),\n",
       "                               ('knn', KNeighborsClassifier(n_neighbors=4)),\n",
       "                               ('svc', SVC())],\n",
       "                   final_estimator=DecisionTreeClassifier())"
      ]
     },
     "execution_count": 38,
     "metadata": {},
     "output_type": "execute_result"
    }
   ],
   "source": [
    "clf.fit(X_train_scaled, y_train)"
   ]
  },
  {
   "cell_type": "code",
   "execution_count": 39,
   "id": "ba2dcb6b-00c4-4244-a38c-8490c95c42b8",
   "metadata": {},
   "outputs": [
    {
     "data": {
      "text/plain": [
       "0.7304964539007093"
      ]
     },
     "execution_count": 39,
     "metadata": {},
     "output_type": "execute_result"
    }
   ],
   "source": [
    "clf.score(X_test_scaled, y_test)"
   ]
  },
  {
   "cell_type": "code",
   "execution_count": null,
   "id": "d8f435ed-1212-41e2-b704-66128a130df1",
   "metadata": {},
   "outputs": [],
   "source": []
  }
 ],
 "metadata": {
  "kernelspec": {
   "display_name": "Python 3 (ipykernel)",
   "language": "python",
   "name": "python3"
  },
  "language_info": {
   "codemirror_mode": {
    "name": "ipython",
    "version": 3
   },
   "file_extension": ".py",
   "mimetype": "text/x-python",
   "name": "python",
   "nbconvert_exporter": "python",
   "pygments_lexer": "ipython3",
   "version": "3.9.12"
  }
 },
 "nbformat": 4,
 "nbformat_minor": 5
}
