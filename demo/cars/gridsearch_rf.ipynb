{
 "cells": [
  {
   "cell_type": "code",
   "execution_count": 1,
   "id": "75b17d62-ee30-4e34-8a44-1521806c051b",
   "metadata": {},
   "outputs": [],
   "source": [
    "# import pandas library\n",
    "import pandas as pd\n",
    "import numpy as np\n",
    "import matplotlib.pyplot as plt\n",
    "import seaborn as sns"
   ]
  },
  {
   "cell_type": "markdown",
   "id": "b5d4b147-0afc-4950-a127-f97a29636d96",
   "metadata": {},
   "source": [
    "### SEARCH FOR BEST HYPERPARAMETERS USING GRIDSEARCH AND RANDOMFORESTREGRESSOR"
   ]
  },
  {
   "cell_type": "code",
   "execution_count": 2,
   "id": "055fd644-497a-4381-a210-95c3b6246f4f",
   "metadata": {},
   "outputs": [],
   "source": [
    "cars = pd.read_csv(\"final_cars.csv\")"
   ]
  },
  {
   "cell_type": "code",
   "execution_count": 3,
   "id": "daeb6805-95c9-44bd-8a89-d24b6dd34076",
   "metadata": {},
   "outputs": [],
   "source": [
    "# CREATE X AND y\n",
    "y = cars[\"price\"]\n",
    "X = cars.drop(columns = [\"price\"])"
   ]
  },
  {
   "cell_type": "code",
   "execution_count": 4,
   "id": "b6ea55a0-fc4f-45c8-acb3-b475082ea29f",
   "metadata": {},
   "outputs": [],
   "source": [
    "X = pd.get_dummies(X)"
   ]
  },
  {
   "cell_type": "code",
   "execution_count": 5,
   "id": "940284f3-b1b0-48e5-841b-9511ab2354cb",
   "metadata": {},
   "outputs": [
    {
     "data": {
      "text/plain": [
       "(201, 37)"
      ]
     },
     "execution_count": 5,
     "metadata": {},
     "output_type": "execute_result"
    }
   ],
   "source": [
    "X.shape"
   ]
  },
  {
   "cell_type": "code",
   "execution_count": 6,
   "id": "2f230eea-8d5d-49cc-9bc6-b4dc3f9b8f1f",
   "metadata": {},
   "outputs": [],
   "source": [
    "from sklearn.model_selection import train_test_split\n",
    "from sklearn.ensemble import RandomForestRegressor\n",
    "from sklearn.model_selection import GridSearchCV"
   ]
  },
  {
   "cell_type": "code",
   "execution_count": 7,
   "id": "f04ce72e-00f1-4c8d-960e-d3dc92483a8a",
   "metadata": {},
   "outputs": [],
   "source": [
    "X_train, X_test, y_train, y_test = train_test_split(X,y, test_size=0.2, random_state=99)"
   ]
  },
  {
   "cell_type": "code",
   "execution_count": 16,
   "id": "c8ea93bf-72ea-4c5c-895a-7e71b15cbb16",
   "metadata": {},
   "outputs": [],
   "source": [
    "model = RandomForestRegressor()\n",
    "params_grid  = [{'n_estimators' : [10,20,30, 40, 50] , 'max_depth' :[2,3,4, 6,8]}]"
   ]
  },
  {
   "cell_type": "code",
   "execution_count": 17,
   "id": "fa2faac3-ea1a-4298-bd8f-c8deec99e10b",
   "metadata": {},
   "outputs": [
    {
     "data": {
      "text/plain": [
       "GridSearchCV(cv=5, estimator=RandomForestRegressor(),\n",
       "             param_grid=[{'max_depth': [2, 3, 4, 6, 8],\n",
       "                          'n_estimators': [10, 20, 30, 40, 50]}])"
      ]
     },
     "execution_count": 17,
     "metadata": {},
     "output_type": "execute_result"
    }
   ],
   "source": [
    "grid_search = GridSearchCV(model, params_grid, cv = 5)\n",
    "grid_search.fit(X_train,y_train)"
   ]
  },
  {
   "cell_type": "code",
   "execution_count": 18,
   "id": "b9127476-3924-4a38-b370-44c90c48ee4d",
   "metadata": {},
   "outputs": [],
   "source": [
    "# DISPLAY SCORES\n",
    "results = grid_search.cv_results_"
   ]
  },
  {
   "cell_type": "code",
   "execution_count": 19,
   "id": "b3164326-2fda-4d8c-b43a-61706bb317b4",
   "metadata": {},
   "outputs": [
    {
     "name": "stdout",
     "output_type": "stream",
     "text": [
      "{'mean_fit_time': array([0.01398258, 0.01615167, 0.03109279, 0.03208761, 0.04769177,\n",
      "       0.01218719, 0.02110906, 0.0279191 , 0.032054  , 0.04063869,\n",
      "       0.01265035, 0.01582661, 0.04097123, 0.04012494, 0.0471179 ,\n",
      "       0.00937438, 0.01734948, 0.03790135, 0.0514452 , 0.06346488,\n",
      "       0.00937042, 0.03131695, 0.03752565, 0.05126123, 0.0535656 ]), 'std_fit_time': array([0.00373128, 0.00884193, 0.01312026, 0.01000983, 0.00896691,\n",
      "       0.00164283, 0.00221416, 0.00202255, 0.01313651, 0.01252772,\n",
      "       0.00633197, 0.00025481, 0.00796095, 0.00790311, 0.01376231,\n",
      "       0.00765415, 0.00218956, 0.01279273, 0.01171195, 0.01038074,\n",
      "       0.00765092, 0.01402291, 0.00769033, 0.01527599, 0.0122424 ]), 'mean_score_time': array([0.00279908, 0.00627093, 0.0010448 , 0.00491385, 0.00347362,\n",
      "       0.00251698, 0.00324159, 0.00370188, 0.00942883, 0.00312462,\n",
      "       0.00029964, 0.0062788 , 0.00312104, 0.00453844, 0.00641518,\n",
      "       0.0037231 , 0.00368104, 0.00313745, 0.        , 0.00312452,\n",
      "       0.        , 0.        , 0.        , 0.00113711, 0.        ]), 'std_score_time': array([0.00137306, 0.00768035, 0.0020896 , 0.00637776, 0.00212495,\n",
      "       0.00043213, 0.00078356, 0.00078341, 0.00769933, 0.00624924,\n",
      "       0.00059929, 0.00769011, 0.00624208, 0.00620034, 0.00785975,\n",
      "       0.00606082, 0.00640913, 0.00627489, 0.        , 0.00624905,\n",
      "       0.        , 0.        , 0.        , 0.00227423, 0.        ]), 'param_max_depth': masked_array(data=[2, 2, 2, 2, 2, 3, 3, 3, 3, 3, 4, 4, 4, 4, 4, 6, 6, 6,\n",
      "                   6, 6, 8, 8, 8, 8, 8],\n",
      "             mask=[False, False, False, False, False, False, False, False,\n",
      "                   False, False, False, False, False, False, False, False,\n",
      "                   False, False, False, False, False, False, False, False,\n",
      "                   False],\n",
      "       fill_value='?',\n",
      "            dtype=object), 'param_n_estimators': masked_array(data=[10, 20, 30, 40, 50, 10, 20, 30, 40, 50, 10, 20, 30, 40,\n",
      "                   50, 10, 20, 30, 40, 50, 10, 20, 30, 40, 50],\n",
      "             mask=[False, False, False, False, False, False, False, False,\n",
      "                   False, False, False, False, False, False, False, False,\n",
      "                   False, False, False, False, False, False, False, False,\n",
      "                   False],\n",
      "       fill_value='?',\n",
      "            dtype=object), 'params': [{'max_depth': 2, 'n_estimators': 10}, {'max_depth': 2, 'n_estimators': 20}, {'max_depth': 2, 'n_estimators': 30}, {'max_depth': 2, 'n_estimators': 40}, {'max_depth': 2, 'n_estimators': 50}, {'max_depth': 3, 'n_estimators': 10}, {'max_depth': 3, 'n_estimators': 20}, {'max_depth': 3, 'n_estimators': 30}, {'max_depth': 3, 'n_estimators': 40}, {'max_depth': 3, 'n_estimators': 50}, {'max_depth': 4, 'n_estimators': 10}, {'max_depth': 4, 'n_estimators': 20}, {'max_depth': 4, 'n_estimators': 30}, {'max_depth': 4, 'n_estimators': 40}, {'max_depth': 4, 'n_estimators': 50}, {'max_depth': 6, 'n_estimators': 10}, {'max_depth': 6, 'n_estimators': 20}, {'max_depth': 6, 'n_estimators': 30}, {'max_depth': 6, 'n_estimators': 40}, {'max_depth': 6, 'n_estimators': 50}, {'max_depth': 8, 'n_estimators': 10}, {'max_depth': 8, 'n_estimators': 20}, {'max_depth': 8, 'n_estimators': 30}, {'max_depth': 8, 'n_estimators': 40}, {'max_depth': 8, 'n_estimators': 50}], 'split0_test_score': array([0.88049076, 0.8590284 , 0.87136801, 0.84557759, 0.86468249,\n",
      "       0.87872662, 0.86040461, 0.87903605, 0.87278891, 0.86234114,\n",
      "       0.89434801, 0.87983386, 0.87620917, 0.88211041, 0.89277504,\n",
      "       0.87675884, 0.88402562, 0.88396815, 0.87620911, 0.89134768,\n",
      "       0.86643408, 0.89408322, 0.86661375, 0.89196078, 0.88616814]), 'split1_test_score': array([0.84894344, 0.83692223, 0.8422249 , 0.84411539, 0.8467631 ,\n",
      "       0.84845515, 0.85365624, 0.84871742, 0.84896966, 0.85787895,\n",
      "       0.84753588, 0.86428412, 0.85033959, 0.86029075, 0.85435959,\n",
      "       0.85229387, 0.86286377, 0.87543545, 0.85429409, 0.86475074,\n",
      "       0.87041032, 0.86234632, 0.87054147, 0.87267557, 0.85680193]), 'split2_test_score': array([0.84281567, 0.88674369, 0.85877202, 0.85525728, 0.86270898,\n",
      "       0.87959063, 0.88764164, 0.88274463, 0.8819877 , 0.88184268,\n",
      "       0.86652602, 0.84815939, 0.8856633 , 0.86999568, 0.87280696,\n",
      "       0.88343671, 0.89538447, 0.87777321, 0.8822955 , 0.89280883,\n",
      "       0.86541498, 0.84299806, 0.87257674, 0.89235747, 0.8969611 ]), 'split3_test_score': array([0.83370291, 0.79155701, 0.84970774, 0.81700915, 0.78352311,\n",
      "       0.80948357, 0.74785842, 0.83054639, 0.8023906 , 0.77863182,\n",
      "       0.72661827, 0.80277603, 0.84416494, 0.88255126, 0.83766965,\n",
      "       0.75325922, 0.84891477, 0.87068774, 0.86420879, 0.82296626,\n",
      "       0.81654031, 0.83557237, 0.80473889, 0.8514286 , 0.82330336]), 'split4_test_score': array([0.76199591, 0.74420437, 0.75856938, 0.78050842, 0.7817867 ,\n",
      "       0.77560881, 0.7976879 , 0.80375135, 0.80351015, 0.80240059,\n",
      "       0.83259734, 0.8186824 , 0.81262586, 0.79497188, 0.81924851,\n",
      "       0.81769885, 0.81965835, 0.79265825, 0.82065058, 0.81481915,\n",
      "       0.78871804, 0.81746582, 0.80234056, 0.80531518, 0.81295457]), 'mean_test_score': array([0.83358974, 0.82369114, 0.83612841, 0.82849356, 0.82789287,\n",
      "       0.83837296, 0.82944976, 0.84895917, 0.8419294 , 0.83661903,\n",
      "       0.8335251 , 0.84274716, 0.85380057, 0.857984  , 0.85537195,\n",
      "       0.8366895 , 0.8621694 , 0.86010456, 0.85953161, 0.85733853,\n",
      "       0.84150355, 0.85049316, 0.84336228, 0.86274752, 0.85523782]), 'std_test_score': array([0.03910563, 0.05049783, 0.03997882, 0.02715389, 0.03745979,\n",
      "       0.04050408, 0.05019246, 0.0297621 , 0.03360326, 0.03922297,\n",
      "       0.05729698, 0.02844419, 0.02575872, 0.03257534, 0.025777  ,\n",
      "       0.04765628, 0.02669941, 0.03399323, 0.02171348, 0.03304257,\n",
      "       0.03297988, 0.02611591, 0.03258027, 0.03242012, 0.0331893 ]), 'rank_test_score': array([20, 25, 19, 23, 24, 16, 22, 11, 14, 18, 21, 13,  9,  5,  7, 17,  2,\n",
      "        3,  4,  6, 15, 10, 12,  1,  8])}\n"
     ]
    }
   ],
   "source": [
    "print(results)"
   ]
  },
  {
   "cell_type": "code",
   "execution_count": 20,
   "id": "14a9280d-8ab5-4011-ad91-272614f4b9c5",
   "metadata": {},
   "outputs": [
    {
     "name": "stdout",
     "output_type": "stream",
     "text": [
      "0.8335897368550225 {'max_depth': 2, 'n_estimators': 10}\n",
      "0.8236911421893863 {'max_depth': 2, 'n_estimators': 20}\n",
      "0.8361284091598424 {'max_depth': 2, 'n_estimators': 30}\n",
      "0.828493563540883 {'max_depth': 2, 'n_estimators': 40}\n",
      "0.8278928719080257 {'max_depth': 2, 'n_estimators': 50}\n",
      "0.8383729571847935 {'max_depth': 3, 'n_estimators': 10}\n",
      "0.8294497635311753 {'max_depth': 3, 'n_estimators': 20}\n",
      "0.848959169344789 {'max_depth': 3, 'n_estimators': 30}\n",
      "0.8419294048276909 {'max_depth': 3, 'n_estimators': 40}\n",
      "0.8366190348937088 {'max_depth': 3, 'n_estimators': 50}\n",
      "0.8335251046150312 {'max_depth': 4, 'n_estimators': 10}\n",
      "0.8427471589615116 {'max_depth': 4, 'n_estimators': 20}\n",
      "0.8538005702708862 {'max_depth': 4, 'n_estimators': 30}\n",
      "0.8579839964234024 {'max_depth': 4, 'n_estimators': 40}\n",
      "0.8553719465869974 {'max_depth': 4, 'n_estimators': 50}\n",
      "0.8366894986859628 {'max_depth': 6, 'n_estimators': 10}\n",
      "0.8621693970206245 {'max_depth': 6, 'n_estimators': 20}\n",
      "0.860104558706199 {'max_depth': 6, 'n_estimators': 30}\n",
      "0.8595316119339161 {'max_depth': 6, 'n_estimators': 40}\n",
      "0.857338533493755 {'max_depth': 6, 'n_estimators': 50}\n",
      "0.8415035465198372 {'max_depth': 8, 'n_estimators': 10}\n",
      "0.8504931596056208 {'max_depth': 8, 'n_estimators': 20}\n",
      "0.8433622825506571 {'max_depth': 8, 'n_estimators': 30}\n",
      "0.8627475196331984 {'max_depth': 8, 'n_estimators': 40}\n",
      "0.8552378200002657 {'max_depth': 8, 'n_estimators': 50}\n"
     ]
    }
   ],
   "source": [
    "## display scores \n",
    "results = grid_search.cv_results_\n",
    "for score,param in zip(results['mean_test_score'], results['params']):\n",
    "      print(score,param)"
   ]
  },
  {
   "cell_type": "code",
   "execution_count": 21,
   "id": "c8397262-ac32-41fe-aef8-f84b08663c64",
   "metadata": {},
   "outputs": [
    {
     "data": {
      "text/plain": [
       "{'max_depth': 8, 'n_estimators': 40}"
      ]
     },
     "execution_count": 21,
     "metadata": {},
     "output_type": "execute_result"
    }
   ],
   "source": [
    "grid_search.best_params_"
   ]
  },
  {
   "cell_type": "code",
   "execution_count": 22,
   "id": "f0159af0-636d-454b-8a39-61e3bf04f7c8",
   "metadata": {},
   "outputs": [
    {
     "data": {
      "text/plain": [
       "0.8627475196331984"
      ]
     },
     "execution_count": 22,
     "metadata": {},
     "output_type": "execute_result"
    }
   ],
   "source": [
    "grid_search.best_score_"
   ]
  },
  {
   "cell_type": "code",
   "execution_count": 23,
   "id": "2881b10a-79a1-4898-818b-5d8170fafa6a",
   "metadata": {},
   "outputs": [
    {
     "data": {
      "text/plain": [
       "RandomForestRegressor(max_depth=8, n_estimators=40)"
      ]
     },
     "execution_count": 23,
     "metadata": {},
     "output_type": "execute_result"
    }
   ],
   "source": [
    "grid_search.best_estimator_"
   ]
  },
  {
   "cell_type": "markdown",
   "id": "f9deabe6-ca3d-466c-945b-338ca39660e7",
   "metadata": {},
   "source": [
    "### BULID MODEL WITH BEST ESTIMATOR"
   ]
  },
  {
   "cell_type": "code",
   "execution_count": 24,
   "id": "1cbf32a1-73c9-4333-bf2f-78612e7a2204",
   "metadata": {},
   "outputs": [],
   "source": [
    "model = grid_search.best_estimator_"
   ]
  },
  {
   "cell_type": "code",
   "execution_count": 25,
   "id": "18aece7d-8269-4f02-b759-ef265151c124",
   "metadata": {},
   "outputs": [],
   "source": [
    "y_pred = model.predict(X_test)"
   ]
  },
  {
   "cell_type": "code",
   "execution_count": 26,
   "id": "57c580b5-c7a2-45e7-931c-8f4c9ede6586",
   "metadata": {},
   "outputs": [],
   "source": [
    "from sklearn.metrics import mean_squared_error, r2_score, classification_report"
   ]
  },
  {
   "cell_type": "code",
   "execution_count": 27,
   "id": "7bb47c87-77d3-4f33-a745-4869cb018768",
   "metadata": {},
   "outputs": [],
   "source": [
    "mse = mean_squared_error(y_test, y_pred)"
   ]
  },
  {
   "cell_type": "code",
   "execution_count": 28,
   "id": "62f8f2e5-fc78-48bd-afaf-33b4d3a9b04c",
   "metadata": {},
   "outputs": [
    {
     "data": {
      "text/plain": [
       "0.9334902847007024"
      ]
     },
     "execution_count": 28,
     "metadata": {},
     "output_type": "execute_result"
    }
   ],
   "source": [
    "r2_score(y_test, y_pred)"
   ]
  },
  {
   "cell_type": "code",
   "execution_count": 29,
   "id": "ae8f72f2-9317-47e0-9c39-d59f7731b3b4",
   "metadata": {},
   "outputs": [
    {
     "data": {
      "text/plain": [
       "5864419.088659884"
      ]
     },
     "execution_count": 29,
     "metadata": {},
     "output_type": "execute_result"
    }
   ],
   "source": [
    "mse"
   ]
  },
  {
   "cell_type": "code",
   "execution_count": 30,
   "id": "91b20859-e6bd-4c22-a681-15178a9d5218",
   "metadata": {},
   "outputs": [
    {
     "data": {
      "text/plain": [
       "2421.656269717047"
      ]
     },
     "execution_count": 30,
     "metadata": {},
     "output_type": "execute_result"
    }
   ],
   "source": [
    "np.sqrt(mse)"
   ]
  },
  {
   "cell_type": "code",
   "execution_count": 34,
   "id": "da876c3c-a71e-401b-aefc-22cb03b96126",
   "metadata": {},
   "outputs": [
    {
     "data": {
      "text/plain": [
       "<AxesSubplot:ylabel='price'>"
      ]
     },
     "execution_count": 34,
     "metadata": {},
     "output_type": "execute_result"
    },
    {
     "data": {
      "image/png": "[encoded data removed]",
      "text/plain": [
       "<Figure size 1080x360 with 1 Axes>"
      ]
     },
     "metadata": {
      "needs_background": "light"
     },
     "output_type": "display_data"
    }
   ],
   "source": [
    "# COMPARE ACTUAL AND PREDICTED VALUES USING LINEGRAPH\n",
    "plt.gcf().set_size_inches(15, 5)\n",
    "sns.lineplot(x = X_test.index, y = y_test, label = \"Actual\")\n",
    "sns.lineplot(x = X_test.index, y = y_pred, label = \"Predicted\")"
   ]
  },
  {
   "cell_type": "code",
   "execution_count": null,
   "id": "6338c070-5727-4ea9-b7d7-84b7d93a27a3",
   "metadata": {},
   "outputs": [],
   "source": []
  }
 ],
 "metadata": {
  "kernelspec": {
   "display_name": "Python 3 (ipykernel)",
   "language": "python",
   "name": "python3"
  },
  "language_info": {
   "codemirror_mode": {
    "name": "ipython",
    "version": 3
   },
   "file_extension": ".py",
   "mimetype": "text/x-python",
   "name": "python",
   "nbconvert_exporter": "python",
   "pygments_lexer": "ipython3",
   "version": "3.9.12"
  }
 },
 "nbformat": 4,
 "nbformat_minor": 5
}
