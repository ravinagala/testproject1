{
 "cells": [
  {
   "cell_type": "code",
   "execution_count": 1,
   "id": "7f01c4a8-6c1d-4491-81e6-8215f0f7c8ea",
   "metadata": {},
   "outputs": [],
   "source": [
    "# IMPORTING REQUIRED PACKAGES\n",
    "import pandas as pd\n",
    "import numpy as np\n",
    "import seaborn as sns\n",
    "import matplotlib.pyplot as plt\n",
    "%matplotlib inline\n",
    "sns.set(style = \"white\")"
   ]
  },
  {
   "cell_type": "code",
   "execution_count": 3,
   "id": "5ca29f4d-8985-451e-902a-ea03c60ba186",
   "metadata": {},
   "outputs": [],
   "source": [
    "from sklearn.linear_model import LogisticRegression\n",
    "from sklearn.tree import DecisionTreeClassifier\n",
    "from sklearn.neighbors import KNeighborsClassifier\n",
    "from sklearn.svm import LinearSVC, SVC\n",
    "from sklearn.naive_bayes import GaussianNB"
   ]
  },
  {
   "cell_type": "code",
   "execution_count": 4,
   "id": "30422e54-3059-4c05-b2a4-2b31daed7947",
   "metadata": {},
   "outputs": [],
   "source": [
    "train = pd.read_csv(\"final_train.csv\")"
   ]
  },
  {
   "cell_type": "code",
   "execution_count": 5,
   "id": "8543436b-7453-4dd4-b6e3-1c11ac0ae80b",
   "metadata": {},
   "outputs": [],
   "source": [
    "y = train.LoanStatus\n",
    "X = train.drop(\"LoanStatus\", axis = 1)"
   ]
  },
  {
   "cell_type": "code",
   "execution_count": 8,
   "id": "06ad432a-0237-49b0-820c-21bf9695963b",
   "metadata": {},
   "outputs": [],
   "source": [
    "X = pd.get_dummies(X)"
   ]
  },
  {
   "cell_type": "markdown",
   "id": "6daa2fd0-9437-4774-826a-1a473b8d0457",
   "metadata": {},
   "source": [
    "### CHECK CROSS VALIDATION SCORES WITH DIFFERENT ALGORITHMS"
   ]
  },
  {
   "cell_type": "code",
   "execution_count": 9,
   "id": "e6769529-d24c-49c7-b9f5-1c44174caf16",
   "metadata": {},
   "outputs": [],
   "source": [
    "from sklearn.model_selection import cross_val_score"
   ]
  },
  {
   "cell_type": "code",
   "execution_count": 10,
   "id": "13d074e9-27e9-4738-9027-1a5a0cd70036",
   "metadata": {},
   "outputs": [],
   "source": [
    "all_scores = {}"
   ]
  },
  {
   "cell_type": "code",
   "execution_count": 11,
   "id": "7357e0fb-0141-4eb2-ba8b-e23f78421e8b",
   "metadata": {},
   "outputs": [],
   "source": [
    "from sklearn.preprocessing import StandardScaler\n",
    "ss = StandardScaler()\n",
    "X_scaled = ss.fit_transform(X)"
   ]
  },
  {
   "cell_type": "code",
   "execution_count": 16,
   "id": "64df6e87-adcd-48d6-b979-4ec1a89ddeb6",
   "metadata": {},
   "outputs": [],
   "source": [
    "names = ['LR','KNN','NB','DT','SVC']\n",
    "clfs =  [LogisticRegression(max_iter=200), KNeighborsClassifier(), GaussianNB(), DecisionTreeClassifier(max_depth=5),LinearSVC(max_iter=2000)]"
   ]
  },
  {
   "cell_type": "code",
   "execution_count": 25,
   "id": "06cb2822-a89c-4e88-94d5-37b93a4dc2ea",
   "metadata": {},
   "outputs": [
    {
     "name": "stdout",
     "output_type": "stream",
     "text": [
      "[0.83185841 0.76106195 0.78761062 0.84955752 0.83928571]\n",
      "LR  = 81.39\n",
      "[0.7699115  0.7079646  0.72566372 0.76106195 0.75      ]\n",
      "KNN  = 74.29\n",
      "[0.81415929 0.74336283 0.78761062 0.85840708 0.8125    ]\n",
      "NB  = 80.32\n",
      "[0.83185841 0.75221239 0.83185841 0.83185841 0.82142857]\n",
      "DT  = 81.38\n",
      "[0.83185841 0.76106195 0.78761062 0.85840708 0.83928571]\n",
      "SVC  = 81.56\n"
     ]
    }
   ],
   "source": [
    "for clf, name in zip(clfs, names):\n",
    "    scores = cross_val_score(clf, X_scaled, y, cv = 5)\n",
    "    print(scores)\n",
    "    print(f\"{name}  = {scores.mean()*100:0.2f}\")\n",
    "    all_scores[name] = (scores.mean() * 100)"
   ]
  },
  {
   "cell_type": "code",
   "execution_count": 28,
   "id": "99d46ca5-061a-4acb-a06a-4ba3e1d9964a",
   "metadata": {},
   "outputs": [
    {
     "data": {
      "image/png": "[encoded data removed]",
      "text/plain": [
       "<Figure size 432x288 with 1 Axes>"
      ]
     },
     "metadata": {},
     "output_type": "display_data"
    }
   ],
   "source": [
    "plt = sns.barplot(x =list(all_scores.keys()), y = list(all_scores.values()))"
   ]
  },
  {
   "cell_type": "markdown",
   "id": "44c728f4-f88f-42fd-9f4c-f021b942fbf7",
   "metadata": {},
   "source": [
    "### LOGISTIC REGRESSION WITH BUILT-IN CROSS VALIDATION"
   ]
  },
  {
   "cell_type": "code",
   "execution_count": 30,
   "id": "4fbc2846-1e52-41a3-8e97-3f3ee9f664e8",
   "metadata": {},
   "outputs": [],
   "source": [
    "from sklearn.model_selection import train_test_split\n",
    "from sklearn.metrics import confusion_matrix, accuracy_score, classification_report"
   ]
  },
  {
   "cell_type": "code",
   "execution_count": 31,
   "id": "9e5f8632-c830-4057-ba24-354546a329ac",
   "metadata": {},
   "outputs": [],
   "source": [
    "X_train, X_test, y_train, y_test = train_test_split(X_scaled, y)"
   ]
  },
  {
   "cell_type": "code",
   "execution_count": 32,
   "id": "71e5ef38-c8d7-40aa-9ee2-405542db0442",
   "metadata": {},
   "outputs": [
    {
     "data": {
      "text/plain": [
       "((423, 16), (141, 16), (423,), (141,))"
      ]
     },
     "execution_count": 32,
     "metadata": {},
     "output_type": "execute_result"
    }
   ],
   "source": [
    "X_train.shape, X_test.shape, y_train.shape, y_test.shape"
   ]
  },
  {
   "cell_type": "code",
   "execution_count": 47,
   "id": "ca007107-1ac9-4167-b902-703548a3d5bb",
   "metadata": {},
   "outputs": [],
   "source": [
    "from sklearn.linear_model import LogisticRegressionCV\n",
    "clf = LogisticRegressionCV(cv = 5).fit(X_train, y_train)"
   ]
  },
  {
   "cell_type": "code",
   "execution_count": 48,
   "id": "eff53cfe-1e8d-44b6-b42a-7efa11a4d1e2",
   "metadata": {},
   "outputs": [
    {
     "name": "stdout",
     "output_type": "stream",
     "text": [
      "Accuracy Score  : 0.806146572104019\n"
     ]
    }
   ],
   "source": [
    "score = clf.score(X_train, y_train)\n",
    "print(f\"Accuracy Score  :\", score) "
   ]
  },
  {
   "cell_type": "code",
   "execution_count": 49,
   "id": "31a1c402-16af-4fea-bfa9-7ca0aa100d01",
   "metadata": {},
   "outputs": [],
   "source": [
    "from sklearn.linear_model import LogisticRegressionCV\n",
    "clf = LogisticRegressionCV(cv = 5, max_iter = 500).fit(X_train, y_train)"
   ]
  },
  {
   "cell_type": "code",
   "execution_count": 50,
   "id": "243ea792-2b7b-4e5c-8cb1-9c373e92f27f",
   "metadata": {},
   "outputs": [
    {
     "name": "stdout",
     "output_type": "stream",
     "text": [
      "Accuracy Score  : 0.806146572104019\n"
     ]
    }
   ],
   "source": [
    "score = clf.score(X_train, y_train)\n",
    "print(f\"Accuracy Score  :\", score)"
   ]
  },
  {
   "cell_type": "markdown",
   "id": "86492930-6fcd-468d-8235-5807f5eca181",
   "metadata": {},
   "source": [
    "### TESTING WITH TEST DATA"
   ]
  },
  {
   "cell_type": "code",
   "execution_count": 51,
   "id": "7f26a4ee-7051-405a-8d98-d876adb9ea5e",
   "metadata": {},
   "outputs": [],
   "source": [
    "y_pred = clf.predict(X_test)"
   ]
  },
  {
   "cell_type": "code",
   "execution_count": 55,
   "id": "b529cf6a-4df1-4914-80b0-686f327ecbe9",
   "metadata": {},
   "outputs": [
    {
     "data": {
      "text/plain": [
       "array([[23, 19],\n",
       "       [ 4, 95]], dtype=int64)"
      ]
     },
     "execution_count": 55,
     "metadata": {},
     "output_type": "execute_result"
    }
   ],
   "source": [
    "confusion_matrix(y_test, y_pred)"
   ]
  },
  {
   "cell_type": "code",
   "execution_count": 56,
   "id": "1720ccdd-ec48-4f3e-967d-6755b3bbd188",
   "metadata": {},
   "outputs": [
    {
     "data": {
      "text/plain": [
       "'              precision    recall  f1-score   support\\n\\n           0       0.85      0.55      0.67        42\\n           1       0.83      0.96      0.89        99\\n\\n    accuracy                           0.84       141\\n   macro avg       0.84      0.75      0.78       141\\nweighted avg       0.84      0.84      0.82       141\\n'"
      ]
     },
     "execution_count": 56,
     "metadata": {},
     "output_type": "execute_result"
    }
   ],
   "source": [
    "classification_report(y_test, y_pred)"
   ]
  },
  {
   "cell_type": "code",
   "execution_count": 58,
   "id": "94316c6d-3d52-4ced-85db-33d3a60c3409",
   "metadata": {},
   "outputs": [
    {
     "name": "stdout",
     "output_type": "stream",
     "text": [
      "              precision    recall  f1-score   support\n",
      "\n",
      "           0       0.85      0.55      0.67        42\n",
      "           1       0.83      0.96      0.89        99\n",
      "\n",
      "    accuracy                           0.84       141\n",
      "   macro avg       0.84      0.75      0.78       141\n",
      "weighted avg       0.84      0.84      0.82       141\n",
      "\n"
     ]
    }
   ],
   "source": [
    "print(classification_report(y_test, y_pred))"
   ]
  },
  {
   "cell_type": "code",
   "execution_count": null,
   "id": "fd95e90c-29fd-4d8e-8949-33f6872e5c09",
   "metadata": {},
   "outputs": [],
   "source": []
  }
 ],
 "metadata": {
  "kernelspec": {
   "display_name": "Python 3 (ipykernel)",
   "language": "python",
   "name": "python3"
  },
  "language_info": {
   "codemirror_mode": {
    "name": "ipython",
    "version": 3
   },
   "file_extension": ".py",
   "mimetype": "text/x-python",
   "name": "python",
   "nbconvert_exporter": "python",
   "pygments_lexer": "ipython3",
   "version": "3.9.12"
  }
 },
 "nbformat": 4,
 "nbformat_minor": 5
}
