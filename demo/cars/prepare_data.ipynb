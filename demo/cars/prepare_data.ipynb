{
 "cells": [
  {
   "cell_type": "markdown",
   "id": "fc3672ae-03b4-49c9-a93e-394614b2475b",
   "metadata": {},
   "source": [
    "### PREDICT PRICE OF THE CAR"
   ]
  },
  {
   "cell_type": "code",
   "execution_count": 1,
   "id": "c46e35d8-6262-477a-88ea-b93539505360",
   "metadata": {},
   "outputs": [],
   "source": [
    "# IMPORT LIBRARIES\n",
    "import pandas as pd\n",
    "import numpy as np\n",
    "import matplotlib.pyplot as plt\n",
    "import seaborn as sns\n",
    "pd.set_option(\"display.max_columns\", None)   # DISPLAY ALL COLUMNS"
   ]
  },
  {
   "cell_type": "code",
   "execution_count": 10,
   "id": "4f354729-855c-457c-98a0-54518b7589bc",
   "metadata": {},
   "outputs": [],
   "source": [
    "df = pd.read_csv(\"data.csv\", header = None)  # LOAD WITHOUT HEADERS (COL HEADINGS)"
   ]
  },
  {
   "cell_type": "code",
   "execution_count": 11,
   "id": "d24040d5-173e-4b14-a255-80d4119fbbb7",
   "metadata": {},
   "outputs": [
    {
     "data": {
      "text/html": [
       "<div>\n",
       "<style scoped>\n",
       "    .dataframe tbody tr th:only-of-type {\n",
       "        vertical-align: middle;\n",
       "    }\n",
       "\n",
       "    .dataframe tbody tr th {\n",
       "        vertical-align: top;\n",
       "    }\n",
       "\n",
       "    .dataframe thead th {\n",
       "        text-align: right;\n",
       "    }\n",
       "</style>\n",
       "<table border=\"1\" class=\"dataframe\">\n",
       "  <thead>\n",
       "    <tr style=\"text-align: right;\">\n",
       "      <th></th>\n",
       "      <th>0</th>\n",
       "      <th>1</th>\n",
       "      <th>2</th>\n",
       "      <th>3</th>\n",
       "      <th>4</th>\n",
       "      <th>5</th>\n",
       "      <th>6</th>\n",
       "      <th>7</th>\n",
       "      <th>8</th>\n",
       "      <th>9</th>\n",
       "      <th>10</th>\n",
       "      <th>11</th>\n",
       "      <th>12</th>\n",
       "      <th>13</th>\n",
       "      <th>14</th>\n",
       "      <th>15</th>\n",
       "      <th>16</th>\n",
       "      <th>17</th>\n",
       "      <th>18</th>\n",
       "      <th>19</th>\n",
       "      <th>20</th>\n",
       "      <th>21</th>\n",
       "      <th>22</th>\n",
       "      <th>23</th>\n",
       "      <th>24</th>\n",
       "      <th>25</th>\n",
       "    </tr>\n",
       "  </thead>\n",
       "  <tbody>\n",
       "    <tr>\n",
       "      <th>0</th>\n",
       "      <td>3</td>\n",
       "      <td>?</td>\n",
       "      <td>alfa-romero</td>\n",
       "      <td>gas</td>\n",
       "      <td>std</td>\n",
       "      <td>two</td>\n",
       "      <td>convertible</td>\n",
       "      <td>rwd</td>\n",
       "      <td>front</td>\n",
       "      <td>88.6</td>\n",
       "      <td>168.8</td>\n",
       "      <td>64.1</td>\n",
       "      <td>48.8</td>\n",
       "      <td>2548</td>\n",
       "      <td>dohc</td>\n",
       "      <td>four</td>\n",
       "      <td>130</td>\n",
       "      <td>mpfi</td>\n",
       "      <td>3.47</td>\n",
       "      <td>2.68</td>\n",
       "      <td>9.0</td>\n",
       "      <td>111</td>\n",
       "      <td>5000</td>\n",
       "      <td>21</td>\n",
       "      <td>27</td>\n",
       "      <td>13495</td>\n",
       "    </tr>\n",
       "    <tr>\n",
       "      <th>1</th>\n",
       "      <td>3</td>\n",
       "      <td>?</td>\n",
       "      <td>alfa-romero</td>\n",
       "      <td>gas</td>\n",
       "      <td>std</td>\n",
       "      <td>two</td>\n",
       "      <td>convertible</td>\n",
       "      <td>rwd</td>\n",
       "      <td>front</td>\n",
       "      <td>88.6</td>\n",
       "      <td>168.8</td>\n",
       "      <td>64.1</td>\n",
       "      <td>48.8</td>\n",
       "      <td>2548</td>\n",
       "      <td>dohc</td>\n",
       "      <td>four</td>\n",
       "      <td>130</td>\n",
       "      <td>mpfi</td>\n",
       "      <td>3.47</td>\n",
       "      <td>2.68</td>\n",
       "      <td>9.0</td>\n",
       "      <td>111</td>\n",
       "      <td>5000</td>\n",
       "      <td>21</td>\n",
       "      <td>27</td>\n",
       "      <td>16500</td>\n",
       "    </tr>\n",
       "    <tr>\n",
       "      <th>2</th>\n",
       "      <td>1</td>\n",
       "      <td>?</td>\n",
       "      <td>alfa-romero</td>\n",
       "      <td>gas</td>\n",
       "      <td>std</td>\n",
       "      <td>two</td>\n",
       "      <td>hatchback</td>\n",
       "      <td>rwd</td>\n",
       "      <td>front</td>\n",
       "      <td>94.5</td>\n",
       "      <td>171.2</td>\n",
       "      <td>65.5</td>\n",
       "      <td>52.4</td>\n",
       "      <td>2823</td>\n",
       "      <td>ohcv</td>\n",
       "      <td>six</td>\n",
       "      <td>152</td>\n",
       "      <td>mpfi</td>\n",
       "      <td>2.68</td>\n",
       "      <td>3.47</td>\n",
       "      <td>9.0</td>\n",
       "      <td>154</td>\n",
       "      <td>5000</td>\n",
       "      <td>19</td>\n",
       "      <td>26</td>\n",
       "      <td>16500</td>\n",
       "    </tr>\n",
       "    <tr>\n",
       "      <th>3</th>\n",
       "      <td>2</td>\n",
       "      <td>164</td>\n",
       "      <td>audi</td>\n",
       "      <td>gas</td>\n",
       "      <td>std</td>\n",
       "      <td>four</td>\n",
       "      <td>sedan</td>\n",
       "      <td>fwd</td>\n",
       "      <td>front</td>\n",
       "      <td>99.8</td>\n",
       "      <td>176.6</td>\n",
       "      <td>66.2</td>\n",
       "      <td>54.3</td>\n",
       "      <td>2337</td>\n",
       "      <td>ohc</td>\n",
       "      <td>four</td>\n",
       "      <td>109</td>\n",
       "      <td>mpfi</td>\n",
       "      <td>3.19</td>\n",
       "      <td>3.40</td>\n",
       "      <td>10.0</td>\n",
       "      <td>102</td>\n",
       "      <td>5500</td>\n",
       "      <td>24</td>\n",
       "      <td>30</td>\n",
       "      <td>13950</td>\n",
       "    </tr>\n",
       "    <tr>\n",
       "      <th>4</th>\n",
       "      <td>2</td>\n",
       "      <td>164</td>\n",
       "      <td>audi</td>\n",
       "      <td>gas</td>\n",
       "      <td>std</td>\n",
       "      <td>four</td>\n",
       "      <td>sedan</td>\n",
       "      <td>4wd</td>\n",
       "      <td>front</td>\n",
       "      <td>99.4</td>\n",
       "      <td>176.6</td>\n",
       "      <td>66.4</td>\n",
       "      <td>54.3</td>\n",
       "      <td>2824</td>\n",
       "      <td>ohc</td>\n",
       "      <td>five</td>\n",
       "      <td>136</td>\n",
       "      <td>mpfi</td>\n",
       "      <td>3.19</td>\n",
       "      <td>3.40</td>\n",
       "      <td>8.0</td>\n",
       "      <td>115</td>\n",
       "      <td>5500</td>\n",
       "      <td>18</td>\n",
       "      <td>22</td>\n",
       "      <td>17450</td>\n",
       "    </tr>\n",
       "    <tr>\n",
       "      <th>...</th>\n",
       "      <td>...</td>\n",
       "      <td>...</td>\n",
       "      <td>...</td>\n",
       "      <td>...</td>\n",
       "      <td>...</td>\n",
       "      <td>...</td>\n",
       "      <td>...</td>\n",
       "      <td>...</td>\n",
       "      <td>...</td>\n",
       "      <td>...</td>\n",
       "      <td>...</td>\n",
       "      <td>...</td>\n",
       "      <td>...</td>\n",
       "      <td>...</td>\n",
       "      <td>...</td>\n",
       "      <td>...</td>\n",
       "      <td>...</td>\n",
       "      <td>...</td>\n",
       "      <td>...</td>\n",
       "      <td>...</td>\n",
       "      <td>...</td>\n",
       "      <td>...</td>\n",
       "      <td>...</td>\n",
       "      <td>...</td>\n",
       "      <td>...</td>\n",
       "      <td>...</td>\n",
       "    </tr>\n",
       "    <tr>\n",
       "      <th>200</th>\n",
       "      <td>-1</td>\n",
       "      <td>95</td>\n",
       "      <td>volvo</td>\n",
       "      <td>gas</td>\n",
       "      <td>std</td>\n",
       "      <td>four</td>\n",
       "      <td>sedan</td>\n",
       "      <td>rwd</td>\n",
       "      <td>front</td>\n",
       "      <td>109.1</td>\n",
       "      <td>188.8</td>\n",
       "      <td>68.9</td>\n",
       "      <td>55.5</td>\n",
       "      <td>2952</td>\n",
       "      <td>ohc</td>\n",
       "      <td>four</td>\n",
       "      <td>141</td>\n",
       "      <td>mpfi</td>\n",
       "      <td>3.78</td>\n",
       "      <td>3.15</td>\n",
       "      <td>9.5</td>\n",
       "      <td>114</td>\n",
       "      <td>5400</td>\n",
       "      <td>23</td>\n",
       "      <td>28</td>\n",
       "      <td>16845</td>\n",
       "    </tr>\n",
       "    <tr>\n",
       "      <th>201</th>\n",
       "      <td>-1</td>\n",
       "      <td>95</td>\n",
       "      <td>volvo</td>\n",
       "      <td>gas</td>\n",
       "      <td>turbo</td>\n",
       "      <td>four</td>\n",
       "      <td>sedan</td>\n",
       "      <td>rwd</td>\n",
       "      <td>front</td>\n",
       "      <td>109.1</td>\n",
       "      <td>188.8</td>\n",
       "      <td>68.8</td>\n",
       "      <td>55.5</td>\n",
       "      <td>3049</td>\n",
       "      <td>ohc</td>\n",
       "      <td>four</td>\n",
       "      <td>141</td>\n",
       "      <td>mpfi</td>\n",
       "      <td>3.78</td>\n",
       "      <td>3.15</td>\n",
       "      <td>8.7</td>\n",
       "      <td>160</td>\n",
       "      <td>5300</td>\n",
       "      <td>19</td>\n",
       "      <td>25</td>\n",
       "      <td>19045</td>\n",
       "    </tr>\n",
       "    <tr>\n",
       "      <th>202</th>\n",
       "      <td>-1</td>\n",
       "      <td>95</td>\n",
       "      <td>volvo</td>\n",
       "      <td>gas</td>\n",
       "      <td>std</td>\n",
       "      <td>four</td>\n",
       "      <td>sedan</td>\n",
       "      <td>rwd</td>\n",
       "      <td>front</td>\n",
       "      <td>109.1</td>\n",
       "      <td>188.8</td>\n",
       "      <td>68.9</td>\n",
       "      <td>55.5</td>\n",
       "      <td>3012</td>\n",
       "      <td>ohcv</td>\n",
       "      <td>six</td>\n",
       "      <td>173</td>\n",
       "      <td>mpfi</td>\n",
       "      <td>3.58</td>\n",
       "      <td>2.87</td>\n",
       "      <td>8.8</td>\n",
       "      <td>134</td>\n",
       "      <td>5500</td>\n",
       "      <td>18</td>\n",
       "      <td>23</td>\n",
       "      <td>21485</td>\n",
       "    </tr>\n",
       "    <tr>\n",
       "      <th>203</th>\n",
       "      <td>-1</td>\n",
       "      <td>95</td>\n",
       "      <td>volvo</td>\n",
       "      <td>diesel</td>\n",
       "      <td>turbo</td>\n",
       "      <td>four</td>\n",
       "      <td>sedan</td>\n",
       "      <td>rwd</td>\n",
       "      <td>front</td>\n",
       "      <td>109.1</td>\n",
       "      <td>188.8</td>\n",
       "      <td>68.9</td>\n",
       "      <td>55.5</td>\n",
       "      <td>3217</td>\n",
       "      <td>ohc</td>\n",
       "      <td>six</td>\n",
       "      <td>145</td>\n",
       "      <td>idi</td>\n",
       "      <td>3.01</td>\n",
       "      <td>3.40</td>\n",
       "      <td>23.0</td>\n",
       "      <td>106</td>\n",
       "      <td>4800</td>\n",
       "      <td>26</td>\n",
       "      <td>27</td>\n",
       "      <td>22470</td>\n",
       "    </tr>\n",
       "    <tr>\n",
       "      <th>204</th>\n",
       "      <td>-1</td>\n",
       "      <td>95</td>\n",
       "      <td>volvo</td>\n",
       "      <td>gas</td>\n",
       "      <td>turbo</td>\n",
       "      <td>four</td>\n",
       "      <td>sedan</td>\n",
       "      <td>rwd</td>\n",
       "      <td>front</td>\n",
       "      <td>109.1</td>\n",
       "      <td>188.8</td>\n",
       "      <td>68.9</td>\n",
       "      <td>55.5</td>\n",
       "      <td>3062</td>\n",
       "      <td>ohc</td>\n",
       "      <td>four</td>\n",
       "      <td>141</td>\n",
       "      <td>mpfi</td>\n",
       "      <td>3.78</td>\n",
       "      <td>3.15</td>\n",
       "      <td>9.5</td>\n",
       "      <td>114</td>\n",
       "      <td>5400</td>\n",
       "      <td>19</td>\n",
       "      <td>25</td>\n",
       "      <td>22625</td>\n",
       "    </tr>\n",
       "  </tbody>\n",
       "</table>\n",
       "<p>205 rows × 26 columns</p>\n",
       "</div>"
      ],
      "text/plain": [
       "     0    1            2       3      4     5            6    7      8   \\\n",
       "0     3    ?  alfa-romero     gas    std   two  convertible  rwd  front   \n",
       "1     3    ?  alfa-romero     gas    std   two  convertible  rwd  front   \n",
       "2     1    ?  alfa-romero     gas    std   two    hatchback  rwd  front   \n",
       "3     2  164         audi     gas    std  four        sedan  fwd  front   \n",
       "4     2  164         audi     gas    std  four        sedan  4wd  front   \n",
       "..   ..  ...          ...     ...    ...   ...          ...  ...    ...   \n",
       "200  -1   95        volvo     gas    std  four        sedan  rwd  front   \n",
       "201  -1   95        volvo     gas  turbo  four        sedan  rwd  front   \n",
       "202  -1   95        volvo     gas    std  four        sedan  rwd  front   \n",
       "203  -1   95        volvo  diesel  turbo  four        sedan  rwd  front   \n",
       "204  -1   95        volvo     gas  turbo  four        sedan  rwd  front   \n",
       "\n",
       "        9      10    11    12    13    14    15   16    17    18    19    20  \\\n",
       "0     88.6  168.8  64.1  48.8  2548  dohc  four  130  mpfi  3.47  2.68   9.0   \n",
       "1     88.6  168.8  64.1  48.8  2548  dohc  four  130  mpfi  3.47  2.68   9.0   \n",
       "2     94.5  171.2  65.5  52.4  2823  ohcv   six  152  mpfi  2.68  3.47   9.0   \n",
       "3     99.8  176.6  66.2  54.3  2337   ohc  four  109  mpfi  3.19  3.40  10.0   \n",
       "4     99.4  176.6  66.4  54.3  2824   ohc  five  136  mpfi  3.19  3.40   8.0   \n",
       "..     ...    ...   ...   ...   ...   ...   ...  ...   ...   ...   ...   ...   \n",
       "200  109.1  188.8  68.9  55.5  2952   ohc  four  141  mpfi  3.78  3.15   9.5   \n",
       "201  109.1  188.8  68.8  55.5  3049   ohc  four  141  mpfi  3.78  3.15   8.7   \n",
       "202  109.1  188.8  68.9  55.5  3012  ohcv   six  173  mpfi  3.58  2.87   8.8   \n",
       "203  109.1  188.8  68.9  55.5  3217   ohc   six  145   idi  3.01  3.40  23.0   \n",
       "204  109.1  188.8  68.9  55.5  3062   ohc  four  141  mpfi  3.78  3.15   9.5   \n",
       "\n",
       "      21    22  23  24     25  \n",
       "0    111  5000  21  27  13495  \n",
       "1    111  5000  21  27  16500  \n",
       "2    154  5000  19  26  16500  \n",
       "3    102  5500  24  30  13950  \n",
       "4    115  5500  18  22  17450  \n",
       "..   ...   ...  ..  ..    ...  \n",
       "200  114  5400  23  28  16845  \n",
       "201  160  5300  19  25  19045  \n",
       "202  134  5500  18  23  21485  \n",
       "203  106  4800  26  27  22470  \n",
       "204  114  5400  19  25  22625  \n",
       "\n",
       "[205 rows x 26 columns]"
      ]
     },
     "execution_count": 11,
     "metadata": {},
     "output_type": "execute_result"
    }
   ],
   "source": [
    "df"
   ]
  },
  {
   "cell_type": "code",
   "execution_count": 12,
   "id": "c37c3e0c-b9cf-42ca-beba-497829c9f6e6",
   "metadata": {},
   "outputs": [
    {
     "data": {
      "text/plain": [
       "(205, 26)"
      ]
     },
     "execution_count": 12,
     "metadata": {},
     "output_type": "execute_result"
    }
   ],
   "source": [
    "df.shape"
   ]
  },
  {
   "cell_type": "code",
   "execution_count": 13,
   "id": "3d8495ca-c821-4acd-ab31-8b7febd3bc4f",
   "metadata": {},
   "outputs": [],
   "source": [
    "# create headers list\n",
    "headers = [\"symboling\",\"normalized-losses\",\"make\",\"fuel-type\",\"aspiration\", \"num-of-doors\",\"body-style\",\n",
    "         \"drive-wheels\",\"engine-location\",\"wheel-base\", \"length\",\"width\",\"height\",\"curb-weight\",\"engine-type\",\n",
    "         \"num-of-cylinders\", \"engine-size\",\"fuel-system\",\"bore\",\"stroke\",\"compression-ratio\",\"horsepower\",\n",
    "         \"peak-rpm\",\"city-mpg\",\"highway-mpg\",\"price\"]"
   ]
  },
  {
   "cell_type": "code",
   "execution_count": 14,
   "id": "20037c4e-3b4d-42be-ae5b-006765ae9e30",
   "metadata": {},
   "outputs": [],
   "source": [
    "df.columns = headers"
   ]
  },
  {
   "cell_type": "code",
   "execution_count": 15,
   "id": "5afe8b7f-278a-4bd4-b8fe-a00f6fe01568",
   "metadata": {},
   "outputs": [
    {
     "data": {
      "text/html": [
       "<div>\n",
       "<style scoped>\n",
       "    .dataframe tbody tr th:only-of-type {\n",
       "        vertical-align: middle;\n",
       "    }\n",
       "\n",
       "    .dataframe tbody tr th {\n",
       "        vertical-align: top;\n",
       "    }\n",
       "\n",
       "    .dataframe thead th {\n",
       "        text-align: right;\n",
       "    }\n",
       "</style>\n",
       "<table border=\"1\" class=\"dataframe\">\n",
       "  <thead>\n",
       "    <tr style=\"text-align: right;\">\n",
       "      <th></th>\n",
       "      <th>symboling</th>\n",
       "      <th>normalized-losses</th>\n",
       "      <th>make</th>\n",
       "      <th>fuel-type</th>\n",
       "      <th>aspiration</th>\n",
       "      <th>num-of-doors</th>\n",
       "      <th>body-style</th>\n",
       "      <th>drive-wheels</th>\n",
       "      <th>engine-location</th>\n",
       "      <th>wheel-base</th>\n",
       "      <th>length</th>\n",
       "      <th>width</th>\n",
       "      <th>height</th>\n",
       "      <th>curb-weight</th>\n",
       "      <th>engine-type</th>\n",
       "      <th>num-of-cylinders</th>\n",
       "      <th>engine-size</th>\n",
       "      <th>fuel-system</th>\n",
       "      <th>bore</th>\n",
       "      <th>stroke</th>\n",
       "      <th>compression-ratio</th>\n",
       "      <th>horsepower</th>\n",
       "      <th>peak-rpm</th>\n",
       "      <th>city-mpg</th>\n",
       "      <th>highway-mpg</th>\n",
       "      <th>price</th>\n",
       "    </tr>\n",
       "  </thead>\n",
       "  <tbody>\n",
       "    <tr>\n",
       "      <th>160</th>\n",
       "      <td>0</td>\n",
       "      <td>91</td>\n",
       "      <td>toyota</td>\n",
       "      <td>gas</td>\n",
       "      <td>std</td>\n",
       "      <td>four</td>\n",
       "      <td>sedan</td>\n",
       "      <td>fwd</td>\n",
       "      <td>front</td>\n",
       "      <td>95.7</td>\n",
       "      <td>166.3</td>\n",
       "      <td>64.4</td>\n",
       "      <td>53.0</td>\n",
       "      <td>2094</td>\n",
       "      <td>ohc</td>\n",
       "      <td>four</td>\n",
       "      <td>98</td>\n",
       "      <td>2bbl</td>\n",
       "      <td>3.19</td>\n",
       "      <td>3.03</td>\n",
       "      <td>9.0</td>\n",
       "      <td>70</td>\n",
       "      <td>4800</td>\n",
       "      <td>38</td>\n",
       "      <td>47</td>\n",
       "      <td>7738</td>\n",
       "    </tr>\n",
       "    <tr>\n",
       "      <th>38</th>\n",
       "      <td>0</td>\n",
       "      <td>106</td>\n",
       "      <td>honda</td>\n",
       "      <td>gas</td>\n",
       "      <td>std</td>\n",
       "      <td>two</td>\n",
       "      <td>hatchback</td>\n",
       "      <td>fwd</td>\n",
       "      <td>front</td>\n",
       "      <td>96.5</td>\n",
       "      <td>167.5</td>\n",
       "      <td>65.2</td>\n",
       "      <td>53.3</td>\n",
       "      <td>2289</td>\n",
       "      <td>ohc</td>\n",
       "      <td>four</td>\n",
       "      <td>110</td>\n",
       "      <td>1bbl</td>\n",
       "      <td>3.15</td>\n",
       "      <td>3.58</td>\n",
       "      <td>9.0</td>\n",
       "      <td>86</td>\n",
       "      <td>5800</td>\n",
       "      <td>27</td>\n",
       "      <td>33</td>\n",
       "      <td>9095</td>\n",
       "    </tr>\n",
       "    <tr>\n",
       "      <th>85</th>\n",
       "      <td>1</td>\n",
       "      <td>125</td>\n",
       "      <td>mitsubishi</td>\n",
       "      <td>gas</td>\n",
       "      <td>std</td>\n",
       "      <td>four</td>\n",
       "      <td>sedan</td>\n",
       "      <td>fwd</td>\n",
       "      <td>front</td>\n",
       "      <td>96.3</td>\n",
       "      <td>172.4</td>\n",
       "      <td>65.4</td>\n",
       "      <td>51.6</td>\n",
       "      <td>2365</td>\n",
       "      <td>ohc</td>\n",
       "      <td>four</td>\n",
       "      <td>122</td>\n",
       "      <td>2bbl</td>\n",
       "      <td>3.35</td>\n",
       "      <td>3.46</td>\n",
       "      <td>8.5</td>\n",
       "      <td>88</td>\n",
       "      <td>5000</td>\n",
       "      <td>25</td>\n",
       "      <td>32</td>\n",
       "      <td>6989</td>\n",
       "    </tr>\n",
       "    <tr>\n",
       "      <th>183</th>\n",
       "      <td>2</td>\n",
       "      <td>122</td>\n",
       "      <td>volkswagen</td>\n",
       "      <td>gas</td>\n",
       "      <td>std</td>\n",
       "      <td>two</td>\n",
       "      <td>sedan</td>\n",
       "      <td>fwd</td>\n",
       "      <td>front</td>\n",
       "      <td>97.3</td>\n",
       "      <td>171.7</td>\n",
       "      <td>65.5</td>\n",
       "      <td>55.7</td>\n",
       "      <td>2209</td>\n",
       "      <td>ohc</td>\n",
       "      <td>four</td>\n",
       "      <td>109</td>\n",
       "      <td>mpfi</td>\n",
       "      <td>3.19</td>\n",
       "      <td>3.40</td>\n",
       "      <td>9.0</td>\n",
       "      <td>85</td>\n",
       "      <td>5250</td>\n",
       "      <td>27</td>\n",
       "      <td>34</td>\n",
       "      <td>7975</td>\n",
       "    </tr>\n",
       "    <tr>\n",
       "      <th>173</th>\n",
       "      <td>-1</td>\n",
       "      <td>65</td>\n",
       "      <td>toyota</td>\n",
       "      <td>gas</td>\n",
       "      <td>std</td>\n",
       "      <td>four</td>\n",
       "      <td>sedan</td>\n",
       "      <td>fwd</td>\n",
       "      <td>front</td>\n",
       "      <td>102.4</td>\n",
       "      <td>175.6</td>\n",
       "      <td>66.5</td>\n",
       "      <td>54.9</td>\n",
       "      <td>2326</td>\n",
       "      <td>ohc</td>\n",
       "      <td>four</td>\n",
       "      <td>122</td>\n",
       "      <td>mpfi</td>\n",
       "      <td>3.31</td>\n",
       "      <td>3.54</td>\n",
       "      <td>8.7</td>\n",
       "      <td>92</td>\n",
       "      <td>4200</td>\n",
       "      <td>29</td>\n",
       "      <td>34</td>\n",
       "      <td>8948</td>\n",
       "    </tr>\n",
       "  </tbody>\n",
       "</table>\n",
       "</div>"
      ],
      "text/plain": [
       "     symboling normalized-losses        make fuel-type aspiration  \\\n",
       "160          0                91      toyota       gas        std   \n",
       "38           0               106       honda       gas        std   \n",
       "85           1               125  mitsubishi       gas        std   \n",
       "183          2               122  volkswagen       gas        std   \n",
       "173         -1                65      toyota       gas        std   \n",
       "\n",
       "    num-of-doors body-style drive-wheels engine-location  wheel-base  length  \\\n",
       "160         four      sedan          fwd           front        95.7   166.3   \n",
       "38           two  hatchback          fwd           front        96.5   167.5   \n",
       "85          four      sedan          fwd           front        96.3   172.4   \n",
       "183          two      sedan          fwd           front        97.3   171.7   \n",
       "173         four      sedan          fwd           front       102.4   175.6   \n",
       "\n",
       "     width  height  curb-weight engine-type num-of-cylinders  engine-size  \\\n",
       "160   64.4    53.0         2094         ohc             four           98   \n",
       "38    65.2    53.3         2289         ohc             four          110   \n",
       "85    65.4    51.6         2365         ohc             four          122   \n",
       "183   65.5    55.7         2209         ohc             four          109   \n",
       "173   66.5    54.9         2326         ohc             four          122   \n",
       "\n",
       "    fuel-system  bore stroke  compression-ratio horsepower peak-rpm  city-mpg  \\\n",
       "160        2bbl  3.19   3.03                9.0         70     4800        38   \n",
       "38         1bbl  3.15   3.58                9.0         86     5800        27   \n",
       "85         2bbl  3.35   3.46                8.5         88     5000        25   \n",
       "183        mpfi  3.19   3.40                9.0         85     5250        27   \n",
       "173        mpfi  3.31   3.54                8.7         92     4200        29   \n",
       "\n",
       "     highway-mpg price  \n",
       "160           47  7738  \n",
       "38            33  9095  \n",
       "85            32  6989  \n",
       "183           34  7975  \n",
       "173           34  8948  "
      ]
     },
     "execution_count": 15,
     "metadata": {},
     "output_type": "execute_result"
    }
   ],
   "source": [
    "df.sample(5)"
   ]
  },
  {
   "cell_type": "code",
   "execution_count": 16,
   "id": "0d562a34-2d3a-437c-a196-c905e40559a8",
   "metadata": {},
   "outputs": [
    {
     "name": "stdout",
     "output_type": "stream",
     "text": [
      "<class 'pandas.core.frame.DataFrame'>\n",
      "RangeIndex: 205 entries, 0 to 204\n",
      "Data columns (total 26 columns):\n",
      " #   Column             Non-Null Count  Dtype  \n",
      "---  ------             --------------  -----  \n",
      " 0   symboling          205 non-null    int64  \n",
      " 1   normalized-losses  205 non-null    object \n",
      " 2   make               205 non-null    object \n",
      " 3   fuel-type          205 non-null    object \n",
      " 4   aspiration         205 non-null    object \n",
      " 5   num-of-doors       205 non-null    object \n",
      " 6   body-style         205 non-null    object \n",
      " 7   drive-wheels       205 non-null    object \n",
      " 8   engine-location    205 non-null    object \n",
      " 9   wheel-base         205 non-null    float64\n",
      " 10  length             205 non-null    float64\n",
      " 11  width              205 non-null    float64\n",
      " 12  height             205 non-null    float64\n",
      " 13  curb-weight        205 non-null    int64  \n",
      " 14  engine-type        205 non-null    object \n",
      " 15  num-of-cylinders   205 non-null    object \n",
      " 16  engine-size        205 non-null    int64  \n",
      " 17  fuel-system        205 non-null    object \n",
      " 18  bore               205 non-null    object \n",
      " 19  stroke             205 non-null    object \n",
      " 20  compression-ratio  205 non-null    float64\n",
      " 21  horsepower         205 non-null    object \n",
      " 22  peak-rpm           205 non-null    object \n",
      " 23  city-mpg           205 non-null    int64  \n",
      " 24  highway-mpg        205 non-null    int64  \n",
      " 25  price              205 non-null    object \n",
      "dtypes: float64(5), int64(5), object(16)\n",
      "memory usage: 41.8+ KB\n"
     ]
    }
   ],
   "source": [
    "df.info()"
   ]
  },
  {
   "cell_type": "code",
   "execution_count": 18,
   "id": "adda4266-f73f-44a1-8e73-9e734f811a06",
   "metadata": {},
   "outputs": [
    {
     "data": {
      "text/plain": [
       "symboling             0\n",
       "normalized-losses    41\n",
       "make                  0\n",
       "fuel-type             0\n",
       "aspiration            0\n",
       "num-of-doors          2\n",
       "body-style            0\n",
       "drive-wheels          0\n",
       "engine-location       0\n",
       "wheel-base            0\n",
       "length                0\n",
       "width                 0\n",
       "height                0\n",
       "curb-weight           0\n",
       "engine-type           0\n",
       "num-of-cylinders      0\n",
       "engine-size           0\n",
       "fuel-system           0\n",
       "bore                  4\n",
       "stroke                4\n",
       "compression-ratio     0\n",
       "horsepower            2\n",
       "peak-rpm              2\n",
       "city-mpg              0\n",
       "highway-mpg           0\n",
       "price                 4\n",
       "dtype: int64"
      ]
     },
     "execution_count": 18,
     "metadata": {},
     "output_type": "execute_result"
    }
   ],
   "source": [
    "df.isin([\"?\"]).sum()  # NUMBER OF ROWS IN EACH COLUMN"
   ]
  },
  {
   "cell_type": "code",
   "execution_count": 20,
   "id": "175fdecc-1f10-4ad8-b383-f59f4c2c309e",
   "metadata": {},
   "outputs": [
    {
     "data": {
      "text/html": [
       "<div>\n",
       "<style scoped>\n",
       "    .dataframe tbody tr th:only-of-type {\n",
       "        vertical-align: middle;\n",
       "    }\n",
       "\n",
       "    .dataframe tbody tr th {\n",
       "        vertical-align: top;\n",
       "    }\n",
       "\n",
       "    .dataframe thead th {\n",
       "        text-align: right;\n",
       "    }\n",
       "</style>\n",
       "<table border=\"1\" class=\"dataframe\">\n",
       "  <thead>\n",
       "    <tr style=\"text-align: right;\">\n",
       "      <th></th>\n",
       "      <th>symboling</th>\n",
       "      <th>normalized-losses</th>\n",
       "      <th>make</th>\n",
       "      <th>fuel-type</th>\n",
       "      <th>aspiration</th>\n",
       "      <th>num-of-doors</th>\n",
       "      <th>body-style</th>\n",
       "      <th>drive-wheels</th>\n",
       "      <th>engine-location</th>\n",
       "      <th>wheel-base</th>\n",
       "      <th>length</th>\n",
       "      <th>width</th>\n",
       "      <th>height</th>\n",
       "      <th>curb-weight</th>\n",
       "      <th>engine-type</th>\n",
       "      <th>num-of-cylinders</th>\n",
       "      <th>engine-size</th>\n",
       "      <th>fuel-system</th>\n",
       "      <th>bore</th>\n",
       "      <th>stroke</th>\n",
       "      <th>compression-ratio</th>\n",
       "      <th>horsepower</th>\n",
       "      <th>peak-rpm</th>\n",
       "      <th>city-mpg</th>\n",
       "      <th>highway-mpg</th>\n",
       "      <th>price</th>\n",
       "    </tr>\n",
       "  </thead>\n",
       "  <tbody>\n",
       "    <tr>\n",
       "      <th>9</th>\n",
       "      <td>0</td>\n",
       "      <td>?</td>\n",
       "      <td>audi</td>\n",
       "      <td>gas</td>\n",
       "      <td>turbo</td>\n",
       "      <td>two</td>\n",
       "      <td>hatchback</td>\n",
       "      <td>4wd</td>\n",
       "      <td>front</td>\n",
       "      <td>99.5</td>\n",
       "      <td>178.2</td>\n",
       "      <td>67.9</td>\n",
       "      <td>52.0</td>\n",
       "      <td>3053</td>\n",
       "      <td>ohc</td>\n",
       "      <td>five</td>\n",
       "      <td>131</td>\n",
       "      <td>mpfi</td>\n",
       "      <td>3.13</td>\n",
       "      <td>3.40</td>\n",
       "      <td>7.0</td>\n",
       "      <td>160</td>\n",
       "      <td>5500</td>\n",
       "      <td>16</td>\n",
       "      <td>22</td>\n",
       "      <td>?</td>\n",
       "    </tr>\n",
       "    <tr>\n",
       "      <th>44</th>\n",
       "      <td>1</td>\n",
       "      <td>?</td>\n",
       "      <td>isuzu</td>\n",
       "      <td>gas</td>\n",
       "      <td>std</td>\n",
       "      <td>two</td>\n",
       "      <td>sedan</td>\n",
       "      <td>fwd</td>\n",
       "      <td>front</td>\n",
       "      <td>94.5</td>\n",
       "      <td>155.9</td>\n",
       "      <td>63.6</td>\n",
       "      <td>52.0</td>\n",
       "      <td>1874</td>\n",
       "      <td>ohc</td>\n",
       "      <td>four</td>\n",
       "      <td>90</td>\n",
       "      <td>2bbl</td>\n",
       "      <td>3.03</td>\n",
       "      <td>3.11</td>\n",
       "      <td>9.6</td>\n",
       "      <td>70</td>\n",
       "      <td>5400</td>\n",
       "      <td>38</td>\n",
       "      <td>43</td>\n",
       "      <td>?</td>\n",
       "    </tr>\n",
       "    <tr>\n",
       "      <th>45</th>\n",
       "      <td>0</td>\n",
       "      <td>?</td>\n",
       "      <td>isuzu</td>\n",
       "      <td>gas</td>\n",
       "      <td>std</td>\n",
       "      <td>four</td>\n",
       "      <td>sedan</td>\n",
       "      <td>fwd</td>\n",
       "      <td>front</td>\n",
       "      <td>94.5</td>\n",
       "      <td>155.9</td>\n",
       "      <td>63.6</td>\n",
       "      <td>52.0</td>\n",
       "      <td>1909</td>\n",
       "      <td>ohc</td>\n",
       "      <td>four</td>\n",
       "      <td>90</td>\n",
       "      <td>2bbl</td>\n",
       "      <td>3.03</td>\n",
       "      <td>3.11</td>\n",
       "      <td>9.6</td>\n",
       "      <td>70</td>\n",
       "      <td>5400</td>\n",
       "      <td>38</td>\n",
       "      <td>43</td>\n",
       "      <td>?</td>\n",
       "    </tr>\n",
       "    <tr>\n",
       "      <th>129</th>\n",
       "      <td>1</td>\n",
       "      <td>?</td>\n",
       "      <td>porsche</td>\n",
       "      <td>gas</td>\n",
       "      <td>std</td>\n",
       "      <td>two</td>\n",
       "      <td>hatchback</td>\n",
       "      <td>rwd</td>\n",
       "      <td>front</td>\n",
       "      <td>98.4</td>\n",
       "      <td>175.7</td>\n",
       "      <td>72.3</td>\n",
       "      <td>50.5</td>\n",
       "      <td>3366</td>\n",
       "      <td>dohcv</td>\n",
       "      <td>eight</td>\n",
       "      <td>203</td>\n",
       "      <td>mpfi</td>\n",
       "      <td>3.94</td>\n",
       "      <td>3.11</td>\n",
       "      <td>10.0</td>\n",
       "      <td>288</td>\n",
       "      <td>5750</td>\n",
       "      <td>17</td>\n",
       "      <td>28</td>\n",
       "      <td>?</td>\n",
       "    </tr>\n",
       "  </tbody>\n",
       "</table>\n",
       "</div>"
      ],
      "text/plain": [
       "     symboling normalized-losses     make fuel-type aspiration num-of-doors  \\\n",
       "9            0                 ?     audi       gas      turbo          two   \n",
       "44           1                 ?    isuzu       gas        std          two   \n",
       "45           0                 ?    isuzu       gas        std         four   \n",
       "129          1                 ?  porsche       gas        std          two   \n",
       "\n",
       "    body-style drive-wheels engine-location  wheel-base  length  width  \\\n",
       "9    hatchback          4wd           front        99.5   178.2   67.9   \n",
       "44       sedan          fwd           front        94.5   155.9   63.6   \n",
       "45       sedan          fwd           front        94.5   155.9   63.6   \n",
       "129  hatchback          rwd           front        98.4   175.7   72.3   \n",
       "\n",
       "     height  curb-weight engine-type num-of-cylinders  engine-size  \\\n",
       "9      52.0         3053         ohc             five          131   \n",
       "44     52.0         1874         ohc             four           90   \n",
       "45     52.0         1909         ohc             four           90   \n",
       "129    50.5         3366       dohcv            eight          203   \n",
       "\n",
       "    fuel-system  bore stroke  compression-ratio horsepower peak-rpm  city-mpg  \\\n",
       "9          mpfi  3.13   3.40                7.0        160     5500        16   \n",
       "44         2bbl  3.03   3.11                9.6         70     5400        38   \n",
       "45         2bbl  3.03   3.11                9.6         70     5400        38   \n",
       "129        mpfi  3.94   3.11               10.0        288     5750        17   \n",
       "\n",
       "     highway-mpg price  \n",
       "9             22     ?  \n",
       "44            43     ?  \n",
       "45            43     ?  \n",
       "129           28     ?  "
      ]
     },
     "execution_count": 20,
     "metadata": {},
     "output_type": "execute_result"
    }
   ],
   "source": [
    "df[df[\"price\"] == \"?\"]    # REMOVE ROWS WITH ? IN PRICE"
   ]
  },
  {
   "cell_type": "code",
   "execution_count": 21,
   "id": "dd2f03ff-5f6f-4a0c-8824-71af2031c7f9",
   "metadata": {},
   "outputs": [],
   "source": [
    "# DROP ROWS WITH ? IN PRICE\n",
    "df.drop(df.loc[df[\"price\"] == \"?\"].index, axis = 0, inplace = True)"
   ]
  },
  {
   "cell_type": "code",
   "execution_count": 22,
   "id": "3edb18ee-019e-41c0-9d3c-c2f63ba1873a",
   "metadata": {},
   "outputs": [
    {
     "data": {
      "text/plain": [
       "(201, 26)"
      ]
     },
     "execution_count": 22,
     "metadata": {},
     "output_type": "execute_result"
    }
   ],
   "source": [
    "df.shape"
   ]
  },
  {
   "cell_type": "code",
   "execution_count": 23,
   "id": "6673eda9-091c-4898-b930-d7880b787994",
   "metadata": {},
   "outputs": [],
   "source": [
    "# CHANGE TYPE OF PRICE FROM OBJECT TO FLOAT\n",
    "df[\"price\"] = df[\"price\"].astype(\"float\")"
   ]
  },
  {
   "cell_type": "markdown",
   "id": "50990715-38d8-40a7-9ae3-f373c517ca7a",
   "metadata": {},
   "source": [
    "### CHECK FEATURES THAT ARE IMPORTANT"
   ]
  },
  {
   "cell_type": "code",
   "execution_count": 24,
   "id": "edd5c586-f5d0-4222-b6ac-af3919a30aad",
   "metadata": {},
   "outputs": [],
   "source": [
    "features = ['symboling','wheel-base','length','width','height','compression-ratio',\n",
    "           'curb-weight','engine-size','city-mpg','highway-mpg','price']"
   ]
  },
  {
   "cell_type": "code",
   "execution_count": 26,
   "id": "18452358-d151-4bc3-a52a-a44036dd6b75",
   "metadata": {},
   "outputs": [],
   "source": [
    "cm = df[features].corr()"
   ]
  },
  {
   "cell_type": "code",
   "execution_count": 27,
   "id": "53e9e152-57f0-4c5e-a246-c64a81587ea6",
   "metadata": {},
   "outputs": [
    {
     "data": {
      "text/html": [
       "<div>\n",
       "<style scoped>\n",
       "    .dataframe tbody tr th:only-of-type {\n",
       "        vertical-align: middle;\n",
       "    }\n",
       "\n",
       "    .dataframe tbody tr th {\n",
       "        vertical-align: top;\n",
       "    }\n",
       "\n",
       "    .dataframe thead th {\n",
       "        text-align: right;\n",
       "    }\n",
       "</style>\n",
       "<table border=\"1\" class=\"dataframe\">\n",
       "  <thead>\n",
       "    <tr style=\"text-align: right;\">\n",
       "      <th></th>\n",
       "      <th>symboling</th>\n",
       "      <th>wheel-base</th>\n",
       "      <th>length</th>\n",
       "      <th>width</th>\n",
       "      <th>height</th>\n",
       "      <th>compression-ratio</th>\n",
       "      <th>curb-weight</th>\n",
       "      <th>engine-size</th>\n",
       "      <th>city-mpg</th>\n",
       "      <th>highway-mpg</th>\n",
       "      <th>price</th>\n",
       "    </tr>\n",
       "  </thead>\n",
       "  <tbody>\n",
       "    <tr>\n",
       "      <th>symboling</th>\n",
       "      <td>1.000000</td>\n",
       "      <td>-0.535987</td>\n",
       "      <td>-0.365404</td>\n",
       "      <td>-0.242423</td>\n",
       "      <td>-0.550160</td>\n",
       "      <td>-0.182196</td>\n",
       "      <td>-0.233118</td>\n",
       "      <td>-0.110581</td>\n",
       "      <td>-0.035527</td>\n",
       "      <td>0.036233</td>\n",
       "      <td>-0.082391</td>\n",
       "    </tr>\n",
       "    <tr>\n",
       "      <th>wheel-base</th>\n",
       "      <td>-0.535987</td>\n",
       "      <td>1.000000</td>\n",
       "      <td>0.876024</td>\n",
       "      <td>0.814507</td>\n",
       "      <td>0.590742</td>\n",
       "      <td>0.250313</td>\n",
       "      <td>0.782097</td>\n",
       "      <td>0.572027</td>\n",
       "      <td>-0.470606</td>\n",
       "      <td>-0.543304</td>\n",
       "      <td>0.584642</td>\n",
       "    </tr>\n",
       "    <tr>\n",
       "      <th>length</th>\n",
       "      <td>-0.365404</td>\n",
       "      <td>0.876024</td>\n",
       "      <td>1.000000</td>\n",
       "      <td>0.857170</td>\n",
       "      <td>0.492063</td>\n",
       "      <td>0.159733</td>\n",
       "      <td>0.880665</td>\n",
       "      <td>0.685025</td>\n",
       "      <td>-0.665192</td>\n",
       "      <td>-0.698142</td>\n",
       "      <td>0.690628</td>\n",
       "    </tr>\n",
       "    <tr>\n",
       "      <th>width</th>\n",
       "      <td>-0.242423</td>\n",
       "      <td>0.814507</td>\n",
       "      <td>0.857170</td>\n",
       "      <td>1.000000</td>\n",
       "      <td>0.306002</td>\n",
       "      <td>0.189867</td>\n",
       "      <td>0.866201</td>\n",
       "      <td>0.729436</td>\n",
       "      <td>-0.633531</td>\n",
       "      <td>-0.680635</td>\n",
       "      <td>0.751265</td>\n",
       "    </tr>\n",
       "    <tr>\n",
       "      <th>height</th>\n",
       "      <td>-0.550160</td>\n",
       "      <td>0.590742</td>\n",
       "      <td>0.492063</td>\n",
       "      <td>0.306002</td>\n",
       "      <td>1.000000</td>\n",
       "      <td>0.259737</td>\n",
       "      <td>0.307581</td>\n",
       "      <td>0.074694</td>\n",
       "      <td>-0.049800</td>\n",
       "      <td>-0.104812</td>\n",
       "      <td>0.135486</td>\n",
       "    </tr>\n",
       "    <tr>\n",
       "      <th>compression-ratio</th>\n",
       "      <td>-0.182196</td>\n",
       "      <td>0.250313</td>\n",
       "      <td>0.159733</td>\n",
       "      <td>0.189867</td>\n",
       "      <td>0.259737</td>\n",
       "      <td>1.000000</td>\n",
       "      <td>0.156433</td>\n",
       "      <td>0.028889</td>\n",
       "      <td>0.331425</td>\n",
       "      <td>0.268465</td>\n",
       "      <td>0.071107</td>\n",
       "    </tr>\n",
       "    <tr>\n",
       "      <th>curb-weight</th>\n",
       "      <td>-0.233118</td>\n",
       "      <td>0.782097</td>\n",
       "      <td>0.880665</td>\n",
       "      <td>0.866201</td>\n",
       "      <td>0.307581</td>\n",
       "      <td>0.156433</td>\n",
       "      <td>1.000000</td>\n",
       "      <td>0.849072</td>\n",
       "      <td>-0.749543</td>\n",
       "      <td>-0.794889</td>\n",
       "      <td>0.834415</td>\n",
       "    </tr>\n",
       "    <tr>\n",
       "      <th>engine-size</th>\n",
       "      <td>-0.110581</td>\n",
       "      <td>0.572027</td>\n",
       "      <td>0.685025</td>\n",
       "      <td>0.729436</td>\n",
       "      <td>0.074694</td>\n",
       "      <td>0.028889</td>\n",
       "      <td>0.849072</td>\n",
       "      <td>1.000000</td>\n",
       "      <td>-0.650546</td>\n",
       "      <td>-0.679571</td>\n",
       "      <td>0.872335</td>\n",
       "    </tr>\n",
       "    <tr>\n",
       "      <th>city-mpg</th>\n",
       "      <td>-0.035527</td>\n",
       "      <td>-0.470606</td>\n",
       "      <td>-0.665192</td>\n",
       "      <td>-0.633531</td>\n",
       "      <td>-0.049800</td>\n",
       "      <td>0.331425</td>\n",
       "      <td>-0.749543</td>\n",
       "      <td>-0.650546</td>\n",
       "      <td>1.000000</td>\n",
       "      <td>0.972044</td>\n",
       "      <td>-0.686571</td>\n",
       "    </tr>\n",
       "    <tr>\n",
       "      <th>highway-mpg</th>\n",
       "      <td>0.036233</td>\n",
       "      <td>-0.543304</td>\n",
       "      <td>-0.698142</td>\n",
       "      <td>-0.680635</td>\n",
       "      <td>-0.104812</td>\n",
       "      <td>0.268465</td>\n",
       "      <td>-0.794889</td>\n",
       "      <td>-0.679571</td>\n",
       "      <td>0.972044</td>\n",
       "      <td>1.000000</td>\n",
       "      <td>-0.704692</td>\n",
       "    </tr>\n",
       "    <tr>\n",
       "      <th>price</th>\n",
       "      <td>-0.082391</td>\n",
       "      <td>0.584642</td>\n",
       "      <td>0.690628</td>\n",
       "      <td>0.751265</td>\n",
       "      <td>0.135486</td>\n",
       "      <td>0.071107</td>\n",
       "      <td>0.834415</td>\n",
       "      <td>0.872335</td>\n",
       "      <td>-0.686571</td>\n",
       "      <td>-0.704692</td>\n",
       "      <td>1.000000</td>\n",
       "    </tr>\n",
       "  </tbody>\n",
       "</table>\n",
       "</div>"
      ],
      "text/plain": [
       "                   symboling  wheel-base    length     width    height  \\\n",
       "symboling           1.000000   -0.535987 -0.365404 -0.242423 -0.550160   \n",
       "wheel-base         -0.535987    1.000000  0.876024  0.814507  0.590742   \n",
       "length             -0.365404    0.876024  1.000000  0.857170  0.492063   \n",
       "width              -0.242423    0.814507  0.857170  1.000000  0.306002   \n",
       "height             -0.550160    0.590742  0.492063  0.306002  1.000000   \n",
       "compression-ratio  -0.182196    0.250313  0.159733  0.189867  0.259737   \n",
       "curb-weight        -0.233118    0.782097  0.880665  0.866201  0.307581   \n",
       "engine-size        -0.110581    0.572027  0.685025  0.729436  0.074694   \n",
       "city-mpg           -0.035527   -0.470606 -0.665192 -0.633531 -0.049800   \n",
       "highway-mpg         0.036233   -0.543304 -0.698142 -0.680635 -0.104812   \n",
       "price              -0.082391    0.584642  0.690628  0.751265  0.135486   \n",
       "\n",
       "                   compression-ratio  curb-weight  engine-size  city-mpg  \\\n",
       "symboling                  -0.182196    -0.233118    -0.110581 -0.035527   \n",
       "wheel-base                  0.250313     0.782097     0.572027 -0.470606   \n",
       "length                      0.159733     0.880665     0.685025 -0.665192   \n",
       "width                       0.189867     0.866201     0.729436 -0.633531   \n",
       "height                      0.259737     0.307581     0.074694 -0.049800   \n",
       "compression-ratio           1.000000     0.156433     0.028889  0.331425   \n",
       "curb-weight                 0.156433     1.000000     0.849072 -0.749543   \n",
       "engine-size                 0.028889     0.849072     1.000000 -0.650546   \n",
       "city-mpg                    0.331425    -0.749543    -0.650546  1.000000   \n",
       "highway-mpg                 0.268465    -0.794889    -0.679571  0.972044   \n",
       "price                       0.071107     0.834415     0.872335 -0.686571   \n",
       "\n",
       "                   highway-mpg     price  \n",
       "symboling             0.036233 -0.082391  \n",
       "wheel-base           -0.543304  0.584642  \n",
       "length               -0.698142  0.690628  \n",
       "width                -0.680635  0.751265  \n",
       "height               -0.104812  0.135486  \n",
       "compression-ratio     0.268465  0.071107  \n",
       "curb-weight          -0.794889  0.834415  \n",
       "engine-size          -0.679571  0.872335  \n",
       "city-mpg              0.972044 -0.686571  \n",
       "highway-mpg           1.000000 -0.704692  \n",
       "price                -0.704692  1.000000  "
      ]
     },
     "execution_count": 27,
     "metadata": {},
     "output_type": "execute_result"
    }
   ],
   "source": [
    "cm"
   ]
  },
  {
   "cell_type": "code",
   "execution_count": 29,
   "id": "e6948988-cde2-4e97-8831-e27040fc1e0e",
   "metadata": {},
   "outputs": [
    {
     "data": {
      "text/plain": [
       "price                1.000000\n",
       "engine-size          0.872335\n",
       "curb-weight          0.834415\n",
       "width                0.751265\n",
       "highway-mpg          0.704692\n",
       "length               0.690628\n",
       "city-mpg             0.686571\n",
       "wheel-base           0.584642\n",
       "height               0.135486\n",
       "symboling            0.082391\n",
       "compression-ratio    0.071107\n",
       "Name: price, dtype: float64"
      ]
     },
     "execution_count": 29,
     "metadata": {},
     "output_type": "execute_result"
    }
   ],
   "source": [
    "np.abs(cm[\"price\"]).sort_values(ascending = False)"
   ]
  },
  {
   "cell_type": "code",
   "execution_count": 30,
   "id": "0ca6495f-a20c-40b7-8c10-a607b465d429",
   "metadata": {},
   "outputs": [],
   "source": [
    "# pick up only required fields \n",
    "features = ['make','fuel-type','num-of-doors','body-style','drive-wheels','curb-weight',\n",
    "            'engine-size','highway-mpg','price']"
   ]
  },
  {
   "cell_type": "code",
   "execution_count": 31,
   "id": "a7278c4e-03dd-435a-995f-4671065627b8",
   "metadata": {},
   "outputs": [],
   "source": [
    "cars =df.loc[:, features]"
   ]
  },
  {
   "cell_type": "code",
   "execution_count": 32,
   "id": "93daec85-9529-4182-a5df-a1206e4f1f0c",
   "metadata": {},
   "outputs": [
    {
     "name": "stdout",
     "output_type": "stream",
     "text": [
      "<class 'pandas.core.frame.DataFrame'>\n",
      "Int64Index: 201 entries, 0 to 204\n",
      "Data columns (total 9 columns):\n",
      " #   Column        Non-Null Count  Dtype  \n",
      "---  ------        --------------  -----  \n",
      " 0   make          201 non-null    object \n",
      " 1   fuel-type     201 non-null    object \n",
      " 2   num-of-doors  201 non-null    object \n",
      " 3   body-style    201 non-null    object \n",
      " 4   drive-wheels  201 non-null    object \n",
      " 5   curb-weight   201 non-null    int64  \n",
      " 6   engine-size   201 non-null    int64  \n",
      " 7   highway-mpg   201 non-null    int64  \n",
      " 8   price         201 non-null    float64\n",
      "dtypes: float64(1), int64(3), object(5)\n",
      "memory usage: 15.7+ KB\n"
     ]
    }
   ],
   "source": [
    "cars.info()"
   ]
  },
  {
   "cell_type": "markdown",
   "id": "9dd4b6d3-1b8d-4bd1-8352-eb93b771aeb9",
   "metadata": {},
   "source": [
    "### UNIVARIATE ANALYSIS"
   ]
  },
  {
   "cell_type": "markdown",
   "id": "34f93480-328d-4bfc-b398-687bc756e57a",
   "metadata": {},
   "source": [
    "### PRICE"
   ]
  },
  {
   "cell_type": "code",
   "execution_count": 33,
   "id": "3a4b0f70-1df3-4fa7-8fcd-5821ec115e49",
   "metadata": {},
   "outputs": [
    {
     "data": {
      "text/plain": [
       "<seaborn.axisgrid.FacetGrid at 0x181ba295bb0>"
      ]
     },
     "execution_count": 33,
     "metadata": {},
     "output_type": "execute_result"
    },
    {
     "data": {
      "image/png": "[encoded data removed]",
      "text/plain": [
       "<Figure size 360x360 with 1 Axes>"
      ]
     },
     "metadata": {
      "needs_background": "light"
     },
     "output_type": "display_data"
    }
   ],
   "source": [
    "sns.displot(cars[\"price\"], kde = True)"
   ]
  },
  {
   "cell_type": "code",
   "execution_count": 34,
   "id": "b628eb89-a081-46d0-b95e-e10ff8d3a036",
   "metadata": {},
   "outputs": [
    {
     "data": {
      "text/plain": [
       "count      201.000000\n",
       "mean     13207.129353\n",
       "std       7947.066342\n",
       "min       5118.000000\n",
       "25%       7775.000000\n",
       "50%      10295.000000\n",
       "75%      16500.000000\n",
       "max      45400.000000\n",
       "Name: price, dtype: float64"
      ]
     },
     "execution_count": 34,
     "metadata": {},
     "output_type": "execute_result"
    }
   ],
   "source": [
    "cars[\"price\"].describe()"
   ]
  },
  {
   "cell_type": "code",
   "execution_count": 36,
   "id": "cb33773f-e14a-47c4-9072-ce33e9c2fc0e",
   "metadata": {},
   "outputs": [
    {
     "data": {
      "text/plain": [
       "<AxesSubplot:xlabel='price'>"
      ]
     },
     "execution_count": 36,
     "metadata": {},
     "output_type": "execute_result"
    },
    {
     "data": {
      "image/png": "[encoded data removed]",
      "text/plain": [
       "<Figure size 432x288 with 1 Axes>"
      ]
     },
     "metadata": {
      "needs_background": "light"
     },
     "output_type": "display_data"
    }
   ],
   "source": [
    "sns.boxplot(x = cars[\"price\"], showmeans = True, meanline = True)"
   ]
  },
  {
   "cell_type": "markdown",
   "id": "f48e973d-f7d0-430d-b1f9-b24aeb20f4a1",
   "metadata": {},
   "source": [
    "### FUEL TYPE"
   ]
  },
  {
   "cell_type": "code",
   "execution_count": 37,
   "id": "8b55a7ba-802d-43ac-9713-73a5b4aaae8f",
   "metadata": {},
   "outputs": [
    {
     "data": {
      "text/plain": [
       "gas       181\n",
       "diesel     20\n",
       "Name: fuel-type, dtype: int64"
      ]
     },
     "execution_count": 37,
     "metadata": {},
     "output_type": "execute_result"
    }
   ],
   "source": [
    "cars[\"fuel-type\"].value_counts()"
   ]
  },
  {
   "cell_type": "code",
   "execution_count": 38,
   "id": "eb5e47ea-ff8f-48d9-a43e-e3ae2cab8ccb",
   "metadata": {},
   "outputs": [
    {
     "data": {
      "text/plain": [
       "<AxesSubplot:xlabel='fuel-type', ylabel='count'>"
      ]
     },
     "execution_count": 38,
     "metadata": {},
     "output_type": "execute_result"
    },
    {
     "data": {
      "image/png": "[encoded data removed]",
      "text/plain": [
       "<Figure size 432x288 with 1 Axes>"
      ]
     },
     "metadata": {
      "needs_background": "light"
     },
     "output_type": "display_data"
    }
   ],
   "source": [
    "sns.countplot(x = cars[\"fuel-type\"])"
   ]
  },
  {
   "cell_type": "code",
   "execution_count": 42,
   "id": "369a60dc-2398-4ddf-812a-f8f4f54eda98",
   "metadata": {},
   "outputs": [
    {
     "data": {
      "text/plain": [
       "fuel-type\n",
       "diesel    13852.5\n",
       "gas        9989.0\n",
       "Name: price, dtype: float64"
      ]
     },
     "execution_count": 42,
     "metadata": {},
     "output_type": "execute_result"
    }
   ],
   "source": [
    "cars.groupby(\"fuel-type\")[\"price\"].median()"
   ]
  },
  {
   "cell_type": "code",
   "execution_count": 43,
   "id": "e6b7ffad-790d-4d9a-895e-102d23ba251c",
   "metadata": {},
   "outputs": [
    {
     "data": {
      "text/plain": [
       "<seaborn.axisgrid.FacetGrid at 0x181ba2981f0>"
      ]
     },
     "execution_count": 43,
     "metadata": {},
     "output_type": "execute_result"
    },
    {
     "data": {
      "image/png": "[encoded data removed]",
      "text/plain": [
       "<Figure size 360x360 with 1 Axes>"
      ]
     },
     "metadata": {
      "needs_background": "light"
     },
     "output_type": "display_data"
    }
   ],
   "source": [
    "sns.catplot(x = \"fuel-type\", y = \"price\", data = cars, kind = \"box\")"
   ]
  },
  {
   "cell_type": "markdown",
   "id": "81af895a-8fac-4386-818a-5e39905a9b20",
   "metadata": {},
   "source": [
    "# MAKE"
   ]
  },
  {
   "cell_type": "code",
   "execution_count": 44,
   "id": "2c125067-7aa9-4cbf-8404-8b352e14e633",
   "metadata": {},
   "outputs": [
    {
     "data": {
      "text/plain": [
       "array(['alfa-romero', 'audi', 'bmw', 'chevrolet', 'dodge', 'honda',\n",
       "       'isuzu', 'jaguar', 'mazda', 'mercedes-benz', 'mercury',\n",
       "       'mitsubishi', 'nissan', 'peugot', 'plymouth', 'porsche', 'renault',\n",
       "       'saab', 'subaru', 'toyota', 'volkswagen', 'volvo'], dtype=object)"
      ]
     },
     "execution_count": 44,
     "metadata": {},
     "output_type": "execute_result"
    }
   ],
   "source": [
    "cars[\"make\"].unique()"
   ]
  },
  {
   "cell_type": "code",
   "execution_count": 47,
   "id": "b4d51ef0-3449-46b3-9c8a-8f8035101399",
   "metadata": {},
   "outputs": [
    {
     "data": {
      "text/plain": [
       "22"
      ]
     },
     "execution_count": 47,
     "metadata": {},
     "output_type": "execute_result"
    }
   ],
   "source": [
    "cars[\"make\"].unique().size"
   ]
  },
  {
   "cell_type": "code",
   "execution_count": 48,
   "id": "3efe46c8-c57b-4f2d-948c-bbe807ed71ae",
   "metadata": {},
   "outputs": [
    {
     "data": {
      "text/plain": [
       "<AxesSubplot:xlabel='make', ylabel='price'>"
      ]
     },
     "execution_count": 48,
     "metadata": {},
     "output_type": "execute_result"
    },
    {
     "data": {
      "image/png": "[encoded data removed]",
      "text/plain": [
       "<Figure size 1440x360 with 1 Axes>"
      ]
     },
     "metadata": {
      "needs_background": "light"
     },
     "output_type": "display_data"
    }
   ],
   "source": [
    "g = cars.groupby('make', as_index = False)['price'].mean()\n",
    "plt.gcf().set_size_inches(20,5)\n",
    "plt.xticks(rotation='vertical')\n",
    "sns.barplot(x = g['make'], y = g['price'])"
   ]
  },
  {
   "cell_type": "code",
   "execution_count": 49,
   "id": "92fb563b-209b-49e8-92dd-31328628b51a",
   "metadata": {},
   "outputs": [
    {
     "data": {
      "text/plain": [
       "make\n",
       "jaguar           34600.000000\n",
       "mercedes-benz    33647.000000\n",
       "porsche          31400.500000\n",
       "bmw              26118.750000\n",
       "volvo            18063.181818\n",
       "audi             17859.166667\n",
       "mercury          16503.000000\n",
       "alfa-romero      15498.333333\n",
       "peugot           15489.090909\n",
       "saab             15223.333333\n",
       "mazda            10652.882353\n",
       "nissan           10415.666667\n",
       "volkswagen       10077.500000\n",
       "toyota            9885.812500\n",
       "renault           9595.000000\n",
       "mitsubishi        9239.769231\n",
       "isuzu             8916.500000\n",
       "subaru            8541.250000\n",
       "honda             8184.692308\n",
       "plymouth          7963.428571\n",
       "dodge             7875.444444\n",
       "chevrolet         6007.000000\n",
       "Name: price, dtype: float64"
      ]
     },
     "execution_count": 49,
     "metadata": {},
     "output_type": "execute_result"
    }
   ],
   "source": [
    "cars.groupby('make')['price'].mean().sort_values(ascending=False)"
   ]
  },
  {
   "cell_type": "code",
   "execution_count": 50,
   "id": "696d4a71-c7e6-4162-907b-39f658a05193",
   "metadata": {},
   "outputs": [
    {
     "data": {
      "text/plain": [
       "<AxesSubplot:xlabel='make', ylabel='count'>"
      ]
     },
     "execution_count": 50,
     "metadata": {},
     "output_type": "execute_result"
    },
    {
     "data": {
      "image/png": "[encoded data removed]",
      "text/plain": [
       "<Figure size 1440x360 with 1 Axes>"
      ]
     },
     "metadata": {
      "needs_background": "light"
     },
     "output_type": "display_data"
    }
   ],
   "source": [
    "# Understand distribution of make\n",
    "plt.gcf().set_size_inches(20,5)\n",
    "plt.xticks(rotation='vertical')\n",
    "sns.countplot(x= cars['make'])"
   ]
  },
  {
   "cell_type": "code",
   "execution_count": 51,
   "id": "d77db88c-79b0-4a1b-9f20-22564373a73c",
   "metadata": {},
   "outputs": [
    {
     "data": {
      "text/plain": [
       "toyota           32\n",
       "nissan           18\n",
       "mazda            17\n",
       "mitsubishi       13\n",
       "honda            13\n",
       "volkswagen       12\n",
       "subaru           12\n",
       "peugot           11\n",
       "volvo            11\n",
       "dodge             9\n",
       "mercedes-benz     8\n",
       "bmw               8\n",
       "plymouth          7\n",
       "audi              6\n",
       "saab              6\n",
       "porsche           4\n",
       "jaguar            3\n",
       "chevrolet         3\n",
       "alfa-romero       3\n",
       "isuzu             2\n",
       "renault           2\n",
       "mercury           1\n",
       "Name: make, dtype: int64"
      ]
     },
     "execution_count": 51,
     "metadata": {},
     "output_type": "execute_result"
    }
   ],
   "source": [
    "cars[\"make\"].value_counts()"
   ]
  },
  {
   "cell_type": "markdown",
   "id": "1b6eb78e-d713-49c0-9560-d5ed0d9dac46",
   "metadata": {},
   "source": [
    "### BODY STYLE"
   ]
  },
  {
   "cell_type": "code",
   "execution_count": 52,
   "id": "73be201d-7457-40d9-93e2-f6d4889f187d",
   "metadata": {},
   "outputs": [
    {
     "data": {
      "text/plain": [
       "<AxesSubplot:xlabel='body-style', ylabel='count'>"
      ]
     },
     "execution_count": 52,
     "metadata": {},
     "output_type": "execute_result"
    },
    {
     "data": {
      "image/png": "[encoded data removed]",
      "text/plain": [
       "<Figure size 432x288 with 1 Axes>"
      ]
     },
     "metadata": {
      "needs_background": "light"
     },
     "output_type": "display_data"
    }
   ],
   "source": [
    "sns.countplot(x = cars[\"body-style\"])"
   ]
  },
  {
   "cell_type": "code",
   "execution_count": 53,
   "id": "3114fae2-c84a-48b4-a929-1a3a665e7531",
   "metadata": {},
   "outputs": [
    {
     "data": {
      "text/plain": [
       "<AxesSubplot:xlabel='body-style', ylabel='price'>"
      ]
     },
     "execution_count": 53,
     "metadata": {},
     "output_type": "execute_result"
    },
    {
     "data": {
      "image/png": "[encoded data removed]",
      "text/plain": [
       "<Figure size 432x288 with 1 Axes>"
      ]
     },
     "metadata": {
      "needs_background": "light"
     },
     "output_type": "display_data"
    }
   ],
   "source": [
    "g = cars.groupby('body-style', as_index = False)['price'].mean()\n",
    "sns.barplot(x = g['body-style'], y = g['price'])"
   ]
  },
  {
   "cell_type": "code",
   "execution_count": 54,
   "id": "13bb4e6b-7eed-4386-b7cf-2ab3df357c44",
   "metadata": {},
   "outputs": [
    {
     "data": {
      "text/plain": [
       "sedan          94\n",
       "hatchback      68\n",
       "wagon          25\n",
       "hardtop         8\n",
       "convertible     6\n",
       "Name: body-style, dtype: int64"
      ]
     },
     "execution_count": 54,
     "metadata": {},
     "output_type": "execute_result"
    }
   ],
   "source": [
    "cars[\"body-style\"].value_counts()"
   ]
  },
  {
   "cell_type": "markdown",
   "id": "ae377c19-c30d-4ddd-90c3-4bef562aff8f",
   "metadata": {},
   "source": [
    "### NUM OF DOORS"
   ]
  },
  {
   "cell_type": "code",
   "execution_count": 55,
   "id": "37bba232-fe19-4452-a398-5ad98eeeb72a",
   "metadata": {},
   "outputs": [
    {
     "data": {
      "text/plain": [
       "four    113\n",
       "two      86\n",
       "?         2\n",
       "Name: num-of-doors, dtype: int64"
      ]
     },
     "execution_count": 55,
     "metadata": {},
     "output_type": "execute_result"
    }
   ],
   "source": [
    "cars[\"num-of-doors\"].value_counts()"
   ]
  },
  {
   "cell_type": "code",
   "execution_count": 58,
   "id": "acfbdce3-27eb-494c-ad66-3e4df6b3d48f",
   "metadata": {},
   "outputs": [
    {
     "data": {
      "text/plain": [
       "<AxesSubplot:xlabel='num-of-doors', ylabel='count'>"
      ]
     },
     "execution_count": 58,
     "metadata": {},
     "output_type": "execute_result"
    },
    {
     "data": {
      "image/png": "[encoded data removed]",
      "text/plain": [
       "<Figure size 432x288 with 1 Axes>"
      ]
     },
     "metadata": {
      "needs_background": "light"
     },
     "output_type": "display_data"
    }
   ],
   "source": [
    "sns.countplot(x = cars[\"num-of-doors\"])"
   ]
  },
  {
   "cell_type": "code",
   "execution_count": 59,
   "id": "2e906606-e364-44b1-bd1b-d31f7e1e448f",
   "metadata": {},
   "outputs": [],
   "source": [
    "# Replace ? in no-of-doors with mode of no-of-doors\n",
    "cars.loc[cars['num-of-doors'] == '?', 'num-of-doors'] = cars['num-of-doors'].mode()[0]"
   ]
  },
  {
   "cell_type": "code",
   "execution_count": 60,
   "id": "119e840e-d59d-46fe-bf6b-3d17dd39d208",
   "metadata": {},
   "outputs": [
    {
     "data": {
      "text/plain": [
       "four    115\n",
       "two      86\n",
       "Name: num-of-doors, dtype: int64"
      ]
     },
     "execution_count": 60,
     "metadata": {},
     "output_type": "execute_result"
    }
   ],
   "source": [
    "cars[\"num-of-doors\"].value_counts()"
   ]
  },
  {
   "cell_type": "code",
   "execution_count": 61,
   "id": "675f6f23-0eb8-4334-beae-0cc7671cc600",
   "metadata": {},
   "outputs": [
    {
     "data": {
      "text/plain": [
       "<AxesSubplot:xlabel='num-of-doors', ylabel='count'>"
      ]
     },
     "execution_count": 61,
     "metadata": {},
     "output_type": "execute_result"
    },
    {
     "data": {
      "image/png": "[encoded data removed]",
      "text/plain": [
       "<Figure size 432x288 with 1 Axes>"
      ]
     },
     "metadata": {
      "needs_background": "light"
     },
     "output_type": "display_data"
    }
   ],
   "source": [
    "sns.countplot(x = \"num-of-doors\", data = cars)"
   ]
  },
  {
   "cell_type": "markdown",
   "id": "e6f75e02-ab1c-4b8e-b9d3-f4bbcef089db",
   "metadata": {},
   "source": [
    "### DRIVE WHEEL"
   ]
  },
  {
   "cell_type": "code",
   "execution_count": 62,
   "id": "a146a4a8-4b2c-4970-8a0b-fa80a5f3ac43",
   "metadata": {},
   "outputs": [
    {
     "data": {
      "text/plain": [
       "<AxesSubplot:xlabel='drive-wheels', ylabel='price'>"
      ]
     },
     "execution_count": 62,
     "metadata": {},
     "output_type": "execute_result"
    },
    {
     "data": {
      "image/png": "[encoded data removed]",
      "text/plain": [
       "<Figure size 432x288 with 1 Axes>"
      ]
     },
     "metadata": {
      "needs_background": "light"
     },
     "output_type": "display_data"
    }
   ],
   "source": [
    "sns.barplot(x=\"drive-wheels\", y='price', data=cars, ci= False)"
   ]
  },
  {
   "cell_type": "code",
   "execution_count": 63,
   "id": "03d1d6a8-f082-463d-8cc9-3a73b039d2b2",
   "metadata": {},
   "outputs": [
    {
     "data": {
      "text/plain": [
       "<AxesSubplot:xlabel='drive-wheels', ylabel='count'>"
      ]
     },
     "execution_count": 63,
     "metadata": {},
     "output_type": "execute_result"
    },
    {
     "data": {
      "image/png": "[encoded data removed]",
      "text/plain": [
       "<Figure size 432x288 with 1 Axes>"
      ]
     },
     "metadata": {
      "needs_background": "light"
     },
     "output_type": "display_data"
    }
   ],
   "source": [
    "sns.countplot(x=\"drive-wheels\", data=cars)"
   ]
  },
  {
   "cell_type": "markdown",
   "id": "915480e8-47a1-4319-8dd1-60d3cd68bc3d",
   "metadata": {},
   "source": [
    "### ENGINE SIZE"
   ]
  },
  {
   "cell_type": "code",
   "execution_count": 64,
   "id": "8e7af6a3-27b6-44ae-93c6-fc38a35a2577",
   "metadata": {},
   "outputs": [
    {
     "data": {
      "text/plain": [
       "<AxesSubplot:xlabel='engine-size'>"
      ]
     },
     "execution_count": 64,
     "metadata": {},
     "output_type": "execute_result"
    },
    {
     "data": {
      "image/png": "[encoded data removed]",
      "text/plain": [
       "<Figure size 432x288 with 1 Axes>"
      ]
     },
     "metadata": {
      "needs_background": "light"
     },
     "output_type": "display_data"
    }
   ],
   "source": [
    "sns.boxplot(x = \"engine-size\", data = cars)"
   ]
  },
  {
   "cell_type": "code",
   "execution_count": 65,
   "id": "6c4e7067-1b47-4950-93f0-984e8b0dc453",
   "metadata": {},
   "outputs": [
    {
     "data": {
      "text/plain": [
       "<AxesSubplot:xlabel='make', ylabel='engine-size'>"
      ]
     },
     "execution_count": 65,
     "metadata": {},
     "output_type": "execute_result"
    },
    {
     "data": {
      "image/png": "[encoded data removed]",
      "text/plain": [
       "<Figure size 1440x360 with 1 Axes>"
      ]
     },
     "metadata": {
      "needs_background": "light"
     },
     "output_type": "display_data"
    }
   ],
   "source": [
    "plt.gcf().set_size_inches(20,5)\n",
    "plt.xticks(rotation='vertical')\n",
    "sns.barplot(x='make',y='engine-size', data=cars, ci=False)"
   ]
  },
  {
   "cell_type": "markdown",
   "id": "c68199ed-7c68-48e0-87e0-c798d595e69c",
   "metadata": {},
   "source": [
    "### HIGHWAY-MPG"
   ]
  },
  {
   "cell_type": "code",
   "execution_count": 70,
   "id": "782b6f2f-7b16-4fc4-b687-ce70a2da5de9",
   "metadata": {},
   "outputs": [
    {
     "data": {
      "text/plain": [
       "<seaborn.axisgrid.FacetGrid at 0x181bc2e9e20>"
      ]
     },
     "execution_count": 70,
     "metadata": {},
     "output_type": "execute_result"
    },
    {
     "data": {
      "image/png": "[encoded data removed]",
      "text/plain": [
       "<Figure size 360x360 with 1 Axes>"
      ]
     },
     "metadata": {
      "needs_background": "light"
     },
     "output_type": "display_data"
    }
   ],
   "source": [
    "sns.displot(x = cars[\"highway-mpg\"], kde = False)"
   ]
  },
  {
   "cell_type": "code",
   "execution_count": 71,
   "id": "9708c9e9-f862-40fe-bfc1-255f1778b08f",
   "metadata": {},
   "outputs": [
    {
     "data": {
      "text/plain": [
       "<AxesSubplot:xlabel='make', ylabel='highway-mpg'>"
      ]
     },
     "execution_count": 71,
     "metadata": {},
     "output_type": "execute_result"
    },
    {
     "data": {
      "image/png": "[encoded data removed]",
      "text/plain": [
       "<Figure size 1440x360 with 1 Axes>"
      ]
     },
     "metadata": {
      "needs_background": "light"
     },
     "output_type": "display_data"
    }
   ],
   "source": [
    "plt.gcf().set_size_inches(20,5)\n",
    "plt.xticks(rotation='vertical')\n",
    "sns.barplot(x='make', y = 'highway-mpg', data = cars, ci=False)"
   ]
  },
  {
   "cell_type": "code",
   "execution_count": 72,
   "id": "88743775-10e0-46ad-b614-edab391c158a",
   "metadata": {},
   "outputs": [
    {
     "data": {
      "text/plain": [
       "make            0\n",
       "fuel-type       0\n",
       "num-of-doors    0\n",
       "body-style      0\n",
       "drive-wheels    0\n",
       "curb-weight     0\n",
       "engine-size     0\n",
       "highway-mpg     0\n",
       "price           0\n",
       "dtype: int64"
      ]
     },
     "execution_count": 72,
     "metadata": {},
     "output_type": "execute_result"
    }
   ],
   "source": [
    "cars.isin([\"?\"]).sum()"
   ]
  },
  {
   "cell_type": "code",
   "execution_count": 73,
   "id": "a7d1c650-6a7d-462e-ad0d-e9b43dbb5c3a",
   "metadata": {},
   "outputs": [
    {
     "data": {
      "text/plain": [
       "<AxesSubplot:>"
      ]
     },
     "execution_count": 73,
     "metadata": {},
     "output_type": "execute_result"
    },
    {
     "data": {
      "image/png": "[encoded data removed]",
      "text/plain": [
       "<Figure size 432x288 with 2 Axes>"
      ]
     },
     "metadata": {
      "needs_background": "light"
     },
     "output_type": "display_data"
    }
   ],
   "source": [
    "sns.heatmap(cars.corr(), annot = True)"
   ]
  },
  {
   "cell_type": "code",
   "execution_count": 74,
   "id": "b1245c72-6e01-42f1-8b9a-fd42b3740bbd",
   "metadata": {},
   "outputs": [
    {
     "data": {
      "text/plain": [
       "<AxesSubplot:xlabel='curb-weight', ylabel='highway-mpg'>"
      ]
     },
     "execution_count": 74,
     "metadata": {},
     "output_type": "execute_result"
    },
    {
     "data": {
      "image/png": "[encoded data removed]",
      "text/plain": [
       "<Figure size 432x288 with 1 Axes>"
      ]
     },
     "metadata": {
      "needs_background": "light"
     },
     "output_type": "display_data"
    }
   ],
   "source": [
    "sns.regplot(x=\"curb-weight\", y = \"highway-mpg\", data=cars)"
   ]
  },
  {
   "cell_type": "code",
   "execution_count": 75,
   "id": "048b04b4-d323-45f4-8a34-935eef8b25cd",
   "metadata": {},
   "outputs": [
    {
     "data": {
      "text/plain": [
       "<AxesSubplot:xlabel='engine-size', ylabel='price'>"
      ]
     },
     "execution_count": 75,
     "metadata": {},
     "output_type": "execute_result"
    },
    {
     "data": {
      "image/png": "[encoded data removed]",
      "text/plain": [
       "<Figure size 432x288 with 1 Axes>"
      ]
     },
     "metadata": {
      "needs_background": "light"
     },
     "output_type": "display_data"
    }
   ],
   "source": [
    "# Compare Engine size with price \n",
    "sns.regplot(x =\"engine-size\", y = 'price', data = cars,ci=False)"
   ]
  },
  {
   "cell_type": "code",
   "execution_count": 76,
   "id": "73f60430-7452-4dd8-b732-3e907d73b8f4",
   "metadata": {},
   "outputs": [
    {
     "data": {
      "text/plain": [
       "<AxesSubplot:xlabel='highway-mpg', ylabel='price'>"
      ]
     },
     "execution_count": 76,
     "metadata": {},
     "output_type": "execute_result"
    },
    {
     "data": {
      "image/png": "[encoded data removed]",
      "text/plain": [
       "<Figure size 432x288 with 1 Axes>"
      ]
     },
     "metadata": {
      "needs_background": "light"
     },
     "output_type": "display_data"
    }
   ],
   "source": [
    "# Compare city-mpg with price \n",
    "sns.regplot(x =\"highway-mpg\", y = 'price', data = cars, ci = False)"
   ]
  },
  {
   "cell_type": "markdown",
   "id": "9c642d34-8e50-4afc-9816-7717a758f728",
   "metadata": {},
   "source": [
    "### SAVE FINAL DF"
   ]
  },
  {
   "cell_type": "code",
   "execution_count": 77,
   "id": "3142f9b3-f812-4e68-9d4b-554de93fdd1d",
   "metadata": {},
   "outputs": [
    {
     "name": "stdout",
     "output_type": "stream",
     "text": [
      "<class 'pandas.core.frame.DataFrame'>\n",
      "Int64Index: 201 entries, 0 to 204\n",
      "Data columns (total 9 columns):\n",
      " #   Column        Non-Null Count  Dtype  \n",
      "---  ------        --------------  -----  \n",
      " 0   make          201 non-null    object \n",
      " 1   fuel-type     201 non-null    object \n",
      " 2   num-of-doors  201 non-null    object \n",
      " 3   body-style    201 non-null    object \n",
      " 4   drive-wheels  201 non-null    object \n",
      " 5   curb-weight   201 non-null    int64  \n",
      " 6   engine-size   201 non-null    int64  \n",
      " 7   highway-mpg   201 non-null    int64  \n",
      " 8   price         201 non-null    float64\n",
      "dtypes: float64(1), int64(3), object(5)\n",
      "memory usage: 23.8+ KB\n"
     ]
    }
   ],
   "source": [
    "cars.info()"
   ]
  },
  {
   "cell_type": "code",
   "execution_count": 78,
   "id": "37e43853-2e00-457b-85b0-9a535601cac9",
   "metadata": {},
   "outputs": [
    {
     "data": {
      "text/plain": [
       "Index(['make', 'fuel-type', 'num-of-doors', 'body-style', 'drive-wheels',\n",
       "       'curb-weight', 'engine-size', 'highway-mpg', 'price'],\n",
       "      dtype='object')"
      ]
     },
     "execution_count": 78,
     "metadata": {},
     "output_type": "execute_result"
    }
   ],
   "source": [
    "cars.columns"
   ]
  },
  {
   "cell_type": "code",
   "execution_count": 79,
   "id": "fcb08bcf-5a6a-44be-9e30-17702488c413",
   "metadata": {},
   "outputs": [
    {
     "data": {
      "text/plain": [
       "(201, 9)"
      ]
     },
     "execution_count": 79,
     "metadata": {},
     "output_type": "execute_result"
    }
   ],
   "source": [
    "cars.shape"
   ]
  },
  {
   "cell_type": "code",
   "execution_count": 80,
   "id": "78a0cc84-1208-4448-970d-9af1d1e4b384",
   "metadata": {},
   "outputs": [],
   "source": [
    "cars.to_csv(\"final_cars.csv\", index = False)"
   ]
  },
  {
   "cell_type": "code",
   "execution_count": 81,
   "id": "ef58c5cd-2d10-4dcc-8b1d-217f118942c5",
   "metadata": {},
   "outputs": [
    {
     "data": {
      "text/plain": [
       "<AxesSubplot:xlabel='highway-mpg', ylabel='engine-size'>"
      ]
     },
     "execution_count": 81,
     "metadata": {},
     "output_type": "execute_result"
    },
    {
     "data": {
      "image/png": "[encoded data removed]",
      "text/plain": [
       "<Figure size 432x288 with 1 Axes>"
      ]
     },
     "metadata": {
      "needs_background": "light"
     },
     "output_type": "display_data"
    }
   ],
   "source": [
    "sns.regplot(x = \"highway-mpg\", y = \"engine-size\", data = cars, ci = False)"
   ]
  },
  {
   "cell_type": "code",
   "execution_count": 82,
   "id": "a80bad2a-4830-4f1d-84f5-65d27952d6d6",
   "metadata": {},
   "outputs": [
    {
     "data": {
      "text/plain": [
       "<AxesSubplot:xlabel='highway-mpg', ylabel='curb-weight'>"
      ]
     },
     "execution_count": 82,
     "metadata": {},
     "output_type": "execute_result"
    },
    {
     "data": {
      "image/png": "[encoded data removed]",
      "text/plain": [
       "<Figure size 432x288 with 1 Axes>"
      ]
     },
     "metadata": {
      "needs_background": "light"
     },
     "output_type": "display_data"
    }
   ],
   "source": [
    "sns.regplot(x = \"highway-mpg\", y = \"curb-weight\", data = cars, ci = False)"
   ]
  },
  {
   "cell_type": "code",
   "execution_count": null,
   "id": "6d688013-5cfd-411e-b33b-5126a0e8ab77",
   "metadata": {},
   "outputs": [],
   "source": []
  }
 ],
 "metadata": {
  "kernelspec": {
   "display_name": "Python 3 (ipykernel)",
   "language": "python",
   "name": "python3"
  },
  "language_info": {
   "codemirror_mode": {
    "name": "ipython",
    "version": 3
   },
   "file_extension": ".py",
   "mimetype": "text/x-python",
   "name": "python",
   "nbconvert_exporter": "python",
   "pygments_lexer": "ipython3",
   "version": "3.9.12"
  }
 },
 "nbformat": 4,
 "nbformat_minor": 5
}
