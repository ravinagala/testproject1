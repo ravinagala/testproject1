{
 "cells": [
  {
   "cell_type": "code",
   "execution_count": 1,
   "id": "85a578f0-c2ca-41f6-a92e-59a4510c3bb4",
   "metadata": {},
   "outputs": [
    {
     "data": {
      "text/plain": [
       "['C:\\\\Users\\\\nagal\\\\demo\\\\diabetes']"
      ]
     },
     "execution_count": 1,
     "metadata": {},
     "output_type": "execute_result"
    }
   ],
   "source": [
    "!! cd"
   ]
  },
  {
   "cell_type": "markdown",
   "id": "9918d196-08ee-49b4-8d23-b32a6e0c0006",
   "metadata": {},
   "source": [
    "# Classification Case Study"
   ]
  },
  {
   "cell_type": "markdown",
   "id": "cf00d974-815f-4b1d-9c69-5a720241d2f1",
   "metadata": {},
   "source": [
    "# import libraries"
   ]
  },
  {
   "cell_type": "code",
   "execution_count": 2,
   "id": "a2a8db1f-1a04-4ec7-85fd-c632ec0c156c",
   "metadata": {},
   "outputs": [],
   "source": [
    "import pandas as pd\n",
    "import numpy as np\n",
    "import seaborn as sns\n",
    "import matplotlib.pyplot as plt\n",
    "%matplotlib inline\n",
    "sns.set(style = \"white\")"
   ]
  },
  {
   "cell_type": "markdown",
   "id": "feafcd42-9014-4314-bfcf-4abfd49b83a5",
   "metadata": {},
   "source": [
    "# Load data from final train csv"
   ]
  },
  {
   "cell_type": "code",
   "execution_count": 3,
   "id": "7c3a6a57-c82a-47b1-88be-7445aa4b7161",
   "metadata": {},
   "outputs": [],
   "source": [
    "train = pd.read_csv(\"final_train.csv\")"
   ]
  },
  {
   "cell_type": "code",
   "execution_count": 4,
   "id": "fcec1ae5-01c1-43d5-a780-5c4558ffb007",
   "metadata": {},
   "outputs": [
    {
     "data": {
      "text/html": [
       "<div>\n",
       "<style scoped>\n",
       "    .dataframe tbody tr th:only-of-type {\n",
       "        vertical-align: middle;\n",
       "    }\n",
       "\n",
       "    .dataframe tbody tr th {\n",
       "        vertical-align: top;\n",
       "    }\n",
       "\n",
       "    .dataframe thead th {\n",
       "        text-align: right;\n",
       "    }\n",
       "</style>\n",
       "<table border=\"1\" class=\"dataframe\">\n",
       "  <thead>\n",
       "    <tr style=\"text-align: right;\">\n",
       "      <th></th>\n",
       "      <th>Pregnancies</th>\n",
       "      <th>Glucose</th>\n",
       "      <th>BloodPressure</th>\n",
       "      <th>SkinThickness</th>\n",
       "      <th>Insulin</th>\n",
       "      <th>BMI</th>\n",
       "      <th>DiabetesPedigreeFunction</th>\n",
       "      <th>Age</th>\n",
       "      <th>Outcome</th>\n",
       "      <th>InsulinLog</th>\n",
       "    </tr>\n",
       "  </thead>\n",
       "  <tbody>\n",
       "    <tr>\n",
       "      <th>0</th>\n",
       "      <td>6</td>\n",
       "      <td>148</td>\n",
       "      <td>72</td>\n",
       "      <td>35</td>\n",
       "      <td>31</td>\n",
       "      <td>33.6</td>\n",
       "      <td>0.627</td>\n",
       "      <td>50</td>\n",
       "      <td>1</td>\n",
       "      <td>3.433987</td>\n",
       "    </tr>\n",
       "    <tr>\n",
       "      <th>1</th>\n",
       "      <td>1</td>\n",
       "      <td>85</td>\n",
       "      <td>66</td>\n",
       "      <td>29</td>\n",
       "      <td>31</td>\n",
       "      <td>26.6</td>\n",
       "      <td>0.351</td>\n",
       "      <td>31</td>\n",
       "      <td>0</td>\n",
       "      <td>3.433987</td>\n",
       "    </tr>\n",
       "    <tr>\n",
       "      <th>2</th>\n",
       "      <td>8</td>\n",
       "      <td>183</td>\n",
       "      <td>64</td>\n",
       "      <td>23</td>\n",
       "      <td>31</td>\n",
       "      <td>23.3</td>\n",
       "      <td>0.672</td>\n",
       "      <td>32</td>\n",
       "      <td>1</td>\n",
       "      <td>3.433987</td>\n",
       "    </tr>\n",
       "    <tr>\n",
       "      <th>3</th>\n",
       "      <td>1</td>\n",
       "      <td>89</td>\n",
       "      <td>66</td>\n",
       "      <td>23</td>\n",
       "      <td>94</td>\n",
       "      <td>28.1</td>\n",
       "      <td>0.167</td>\n",
       "      <td>21</td>\n",
       "      <td>0</td>\n",
       "      <td>4.543295</td>\n",
       "    </tr>\n",
       "    <tr>\n",
       "      <th>4</th>\n",
       "      <td>0</td>\n",
       "      <td>137</td>\n",
       "      <td>40</td>\n",
       "      <td>35</td>\n",
       "      <td>168</td>\n",
       "      <td>43.1</td>\n",
       "      <td>2.288</td>\n",
       "      <td>33</td>\n",
       "      <td>1</td>\n",
       "      <td>5.123964</td>\n",
       "    </tr>\n",
       "  </tbody>\n",
       "</table>\n",
       "</div>"
      ],
      "text/plain": [
       "   Pregnancies  Glucose  BloodPressure  SkinThickness  Insulin   BMI  \\\n",
       "0            6      148             72             35       31  33.6   \n",
       "1            1       85             66             29       31  26.6   \n",
       "2            8      183             64             23       31  23.3   \n",
       "3            1       89             66             23       94  28.1   \n",
       "4            0      137             40             35      168  43.1   \n",
       "\n",
       "   DiabetesPedigreeFunction  Age  Outcome  InsulinLog  \n",
       "0                     0.627   50        1    3.433987  \n",
       "1                     0.351   31        0    3.433987  \n",
       "2                     0.672   32        1    3.433987  \n",
       "3                     0.167   21        0    4.543295  \n",
       "4                     2.288   33        1    5.123964  "
      ]
     },
     "execution_count": 4,
     "metadata": {},
     "output_type": "execute_result"
    }
   ],
   "source": [
    "train.head()"
   ]
  },
  {
   "cell_type": "code",
   "execution_count": 5,
   "id": "0e58cbd5-ce67-47ec-a094-c2cc5eb89b75",
   "metadata": {},
   "outputs": [
    {
     "name": "stdout",
     "output_type": "stream",
     "text": [
      "<class 'pandas.core.frame.DataFrame'>\n",
      "RangeIndex: 768 entries, 0 to 767\n",
      "Data columns (total 10 columns):\n",
      " #   Column                    Non-Null Count  Dtype  \n",
      "---  ------                    --------------  -----  \n",
      " 0   Pregnancies               768 non-null    int64  \n",
      " 1   Glucose                   768 non-null    int64  \n",
      " 2   BloodPressure             768 non-null    int64  \n",
      " 3   SkinThickness             768 non-null    int64  \n",
      " 4   Insulin                   768 non-null    int64  \n",
      " 5   BMI                       768 non-null    float64\n",
      " 6   DiabetesPedigreeFunction  768 non-null    float64\n",
      " 7   Age                       768 non-null    int64  \n",
      " 8   Outcome                   768 non-null    int64  \n",
      " 9   InsulinLog                768 non-null    float64\n",
      "dtypes: float64(3), int64(7)\n",
      "memory usage: 60.1 KB\n"
     ]
    }
   ],
   "source": [
    "train.info()"
   ]
  },
  {
   "cell_type": "code",
   "execution_count": 6,
   "id": "5a9b3f01-4662-48b4-b3d7-2526fd2c1f72",
   "metadata": {},
   "outputs": [],
   "source": [
    "X = train.drop(columns = [\"Outcome\"])\n",
    "y = train.Outcome"
   ]
  },
  {
   "cell_type": "code",
   "execution_count": 7,
   "id": "014e4fb0-62d0-4ecd-a1bd-d0d7443811bd",
   "metadata": {},
   "outputs": [
    {
     "data": {
      "text/plain": [
       "Index(['Pregnancies', 'Glucose', 'BloodPressure', 'SkinThickness', 'Insulin',\n",
       "       'BMI', 'DiabetesPedigreeFunction', 'Age', 'InsulinLog'],\n",
       "      dtype='object')"
      ]
     },
     "execution_count": 7,
     "metadata": {},
     "output_type": "execute_result"
    }
   ],
   "source": [
    "X.columns"
   ]
  },
  {
   "cell_type": "code",
   "execution_count": 8,
   "id": "3fc9298b-2b06-4017-b1e3-c05689d5830b",
   "metadata": {},
   "outputs": [
    {
     "data": {
      "text/plain": [
       "(768, 9)"
      ]
     },
     "execution_count": 8,
     "metadata": {},
     "output_type": "execute_result"
    }
   ],
   "source": [
    "X.shape"
   ]
  },
  {
   "cell_type": "markdown",
   "id": "0ce0a0c2-ff71-42de-a1cc-101ceb7be58a",
   "metadata": {},
   "source": [
    "# Split data into train and test"
   ]
  },
  {
   "cell_type": "code",
   "execution_count": 9,
   "id": "789d220f-7801-44a3-bb9a-62b5731a0595",
   "metadata": {},
   "outputs": [],
   "source": [
    "from sklearn.model_selection import train_test_split\n",
    "X_train, X_test, y_train, y_test = train_test_split(X, y, test_size = 0.3, random_state = 0)"
   ]
  },
  {
   "cell_type": "code",
   "execution_count": 10,
   "id": "9dce3816-cb30-4bf5-92d7-652db4299225",
   "metadata": {},
   "outputs": [],
   "source": [
    "from sklearn.metrics import confusion_matrix, classification_report, accuracy_score"
   ]
  },
  {
   "cell_type": "code",
   "execution_count": 11,
   "id": "3b13ebf2-39d8-42a0-9e96-b9de3bb5a50b",
   "metadata": {},
   "outputs": [],
   "source": [
    "def print_scores(y_true, y_pred):\n",
    "    cm = confusion_matrix(y_true, y_pred)\n",
    "    tn = cm[0, 0]\n",
    "    tp = cm[1, 1]\n",
    "    fp = cm[0, 1]\n",
    "    fn = cm[1, 0]\n",
    "    print(f\"Overall Accuracy                           :{(tp + tn) / (tp + tn + fp + fn):.2f}\")\n",
    "    print(f\"Precision of Positive cases                :{tp / (tp + fp):.2f}\")\n",
    "    print(f\"Precision of Negative cases                :{tn / (tn + fn):.2f}\")\n",
    "    print(f\"Positive Recall or TPR or Sensitivity      :{tp / (tp + fn):.2f}\")\n",
    "    print(f\"Negative Recall or FPR or Specificity      :{tn / (tn + fp):.2f}\")"
   ]
  },
  {
   "cell_type": "markdown",
   "id": "afd23058-03af-43ab-8ef8-16a9448d0918",
   "metadata": {},
   "source": [
    "# Logistic Regression"
   ]
  },
  {
   "cell_type": "code",
   "execution_count": 12,
   "id": "48cc76da-1787-4108-81df-58ae82f7e7f7",
   "metadata": {},
   "outputs": [],
   "source": [
    "# IMPORTING PACKAGES LOGISTICREGRESSION AND EVALUATION\n",
    "from sklearn.linear_model import LogisticRegression"
   ]
  },
  {
   "cell_type": "code",
   "execution_count": 13,
   "id": "bba54d3d-5a0f-4cc2-9cc2-8ef1a363dd12",
   "metadata": {},
   "outputs": [
    {
     "data": {
      "text/plain": [
       "StandardScaler()"
      ]
     },
     "execution_count": 13,
     "metadata": {},
     "output_type": "execute_result"
    }
   ],
   "source": [
    "from sklearn.preprocessing import StandardScaler\n",
    "ss = StandardScaler()\n",
    "ss.fit(X_train)"
   ]
  },
  {
   "cell_type": "code",
   "execution_count": 14,
   "id": "4073075a-3af5-4741-8d2e-1726a7cb3cf5",
   "metadata": {},
   "outputs": [],
   "source": [
    "X_train_scaled = ss.transform(X_train)\n",
    "X_test_scaled = ss.transform(X_test)"
   ]
  },
  {
   "cell_type": "code",
   "execution_count": 15,
   "id": "992affe7-455f-4bde-90ae-d0465ea5f17d",
   "metadata": {},
   "outputs": [
    {
     "data": {
      "text/plain": [
       "LogisticRegression()"
      ]
     },
     "execution_count": 15,
     "metadata": {},
     "output_type": "execute_result"
    }
   ],
   "source": [
    "# LOGISTIC REGRESSION - TRAIN MODEL\n",
    "model = LogisticRegression()\n",
    "model.fit(X_train_scaled, y_train)"
   ]
  },
  {
   "cell_type": "code",
   "execution_count": 16,
   "id": "e966639e-b7d5-4696-af36-6435b72b332c",
   "metadata": {},
   "outputs": [
    {
     "data": {
      "text/plain": [
       "0.7746741154562383"
      ]
     },
     "execution_count": 16,
     "metadata": {},
     "output_type": "execute_result"
    }
   ],
   "source": [
    "# CHECK MODEL PERFORMANCE WITH TRAIN DATA\n",
    "model.score(X_train_scaled, y_train)"
   ]
  },
  {
   "cell_type": "code",
   "execution_count": 17,
   "id": "bcbff0a6-ce67-4caf-9699-5ca0db2b365e",
   "metadata": {},
   "outputs": [],
   "source": [
    "y_pred = model.predict(X_test_scaled)"
   ]
  },
  {
   "cell_type": "code",
   "execution_count": 18,
   "id": "e9434ce3-aa5e-4dde-925d-d7bad5a6cc2e",
   "metadata": {},
   "outputs": [
    {
     "data": {
      "text/plain": [
       "0.7792207792207793"
      ]
     },
     "execution_count": 18,
     "metadata": {},
     "output_type": "execute_result"
    }
   ],
   "source": [
    "accuracy_score(y_test, y_pred)"
   ]
  },
  {
   "cell_type": "code",
   "execution_count": 19,
   "id": "a9e563ce-d885-42f9-8a36-9bb1f09dc282",
   "metadata": {},
   "outputs": [
    {
     "data": {
      "text/plain": [
       "array([[141,  16],\n",
       "       [ 35,  39]], dtype=int64)"
      ]
     },
     "execution_count": 19,
     "metadata": {},
     "output_type": "execute_result"
    }
   ],
   "source": [
    "confusion_matrix(y_test, y_pred)"
   ]
  },
  {
   "cell_type": "code",
   "execution_count": 20,
   "id": "c14a540f-aff0-4793-948b-a6500d4afc6f",
   "metadata": {},
   "outputs": [
    {
     "name": "stdout",
     "output_type": "stream",
     "text": [
      "Overall Accuracy                           :0.78\n",
      "Precision of Positive cases                :0.71\n",
      "Precision of Negative cases                :0.80\n",
      "Positive Recall or TPR or Sensitivity      :0.53\n",
      "Negative Recall or FPR or Specificity      :0.90\n"
     ]
    }
   ],
   "source": [
    "print_scores(y_test, y_pred)"
   ]
  },
  {
   "cell_type": "markdown",
   "id": "01591740-4ff5-4b56-81b2-a5d8af42b0dc",
   "metadata": {},
   "source": [
    "# Display classification_report"
   ]
  },
  {
   "cell_type": "code",
   "execution_count": 21,
   "id": "023e2476-e317-47d7-8ff1-8a2a75462d38",
   "metadata": {},
   "outputs": [
    {
     "name": "stdout",
     "output_type": "stream",
     "text": [
      "              precision    recall  f1-score   support\n",
      "\n",
      "           0       0.80      0.90      0.85       157\n",
      "           1       0.71      0.53      0.60        74\n",
      "\n",
      "    accuracy                           0.78       231\n",
      "   macro avg       0.76      0.71      0.73       231\n",
      "weighted avg       0.77      0.78      0.77       231\n",
      "\n"
     ]
    }
   ],
   "source": [
    "print(classification_report(y_test, y_pred))"
   ]
  },
  {
   "cell_type": "code",
   "execution_count": 22,
   "id": "475769bf-a824-4973-878b-6b33e7493706",
   "metadata": {},
   "outputs": [
    {
     "data": {
      "text/plain": [
       "array([[ 0.31202607,  1.16780617, -0.22130256, -0.0209865 , -0.11143863,\n",
       "         0.71702197,  0.24532108,  0.26334284, -0.04210537]])"
      ]
     },
     "execution_count": 22,
     "metadata": {},
     "output_type": "execute_result"
    }
   ],
   "source": [
    "model.coef_"
   ]
  },
  {
   "cell_type": "code",
   "execution_count": 23,
   "id": "ccc0b6fb-ae7e-431e-a268-812e636ebd8b",
   "metadata": {},
   "outputs": [
    {
     "data": {
      "text/plain": [
       "array([-0.79777035])"
      ]
     },
     "execution_count": 23,
     "metadata": {},
     "output_type": "execute_result"
    }
   ],
   "source": [
    "model.intercept_"
   ]
  },
  {
   "cell_type": "code",
   "execution_count": 24,
   "id": "5f09373b-7d23-46b5-8d65-90e76a974408",
   "metadata": {},
   "outputs": [],
   "source": [
    "y_pred_prob = model.predict(X_test_scaled)"
   ]
  },
  {
   "cell_type": "code",
   "execution_count": 25,
   "id": "9766d583-e2a1-4175-90b8-7036f133543f",
   "metadata": {},
   "outputs": [
    {
     "data": {
      "text/plain": [
       "array([0, 1, 1, 0, 0], dtype=int64)"
      ]
     },
     "execution_count": 25,
     "metadata": {},
     "output_type": "execute_result"
    }
   ],
   "source": [
    "y_pred[5:10]"
   ]
  },
  {
   "cell_type": "code",
   "execution_count": 26,
   "id": "fc0d3505-c51c-4b56-aa3b-1bf7ce5098a4",
   "metadata": {},
   "outputs": [
    {
     "data": {
      "text/plain": [
       "array([0, 1, 1, 0, 0], dtype=int64)"
      ]
     },
     "execution_count": 26,
     "metadata": {},
     "output_type": "execute_result"
    }
   ],
   "source": [
    "y_pred_prob[5:10]"
   ]
  },
  {
   "cell_type": "code",
   "execution_count": 27,
   "id": "27048ba9-75fc-4181-b780-969e6e595cad",
   "metadata": {},
   "outputs": [
    {
     "data": {
      "text/plain": [
       "(array([0, 1, 1, 0, 0], dtype=int64), array([0, 1, 1, 0, 0], dtype=int64))"
      ]
     },
     "execution_count": 27,
     "metadata": {},
     "output_type": "execute_result"
    }
   ],
   "source": [
    "y_pred_prob[5:10], y_pred[5:10]"
   ]
  },
  {
   "cell_type": "code",
   "execution_count": 28,
   "id": "dfe49d21-7cb8-4517-88cb-fec18529f36c",
   "metadata": {},
   "outputs": [
    {
     "data": {
      "text/plain": [
       "(array([1, 0, 0, 1, 0], dtype=int64), array([1, 0, 0, 1, 0], dtype=int64))"
      ]
     },
     "execution_count": 28,
     "metadata": {},
     "output_type": "execute_result"
    }
   ],
   "source": [
    "y_pred_prob[0:5], y_pred[0:5]"
   ]
  },
  {
   "cell_type": "markdown",
   "id": "4ee06561-1e63-4c85-8112-7e11d4d45829",
   "metadata": {},
   "source": [
    "# Decision Tree"
   ]
  },
  {
   "cell_type": "code",
   "execution_count": 29,
   "id": "048d9eeb-ff9b-4bad-84cd-2a5b2053a8cc",
   "metadata": {},
   "outputs": [],
   "source": [
    "from sklearn.tree import DecisionTreeClassifier"
   ]
  },
  {
   "cell_type": "code",
   "execution_count": 35,
   "id": "3248a33d-616d-4b0d-a494-6e420cd35317",
   "metadata": {},
   "outputs": [
    {
     "data": {
      "text/plain": [
       "DecisionTreeClassifier(max_depth=5)"
      ]
     },
     "execution_count": 35,
     "metadata": {},
     "output_type": "execute_result"
    }
   ],
   "source": [
    "model = DecisionTreeClassifier(max_depth = 5)\n",
    "model.fit(X_train, y_train)"
   ]
  },
  {
   "cell_type": "code",
   "execution_count": 36,
   "id": "b3e4e477-d586-49b5-aa0c-6095a39576bf",
   "metadata": {},
   "outputs": [
    {
     "data": {
      "text/plain": [
       "0.8324022346368715"
      ]
     },
     "execution_count": 36,
     "metadata": {},
     "output_type": "execute_result"
    }
   ],
   "source": [
    "model.score(X_train, y_train)"
   ]
  },
  {
   "cell_type": "code",
   "execution_count": 39,
   "id": "f8f2d4f5-e091-4a2a-a5aa-e6afd9912be8",
   "metadata": {},
   "outputs": [],
   "source": [
    "y_train_pred = model.predict(X_train)"
   ]
  },
  {
   "cell_type": "code",
   "execution_count": 40,
   "id": "7933ac08-a99d-49f9-b3bd-0eea5eb2d3df",
   "metadata": {},
   "outputs": [
    {
     "name": "stdout",
     "output_type": "stream",
     "text": [
      "Overall Accuracy                           :0.83\n",
      "Precision of Positive cases                :0.74\n",
      "Precision of Negative cases                :0.89\n",
      "Positive Recall or TPR or Sensitivity      :0.82\n",
      "Negative Recall or FPR or Specificity      :0.84\n"
     ]
    }
   ],
   "source": [
    "print_scores(y_train, y_train_pred)"
   ]
  },
  {
   "cell_type": "code",
   "execution_count": 41,
   "id": "bf0f0fab-8b7a-491f-aeee-b5cd0bcb9807",
   "metadata": {},
   "outputs": [],
   "source": [
    "y_pred = model.predict(X_test)"
   ]
  },
  {
   "cell_type": "code",
   "execution_count": 42,
   "id": "b8030719-7f54-4898-b362-13ca44da706e",
   "metadata": {},
   "outputs": [
    {
     "name": "stdout",
     "output_type": "stream",
     "text": [
      "Overall Accuracy                           :0.77\n",
      "Precision of Positive cases                :0.65\n",
      "Precision of Negative cases                :0.83\n",
      "Positive Recall or TPR or Sensitivity      :0.64\n",
      "Negative Recall or FPR or Specificity      :0.84\n"
     ]
    }
   ],
   "source": [
    "print_scores(y_test, y_pred)"
   ]
  },
  {
   "cell_type": "code",
   "execution_count": 43,
   "id": "7ce906a3-3bc0-4adc-b9aa-742a1c1974ae",
   "metadata": {},
   "outputs": [
    {
     "data": {
      "text/plain": [
       "array([[132,  25],\n",
       "       [ 27,  47]], dtype=int64)"
      ]
     },
     "execution_count": 43,
     "metadata": {},
     "output_type": "execute_result"
    }
   ],
   "source": [
    "confusion_matrix(y_test, y_pred)"
   ]
  },
  {
   "cell_type": "code",
   "execution_count": 44,
   "id": "a2cc15bb-4a02-403d-ab71-247eb88550de",
   "metadata": {},
   "outputs": [
    {
     "name": "stdout",
     "output_type": "stream",
     "text": [
      "              precision    recall  f1-score   support\n",
      "\n",
      "           0       0.83      0.84      0.84       157\n",
      "           1       0.65      0.64      0.64        74\n",
      "\n",
      "    accuracy                           0.77       231\n",
      "   macro avg       0.74      0.74      0.74       231\n",
      "weighted avg       0.77      0.77      0.77       231\n",
      "\n"
     ]
    }
   ],
   "source": [
    "print(classification_report(y_test, y_pred))"
   ]
  },
  {
   "cell_type": "markdown",
   "id": "e4956706-5cf1-4503-b49a-8e28c543a460",
   "metadata": {},
   "source": [
    "# Decision Tree Classifier"
   ]
  },
  {
   "cell_type": "code",
   "execution_count": 47,
   "id": "9a6de96f-135a-4bfb-822a-7c0428c45946",
   "metadata": {},
   "outputs": [
    {
     "name": "stdout",
     "output_type": "stream",
     "text": [
      "|--- Glucose <= 144.50\n",
      "|   |--- Age <= 28.50\n",
      "|   |   |--- BMI <= 30.45\n",
      "|   |   |   |--- Pregnancies <= 7.00\n",
      "|   |   |   |   |--- DiabetesPedigreeFunction <= 0.67\n",
      "|   |   |   |   |   |--- class: 0\n",
      "|   |   |   |   |--- DiabetesPedigreeFunction >  0.67\n",
      "|   |   |   |   |   |--- class: 0\n",
      "|   |   |   |--- Pregnancies >  7.00\n",
      "|   |   |   |   |--- class: 1\n",
      "|   |   |--- BMI >  30.45\n",
      "|   |   |   |--- Glucose <= 127.50\n",
      "|   |   |   |   |--- BloodPressure <= 53.00\n",
      "|   |   |   |   |   |--- class: 0\n",
      "|   |   |   |   |--- BloodPressure >  53.00\n",
      "|   |   |   |   |   |--- class: 0\n",
      "|   |   |   |--- Glucose >  127.50\n",
      "|   |   |   |   |--- BloodPressure <= 73.00\n",
      "|   |   |   |   |   |--- class: 1\n",
      "|   |   |   |   |--- BloodPressure >  73.00\n",
      "|   |   |   |   |   |--- class: 0\n",
      "|   |--- Age >  28.50\n",
      "|   |   |--- BMI <= 26.35\n",
      "|   |   |   |--- Glucose <= 131.50\n",
      "|   |   |   |   |--- class: 0\n",
      "|   |   |   |--- Glucose >  131.50\n",
      "|   |   |   |   |--- BMI <= 24.00\n",
      "|   |   |   |   |   |--- class: 1\n",
      "|   |   |   |   |--- BMI >  24.00\n",
      "|   |   |   |   |   |--- class: 0\n",
      "|   |   |--- BMI >  26.35\n",
      "|   |   |   |--- Glucose <= 107.50\n",
      "|   |   |   |   |--- BMI <= 27.95\n",
      "|   |   |   |   |   |--- class: 1\n",
      "|   |   |   |   |--- BMI >  27.95\n",
      "|   |   |   |   |   |--- class: 0\n",
      "|   |   |   |--- Glucose >  107.50\n",
      "|   |   |   |   |--- Age <= 58.50\n",
      "|   |   |   |   |   |--- class: 1\n",
      "|   |   |   |   |--- Age >  58.50\n",
      "|   |   |   |   |   |--- class: 0\n",
      "|--- Glucose >  144.50\n",
      "|   |--- BMI <= 29.95\n",
      "|   |   |--- InsulinLog <= 4.76\n",
      "|   |   |   |--- DiabetesPedigreeFunction <= 0.18\n",
      "|   |   |   |   |--- class: 1\n",
      "|   |   |   |--- DiabetesPedigreeFunction >  0.18\n",
      "|   |   |   |   |--- Insulin <= 30.00\n",
      "|   |   |   |   |   |--- class: 1\n",
      "|   |   |   |   |--- Insulin >  30.00\n",
      "|   |   |   |   |   |--- class: 0\n",
      "|   |   |--- InsulinLog >  4.76\n",
      "|   |   |   |--- Age <= 26.50\n",
      "|   |   |   |   |--- class: 0\n",
      "|   |   |   |--- Age >  26.50\n",
      "|   |   |   |   |--- class: 1\n",
      "|   |--- BMI >  29.95\n",
      "|   |   |--- Glucose <= 157.50\n",
      "|   |   |   |--- BloodPressure <= 85.00\n",
      "|   |   |   |   |--- SkinThickness <= 29.00\n",
      "|   |   |   |   |   |--- class: 1\n",
      "|   |   |   |   |--- SkinThickness >  29.00\n",
      "|   |   |   |   |   |--- class: 0\n",
      "|   |   |   |--- BloodPressure >  85.00\n",
      "|   |   |   |   |--- class: 1\n",
      "|   |   |--- Glucose >  157.50\n",
      "|   |   |   |--- SkinThickness <= 13.50\n",
      "|   |   |   |   |--- class: 0\n",
      "|   |   |   |--- SkinThickness >  13.50\n",
      "|   |   |   |   |--- BMI <= 46.10\n",
      "|   |   |   |   |   |--- class: 1\n",
      "|   |   |   |   |--- BMI >  46.10\n",
      "|   |   |   |   |   |--- class: 1\n",
      "\n"
     ]
    }
   ],
   "source": [
    "# PRINT TREE GENERATED BY DECISIONTREECLASSIFIER\n",
    "from sklearn.tree import export_text\n",
    "tree_rules = export_text(model, feature_names = list(X_train))\n",
    "print(tree_rules)"
   ]
  },
  {
   "cell_type": "markdown",
   "id": "ee0f3793-c690-4854-9091-8202ecdbebe4",
   "metadata": {},
   "source": [
    "# KNN"
   ]
  },
  {
   "cell_type": "code",
   "execution_count": 50,
   "id": "b2f27150-9a3b-42bb-a74d-fcc353ad949d",
   "metadata": {},
   "outputs": [],
   "source": [
    "from sklearn.neighbors import KNeighborsClassifier"
   ]
  },
  {
   "cell_type": "code",
   "execution_count": 52,
   "id": "37b86df1-d7d8-41e1-801c-2718e4b33196",
   "metadata": {},
   "outputs": [
    {
     "data": {
      "text/plain": [
       "KNeighborsClassifier()"
      ]
     },
     "execution_count": 52,
     "metadata": {},
     "output_type": "execute_result"
    }
   ],
   "source": [
    "model = KNeighborsClassifier(n_neighbors = 5)\n",
    "model.fit(X_train_scaled, y_train)"
   ]
  },
  {
   "cell_type": "code",
   "execution_count": 55,
   "id": "a8e491c0-31b7-46ca-a551-3b2de9652c1f",
   "metadata": {},
   "outputs": [],
   "source": [
    "y_pred_scaled = model.predict(X_train_scaled)"
   ]
  },
  {
   "cell_type": "code",
   "execution_count": 56,
   "id": "fd27aaea-d267-4744-b0cd-8fc1e27a3f83",
   "metadata": {},
   "outputs": [
    {
     "name": "stdout",
     "output_type": "stream",
     "text": [
      "Overall Accuracy                           :0.80\n",
      "Precision of Positive cases                :0.77\n",
      "Precision of Negative cases                :0.82\n",
      "Positive Recall or TPR or Sensitivity      :0.65\n",
      "Negative Recall or FPR or Specificity      :0.89\n"
     ]
    }
   ],
   "source": [
    "print_scores(y_train, y_pred_scaled)"
   ]
  },
  {
   "cell_type": "code",
   "execution_count": 57,
   "id": "16869892-9fa0-4a67-ba94-5b69370b77cd",
   "metadata": {},
   "outputs": [],
   "source": [
    "y_pred = model.predict(X_test_scaled)"
   ]
  },
  {
   "cell_type": "code",
   "execution_count": 58,
   "id": "29e4ef3f-7d9e-48e3-8643-b83195577f3c",
   "metadata": {},
   "outputs": [
    {
     "name": "stdout",
     "output_type": "stream",
     "text": [
      "Overall Accuracy                           :0.75\n",
      "Precision of Positive cases                :0.65\n",
      "Precision of Negative cases                :0.78\n",
      "Positive Recall or TPR or Sensitivity      :0.49\n",
      "Negative Recall or FPR or Specificity      :0.88\n"
     ]
    }
   ],
   "source": [
    "print_scores(y_test, y_pred)"
   ]
  },
  {
   "cell_type": "markdown",
   "id": "b0fbce88-c372-4167-a085-cd9fdaca591d",
   "metadata": {},
   "source": [
    "# Naive Bayes"
   ]
  },
  {
   "cell_type": "code",
   "execution_count": 59,
   "id": "dceda262-cd6b-4e47-957f-975bf0e85cce",
   "metadata": {},
   "outputs": [],
   "source": [
    "from sklearn.naive_bayes import GaussianNB"
   ]
  },
  {
   "cell_type": "code",
   "execution_count": 60,
   "id": "59116861-de34-4a37-905b-8014ce527386",
   "metadata": {},
   "outputs": [
    {
     "data": {
      "text/plain": [
       "GaussianNB()"
      ]
     },
     "execution_count": 60,
     "metadata": {},
     "output_type": "execute_result"
    }
   ],
   "source": [
    "model = GaussianNB()\n",
    "model.fit(X_train, y_train)"
   ]
  },
  {
   "cell_type": "code",
   "execution_count": 61,
   "id": "fd5d1dc8-fcc3-4e43-8dcf-af9fd450323a",
   "metadata": {},
   "outputs": [],
   "source": [
    "y_train_pred = model.predict(X_train)"
   ]
  },
  {
   "cell_type": "code",
   "execution_count": 62,
   "id": "05e06279-c80b-4ae5-adb6-709c8f1f37d0",
   "metadata": {},
   "outputs": [
    {
     "name": "stdout",
     "output_type": "stream",
     "text": [
      "Overall Accuracy                           :0.74\n",
      "Precision of Positive cases                :0.65\n",
      "Precision of Negative cases                :0.78\n",
      "Positive Recall or TPR or Sensitivity      :0.60\n",
      "Negative Recall or FPR or Specificity      :0.82\n"
     ]
    }
   ],
   "source": [
    "print_scores(y_train, y_train_pred)"
   ]
  },
  {
   "cell_type": "code",
   "execution_count": 64,
   "id": "76cff58f-4cd4-4c90-9035-74d871f16872",
   "metadata": {},
   "outputs": [],
   "source": [
    "y_pred = model.predict(X_test)"
   ]
  },
  {
   "cell_type": "code",
   "execution_count": 65,
   "id": "75e700a7-e616-4929-8bdc-77fa79daad8a",
   "metadata": {},
   "outputs": [
    {
     "name": "stdout",
     "output_type": "stream",
     "text": [
      "Overall Accuracy                           :0.75\n",
      "Precision of Positive cases                :0.65\n",
      "Precision of Negative cases                :0.79\n",
      "Positive Recall or TPR or Sensitivity      :0.50\n",
      "Negative Recall or FPR or Specificity      :0.87\n"
     ]
    }
   ],
   "source": [
    "print_scores(y_test, y_pred)"
   ]
  },
  {
   "cell_type": "code",
   "execution_count": 67,
   "id": "903a3915-e254-4584-8cbd-00f6e5479281",
   "metadata": {},
   "outputs": [
    {
     "data": {
      "text/plain": [
       "array([[137,  20],\n",
       "       [ 37,  37]], dtype=int64)"
      ]
     },
     "execution_count": 67,
     "metadata": {},
     "output_type": "execute_result"
    }
   ],
   "source": [
    "confusion_matrix(y_test,y_pred)"
   ]
  },
  {
   "cell_type": "code",
   "execution_count": 68,
   "id": "a85f7258-cd49-4c98-8f62-ef97ced13368",
   "metadata": {},
   "outputs": [
    {
     "name": "stdout",
     "output_type": "stream",
     "text": [
      "              precision    recall  f1-score   support\n",
      "\n",
      "           0       0.79      0.87      0.83       157\n",
      "           1       0.65      0.50      0.56        74\n",
      "\n",
      "    accuracy                           0.75       231\n",
      "   macro avg       0.72      0.69      0.70       231\n",
      "weighted avg       0.74      0.75      0.74       231\n",
      "\n"
     ]
    }
   ],
   "source": [
    "print(classification_report(y_test,y_pred))"
   ]
  },
  {
   "cell_type": "code",
   "execution_count": 69,
   "id": "6f1def37-f61f-4bce-9862-3ea9470ddf8d",
   "metadata": {},
   "outputs": [
    {
     "name": "stdout",
     "output_type": "stream",
     "text": [
      "              precision    recall  f1-score   support\n",
      "\n",
      "           0       0.78      0.82      0.80       343\n",
      "           1       0.65      0.60      0.62       194\n",
      "\n",
      "    accuracy                           0.74       537\n",
      "   macro avg       0.72      0.71      0.71       537\n",
      "weighted avg       0.74      0.74      0.74       537\n",
      "\n"
     ]
    }
   ],
   "source": [
    "print(classification_report(y_train, y_train_pred))"
   ]
  },
  {
   "cell_type": "markdown",
   "id": "63c7b5ea-50aa-4fc7-8981-501bab8ccdd8",
   "metadata": {},
   "source": [
    "# Support Vector Machines"
   ]
  },
  {
   "cell_type": "code",
   "execution_count": 70,
   "id": "25860b78-7a27-4325-aac5-8f3763d4c3e0",
   "metadata": {},
   "outputs": [],
   "source": [
    "from sklearn.svm import SVC"
   ]
  },
  {
   "cell_type": "code",
   "execution_count": 71,
   "id": "6d86f42d-8d86-42fd-afda-84d8e4ca939b",
   "metadata": {},
   "outputs": [
    {
     "data": {
      "text/plain": [
       "SVC()"
      ]
     },
     "execution_count": 71,
     "metadata": {},
     "output_type": "execute_result"
    }
   ],
   "source": [
    "model = SVC()\n",
    "model.fit(X_train_scaled, y_train)"
   ]
  },
  {
   "cell_type": "code",
   "execution_count": 73,
   "id": "b72adeda-76b1-4d74-8955-9b2061661e23",
   "metadata": {},
   "outputs": [],
   "source": [
    "y_train_pred = model.predict(X_train_scaled)"
   ]
  },
  {
   "cell_type": "code",
   "execution_count": 74,
   "id": "22f146c5-0ece-499a-8b0c-00c116b662ad",
   "metadata": {},
   "outputs": [
    {
     "name": "stdout",
     "output_type": "stream",
     "text": [
      "Overall Accuracy                           :0.82\n",
      "Precision of Positive cases                :0.81\n",
      "Precision of Negative cases                :0.82\n",
      "Positive Recall or TPR or Sensitivity      :0.65\n",
      "Negative Recall or FPR or Specificity      :0.92\n"
     ]
    }
   ],
   "source": [
    "print_scores(y_train, y_train_pred)"
   ]
  },
  {
   "cell_type": "code",
   "execution_count": 75,
   "id": "1fced653-69fd-4e39-ba89-17121995f70e",
   "metadata": {},
   "outputs": [],
   "source": [
    "y_pred = model.predict(X_test_scaled)"
   ]
  },
  {
   "cell_type": "code",
   "execution_count": 76,
   "id": "55f1a608-981e-4ced-987d-2701eeef2aa4",
   "metadata": {},
   "outputs": [
    {
     "name": "stdout",
     "output_type": "stream",
     "text": [
      "Overall Accuracy                           :0.74\n",
      "Precision of Positive cases                :0.63\n",
      "Precision of Negative cases                :0.76\n",
      "Positive Recall or TPR or Sensitivity      :0.42\n",
      "Negative Recall or FPR or Specificity      :0.89\n"
     ]
    }
   ],
   "source": [
    "print_scores(y_test, y_pred)"
   ]
  },
  {
   "cell_type": "code",
   "execution_count": null,
   "id": "a29a0c36-d33e-4c1c-b6c2-af782e4eb3ee",
   "metadata": {},
   "outputs": [],
   "source": []
  }
 ],
 "metadata": {
  "kernelspec": {
   "display_name": "Python 3 (ipykernel)",
   "language": "python",
   "name": "python3"
  },
  "language_info": {
   "codemirror_mode": {
    "name": "ipython",
    "version": 3
   },
   "file_extension": ".py",
   "mimetype": "text/x-python",
   "name": "python",
   "nbconvert_exporter": "python",
   "pygments_lexer": "ipython3",
   "version": "3.9.12"
  }
 },
 "nbformat": 4,
 "nbformat_minor": 5
}
