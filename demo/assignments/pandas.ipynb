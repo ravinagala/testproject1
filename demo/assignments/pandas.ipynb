{
 "cells": [
  {
   "cell_type": "code",
   "execution_count": 1,
   "id": "a2106fe7-d685-4f09-be02-6b8b176c0235",
   "metadata": {},
   "outputs": [],
   "source": [
    "import numpy as np\n",
    "import pandas as pd"
   ]
  },
  {
   "cell_type": "code",
   "execution_count": 2,
   "id": "bc802b8d-8005-4958-aadb-4926c603dd9d",
   "metadata": {},
   "outputs": [
    {
     "data": {
      "text/plain": [
       "'1.4.2'"
      ]
     },
     "execution_count": 2,
     "metadata": {},
     "output_type": "execute_result"
    }
   ],
   "source": [
    "pd.__version__"
   ]
  },
  {
   "cell_type": "code",
   "execution_count": 3,
   "id": "f946af7d-4b28-4c0d-aa5a-6dfb96e9cb7d",
   "metadata": {},
   "outputs": [
    {
     "data": {
      "text/plain": [
       "pandas.core.series.Series"
      ]
     },
     "execution_count": 3,
     "metadata": {},
     "output_type": "execute_result"
    }
   ],
   "source": [
    "s = pd.Series([10, 20, 30, 40, 50])\n",
    "type(s)"
   ]
  },
  {
   "cell_type": "code",
   "execution_count": 4,
   "id": "21e58cd9-d30a-488e-86ac-f2abcc6595d0",
   "metadata": {},
   "outputs": [
    {
     "data": {
      "text/plain": [
       "0    10\n",
       "1    20\n",
       "2    30\n",
       "3    40\n",
       "4    50\n",
       "dtype: int64"
      ]
     },
     "execution_count": 4,
     "metadata": {},
     "output_type": "execute_result"
    }
   ],
   "source": [
    "s"
   ]
  },
  {
   "cell_type": "code",
   "execution_count": 5,
   "id": "442ebea8-384f-47a0-a288-83218bdf37f2",
   "metadata": {},
   "outputs": [
    {
     "data": {
      "text/plain": [
       "10"
      ]
     },
     "execution_count": 5,
     "metadata": {},
     "output_type": "execute_result"
    }
   ],
   "source": [
    "s[0]"
   ]
  },
  {
   "cell_type": "markdown",
   "id": "b832b33c-e098-42e8-9ef3-863f6f9e774a",
   "metadata": {},
   "source": [
    "### Properties of series"
   ]
  },
  {
   "cell_type": "code",
   "execution_count": 6,
   "id": "b4fe4100-54d6-40f2-845b-fd96096a7154",
   "metadata": {},
   "outputs": [],
   "source": [
    "sales = pd.Series([10, 20, 30, 40, 50], index = [\"mon\",\"tue\",\"wed\",\"mon\",\"fri\"])"
   ]
  },
  {
   "cell_type": "code",
   "execution_count": 7,
   "id": "20c46d4e-56cc-4818-8e82-107d460e2370",
   "metadata": {},
   "outputs": [
    {
     "data": {
      "text/plain": [
       "mon    10\n",
       "tue    20\n",
       "wed    30\n",
       "mon    40\n",
       "fri    50\n",
       "dtype: int64"
      ]
     },
     "execution_count": 7,
     "metadata": {},
     "output_type": "execute_result"
    }
   ],
   "source": [
    "sales"
   ]
  },
  {
   "cell_type": "code",
   "execution_count": 8,
   "id": "68566a39-84d3-4e6c-a2cc-21779c532d15",
   "metadata": {},
   "outputs": [
    {
     "data": {
      "text/plain": [
       "pandas.core.series.Series"
      ]
     },
     "execution_count": 8,
     "metadata": {},
     "output_type": "execute_result"
    }
   ],
   "source": [
    "type(sales)"
   ]
  },
  {
   "cell_type": "code",
   "execution_count": 9,
   "id": "419ef88b-e776-47aa-9b68-212df4fc973d",
   "metadata": {},
   "outputs": [
    {
     "data": {
      "text/plain": [
       "mon    10\n",
       "mon    40\n",
       "dtype: int64"
      ]
     },
     "execution_count": 9,
     "metadata": {},
     "output_type": "execute_result"
    }
   ],
   "source": [
    "sales[\"mon\"]"
   ]
  },
  {
   "cell_type": "code",
   "execution_count": 10,
   "id": "dabb2290-41d7-4483-813c-65f20755cada",
   "metadata": {},
   "outputs": [
    {
     "data": {
      "text/plain": [
       "10"
      ]
     },
     "execution_count": 10,
     "metadata": {},
     "output_type": "execute_result"
    }
   ],
   "source": [
    "sales[0]"
   ]
  },
  {
   "cell_type": "code",
   "execution_count": 11,
   "id": "c5b9e018-fcb4-4bf3-b07c-38bb2f300e9b",
   "metadata": {},
   "outputs": [],
   "source": [
    "marks = pd.Series([60, 80, 56, 89, 66], index = [101, 102, 103, 104, 105])"
   ]
  },
  {
   "cell_type": "code",
   "execution_count": 12,
   "id": "4810c036-b5ca-4b09-bd75-ad8d0f46422c",
   "metadata": {},
   "outputs": [
    {
     "data": {
      "text/plain": [
       "101    60\n",
       "102    80\n",
       "103    56\n",
       "104    89\n",
       "105    66\n",
       "dtype: int64"
      ]
     },
     "execution_count": 12,
     "metadata": {},
     "output_type": "execute_result"
    }
   ],
   "source": [
    "marks"
   ]
  },
  {
   "cell_type": "code",
   "execution_count": 13,
   "id": "80ee0b6c-665f-46e4-a856-1f208d2fe664",
   "metadata": {},
   "outputs": [
    {
     "data": {
      "text/plain": [
       "pandas.core.series.Series"
      ]
     },
     "execution_count": 13,
     "metadata": {},
     "output_type": "execute_result"
    }
   ],
   "source": [
    "type(marks)"
   ]
  },
  {
   "cell_type": "code",
   "execution_count": 14,
   "id": "f4de9030-bd94-422e-b001-9ec354e5f5a7",
   "metadata": {},
   "outputs": [
    {
     "data": {
      "text/plain": [
       "60"
      ]
     },
     "execution_count": 14,
     "metadata": {},
     "output_type": "execute_result"
    }
   ],
   "source": [
    "marks[101]"
   ]
  },
  {
   "cell_type": "code",
   "execution_count": 15,
   "id": "73b427d3-57d4-44a4-b3fc-2250d5388573",
   "metadata": {},
   "outputs": [],
   "source": [
    "nums = pd.Series(np.random.randint(1, 100, 10), index = np.arange(11, 21))"
   ]
  },
  {
   "cell_type": "code",
   "execution_count": 16,
   "id": "346e20fe-c555-42c3-b4b4-0e9bc79e3a3b",
   "metadata": {},
   "outputs": [
    {
     "data": {
      "text/plain": [
       "11    50\n",
       "12    34\n",
       "13    84\n",
       "14    94\n",
       "15    19\n",
       "16    65\n",
       "17    11\n",
       "18    94\n",
       "19    57\n",
       "20    69\n",
       "dtype: int32"
      ]
     },
     "execution_count": 16,
     "metadata": {},
     "output_type": "execute_result"
    }
   ],
   "source": [
    "nums"
   ]
  },
  {
   "cell_type": "markdown",
   "id": "fb40be62-4b24-4054-a659-799822778ac6",
   "metadata": {},
   "source": [
    "### Properties of series"
   ]
  },
  {
   "cell_type": "code",
   "execution_count": 17,
   "id": "f2176514-cd4b-47ff-aa87-c2c8f44dbde5",
   "metadata": {},
   "outputs": [
    {
     "data": {
      "text/plain": [
       "False"
      ]
     },
     "execution_count": 17,
     "metadata": {},
     "output_type": "execute_result"
    }
   ],
   "source": [
    "nums.is_unique"
   ]
  },
  {
   "cell_type": "code",
   "execution_count": 18,
   "id": "985ed64d-7ee3-475b-9dd1-c726f0847799",
   "metadata": {},
   "outputs": [
    {
     "data": {
      "text/plain": [
       "[Int64Index([11, 12, 13, 14, 15, 16, 17, 18, 19, 20], dtype='int64')]"
      ]
     },
     "execution_count": 18,
     "metadata": {},
     "output_type": "execute_result"
    }
   ],
   "source": [
    "nums.axes   # Row labels"
   ]
  },
  {
   "cell_type": "code",
   "execution_count": 19,
   "id": "dd6a87c2-c14a-4507-8cae-f37988c9c3b6",
   "metadata": {},
   "outputs": [
    {
     "data": {
      "text/plain": [
       "Int64Index([11, 12, 13, 14, 15, 16, 17, 18, 19, 20], dtype='int64')"
      ]
     },
     "execution_count": 19,
     "metadata": {},
     "output_type": "execute_result"
    }
   ],
   "source": [
    "nums.index"
   ]
  },
  {
   "cell_type": "code",
   "execution_count": 20,
   "id": "a29c4ca1-60ff-4c58-a3da-5cdfef8545d5",
   "metadata": {},
   "outputs": [
    {
     "data": {
      "text/plain": [
       "numpy.ndarray"
      ]
     },
     "execution_count": 20,
     "metadata": {},
     "output_type": "execute_result"
    }
   ],
   "source": [
    "type(nums.values)"
   ]
  },
  {
   "cell_type": "markdown",
   "id": "e47cd3e9-f7f1-4122-8260-3cb285963bc4",
   "metadata": {},
   "source": [
    "### loc and iloc properties"
   ]
  },
  {
   "cell_type": "code",
   "execution_count": 21,
   "id": "8e754277-bd32-4d64-aca1-c398921a0488",
   "metadata": {},
   "outputs": [
    {
     "data": {
      "text/plain": [
       "50"
      ]
     },
     "execution_count": 21,
     "metadata": {},
     "output_type": "execute_result"
    }
   ],
   "source": [
    "nums[11]"
   ]
  },
  {
   "cell_type": "code",
   "execution_count": 22,
   "id": "4161f3c3-eec9-4cb9-9b97-b97d29cfcb18",
   "metadata": {},
   "outputs": [
    {
     "data": {
      "text/plain": [
       "50"
      ]
     },
     "execution_count": 22,
     "metadata": {},
     "output_type": "execute_result"
    }
   ],
   "source": [
    "nums.loc[11]   # row label index"
   ]
  },
  {
   "cell_type": "code",
   "execution_count": 23,
   "id": "5aff1c8f-ff5f-434b-a091-84ee9ef829e0",
   "metadata": {},
   "outputs": [
    {
     "data": {
      "text/plain": [
       "50"
      ]
     },
     "execution_count": 23,
     "metadata": {},
     "output_type": "execute_result"
    }
   ],
   "source": [
    "nums.iloc[0]    # position"
   ]
  },
  {
   "cell_type": "code",
   "execution_count": 24,
   "id": "517d247d-214a-4c51-9bee-b9dbd7ba9823",
   "metadata": {},
   "outputs": [
    {
     "data": {
      "text/plain": [
       "11    50\n",
       "12    34\n",
       "13    84\n",
       "14    94\n",
       "15    19\n",
       "dtype: int32"
      ]
     },
     "execution_count": 24,
     "metadata": {},
     "output_type": "execute_result"
    }
   ],
   "source": [
    "# for loc end range is inclusive\n",
    "nums.loc[11:15]"
   ]
  },
  {
   "cell_type": "code",
   "execution_count": 25,
   "id": "609af80d-09b1-4cde-9a9c-363e3d21b7ed",
   "metadata": {},
   "outputs": [
    {
     "data": {
      "text/plain": [
       "11    50\n",
       "12    34\n",
       "13    84\n",
       "14    94\n",
       "15    19\n",
       "dtype: int32"
      ]
     },
     "execution_count": 25,
     "metadata": {},
     "output_type": "execute_result"
    }
   ],
   "source": [
    "# for iloc end range is exclusive\n",
    "nums.iloc[0:5]"
   ]
  },
  {
   "cell_type": "markdown",
   "id": "cce351fb-2506-4464-9df5-3d19e825c1a2",
   "metadata": {},
   "source": [
    "### Fancy indexing"
   ]
  },
  {
   "cell_type": "code",
   "execution_count": 26,
   "id": "529efdef-78ce-4963-9b1b-0c2fc849d9e6",
   "metadata": {},
   "outputs": [
    {
     "data": {
      "text/plain": [
       "11     True\n",
       "12     True\n",
       "13     True\n",
       "14     True\n",
       "15    False\n",
       "16     True\n",
       "17    False\n",
       "18     True\n",
       "19     True\n",
       "20     True\n",
       "dtype: bool"
      ]
     },
     "execution_count": 26,
     "metadata": {},
     "output_type": "execute_result"
    }
   ],
   "source": [
    "nums > 30"
   ]
  },
  {
   "cell_type": "code",
   "execution_count": 27,
   "id": "37a562fb-e6e4-4763-82bf-ca0cbf091c73",
   "metadata": {},
   "outputs": [
    {
     "data": {
      "text/plain": [
       "11    50\n",
       "12    34\n",
       "13    84\n",
       "14    94\n",
       "16    65\n",
       "18    94\n",
       "19    57\n",
       "20    69\n",
       "dtype: int32"
      ]
     },
     "execution_count": 27,
     "metadata": {},
     "output_type": "execute_result"
    }
   ],
   "source": [
    "nums[nums > 30]"
   ]
  },
  {
   "cell_type": "code",
   "execution_count": 28,
   "id": "dfeef09c-d573-49f4-9786-37b0e31f8748",
   "metadata": {},
   "outputs": [
    {
     "data": {
      "text/plain": [
       "11    50\n",
       "15    19\n",
       "16    65\n",
       "dtype: int32"
      ]
     },
     "execution_count": 28,
     "metadata": {},
     "output_type": "execute_result"
    }
   ],
   "source": [
    "nums.loc[[11, 15, 16]]   # Array of row labels"
   ]
  },
  {
   "cell_type": "code",
   "execution_count": 29,
   "id": "b432c36c-3452-4636-9454-7966ee06ad30",
   "metadata": {},
   "outputs": [
    {
     "data": {
      "text/plain": [
       "11    50\n",
       "15    19\n",
       "17    11\n",
       "dtype: int32"
      ]
     },
     "execution_count": 29,
     "metadata": {},
     "output_type": "execute_result"
    }
   ],
   "source": [
    "nums.iloc[[0,4,6]]    # Array of positions"
   ]
  },
  {
   "cell_type": "markdown",
   "id": "ac40c3f2-f161-4ba0-aaf1-d13f4e591dc3",
   "metadata": {},
   "source": [
    "# Methods of series"
   ]
  },
  {
   "cell_type": "code",
   "execution_count": 30,
   "id": "dbf53412-babc-4036-8e9e-267feef9573d",
   "metadata": {},
   "outputs": [
    {
     "data": {
      "text/plain": [
       "count    10.000000\n",
       "mean     57.700000\n",
       "std      29.454485\n",
       "min      11.000000\n",
       "25%      38.000000\n",
       "50%      61.000000\n",
       "75%      80.250000\n",
       "max      94.000000\n",
       "dtype: float64"
      ]
     },
     "execution_count": 30,
     "metadata": {},
     "output_type": "execute_result"
    }
   ],
   "source": [
    "nums.describe()"
   ]
  },
  {
   "cell_type": "code",
   "execution_count": 31,
   "id": "55b9ee2c-820c-4dac-a42f-7a9d069f09c4",
   "metadata": {},
   "outputs": [
    {
     "name": "stdout",
     "output_type": "stream",
     "text": [
      "<class 'pandas.core.series.Series'>\n"
     ]
    }
   ],
   "source": [
    "summary = nums.describe()\n",
    "print(type(summary))"
   ]
  },
  {
   "cell_type": "code",
   "execution_count": 32,
   "id": "62cfb5cd-ad52-49ba-b076-b30b49d6383c",
   "metadata": {},
   "outputs": [
    {
     "data": {
      "text/plain": [
       "(57.7, 61.0)"
      ]
     },
     "execution_count": 32,
     "metadata": {},
     "output_type": "execute_result"
    }
   ],
   "source": [
    "summary[\"mean\"], summary[\"50%\"]"
   ]
  },
  {
   "cell_type": "code",
   "execution_count": 33,
   "id": "764734c1-b193-4871-9df0-54566e4dd4a2",
   "metadata": {},
   "outputs": [
    {
     "data": {
      "text/plain": [
       "42.25"
      ]
     },
     "execution_count": 33,
     "metadata": {},
     "output_type": "execute_result"
    }
   ],
   "source": [
    "summary[\"75%\"] - summary[\"25%\"]"
   ]
  },
  {
   "cell_type": "code",
   "execution_count": 34,
   "id": "6e9787b0-9cb8-4f32-adff-dc69ab2c0be0",
   "metadata": {},
   "outputs": [
    {
     "data": {
      "text/plain": [
       "57.7"
      ]
     },
     "execution_count": 34,
     "metadata": {},
     "output_type": "execute_result"
    }
   ],
   "source": [
    "nums.mean()"
   ]
  },
  {
   "cell_type": "code",
   "execution_count": 35,
   "id": "02592bd2-9d78-4988-9987-9372d0abb6d2",
   "metadata": {},
   "outputs": [
    {
     "data": {
      "text/plain": [
       "True"
      ]
     },
     "execution_count": 35,
     "metadata": {},
     "output_type": "execute_result"
    }
   ],
   "source": [
    "nums.index.is_unique"
   ]
  },
  {
   "cell_type": "code",
   "execution_count": 36,
   "id": "dc47a509-d03b-470b-8dc6-2913488dff13",
   "metadata": {},
   "outputs": [
    {
     "data": {
      "text/plain": [
       "<AxesSubplot:>"
      ]
     },
     "execution_count": 36,
     "metadata": {},
     "output_type": "execute_result"
    },
    {
     "data": {
      "image/png": "[encoded data removed]",
      "text/plain": [
       "<Figure size 432x288 with 1 Axes>"
      ]
     },
     "metadata": {
      "needs_background": "light"
     },
     "output_type": "display_data"
    }
   ],
   "source": [
    "nums.hist(bins = 8)"
   ]
  },
  {
   "cell_type": "code",
   "execution_count": 37,
   "id": "354214ef-bc5d-472d-8ab1-1dbd7827b8cf",
   "metadata": {},
   "outputs": [
    {
     "data": {
      "text/plain": [
       "<AxesSubplot:ylabel='Density'>"
      ]
     },
     "execution_count": 37,
     "metadata": {},
     "output_type": "execute_result"
    },
    {
     "data": {
      "image/png": "[encoded data removed]",
      "text/plain": [
       "<Figure size 432x288 with 1 Axes>"
      ]
     },
     "metadata": {
      "needs_background": "light"
     },
     "output_type": "display_data"
    }
   ],
   "source": [
    "nums.plot(kind = \"kde\")"
   ]
  },
  {
   "cell_type": "markdown",
   "id": "5114a2e3-40a7-4d73-869a-f4a9aef3cf9e",
   "metadata": {},
   "source": [
    "### Iteration"
   ]
  },
  {
   "cell_type": "code",
   "execution_count": 38,
   "id": "0598f598-41e2-41db-ae9d-3d6bc3d2d26d",
   "metadata": {},
   "outputs": [
    {
     "name": "stdout",
     "output_type": "stream",
     "text": [
      "11 - 50\n",
      "12 - 34\n",
      "13 - 84\n",
      "14 - 94\n",
      "15 - 19\n",
      "16 - 65\n",
      "17 - 11\n",
      "18 - 94\n",
      "19 - 57\n",
      "20 - 69\n"
     ]
    }
   ],
   "source": [
    "for i, n in nums.items():    # Unpack index and values\n",
    "    print(f\"{i} - {n}\")"
   ]
  },
  {
   "cell_type": "code",
   "execution_count": 39,
   "id": "dd279f8b-eac8-4658-83d8-4663cf0ac35f",
   "metadata": {},
   "outputs": [
    {
     "name": "stdout",
     "output_type": "stream",
     "text": [
      "50\n",
      "34\n",
      "84\n",
      "94\n",
      "19\n",
      "65\n",
      "11\n",
      "94\n",
      "57\n",
      "69\n"
     ]
    }
   ],
   "source": [
    "for n in nums:    # iterate values\n",
    "    print(n)"
   ]
  },
  {
   "cell_type": "markdown",
   "id": "987beb5e-83cb-4989-89d1-dfe64312f101",
   "metadata": {},
   "source": [
    "### Ranking"
   ]
  },
  {
   "cell_type": "code",
   "execution_count": 40,
   "id": "1c4c61ad-5c3d-4ef1-a4e9-8309bcfd61dc",
   "metadata": {},
   "outputs": [
    {
     "data": {
      "text/plain": [
       "0    60\n",
       "1    70\n",
       "2    80\n",
       "3    60\n",
       "4    85\n",
       "5    75\n",
       "Name: python, dtype: int64"
      ]
     },
     "execution_count": 40,
     "metadata": {},
     "output_type": "execute_result"
    }
   ],
   "source": [
    "marks = pd.Series([60, 70, 80, 60, 85, 75], name = \"python\")\n",
    "marks"
   ]
  },
  {
   "cell_type": "code",
   "execution_count": 41,
   "id": "690a4082-918a-424d-9db4-860d339980eb",
   "metadata": {},
   "outputs": [
    {
     "data": {
      "text/plain": [
       "0    1.5\n",
       "1    3.0\n",
       "2    5.0\n",
       "3    1.5\n",
       "4    6.0\n",
       "5    4.0\n",
       "Name: python, dtype: float64"
      ]
     },
     "execution_count": 41,
     "metadata": {},
     "output_type": "execute_result"
    }
   ],
   "source": [
    "marks.rank()    # Ranks the values"
   ]
  },
  {
   "cell_type": "code",
   "execution_count": 42,
   "id": "b9074648-7968-4565-b2ee-179e01619c1b",
   "metadata": {},
   "outputs": [
    {
     "data": {
      "text/plain": [
       "0    5.5\n",
       "1    4.0\n",
       "2    2.0\n",
       "3    5.5\n",
       "4    1.0\n",
       "5    3.0\n",
       "Name: python, dtype: float64"
      ]
     },
     "execution_count": 42,
     "metadata": {},
     "output_type": "execute_result"
    }
   ],
   "source": [
    "marks.rank(ascending = False)"
   ]
  },
  {
   "cell_type": "code",
   "execution_count": 43,
   "id": "03d30b9b-a330-4677-a040-501c21480d2a",
   "metadata": {},
   "outputs": [
    {
     "data": {
      "text/plain": [
       "0    1.0\n",
       "1    3.0\n",
       "2    5.0\n",
       "3    1.0\n",
       "4    6.0\n",
       "5    4.0\n",
       "Name: python, dtype: float64"
      ]
     },
     "execution_count": 43,
     "metadata": {},
     "output_type": "execute_result"
    }
   ],
   "source": [
    "marks.rank(method = \"min\")"
   ]
  },
  {
   "cell_type": "code",
   "execution_count": 44,
   "id": "aa14ce33-1806-42e1-9fb0-7259b2fd56b7",
   "metadata": {},
   "outputs": [
    {
     "data": {
      "text/plain": [
       "0    2.0\n",
       "1    3.0\n",
       "2    5.0\n",
       "3    2.0\n",
       "4    6.0\n",
       "5    4.0\n",
       "Name: python, dtype: float64"
      ]
     },
     "execution_count": 44,
     "metadata": {},
     "output_type": "execute_result"
    }
   ],
   "source": [
    "marks.rank(method = \"max\")"
   ]
  },
  {
   "cell_type": "code",
   "execution_count": 45,
   "id": "bfc375be-4cad-42de-afe2-3007ebeb97e4",
   "metadata": {},
   "outputs": [
    {
     "data": {
      "text/plain": [
       "0    1.0\n",
       "1    2.0\n",
       "2    4.0\n",
       "3    1.0\n",
       "4    5.0\n",
       "5    3.0\n",
       "Name: python, dtype: float64"
      ]
     },
     "execution_count": 45,
     "metadata": {},
     "output_type": "execute_result"
    }
   ],
   "source": [
    "marks.rank(method = \"dense\")"
   ]
  },
  {
   "cell_type": "code",
   "execution_count": 46,
   "id": "e7e1f428-52ce-489e-a548-caa12b655df3",
   "metadata": {},
   "outputs": [
    {
     "data": {
      "text/plain": [
       "0    1.0\n",
       "1    3.0\n",
       "2    5.0\n",
       "3    2.0\n",
       "4    6.0\n",
       "5    4.0\n",
       "Name: python, dtype: float64"
      ]
     },
     "execution_count": 46,
     "metadata": {},
     "output_type": "execute_result"
    }
   ],
   "source": [
    "marks.rank(method = \"first\")"
   ]
  },
  {
   "cell_type": "code",
   "execution_count": 47,
   "id": "c2aec05a-5de5-4abd-bf8f-1f590cfd73c5",
   "metadata": {},
   "outputs": [
    {
     "data": {
      "text/plain": [
       "0    5.0\n",
       "1    4.0\n",
       "2    2.0\n",
       "3    6.0\n",
       "4    1.0\n",
       "5    3.0\n",
       "Name: python, dtype: float64"
      ]
     },
     "execution_count": 47,
     "metadata": {},
     "output_type": "execute_result"
    }
   ],
   "source": [
    "marks.rank(method = \"first\", ascending = False)"
   ]
  },
  {
   "cell_type": "markdown",
   "id": "42e26334-a30f-4e83-ac6e-236559596c69",
   "metadata": {},
   "source": [
    "### Selecting rows"
   ]
  },
  {
   "cell_type": "code",
   "execution_count": 48,
   "id": "d5118b44-95b4-4648-ad30-c41a24502252",
   "metadata": {},
   "outputs": [
    {
     "data": {
      "text/plain": [
       "0    60\n",
       "1    70\n",
       "2    80\n",
       "3    60\n",
       "4    85\n",
       "Name: python, dtype: int64"
      ]
     },
     "execution_count": 48,
     "metadata": {},
     "output_type": "execute_result"
    }
   ],
   "source": [
    "marks.head()   # First 5"
   ]
  },
  {
   "cell_type": "code",
   "execution_count": 49,
   "id": "e447e6b6-54f4-42ad-85d9-d02e9a901a5a",
   "metadata": {},
   "outputs": [
    {
     "data": {
      "text/plain": [
       "1    70\n",
       "2    80\n",
       "3    60\n",
       "4    85\n",
       "5    75\n",
       "Name: python, dtype: int64"
      ]
     },
     "execution_count": 49,
     "metadata": {},
     "output_type": "execute_result"
    }
   ],
   "source": [
    "marks.tail()    # Last 5"
   ]
  },
  {
   "cell_type": "code",
   "execution_count": 50,
   "id": "04f3410c-f29b-4429-8a88-cf530885cf5b",
   "metadata": {},
   "outputs": [
    {
     "data": {
      "text/plain": [
       "5    75\n",
       "1    70\n",
       "2    80\n",
       "0    60\n",
       "3    60\n",
       "Name: python, dtype: int64"
      ]
     },
     "execution_count": 50,
     "metadata": {},
     "output_type": "execute_result"
    }
   ],
   "source": [
    "marks.sample(5)"
   ]
  },
  {
   "cell_type": "code",
   "execution_count": 51,
   "id": "53f51887-cf18-4975-b56b-e840adc29e2f",
   "metadata": {},
   "outputs": [
    {
     "data": {
      "text/plain": [
       "1    100\n",
       "2    120\n",
       "3    150\n",
       "4    100\n",
       "5     80\n",
       "6    200\n",
       "dtype: int64"
      ]
     },
     "execution_count": 51,
     "metadata": {},
     "output_type": "execute_result"
    }
   ],
   "source": [
    "sales = pd.Series([100, 120, 150, 100, 80, 200], index = [1,2,3,4,5,6])\n",
    "sales"
   ]
  },
  {
   "cell_type": "code",
   "execution_count": 52,
   "id": "90a99ffd-1235-46fb-888b-ef2fac8bc74e",
   "metadata": {},
   "outputs": [
    {
     "data": {
      "text/plain": [
       "0    60\n",
       "5    75\n",
       "3    60\n",
       "Name: python, dtype: int64"
      ]
     },
     "execution_count": 52,
     "metadata": {},
     "output_type": "execute_result"
    }
   ],
   "source": [
    "marks.sample(frac = 0.5)"
   ]
  },
  {
   "cell_type": "code",
   "execution_count": 53,
   "id": "ffe04805-4e11-4b61-96df-bfb038a874b4",
   "metadata": {},
   "outputs": [
    {
     "data": {
      "text/plain": [
       "0    NaN\n",
       "1    1.0\n",
       "2    0.5\n",
       "3   -0.5\n",
       "4    1.0\n",
       "dtype: float64"
      ]
     },
     "execution_count": 53,
     "metadata": {},
     "output_type": "execute_result"
    }
   ],
   "source": [
    "pd.Series([10, 20, 30, 15, 30]).pct_change()"
   ]
  },
  {
   "cell_type": "code",
   "execution_count": 54,
   "id": "1644b1f9-44aa-4310-8afa-d849d24c0cd9",
   "metadata": {},
   "outputs": [
    {
     "data": {
      "text/plain": [
       "6    200\n",
       "3    150\n",
       "2    120\n",
       "1    100\n",
       "4    100\n",
       "5     80\n",
       "dtype: int64"
      ]
     },
     "execution_count": 54,
     "metadata": {},
     "output_type": "execute_result"
    }
   ],
   "source": [
    "sales.sort_values(ascending = False)"
   ]
  },
  {
   "cell_type": "code",
   "execution_count": 55,
   "id": "9bb683bf-0dfd-4d5e-bd59-9e78a127cdff",
   "metadata": {},
   "outputs": [
    {
     "data": {
      "text/plain": [
       "142.5"
      ]
     },
     "execution_count": 55,
     "metadata": {},
     "output_type": "execute_result"
    }
   ],
   "source": [
    "sales.quantile(q = 0.75)"
   ]
  },
  {
   "cell_type": "code",
   "execution_count": 56,
   "id": "f0ffe014-2ad9-4512-a387-d15f72a7ff69",
   "metadata": {},
   "outputs": [
    {
     "data": {
      "text/plain": [
       "0.25    100.0\n",
       "0.50    110.0\n",
       "0.75    142.5\n",
       "1.00    200.0\n",
       "dtype: float64"
      ]
     },
     "execution_count": 56,
     "metadata": {},
     "output_type": "execute_result"
    }
   ],
   "source": [
    "sales.quantile([0.25, 0.50, 0.75, 1])"
   ]
  },
  {
   "cell_type": "code",
   "execution_count": 57,
   "id": "a022f3f1-1004-4c60-b3c7-1aef5a8624e5",
   "metadata": {},
   "outputs": [],
   "source": [
    "# Parameter is a series\n",
    "def count_even(s):\n",
    "    count = 0\n",
    "    for n in s:\n",
    "        if n % 2 == 0:\n",
    "            count += 1\n",
    "    return count        "
   ]
  },
  {
   "cell_type": "code",
   "execution_count": 58,
   "id": "428b2a37-4bfa-4c20-ab9e-d44233a89486",
   "metadata": {},
   "outputs": [],
   "source": [
    "# Parameter is a series\n",
    "def big_small(s):\n",
    "    return ((s <= 100).sum(), (s > 100).sum())"
   ]
  },
  {
   "cell_type": "code",
   "execution_count": 59,
   "id": "c3ebd9ce-f8d1-4532-ba33-c56d336aa945",
   "metadata": {},
   "outputs": [],
   "source": [
    "# Parameter is a series\n",
    "def get_even_count(s):\n",
    "    return (s % 2 == 0).sum()"
   ]
  },
  {
   "cell_type": "code",
   "execution_count": 60,
   "id": "d07f9a17-dfaf-4868-b46b-4e710ed15860",
   "metadata": {},
   "outputs": [
    {
     "data": {
      "text/plain": [
       "1    100\n",
       "2    120\n",
       "3    150\n",
       "4    100\n",
       "5     80\n",
       "6    200\n",
       "dtype: int64"
      ]
     },
     "execution_count": 60,
     "metadata": {},
     "output_type": "execute_result"
    }
   ],
   "source": [
    "sales"
   ]
  },
  {
   "cell_type": "markdown",
   "id": "6692fc5e-b975-4e76-bcef-71e6d8f25879",
   "metadata": {},
   "source": [
    "### agg()"
   ]
  },
  {
   "cell_type": "code",
   "execution_count": 61,
   "id": "345b1425-bf12-4f2d-81df-418d92f7b0a0",
   "metadata": {},
   "outputs": [
    {
     "data": {
      "text/plain": [
       "sum     750.0\n",
       "mean    125.0\n",
       "dtype: float64"
      ]
     },
     "execution_count": 61,
     "metadata": {},
     "output_type": "execute_result"
    }
   ],
   "source": [
    "sales.agg((\"sum\", \"mean\"))"
   ]
  },
  {
   "cell_type": "code",
   "execution_count": 62,
   "id": "1aa0190f-f231-4ce8-a870-1a5817c07f00",
   "metadata": {},
   "outputs": [
    {
     "data": {
      "text/plain": [
       "min                   80\n",
       "max                  200\n",
       "count                  6\n",
       "get_even_count         6\n",
       "count_even             6\n",
       "big_small         (3, 3)\n",
       "dtype: object"
      ]
     },
     "execution_count": 62,
     "metadata": {},
     "output_type": "execute_result"
    }
   ],
   "source": [
    "sales.agg([\"min\", \"max\", \"count\", get_even_count, count_even, big_small])"
   ]
  },
  {
   "cell_type": "markdown",
   "id": "ee99a9ea-fec2-4e16-859b-8187767e4ccc",
   "metadata": {},
   "source": [
    "### apply()"
   ]
  },
  {
   "cell_type": "code",
   "execution_count": 63,
   "id": "872ba008-091d-4810-9e1f-a842db08928f",
   "metadata": {},
   "outputs": [],
   "source": [
    "# Parameter is a single value in a series\n",
    "def get_grade(v):\n",
    "    if v > 80:\n",
    "        return \"A\"\n",
    "    elif v > 60:\n",
    "        return \"B\"\n",
    "    else:\n",
    "        return \"C\""
   ]
  },
  {
   "cell_type": "code",
   "execution_count": 64,
   "id": "8c00039c-6fbe-4eb9-b2af-31b57fcb27d7",
   "metadata": {},
   "outputs": [
    {
     "data": {
      "text/plain": [
       "0    A\n",
       "1    B\n",
       "2    C\n",
       "3    C\n",
       "4    A\n",
       "5    C\n",
       "6    B\n",
       "dtype: object"
      ]
     },
     "execution_count": 64,
     "metadata": {},
     "output_type": "execute_result"
    }
   ],
   "source": [
    "marks = pd.Series([89, 61, 57, 49, 90, 60, 80])\n",
    "marks.apply(get_grade)"
   ]
  },
  {
   "cell_type": "markdown",
   "id": "194e748a-f743-4a68-8f90-a715394d862e",
   "metadata": {},
   "source": [
    "### By using map function in python"
   ]
  },
  {
   "cell_type": "code",
   "execution_count": 65,
   "id": "79401497-0b4b-4e85-9200-16aa6d543b30",
   "metadata": {},
   "outputs": [
    {
     "name": "stdout",
     "output_type": "stream",
     "text": [
      "A\n",
      "B\n",
      "C\n",
      "C\n",
      "A\n",
      "C\n",
      "B\n"
     ]
    }
   ],
   "source": [
    "for v in map(get_grade, marks):\n",
    "    print(v)"
   ]
  },
  {
   "cell_type": "code",
   "execution_count": 66,
   "id": "a82c407a-af7a-4322-b771-beb30292a021",
   "metadata": {},
   "outputs": [
    {
     "data": {
      "text/plain": [
       "0    Passed\n",
       "1    Failed\n",
       "2    Failed\n",
       "3    Failed\n",
       "4    Passed\n",
       "5    Failed\n",
       "6    Passed\n",
       "dtype: object"
      ]
     },
     "execution_count": 66,
     "metadata": {},
     "output_type": "execute_result"
    }
   ],
   "source": [
    "marks.apply(lambda v : \"Passed\" if v >= 65 else \"Failed\")"
   ]
  },
  {
   "cell_type": "code",
   "execution_count": 67,
   "id": "c0687a85-062a-4b74-962c-4ddc96e8a2b3",
   "metadata": {},
   "outputs": [
    {
     "data": {
      "text/plain": [
       "7"
      ]
     },
     "execution_count": 67,
     "metadata": {},
     "output_type": "execute_result"
    }
   ],
   "source": [
    "marks.count()"
   ]
  },
  {
   "cell_type": "code",
   "execution_count": 68,
   "id": "bf9f8e3a-ae8a-4b23-8709-7f391efebbe7",
   "metadata": {},
   "outputs": [
    {
     "data": {
      "text/plain": [
       "4    90\n",
       "0    89\n",
       "6    80\n",
       "1    61\n",
       "dtype: int64"
      ]
     },
     "execution_count": 68,
     "metadata": {},
     "output_type": "execute_result"
    }
   ],
   "source": [
    "marks.sort_values(ascending = False).iloc[:4]"
   ]
  },
  {
   "cell_type": "markdown",
   "id": "eb9c6465-8b41-4957-9afe-06cac5386c1b",
   "metadata": {},
   "source": [
    "### load from csv file"
   ]
  },
  {
   "cell_type": "code",
   "execution_count": 69,
   "id": "c62c2341-bc50-4ff5-ba4f-a97910563b7f",
   "metadata": {},
   "outputs": [
    {
     "data": {
      "text/plain": [
       "pandas.core.frame.DataFrame"
      ]
     },
     "execution_count": 69,
     "metadata": {},
     "output_type": "execute_result"
    }
   ],
   "source": [
    "sales = pd.read_csv(\"sales.csv\")\n",
    "type(sales)"
   ]
  },
  {
   "cell_type": "code",
   "execution_count": 70,
   "id": "ba9e83d5-c0f0-492d-a4c8-896b2b39876b",
   "metadata": {},
   "outputs": [
    {
     "data": {
      "text/html": [
       "<div>\n",
       "<style scoped>\n",
       "    .dataframe tbody tr th:only-of-type {\n",
       "        vertical-align: middle;\n",
       "    }\n",
       "\n",
       "    .dataframe tbody tr th {\n",
       "        vertical-align: top;\n",
       "    }\n",
       "\n",
       "    .dataframe thead th {\n",
       "        text-align: right;\n",
       "    }\n",
       "</style>\n",
       "<table border=\"1\" class=\"dataframe\">\n",
       "  <thead>\n",
       "    <tr style=\"text-align: right;\">\n",
       "      <th></th>\n",
       "      <th>Month</th>\n",
       "      <th>Sales</th>\n",
       "    </tr>\n",
       "  </thead>\n",
       "  <tbody>\n",
       "    <tr>\n",
       "      <th>0</th>\n",
       "      <td>1</td>\n",
       "      <td>100</td>\n",
       "    </tr>\n",
       "    <tr>\n",
       "      <th>1</th>\n",
       "      <td>2</td>\n",
       "      <td>120</td>\n",
       "    </tr>\n",
       "    <tr>\n",
       "      <th>2</th>\n",
       "      <td>3</td>\n",
       "      <td>150</td>\n",
       "    </tr>\n",
       "    <tr>\n",
       "      <th>3</th>\n",
       "      <td>4</td>\n",
       "      <td>100</td>\n",
       "    </tr>\n",
       "    <tr>\n",
       "      <th>4</th>\n",
       "      <td>5</td>\n",
       "      <td>200</td>\n",
       "    </tr>\n",
       "  </tbody>\n",
       "</table>\n",
       "</div>"
      ],
      "text/plain": [
       "   Month  Sales\n",
       "0      1    100\n",
       "1      2    120\n",
       "2      3    150\n",
       "3      4    100\n",
       "4      5    200"
      ]
     },
     "execution_count": 70,
     "metadata": {},
     "output_type": "execute_result"
    }
   ],
   "source": [
    "sales"
   ]
  },
  {
   "cell_type": "markdown",
   "id": "13c8bcd0-101e-4bfd-b304-14212630219c",
   "metadata": {},
   "source": [
    "### Habdle null(na) values"
   ]
  },
  {
   "cell_type": "code",
   "execution_count": 71,
   "id": "5408ec9e-be81-447d-bda5-fd34815fe0f4",
   "metadata": {},
   "outputs": [
    {
     "data": {
      "text/plain": [
       "1     100.0\n",
       "2     120.0\n",
       "3     150.0\n",
       "4     100.0\n",
       "5     200.0\n",
       "6       NaN\n",
       "7     175.0\n",
       "8       NaN\n",
       "9     200.0\n",
       "10    100.0\n",
       "11    120.0\n",
       "12    140.0\n",
       "dtype: float64"
      ]
     },
     "execution_count": 71,
     "metadata": {},
     "output_type": "execute_result"
    }
   ],
   "source": [
    "sales = pd.Series((100,120,150,100,200,np.nan,175,np.nan,200,100, 120, 140), \n",
    "                   index  = np.arange(1,13))\n",
    "sales"
   ]
  },
  {
   "cell_type": "code",
   "execution_count": 72,
   "id": "9d9249f8-582a-4e14-99fb-df77162a29aa",
   "metadata": {},
   "outputs": [],
   "source": [
    "sales.name = \"Sales\"\n",
    "sales.index.name = \"Month\""
   ]
  },
  {
   "cell_type": "code",
   "execution_count": 73,
   "id": "e9ca7a5c-1525-4679-a356-74f5de2bc382",
   "metadata": {},
   "outputs": [
    {
     "data": {
      "text/plain": [
       "Month\n",
       "1     100.0\n",
       "2     120.0\n",
       "3     150.0\n",
       "4     100.0\n",
       "5     200.0\n",
       "6       NaN\n",
       "7     175.0\n",
       "8       NaN\n",
       "9     200.0\n",
       "10    100.0\n",
       "11    120.0\n",
       "12    140.0\n",
       "Name: Sales, dtype: float64"
      ]
     },
     "execution_count": 73,
     "metadata": {},
     "output_type": "execute_result"
    }
   ],
   "source": [
    "sales"
   ]
  },
  {
   "cell_type": "code",
   "execution_count": 74,
   "id": "1025d97f-f817-4616-b0af-e213efd9f067",
   "metadata": {},
   "outputs": [
    {
     "data": {
      "text/plain": [
       "'Sales'"
      ]
     },
     "execution_count": 74,
     "metadata": {},
     "output_type": "execute_result"
    }
   ],
   "source": [
    "sales.name"
   ]
  },
  {
   "cell_type": "code",
   "execution_count": 75,
   "id": "65194c2f-2081-4106-af05-ad1b71e7d625",
   "metadata": {},
   "outputs": [
    {
     "data": {
      "text/plain": [
       "'Month'"
      ]
     },
     "execution_count": 75,
     "metadata": {},
     "output_type": "execute_result"
    }
   ],
   "source": [
    "sales.index.name"
   ]
  },
  {
   "cell_type": "code",
   "execution_count": 76,
   "id": "574b762c-0a80-4977-b4bd-6954b2a0c69d",
   "metadata": {},
   "outputs": [
    {
     "data": {
      "text/plain": [
       "Month\n",
       "1     False\n",
       "2     False\n",
       "3     False\n",
       "4     False\n",
       "5     False\n",
       "6      True\n",
       "7     False\n",
       "8      True\n",
       "9     False\n",
       "10    False\n",
       "11    False\n",
       "12    False\n",
       "Name: Sales, dtype: bool"
      ]
     },
     "execution_count": 76,
     "metadata": {},
     "output_type": "execute_result"
    }
   ],
   "source": [
    "sales.isnull()"
   ]
  },
  {
   "cell_type": "code",
   "execution_count": 78,
   "id": "1205717c-63bd-4f7d-af43-c8d78a0b3a61",
   "metadata": {},
   "outputs": [
    {
     "data": {
      "text/plain": [
       "2"
      ]
     },
     "execution_count": 78,
     "metadata": {},
     "output_type": "execute_result"
    }
   ],
   "source": [
    "sales.isnull().sum()"
   ]
  },
  {
   "cell_type": "code",
   "execution_count": 79,
   "id": "68e8a093-de18-4768-aaee-63c498fed9dc",
   "metadata": {},
   "outputs": [
    {
     "data": {
      "text/plain": [
       "Month\n",
       "1      True\n",
       "2      True\n",
       "3      True\n",
       "4      True\n",
       "5      True\n",
       "6     False\n",
       "7      True\n",
       "8     False\n",
       "9      True\n",
       "10     True\n",
       "11     True\n",
       "12     True\n",
       "Name: Sales, dtype: bool"
      ]
     },
     "execution_count": 79,
     "metadata": {},
     "output_type": "execute_result"
    }
   ],
   "source": [
    "sales.notna()"
   ]
  },
  {
   "cell_type": "code",
   "execution_count": 80,
   "id": "4c45e784-0103-4958-a44b-7012f2162544",
   "metadata": {},
   "outputs": [
    {
     "data": {
      "text/plain": [
       "10"
      ]
     },
     "execution_count": 80,
     "metadata": {},
     "output_type": "execute_result"
    }
   ],
   "source": [
    "sales.notna().sum()"
   ]
  },
  {
   "cell_type": "code",
   "execution_count": 81,
   "id": "a27a264f-64af-4d3d-afbc-d1a3c31761a9",
   "metadata": {},
   "outputs": [
    {
     "data": {
      "text/plain": [
       "True     10\n",
       "False     2\n",
       "Name: Sales, dtype: int64"
      ]
     },
     "execution_count": 81,
     "metadata": {},
     "output_type": "execute_result"
    }
   ],
   "source": [
    "sales.notna().value_counts()"
   ]
  },
  {
   "cell_type": "code",
   "execution_count": 82,
   "id": "c05538e1-6432-4cea-86f9-7d07fcf77d2e",
   "metadata": {},
   "outputs": [
    {
     "data": {
      "text/plain": [
       "False    10\n",
       "True      2\n",
       "Name: Sales, dtype: int64"
      ]
     },
     "execution_count": 82,
     "metadata": {},
     "output_type": "execute_result"
    }
   ],
   "source": [
    "sales.isna().value_counts()"
   ]
  },
  {
   "cell_type": "code",
   "execution_count": 83,
   "id": "3593657e-ed9b-4f18-ba19-1cb0476c7ea6",
   "metadata": {},
   "outputs": [
    {
     "data": {
      "text/plain": [
       "Month\n",
       "1     100.0\n",
       "2     120.0\n",
       "3     150.0\n",
       "4     100.0\n",
       "5     200.0\n",
       "7     175.0\n",
       "9     200.0\n",
       "10    100.0\n",
       "11    120.0\n",
       "12    140.0\n",
       "Name: Sales, dtype: float64"
      ]
     },
     "execution_count": 83,
     "metadata": {},
     "output_type": "execute_result"
    }
   ],
   "source": [
    "sales[sales.notna()]"
   ]
  },
  {
   "cell_type": "code",
   "execution_count": 85,
   "id": "979793b4-ea03-4c43-b680-68b19d452eaf",
   "metadata": {},
   "outputs": [
    {
     "data": {
      "text/plain": [
       "Int64Index([6, 8], dtype='int64', name='Month')"
      ]
     },
     "execution_count": 85,
     "metadata": {},
     "output_type": "execute_result"
    }
   ],
   "source": [
    "sales[sales.isna()].index"
   ]
  },
  {
   "cell_type": "code",
   "execution_count": 86,
   "id": "4d11f7fd-3bd8-44f3-84f5-cace75f3578f",
   "metadata": {},
   "outputs": [
    {
     "data": {
      "text/plain": [
       "Month\n",
       "1     100.0\n",
       "2     120.0\n",
       "3     150.0\n",
       "4     100.0\n",
       "5     200.0\n",
       "6      -1.0\n",
       "7     175.0\n",
       "8      -1.0\n",
       "9     200.0\n",
       "10    100.0\n",
       "11    120.0\n",
       "12    140.0\n",
       "Name: Sales, dtype: float64"
      ]
     },
     "execution_count": 86,
     "metadata": {},
     "output_type": "execute_result"
    }
   ],
   "source": [
    "sales.fillna(-1)"
   ]
  },
  {
   "cell_type": "code",
   "execution_count": 87,
   "id": "34ff3aad-ddff-480c-907a-6e33cee73165",
   "metadata": {},
   "outputs": [
    {
     "data": {
      "text/plain": [
       "Month\n",
       "1     100.0\n",
       "2     120.0\n",
       "3     150.0\n",
       "4     100.0\n",
       "5     200.0\n",
       "7     175.0\n",
       "9     200.0\n",
       "10    100.0\n",
       "11    120.0\n",
       "12    140.0\n",
       "Name: Sales, dtype: float64"
      ]
     },
     "execution_count": 87,
     "metadata": {},
     "output_type": "execute_result"
    }
   ],
   "source": [
    "sales.dropna()"
   ]
  },
  {
   "cell_type": "code",
   "execution_count": 88,
   "id": "3ad24765-9617-4129-91d0-a525d7978acc",
   "metadata": {},
   "outputs": [
    {
     "data": {
      "text/plain": [
       "Month\n",
       "1     100.0\n",
       "2     120.0\n",
       "3     150.0\n",
       "4     100.0\n",
       "5     200.0\n",
       "6       NaN\n",
       "7     175.0\n",
       "8       NaN\n",
       "9     200.0\n",
       "10    100.0\n",
       "11    120.0\n",
       "12    140.0\n",
       "Name: Sales, dtype: float64"
      ]
     },
     "execution_count": 88,
     "metadata": {},
     "output_type": "execute_result"
    }
   ],
   "source": [
    "sales"
   ]
  },
  {
   "cell_type": "code",
   "execution_count": 90,
   "id": "513ccc91-d8a2-4cdc-aa09-edcd670c5ca9",
   "metadata": {},
   "outputs": [
    {
     "data": {
      "text/plain": [
       "(140.5, 130.0)"
      ]
     },
     "execution_count": 90,
     "metadata": {},
     "output_type": "execute_result"
    }
   ],
   "source": [
    "sales.mean(), sales.median()"
   ]
  },
  {
   "cell_type": "code",
   "execution_count": 91,
   "id": "afd8f349-f858-454f-9113-2bc56d7cdac6",
   "metadata": {},
   "outputs": [
    {
     "data": {
      "text/plain": [
       "Month\n",
       "1     100.0\n",
       "2     120.0\n",
       "3     150.0\n",
       "4     100.0\n",
       "5     200.0\n",
       "6     140.5\n",
       "7     175.0\n",
       "8     140.5\n",
       "9     200.0\n",
       "10    100.0\n",
       "11    120.0\n",
       "12    140.0\n",
       "Name: Sales, dtype: float64"
      ]
     },
     "execution_count": 91,
     "metadata": {},
     "output_type": "execute_result"
    }
   ],
   "source": [
    "sales.fillna(sales.mean())"
   ]
  },
  {
   "cell_type": "code",
   "execution_count": 92,
   "id": "8249657e-43bc-45c5-9a7b-cc6d7643477d",
   "metadata": {},
   "outputs": [
    {
     "data": {
      "text/plain": [
       "140.5"
      ]
     },
     "execution_count": 92,
     "metadata": {},
     "output_type": "execute_result"
    }
   ],
   "source": [
    "sales.dropna().mean()"
   ]
  },
  {
   "cell_type": "code",
   "execution_count": 93,
   "id": "4e48b584-2705-44d5-99f9-49a4153b2558",
   "metadata": {},
   "outputs": [
    {
     "data": {
      "text/plain": [
       "12"
      ]
     },
     "execution_count": 93,
     "metadata": {},
     "output_type": "execute_result"
    }
   ],
   "source": [
    "sales.size"
   ]
  },
  {
   "cell_type": "code",
   "execution_count": 99,
   "id": "9674ccbb-0dea-479c-804b-3717c163b11e",
   "metadata": {},
   "outputs": [
    {
     "data": {
      "text/plain": [
       "117.08333333333333"
      ]
     },
     "execution_count": 99,
     "metadata": {},
     "output_type": "execute_result"
    }
   ],
   "source": [
    "sales.sum() / sales.size   # Mean by counting null values"
   ]
  },
  {
   "cell_type": "code",
   "execution_count": 102,
   "id": "30a5bff3-4083-4f4f-bc51-811d24b85616",
   "metadata": {},
   "outputs": [],
   "source": [
    "sales[1] = 200             # Modify series"
   ]
  },
  {
   "cell_type": "code",
   "execution_count": 103,
   "id": "283e9429-7210-4831-85bc-29dee076a61a",
   "metadata": {},
   "outputs": [
    {
     "data": {
      "text/plain": [
       "Month\n",
       "1     200.0\n",
       "2     120.0\n",
       "3     150.0\n",
       "4     100.0\n",
       "5     200.0\n",
       "6       NaN\n",
       "7     175.0\n",
       "8       NaN\n",
       "9     200.0\n",
       "10    100.0\n",
       "11    120.0\n",
       "12    140.0\n",
       "Name: Sales, dtype: float64"
      ]
     },
     "execution_count": 103,
     "metadata": {},
     "output_type": "execute_result"
    }
   ],
   "source": [
    "sales"
   ]
  },
  {
   "cell_type": "code",
   "execution_count": 104,
   "id": "e7d961fe-1ec2-42de-8098-098130380b26",
   "metadata": {},
   "outputs": [
    {
     "data": {
      "text/plain": [
       "Month\n",
       "1     200.0\n",
       "2     120.0\n",
       "3     150.0\n",
       "4     100.0\n",
       "5     200.0\n",
       "7     175.0\n",
       "9     200.0\n",
       "10    100.0\n",
       "11    120.0\n",
       "12    140.0\n",
       "Name: Sales, dtype: float64"
      ]
     },
     "execution_count": 104,
     "metadata": {},
     "output_type": "execute_result"
    }
   ],
   "source": [
    "sales2 = sales.dropna()\n",
    "sales2"
   ]
  },
  {
   "cell_type": "code",
   "execution_count": 105,
   "id": "d9d9b712-ec67-4203-8564-460735bc9f6b",
   "metadata": {},
   "outputs": [
    {
     "data": {
      "text/plain": [
       "Month\n",
       "1     200.0\n",
       "2     120.0\n",
       "3     150.0\n",
       "4     100.0\n",
       "5     200.0\n",
       "7     175.0\n",
       "9     200.0\n",
       "10    100.0\n",
       "11    120.0\n",
       "12    140.0\n",
       "Name: Sales, dtype: float64"
      ]
     },
     "execution_count": 105,
     "metadata": {},
     "output_type": "execute_result"
    }
   ],
   "source": [
    "sales2"
   ]
  },
  {
   "cell_type": "code",
   "execution_count": 106,
   "id": "4d1362ee-9389-47be-82aa-78a63121d27c",
   "metadata": {},
   "outputs": [],
   "source": [
    "sales2[1] = 120"
   ]
  },
  {
   "cell_type": "code",
   "execution_count": 107,
   "id": "238f0e76-fe10-479a-9bf8-f9db4dd28bb5",
   "metadata": {},
   "outputs": [
    {
     "data": {
      "text/plain": [
       "Month\n",
       "1     120.0\n",
       "2     120.0\n",
       "3     150.0\n",
       "4     100.0\n",
       "5     200.0\n",
       "7     175.0\n",
       "9     200.0\n",
       "10    100.0\n",
       "11    120.0\n",
       "12    140.0\n",
       "Name: Sales, dtype: float64"
      ]
     },
     "execution_count": 107,
     "metadata": {},
     "output_type": "execute_result"
    }
   ],
   "source": [
    "sales2"
   ]
  },
  {
   "cell_type": "code",
   "execution_count": 108,
   "id": "cf02e84a-1a68-4cb7-b0b0-7d0fb789cacb",
   "metadata": {},
   "outputs": [
    {
     "data": {
      "text/plain": [
       "Month\n",
       "1     200.0\n",
       "2     120.0\n",
       "3     150.0\n",
       "4     100.0\n",
       "5     200.0\n",
       "6       NaN\n",
       "7     175.0\n",
       "8       NaN\n",
       "9     200.0\n",
       "10    100.0\n",
       "11    120.0\n",
       "12    140.0\n",
       "Name: Sales, dtype: float64"
      ]
     },
     "execution_count": 108,
     "metadata": {},
     "output_type": "execute_result"
    }
   ],
   "source": [
    "sales"
   ]
  },
  {
   "cell_type": "code",
   "execution_count": 109,
   "id": "fed2d6d2-54df-43d7-894a-c311a3db30c0",
   "metadata": {},
   "outputs": [
    {
     "data": {
      "text/plain": [
       "0    200.0\n",
       "Name: Sales, dtype: float64"
      ]
     },
     "execution_count": 109,
     "metadata": {},
     "output_type": "execute_result"
    }
   ],
   "source": [
    "sales.mode()"
   ]
  },
  {
   "cell_type": "code",
   "execution_count": 110,
   "id": "413b0ee8-0ce8-484c-b49d-37959c29953d",
   "metadata": {},
   "outputs": [
    {
     "data": {
      "text/plain": [
       "Month\n",
       "1      200.0\n",
       "2      320.0\n",
       "3      470.0\n",
       "4      570.0\n",
       "5      770.0\n",
       "6        NaN\n",
       "7      945.0\n",
       "8        NaN\n",
       "9     1145.0\n",
       "10    1245.0\n",
       "11    1365.0\n",
       "12    1505.0\n",
       "Name: Sales, dtype: float64"
      ]
     },
     "execution_count": 110,
     "metadata": {},
     "output_type": "execute_result"
    }
   ],
   "source": [
    "sales.cumsum()"
   ]
  },
  {
   "cell_type": "code",
   "execution_count": 112,
   "id": "d6321345-ec3a-4f08-9e1d-ebc7fb9f26ac",
   "metadata": {},
   "outputs": [
    {
     "data": {
      "text/plain": [
       "Month\n",
       "1      200.0\n",
       "2      320.0\n",
       "3      470.0\n",
       "4      570.0\n",
       "5      770.0\n",
       "7      945.0\n",
       "9     1145.0\n",
       "10    1245.0\n",
       "11    1365.0\n",
       "12    1505.0\n",
       "Name: Sales, dtype: float64"
      ]
     },
     "execution_count": 112,
     "metadata": {},
     "output_type": "execute_result"
    }
   ],
   "source": [
    "sales.dropna().cumsum()"
   ]
  },
  {
   "cell_type": "code",
   "execution_count": 113,
   "id": "5552d435-d3a5-4761-8857-2f8747572ea0",
   "metadata": {},
   "outputs": [
    {
     "data": {
      "text/plain": [
       "Month\n",
       "1     200.0\n",
       "2     120.0\n",
       "3     150.0\n",
       "4     100.0\n",
       "7     175.0\n",
       "12    140.0\n",
       "Name: Sales, dtype: float64"
      ]
     },
     "execution_count": 113,
     "metadata": {},
     "output_type": "execute_result"
    }
   ],
   "source": [
    "sales.dropna().drop_duplicates()"
   ]
  },
  {
   "cell_type": "code",
   "execution_count": null,
   "id": "92b3da74-e519-45c1-9eec-be9f8f355f23",
   "metadata": {},
   "outputs": [],
   "source": []
  }
 ],
 "metadata": {
  "kernelspec": {
   "display_name": "Python 3 (ipykernel)",
   "language": "python",
   "name": "python3"
  },
  "language_info": {
   "codemirror_mode": {
    "name": "ipython",
    "version": 3
   },
   "file_extension": ".py",
   "mimetype": "text/x-python",
   "name": "python",
   "nbconvert_exporter": "python",
   "pygments_lexer": "ipython3",
   "version": "3.9.12"
  }
 },
 "nbformat": 4,
 "nbformat_minor": 5
}
