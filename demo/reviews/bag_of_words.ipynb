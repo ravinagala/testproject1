{
 "cells": [
  {
   "cell_type": "code",
   "execution_count": 2,
   "id": "7b710ce9-f5fc-4077-978d-018bddac622e",
   "metadata": {},
   "outputs": [],
   "source": [
    "from sklearn.feature_extraction.text import TfidfVectorizer, TfidfTransformer, CountVectorizer"
   ]
  },
  {
   "cell_type": "code",
   "execution_count": 3,
   "id": "59ae3e6e-7b30-4d5e-ab30-dda8e0a8085d",
   "metadata": {},
   "outputs": [],
   "source": [
    "corpus = [\n",
    "     'This is the first document.',\n",
    "     'This document is the second document.',\n",
    "     'And this is the third one.',\n",
    "     'Is this the first document?',\n",
    "]"
   ]
  },
  {
   "cell_type": "markdown",
   "id": "fb3c5e37-f6f1-4892-adb8-2338446ee49f",
   "metadata": {},
   "source": [
    "# TOKENIZING\n",
    "### TOKENIZING A STRING AND GIVING AN INTEGER ID FOR EACH POSSIBLE TOKEN, FOR INSTANCES BY USING-WHITE SPACES AND PUNCTUATION AS TOKEN SEPARATORS"
   ]
  },
  {
   "cell_type": "markdown",
   "id": "9e5aad7b-d498-4113-9bf0-6c8ac51048f9",
   "metadata": {},
   "source": [
    "# COUNTING\n",
    "### COUNTING THE OCCURRENCES OF TOKENS IN EACH DOCUMENT"
   ]
  },
  {
   "cell_type": "markdown",
   "id": "6ffd49fd-d88a-4420-b4fc-25dfd3e68289",
   "metadata": {},
   "source": [
    "# NORMALIZING\n",
    "### NORMALIZING AND WEIGHTING WITH DIMENSIONING IMPORTANCE TOKENS THAT OCCUR IN THE MAJORITY OF SAMPLES/DOCUMENTS"
   ]
  },
  {
   "cell_type": "markdown",
   "id": "a85faece-fd30-43e8-b89f-00ae9e1a1562",
   "metadata": {},
   "source": [
    "# BAG OF WORDS\n",
    "### WE CALL VECTORIZATION THE GENERAL PROCESS OF TURNING A COLLECTION OF TEXT DOCUMENTS INTO NUMERICAL FEATURE VECTORS\n",
    "\n",
    "### THIS SPECIFY STRATEGY(TOKENIZING, COUNTING AND NORMALIZING) IS CALLED THE BAG OF WORDS OR \"BAG OF n-grams\" REPRESENTATION. N IS NUMBER OF WORDS. 1-GRAM MEANS WE TAKE ONE WORD, 2-GRAM MEANS WE TAKE TWO WORDS"
   ]
  },
  {
   "cell_type": "code",
   "execution_count": 4,
   "id": "b006e207-ca7e-46e6-a0b6-040f8027cea0",
   "metadata": {},
   "outputs": [],
   "source": [
    "cv = CountVectorizer()\n",
    "X = cv.fit_transform(corpus)"
   ]
  },
  {
   "cell_type": "code",
   "execution_count": 5,
   "id": "d7656286-d676-4582-81ee-076328bec94a",
   "metadata": {},
   "outputs": [
    {
     "name": "stdout",
     "output_type": "stream",
     "text": [
      "['and', 'document', 'first', 'is', 'one', 'second', 'the', 'third', 'this']\n"
     ]
    },
    {
     "name": "stderr",
     "output_type": "stream",
     "text": [
      "C:\\Users\\nagal\\anaconda3\\lib\\site-packages\\sklearn\\utils\\deprecation.py:87: FutureWarning: Function get_feature_names is deprecated; get_feature_names is deprecated in 1.0 and will be removed in 1.2. Please use get_feature_names_out instead.\n",
      "  warnings.warn(msg, category=FutureWarning)\n"
     ]
    }
   ],
   "source": [
    "print(cv.get_feature_names())"
   ]
  },
  {
   "cell_type": "code",
   "execution_count": 6,
   "id": "8146328c-a2f4-494a-81f4-10e2569bfde7",
   "metadata": {},
   "outputs": [
    {
     "data": {
      "text/plain": [
       "(4, 9)"
      ]
     },
     "execution_count": 6,
     "metadata": {},
     "output_type": "execute_result"
    }
   ],
   "source": [
    "X.shape"
   ]
  },
  {
   "cell_type": "code",
   "execution_count": 7,
   "id": "d7d3fe11-f4a6-4328-a73c-2240c897ad6d",
   "metadata": {},
   "outputs": [
    {
     "data": {
      "text/plain": [
       "scipy.sparse.csr.csr_matrix"
      ]
     },
     "execution_count": 7,
     "metadata": {},
     "output_type": "execute_result"
    }
   ],
   "source": [
    "type(X)"
   ]
  },
  {
   "cell_type": "code",
   "execution_count": 8,
   "id": "8f4a6429-7de5-49bb-b44e-2b8307d31a9d",
   "metadata": {},
   "outputs": [
    {
     "data": {
      "text/plain": [
       "<4x9 sparse matrix of type '<class 'numpy.int64'>'\n",
       "\twith 21 stored elements in Compressed Sparse Row format>"
      ]
     },
     "execution_count": 8,
     "metadata": {},
     "output_type": "execute_result"
    }
   ],
   "source": [
    "X"
   ]
  },
  {
   "cell_type": "code",
   "execution_count": 10,
   "id": "8f035843-e770-4907-bea7-055c9ca7fa68",
   "metadata": {},
   "outputs": [
    {
     "name": "stdout",
     "output_type": "stream",
     "text": [
      "[[0 1 1 1 0 0 1 0 1]\n",
      " [0 2 0 1 0 1 1 0 1]\n",
      " [1 0 0 1 1 0 1 1 1]\n",
      " [0 1 1 1 0 0 1 0 1]]\n"
     ]
    }
   ],
   "source": [
    "print(X.toarray())  # CONVERT SPARSE MATRIX TO DENSE MATRIX (NDARRAY)"
   ]
  },
  {
   "cell_type": "markdown",
   "id": "378e3799-8535-4c71-a605-c24978129d3c",
   "metadata": {},
   "source": [
    "# TFIDF TRANSFORMER\n",
    "\n",
    "### TRANSFORM A COUNT MATRIX TO A NORMALIZED TF (OR) TF-IDF REPRESENTATION\n",
    "\n",
    "### TF MEANS TERM FREQUENCY, WHILE TF-IDF MEANS TERM FREQUENCY TIMES INVERSE DOCUMENT FREQUENCY"
   ]
  },
  {
   "cell_type": "code",
   "execution_count": 11,
   "id": "9090f2a8-6922-4b0a-8eb8-c6fcbc4eab61",
   "metadata": {},
   "outputs": [
    {
     "data": {
      "text/plain": [
       "(4, 9)"
      ]
     },
     "execution_count": 11,
     "metadata": {},
     "output_type": "execute_result"
    }
   ],
   "source": [
    "tf = TfidfTransformer()\n",
    "XT = tf.fit_transform(X)\n",
    "XT.shape"
   ]
  },
  {
   "cell_type": "code",
   "execution_count": 12,
   "id": "faee5a1c-f89d-44f5-9207-dfc790840bbf",
   "metadata": {},
   "outputs": [
    {
     "data": {
      "text/plain": [
       "array([[0.        , 0.46979139, 0.58028582, 0.38408524, 0.        ,\n",
       "        0.        , 0.38408524, 0.        , 0.38408524],\n",
       "       [0.        , 0.6876236 , 0.        , 0.28108867, 0.        ,\n",
       "        0.53864762, 0.28108867, 0.        , 0.28108867],\n",
       "       [0.51184851, 0.        , 0.        , 0.26710379, 0.51184851,\n",
       "        0.        , 0.26710379, 0.51184851, 0.26710379],\n",
       "       [0.        , 0.46979139, 0.58028582, 0.38408524, 0.        ,\n",
       "        0.        , 0.38408524, 0.        , 0.38408524]])"
      ]
     },
     "execution_count": 12,
     "metadata": {},
     "output_type": "execute_result"
    }
   ],
   "source": [
    "XT.toarray()"
   ]
  },
  {
   "cell_type": "markdown",
   "id": "7bef8f65-6dc6-4d9a-8f68-3187f5d22256",
   "metadata": {},
   "source": [
    "# TfidfVectorizer\n",
    "### CONVERT A COLLECTION OF RAW DOCUMENTS TO A MATRIX OF TF-IDF FEATURES"
   ]
  },
  {
   "cell_type": "code",
   "execution_count": 13,
   "id": "b9d8121b-ff6b-4915-9518-8a4018609fb9",
   "metadata": {},
   "outputs": [],
   "source": [
    "vectorizer = TfidfVectorizer()\n",
    "X = vectorizer.fit_transform(corpus)"
   ]
  },
  {
   "cell_type": "code",
   "execution_count": 14,
   "id": "3f739809-550d-4eab-bf4b-d4b0174dacb5",
   "metadata": {},
   "outputs": [
    {
     "name": "stdout",
     "output_type": "stream",
     "text": [
      "['and', 'document', 'first', 'is', 'one', 'second', 'the', 'third', 'this']\n"
     ]
    }
   ],
   "source": [
    "print(vectorizer.get_feature_names())"
   ]
  },
  {
   "cell_type": "code",
   "execution_count": 15,
   "id": "9959ba31-6497-4e74-b68a-0eec524c4fa6",
   "metadata": {},
   "outputs": [
    {
     "name": "stdout",
     "output_type": "stream",
     "text": [
      "(4, 9)\n"
     ]
    }
   ],
   "source": [
    "print(X.shape)"
   ]
  },
  {
   "cell_type": "code",
   "execution_count": 16,
   "id": "26e29614-8caf-488c-ac41-1c146b89ca57",
   "metadata": {},
   "outputs": [
    {
     "data": {
      "text/plain": [
       "array([[0.        , 0.46979139, 0.58028582, 0.38408524, 0.        ,\n",
       "        0.        , 0.38408524, 0.        , 0.38408524],\n",
       "       [0.        , 0.6876236 , 0.        , 0.28108867, 0.        ,\n",
       "        0.53864762, 0.28108867, 0.        , 0.28108867],\n",
       "       [0.51184851, 0.        , 0.        , 0.26710379, 0.51184851,\n",
       "        0.        , 0.26710379, 0.51184851, 0.26710379],\n",
       "       [0.        , 0.46979139, 0.58028582, 0.38408524, 0.        ,\n",
       "        0.        , 0.38408524, 0.        , 0.38408524]])"
      ]
     },
     "execution_count": 16,
     "metadata": {},
     "output_type": "execute_result"
    }
   ],
   "source": [
    "X.toarray()"
   ]
  },
  {
   "cell_type": "code",
   "execution_count": 21,
   "id": "6ad4125e-51c3-4e74-b359-d9974c219d9d",
   "metadata": {},
   "outputs": [],
   "source": [
    "vectorizer = TfidfVectorizer(ngram_range = (1, 3))\n",
    "X = vectorizer.fit_transform(corpus)"
   ]
  },
  {
   "cell_type": "code",
   "execution_count": 22,
   "id": "a88c6a18-32d7-4a87-afde-2dde83e590ae",
   "metadata": {},
   "outputs": [
    {
     "data": {
      "text/plain": [
       "(4, 34)"
      ]
     },
     "execution_count": 22,
     "metadata": {},
     "output_type": "execute_result"
    }
   ],
   "source": [
    "X.shape"
   ]
  },
  {
   "cell_type": "code",
   "execution_count": 23,
   "id": "c2c13ad0-bfaf-4aa0-9a88-f1e83dd6c3fa",
   "metadata": {},
   "outputs": [
    {
     "name": "stdout",
     "output_type": "stream",
     "text": [
      "['and', 'and this', 'and this is', 'document', 'document is', 'document is the', 'first', 'first document', 'is', 'is the', 'is the first', 'is the second', 'is the third', 'is this', 'is this the', 'one', 'second', 'second document', 'the', 'the first', 'the first document', 'the second', 'the second document', 'the third', 'the third one', 'third', 'third one', 'this', 'this document', 'this document is', 'this is', 'this is the', 'this the', 'this the first']\n"
     ]
    }
   ],
   "source": [
    "print(vectorizer.get_feature_names())"
   ]
  },
  {
   "cell_type": "code",
   "execution_count": 24,
   "id": "612422cc-8422-4fdd-965a-63d60c48a250",
   "metadata": {},
   "outputs": [
    {
     "data": {
      "text/plain": [
       "array([[0.        , 0.        , 0.        , 0.25307077, 0.        ,\n",
       "        0.        , 0.31259275, 0.31259275, 0.20690194, 0.25307077,\n",
       "        0.39648427, 0.        , 0.        , 0.        , 0.        ,\n",
       "        0.        , 0.        , 0.        , 0.20690194, 0.31259275,\n",
       "        0.31259275, 0.        , 0.        , 0.        , 0.        ,\n",
       "        0.        , 0.        , 0.20690194, 0.        , 0.        ,\n",
       "        0.31259275, 0.31259275, 0.        , 0.        ],\n",
       "       [0.        , 0.        , 0.        , 0.37077755, 0.29044734,\n",
       "        0.29044734, 0.        , 0.        , 0.15156747, 0.18538877,\n",
       "        0.        , 0.29044734, 0.        , 0.        , 0.        ,\n",
       "        0.        , 0.29044734, 0.29044734, 0.15156747, 0.        ,\n",
       "        0.        , 0.29044734, 0.29044734, 0.        , 0.        ,\n",
       "        0.        , 0.        , 0.15156747, 0.29044734, 0.29044734,\n",
       "        0.        , 0.        , 0.        , 0.        ],\n",
       "       [0.29530082, 0.29530082, 0.29530082, 0.        , 0.        ,\n",
       "        0.        , 0.        , 0.        , 0.15410022, 0.18848669,\n",
       "        0.        , 0.        , 0.29530082, 0.        , 0.        ,\n",
       "        0.29530082, 0.        , 0.        , 0.15410022, 0.        ,\n",
       "        0.        , 0.        , 0.        , 0.29530082, 0.29530082,\n",
       "        0.29530082, 0.29530082, 0.15410022, 0.        , 0.        ,\n",
       "        0.23281856, 0.23281856, 0.        , 0.        ],\n",
       "       [0.        , 0.        , 0.        , 0.22986248, 0.        ,\n",
       "        0.        , 0.2839259 , 0.2839259 , 0.18792764, 0.        ,\n",
       "        0.        , 0.        , 0.        , 0.360124  , 0.360124  ,\n",
       "        0.        , 0.        , 0.        , 0.18792764, 0.2839259 ,\n",
       "        0.2839259 , 0.        , 0.        , 0.        , 0.        ,\n",
       "        0.        , 0.        , 0.18792764, 0.        , 0.        ,\n",
       "        0.        , 0.        , 0.360124  , 0.360124  ]])"
      ]
     },
     "execution_count": 24,
     "metadata": {},
     "output_type": "execute_result"
    }
   ],
   "source": [
    "X.toarray()"
   ]
  },
  {
   "cell_type": "code",
   "execution_count": null,
   "id": "57f05f19-4e97-4eba-8d97-20d86ead8054",
   "metadata": {},
   "outputs": [],
   "source": []
  }
 ],
 "metadata": {
  "kernelspec": {
   "display_name": "Python 3 (ipykernel)",
   "language": "python",
   "name": "python3"
  },
  "language_info": {
   "codemirror_mode": {
    "name": "ipython",
    "version": 3
   },
   "file_extension": ".py",
   "mimetype": "text/x-python",
   "name": "python",
   "nbconvert_exporter": "python",
   "pygments_lexer": "ipython3",
   "version": "3.9.12"
  }
 },
 "nbformat": 4,
 "nbformat_minor": 5
}
