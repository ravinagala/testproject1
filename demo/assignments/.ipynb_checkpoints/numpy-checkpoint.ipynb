{
 "cells": [
  {
   "cell_type": "markdown",
   "id": "d8cd1392-1ae3-4d30-ae22-edf92d7c9b30",
   "metadata": {},
   "source": [
    "# Numpy(Numerical Python)"
   ]
  },
  {
   "cell_type": "code",
   "execution_count": 1,
   "id": "e809f8b9-898d-4a84-85d6-e33c56918a18",
   "metadata": {},
   "outputs": [],
   "source": [
    "import statistics as s\n",
    "import scipy.stats as ss\n",
    "import numpy as np\n",
    "import pandas as pd"
   ]
  },
  {
   "cell_type": "code",
   "execution_count": 2,
   "id": "c6a46669-606c-4b31-9534-2677400708fd",
   "metadata": {},
   "outputs": [
    {
     "data": {
      "text/plain": [
       "'1.21.5'"
      ]
     },
     "execution_count": 2,
     "metadata": {},
     "output_type": "execute_result"
    }
   ],
   "source": [
    "np.__version__"
   ]
  },
  {
   "cell_type": "markdown",
   "id": "b34fd1ab-58ae-4967-9a08-7a1aa9e7de8e",
   "metadata": {},
   "source": [
    "# Creating array"
   ]
  },
  {
   "cell_type": "code",
   "execution_count": 3,
   "id": "4b8874f8-4edc-41ae-8892-7c337e4fa83f",
   "metadata": {},
   "outputs": [
    {
     "data": {
      "text/plain": [
       "array([1, 2, 3, 4])"
      ]
     },
     "execution_count": 3,
     "metadata": {},
     "output_type": "execute_result"
    }
   ],
   "source": [
    "a = np.array([1,2,3,4])\n",
    "a"
   ]
  },
  {
   "cell_type": "code",
   "execution_count": 4,
   "id": "181fc9ec-d19d-4c56-8396-44f6aab5d63d",
   "metadata": {},
   "outputs": [
    {
     "data": {
      "text/plain": [
       "dtype('int32')"
      ]
     },
     "execution_count": 4,
     "metadata": {},
     "output_type": "execute_result"
    }
   ],
   "source": [
    "a.dtype"
   ]
  },
  {
   "cell_type": "code",
   "execution_count": 5,
   "id": "89113974-29db-4582-928c-a4354b7a13b0",
   "metadata": {},
   "outputs": [
    {
     "data": {
      "text/plain": [
       "1"
      ]
     },
     "execution_count": 5,
     "metadata": {},
     "output_type": "execute_result"
    }
   ],
   "source": [
    "a.ndim"
   ]
  },
  {
   "cell_type": "code",
   "execution_count": 6,
   "id": "80b757af-e8e2-4ad6-af80-5dccc5e4aca4",
   "metadata": {},
   "outputs": [
    {
     "data": {
      "text/plain": [
       "(4,)"
      ]
     },
     "execution_count": 6,
     "metadata": {},
     "output_type": "execute_result"
    }
   ],
   "source": [
    "a.shape"
   ]
  },
  {
   "cell_type": "code",
   "execution_count": 7,
   "id": "38d92c5f-a814-48f3-9209-70347b3967d7",
   "metadata": {},
   "outputs": [
    {
     "data": {
      "text/plain": [
       "<memory at 0x00000287957BE4C0>"
      ]
     },
     "execution_count": 7,
     "metadata": {},
     "output_type": "execute_result"
    }
   ],
   "source": [
    "a.data"
   ]
  },
  {
   "cell_type": "code",
   "execution_count": 8,
   "id": "707d3549-b2db-4b5d-a4d6-b71c2f806e20",
   "metadata": {},
   "outputs": [
    {
     "data": {
      "text/plain": [
       "array(['C', 'Java', 'DS-ML'], dtype='<U5')"
      ]
     },
     "execution_count": 8,
     "metadata": {},
     "output_type": "execute_result"
    }
   ],
   "source": [
    "langs = np.array((\"C\", \"Java\", \"DS-ML\"))\n",
    "langs"
   ]
  },
  {
   "cell_type": "markdown",
   "id": "826bc3ea-1195-4cad-8d41-2c5606451cef",
   "metadata": {},
   "source": [
    "# Python list with *"
   ]
  },
  {
   "cell_type": "code",
   "execution_count": 9,
   "id": "378ac644-fe24-4b8e-8048-6c714b268d19",
   "metadata": {},
   "outputs": [
    {
     "data": {
      "text/plain": [
       "[1, 4, 6, 8, 9]"
      ]
     },
     "execution_count": 9,
     "metadata": {},
     "output_type": "execute_result"
    }
   ],
   "source": [
    "pa = [1,4,6,8,9]\n",
    "pa"
   ]
  },
  {
   "cell_type": "code",
   "execution_count": 10,
   "id": "7406ae2d-d39e-4809-bddf-f7e32a680d62",
   "metadata": {},
   "outputs": [
    {
     "data": {
      "text/plain": [
       "[1, 4, 6, 8, 9, 1, 4, 6, 8, 9, 1, 4, 6, 8, 9]"
      ]
     },
     "execution_count": 10,
     "metadata": {},
     "output_type": "execute_result"
    }
   ],
   "source": [
    "pa * 3"
   ]
  },
  {
   "cell_type": "markdown",
   "id": "36bd2106-c5d7-4235-97f8-deb6f693fbab",
   "metadata": {},
   "source": [
    "# arange()"
   ]
  },
  {
   "cell_type": "code",
   "execution_count": 11,
   "id": "b8cb4380-0be6-4290-90ce-421c023e9d51",
   "metadata": {},
   "outputs": [
    {
     "data": {
      "text/plain": [
       "array([ 1,  2,  3,  4,  5,  6,  7,  8,  9, 10])"
      ]
     },
     "execution_count": 11,
     "metadata": {},
     "output_type": "execute_result"
    }
   ],
   "source": [
    "a = np.arange(1, 11)\n",
    "a"
   ]
  },
  {
   "cell_type": "code",
   "execution_count": 12,
   "id": "3165dd45-00d4-475e-bdb3-d6d29a924c2e",
   "metadata": {},
   "outputs": [
    {
     "data": {
      "text/plain": [
       "array([ 1,  3,  5,  7,  9, 11, 13, 15, 17, 19])"
      ]
     },
     "execution_count": 12,
     "metadata": {},
     "output_type": "execute_result"
    }
   ],
   "source": [
    "a = np.arange(1, 20, 2, dtype = \"int\")\n",
    "a"
   ]
  },
  {
   "cell_type": "markdown",
   "id": "489b52e1-0ec6-4614-9f7a-727d194e35c1",
   "metadata": {},
   "source": [
    "# Other functions to create an array"
   ]
  },
  {
   "cell_type": "code",
   "execution_count": 13,
   "id": "fdea90a4-fc9d-435d-8ab9-8795fd23c8de",
   "metadata": {},
   "outputs": [
    {
     "data": {
      "text/plain": [
       "array([5, 5, 5, 5, 5, 5, 5, 5, 5, 5])"
      ]
     },
     "execution_count": 13,
     "metadata": {},
     "output_type": "execute_result"
    }
   ],
   "source": [
    "a = np.full(10,5)\n",
    "a"
   ]
  },
  {
   "cell_type": "code",
   "execution_count": 14,
   "id": "15de1ad9-6b31-495d-9905-99dee3a096dd",
   "metadata": {},
   "outputs": [],
   "source": [
    "a = np.full((5,5),3)"
   ]
  },
  {
   "cell_type": "code",
   "execution_count": 15,
   "id": "b01621ee-d56d-4091-befe-a26e2f3b1ea6",
   "metadata": {},
   "outputs": [
    {
     "data": {
      "text/plain": [
       "array([[3, 3, 3, 3, 3],\n",
       "       [3, 3, 3, 3, 3],\n",
       "       [3, 3, 3, 3, 3],\n",
       "       [3, 3, 3, 3, 3],\n",
       "       [3, 3, 3, 3, 3]])"
      ]
     },
     "execution_count": 15,
     "metadata": {},
     "output_type": "execute_result"
    }
   ],
   "source": [
    "a"
   ]
  },
  {
   "cell_type": "code",
   "execution_count": 16,
   "id": "e296b69f-0f17-4c8a-b0c4-eaf1ed3bc0ba",
   "metadata": {},
   "outputs": [
    {
     "data": {
      "text/plain": [
       "array([[[3, 3, 3, 3, 3],\n",
       "        [3, 3, 3, 3, 3],\n",
       "        [3, 3, 3, 3, 3],\n",
       "        [3, 3, 3, 3, 3],\n",
       "        [3, 3, 3, 3, 3]],\n",
       "\n",
       "       [[3, 3, 3, 3, 3],\n",
       "        [3, 3, 3, 3, 3],\n",
       "        [3, 3, 3, 3, 3],\n",
       "        [3, 3, 3, 3, 3],\n",
       "        [3, 3, 3, 3, 3]],\n",
       "\n",
       "       [[3, 3, 3, 3, 3],\n",
       "        [3, 3, 3, 3, 3],\n",
       "        [3, 3, 3, 3, 3],\n",
       "        [3, 3, 3, 3, 3],\n",
       "        [3, 3, 3, 3, 3]],\n",
       "\n",
       "       [[3, 3, 3, 3, 3],\n",
       "        [3, 3, 3, 3, 3],\n",
       "        [3, 3, 3, 3, 3],\n",
       "        [3, 3, 3, 3, 3],\n",
       "        [3, 3, 3, 3, 3]],\n",
       "\n",
       "       [[3, 3, 3, 3, 3],\n",
       "        [3, 3, 3, 3, 3],\n",
       "        [3, 3, 3, 3, 3],\n",
       "        [3, 3, 3, 3, 3],\n",
       "        [3, 3, 3, 3, 3]]])"
      ]
     },
     "execution_count": 16,
     "metadata": {},
     "output_type": "execute_result"
    }
   ],
   "source": [
    "a = np.full((5,5,5),3)\n",
    "a"
   ]
  },
  {
   "cell_type": "code",
   "execution_count": 17,
   "id": "80472761-8569-46f7-88f2-03e6a3bd9e3b",
   "metadata": {},
   "outputs": [],
   "source": [
    "a = np.ones(10)"
   ]
  },
  {
   "cell_type": "code",
   "execution_count": 18,
   "id": "39152b95-7e50-4c31-ab30-3aeab9c5745a",
   "metadata": {},
   "outputs": [
    {
     "data": {
      "text/plain": [
       "array([1., 1., 1., 1., 1., 1., 1., 1., 1., 1.])"
      ]
     },
     "execution_count": 18,
     "metadata": {},
     "output_type": "execute_result"
    }
   ],
   "source": [
    "a"
   ]
  },
  {
   "cell_type": "code",
   "execution_count": 19,
   "id": "b4fb02a8-d27f-4386-b95c-6c455fe8dc83",
   "metadata": {},
   "outputs": [],
   "source": [
    "a = np.zeros(10)"
   ]
  },
  {
   "cell_type": "code",
   "execution_count": 20,
   "id": "30e34480-decb-4370-a23a-e24b0cd91f3e",
   "metadata": {},
   "outputs": [
    {
     "data": {
      "text/plain": [
       "array([0., 0., 0., 0., 0., 0., 0., 0., 0., 0.])"
      ]
     },
     "execution_count": 20,
     "metadata": {},
     "output_type": "execute_result"
    }
   ],
   "source": [
    "a"
   ]
  },
  {
   "cell_type": "code",
   "execution_count": 21,
   "id": "b9fac4e0-a5fb-47b4-830a-a938aa05b90c",
   "metadata": {},
   "outputs": [],
   "source": [
    "a = np.eye(3)"
   ]
  },
  {
   "cell_type": "code",
   "execution_count": 22,
   "id": "7832df51-86b9-412a-9485-0f29ea4e7539",
   "metadata": {},
   "outputs": [
    {
     "data": {
      "text/plain": [
       "array([[1., 0., 0.],\n",
       "       [0., 1., 0.],\n",
       "       [0., 0., 1.]])"
      ]
     },
     "execution_count": 22,
     "metadata": {},
     "output_type": "execute_result"
    }
   ],
   "source": [
    "a"
   ]
  },
  {
   "cell_type": "code",
   "execution_count": 23,
   "id": "cd3fff22-e454-42e8-98f0-ae3174f083ff",
   "metadata": {},
   "outputs": [
    {
     "data": {
      "text/plain": [
       "array([0, 1])"
      ]
     },
     "execution_count": 23,
     "metadata": {},
     "output_type": "execute_result"
    }
   ],
   "source": [
    "a = np.array([0, 1])\n",
    "a"
   ]
  },
  {
   "cell_type": "code",
   "execution_count": 24,
   "id": "7a7a8611-2dda-4484-ad94-cbfbf83815cb",
   "metadata": {},
   "outputs": [
    {
     "data": {
      "text/plain": [
       "array([86, 53, 58,  5, 19, 80, 93, 78, 98, 58])"
      ]
     },
     "execution_count": 24,
     "metadata": {},
     "output_type": "execute_result"
    }
   ],
   "source": [
    "a = np.random.randint(1,100,10)\n",
    "a"
   ]
  },
  {
   "cell_type": "code",
   "execution_count": 25,
   "id": "ed2f23b6-8412-46ce-bf13-58e6b599bcbd",
   "metadata": {},
   "outputs": [
    {
     "data": {
      "text/plain": [
       "array([ 1.,  2.,  3.,  4.,  5.,  6.,  7.,  8.,  9., 10.])"
      ]
     },
     "execution_count": 25,
     "metadata": {},
     "output_type": "execute_result"
    }
   ],
   "source": [
    "a = np.linspace(1,10,10)\n",
    "a"
   ]
  },
  {
   "cell_type": "code",
   "execution_count": 26,
   "id": "b409b2e3-a39c-4c4e-a000-1e27ec59e2e8",
   "metadata": {},
   "outputs": [
    {
     "data": {
      "text/plain": [
       "(array([ 1.  ,  3.25,  5.5 ,  7.75, 10.  ]), 2.25)"
      ]
     },
     "execution_count": 26,
     "metadata": {},
     "output_type": "execute_result"
    }
   ],
   "source": [
    "a,step = np.linspace(1,10,5,retstep = True)\n",
    "a,step"
   ]
  },
  {
   "cell_type": "code",
   "execution_count": 27,
   "id": "8f9a5042-ac18-401d-97ae-19dfbe439030",
   "metadata": {},
   "outputs": [
    {
     "data": {
      "text/plain": [
       "array([[8, 9, 1, 6],\n",
       "       [3, 1, 1, 9],\n",
       "       [9, 4, 7, 4]])"
      ]
     },
     "execution_count": 27,
     "metadata": {},
     "output_type": "execute_result"
    }
   ],
   "source": [
    "a = np.random.randint(1,11,(3,4))\n",
    "a"
   ]
  },
  {
   "cell_type": "markdown",
   "id": "b7fd55db-d708-49f2-acd7-152053b9ef4a",
   "metadata": {},
   "source": [
    "# Indexing and Slicing in numpy"
   ]
  },
  {
   "cell_type": "code",
   "execution_count": 28,
   "id": "f2274c10-4971-4940-9fed-9b7ebf80b3d6",
   "metadata": {},
   "outputs": [
    {
     "data": {
      "text/plain": [
       "20"
      ]
     },
     "execution_count": 28,
     "metadata": {},
     "output_type": "execute_result"
    }
   ],
   "source": [
    "l = [[1,2,3],[10,20,30]]\n",
    "l[1][1]"
   ]
  },
  {
   "cell_type": "code",
   "execution_count": 29,
   "id": "017ed34e-fa95-4b20-869b-cd60880fab55",
   "metadata": {},
   "outputs": [
    {
     "data": {
      "text/plain": [
       "array([[ 1,  2,  3,  4,  5,  6],\n",
       "       [ 7,  8,  9, 10, 11, 12],\n",
       "       [13, 14, 15, 16, 17, 18],\n",
       "       [19, 20, 21, 22, 23, 24],\n",
       "       [25, 26, 27, 28, 29, 30],\n",
       "       [31, 32, 33, 34, 35, 36]])"
      ]
     },
     "execution_count": 29,
     "metadata": {},
     "output_type": "execute_result"
    }
   ],
   "source": [
    "a = np.arange(1,37).reshape(6,6)\n",
    "a"
   ]
  },
  {
   "cell_type": "code",
   "execution_count": 30,
   "id": "195784bb-77c5-40b5-99f1-24ca87548461",
   "metadata": {},
   "outputs": [
    {
     "data": {
      "text/plain": [
       "(1, 26)"
      ]
     },
     "execution_count": 30,
     "metadata": {},
     "output_type": "execute_result"
    }
   ],
   "source": [
    "a[0,0],a[4,1]"
   ]
  },
  {
   "cell_type": "code",
   "execution_count": 31,
   "id": "8ef886b0-05ba-4e4c-9bb1-95f733dbdb38",
   "metadata": {},
   "outputs": [
    {
     "data": {
      "text/plain": [
       "array([25, 26, 27, 28, 29, 30])"
      ]
     },
     "execution_count": 31,
     "metadata": {},
     "output_type": "execute_result"
    }
   ],
   "source": [
    "a[4]  # Single row"
   ]
  },
  {
   "cell_type": "code",
   "execution_count": 32,
   "id": "819a4e17-1291-4e15-922c-d3739119e86d",
   "metadata": {},
   "outputs": [
    {
     "data": {
      "text/plain": [
       "31"
      ]
     },
     "execution_count": 32,
     "metadata": {},
     "output_type": "execute_result"
    }
   ],
   "source": [
    "a[-1,0]"
   ]
  },
  {
   "cell_type": "code",
   "execution_count": 33,
   "id": "96d5eb2e-67b2-408a-a345-e6a175fa9c97",
   "metadata": {},
   "outputs": [
    {
     "data": {
      "text/plain": [
       "array([13, 14, 15, 16, 17, 18])"
      ]
     },
     "execution_count": 33,
     "metadata": {},
     "output_type": "execute_result"
    }
   ],
   "source": [
    "a[-4]"
   ]
  },
  {
   "cell_type": "markdown",
   "id": "a2c63d8a-8995-47f2-ae32-e96d705a3d79",
   "metadata": {},
   "source": [
    "# Slicing"
   ]
  },
  {
   "cell_type": "code",
   "execution_count": 34,
   "id": "59a71d90-73dc-4883-b3ad-f654680b4fec",
   "metadata": {},
   "outputs": [
    {
     "data": {
      "text/plain": [
       "array([[ 1,  2,  3,  4,  5,  6],\n",
       "       [ 7,  8,  9, 10, 11, 12],\n",
       "       [13, 14, 15, 16, 17, 18],\n",
       "       [19, 20, 21, 22, 23, 24],\n",
       "       [25, 26, 27, 28, 29, 30],\n",
       "       [31, 32, 33, 34, 35, 36]])"
      ]
     },
     "execution_count": 34,
     "metadata": {},
     "output_type": "execute_result"
    }
   ],
   "source": [
    "a"
   ]
  },
  {
   "cell_type": "code",
   "execution_count": 35,
   "id": "c21ca726-de90-4a5f-92db-15b8d338df03",
   "metadata": {},
   "outputs": [
    {
     "data": {
      "text/plain": [
       "array([[ 1,  2,  3,  4,  5],\n",
       "       [ 6,  7,  8,  9, 10],\n",
       "       [11, 12, 13, 14, 15],\n",
       "       [16, 17, 18, 19, 20],\n",
       "       [21, 22, 23, 24, 25]])"
      ]
     },
     "execution_count": 35,
     "metadata": {},
     "output_type": "execute_result"
    }
   ],
   "source": [
    "a = np.arange(1,26).reshape(5,5)\n",
    "a"
   ]
  },
  {
   "cell_type": "code",
   "execution_count": 36,
   "id": "ce8c2b42-dd8b-426d-993e-63c820dd27b5",
   "metadata": {},
   "outputs": [
    {
     "data": {
      "text/plain": [
       "array([[ 8,  9],\n",
       "       [13, 14]])"
      ]
     },
     "execution_count": 36,
     "metadata": {},
     "output_type": "execute_result"
    }
   ],
   "source": [
    "a[1:3,2:4]"
   ]
  },
  {
   "cell_type": "code",
   "execution_count": 37,
   "id": "162ffd08-fa4f-4dd0-8c6c-9a8237e42846",
   "metadata": {},
   "outputs": [
    {
     "data": {
      "text/plain": [
       "(array([[ 6,  7,  8,  9, 10],\n",
       "        [11, 12, 13, 14, 15]]),\n",
       " array([[11, 12, 13, 14, 15],\n",
       "        [16, 17, 18, 19, 20]]))"
      ]
     },
     "execution_count": 37,
     "metadata": {},
     "output_type": "execute_result"
    }
   ],
   "source": [
    "a[1:3], a[2:4]"
   ]
  },
  {
   "cell_type": "code",
   "execution_count": 38,
   "id": "8935b89d-2e91-4791-933e-0a9cc9ebe8d5",
   "metadata": {},
   "outputs": [
    {
     "data": {
      "text/plain": [
       "array([ 3,  8, 13, 18, 23])"
      ]
     },
     "execution_count": 38,
     "metadata": {},
     "output_type": "execute_result"
    }
   ],
   "source": [
    "a[:,2]"
   ]
  },
  {
   "cell_type": "code",
   "execution_count": 39,
   "id": "db11d1ab-855c-4b2a-b682-e96c0255e873",
   "metadata": {},
   "outputs": [
    {
     "data": {
      "text/plain": [
       "array([24, 25])"
      ]
     },
     "execution_count": 39,
     "metadata": {},
     "output_type": "execute_result"
    }
   ],
   "source": [
    "a[4,3:]"
   ]
  },
  {
   "cell_type": "code",
   "execution_count": 40,
   "id": "e814dc3d-5f52-4194-b1fb-22ed61051892",
   "metadata": {},
   "outputs": [],
   "source": [
    "b = a[:,-1]"
   ]
  },
  {
   "cell_type": "code",
   "execution_count": 41,
   "id": "2261463f-9bdd-4ebb-bfe3-2b33743df792",
   "metadata": {},
   "outputs": [
    {
     "data": {
      "text/plain": [
       "array([ 5, 10, 15, 20, 25])"
      ]
     },
     "execution_count": 41,
     "metadata": {},
     "output_type": "execute_result"
    }
   ],
   "source": [
    "b"
   ]
  },
  {
   "cell_type": "code",
   "execution_count": 42,
   "id": "f7135230-50f8-4e82-8dd2-6c0a23f35f68",
   "metadata": {},
   "outputs": [
    {
     "data": {
      "text/plain": [
       "array([[19, 20],\n",
       "       [24, 25]])"
      ]
     },
     "execution_count": 42,
     "metadata": {},
     "output_type": "execute_result"
    }
   ],
   "source": [
    "a[-2:,-2:]"
   ]
  },
  {
   "cell_type": "code",
   "execution_count": 43,
   "id": "f6d028ee-79fd-4722-9f20-cfd1e2f211d0",
   "metadata": {},
   "outputs": [
    {
     "data": {
      "text/plain": [
       "array([[ 1,  2,  3,  4,  5],\n",
       "       [11, 12, 13, 14, 15],\n",
       "       [21, 22, 23, 24, 25]])"
      ]
     },
     "execution_count": 43,
     "metadata": {},
     "output_type": "execute_result"
    }
   ],
   "source": [
    "a[::2]"
   ]
  },
  {
   "cell_type": "code",
   "execution_count": 44,
   "id": "1130eca1-8a35-412a-a40b-b5772bf7b9a0",
   "metadata": {},
   "outputs": [
    {
     "data": {
      "text/plain": [
       "array([[21, 22, 23, 24, 25],\n",
       "       [16, 17, 18, 19, 20],\n",
       "       [11, 12, 13, 14, 15],\n",
       "       [ 6,  7,  8,  9, 10],\n",
       "       [ 1,  2,  3,  4,  5]])"
      ]
     },
     "execution_count": 44,
     "metadata": {},
     "output_type": "execute_result"
    }
   ],
   "source": [
    "a[::-1]"
   ]
  },
  {
   "cell_type": "code",
   "execution_count": 45,
   "id": "e090c55c-7282-42d7-935e-225073a950b0",
   "metadata": {},
   "outputs": [
    {
     "data": {
      "text/plain": [
       "array([[25, 24, 23, 22, 21],\n",
       "       [20, 19, 18, 17, 16],\n",
       "       [15, 14, 13, 12, 11],\n",
       "       [10,  9,  8,  7,  6],\n",
       "       [ 5,  4,  3,  2,  1]])"
      ]
     },
     "execution_count": 45,
     "metadata": {},
     "output_type": "execute_result"
    }
   ],
   "source": [
    "a[::-1,::-1]"
   ]
  },
  {
   "cell_type": "code",
   "execution_count": 46,
   "id": "b4d8d2c6-fd17-4553-b659-e57189e33ddc",
   "metadata": {},
   "outputs": [
    {
     "data": {
      "text/plain": [
       "array([[ 5,  4,  3,  2,  1],\n",
       "       [10,  9,  8,  7,  6],\n",
       "       [15, 14, 13, 12, 11],\n",
       "       [20, 19, 18, 17, 16],\n",
       "       [25, 24, 23, 22, 21]])"
      ]
     },
     "execution_count": 46,
     "metadata": {},
     "output_type": "execute_result"
    }
   ],
   "source": [
    "a[:,::-1]"
   ]
  },
  {
   "cell_type": "code",
   "execution_count": 47,
   "id": "5f1912f7-2927-433c-87de-b59b1c5eed41",
   "metadata": {},
   "outputs": [
    {
     "data": {
      "text/plain": [
       "array([[ 4,  5],\n",
       "       [14, 15],\n",
       "       [24, 25]])"
      ]
     },
     "execution_count": 47,
     "metadata": {},
     "output_type": "execute_result"
    }
   ],
   "source": [
    "# Last two columns and alternate rows\n",
    "a[::2, -2:]"
   ]
  },
  {
   "cell_type": "code",
   "execution_count": 48,
   "id": "94ac20a0-2b60-422e-a437-ebfc76639aec",
   "metadata": {},
   "outputs": [
    {
     "data": {
      "text/plain": [
       "array([[ 1,  2,  3,  4,  5],\n",
       "       [ 6,  7,  8,  9, 10],\n",
       "       [11, 12, 13, 14, 15],\n",
       "       [16, 17, 18, 19, 20],\n",
       "       [21, 22, 23, 24, 25]])"
      ]
     },
     "execution_count": 48,
     "metadata": {},
     "output_type": "execute_result"
    }
   ],
   "source": [
    "a"
   ]
  },
  {
   "cell_type": "code",
   "execution_count": 49,
   "id": "3c7f500c-8240-43f7-b25d-54eddbbef828",
   "metadata": {},
   "outputs": [
    {
     "data": {
      "text/plain": [
       "array([[ 3,  4],\n",
       "       [13, 14],\n",
       "       [23, 24]])"
      ]
     },
     "execution_count": 49,
     "metadata": {},
     "output_type": "execute_result"
    }
   ],
   "source": [
    "a[::2,-3:-1]"
   ]
  },
  {
   "cell_type": "code",
   "execution_count": 50,
   "id": "a89f1299-e32f-4365-a256-5d676f812bf1",
   "metadata": {},
   "outputs": [
    {
     "data": {
      "text/plain": [
       "array([[ 5,  4],\n",
       "       [10,  9],\n",
       "       [15, 14],\n",
       "       [20, 19],\n",
       "       [25, 24]])"
      ]
     },
     "execution_count": 50,
     "metadata": {},
     "output_type": "execute_result"
    }
   ],
   "source": [
    "# Last two columns in reverse order\n",
    "a[:,:-3:-1]"
   ]
  },
  {
   "cell_type": "markdown",
   "id": "b58c45d1-f8b5-4708-8407-05f005c55e52",
   "metadata": {},
   "source": [
    "# Index by array"
   ]
  },
  {
   "cell_type": "code",
   "execution_count": 51,
   "id": "18e66838-40ec-4045-9719-af291dee9111",
   "metadata": {},
   "outputs": [
    {
     "data": {
      "text/plain": [
       "array([ 1,  2,  3,  4,  5,  6,  7,  8,  9, 10])"
      ]
     },
     "execution_count": 51,
     "metadata": {},
     "output_type": "execute_result"
    }
   ],
   "source": [
    "a = np.arange(1,11)\n",
    "a"
   ]
  },
  {
   "cell_type": "code",
   "execution_count": 52,
   "id": "849be441-db1a-4132-887d-327fd8fdfdf0",
   "metadata": {},
   "outputs": [
    {
     "data": {
      "text/plain": [
       "array([ 4,  7, 10])"
      ]
     },
     "execution_count": 52,
     "metadata": {},
     "output_type": "execute_result"
    }
   ],
   "source": [
    "a[[3,6,9]]"
   ]
  },
  {
   "cell_type": "code",
   "execution_count": 53,
   "id": "e449bca7-860d-4de7-b953-5e41dcf99aa7",
   "metadata": {},
   "outputs": [
    {
     "data": {
      "text/plain": [
       "array([10,  6,  1])"
      ]
     },
     "execution_count": 53,
     "metadata": {},
     "output_type": "execute_result"
    }
   ],
   "source": [
    "a[[-1,-5,0]]"
   ]
  },
  {
   "cell_type": "code",
   "execution_count": 54,
   "id": "acd618b1-6183-4561-945b-cc08ba1f3ca6",
   "metadata": {},
   "outputs": [
    {
     "data": {
      "text/plain": [
       "array([[ 1,  2,  3,  4,  5],\n",
       "       [ 6,  7,  8,  9, 10],\n",
       "       [11, 12, 13, 14, 15],\n",
       "       [16, 17, 18, 19, 20],\n",
       "       [21, 22, 23, 24, 25]])"
      ]
     },
     "execution_count": 54,
     "metadata": {},
     "output_type": "execute_result"
    }
   ],
   "source": [
    "a = np.arange(1,26).reshape(5,5)\n",
    "a"
   ]
  },
  {
   "cell_type": "code",
   "execution_count": 55,
   "id": "ac7ceb07-79f3-40e0-9c00-2c2b0ae19842",
   "metadata": {},
   "outputs": [
    {
     "data": {
      "text/plain": [
       "array([ 2, 14])"
      ]
     },
     "execution_count": 55,
     "metadata": {},
     "output_type": "execute_result"
    }
   ],
   "source": [
    "a[[0,2],[1,3]]    # ROW INDEX, COLUMNS INDEX, ROW INDEX, COLUMN INDEX"
   ]
  },
  {
   "cell_type": "code",
   "execution_count": 56,
   "id": "c4cd4f42-7c5a-4b43-bb7b-51c0479a7d50",
   "metadata": {},
   "outputs": [
    {
     "data": {
      "text/plain": [
       "array([10, 15, 20])"
      ]
     },
     "execution_count": 56,
     "metadata": {},
     "output_type": "execute_result"
    }
   ],
   "source": [
    "a[[1,2,3],[4,4,-1]]"
   ]
  },
  {
   "cell_type": "markdown",
   "id": "6a6a17a6-f8c6-4491-950a-d29bd4f88395",
   "metadata": {},
   "source": [
    "# ITERATION"
   ]
  },
  {
   "cell_type": "code",
   "execution_count": 57,
   "id": "0a42b3e1-8b36-42ed-828c-2e4d17799e12",
   "metadata": {},
   "outputs": [
    {
     "name": "stdout",
     "output_type": "stream",
     "text": [
      "1 2 3 4 5 6 7 8 9 "
     ]
    }
   ],
   "source": [
    "a = np.arange(1,10)\n",
    "for n in a:\n",
    "    print(n, end=\" \")"
   ]
  },
  {
   "cell_type": "code",
   "execution_count": 58,
   "id": "9f56301f-ac25-4edc-9557-8b8951e6c825",
   "metadata": {},
   "outputs": [
    {
     "data": {
      "text/plain": [
       "array([[6, 4, 9],\n",
       "       [4, 5, 8],\n",
       "       [7, 6, 2]])"
      ]
     },
     "execution_count": 58,
     "metadata": {},
     "output_type": "execute_result"
    }
   ],
   "source": [
    "a = np.random.randint(1,10,(3,3))\n",
    "a"
   ]
  },
  {
   "cell_type": "code",
   "execution_count": 59,
   "id": "0418527e-4086-47e5-b8cf-b6ed4933dc2c",
   "metadata": {},
   "outputs": [
    {
     "name": "stdout",
     "output_type": "stream",
     "text": [
      "6\n",
      "4\n",
      "4\n",
      "8\n",
      "6\n",
      "2\n"
     ]
    }
   ],
   "source": [
    "for r in a:\n",
    "    for c in r:\n",
    "        if c % 2 == 0:\n",
    "            print(c)"
   ]
  },
  {
   "cell_type": "markdown",
   "id": "caf645a6-a4fc-4e8c-addb-2ad93b2cce5c",
   "metadata": {},
   "source": [
    "# Boolean Indexing(Fancy Indexing)"
   ]
  },
  {
   "cell_type": "code",
   "execution_count": 60,
   "id": "9fe54ee5-b8a1-4fae-a844-b4d780af96eb",
   "metadata": {},
   "outputs": [
    {
     "data": {
      "text/plain": [
       "array([37,  6, 28, 65, 45])"
      ]
     },
     "execution_count": 60,
     "metadata": {},
     "output_type": "execute_result"
    }
   ],
   "source": [
    "a = np.random.randint(1,100,5)\n",
    "a"
   ]
  },
  {
   "cell_type": "code",
   "execution_count": 61,
   "id": "ef7f5d43-c183-4104-8fdb-12a1e262a6dd",
   "metadata": {},
   "outputs": [
    {
     "data": {
      "text/plain": [
       "array([False,  True,  True, False, False])"
      ]
     },
     "execution_count": 61,
     "metadata": {},
     "output_type": "execute_result"
    }
   ],
   "source": [
    "a % 2 == 0"
   ]
  },
  {
   "cell_type": "code",
   "execution_count": 62,
   "id": "088977ce-e3ac-4a7e-a3ed-135c4a9c4614",
   "metadata": {},
   "outputs": [
    {
     "data": {
      "text/plain": [
       "array([False, False, False,  True, False])"
      ]
     },
     "execution_count": 62,
     "metadata": {},
     "output_type": "execute_result"
    }
   ],
   "source": [
    "a > 50"
   ]
  },
  {
   "cell_type": "code",
   "execution_count": 63,
   "id": "e561fa09-6737-4ca3-b2fd-c1504272d42e",
   "metadata": {},
   "outputs": [
    {
     "data": {
      "text/plain": [
       "array([26,  2, 41, 53, 31, 50, 67, 11, 89, 50])"
      ]
     },
     "execution_count": 63,
     "metadata": {},
     "output_type": "execute_result"
    }
   ],
   "source": [
    "a = np.random.randint(1,100,10)\n",
    "a"
   ]
  },
  {
   "cell_type": "code",
   "execution_count": 64,
   "id": "cae1c4b2-c887-4fd7-9485-9bde00edacaa",
   "metadata": {},
   "outputs": [
    {
     "data": {
      "text/plain": [
       "array([ True,  True, False, False, False,  True, False, False, False,\n",
       "        True])"
      ]
     },
     "execution_count": 64,
     "metadata": {},
     "output_type": "execute_result"
    }
   ],
   "source": [
    "evens = a % 2 == 0\n",
    "evens"
   ]
  },
  {
   "cell_type": "code",
   "execution_count": 65,
   "id": "1db1b397-bccc-4c83-a5a3-aa5153105197",
   "metadata": {},
   "outputs": [
    {
     "data": {
      "text/plain": [
       "array([26,  2, 50, 50])"
      ]
     },
     "execution_count": 65,
     "metadata": {},
     "output_type": "execute_result"
    }
   ],
   "source": [
    "a[evens]"
   ]
  },
  {
   "cell_type": "code",
   "execution_count": 66,
   "id": "6d61dd73-34b9-43f8-a9fc-517028fe4491",
   "metadata": {},
   "outputs": [
    {
     "data": {
      "text/plain": [
       "array([False, False,  True,  True,  True, False,  True,  True,  True,\n",
       "       False])"
      ]
     },
     "execution_count": 66,
     "metadata": {},
     "output_type": "execute_result"
    }
   ],
   "source": [
    "odd = a % 2 == 1\n",
    "odd"
   ]
  },
  {
   "cell_type": "code",
   "execution_count": 67,
   "id": "050ca8fb-7afe-42c6-96ee-da307f85ab82",
   "metadata": {},
   "outputs": [
    {
     "data": {
      "text/plain": [
       "array([41, 53, 31, 67, 11, 89])"
      ]
     },
     "execution_count": 67,
     "metadata": {},
     "output_type": "execute_result"
    }
   ],
   "source": [
    "a[odd]"
   ]
  },
  {
   "cell_type": "code",
   "execution_count": 68,
   "id": "4a35effa-19d4-44cd-a104-74089c4ff79d",
   "metadata": {},
   "outputs": [
    {
     "data": {
      "text/plain": [
       "array([[4, 5, 5, 1, 8],\n",
       "       [9, 5, 3, 5, 8],\n",
       "       [8, 9, 2, 4, 8],\n",
       "       [2, 5, 6, 8, 9],\n",
       "       [5, 1, 2, 5, 9]])"
      ]
     },
     "execution_count": 68,
     "metadata": {},
     "output_type": "execute_result"
    }
   ],
   "source": [
    "a = np.random.randint(1,10,(5,5))\n",
    "a"
   ]
  },
  {
   "cell_type": "code",
   "execution_count": 69,
   "id": "99a0fd17-848b-4e6c-8a00-862f4237ff17",
   "metadata": {},
   "outputs": [
    {
     "data": {
      "text/plain": [
       "array([[False, False, False, False,  True],\n",
       "       [ True, False, False, False,  True],\n",
       "       [ True,  True, False, False,  True],\n",
       "       [False, False,  True,  True,  True],\n",
       "       [False, False, False, False,  True]])"
      ]
     },
     "execution_count": 69,
     "metadata": {},
     "output_type": "execute_result"
    }
   ],
   "source": [
    "a > 5"
   ]
  },
  {
   "cell_type": "code",
   "execution_count": 70,
   "id": "1c9d8052-de67-413f-8441-11d96ef31725",
   "metadata": {},
   "outputs": [
    {
     "data": {
      "text/plain": [
       "array([8, 9, 8, 8, 9, 8, 6, 8, 9, 9])"
      ]
     },
     "execution_count": 70,
     "metadata": {},
     "output_type": "execute_result"
    }
   ],
   "source": [
    "a[a > 5]"
   ]
  },
  {
   "cell_type": "markdown",
   "id": "489055db-854d-4dfa-8a01-ed5357bed96b",
   "metadata": {},
   "source": [
    "# Masking"
   ]
  },
  {
   "cell_type": "code",
   "execution_count": 71,
   "id": "8fff4567-0746-48d0-bda8-ab7c61eeb912",
   "metadata": {},
   "outputs": [
    {
     "data": {
      "text/plain": [
       "array([[ True, False, False, False, False],\n",
       "       [False, False,  True, False, False],\n",
       "       [False, False, False,  True, False],\n",
       "       [False, False, False, False, False],\n",
       "       [False, False, False, False, False]])"
      ]
     },
     "execution_count": 71,
     "metadata": {},
     "output_type": "execute_result"
    }
   ],
   "source": [
    "(a > 2) & (a < 5)"
   ]
  },
  {
   "cell_type": "code",
   "execution_count": 72,
   "id": "5794dde1-47ae-4b0a-8341-3c8eebc1aeee",
   "metadata": {},
   "outputs": [
    {
     "data": {
      "text/plain": [
       "array([4, 3, 4])"
      ]
     },
     "execution_count": 72,
     "metadata": {},
     "output_type": "execute_result"
    }
   ],
   "source": [
    "a[(a > 2) & (a < 5)]"
   ]
  },
  {
   "cell_type": "code",
   "execution_count": 73,
   "id": "a4faf3d0-9780-44d9-8db5-f36b54116483",
   "metadata": {},
   "outputs": [],
   "source": [
    "# (a > 2) and (a < 5) # Anding in python"
   ]
  },
  {
   "cell_type": "code",
   "execution_count": 74,
   "id": "f7c21eff-cbbf-4187-96b7-69c90670e27b",
   "metadata": {},
   "outputs": [
    {
     "data": {
      "text/plain": [
       "array([3, 3, 7, 8, 4, 9, 7, 7, 8, 4])"
      ]
     },
     "execution_count": 74,
     "metadata": {},
     "output_type": "execute_result"
    }
   ],
   "source": [
    "a = np.random.randint(1,10,10)\n",
    "a"
   ]
  },
  {
   "cell_type": "code",
   "execution_count": 75,
   "id": "0db49899-ea3a-4023-b030-99606a39782c",
   "metadata": {},
   "outputs": [
    {
     "name": "stdout",
     "output_type": "stream",
     "text": [
      "[ True  True  True  True  True  True  True  True  True  True]\n",
      "[ True  True False False  True False False False False  True]\n"
     ]
    }
   ],
   "source": [
    "ba1 = a >= 1\n",
    "print(ba1)\n",
    "ba2 = a <= 5\n",
    "print(ba2)"
   ]
  },
  {
   "cell_type": "code",
   "execution_count": 76,
   "id": "5309c4db-f81f-4e93-ae6a-c5b479112221",
   "metadata": {},
   "outputs": [
    {
     "data": {
      "text/plain": [
       "array([ True,  True,  True,  True,  True,  True,  True,  True,  True,\n",
       "        True])"
      ]
     },
     "execution_count": 76,
     "metadata": {},
     "output_type": "execute_result"
    }
   ],
   "source": [
    "ba1 | ba2  # Oring"
   ]
  },
  {
   "cell_type": "code",
   "execution_count": 77,
   "id": "96c4fb89-8fce-4896-81bd-624d58867c7b",
   "metadata": {},
   "outputs": [
    {
     "data": {
      "text/plain": [
       "array([3, 3, 7, 8, 4, 9, 7, 7, 8, 4])"
      ]
     },
     "execution_count": 77,
     "metadata": {},
     "output_type": "execute_result"
    }
   ],
   "source": [
    "a[ba1 | ba2]"
   ]
  },
  {
   "cell_type": "code",
   "execution_count": 78,
   "id": "c16ad006-dd61-4acf-b24c-9143f8b790ad",
   "metadata": {},
   "outputs": [],
   "source": [
    "def isprime(n):\n",
    "    for i in range(2,n // 2 + 1):\n",
    "        if n % i == 0:\n",
    "            return False\n",
    "    return True    "
   ]
  },
  {
   "cell_type": "code",
   "execution_count": 79,
   "id": "79819c9c-6f26-4f25-a5dc-3e1edd6b7f94",
   "metadata": {},
   "outputs": [],
   "source": [
    "# Returns a list of booleans\n",
    "def prime(n):\n",
    "    lst = []\n",
    "    for n in a:\n",
    "        lst.append(isprime(n))    # Append True or False\n",
    "    return lst    "
   ]
  },
  {
   "cell_type": "code",
   "execution_count": 80,
   "id": "bcd53864-05cb-417d-9bcf-4687b9930914",
   "metadata": {},
   "outputs": [
    {
     "name": "stdout",
     "output_type": "stream",
     "text": [
      "[True, True, True, False, False, False, True, True, False, False]\n"
     ]
    }
   ],
   "source": [
    "print(prime(a))"
   ]
  },
  {
   "cell_type": "markdown",
   "id": "84c2d4d6-218a-4b93-b34d-99fd17a3bc9e",
   "metadata": {},
   "source": [
    "# Array Operations"
   ]
  },
  {
   "cell_type": "code",
   "execution_count": 81,
   "id": "87f4ae59-e785-4590-b4eb-1abfb2671ac7",
   "metadata": {},
   "outputs": [
    {
     "data": {
      "text/plain": [
       "array([1, 2, 3, 4, 5])"
      ]
     },
     "execution_count": 81,
     "metadata": {},
     "output_type": "execute_result"
    }
   ],
   "source": [
    "a = np.array([1,2,3,4,5])\n",
    "a"
   ]
  },
  {
   "cell_type": "code",
   "execution_count": 82,
   "id": "dad96db0-decc-4596-9c38-d199e22d16a6",
   "metadata": {},
   "outputs": [],
   "source": [
    "b = a + 10.5"
   ]
  },
  {
   "cell_type": "code",
   "execution_count": 83,
   "id": "8644b355-1569-4a24-b257-a91faa0ca4b8",
   "metadata": {},
   "outputs": [
    {
     "data": {
      "text/plain": [
       "array([11.5, 12.5, 13.5, 14.5, 15.5])"
      ]
     },
     "execution_count": 83,
     "metadata": {},
     "output_type": "execute_result"
    }
   ],
   "source": [
    "b"
   ]
  },
  {
   "cell_type": "code",
   "execution_count": 84,
   "id": "0ae27514-d2e4-4615-893f-4d812bda821e",
   "metadata": {},
   "outputs": [
    {
     "name": "stdout",
     "output_type": "stream",
     "text": [
      "[11.5 12.5 13.5 14.5 15.5]\n"
     ]
    }
   ],
   "source": [
    "print(b)"
   ]
  },
  {
   "cell_type": "code",
   "execution_count": 85,
   "id": "78776a19-2c34-4c47-a952-d10bcf94a74d",
   "metadata": {},
   "outputs": [],
   "source": [
    "b -= 5"
   ]
  },
  {
   "cell_type": "code",
   "execution_count": 86,
   "id": "766bf319-3ed1-4136-a1e0-3bf71c7c18ad",
   "metadata": {},
   "outputs": [
    {
     "name": "stdout",
     "output_type": "stream",
     "text": [
      "[ 6.5  7.5  8.5  9.5 10.5]\n"
     ]
    }
   ],
   "source": [
    "print(b)"
   ]
  },
  {
   "cell_type": "code",
   "execution_count": 87,
   "id": "5a2fe6c8-582a-4290-925d-ad2e2a152a43",
   "metadata": {},
   "outputs": [
    {
     "data": {
      "text/plain": [
       "array([ 0,  2,  4,  6,  8, 10, 12, 14, 16, 18])"
      ]
     },
     "execution_count": 87,
     "metadata": {},
     "output_type": "execute_result"
    }
   ],
   "source": [
    "a = np.arange(10)\n",
    "b = np.arange(10)\n",
    "a + b"
   ]
  },
  {
   "cell_type": "code",
   "execution_count": 88,
   "id": "37e4cfb7-0223-4ea5-9b4e-3fc81de87372",
   "metadata": {},
   "outputs": [],
   "source": [
    "# a = np.arange(10)\n",
    "# b = np.arange(9)   # Throws an error"
   ]
  },
  {
   "cell_type": "code",
   "execution_count": 89,
   "id": "cd3f452d-fee4-4baf-a559-f4a36925a2bf",
   "metadata": {},
   "outputs": [
    {
     "data": {
      "text/plain": [
       "array([ True,  True,  True,  True,  True])"
      ]
     },
     "execution_count": 89,
     "metadata": {},
     "output_type": "execute_result"
    }
   ],
   "source": [
    "a1 = np.arange(5)\n",
    "a2 = np.arange(5)\n",
    "a1 == a2"
   ]
  },
  {
   "cell_type": "markdown",
   "id": "07f06bff-5390-4b13-84ad-224c57ec2112",
   "metadata": {},
   "source": [
    "# all() vs any()"
   ]
  },
  {
   "cell_type": "code",
   "execution_count": 90,
   "id": "a303d945-26a3-4195-93ba-1576bc1a5160",
   "metadata": {},
   "outputs": [
    {
     "name": "stdout",
     "output_type": "stream",
     "text": [
      "False\n"
     ]
    }
   ],
   "source": [
    "ba = np.array([True, False, True])\n",
    "print(ba.all())"
   ]
  },
  {
   "cell_type": "code",
   "execution_count": 91,
   "id": "32d3fb6d-d7a3-4673-a777-6411c223ead9",
   "metadata": {},
   "outputs": [
    {
     "name": "stdout",
     "output_type": "stream",
     "text": [
      "True\n"
     ]
    }
   ],
   "source": [
    "print(ba.any())"
   ]
  },
  {
   "cell_type": "code",
   "execution_count": 92,
   "id": "56ef76cd-6e33-4a3f-a3e1-22d148827345",
   "metadata": {},
   "outputs": [
    {
     "data": {
      "text/plain": [
       "array([ True,  True,  True,  True,  True])"
      ]
     },
     "execution_count": 92,
     "metadata": {},
     "output_type": "execute_result"
    }
   ],
   "source": [
    "a1 == a2"
   ]
  },
  {
   "cell_type": "code",
   "execution_count": 93,
   "id": "d30b92f2-5e3a-42e6-a65b-7beaf24a0931",
   "metadata": {},
   "outputs": [
    {
     "data": {
      "text/plain": [
       "True"
      ]
     },
     "execution_count": 93,
     "metadata": {},
     "output_type": "execute_result"
    }
   ],
   "source": [
    "(a1 == a2).all()"
   ]
  },
  {
   "cell_type": "code",
   "execution_count": 94,
   "id": "4128b656-6371-4d0b-a9d3-c82fc5dd3d4f",
   "metadata": {},
   "outputs": [
    {
     "data": {
      "text/plain": [
       "True"
      ]
     },
     "execution_count": 94,
     "metadata": {},
     "output_type": "execute_result"
    }
   ],
   "source": [
    "(a1 == a2).any()"
   ]
  },
  {
   "cell_type": "code",
   "execution_count": 95,
   "id": "090ede17-f03e-4551-88d8-99b8490b7a6a",
   "metadata": {},
   "outputs": [
    {
     "data": {
      "text/plain": [
       "True"
      ]
     },
     "execution_count": 95,
     "metadata": {},
     "output_type": "execute_result"
    }
   ],
   "source": [
    "a1 = np.array([1,2,3,4])\n",
    "a2 = np.array([1,4,3,2])\n",
    "(a1 > a2).any()"
   ]
  },
  {
   "cell_type": "markdown",
   "id": "56df3383-d9e9-4b1e-ad42-1fb0dc6e713d",
   "metadata": {},
   "source": [
    "# Methods of ndarray"
   ]
  },
  {
   "cell_type": "code",
   "execution_count": 96,
   "id": "f9db68c3-deea-4af0-b2e6-feae94b82167",
   "metadata": {},
   "outputs": [
    {
     "name": "stdout",
     "output_type": "stream",
     "text": [
      "[ 6 71 31 98 10 23 77 97  3 98]\n",
      "[0. 0. 0. 0. 0.]\n"
     ]
    }
   ],
   "source": [
    "a = np.random.randint(1,100,10)\n",
    "print(a)\n",
    "b = np.zeros(5)\n",
    "print(b)"
   ]
  },
  {
   "cell_type": "code",
   "execution_count": 97,
   "id": "cd13c719-771f-4e5c-9c32-4acd8dea5f13",
   "metadata": {},
   "outputs": [
    {
     "data": {
      "text/plain": [
       "514"
      ]
     },
     "execution_count": 97,
     "metadata": {},
     "output_type": "execute_result"
    }
   ],
   "source": [
    "a.sum()"
   ]
  },
  {
   "cell_type": "code",
   "execution_count": 98,
   "id": "c9736091-e455-4268-9ffe-7196ae00af3c",
   "metadata": {},
   "outputs": [
    {
     "data": {
      "text/plain": [
       "True"
      ]
     },
     "execution_count": 98,
     "metadata": {},
     "output_type": "execute_result"
    }
   ],
   "source": [
    "a.any()   # Is there any true value(0 is false, non-zero is true)"
   ]
  },
  {
   "cell_type": "code",
   "execution_count": 99,
   "id": "741ca281-5597-436e-b5ce-ace3a3f64db1",
   "metadata": {},
   "outputs": [
    {
     "data": {
      "text/plain": [
       "False"
      ]
     },
     "execution_count": 99,
     "metadata": {},
     "output_type": "execute_result"
    }
   ],
   "source": [
    "b.any()"
   ]
  },
  {
   "cell_type": "code",
   "execution_count": 100,
   "id": "9ee4041a-ccbc-4156-a762-f276fa36d12d",
   "metadata": {},
   "outputs": [
    {
     "data": {
      "text/plain": [
       "True"
      ]
     },
     "execution_count": 100,
     "metadata": {},
     "output_type": "execute_result"
    }
   ],
   "source": [
    "a.all()"
   ]
  },
  {
   "cell_type": "code",
   "execution_count": 101,
   "id": "15d8e70b-b259-4d08-8996-75d809b75b1b",
   "metadata": {},
   "outputs": [
    {
     "name": "stdout",
     "output_type": "stream",
     "text": [
      "[[22 57  3 20 84 43]\n",
      " [93 61 71  7 88 56]\n",
      " [99 97 45 30 37 32]\n",
      " [36 26 38 25 99 94]\n",
      " [57 25 73 41 43 16]\n",
      " [92 32 22 75 82 23]]\n"
     ]
    }
   ],
   "source": [
    "# No of odd numbers in each row\n",
    "a = np.random.randint(1,100,(6,6))\n",
    "print(a)"
   ]
  },
  {
   "cell_type": "code",
   "execution_count": 102,
   "id": "dacb6cea-3f63-48db-b662-78a420812faf",
   "metadata": {},
   "outputs": [
    {
     "name": "stdout",
     "output_type": "stream",
     "text": [
      "0 3\n",
      "1 4\n",
      "2 4\n",
      "3 2\n",
      "4 5\n",
      "5 2\n"
     ]
    }
   ],
   "source": [
    "for idx,row in enumerate(a):\n",
    "    print(idx,(row % 2 == 1).sum())"
   ]
  },
  {
   "cell_type": "code",
   "execution_count": 103,
   "id": "c50ae69c-e543-4274-b3b5-473aeb1bbaa0",
   "metadata": {},
   "outputs": [
    {
     "data": {
      "text/plain": [
       "2"
      ]
     },
     "execution_count": 103,
     "metadata": {},
     "output_type": "execute_result"
    }
   ],
   "source": [
    "np.array((True,False,True)).sum()  # True means 1, False means 0"
   ]
  },
  {
   "cell_type": "code",
   "execution_count": 104,
   "id": "413d16ad-d248-4bd0-8be2-c6293efc195d",
   "metadata": {},
   "outputs": [
    {
     "name": "stdout",
     "output_type": "stream",
     "text": [
      "[[63 34 26 83 20 12]\n",
      " [86  4 94 92 74 75]\n",
      " [59 41 93 40 79 75]\n",
      " [ 3 16 99 39 27 49]\n",
      " [87 18 58 37 64  9]\n",
      " [30 27 78 99 67 75]]\n",
      "2\n",
      "5\n",
      "4\n",
      "1\n",
      "3\n",
      "4\n"
     ]
    }
   ],
   "source": [
    "# How many students passed the exam\n",
    "marks = np.random.randint(1,100,(6,6))\n",
    "print(marks)\n",
    "for row in marks:\n",
    "    print((row >= 50).sum())"
   ]
  },
  {
   "cell_type": "code",
   "execution_count": 105,
   "id": "3f19fe51-82b0-4e39-8b2a-c3366f6e1704",
   "metadata": {},
   "outputs": [
    {
     "data": {
      "text/plain": [
       "53.666666666666664"
      ]
     },
     "execution_count": 105,
     "metadata": {},
     "output_type": "execute_result"
    }
   ],
   "source": [
    "marks.mean()"
   ]
  },
  {
   "cell_type": "code",
   "execution_count": 106,
   "id": "40543b7a-2a5a-4511-bc09-20c67aa7ef6d",
   "metadata": {},
   "outputs": [
    {
     "name": "stdout",
     "output_type": "stream",
     "text": [
      "39\n",
      "70\n",
      "64\n",
      "38\n",
      "45\n",
      "62\n"
     ]
    }
   ],
   "source": [
    "for row in marks:\n",
    "    print(int(row.mean()))"
   ]
  },
  {
   "cell_type": "code",
   "execution_count": 107,
   "id": "e2035ecd-85c8-40f0-a492-83da7d6feed3",
   "metadata": {},
   "outputs": [
    {
     "data": {
      "text/plain": [
       "array([[ True, False, False,  True, False, False],\n",
       "       [ True, False,  True,  True,  True,  True],\n",
       "       [ True, False,  True, False,  True,  True],\n",
       "       [False, False,  True, False, False, False],\n",
       "       [ True, False,  True, False,  True, False],\n",
       "       [False, False,  True,  True,  True,  True]])"
      ]
     },
     "execution_count": 107,
     "metadata": {},
     "output_type": "execute_result"
    }
   ],
   "source": [
    "marks >= 50"
   ]
  },
  {
   "cell_type": "code",
   "execution_count": 108,
   "id": "93f2d00f-7670-444e-8d28-2c2fe42e0c25",
   "metadata": {},
   "outputs": [
    {
     "data": {
      "text/plain": [
       "19"
      ]
     },
     "execution_count": 108,
     "metadata": {},
     "output_type": "execute_result"
    }
   ],
   "source": [
    "(marks >= 50).sum()"
   ]
  },
  {
   "cell_type": "code",
   "execution_count": 109,
   "id": "1833690f-c55d-4697-b406-1bfd8b12ddf8",
   "metadata": {},
   "outputs": [
    {
     "data": {
      "text/plain": [
       "array([[63, 34, 26, 83, 20, 12],\n",
       "       [86,  4, 94, 92, 74, 75],\n",
       "       [59, 41, 93, 40, 79, 75],\n",
       "       [ 3, 16, 99, 39, 27, 49],\n",
       "       [87, 18, 58, 37, 64,  9],\n",
       "       [30, 27, 78, 99, 67, 75]])"
      ]
     },
     "execution_count": 109,
     "metadata": {},
     "output_type": "execute_result"
    }
   ],
   "source": [
    "marks"
   ]
  },
  {
   "cell_type": "markdown",
   "id": "784eae1d-4ae3-4b1f-8b8d-e800e822d4ae",
   "metadata": {},
   "source": [
    "# Using axis parameter"
   ]
  },
  {
   "cell_type": "code",
   "execution_count": 110,
   "id": "a2f12c52-08d2-4ebc-892d-a259645bcb10",
   "metadata": {},
   "outputs": [
    {
     "data": {
      "text/plain": [
       "array([[80, 76, 86, 93],\n",
       "       [ 5, 91, 50, 36],\n",
       "       [98, 63, 40, 54],\n",
       "       [97, 62, 74, 86],\n",
       "       [13, 76, 29, 64],\n",
       "       [75, 31,  4, 39]])"
      ]
     },
     "execution_count": 110,
     "metadata": {},
     "output_type": "execute_result"
    }
   ],
   "source": [
    "marks = np.random.randint(1,100,(6,4))\n",
    "marks"
   ]
  },
  {
   "cell_type": "code",
   "execution_count": 111,
   "id": "7b430509-a442-4c03-b970-e0fbf1c45fbf",
   "metadata": {},
   "outputs": [
    {
     "data": {
      "text/plain": [
       "1422"
      ]
     },
     "execution_count": 111,
     "metadata": {},
     "output_type": "execute_result"
    }
   ],
   "source": [
    "marks.sum()"
   ]
  },
  {
   "cell_type": "code",
   "execution_count": 112,
   "id": "41714e0d-8c48-4ec4-9038-eb580834903c",
   "metadata": {},
   "outputs": [
    {
     "data": {
      "text/plain": [
       "array([368, 399, 283, 372])"
      ]
     },
     "execution_count": 112,
     "metadata": {},
     "output_type": "execute_result"
    }
   ],
   "source": [
    "marks.sum(axis = 0)   # Column wise total"
   ]
  },
  {
   "cell_type": "code",
   "execution_count": 113,
   "id": "20326a35-717b-40f4-8ea3-71da890f5d20",
   "metadata": {},
   "outputs": [
    {
     "data": {
      "text/plain": [
       "array([335, 182, 255, 319, 182, 149])"
      ]
     },
     "execution_count": 113,
     "metadata": {},
     "output_type": "execute_result"
    }
   ],
   "source": [
    "marks.sum(axis = 1)   # Row wise total"
   ]
  },
  {
   "cell_type": "code",
   "execution_count": 114,
   "id": "e2d8fa00-64c1-4bee-947e-ceeb4157b295",
   "metadata": {},
   "outputs": [
    {
     "data": {
      "text/plain": [
       "array([4, 5, 3, 4])"
      ]
     },
     "execution_count": 114,
     "metadata": {},
     "output_type": "execute_result"
    }
   ],
   "source": [
    "(marks >= 50).sum(axis = 0)   # Column wise subject"
   ]
  },
  {
   "cell_type": "code",
   "execution_count": 115,
   "id": "52db3f08-331c-4eda-bdf9-c482577b4b47",
   "metadata": {},
   "outputs": [
    {
     "data": {
      "text/plain": [
       "array([4, 2, 3, 4, 2, 1])"
      ]
     },
     "execution_count": 115,
     "metadata": {},
     "output_type": "execute_result"
    }
   ],
   "source": [
    "(marks >= 50).sum(axis = 1)   # Row wise total"
   ]
  },
  {
   "cell_type": "code",
   "execution_count": 116,
   "id": "6354e271-b47d-45b5-877a-7469727d61cb",
   "metadata": {},
   "outputs": [
    {
     "data": {
      "text/plain": [
       "array([83.75, 45.5 , 63.75, 79.75, 45.5 , 37.25])"
      ]
     },
     "execution_count": 116,
     "metadata": {},
     "output_type": "execute_result"
    }
   ],
   "source": [
    "marks.mean(axis = 1)   # Row wise mean"
   ]
  },
  {
   "cell_type": "code",
   "execution_count": 117,
   "id": "924394fa-f316-45ef-a617-757cf53e783c",
   "metadata": {},
   "outputs": [
    {
     "data": {
      "text/plain": [
       "array([335, 255, 182])"
      ]
     },
     "execution_count": 117,
     "metadata": {},
     "output_type": "execute_result"
    }
   ],
   "source": [
    "# Sum of alternate rows\n",
    "marks[::2].sum(axis = 1)"
   ]
  },
  {
   "cell_type": "code",
   "execution_count": 118,
   "id": "1d1ac95a-8a2d-4c79-80a0-b007e66a6219",
   "metadata": {},
   "outputs": [
    {
     "name": "stdout",
     "output_type": "stream",
     "text": [
      "[7 4 5 7 6]\n"
     ]
    }
   ],
   "source": [
    "a = np.random.randint(1,10,5)\n",
    "print(a)"
   ]
  },
  {
   "cell_type": "code",
   "execution_count": 119,
   "id": "ee7521bd-b0d3-4d65-b252-c59549687939",
   "metadata": {},
   "outputs": [
    {
     "data": {
      "text/plain": [
       "(29, 1.16619037896906)"
      ]
     },
     "execution_count": 119,
     "metadata": {},
     "output_type": "execute_result"
    }
   ],
   "source": [
    "a.sum(), a.std()"
   ]
  },
  {
   "cell_type": "code",
   "execution_count": 120,
   "id": "54731cd3-4cd6-4de0-89eb-6b22e810efc1",
   "metadata": {},
   "outputs": [
    {
     "data": {
      "text/plain": [
       "array([ 7, 11, 16, 23, 29], dtype=int32)"
      ]
     },
     "execution_count": 120,
     "metadata": {},
     "output_type": "execute_result"
    }
   ],
   "source": [
    "a.cumsum()"
   ]
  },
  {
   "cell_type": "code",
   "execution_count": 121,
   "id": "cea94e37-79e8-4efe-aaa3-6cab8b02ace8",
   "metadata": {},
   "outputs": [
    {
     "name": "stdout",
     "output_type": "stream",
     "text": [
      "[[7 6 3]\n",
      " [3 8 3]\n",
      " [8 7 3]]\n"
     ]
    }
   ],
   "source": [
    "a = np.random.randint(1,10,(3,3))\n",
    "print(a)"
   ]
  },
  {
   "cell_type": "code",
   "execution_count": 122,
   "id": "ab65b62e-5ead-4b9c-80eb-32ec0ed96937",
   "metadata": {},
   "outputs": [
    {
     "data": {
      "text/plain": [
       "array([[ 7, 13, 16],\n",
       "       [ 3, 11, 14],\n",
       "       [ 8, 15, 18]], dtype=int32)"
      ]
     },
     "execution_count": 122,
     "metadata": {},
     "output_type": "execute_result"
    }
   ],
   "source": [
    "a.cumsum(axis = 1)"
   ]
  },
  {
   "cell_type": "code",
   "execution_count": 123,
   "id": "e1cdec3e-64dd-4076-8977-3a187e04b592",
   "metadata": {},
   "outputs": [
    {
     "name": "stdout",
     "output_type": "stream",
     "text": [
      "[ 7 13 16 19 27 30 38 45 48]\n"
     ]
    }
   ],
   "source": [
    "print(a.cumsum())"
   ]
  },
  {
   "cell_type": "markdown",
   "id": "4864696b-42b7-4ea4-9d53-5c536fd7a885",
   "metadata": {},
   "source": [
    "# Sorting"
   ]
  },
  {
   "cell_type": "code",
   "execution_count": 124,
   "id": "f2c52252-36b1-4bfc-aa44-a107551789a0",
   "metadata": {},
   "outputs": [
    {
     "data": {
      "text/plain": [
       "array([6, 5, 8, 3, 9])"
      ]
     },
     "execution_count": 124,
     "metadata": {},
     "output_type": "execute_result"
    }
   ],
   "source": [
    "a = np.array((6,5,8,3,9))\n",
    "a"
   ]
  },
  {
   "cell_type": "code",
   "execution_count": 125,
   "id": "644f8cbe-298a-4c2a-b831-59d43da12df8",
   "metadata": {},
   "outputs": [
    {
     "data": {
      "text/plain": [
       "[9, 8, 6, 5, 3]"
      ]
     },
     "execution_count": 125,
     "metadata": {},
     "output_type": "execute_result"
    }
   ],
   "source": [
    "sorted(a, reverse = True)"
   ]
  },
  {
   "cell_type": "code",
   "execution_count": 126,
   "id": "2e90006d-def7-444d-bb3c-25d086dacbb9",
   "metadata": {},
   "outputs": [],
   "source": [
    "a.sort()  # Inplace sorting"
   ]
  },
  {
   "cell_type": "code",
   "execution_count": 127,
   "id": "f4158737-ff7f-486d-a33d-da43d9e91f97",
   "metadata": {},
   "outputs": [
    {
     "data": {
      "text/plain": [
       "array([3, 5, 6, 8, 9])"
      ]
     },
     "execution_count": 127,
     "metadata": {},
     "output_type": "execute_result"
    }
   ],
   "source": [
    "a"
   ]
  },
  {
   "cell_type": "code",
   "execution_count": 128,
   "id": "fd16b439-80fa-4876-a53a-fa00a3498ad2",
   "metadata": {},
   "outputs": [
    {
     "name": "stdout",
     "output_type": "stream",
     "text": [
      "[[9 9 8]\n",
      " [5 6 8]\n",
      " [7 6 7]]\n"
     ]
    }
   ],
   "source": [
    "a = np.random.randint(1,10,(3,3))\n",
    "print(a)"
   ]
  },
  {
   "cell_type": "code",
   "execution_count": 129,
   "id": "c1deeb09-12ce-4034-a943-7dc196a29f34",
   "metadata": {},
   "outputs": [],
   "source": [
    "a.sort()"
   ]
  },
  {
   "cell_type": "code",
   "execution_count": 130,
   "id": "34a11613-b5b2-4d3a-b338-99f723ca7c06",
   "metadata": {},
   "outputs": [
    {
     "data": {
      "text/plain": [
       "array([[8, 9, 9],\n",
       "       [5, 6, 8],\n",
       "       [6, 7, 7]])"
      ]
     },
     "execution_count": 130,
     "metadata": {},
     "output_type": "execute_result"
    }
   ],
   "source": [
    "a"
   ]
  },
  {
   "cell_type": "code",
   "execution_count": 131,
   "id": "79f6e042-48be-490b-ba85-0187d1a5eb7d",
   "metadata": {},
   "outputs": [],
   "source": [
    "a.sort(axis = 1)"
   ]
  },
  {
   "cell_type": "code",
   "execution_count": 132,
   "id": "7d3bb88f-c711-4fbd-bb31-60868f212e6f",
   "metadata": {},
   "outputs": [
    {
     "data": {
      "text/plain": [
       "array([[8, 9, 9],\n",
       "       [5, 6, 8],\n",
       "       [6, 7, 7]])"
      ]
     },
     "execution_count": 132,
     "metadata": {},
     "output_type": "execute_result"
    }
   ],
   "source": [
    "a"
   ]
  },
  {
   "cell_type": "code",
   "execution_count": 133,
   "id": "c168ae94-b756-4f2a-9bac-61c60f476e55",
   "metadata": {},
   "outputs": [],
   "source": [
    "a.sort(axis = 0)"
   ]
  },
  {
   "cell_type": "code",
   "execution_count": 134,
   "id": "7e04d512-160a-4841-8668-38d3171f6c49",
   "metadata": {},
   "outputs": [
    {
     "data": {
      "text/plain": [
       "array([[5, 6, 7],\n",
       "       [6, 7, 8],\n",
       "       [8, 9, 9]])"
      ]
     },
     "execution_count": 134,
     "metadata": {},
     "output_type": "execute_result"
    }
   ],
   "source": [
    "a"
   ]
  },
  {
   "cell_type": "markdown",
   "id": "07ec39ee-f2b3-4522-8a83-d362a2712000",
   "metadata": {},
   "source": [
    "# Copy vs View"
   ]
  },
  {
   "cell_type": "code",
   "execution_count": 135,
   "id": "a6b67d22-c2ea-4546-9316-9cdbd5623fe2",
   "metadata": {},
   "outputs": [
    {
     "data": {
      "text/plain": [
       "array([ 1,  2,  3,  4,  5,  6,  7,  8,  9, 10])"
      ]
     },
     "execution_count": 135,
     "metadata": {},
     "output_type": "execute_result"
    }
   ],
   "source": [
    "a = np.arange(1,11)\n",
    "a"
   ]
  },
  {
   "cell_type": "code",
   "execution_count": 136,
   "id": "6b65830e-6c3f-461a-b307-a6c450861655",
   "metadata": {},
   "outputs": [
    {
     "data": {
      "text/plain": [
       "array([ 6,  7,  8,  9, 10])"
      ]
     },
     "execution_count": 136,
     "metadata": {},
     "output_type": "execute_result"
    }
   ],
   "source": [
    "b = a[5:]\n",
    "b"
   ]
  },
  {
   "cell_type": "code",
   "execution_count": 137,
   "id": "dcd98dbf-b7c2-47fb-916d-32983a1da1e5",
   "metadata": {},
   "outputs": [],
   "source": [
    "b[0] = 20"
   ]
  },
  {
   "cell_type": "code",
   "execution_count": 138,
   "id": "a0cad84b-0e9e-4af5-b981-42f2e7da4d5b",
   "metadata": {},
   "outputs": [
    {
     "data": {
      "text/plain": [
       "array([20,  7,  8,  9, 10])"
      ]
     },
     "execution_count": 138,
     "metadata": {},
     "output_type": "execute_result"
    }
   ],
   "source": [
    "b"
   ]
  },
  {
   "cell_type": "code",
   "execution_count": 139,
   "id": "3c337033-096b-419c-a17a-df58fcdf4a0e",
   "metadata": {},
   "outputs": [
    {
     "data": {
      "text/plain": [
       "array([ 1,  2,  3,  4,  5, 20,  7,  8,  9, 10])"
      ]
     },
     "execution_count": 139,
     "metadata": {},
     "output_type": "execute_result"
    }
   ],
   "source": [
    "a"
   ]
  },
  {
   "cell_type": "code",
   "execution_count": 140,
   "id": "c2309f78-6cf4-4b61-a56e-197154342e62",
   "metadata": {},
   "outputs": [],
   "source": [
    "b[:] = 0"
   ]
  },
  {
   "cell_type": "code",
   "execution_count": 141,
   "id": "d82dae15-f605-4b07-b1fb-9ddc641c2079",
   "metadata": {},
   "outputs": [
    {
     "data": {
      "text/plain": [
       "array([0, 0, 0, 0, 0])"
      ]
     },
     "execution_count": 141,
     "metadata": {},
     "output_type": "execute_result"
    }
   ],
   "source": [
    "b"
   ]
  },
  {
   "cell_type": "code",
   "execution_count": 142,
   "id": "35d3267a-b08f-463f-aced-578ce62c844c",
   "metadata": {},
   "outputs": [
    {
     "data": {
      "text/plain": [
       "array([1, 2, 3, 4, 5, 0, 0, 0, 0, 0])"
      ]
     },
     "execution_count": 142,
     "metadata": {},
     "output_type": "execute_result"
    }
   ],
   "source": [
    "a"
   ]
  },
  {
   "cell_type": "code",
   "execution_count": 143,
   "id": "b6bbf09a-8106-43d6-8d45-9158157a9c71",
   "metadata": {},
   "outputs": [],
   "source": [
    "a[9] = 100"
   ]
  },
  {
   "cell_type": "code",
   "execution_count": 144,
   "id": "b370320b-ab13-498b-afca-d27767eb9f47",
   "metadata": {},
   "outputs": [
    {
     "data": {
      "text/plain": [
       "array([  0,   0,   0,   0, 100])"
      ]
     },
     "execution_count": 144,
     "metadata": {},
     "output_type": "execute_result"
    }
   ],
   "source": [
    "b"
   ]
  },
  {
   "cell_type": "code",
   "execution_count": 145,
   "id": "960252a4-16ef-417f-a8b3-f9954ab06825",
   "metadata": {},
   "outputs": [
    {
     "data": {
      "text/plain": [
       "(array([ 10,  20,   0,   0, 100]),\n",
       " array([  1,   2,   3,   4,   5,  10,  20,   0,   0, 100]))"
      ]
     },
     "execution_count": 145,
     "metadata": {},
     "output_type": "execute_result"
    }
   ],
   "source": [
    "b[:2] = [10,20]\n",
    "b,a"
   ]
  },
  {
   "cell_type": "code",
   "execution_count": 146,
   "id": "b6312987-886f-4eb5-ad30-fe4bb12e0879",
   "metadata": {},
   "outputs": [
    {
     "data": {
      "text/plain": [
       "array([10, 20,  0])"
      ]
     },
     "execution_count": 146,
     "metadata": {},
     "output_type": "execute_result"
    }
   ],
   "source": [
    "c = b[:3]\n",
    "c"
   ]
  },
  {
   "cell_type": "code",
   "execution_count": 147,
   "id": "3f3f6e39-da6e-4b7b-8a15-b07d57702ebe",
   "metadata": {},
   "outputs": [
    {
     "data": {
      "text/plain": [
       "array([ 10,  20,   0,   0, 100])"
      ]
     },
     "execution_count": 147,
     "metadata": {},
     "output_type": "execute_result"
    }
   ],
   "source": [
    "b"
   ]
  },
  {
   "cell_type": "code",
   "execution_count": 148,
   "id": "0ce0bc72-4490-46ef-8c32-d9e2cbedfa94",
   "metadata": {},
   "outputs": [],
   "source": [
    "c[0] = 99"
   ]
  },
  {
   "cell_type": "code",
   "execution_count": 149,
   "id": "3683b3f7-80d5-40c9-b84d-d4c2464222e7",
   "metadata": {},
   "outputs": [
    {
     "data": {
      "text/plain": [
       "array([99, 20,  0])"
      ]
     },
     "execution_count": 149,
     "metadata": {},
     "output_type": "execute_result"
    }
   ],
   "source": [
    "c"
   ]
  },
  {
   "cell_type": "code",
   "execution_count": 150,
   "id": "0e0e7287-8032-491a-b0a1-c6dfe083410f",
   "metadata": {},
   "outputs": [
    {
     "data": {
      "text/plain": [
       "array([ 99,  20,   0,   0, 100])"
      ]
     },
     "execution_count": 150,
     "metadata": {},
     "output_type": "execute_result"
    }
   ],
   "source": [
    "b"
   ]
  },
  {
   "cell_type": "code",
   "execution_count": 151,
   "id": "63c70b07-b68e-4dee-bfc9-a16d5703df4d",
   "metadata": {},
   "outputs": [
    {
     "data": {
      "text/plain": [
       "array([  1,   2,   3,   4,   5,  99,  20,   0,   0, 100])"
      ]
     },
     "execution_count": 151,
     "metadata": {},
     "output_type": "execute_result"
    }
   ],
   "source": [
    "a"
   ]
  },
  {
   "cell_type": "code",
   "execution_count": 152,
   "id": "0eea6343-800e-48ab-879e-852dce8aa8d0",
   "metadata": {},
   "outputs": [
    {
     "data": {
      "text/plain": [
       "array([ 1,  2,  3,  4,  5,  6,  7,  8,  9, 10])"
      ]
     },
     "execution_count": 152,
     "metadata": {},
     "output_type": "execute_result"
    }
   ],
   "source": [
    "a1 = np.arange(1,11)\n",
    "a2 = a1.copy()\n",
    "a2"
   ]
  },
  {
   "cell_type": "code",
   "execution_count": 153,
   "id": "24ad71af-6f0f-4b70-9b6a-b82794e35f7f",
   "metadata": {},
   "outputs": [],
   "source": [
    "a2[0] = 100"
   ]
  },
  {
   "cell_type": "code",
   "execution_count": 154,
   "id": "c7e505b3-d55a-4a60-a47d-15531d5c8631",
   "metadata": {},
   "outputs": [
    {
     "data": {
      "text/plain": [
       "array([100,   2,   3,   4,   5,   6,   7,   8,   9,  10])"
      ]
     },
     "execution_count": 154,
     "metadata": {},
     "output_type": "execute_result"
    }
   ],
   "source": [
    "a2"
   ]
  },
  {
   "cell_type": "code",
   "execution_count": 155,
   "id": "9710a1d8-2be8-4711-ac0c-0971807e43f8",
   "metadata": {},
   "outputs": [
    {
     "data": {
      "text/plain": [
       "array([ 1,  2,  3,  4,  5,  6,  7,  8,  9, 10])"
      ]
     },
     "execution_count": 155,
     "metadata": {},
     "output_type": "execute_result"
    }
   ],
   "source": [
    "a1"
   ]
  },
  {
   "cell_type": "markdown",
   "id": "51f29415-f501-4a10-acbf-f71ebd20f715",
   "metadata": {},
   "source": [
    "# Boolean indexing in copy vs view"
   ]
  },
  {
   "cell_type": "code",
   "execution_count": 156,
   "id": "264300f6-373c-4101-b211-026f46f9654d",
   "metadata": {},
   "outputs": [
    {
     "data": {
      "text/plain": [
       "array([1, 2, 3, 4, 5])"
      ]
     },
     "execution_count": 156,
     "metadata": {},
     "output_type": "execute_result"
    }
   ],
   "source": [
    "a = np.array([1,2,3,4,5])\n",
    "a"
   ]
  },
  {
   "cell_type": "code",
   "execution_count": 157,
   "id": "634cad0f-d2d6-4e9e-9a83-31eae6b656a5",
   "metadata": {},
   "outputs": [
    {
     "data": {
      "text/plain": [
       "array([2, 4])"
      ]
     },
     "execution_count": 157,
     "metadata": {},
     "output_type": "execute_result"
    }
   ],
   "source": [
    "na = a[[1,3]]\n",
    "na"
   ]
  },
  {
   "cell_type": "markdown",
   "id": "ffe0812b-a97c-4145-8a99-6e1f1b429cd4",
   "metadata": {},
   "source": [
    "# Universal Functions"
   ]
  },
  {
   "cell_type": "markdown",
   "id": "631e9cbb-fb50-4f73-92bb-483595f42f25",
   "metadata": {},
   "source": [
    "##### These are functions in numpy module"
   ]
  },
  {
   "cell_type": "code",
   "execution_count": 158,
   "id": "924eab4d-ce31-4ccf-9b20-37ffd9086448",
   "metadata": {},
   "outputs": [
    {
     "data": {
      "text/plain": [
       "array([12, 14, 16, 18, 20, 22, 24, 26, 28])"
      ]
     },
     "execution_count": 158,
     "metadata": {},
     "output_type": "execute_result"
    }
   ],
   "source": [
    "a = np.arange(1,10)\n",
    "b = np.arange(11,20)\n",
    "a + b"
   ]
  },
  {
   "cell_type": "code",
   "execution_count": 159,
   "id": "48e343f8-bcaa-49a8-93b6-04d0e6ee3913",
   "metadata": {},
   "outputs": [
    {
     "data": {
      "text/plain": [
       "array([12, 14, 16, 18, 20, 22, 24, 26, 28])"
      ]
     },
     "execution_count": 159,
     "metadata": {},
     "output_type": "execute_result"
    }
   ],
   "source": [
    "np.add(a,b)"
   ]
  },
  {
   "cell_type": "code",
   "execution_count": 160,
   "id": "220d4cc6-0d99-4afd-9a11-d469a61bf3f9",
   "metadata": {},
   "outputs": [
    {
     "data": {
      "text/plain": [
       "array([ 11,  12,  39,  28,  15,  48, 119,  72, 171])"
      ]
     },
     "execution_count": 160,
     "metadata": {},
     "output_type": "execute_result"
    }
   ],
   "source": [
    "np.lcm(a, b)"
   ]
  },
  {
   "cell_type": "code",
   "execution_count": 161,
   "id": "9445439c-bb0c-45d9-9676-9a0722207785",
   "metadata": {},
   "outputs": [
    {
     "data": {
      "text/plain": [
       "(array([1, 2, 1, 2, 5, 2, 1, 2, 1]),\n",
       " array([1.        , 1.41421356, 1.73205081, 2.        , 2.23606798,\n",
       "        2.44948974, 2.64575131, 2.82842712, 3.        ]))"
      ]
     },
     "execution_count": 161,
     "metadata": {},
     "output_type": "execute_result"
    }
   ],
   "source": [
    "np.gcd(a, b), np.sqrt(a)"
   ]
  },
  {
   "cell_type": "markdown",
   "id": "e75d77da-ea4b-4a20-bfb8-9018c14d0408",
   "metadata": {},
   "source": [
    "# Stacking and Splitting"
   ]
  },
  {
   "cell_type": "markdown",
   "id": "2a149448-a2cc-4750-a0b3-a615f1c815cf",
   "metadata": {},
   "source": [
    "### 1.Vertical Stacking"
   ]
  },
  {
   "cell_type": "markdown",
   "id": "4a24eca3-7785-45be-8992-29ec965f7a8a",
   "metadata": {},
   "source": [
    "### 2.Horizontal Stacking"
   ]
  },
  {
   "cell_type": "code",
   "execution_count": 162,
   "id": "ec105619-198c-4825-94e7-ccb4f213443f",
   "metadata": {},
   "outputs": [
    {
     "data": {
      "text/plain": [
       "array([[1, 2],\n",
       "       [3, 4]])"
      ]
     },
     "execution_count": 162,
     "metadata": {},
     "output_type": "execute_result"
    }
   ],
   "source": [
    "a1 = np.arange(1,5).reshape(2,2)\n",
    "a1"
   ]
  },
  {
   "cell_type": "code",
   "execution_count": 163,
   "id": "89acc8bd-8698-4a97-97a9-d8e755d6d8c5",
   "metadata": {},
   "outputs": [
    {
     "data": {
      "text/plain": [
       "array([[10, 11, 12],\n",
       "       [13, 14, 15]])"
      ]
     },
     "execution_count": 163,
     "metadata": {},
     "output_type": "execute_result"
    }
   ],
   "source": [
    "a2 = np.arange(10,16).reshape(2,3)\n",
    "a2"
   ]
  },
  {
   "cell_type": "code",
   "execution_count": 164,
   "id": "9bfcba6f-d107-4fb1-9946-18ef0e698a4c",
   "metadata": {},
   "outputs": [
    {
     "data": {
      "text/plain": [
       "array([[ 1,  2, 10, 11, 12],\n",
       "       [ 3,  4, 13, 14, 15]])"
      ]
     },
     "execution_count": 164,
     "metadata": {},
     "output_type": "execute_result"
    }
   ],
   "source": [
    "np.hstack((a1,a2))"
   ]
  },
  {
   "cell_type": "code",
   "execution_count": 165,
   "id": "a4e31393-201a-450c-a310-e438f9666518",
   "metadata": {},
   "outputs": [
    {
     "data": {
      "text/plain": [
       "array([[10, 11],\n",
       "       [12, 13]])"
      ]
     },
     "execution_count": 165,
     "metadata": {},
     "output_type": "execute_result"
    }
   ],
   "source": [
    "a2 = np.arange(10,14).reshape(2,2)\n",
    "a2"
   ]
  },
  {
   "cell_type": "code",
   "execution_count": 166,
   "id": "f0a626dd-96d5-4f77-bf45-006141e26711",
   "metadata": {},
   "outputs": [
    {
     "data": {
      "text/plain": [
       "array([[ 1,  2],\n",
       "       [ 3,  4],\n",
       "       [10, 11],\n",
       "       [12, 13]])"
      ]
     },
     "execution_count": 166,
     "metadata": {},
     "output_type": "execute_result"
    }
   ],
   "source": [
    "np.vstack((a1,a2))"
   ]
  },
  {
   "cell_type": "code",
   "execution_count": 167,
   "id": "dc0d5585-d016-4952-b993-20c682315620",
   "metadata": {},
   "outputs": [
    {
     "data": {
      "text/plain": [
       "array([[ 1,  2],\n",
       "       [ 3,  4],\n",
       "       [10, 11],\n",
       "       [12, 13]])"
      ]
     },
     "execution_count": 167,
     "metadata": {},
     "output_type": "execute_result"
    }
   ],
   "source": [
    "np.concatenate((a1,a2))        # Vertical stacking - default axis = 0"
   ]
  },
  {
   "cell_type": "code",
   "execution_count": 168,
   "id": "c8e062db-657d-4d03-85d3-2e8ebb49d669",
   "metadata": {},
   "outputs": [
    {
     "data": {
      "text/plain": [
       "array([[ 1,  2, 10, 11],\n",
       "       [ 3,  4, 12, 13]])"
      ]
     },
     "execution_count": 168,
     "metadata": {},
     "output_type": "execute_result"
    }
   ],
   "source": [
    "np.concatenate((a1,a2), axis = 1)    # Horizontal stacking"
   ]
  },
  {
   "cell_type": "markdown",
   "id": "794aed34-aef6-4bdc-8620-0a1602879467",
   "metadata": {},
   "source": [
    "### Splitting"
   ]
  },
  {
   "cell_type": "code",
   "execution_count": 169,
   "id": "f37f51a4-de9d-45a5-a6fa-109d8fadb882",
   "metadata": {},
   "outputs": [
    {
     "data": {
      "text/plain": [
       "array([[ 1,  2,  3],\n",
       "       [ 4,  5,  6],\n",
       "       [ 7,  8,  9],\n",
       "       [10, 11, 12],\n",
       "       [13, 14, 15],\n",
       "       [16, 17, 18]])"
      ]
     },
     "execution_count": 169,
     "metadata": {},
     "output_type": "execute_result"
    }
   ],
   "source": [
    "a = np.arange(1,19).reshape(6,3)\n",
    "a"
   ]
  },
  {
   "cell_type": "code",
   "execution_count": 170,
   "id": "0f996dd2-69f1-41c4-bdfd-30ece6454560",
   "metadata": {},
   "outputs": [
    {
     "data": {
      "text/plain": [
       "[array([[1, 2, 3],\n",
       "        [4, 5, 6],\n",
       "        [7, 8, 9]]),\n",
       " array([[10, 11, 12],\n",
       "        [13, 14, 15],\n",
       "        [16, 17, 18]])]"
      ]
     },
     "execution_count": 170,
     "metadata": {},
     "output_type": "execute_result"
    }
   ],
   "source": [
    "np.vsplit(a,2)"
   ]
  },
  {
   "cell_type": "code",
   "execution_count": 171,
   "id": "2c18aa75-6ea9-47a8-ad5f-e942afcac283",
   "metadata": {},
   "outputs": [],
   "source": [
    "a1,a2 = np.vsplit(a,2)"
   ]
  },
  {
   "cell_type": "code",
   "execution_count": 172,
   "id": "8c40ed21-7cbf-49a4-867b-ba26f41d846e",
   "metadata": {},
   "outputs": [
    {
     "data": {
      "text/plain": [
       "((3, 3), (3, 3))"
      ]
     },
     "execution_count": 172,
     "metadata": {},
     "output_type": "execute_result"
    }
   ],
   "source": [
    "a1.shape, a1.shape"
   ]
  },
  {
   "cell_type": "markdown",
   "id": "582ca558-431e-4b66-9929-8b7b19f4fe41",
   "metadata": {},
   "source": [
    "### Linear Regression with multiple variables using linalgebra"
   ]
  },
  {
   "cell_type": "code",
   "execution_count": 173,
   "id": "2b009e2a-21ab-490b-9c26-d506b033d001",
   "metadata": {},
   "outputs": [
    {
     "data": {
      "text/plain": [
       "array([[   1, 1000,    2],\n",
       "       [   1, 2000,    3],\n",
       "       [   1,  750,    1]])"
      ]
     },
     "execution_count": 173,
     "metadata": {},
     "output_type": "execute_result"
    }
   ],
   "source": [
    "X = np.array([[1,1000,2],[1,2000,3],[1,750,1]])   # 1,Size,No: of bed rooms\n",
    "X"
   ]
  },
  {
   "cell_type": "code",
   "execution_count": 174,
   "id": "e45a8d54-c82e-47dd-b15c-2e82f6734a9e",
   "metadata": {},
   "outputs": [
    {
     "data": {
      "text/plain": [
       "(3, 3)"
      ]
     },
     "execution_count": 174,
     "metadata": {},
     "output_type": "execute_result"
    }
   ],
   "source": [
    "X.shape"
   ]
  },
  {
   "cell_type": "code",
   "execution_count": 175,
   "id": "cef441d5-6fa3-499a-8cea-09682224d896",
   "metadata": {},
   "outputs": [
    {
     "data": {
      "text/plain": [
       "array([200000,   5000, 200000])"
      ]
     },
     "execution_count": 175,
     "metadata": {},
     "output_type": "execute_result"
    }
   ],
   "source": [
    "coef = np.array([200000,5000,200000])\n",
    "coef"
   ]
  },
  {
   "cell_type": "code",
   "execution_count": 176,
   "id": "b60ed92b-120a-4b3b-9fe1-8a57d5e80365",
   "metadata": {},
   "outputs": [],
   "source": [
    "y = X @ coef"
   ]
  },
  {
   "cell_type": "code",
   "execution_count": 177,
   "id": "805ddc22-1a1e-4436-a8bc-c58c5deeb994",
   "metadata": {},
   "outputs": [
    {
     "data": {
      "text/plain": [
       "array([ 5600000, 10800000,  4150000])"
      ]
     },
     "execution_count": 177,
     "metadata": {},
     "output_type": "execute_result"
    }
   ],
   "source": [
    "y"
   ]
  },
  {
   "cell_type": "code",
   "execution_count": 178,
   "id": "aab17cb3-89b8-44bc-99da-f59fd11f4560",
   "metadata": {},
   "outputs": [
    {
     "data": {
      "text/plain": [
       "array([ 5600000, 10800000,  4150000])"
      ]
     },
     "execution_count": 178,
     "metadata": {},
     "output_type": "execute_result"
    }
   ],
   "source": [
    "X.dot(coef)"
   ]
  },
  {
   "cell_type": "markdown",
   "id": "4135516a-c257-43b4-8409-e52691f60629",
   "metadata": {},
   "source": [
    "# Broadcasting"
   ]
  },
  {
   "cell_type": "code",
   "execution_count": 179,
   "id": "9a3ef56c-7d01-46b3-b648-baaf32a4082d",
   "metadata": {},
   "outputs": [
    {
     "data": {
      "text/plain": [
       "array([0, 1, 2, 3, 4])"
      ]
     },
     "execution_count": 179,
     "metadata": {},
     "output_type": "execute_result"
    }
   ],
   "source": [
    "a = np.arange(5)\n",
    "a"
   ]
  },
  {
   "cell_type": "code",
   "execution_count": 180,
   "id": "a318bbc6-cb17-41f8-a713-d392ad790ef1",
   "metadata": {},
   "outputs": [
    {
     "data": {
      "text/plain": [
       "array([10, 11, 12, 13, 14])"
      ]
     },
     "execution_count": 180,
     "metadata": {},
     "output_type": "execute_result"
    }
   ],
   "source": [
    "a + 10      # 10 is broadcasted into array of 5 elements"
   ]
  },
  {
   "cell_type": "code",
   "execution_count": 181,
   "id": "d39e08bc-2782-424b-9814-ebb61d8a0aca",
   "metadata": {},
   "outputs": [
    {
     "data": {
      "text/plain": [
       "array([[0, 1],\n",
       "       [2, 3]])"
      ]
     },
     "execution_count": 181,
     "metadata": {},
     "output_type": "execute_result"
    }
   ],
   "source": [
    "a = np.arange(4).reshape(2, 2)\n",
    "a"
   ]
  },
  {
   "cell_type": "code",
   "execution_count": 182,
   "id": "050f502d-9e8a-4f9e-9604-2061f6d0ebb5",
   "metadata": {},
   "outputs": [
    {
     "data": {
      "text/plain": [
       "array([[10, 11],\n",
       "       [12, 13]])"
      ]
     },
     "execution_count": 182,
     "metadata": {},
     "output_type": "execute_result"
    }
   ],
   "source": [
    "a + 10   # 10 is broadcasted into a"
   ]
  },
  {
   "cell_type": "code",
   "execution_count": 184,
   "id": "c777a251-bd4d-42f3-9446-e3dbe707cfcf",
   "metadata": {},
   "outputs": [],
   "source": [
    "b = np.random.randint(1,5,(3,6))\n",
    "c = np.random.randint(1,5,(3,1))"
   ]
  },
  {
   "cell_type": "code",
   "execution_count": 185,
   "id": "7b34dfb3-a3f3-49b3-ab7b-47817b199c6d",
   "metadata": {},
   "outputs": [
    {
     "name": "stdout",
     "output_type": "stream",
     "text": [
      "[[4 3 4 1 2 2]\n",
      " [1 1 2 1 2 4]\n",
      " [4 2 2 2 2 2]]\n",
      "[[2]\n",
      " [3]\n",
      " [3]]\n"
     ]
    }
   ],
   "source": [
    "print(b)\n",
    "print(c)"
   ]
  },
  {
   "cell_type": "code",
   "execution_count": 186,
   "id": "4f79f09e-4284-48f0-ad5d-440ca50a9dd1",
   "metadata": {},
   "outputs": [
    {
     "data": {
      "text/plain": [
       "array([[6, 5, 6, 3, 4, 4],\n",
       "       [4, 4, 5, 4, 5, 7],\n",
       "       [7, 5, 5, 5, 5, 5]])"
      ]
     },
     "execution_count": 186,
     "metadata": {},
     "output_type": "execute_result"
    }
   ],
   "source": [
    "b + c   # c is broadcast into 6 columns"
   ]
  },
  {
   "cell_type": "markdown",
   "id": "e4c3c693-5dcc-4f9b-9c2a-995451ebf020",
   "metadata": {},
   "source": [
    "# Image Processing"
   ]
  },
  {
   "cell_type": "code",
   "execution_count": 187,
   "id": "13e9ee77-9865-4f6b-90a8-3f3c9322594d",
   "metadata": {},
   "outputs": [],
   "source": [
    "import matplotlib.pyplot as plt\n",
    "import matplotlib.image as image\n",
    "from scipy import misc"
   ]
  },
  {
   "cell_type": "code",
   "execution_count": 188,
   "id": "bf648194-ab82-4583-867f-57ec3145fc96",
   "metadata": {},
   "outputs": [
    {
     "data": {
      "text/plain": [
       "(numpy.ndarray, (768, 1024, 3), 2359296)"
      ]
     },
     "execution_count": 188,
     "metadata": {},
     "output_type": "execute_result"
    }
   ],
   "source": [
    "img = misc.face()\n",
    "type(img), img.shape, img.size"
   ]
  },
  {
   "cell_type": "code",
   "execution_count": 189,
   "id": "1dd3a8a3-b5ed-49d2-ba99-fbfc8a1dd957",
   "metadata": {},
   "outputs": [
    {
     "data": {
      "text/plain": [
       "<matplotlib.image.AxesImage at 0x2879658c280>"
      ]
     },
     "execution_count": 189,
     "metadata": {},
     "output_type": "execute_result"
    },
    {
     "data": {
      "image/png": "[encoded data removed]",
      "text/plain": [
       "<Figure size 432x288 with 1 Axes>"
      ]
     },
     "metadata": {
      "needs_background": "light"
     },
     "output_type": "display_data"
    }
   ],
   "source": [
    "plt.imshow(img)"
   ]
  },
  {
   "cell_type": "code",
   "execution_count": 190,
   "id": "56858a15-e858-43cc-84d0-50246982da85",
   "metadata": {},
   "outputs": [
    {
     "data": {
      "text/plain": [
       "dtype('uint8')"
      ]
     },
     "execution_count": 190,
     "metadata": {},
     "output_type": "execute_result"
    }
   ],
   "source": [
    "img.dtype"
   ]
  },
  {
   "cell_type": "code",
   "execution_count": 191,
   "id": "d8d8a13e-9756-4569-92d9-8f29f1042cad",
   "metadata": {},
   "outputs": [
    {
     "data": {
      "text/plain": [
       "array([121, 112, 131], dtype=uint8)"
      ]
     },
     "execution_count": 191,
     "metadata": {},
     "output_type": "execute_result"
    }
   ],
   "source": [
    "img[0,0]"
   ]
  },
  {
   "cell_type": "code",
   "execution_count": 192,
   "id": "e295098f-68d6-4796-b66f-f60a8f0c5578",
   "metadata": {},
   "outputs": [
    {
     "data": {
      "text/plain": [
       "array([131, 116, 123], dtype=uint8)"
      ]
     },
     "execution_count": 192,
     "metadata": {},
     "output_type": "execute_result"
    }
   ],
   "source": [
    "img[90,90]"
   ]
  },
  {
   "cell_type": "code",
   "execution_count": 193,
   "id": "ac26b068-5fcd-4e65-946a-c923720f202d",
   "metadata": {},
   "outputs": [
    {
     "data": {
      "text/plain": [
       "array([110, 103, 121], dtype=uint8)"
      ]
     },
     "execution_count": 193,
     "metadata": {},
     "output_type": "execute_result"
    }
   ],
   "source": [
    "img[1,1]"
   ]
  },
  {
   "cell_type": "code",
   "execution_count": 194,
   "id": "7b0fe00b-03ad-4a29-b368-e4897af77fab",
   "metadata": {},
   "outputs": [
    {
     "data": {
      "text/plain": [
       "131"
      ]
     },
     "execution_count": 194,
     "metadata": {},
     "output_type": "execute_result"
    }
   ],
   "source": [
    "img[0,0,2]   # Blue at 0,0"
   ]
  },
  {
   "cell_type": "code",
   "execution_count": 195,
   "id": "6e1f00e5-ce85-42b8-9ec7-261c5789e953",
   "metadata": {},
   "outputs": [
    {
     "data": {
      "text/plain": [
       "array([118, 154,  92], dtype=uint8)"
      ]
     },
     "execution_count": 195,
     "metadata": {},
     "output_type": "execute_result"
    }
   ],
   "source": [
    "img[-1,-1]"
   ]
  },
  {
   "cell_type": "code",
   "execution_count": 196,
   "id": "22ef3e8f-8e45-448f-b786-ec7ec61e210a",
   "metadata": {},
   "outputs": [],
   "source": [
    "newimg = img.copy()"
   ]
  },
  {
   "cell_type": "code",
   "execution_count": 199,
   "id": "5cd07cda-9251-40fa-abf4-29f445054e9b",
   "metadata": {},
   "outputs": [
    {
     "data": {
      "text/plain": [
       "<matplotlib.image.AxesImage at 0x28798913bb0>"
      ]
     },
     "execution_count": 199,
     "metadata": {},
     "output_type": "execute_result"
    },
    {
     "data": {
      "image/png": "[encoded data removed]",
      "text/plain": [
       "<Figure size 432x288 with 1 Axes>"
      ]
     },
     "metadata": {
      "needs_background": "light"
     },
     "output_type": "display_data"
    }
   ],
   "source": [
    "plt.imshow(newimg)"
   ]
  },
  {
   "cell_type": "code",
   "execution_count": 200,
   "id": "f1dc41ed-bd08-4019-b86b-59d9ba5d9337",
   "metadata": {},
   "outputs": [
    {
     "data": {
      "text/plain": [
       "<Figure size 432x288 with 0 Axes>"
      ]
     },
     "metadata": {},
     "output_type": "display_data"
    }
   ],
   "source": [
    "plt.gray()"
   ]
  },
  {
   "cell_type": "code",
   "execution_count": 204,
   "id": "fa024e5e-1b39-4fd0-9f0c-4c4b0f7fdada",
   "metadata": {},
   "outputs": [
    {
     "data": {
      "text/plain": [
       "(262144, (512, 512))"
      ]
     },
     "execution_count": 204,
     "metadata": {},
     "output_type": "execute_result"
    }
   ],
   "source": [
    "gimg = misc.ascent()\n",
    "gimg.size, gimg.shape"
   ]
  },
  {
   "cell_type": "code",
   "execution_count": 205,
   "id": "c885e171-1e90-4563-bb0d-271692c5dd74",
   "metadata": {},
   "outputs": [
    {
     "data": {
      "text/plain": [
       "83"
      ]
     },
     "execution_count": 205,
     "metadata": {},
     "output_type": "execute_result"
    }
   ],
   "source": [
    "gimg[0,0]"
   ]
  },
  {
   "cell_type": "code",
   "execution_count": 206,
   "id": "1136658c-7ad6-48ca-86d4-b44f9c08ec32",
   "metadata": {},
   "outputs": [
    {
     "data": {
      "text/plain": [
       "<matplotlib.image.AxesImage at 0x28798bd6dc0>"
      ]
     },
     "execution_count": 206,
     "metadata": {},
     "output_type": "execute_result"
    },
    {
     "data": {
      "image/png": "[encoded data removed]",
      "text/plain": [
       "<Figure size 432x288 with 1 Axes>"
      ]
     },
     "metadata": {
      "needs_background": "light"
     },
     "output_type": "display_data"
    }
   ],
   "source": [
    "plt.imshow(gimg)"
   ]
  },
  {
   "cell_type": "code",
   "execution_count": null,
   "id": "3cc60caf-a70d-4878-8a4b-e4f6a3d78e15",
   "metadata": {},
   "outputs": [],
   "source": []
  }
 ],
 "metadata": {
  "kernelspec": {
   "display_name": "Python 3 (ipykernel)",
   "language": "python",
   "name": "python3"
  },
  "language_info": {
   "codemirror_mode": {
    "name": "ipython",
    "version": 3
   },
   "file_extension": ".py",
   "mimetype": "text/x-python",
   "name": "python",
   "nbconvert_exporter": "python",
   "pygments_lexer": "ipython3",
   "version": "3.9.12"
  }
 },
 "nbformat": 4,
 "nbformat_minor": 5
}
