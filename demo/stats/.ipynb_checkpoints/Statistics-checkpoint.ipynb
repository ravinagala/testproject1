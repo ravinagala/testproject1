{
 "cells": [
  {
   "cell_type": "code",
   "execution_count": 1,
   "id": "efab1186-f887-4b9e-b5ef-27a9deb49a49",
   "metadata": {},
   "outputs": [],
   "source": [
    "import statistics as s\n",
    "import numpy as np\n",
    "import random\n",
    "import scipy.stats as ss"
   ]
  },
  {
   "cell_type": "markdown",
   "id": "e05a34b2-5689-4e2a-b576-c5b7ee061a53",
   "metadata": {},
   "source": [
    "# STATISTICS"
   ]
  },
  {
   "cell_type": "markdown",
   "id": "8c909a55-304b-401d-9e5a-8a6a1e9c6e0a",
   "metadata": {},
   "source": [
    "### MEAN, MEDIAN, MODE"
   ]
  },
  {
   "cell_type": "code",
   "execution_count": 4,
   "id": "d4cbd7e5-cb54-4d54-a25f-e25f76ce5631",
   "metadata": {},
   "outputs": [
    {
     "data": {
      "text/plain": [
       "9"
      ]
     },
     "execution_count": 4,
     "metadata": {},
     "output_type": "execute_result"
    }
   ],
   "source": [
    "import statistics as s\n",
    "salaries = [4, 5, 4, 6, 15, 20]\n",
    "s.mean(salaries)"
   ]
  },
  {
   "cell_type": "code",
   "execution_count": 4,
   "id": "c992492a-d7f3-4bcb-8433-b9d36bf52860",
   "metadata": {},
   "outputs": [
    {
     "data": {
      "text/plain": [
       "5.5"
      ]
     },
     "execution_count": 4,
     "metadata": {},
     "output_type": "execute_result"
    }
   ],
   "source": [
    "s.median(salaries)"
   ]
  },
  {
   "cell_type": "code",
   "execution_count": 5,
   "id": "ef713128-09a2-4db5-bf2a-e88c08241998",
   "metadata": {},
   "outputs": [
    {
     "data": {
      "text/plain": [
       "4"
      ]
     },
     "execution_count": 5,
     "metadata": {},
     "output_type": "execute_result"
    }
   ],
   "source": [
    "s.mode(salaries)"
   ]
  },
  {
   "cell_type": "code",
   "execution_count": 6,
   "id": "7d1b27ff-c6d3-470f-9633-3d545efef2f3",
   "metadata": {},
   "outputs": [
    {
     "data": {
      "text/plain": [
       "[4, 5]"
      ]
     },
     "execution_count": 6,
     "metadata": {},
     "output_type": "execute_result"
    }
   ],
   "source": [
    "s.multimode([3, 4, 5, 4, 5, 40])"
   ]
  },
  {
   "cell_type": "code",
   "execution_count": 7,
   "id": "f01c4cd5-6b6b-44ac-ae83-58d954136abd",
   "metadata": {},
   "outputs": [
    {
     "data": {
      "text/plain": [
       "(4, [4, 5])"
      ]
     },
     "execution_count": 7,
     "metadata": {},
     "output_type": "execute_result"
    }
   ],
   "source": [
    "s.mode(salaries), s.multimode([3, 4, 5, 4, 5, 10])"
   ]
  },
  {
   "cell_type": "markdown",
   "id": "8f7892ed-b9f4-459d-b886-12f321da065d",
   "metadata": {},
   "source": [
    "# RANDOM NUMBERS"
   ]
  },
  {
   "cell_type": "code",
   "execution_count": 9,
   "id": "51891221-0305-4e4e-987b-241a2120501b",
   "metadata": {},
   "outputs": [],
   "source": [
    "import random\n",
    "ages = []\n",
    "for i in range(1, 100):\n",
    "    ages.append(random.randint(1, 100))"
   ]
  },
  {
   "cell_type": "code",
   "execution_count": 11,
   "id": "aa618e6e-f0b4-4424-aefd-4221ad5166c1",
   "metadata": {},
   "outputs": [
    {
     "name": "stdout",
     "output_type": "stream",
     "text": [
      "[28, 2, 85, 96, 18, 35, 56, 4, 62, 76, 23, 76, 36, 86, 94, 9, 91, 94, 27, 41, 69, 16, 39, 22, 71, 75, 66, 71, 13, 74, 37, 67, 98, 15, 19, 80, 62, 53, 9, 82, 51, 35, 40, 77, 79, 32, 71, 69, 58, 91, 25, 4, 89, 90, 34, 37, 49, 1, 94, 69, 1, 32, 66, 56, 42, 46, 63, 54, 78, 59, 54, 51, 49, 85, 48, 14, 26, 10, 24, 9, 26, 84, 12, 30, 4, 87, 88, 70, 12, 51, 17, 57, 39, 78, 92, 74, 2, 4, 34]\n"
     ]
    }
   ],
   "source": [
    "print(ages)"
   ]
  },
  {
   "cell_type": "markdown",
   "id": "d716c138-412b-4e8f-b0ee-ce4700eb6449",
   "metadata": {},
   "source": [
    "# VARIANCE AND STANDARD DEVIATION"
   ]
  },
  {
   "cell_type": "code",
   "execution_count": 51,
   "id": "9a113bb3-bba6-40d0-acd7-2b38c7a545f1",
   "metadata": {},
   "outputs": [
    {
     "name": "stdout",
     "output_type": "stream",
     "text": [
      "Variance = 142.767, Std. Deviation = 11.949\n"
     ]
    }
   ],
   "source": [
    "import statistics as s\n",
    "marks = [70,77,65,55,45,88,76,66,65,72]\n",
    "print( f\"Variance = {s.variance(marks):5.3f}, \" +\n",
    "f\"Std. Deviation = {s.stdev(marks):5.3f}\")"
   ]
  },
  {
   "cell_type": "code",
   "execution_count": 52,
   "id": "fbf92646-7f62-4f73-ba03-1697ca03aebc",
   "metadata": {},
   "outputs": [
    {
     "data": {
      "text/plain": [
       "65"
      ]
     },
     "execution_count": 52,
     "metadata": {},
     "output_type": "execute_result"
    }
   ],
   "source": [
    "s.mode(marks)"
   ]
  },
  {
   "cell_type": "code",
   "execution_count": 53,
   "id": "f7af4e12-6590-4e4e-a5b3-11ced15c0445",
   "metadata": {},
   "outputs": [
    {
     "data": {
      "text/plain": [
       "[65]"
      ]
     },
     "execution_count": 53,
     "metadata": {},
     "output_type": "execute_result"
    }
   ],
   "source": [
    "s.multimode(marks)"
   ]
  },
  {
   "cell_type": "code",
   "execution_count": 54,
   "id": "e11f3991-a179-405d-9f04-182402129845",
   "metadata": {},
   "outputs": [
    {
     "data": {
      "text/plain": [
       "66"
      ]
     },
     "execution_count": 54,
     "metadata": {},
     "output_type": "execute_result"
    }
   ],
   "source": [
    "s.median_low(marks)"
   ]
  },
  {
   "cell_type": "code",
   "execution_count": 55,
   "id": "ef01b2c5-dadb-4673-b22b-119dfbbc7979",
   "metadata": {},
   "outputs": [
    {
     "data": {
      "text/plain": [
       "70"
      ]
     },
     "execution_count": 55,
     "metadata": {},
     "output_type": "execute_result"
    }
   ],
   "source": [
    "s.median_high(marks)"
   ]
  },
  {
   "cell_type": "code",
   "execution_count": 56,
   "id": "a3ed225f-9a57-4a2e-aade-62c80af9585e",
   "metadata": {},
   "outputs": [
    {
     "data": {
      "text/plain": [
       "68.0"
      ]
     },
     "execution_count": 56,
     "metadata": {},
     "output_type": "execute_result"
    }
   ],
   "source": [
    "s.median(marks)"
   ]
  },
  {
   "cell_type": "code",
   "execution_count": 57,
   "id": "59160918-cc99-4039-a5fb-9fd7b4df9ebc",
   "metadata": {},
   "outputs": [
    {
     "data": {
      "text/plain": [
       "67.9"
      ]
     },
     "execution_count": 57,
     "metadata": {},
     "output_type": "execute_result"
    }
   ],
   "source": [
    "s.mean(marks)"
   ]
  },
  {
   "cell_type": "markdown",
   "id": "3af283a4-3c04-49ef-8682-61d1aa74c292",
   "metadata": {},
   "source": [
    "# INTER QUARTILE RANGE"
   ]
  },
  {
   "cell_type": "code",
   "execution_count": 60,
   "id": "83e42bf2-bd44-4a81-a032-c7787ac4ebbf",
   "metadata": {},
   "outputs": [
    {
     "data": {
      "text/plain": [
       "7.5"
      ]
     },
     "execution_count": 60,
     "metadata": {},
     "output_type": "execute_result"
    }
   ],
   "source": [
    "import scipy.stats as ss\n",
    "marks = [5, 10, 15, 20]\n",
    "ss.iqr(marks)"
   ]
  },
  {
   "cell_type": "code",
   "execution_count": 12,
   "id": "2e107acf-bd76-4a8c-a740-039866ef8f0e",
   "metadata": {},
   "outputs": [
    {
     "data": {
      "text/plain": [
       "10.0"
      ]
     },
     "execution_count": 12,
     "metadata": {},
     "output_type": "execute_result"
    }
   ],
   "source": [
    "import scipy.stats as ss\n",
    "marks = [70,77,65,55,45,88,76,66,65,72]\n",
    "ss.iqr(marks)"
   ]
  },
  {
   "cell_type": "code",
   "execution_count": 14,
   "id": "6825898e-8542-4200-b28c-d9465068abd8",
   "metadata": {},
   "outputs": [
    {
     "data": {
      "text/plain": [
       "7.25"
      ]
     },
     "execution_count": 14,
     "metadata": {},
     "output_type": "execute_result"
    }
   ],
   "source": [
    "import scipy.stats as ss\n",
    "marks = [20, 21, 22, 22, 23, 24, 27, 30, 31, 40]\n",
    "ss.iqr(marks)"
   ]
  },
  {
   "cell_type": "markdown",
   "id": "ffda2cfa-fc40-4ac9-9ab4-1cc1c980f018",
   "metadata": {},
   "source": [
    "# PERCENTILE"
   ]
  },
  {
   "cell_type": "code",
   "execution_count": 15,
   "id": "0aef4420-4609-448f-bbe9-468d18a52610",
   "metadata": {},
   "outputs": [],
   "source": [
    "import numpy as np"
   ]
  },
  {
   "cell_type": "code",
   "execution_count": 16,
   "id": "00605b65-7d06-4c5a-97db-e786e2469fcc",
   "metadata": {},
   "outputs": [
    {
     "data": {
      "text/plain": [
       "21.98"
      ]
     },
     "execution_count": 16,
     "metadata": {},
     "output_type": "execute_result"
    }
   ],
   "source": [
    "np.percentile(marks,22)"
   ]
  },
  {
   "cell_type": "code",
   "execution_count": 17,
   "id": "825697c8-ebee-48ef-b88d-13f2744088dc",
   "metadata": {},
   "outputs": [
    {
     "data": {
      "text/plain": [
       "22.0"
      ]
     },
     "execution_count": 17,
     "metadata": {},
     "output_type": "execute_result"
    }
   ],
   "source": [
    "np.percentile(marks,31)"
   ]
  },
  {
   "cell_type": "code",
   "execution_count": 18,
   "id": "607be1c2-4ac4-40e3-8ecd-95c67deb3deb",
   "metadata": {},
   "outputs": [
    {
     "data": {
      "text/plain": [
       "23.52"
      ]
     },
     "execution_count": 18,
     "metadata": {},
     "output_type": "execute_result"
    }
   ],
   "source": [
    "import numpy as np\n",
    "ages = [24, 36, 37, 25, 32, 19, 40, 42, 23]\n",
    "np.percentile(ages, 19)"
   ]
  },
  {
   "cell_type": "code",
   "execution_count": 19,
   "id": "36bae21d-9192-44b8-b429-28dfbbd4cc6f",
   "metadata": {},
   "outputs": [
    {
     "data": {
      "text/plain": [
       "23.92"
      ]
     },
     "execution_count": 19,
     "metadata": {},
     "output_type": "execute_result"
    }
   ],
   "source": [
    "np.percentile(ages, 24)"
   ]
  },
  {
   "cell_type": "code",
   "execution_count": 20,
   "id": "26930820-a41e-4ab0-a41a-6011ac99d5a7",
   "metadata": {},
   "outputs": [
    {
     "data": {
      "text/plain": [
       "27.52"
      ]
     },
     "execution_count": 20,
     "metadata": {},
     "output_type": "execute_result"
    }
   ],
   "source": [
    "np.percentile(ages, 42)"
   ]
  },
  {
   "cell_type": "code",
   "execution_count": 21,
   "id": "40f61b43-fba6-4f81-ab37-8154087fe71a",
   "metadata": {},
   "outputs": [
    {
     "data": {
      "text/plain": [
       "10.0"
      ]
     },
     "execution_count": 21,
     "metadata": {},
     "output_type": "execute_result"
    }
   ],
   "source": [
    "import statistics as s\n",
    "import scipy.stats as ss\n",
    "marks = [70,77,65,55,45,88,76,66,65,72]\n",
    "ss.iqr(marks)"
   ]
  },
  {
   "cell_type": "code",
   "execution_count": 30,
   "id": "eaa5192a-19e7-47bc-904f-b126c7de2e25",
   "metadata": {},
   "outputs": [
    {
     "data": {
      "text/plain": [
       "10.0"
      ]
     },
     "execution_count": 30,
     "metadata": {},
     "output_type": "execute_result"
    }
   ],
   "source": [
    "ss.iqr(marks)"
   ]
  },
  {
   "cell_type": "code",
   "execution_count": 31,
   "id": "38b5754d-ded1-408b-a996-6291228ac1d6",
   "metadata": {},
   "outputs": [
    {
     "data": {
      "text/plain": [
       "68.0"
      ]
     },
     "execution_count": 31,
     "metadata": {},
     "output_type": "execute_result"
    }
   ],
   "source": [
    "import statistics as s\n",
    "marks = [70,77,65,55,45,88,76,66,65,72]\n",
    "s.median(marks)"
   ]
  },
  {
   "cell_type": "code",
   "execution_count": 32,
   "id": "af3b43bd-c2c8-4578-9b67-adcf56ad7d5d",
   "metadata": {},
   "outputs": [
    {
     "data": {
      "text/plain": [
       "65"
      ]
     },
     "execution_count": 32,
     "metadata": {},
     "output_type": "execute_result"
    }
   ],
   "source": [
    "import statistics as s\n",
    "marks = [45, 55, 65, 65, 66]\n",
    "s.median(marks)"
   ]
  },
  {
   "cell_type": "code",
   "execution_count": 34,
   "id": "1686dfe4-5739-45a3-8c4c-be3ebe0bb5c1",
   "metadata": {},
   "outputs": [
    {
     "data": {
      "text/plain": [
       "76"
      ]
     },
     "execution_count": 34,
     "metadata": {},
     "output_type": "execute_result"
    }
   ],
   "source": [
    "import statistics as s\n",
    "marks = [70, 72, 76, 77, 88]\n",
    "s.median(marks)"
   ]
  },
  {
   "cell_type": "markdown",
   "id": "af061b14-2199-4fb7-a6d0-7a9aba4f88d9",
   "metadata": {},
   "source": [
    "# CALCULATING QUARTILES"
   ]
  },
  {
   "cell_type": "code",
   "execution_count": 35,
   "id": "a84a1650-917f-454c-9036-3fa7a5f42b32",
   "metadata": {},
   "outputs": [
    {
     "data": {
      "text/plain": [
       "50.0"
      ]
     },
     "execution_count": 35,
     "metadata": {},
     "output_type": "execute_result"
    }
   ],
   "source": [
    "65 - 1.5 * 10"
   ]
  },
  {
   "cell_type": "code",
   "execution_count": 36,
   "id": "13303245-ae97-4406-814d-5f923993d4db",
   "metadata": {},
   "outputs": [
    {
     "data": {
      "text/plain": [
       "80.0"
      ]
     },
     "execution_count": 36,
     "metadata": {},
     "output_type": "execute_result"
    }
   ],
   "source": [
    "65 + 1.5 * 10"
   ]
  },
  {
   "cell_type": "markdown",
   "id": "6f3003c1-fadf-438e-a0c7-a188a0619f9f",
   "metadata": {},
   "source": [
    "# CORRELATIONS"
   ]
  },
  {
   "cell_type": "code",
   "execution_count": 5,
   "id": "c20d66e2-0d40-4d18-a646-303e257e728f",
   "metadata": {},
   "outputs": [],
   "source": [
    "import scipy.stats as ss\n",
    "import statistics as stats\n",
    "import pandas as pd\n",
    "import seaborn as sb"
   ]
  },
  {
   "cell_type": "markdown",
   "id": "e264dd13-bd93-4c6c-9fbd-c2c4b56c1ddd",
   "metadata": {},
   "source": [
    "# Load data from salary.csv"
   ]
  },
  {
   "cell_type": "code",
   "execution_count": 81,
   "id": "1eefed94-6ff3-4789-937a-d9bed5698e5f",
   "metadata": {},
   "outputs": [],
   "source": [
    "data = pd.read_csv(\"Salary.csv\")\n",
    "salaries = data['salary']\n",
    "years = data['exp']"
   ]
  },
  {
   "cell_type": "code",
   "execution_count": 85,
   "id": "3f4dadb2-a419-4e13-9c31-4f97be168c74",
   "metadata": {},
   "outputs": [
    {
     "data": {
      "text/html": [
       "<div>\n",
       "<style scoped>\n",
       "    .dataframe tbody tr th:only-of-type {\n",
       "        vertical-align: middle;\n",
       "    }\n",
       "\n",
       "    .dataframe tbody tr th {\n",
       "        vertical-align: top;\n",
       "    }\n",
       "\n",
       "    .dataframe thead th {\n",
       "        text-align: right;\n",
       "    }\n",
       "</style>\n",
       "<table border=\"1\" class=\"dataframe\">\n",
       "  <thead>\n",
       "    <tr style=\"text-align: right;\">\n",
       "      <th></th>\n",
       "      <th>exp\\tsalary</th>\n",
       "    </tr>\n",
       "  </thead>\n",
       "  <tbody>\n",
       "    <tr>\n",
       "      <th>0</th>\n",
       "      <td>1.1\\t39343</td>\n",
       "    </tr>\n",
       "    <tr>\n",
       "      <th>1</th>\n",
       "      <td>1.3\\t46205</td>\n",
       "    </tr>\n",
       "    <tr>\n",
       "      <th>2</th>\n",
       "      <td>1.5\\t37731</td>\n",
       "    </tr>\n",
       "    <tr>\n",
       "      <th>3</th>\n",
       "      <td>2\\t43525</td>\n",
       "    </tr>\n",
       "    <tr>\n",
       "      <th>4</th>\n",
       "      <td>2.2\\t39891</td>\n",
       "    </tr>\n",
       "  </tbody>\n",
       "</table>\n",
       "</div>"
      ],
      "text/plain": [
       "  exp\\tsalary\n",
       "0  1.1\\t39343\n",
       "1  1.3\\t46205\n",
       "2  1.5\\t37731\n",
       "3    2\\t43525\n",
       "4  2.2\\t39891"
      ]
     },
     "execution_count": 85,
     "metadata": {},
     "output_type": "execute_result"
    }
   ],
   "source": [
    "data.head()"
   ]
  },
  {
   "cell_type": "code",
   "execution_count": 90,
   "id": "da39add1-82a5-4c3e-b568-89d886f35f75",
   "metadata": {},
   "outputs": [
    {
     "ename": "TypeError",
     "evalue": "can't convert type 'str' to numerator/denominator",
     "output_type": "error",
     "traceback": [
      "\u001b[1;31m---------------------------------------------------------------------------\u001b[0m",
      "\u001b[1;31mTypeError\u001b[0m                                 Traceback (most recent call last)",
      "Input \u001b[1;32mIn [90]\u001b[0m, in \u001b[0;36m<cell line: 1>\u001b[1;34m()\u001b[0m\n\u001b[1;32m----> 1\u001b[0m \u001b[43mstats\u001b[49m\u001b[38;5;241;43m.\u001b[39;49m\u001b[43mmean\u001b[49m\u001b[43m(\u001b[49m\u001b[43msalaries\u001b[49m\u001b[43m)\u001b[49m\n",
      "File \u001b[1;32m~\\anaconda3\\lib\\statistics.py:316\u001b[0m, in \u001b[0;36mmean\u001b[1;34m(data)\u001b[0m\n\u001b[0;32m    314\u001b[0m \u001b[38;5;28;01mif\u001b[39;00m n \u001b[38;5;241m<\u001b[39m \u001b[38;5;241m1\u001b[39m:\n\u001b[0;32m    315\u001b[0m     \u001b[38;5;28;01mraise\u001b[39;00m StatisticsError(\u001b[38;5;124m'\u001b[39m\u001b[38;5;124mmean requires at least one data point\u001b[39m\u001b[38;5;124m'\u001b[39m)\n\u001b[1;32m--> 316\u001b[0m T, total, count \u001b[38;5;241m=\u001b[39m \u001b[43m_sum\u001b[49m\u001b[43m(\u001b[49m\u001b[43mdata\u001b[49m\u001b[43m)\u001b[49m\n\u001b[0;32m    317\u001b[0m \u001b[38;5;28;01massert\u001b[39;00m count \u001b[38;5;241m==\u001b[39m n\n\u001b[0;32m    318\u001b[0m \u001b[38;5;28;01mreturn\u001b[39;00m _convert(total \u001b[38;5;241m/\u001b[39m n, T)\n",
      "File \u001b[1;32m~\\anaconda3\\lib\\statistics.py:166\u001b[0m, in \u001b[0;36m_sum\u001b[1;34m(data, start)\u001b[0m\n\u001b[0;32m    164\u001b[0m \u001b[38;5;28;01mfor\u001b[39;00m typ, values \u001b[38;5;129;01min\u001b[39;00m groupby(data, \u001b[38;5;28mtype\u001b[39m):\n\u001b[0;32m    165\u001b[0m     T \u001b[38;5;241m=\u001b[39m _coerce(T, typ)  \u001b[38;5;66;03m# or raise TypeError\u001b[39;00m\n\u001b[1;32m--> 166\u001b[0m     \u001b[38;5;28;01mfor\u001b[39;00m n, d \u001b[38;5;129;01min\u001b[39;00m \u001b[38;5;28mmap\u001b[39m(_exact_ratio, values):\n\u001b[0;32m    167\u001b[0m         count \u001b[38;5;241m+\u001b[39m\u001b[38;5;241m=\u001b[39m \u001b[38;5;241m1\u001b[39m\n\u001b[0;32m    168\u001b[0m         partials[d] \u001b[38;5;241m=\u001b[39m partials_get(d, \u001b[38;5;241m0\u001b[39m) \u001b[38;5;241m+\u001b[39m n\n",
      "File \u001b[1;32m~\\anaconda3\\lib\\statistics.py:248\u001b[0m, in \u001b[0;36m_exact_ratio\u001b[1;34m(x)\u001b[0m\n\u001b[0;32m    246\u001b[0m     \u001b[38;5;28;01mreturn\u001b[39;00m (x, \u001b[38;5;28;01mNone\u001b[39;00m)\n\u001b[0;32m    247\u001b[0m msg \u001b[38;5;241m=\u001b[39m \u001b[38;5;124m\"\u001b[39m\u001b[38;5;124mcan\u001b[39m\u001b[38;5;124m'\u001b[39m\u001b[38;5;124mt convert type \u001b[39m\u001b[38;5;124m'\u001b[39m\u001b[38;5;132;01m{}\u001b[39;00m\u001b[38;5;124m'\u001b[39m\u001b[38;5;124m to numerator/denominator\u001b[39m\u001b[38;5;124m\"\u001b[39m\n\u001b[1;32m--> 248\u001b[0m \u001b[38;5;28;01mraise\u001b[39;00m \u001b[38;5;167;01mTypeError\u001b[39;00m(msg\u001b[38;5;241m.\u001b[39mformat(\u001b[38;5;28mtype\u001b[39m(x)\u001b[38;5;241m.\u001b[39m\u001b[38;5;18m__name__\u001b[39m))\n",
      "\u001b[1;31mTypeError\u001b[0m: can't convert type 'str' to numerator/denominator"
     ]
    }
   ],
   "source": [
    "stats.mean(salaries)"
   ]
  },
  {
   "cell_type": "code",
   "execution_count": null,
   "id": "6e17b384-e973-4770-bf7f-4969589ce3c1",
   "metadata": {},
   "outputs": [],
   "source": []
  }
 ],
 "metadata": {
  "kernelspec": {
   "display_name": "Python 3 (ipykernel)",
   "language": "python",
   "name": "python3"
  },
  "language_info": {
   "codemirror_mode": {
    "name": "ipython",
    "version": 3
   },
   "file_extension": ".py",
   "mimetype": "text/x-python",
   "name": "python",
   "nbconvert_exporter": "python",
   "pygments_lexer": "ipython3",
   "version": "3.9.12"
  }
 },
 "nbformat": 4,
 "nbformat_minor": 5
}
