{
 "cells": [
  {
   "cell_type": "code",
   "execution_count": 1,
   "id": "b2b1dab9-62cb-4222-982d-84b62a3e7d20",
   "metadata": {},
   "outputs": [],
   "source": [
    "import pandas as pd\n",
    "import seaborn as sns\n",
    "import numpy as np"
   ]
  },
  {
   "cell_type": "code",
   "execution_count": 2,
   "id": "f817fd2a-f5c3-43eb-bf4a-d4a49ca51d89",
   "metadata": {},
   "outputs": [],
   "source": [
    "df =  pd.DataFrame( [('Awesome food','p'),\n",
    "                     ('Pathatic service. Not worth at all.','n'),\n",
    "                     ('Very good service. Fantanstic Gym','p'),\n",
    "                     ('I like everything about it','p'),\n",
    "                     ('Bad room service. Costly food. Unfriendly staff.','n'),\n",
    "                     ('Untidy room. Bad room service.','n'),\n",
    "                     ('Worst food. Unfriendly staff.','n'),\n",
    "                    ])"
   ]
  },
  {
   "cell_type": "code",
   "execution_count": 3,
   "id": "0d8e7b28-30a9-4d21-9e85-f1986e2ead33",
   "metadata": {},
   "outputs": [],
   "source": [
    "df.columns = (\"review\", \"type\")"
   ]
  },
  {
   "cell_type": "code",
   "execution_count": 4,
   "id": "45331c80-8922-4b5c-9cfd-7f1f9c6d2224",
   "metadata": {},
   "outputs": [
    {
     "data": {
      "text/html": [
       "<div>\n",
       "<style scoped>\n",
       "    .dataframe tbody tr th:only-of-type {\n",
       "        vertical-align: middle;\n",
       "    }\n",
       "\n",
       "    .dataframe tbody tr th {\n",
       "        vertical-align: top;\n",
       "    }\n",
       "\n",
       "    .dataframe thead th {\n",
       "        text-align: right;\n",
       "    }\n",
       "</style>\n",
       "<table border=\"1\" class=\"dataframe\">\n",
       "  <thead>\n",
       "    <tr style=\"text-align: right;\">\n",
       "      <th></th>\n",
       "      <th>review</th>\n",
       "      <th>type</th>\n",
       "    </tr>\n",
       "  </thead>\n",
       "  <tbody>\n",
       "    <tr>\n",
       "      <th>0</th>\n",
       "      <td>Awesome food</td>\n",
       "      <td>p</td>\n",
       "    </tr>\n",
       "    <tr>\n",
       "      <th>1</th>\n",
       "      <td>Pathatic service. Not worth at all.</td>\n",
       "      <td>n</td>\n",
       "    </tr>\n",
       "    <tr>\n",
       "      <th>2</th>\n",
       "      <td>Very good service. Fantanstic Gym</td>\n",
       "      <td>p</td>\n",
       "    </tr>\n",
       "    <tr>\n",
       "      <th>3</th>\n",
       "      <td>I like everything about it</td>\n",
       "      <td>p</td>\n",
       "    </tr>\n",
       "    <tr>\n",
       "      <th>4</th>\n",
       "      <td>Bad room service. Costly food. Unfriendly staff.</td>\n",
       "      <td>n</td>\n",
       "    </tr>\n",
       "    <tr>\n",
       "      <th>5</th>\n",
       "      <td>Untidy room. Bad room service.</td>\n",
       "      <td>n</td>\n",
       "    </tr>\n",
       "    <tr>\n",
       "      <th>6</th>\n",
       "      <td>Worst food. Unfriendly staff.</td>\n",
       "      <td>n</td>\n",
       "    </tr>\n",
       "  </tbody>\n",
       "</table>\n",
       "</div>"
      ],
      "text/plain": [
       "                                             review type\n",
       "0                                      Awesome food    p\n",
       "1               Pathatic service. Not worth at all.    n\n",
       "2                 Very good service. Fantanstic Gym    p\n",
       "3                        I like everything about it    p\n",
       "4  Bad room service. Costly food. Unfriendly staff.    n\n",
       "5                    Untidy room. Bad room service.    n\n",
       "6                     Worst food. Unfriendly staff.    n"
      ]
     },
     "execution_count": 4,
     "metadata": {},
     "output_type": "execute_result"
    }
   ],
   "source": [
    "df"
   ]
  },
  {
   "cell_type": "code",
   "execution_count": 6,
   "id": "35b422b0-d03f-4d3a-913a-f66679b6db9f",
   "metadata": {},
   "outputs": [],
   "source": [
    "from sklearn.feature_extraction.text import TfidfVectorizer\n",
    "from sklearn.model_selection import train_test_split \n",
    "from sklearn.metrics import accuracy_score, confusion_matrix\n",
    "from sklearn.linear_model import LogisticRegression"
   ]
  },
  {
   "cell_type": "code",
   "execution_count": null,
   "id": "1a24ec5d-87f2-472a-9dad-4eca92e69b63",
   "metadata": {},
   "outputs": [],
   "source": []
  }
 ],
 "metadata": {
  "kernelspec": {
   "display_name": "Python 3 (ipykernel)",
   "language": "python",
   "name": "python3"
  },
  "language_info": {
   "codemirror_mode": {
    "name": "ipython",
    "version": 3
   },
   "file_extension": ".py",
   "mimetype": "text/x-python",
   "name": "python",
   "nbconvert_exporter": "python",
   "pygments_lexer": "ipython3",
   "version": "3.9.12"
  }
 },
 "nbformat": 4,
 "nbformat_minor": 5
}
