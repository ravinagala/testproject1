{
 "cells": [
  {
   "cell_type": "code",
   "execution_count": 1,
   "id": "efab1186-f887-4b9e-b5ef-27a9deb49a49",
   "metadata": {},
   "outputs": [],
   "source": [
    "import statistics as s\n",
    "import numpy as np\n",
    "import random\n",
    "import scipy.stats as ss"
   ]
  },
  {
   "cell_type": "markdown",
   "id": "e05a34b2-5689-4e2a-b576-c5b7ee061a53",
   "metadata": {},
   "source": [
    "# STATISTICS"
   ]
  },
  {
   "cell_type": "markdown",
   "id": "8c909a55-304b-401d-9e5a-8a6a1e9c6e0a",
   "metadata": {},
   "source": [
    "### MEAN, MEDIAN, MODE"
   ]
  },
  {
   "cell_type": "code",
   "execution_count": 2,
   "id": "d4cbd7e5-cb54-4d54-a25f-e25f76ce5631",
   "metadata": {},
   "outputs": [
    {
     "data": {
      "text/plain": [
       "9"
      ]
     },
     "execution_count": 2,
     "metadata": {},
     "output_type": "execute_result"
    }
   ],
   "source": [
    "import statistics as s\n",
    "salaries = [4, 5, 4, 6, 15, 20]\n",
    "s.mean(salaries)"
   ]
  },
  {
   "cell_type": "code",
   "execution_count": 3,
   "id": "c992492a-d7f3-4bcb-8433-b9d36bf52860",
   "metadata": {},
   "outputs": [
    {
     "data": {
      "text/plain": [
       "5.5"
      ]
     },
     "execution_count": 3,
     "metadata": {},
     "output_type": "execute_result"
    }
   ],
   "source": [
    "s.median(salaries)"
   ]
  },
  {
   "cell_type": "code",
   "execution_count": 4,
   "id": "ef713128-09a2-4db5-bf2a-e88c08241998",
   "metadata": {},
   "outputs": [
    {
     "data": {
      "text/plain": [
       "4"
      ]
     },
     "execution_count": 4,
     "metadata": {},
     "output_type": "execute_result"
    }
   ],
   "source": [
    "s.mode(salaries)"
   ]
  },
  {
   "cell_type": "code",
   "execution_count": 5,
   "id": "7d1b27ff-c6d3-470f-9633-3d545efef2f3",
   "metadata": {},
   "outputs": [
    {
     "data": {
      "text/plain": [
       "[4, 5]"
      ]
     },
     "execution_count": 5,
     "metadata": {},
     "output_type": "execute_result"
    }
   ],
   "source": [
    "s.multimode([3, 4, 5, 4, 5, 40])"
   ]
  },
  {
   "cell_type": "code",
   "execution_count": 6,
   "id": "f01c4cd5-6b6b-44ac-ae83-58d954136abd",
   "metadata": {},
   "outputs": [
    {
     "data": {
      "text/plain": [
       "(4, [4, 5])"
      ]
     },
     "execution_count": 6,
     "metadata": {},
     "output_type": "execute_result"
    }
   ],
   "source": [
    "s.mode(salaries), s.multimode([3, 4, 5, 4, 5, 10])"
   ]
  },
  {
   "cell_type": "markdown",
   "id": "8f7892ed-b9f4-459d-b886-12f321da065d",
   "metadata": {},
   "source": [
    "# RANDOM NUMBERS"
   ]
  },
  {
   "cell_type": "code",
   "execution_count": 7,
   "id": "51891221-0305-4e4e-987b-241a2120501b",
   "metadata": {},
   "outputs": [],
   "source": [
    "import random\n",
    "ages = []\n",
    "for i in range(1, 100):\n",
    "    ages.append(random.randint(1, 100))"
   ]
  },
  {
   "cell_type": "code",
   "execution_count": 8,
   "id": "aa618e6e-f0b4-4424-aefd-4221ad5166c1",
   "metadata": {},
   "outputs": [
    {
     "name": "stdout",
     "output_type": "stream",
     "text": [
      "[79, 42, 44, 95, 12, 36, 61, 42, 10, 71, 12, 91, 44, 42, 89, 42, 28, 75, 13, 57, 18, 17, 75, 30, 75, 68, 88, 72, 22, 91, 25, 35, 30, 88, 53, 53, 73, 87, 1, 46, 80, 60, 2, 7, 1, 54, 95, 90, 18, 78, 54, 37, 41, 58, 6, 73, 6, 54, 4, 28, 62, 63, 32, 8, 93, 77, 68, 26, 4, 90, 31, 38, 83, 82, 71, 2, 18, 60, 53, 88, 65, 32, 35, 32, 16, 43, 15, 76, 13, 56, 79, 30, 42, 97, 1, 52, 70, 38, 82]\n"
     ]
    }
   ],
   "source": [
    "print(ages)"
   ]
  },
  {
   "cell_type": "markdown",
   "id": "d716c138-412b-4e8f-b0ee-ce4700eb6449",
   "metadata": {},
   "source": [
    "# VARIANCE AND STANDARD DEVIATION"
   ]
  },
  {
   "cell_type": "code",
   "execution_count": 9,
   "id": "9a113bb3-bba6-40d0-acd7-2b38c7a545f1",
   "metadata": {},
   "outputs": [
    {
     "name": "stdout",
     "output_type": "stream",
     "text": [
      "Variance = 142.767, Std. Deviation = 11.949\n"
     ]
    }
   ],
   "source": [
    "import statistics as s\n",
    "marks = [70,77,65,55,45,88,76,66,65,72]\n",
    "print( f\"Variance = {s.variance(marks):5.3f}, \" +\n",
    "f\"Std. Deviation = {s.stdev(marks):5.3f}\")"
   ]
  },
  {
   "cell_type": "code",
   "execution_count": 10,
   "id": "fbf92646-7f62-4f73-ba03-1697ca03aebc",
   "metadata": {},
   "outputs": [
    {
     "data": {
      "text/plain": [
       "65"
      ]
     },
     "execution_count": 10,
     "metadata": {},
     "output_type": "execute_result"
    }
   ],
   "source": [
    "s.mode(marks)"
   ]
  },
  {
   "cell_type": "code",
   "execution_count": 11,
   "id": "f7af4e12-6590-4e4e-a5b3-11ced15c0445",
   "metadata": {},
   "outputs": [
    {
     "data": {
      "text/plain": [
       "[65]"
      ]
     },
     "execution_count": 11,
     "metadata": {},
     "output_type": "execute_result"
    }
   ],
   "source": [
    "s.multimode(marks)"
   ]
  },
  {
   "cell_type": "code",
   "execution_count": 12,
   "id": "e11f3991-a179-405d-9f04-182402129845",
   "metadata": {},
   "outputs": [
    {
     "data": {
      "text/plain": [
       "66"
      ]
     },
     "execution_count": 12,
     "metadata": {},
     "output_type": "execute_result"
    }
   ],
   "source": [
    "s.median_low(marks)"
   ]
  },
  {
   "cell_type": "code",
   "execution_count": 13,
   "id": "ef01b2c5-dadb-4673-b22b-119dfbbc7979",
   "metadata": {},
   "outputs": [
    {
     "data": {
      "text/plain": [
       "70"
      ]
     },
     "execution_count": 13,
     "metadata": {},
     "output_type": "execute_result"
    }
   ],
   "source": [
    "s.median_high(marks)"
   ]
  },
  {
   "cell_type": "code",
   "execution_count": 14,
   "id": "a3ed225f-9a57-4a2e-aade-62c80af9585e",
   "metadata": {},
   "outputs": [
    {
     "data": {
      "text/plain": [
       "68.0"
      ]
     },
     "execution_count": 14,
     "metadata": {},
     "output_type": "execute_result"
    }
   ],
   "source": [
    "s.median(marks)"
   ]
  },
  {
   "cell_type": "code",
   "execution_count": 15,
   "id": "59160918-cc99-4039-a5fb-9fd7b4df9ebc",
   "metadata": {},
   "outputs": [
    {
     "data": {
      "text/plain": [
       "67.9"
      ]
     },
     "execution_count": 15,
     "metadata": {},
     "output_type": "execute_result"
    }
   ],
   "source": [
    "s.mean(marks)"
   ]
  },
  {
   "cell_type": "markdown",
   "id": "3af283a4-3c04-49ef-8682-61d1aa74c292",
   "metadata": {},
   "source": [
    "# INTER QUARTILE RANGE"
   ]
  },
  {
   "cell_type": "code",
   "execution_count": 16,
   "id": "83e42bf2-bd44-4a81-a032-c7787ac4ebbf",
   "metadata": {},
   "outputs": [
    {
     "data": {
      "text/plain": [
       "7.5"
      ]
     },
     "execution_count": 16,
     "metadata": {},
     "output_type": "execute_result"
    }
   ],
   "source": [
    "import scipy.stats as ss\n",
    "marks = [5, 10, 15, 20]\n",
    "ss.iqr(marks)"
   ]
  },
  {
   "cell_type": "code",
   "execution_count": 17,
   "id": "2e107acf-bd76-4a8c-a740-039866ef8f0e",
   "metadata": {},
   "outputs": [
    {
     "data": {
      "text/plain": [
       "10.0"
      ]
     },
     "execution_count": 17,
     "metadata": {},
     "output_type": "execute_result"
    }
   ],
   "source": [
    "import scipy.stats as ss\n",
    "marks = [70,77,65,55,45,88,76,66,65,72]\n",
    "ss.iqr(marks)"
   ]
  },
  {
   "cell_type": "code",
   "execution_count": 18,
   "id": "6825898e-8542-4200-b28c-d9465068abd8",
   "metadata": {},
   "outputs": [
    {
     "data": {
      "text/plain": [
       "7.25"
      ]
     },
     "execution_count": 18,
     "metadata": {},
     "output_type": "execute_result"
    }
   ],
   "source": [
    "import scipy.stats as ss\n",
    "marks = [20, 21, 22, 22, 23, 24, 27, 30, 31, 40]\n",
    "ss.iqr(marks)"
   ]
  },
  {
   "cell_type": "markdown",
   "id": "ffda2cfa-fc40-4ac9-9ab4-1cc1c980f018",
   "metadata": {},
   "source": [
    "# PERCENTILE"
   ]
  },
  {
   "cell_type": "code",
   "execution_count": 19,
   "id": "0aef4420-4609-448f-bbe9-468d18a52610",
   "metadata": {},
   "outputs": [],
   "source": [
    "import numpy as np"
   ]
  },
  {
   "cell_type": "code",
   "execution_count": 20,
   "id": "00605b65-7d06-4c5a-97db-e786e2469fcc",
   "metadata": {},
   "outputs": [
    {
     "data": {
      "text/plain": [
       "21.98"
      ]
     },
     "execution_count": 20,
     "metadata": {},
     "output_type": "execute_result"
    }
   ],
   "source": [
    "np.percentile(marks,22)"
   ]
  },
  {
   "cell_type": "code",
   "execution_count": 21,
   "id": "825697c8-ebee-48ef-b88d-13f2744088dc",
   "metadata": {},
   "outputs": [
    {
     "data": {
      "text/plain": [
       "22.0"
      ]
     },
     "execution_count": 21,
     "metadata": {},
     "output_type": "execute_result"
    }
   ],
   "source": [
    "np.percentile(marks,31)"
   ]
  },
  {
   "cell_type": "code",
   "execution_count": 22,
   "id": "607be1c2-4ac4-40e3-8ecd-95c67deb3deb",
   "metadata": {},
   "outputs": [
    {
     "data": {
      "text/plain": [
       "23.52"
      ]
     },
     "execution_count": 22,
     "metadata": {},
     "output_type": "execute_result"
    }
   ],
   "source": [
    "import numpy as np\n",
    "ages = [24, 36, 37, 25, 32, 19, 40, 42, 23]\n",
    "np.percentile(ages, 19)"
   ]
  },
  {
   "cell_type": "code",
   "execution_count": 23,
   "id": "36bae21d-9192-44b8-b429-28dfbbd4cc6f",
   "metadata": {},
   "outputs": [
    {
     "data": {
      "text/plain": [
       "23.92"
      ]
     },
     "execution_count": 23,
     "metadata": {},
     "output_type": "execute_result"
    }
   ],
   "source": [
    "np.percentile(ages, 24)"
   ]
  },
  {
   "cell_type": "code",
   "execution_count": 24,
   "id": "26930820-a41e-4ab0-a41a-6011ac99d5a7",
   "metadata": {},
   "outputs": [
    {
     "data": {
      "text/plain": [
       "27.52"
      ]
     },
     "execution_count": 24,
     "metadata": {},
     "output_type": "execute_result"
    }
   ],
   "source": [
    "np.percentile(ages, 42)"
   ]
  },
  {
   "cell_type": "code",
   "execution_count": 25,
   "id": "40f61b43-fba6-4f81-ab37-8154087fe71a",
   "metadata": {},
   "outputs": [
    {
     "data": {
      "text/plain": [
       "10.0"
      ]
     },
     "execution_count": 25,
     "metadata": {},
     "output_type": "execute_result"
    }
   ],
   "source": [
    "import statistics as s\n",
    "import scipy.stats as ss\n",
    "marks = [70,77,65,55,45,88,76,66,65,72]\n",
    "ss.iqr(marks)"
   ]
  },
  {
   "cell_type": "code",
   "execution_count": 26,
   "id": "eaa5192a-19e7-47bc-904f-b126c7de2e25",
   "metadata": {},
   "outputs": [
    {
     "data": {
      "text/plain": [
       "10.0"
      ]
     },
     "execution_count": 26,
     "metadata": {},
     "output_type": "execute_result"
    }
   ],
   "source": [
    "ss.iqr(marks)"
   ]
  },
  {
   "cell_type": "code",
   "execution_count": 27,
   "id": "38b5754d-ded1-408b-a996-6291228ac1d6",
   "metadata": {},
   "outputs": [
    {
     "data": {
      "text/plain": [
       "68.0"
      ]
     },
     "execution_count": 27,
     "metadata": {},
     "output_type": "execute_result"
    }
   ],
   "source": [
    "import statistics as s\n",
    "marks = [70,77,65,55,45,88,76,66,65,72]\n",
    "s.median(marks)"
   ]
  },
  {
   "cell_type": "code",
   "execution_count": 28,
   "id": "af3b43bd-c2c8-4578-9b67-adcf56ad7d5d",
   "metadata": {},
   "outputs": [
    {
     "data": {
      "text/plain": [
       "65"
      ]
     },
     "execution_count": 28,
     "metadata": {},
     "output_type": "execute_result"
    }
   ],
   "source": [
    "import statistics as s\n",
    "marks = [45, 55, 65, 65, 66]\n",
    "s.median(marks)"
   ]
  },
  {
   "cell_type": "code",
   "execution_count": 29,
   "id": "1686dfe4-5739-45a3-8c4c-be3ebe0bb5c1",
   "metadata": {},
   "outputs": [
    {
     "data": {
      "text/plain": [
       "76"
      ]
     },
     "execution_count": 29,
     "metadata": {},
     "output_type": "execute_result"
    }
   ],
   "source": [
    "import statistics as s\n",
    "marks = [70, 72, 76, 77, 88]\n",
    "s.median(marks)"
   ]
  },
  {
   "cell_type": "markdown",
   "id": "af061b14-2199-4fb7-a6d0-7a9aba4f88d9",
   "metadata": {},
   "source": [
    "# CALCULATING QUARTILES"
   ]
  },
  {
   "cell_type": "code",
   "execution_count": 30,
   "id": "a84a1650-917f-454c-9036-3fa7a5f42b32",
   "metadata": {},
   "outputs": [
    {
     "data": {
      "text/plain": [
       "50.0"
      ]
     },
     "execution_count": 30,
     "metadata": {},
     "output_type": "execute_result"
    }
   ],
   "source": [
    "65 - 1.5 * 10"
   ]
  },
  {
   "cell_type": "code",
   "execution_count": 31,
   "id": "13303245-ae97-4406-814d-5f923993d4db",
   "metadata": {},
   "outputs": [
    {
     "data": {
      "text/plain": [
       "80.0"
      ]
     },
     "execution_count": 31,
     "metadata": {},
     "output_type": "execute_result"
    }
   ],
   "source": [
    "65 + 1.5 * 10"
   ]
  },
  {
   "cell_type": "markdown",
   "id": "6f3003c1-fadf-438e-a0c7-a188a0619f9f",
   "metadata": {},
   "source": [
    "# CORRELATIONS"
   ]
  },
  {
   "cell_type": "code",
   "execution_count": 32,
   "id": "c20d66e2-0d40-4d18-a646-303e257e728f",
   "metadata": {},
   "outputs": [],
   "source": [
    "import scipy.stats as ss\n",
    "import statistics as stats\n",
    "import pandas as pd\n",
    "import seaborn as sb"
   ]
  },
  {
   "cell_type": "markdown",
   "id": "e264dd13-bd93-4c6c-9fbd-c2c4b56c1ddd",
   "metadata": {},
   "source": [
    "# Load data from salary.csv"
   ]
  },
  {
   "cell_type": "code",
   "execution_count": 34,
   "id": "520248d1-c1b5-4a74-a065-d44dc495fe9f",
   "metadata": {},
   "outputs": [],
   "source": [
    "data = pd.read_csv(\"Salary.csv\")"
   ]
  },
  {
   "cell_type": "code",
   "execution_count": 35,
   "id": "b0299855-25c7-4c0f-906a-eb547754df52",
   "metadata": {},
   "outputs": [
    {
     "data": {
      "text/html": [
       "<div>\n",
       "<style scoped>\n",
       "    .dataframe tbody tr th:only-of-type {\n",
       "        vertical-align: middle;\n",
       "    }\n",
       "\n",
       "    .dataframe tbody tr th {\n",
       "        vertical-align: top;\n",
       "    }\n",
       "\n",
       "    .dataframe thead th {\n",
       "        text-align: right;\n",
       "    }\n",
       "</style>\n",
       "<table border=\"1\" class=\"dataframe\">\n",
       "  <thead>\n",
       "    <tr style=\"text-align: right;\">\n",
       "      <th></th>\n",
       "      <th>Unnamed: 0</th>\n",
       "      <th>exp</th>\n",
       "      <th>salary</th>\n",
       "    </tr>\n",
       "  </thead>\n",
       "  <tbody>\n",
       "    <tr>\n",
       "      <th>0</th>\n",
       "      <td>0</td>\n",
       "      <td>1.1</td>\n",
       "      <td>39343</td>\n",
       "    </tr>\n",
       "    <tr>\n",
       "      <th>1</th>\n",
       "      <td>1</td>\n",
       "      <td>1.3</td>\n",
       "      <td>46205</td>\n",
       "    </tr>\n",
       "    <tr>\n",
       "      <th>2</th>\n",
       "      <td>2</td>\n",
       "      <td>1.5</td>\n",
       "      <td>37731</td>\n",
       "    </tr>\n",
       "    <tr>\n",
       "      <th>3</th>\n",
       "      <td>3</td>\n",
       "      <td>2.0</td>\n",
       "      <td>43525</td>\n",
       "    </tr>\n",
       "    <tr>\n",
       "      <th>4</th>\n",
       "      <td>4</td>\n",
       "      <td>2.2</td>\n",
       "      <td>39891</td>\n",
       "    </tr>\n",
       "    <tr>\n",
       "      <th>5</th>\n",
       "      <td>5</td>\n",
       "      <td>2.9</td>\n",
       "      <td>56642</td>\n",
       "    </tr>\n",
       "    <tr>\n",
       "      <th>6</th>\n",
       "      <td>6</td>\n",
       "      <td>3.0</td>\n",
       "      <td>60150</td>\n",
       "    </tr>\n",
       "    <tr>\n",
       "      <th>7</th>\n",
       "      <td>7</td>\n",
       "      <td>3.2</td>\n",
       "      <td>54445</td>\n",
       "    </tr>\n",
       "    <tr>\n",
       "      <th>8</th>\n",
       "      <td>8</td>\n",
       "      <td>3.2</td>\n",
       "      <td>64445</td>\n",
       "    </tr>\n",
       "    <tr>\n",
       "      <th>9</th>\n",
       "      <td>9</td>\n",
       "      <td>3.7</td>\n",
       "      <td>57189</td>\n",
       "    </tr>\n",
       "    <tr>\n",
       "      <th>10</th>\n",
       "      <td>10</td>\n",
       "      <td>3.9</td>\n",
       "      <td>63218</td>\n",
       "    </tr>\n",
       "    <tr>\n",
       "      <th>11</th>\n",
       "      <td>11</td>\n",
       "      <td>4.0</td>\n",
       "      <td>55794</td>\n",
       "    </tr>\n",
       "    <tr>\n",
       "      <th>12</th>\n",
       "      <td>12</td>\n",
       "      <td>4.0</td>\n",
       "      <td>56957</td>\n",
       "    </tr>\n",
       "    <tr>\n",
       "      <th>13</th>\n",
       "      <td>13</td>\n",
       "      <td>4.1</td>\n",
       "      <td>57081</td>\n",
       "    </tr>\n",
       "    <tr>\n",
       "      <th>14</th>\n",
       "      <td>14</td>\n",
       "      <td>4.5</td>\n",
       "      <td>61111</td>\n",
       "    </tr>\n",
       "    <tr>\n",
       "      <th>15</th>\n",
       "      <td>15</td>\n",
       "      <td>4.9</td>\n",
       "      <td>67938</td>\n",
       "    </tr>\n",
       "    <tr>\n",
       "      <th>16</th>\n",
       "      <td>16</td>\n",
       "      <td>5.1</td>\n",
       "      <td>66029</td>\n",
       "    </tr>\n",
       "    <tr>\n",
       "      <th>17</th>\n",
       "      <td>17</td>\n",
       "      <td>5.3</td>\n",
       "      <td>83088</td>\n",
       "    </tr>\n",
       "    <tr>\n",
       "      <th>18</th>\n",
       "      <td>18</td>\n",
       "      <td>5.9</td>\n",
       "      <td>81363</td>\n",
       "    </tr>\n",
       "    <tr>\n",
       "      <th>19</th>\n",
       "      <td>19</td>\n",
       "      <td>6.0</td>\n",
       "      <td>93940</td>\n",
       "    </tr>\n",
       "    <tr>\n",
       "      <th>20</th>\n",
       "      <td>20</td>\n",
       "      <td>6.8</td>\n",
       "      <td>91738</td>\n",
       "    </tr>\n",
       "    <tr>\n",
       "      <th>21</th>\n",
       "      <td>21</td>\n",
       "      <td>7.1</td>\n",
       "      <td>98273</td>\n",
       "    </tr>\n",
       "    <tr>\n",
       "      <th>22</th>\n",
       "      <td>22</td>\n",
       "      <td>7.9</td>\n",
       "      <td>101302</td>\n",
       "    </tr>\n",
       "    <tr>\n",
       "      <th>23</th>\n",
       "      <td>23</td>\n",
       "      <td>8.2</td>\n",
       "      <td>113812</td>\n",
       "    </tr>\n",
       "    <tr>\n",
       "      <th>24</th>\n",
       "      <td>24</td>\n",
       "      <td>8.7</td>\n",
       "      <td>109431</td>\n",
       "    </tr>\n",
       "    <tr>\n",
       "      <th>25</th>\n",
       "      <td>25</td>\n",
       "      <td>9.0</td>\n",
       "      <td>105582</td>\n",
       "    </tr>\n",
       "    <tr>\n",
       "      <th>26</th>\n",
       "      <td>26</td>\n",
       "      <td>9.5</td>\n",
       "      <td>116969</td>\n",
       "    </tr>\n",
       "    <tr>\n",
       "      <th>27</th>\n",
       "      <td>27</td>\n",
       "      <td>9.6</td>\n",
       "      <td>112635</td>\n",
       "    </tr>\n",
       "    <tr>\n",
       "      <th>28</th>\n",
       "      <td>28</td>\n",
       "      <td>10.3</td>\n",
       "      <td>122391</td>\n",
       "    </tr>\n",
       "    <tr>\n",
       "      <th>29</th>\n",
       "      <td>29</td>\n",
       "      <td>10.5</td>\n",
       "      <td>121872</td>\n",
       "    </tr>\n",
       "    <tr>\n",
       "      <th>30</th>\n",
       "      <td>30</td>\n",
       "      <td>11.2</td>\n",
       "      <td>127345</td>\n",
       "    </tr>\n",
       "    <tr>\n",
       "      <th>31</th>\n",
       "      <td>31</td>\n",
       "      <td>11.5</td>\n",
       "      <td>126756</td>\n",
       "    </tr>\n",
       "    <tr>\n",
       "      <th>32</th>\n",
       "      <td>32</td>\n",
       "      <td>12.3</td>\n",
       "      <td>128765</td>\n",
       "    </tr>\n",
       "    <tr>\n",
       "      <th>33</th>\n",
       "      <td>33</td>\n",
       "      <td>12.9</td>\n",
       "      <td>135675</td>\n",
       "    </tr>\n",
       "    <tr>\n",
       "      <th>34</th>\n",
       "      <td>34</td>\n",
       "      <td>13.5</td>\n",
       "      <td>139465</td>\n",
       "    </tr>\n",
       "  </tbody>\n",
       "</table>\n",
       "</div>"
      ],
      "text/plain": [
       "    Unnamed: 0   exp  salary\n",
       "0            0   1.1   39343\n",
       "1            1   1.3   46205\n",
       "2            2   1.5   37731\n",
       "3            3   2.0   43525\n",
       "4            4   2.2   39891\n",
       "5            5   2.9   56642\n",
       "6            6   3.0   60150\n",
       "7            7   3.2   54445\n",
       "8            8   3.2   64445\n",
       "9            9   3.7   57189\n",
       "10          10   3.9   63218\n",
       "11          11   4.0   55794\n",
       "12          12   4.0   56957\n",
       "13          13   4.1   57081\n",
       "14          14   4.5   61111\n",
       "15          15   4.9   67938\n",
       "16          16   5.1   66029\n",
       "17          17   5.3   83088\n",
       "18          18   5.9   81363\n",
       "19          19   6.0   93940\n",
       "20          20   6.8   91738\n",
       "21          21   7.1   98273\n",
       "22          22   7.9  101302\n",
       "23          23   8.2  113812\n",
       "24          24   8.7  109431\n",
       "25          25   9.0  105582\n",
       "26          26   9.5  116969\n",
       "27          27   9.6  112635\n",
       "28          28  10.3  122391\n",
       "29          29  10.5  121872\n",
       "30          30  11.2  127345\n",
       "31          31  11.5  126756\n",
       "32          32  12.3  128765\n",
       "33          33  12.9  135675\n",
       "34          34  13.5  139465"
      ]
     },
     "execution_count": 35,
     "metadata": {},
     "output_type": "execute_result"
    }
   ],
   "source": [
    "data"
   ]
  },
  {
   "cell_type": "code",
   "execution_count": 36,
   "id": "79feabac-2a36-4933-bb53-3c636382162c",
   "metadata": {},
   "outputs": [],
   "source": [
    "data = pd.read_csv(\"Salary.csv\")"
   ]
  },
  {
   "cell_type": "code",
   "execution_count": 37,
   "id": "a4e4d2bb-1bb9-4ac5-b3ad-3449a8703cca",
   "metadata": {},
   "outputs": [
    {
     "data": {
      "text/html": [
       "<div>\n",
       "<style scoped>\n",
       "    .dataframe tbody tr th:only-of-type {\n",
       "        vertical-align: middle;\n",
       "    }\n",
       "\n",
       "    .dataframe tbody tr th {\n",
       "        vertical-align: top;\n",
       "    }\n",
       "\n",
       "    .dataframe thead th {\n",
       "        text-align: right;\n",
       "    }\n",
       "</style>\n",
       "<table border=\"1\" class=\"dataframe\">\n",
       "  <thead>\n",
       "    <tr style=\"text-align: right;\">\n",
       "      <th></th>\n",
       "      <th>Unnamed: 0</th>\n",
       "      <th>exp</th>\n",
       "      <th>salary</th>\n",
       "    </tr>\n",
       "  </thead>\n",
       "  <tbody>\n",
       "    <tr>\n",
       "      <th>0</th>\n",
       "      <td>0</td>\n",
       "      <td>1.1</td>\n",
       "      <td>39343</td>\n",
       "    </tr>\n",
       "    <tr>\n",
       "      <th>1</th>\n",
       "      <td>1</td>\n",
       "      <td>1.3</td>\n",
       "      <td>46205</td>\n",
       "    </tr>\n",
       "    <tr>\n",
       "      <th>2</th>\n",
       "      <td>2</td>\n",
       "      <td>1.5</td>\n",
       "      <td>37731</td>\n",
       "    </tr>\n",
       "    <tr>\n",
       "      <th>3</th>\n",
       "      <td>3</td>\n",
       "      <td>2.0</td>\n",
       "      <td>43525</td>\n",
       "    </tr>\n",
       "    <tr>\n",
       "      <th>4</th>\n",
       "      <td>4</td>\n",
       "      <td>2.2</td>\n",
       "      <td>39891</td>\n",
       "    </tr>\n",
       "  </tbody>\n",
       "</table>\n",
       "</div>"
      ],
      "text/plain": [
       "   Unnamed: 0  exp  salary\n",
       "0           0  1.1   39343\n",
       "1           1  1.3   46205\n",
       "2           2  1.5   37731\n",
       "3           3  2.0   43525\n",
       "4           4  2.2   39891"
      ]
     },
     "execution_count": 37,
     "metadata": {},
     "output_type": "execute_result"
    }
   ],
   "source": [
    "data.head()"
   ]
  },
  {
   "cell_type": "code",
   "execution_count": null,
   "id": "f10df643-3e5e-41b7-ad5d-e1707c5e1345",
   "metadata": {},
   "outputs": [],
   "source": [
    "data.to_csv(\"Salary.csv\")"
   ]
  },
  {
   "cell_type": "code",
   "execution_count": 38,
   "id": "24835d86-c4c2-4965-be60-8a0981883c49",
   "metadata": {},
   "outputs": [],
   "source": [
    "data = pd.read_csv(\"Salary.csv\")\n",
    "salaries = data['salary']\n",
    "years = data['exp']"
   ]
  },
  {
   "cell_type": "code",
   "execution_count": 39,
   "id": "a519c4e4-dc7c-4cde-8754-1849416a34a2",
   "metadata": {},
   "outputs": [
    {
     "data": {
      "text/html": [
       "<div>\n",
       "<style scoped>\n",
       "    .dataframe tbody tr th:only-of-type {\n",
       "        vertical-align: middle;\n",
       "    }\n",
       "\n",
       "    .dataframe tbody tr th {\n",
       "        vertical-align: top;\n",
       "    }\n",
       "\n",
       "    .dataframe thead th {\n",
       "        text-align: right;\n",
       "    }\n",
       "</style>\n",
       "<table border=\"1\" class=\"dataframe\">\n",
       "  <thead>\n",
       "    <tr style=\"text-align: right;\">\n",
       "      <th></th>\n",
       "      <th>Unnamed: 0</th>\n",
       "      <th>exp</th>\n",
       "      <th>salary</th>\n",
       "    </tr>\n",
       "  </thead>\n",
       "  <tbody>\n",
       "    <tr>\n",
       "      <th>0</th>\n",
       "      <td>0</td>\n",
       "      <td>1.1</td>\n",
       "      <td>39343</td>\n",
       "    </tr>\n",
       "    <tr>\n",
       "      <th>1</th>\n",
       "      <td>1</td>\n",
       "      <td>1.3</td>\n",
       "      <td>46205</td>\n",
       "    </tr>\n",
       "    <tr>\n",
       "      <th>2</th>\n",
       "      <td>2</td>\n",
       "      <td>1.5</td>\n",
       "      <td>37731</td>\n",
       "    </tr>\n",
       "    <tr>\n",
       "      <th>3</th>\n",
       "      <td>3</td>\n",
       "      <td>2.0</td>\n",
       "      <td>43525</td>\n",
       "    </tr>\n",
       "    <tr>\n",
       "      <th>4</th>\n",
       "      <td>4</td>\n",
       "      <td>2.2</td>\n",
       "      <td>39891</td>\n",
       "    </tr>\n",
       "  </tbody>\n",
       "</table>\n",
       "</div>"
      ],
      "text/plain": [
       "   Unnamed: 0  exp  salary\n",
       "0           0  1.1   39343\n",
       "1           1  1.3   46205\n",
       "2           2  1.5   37731\n",
       "3           3  2.0   43525\n",
       "4           4  2.2   39891"
      ]
     },
     "execution_count": 39,
     "metadata": {},
     "output_type": "execute_result"
    }
   ],
   "source": [
    "data.head()"
   ]
  },
  {
   "cell_type": "code",
   "execution_count": 40,
   "id": "6cbd490c-9879-48ba-a2a6-a72985792a2e",
   "metadata": {},
   "outputs": [
    {
     "data": {
      "text/plain": [
       "83945.6"
      ]
     },
     "execution_count": 40,
     "metadata": {},
     "output_type": "execute_result"
    }
   ],
   "source": [
    "stats.mean(salaries)"
   ]
  },
  {
   "cell_type": "code",
   "execution_count": 41,
   "id": "4c036576-a075-4e24-8751-e6b45b9645db",
   "metadata": {},
   "outputs": [
    {
     "data": {
      "text/plain": [
       "81363"
      ]
     },
     "execution_count": 41,
     "metadata": {},
     "output_type": "execute_result"
    }
   ],
   "source": [
    "stats.median(salaries)"
   ]
  },
  {
   "cell_type": "code",
   "execution_count": 42,
   "id": "d514cb27-52f5-4af4-9fd0-b9d6447a8923",
   "metadata": {},
   "outputs": [
    {
     "data": {
      "text/plain": [
       "1034437534.7176471"
      ]
     },
     "execution_count": 42,
     "metadata": {},
     "output_type": "execute_result"
    }
   ],
   "source": [
    "stats.variance(salaries)"
   ]
  },
  {
   "cell_type": "code",
   "execution_count": 43,
   "id": "3dc2b720-e6ab-43c0-b4e4-20b367e4f48c",
   "metadata": {},
   "outputs": [
    {
     "data": {
      "text/plain": [
       "32162.67300330691"
      ]
     },
     "execution_count": 43,
     "metadata": {},
     "output_type": "execute_result"
    }
   ],
   "source": [
    "stats.stdev(salaries)"
   ]
  },
  {
   "cell_type": "code",
   "execution_count": 44,
   "id": "33b03bd8-211e-4277-a9bf-7b059c37e109",
   "metadata": {},
   "outputs": [
    {
     "data": {
      "text/plain": [
       "0.1999389188655196"
      ]
     },
     "execution_count": 44,
     "metadata": {},
     "output_type": "execute_result"
    }
   ],
   "source": [
    "ss.skew(salaries)"
   ]
  },
  {
   "cell_type": "code",
   "execution_count": 45,
   "id": "146ee0bc-9563-4224-acdb-3fd5e54bf091",
   "metadata": {},
   "outputs": [
    {
     "data": {
      "text/plain": [
       "-1.3904143013696357"
      ]
     },
     "execution_count": 45,
     "metadata": {},
     "output_type": "execute_result"
    }
   ],
   "source": [
    "ss.kurtosis(salaries)"
   ]
  },
  {
   "cell_type": "code",
   "execution_count": 46,
   "id": "6be5c7f5-f9f7-4f63-aade-75ff3acbd40e",
   "metadata": {},
   "outputs": [
    {
     "data": {
      "text/plain": [
       "56204.5"
      ]
     },
     "execution_count": 46,
     "metadata": {},
     "output_type": "execute_result"
    }
   ],
   "source": [
    "ss.iqr(salaries)"
   ]
  },
  {
   "cell_type": "code",
   "execution_count": 47,
   "id": "ab70d592-9d10-4cbb-9cb7-7b6693629071",
   "metadata": {},
   "outputs": [
    {
     "data": {
      "text/plain": [
       "<AxesSubplot:xlabel='salary', ylabel='Density'>"
      ]
     },
     "execution_count": 47,
     "metadata": {},
     "output_type": "execute_result"
    },
    {
     "data": {
      "image/png": "[encoded data removed]",
      "text/plain": [
       "<Figure size 432x288 with 1 Axes>"
      ]
     },
     "metadata": {
      "needs_background": "light"
     },
     "output_type": "display_data"
    }
   ],
   "source": [
    "sb.kdeplot(salaries)"
   ]
  },
  {
   "cell_type": "code",
   "execution_count": 48,
   "id": "f73791fc-3e9f-4e93-8dd0-3aa5208813c6",
   "metadata": {},
   "outputs": [
    {
     "data": {
      "text/plain": [
       "<AxesSubplot:xlabel='exp', ylabel='Density'>"
      ]
     },
     "execution_count": 48,
     "metadata": {},
     "output_type": "execute_result"
    },
    {
     "data": {
      "image/png": "[encoded data removed]",
      "text/plain": [
       "<Figure size 432x288 with 1 Axes>"
      ]
     },
     "metadata": {
      "needs_background": "light"
     },
     "output_type": "display_data"
    }
   ],
   "source": [
    "sb.kdeplot(years)"
   ]
  },
  {
   "cell_type": "code",
   "execution_count": 49,
   "id": "b2911677-0a14-4378-95ea-d9c98dceedc3",
   "metadata": {},
   "outputs": [],
   "source": [
    "r, p = ss.pearsonr(years, salaries)"
   ]
  },
  {
   "cell_type": "code",
   "execution_count": 50,
   "id": "4047168c-ee7d-4f40-9a04-a597e2517f8c",
   "metadata": {},
   "outputs": [
    {
     "name": "stdout",
     "output_type": "stream",
     "text": [
      " 0.982427,  0.000000\n"
     ]
    }
   ],
   "source": [
    "print(f\"{r : 2f}, {p : 6f}\")"
   ]
  },
  {
   "cell_type": "code",
   "execution_count": 51,
   "id": "c14304bb-38b8-4933-b266-f1f46e1ff8e8",
   "metadata": {},
   "outputs": [
    {
     "data": {
      "text/plain": [
       "<AxesSubplot:xlabel='exp', ylabel='salary'>"
      ]
     },
     "execution_count": 51,
     "metadata": {},
     "output_type": "execute_result"
    },
    {
     "data": {
      "image/png": "[encoded data removed]",
      "text/plain": [
       "<Figure size 432x288 with 1 Axes>"
      ]
     },
     "metadata": {
      "needs_background": "light"
     },
     "output_type": "display_data"
    }
   ],
   "source": [
    "sb.scatterplot(data = data, x = \"exp\", y = \"salary\")"
   ]
  },
  {
   "cell_type": "code",
   "execution_count": 52,
   "id": "76c2f0a3-b6c3-4def-9d74-2dde5fec3260",
   "metadata": {},
   "outputs": [
    {
     "data": {
      "text/plain": [
       "LinregressResult(slope=8731.941047062492, intercept=28859.526194531478, rvalue=0.9824272546479683, pvalue=1.2309905889928102e-25, stderr=288.78315746221443, intercept_stderr=2092.7971310998655)"
      ]
     },
     "execution_count": 52,
     "metadata": {},
     "output_type": "execute_result"
    }
   ],
   "source": [
    "lr = ss.linregress(years, salaries)\n",
    "lr"
   ]
  },
  {
   "cell_type": "code",
   "execution_count": 53,
   "id": "08f33000-5457-489d-9512-d0582fffbbcb",
   "metadata": {},
   "outputs": [],
   "source": [
    "yexp = [2, 8, 6, 5, 4]\n",
    "exp_sals = []\n",
    "for x in yexp:\n",
    "    exp_sals.append(lr.intercept + x * lr.slope)"
   ]
  },
  {
   "cell_type": "code",
   "execution_count": 54,
   "id": "148b8d8c-be79-4fb0-943d-91af6addeb50",
   "metadata": {},
   "outputs": [
    {
     "data": {
      "text/plain": [
       "[46323.40828865646,\n",
       " 98715.05457103142,\n",
       " 81251.17247690642,\n",
       " 72519.23142984393,\n",
       " 63787.290382781444]"
      ]
     },
     "execution_count": 54,
     "metadata": {},
     "output_type": "execute_result"
    }
   ],
   "source": [
    "exp_sals"
   ]
  },
  {
   "cell_type": "markdown",
   "id": "9c9bde8e-0186-4a7d-894c-c981756c97a9",
   "metadata": {},
   "source": [
    "### COMPARE ACTUAL WITH EXPECTED"
   ]
  },
  {
   "cell_type": "code",
   "execution_count": 55,
   "id": "c21db7a1-7838-453a-adf9-9f93ababff31",
   "metadata": {},
   "outputs": [],
   "source": [
    "exp_sals = []\n",
    "for exp in years:\n",
    "   exp_sals.append(lr.intercept + exp * lr.slope)"
   ]
  },
  {
   "cell_type": "code",
   "execution_count": 56,
   "id": "c7fee808-b01e-48fb-b43e-c0618386deb4",
   "metadata": {},
   "outputs": [],
   "source": [
    "ds = pd.DataFrame( {'exp' : years, 'exp_sal' : exp_sals, 'act_sal' : salaries})"
   ]
  },
  {
   "cell_type": "code",
   "execution_count": 57,
   "id": "0b87ec73-8265-49ca-9bad-48a68b5074a7",
   "metadata": {},
   "outputs": [
    {
     "data": {
      "text/html": [
       "<div>\n",
       "<style scoped>\n",
       "    .dataframe tbody tr th:only-of-type {\n",
       "        vertical-align: middle;\n",
       "    }\n",
       "\n",
       "    .dataframe tbody tr th {\n",
       "        vertical-align: top;\n",
       "    }\n",
       "\n",
       "    .dataframe thead th {\n",
       "        text-align: right;\n",
       "    }\n",
       "</style>\n",
       "<table border=\"1\" class=\"dataframe\">\n",
       "  <thead>\n",
       "    <tr style=\"text-align: right;\">\n",
       "      <th></th>\n",
       "      <th>exp</th>\n",
       "      <th>exp_sal</th>\n",
       "      <th>act_sal</th>\n",
       "    </tr>\n",
       "  </thead>\n",
       "  <tbody>\n",
       "    <tr>\n",
       "      <th>0</th>\n",
       "      <td>1.1</td>\n",
       "      <td>38464.661346</td>\n",
       "      <td>39343</td>\n",
       "    </tr>\n",
       "    <tr>\n",
       "      <th>1</th>\n",
       "      <td>1.3</td>\n",
       "      <td>40211.049556</td>\n",
       "      <td>46205</td>\n",
       "    </tr>\n",
       "    <tr>\n",
       "      <th>2</th>\n",
       "      <td>1.5</td>\n",
       "      <td>41957.437765</td>\n",
       "      <td>37731</td>\n",
       "    </tr>\n",
       "    <tr>\n",
       "      <th>3</th>\n",
       "      <td>2.0</td>\n",
       "      <td>46323.408289</td>\n",
       "      <td>43525</td>\n",
       "    </tr>\n",
       "    <tr>\n",
       "      <th>4</th>\n",
       "      <td>2.2</td>\n",
       "      <td>48069.796498</td>\n",
       "      <td>39891</td>\n",
       "    </tr>\n",
       "  </tbody>\n",
       "</table>\n",
       "</div>"
      ],
      "text/plain": [
       "   exp       exp_sal  act_sal\n",
       "0  1.1  38464.661346    39343\n",
       "1  1.3  40211.049556    46205\n",
       "2  1.5  41957.437765    37731\n",
       "3  2.0  46323.408289    43525\n",
       "4  2.2  48069.796498    39891"
      ]
     },
     "execution_count": 57,
     "metadata": {},
     "output_type": "execute_result"
    }
   ],
   "source": [
    "ds.head()"
   ]
  },
  {
   "cell_type": "code",
   "execution_count": 58,
   "id": "989d6e0a-af8e-4400-a831-0b420119d9d4",
   "metadata": {},
   "outputs": [
    {
     "data": {
      "text/plain": [
       "<AxesSubplot:xlabel='exp', ylabel='act_sal'>"
      ]
     },
     "execution_count": 58,
     "metadata": {},
     "output_type": "execute_result"
    },
    {
     "data": {
      "image/png": "[encoded data removed]",
      "text/plain": [
       "<Figure size 432x288 with 1 Axes>"
      ]
     },
     "metadata": {
      "needs_background": "light"
     },
     "output_type": "display_data"
    }
   ],
   "source": [
    "# COMPARE EXP WITH ACTUAL\n",
    "sb.scatterplot(x = \"exp\", y = \"act_sal\", data = ds)\n",
    "sb.lineplot(x = \"exp\", y = \"exp_sal\", data = ds)"
   ]
  },
  {
   "cell_type": "code",
   "execution_count": 59,
   "id": "bbb29ad1-a258-4a96-9a15-3ac59c59a3cb",
   "metadata": {},
   "outputs": [],
   "source": [
    "marks = [1, 2, 3, 4, 5, 5, 7, 8, 9, 10]"
   ]
  },
  {
   "cell_type": "code",
   "execution_count": 61,
   "id": "be9eeab6-ae33-458c-8146-d8b7bebeb729",
   "metadata": {},
   "outputs": [
    {
     "data": {
      "text/plain": [
       "5.0"
      ]
     },
     "execution_count": 61,
     "metadata": {},
     "output_type": "execute_result"
    }
   ],
   "source": [
    "s.median(marks)"
   ]
  },
  {
   "cell_type": "code",
   "execution_count": null,
   "id": "66191a43-55eb-48ad-b74e-94d494494586",
   "metadata": {},
   "outputs": [],
   "source": []
  }
 ],
 "metadata": {
  "kernelspec": {
   "display_name": "Python 3 (ipykernel)",
   "language": "python",
   "name": "python3"
  },
  "language_info": {
   "codemirror_mode": {
    "name": "ipython",
    "version": 3
   },
   "file_extension": ".py",
   "mimetype": "text/x-python",
   "name": "python",
   "nbconvert_exporter": "python",
   "pygments_lexer": "ipython3",
   "version": "3.9.12"
  }
 },
 "nbformat": 4,
 "nbformat_minor": 5
}
